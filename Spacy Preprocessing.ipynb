{
 "cells": [
  {
   "cell_type": "markdown",
   "id": "deb3c084",
   "metadata": {},
   "source": [
    "Dataset: https://www.kaggle.com/datasets/kazanova/sentiment140"
   ]
  },
  {
   "cell_type": "code",
   "execution_count": 1,
   "id": "8520f04b",
   "metadata": {
    "ExecuteTime": {
     "end_time": "2022-10-07T13:16:50.853632Z",
     "start_time": "2022-10-07T13:16:50.851092Z"
    },
    "code_folding": []
   },
   "outputs": [],
   "source": [
    "# pip install -U spacy\n",
    "# pip install -U spacy-lookups-data\n",
    "# python -m spacy download en_core_web_sm\n",
    "# python -m spacy download en_core_web_md\n",
    "# python -m spacy download en_core_web_lg"
   ]
  },
  {
   "cell_type": "markdown",
   "id": "b794fe7e",
   "metadata": {
    "heading_collapsed": true
   },
   "source": [
    "### General Feature Extraction\n",
    "   - File loading\n",
    "   - Word counts\n",
    "   - Characters count\n",
    "   - Average characters per word\n",
    "   - Stop words count\n",
    "   - Count #Hash Tags and @Mentions\n",
    "   - if Numeric digits are present in twits\n",
    "   - Upper case word counts\n",
    "\n"
   ]
  },
  {
   "cell_type": "markdown",
   "id": "2c3ea529",
   "metadata": {
    "ExecuteTime": {
     "end_time": "2022-09-23T14:23:10.601874Z",
     "start_time": "2022-09-23T14:23:10.596282Z"
    }
   },
   "source": [
    "###  Preprocessing and Cleaning\n",
    "   -  Lower case\n",
    "   -  Contraction to Expansion\n",
    "   -  Email removal and counts\n",
    "   -  URLs removal and counts\n",
    "   -  Removal of RT\n",
    "   -  Removal of Special Characters\n",
    "   -  Removal of multiple spaces\n",
    "   -  Removal of HTML tags\n",
    "   -  Removal of accented characters\n",
    "   -  Removal of stop Words\n",
    "   -  Conversion into base form of words\n",
    "   -  Common Occurring words Removal\n",
    "   -  Rare Occurring words Removal\n",
    "   -  Word Cloud\n",
    "   -  Spelling Correction\n",
    "   -  Tokenization \n",
    "   -  Lemmatization\n",
    "   -  Detecting Entities using NER\n",
    "   -  Noun Detection\n",
    "   -  Sentence Translation\n",
    "   -  Using inbuilt `Sentiment Classifier`"
   ]
  },
  {
   "cell_type": "markdown",
   "id": "002be3a3",
   "metadata": {},
   "source": [
    "### Advanced Text Processing and Feature Extraction\n",
    "   - N-Gram, Bi-Gram etc\n",
    "   - Bag of Words (BoW)\n",
    "   - Term Frequency Calculation <mark>TF</mark>\n",
    "   - Inverse Document Frequency <mark>IDF</mark>\n",
    "   - `TF-IDF` Term Frequency-Inverse Document Frequency    \n",
    "   - Word Embedding `Word2Vec` using Spacy"
   ]
  },
  {
   "cell_type": "markdown",
   "id": "1a974985",
   "metadata": {},
   "source": [
    "### Machine Learning Models for Text Classification\n",
    "   - SGDClassifier\n",
    "   - LogisticRegression\n",
    "   - LogisticRegressionCV\n",
    "   - LinearSVC\n",
    "   - RandomForestClassifier"
   ]
  },
  {
   "cell_type": "code",
   "execution_count": 2,
   "id": "81f90066",
   "metadata": {
    "ExecuteTime": {
     "end_time": "2022-10-07T13:16:51.198415Z",
     "start_time": "2022-10-07T13:16:50.855312Z"
    }
   },
   "outputs": [],
   "source": [
    "import numpy as np\n",
    "import pandas as pd"
   ]
  },
  {
   "cell_type": "code",
   "execution_count": null,
   "id": "16c4a8ce",
   "metadata": {
    "ExecuteTime": {
     "end_time": "2022-09-25T06:03:43.139099Z",
     "start_time": "2022-09-25T06:03:41.706029Z"
    }
   },
   "outputs": [],
   "source": []
  },
  {
   "cell_type": "code",
   "execution_count": 3,
   "id": "863ba066",
   "metadata": {
    "ExecuteTime": {
     "end_time": "2022-10-07T13:16:51.202819Z",
     "start_time": "2022-10-07T13:16:51.200334Z"
    }
   },
   "outputs": [],
   "source": [
    "pd.set_option('display.max_colwidth', None)"
   ]
  },
  {
   "cell_type": "code",
   "execution_count": 4,
   "id": "0c632ab8",
   "metadata": {
    "ExecuteTime": {
     "end_time": "2022-10-07T13:16:54.282940Z",
     "start_time": "2022-10-07T13:16:51.204317Z"
    }
   },
   "outputs": [],
   "source": [
    "df = pd.read_csv('twitter16m.csv', encoding='latin1', header=None )"
   ]
  },
  {
   "cell_type": "code",
   "execution_count": 5,
   "id": "9164c665",
   "metadata": {
    "ExecuteTime": {
     "end_time": "2022-10-07T13:16:54.306493Z",
     "start_time": "2022-10-07T13:16:54.285121Z"
    }
   },
   "outputs": [
    {
     "data": {
      "text/html": [
       "<div>\n",
       "<style scoped>\n",
       "    .dataframe tbody tr th:only-of-type {\n",
       "        vertical-align: middle;\n",
       "    }\n",
       "\n",
       "    .dataframe tbody tr th {\n",
       "        vertical-align: top;\n",
       "    }\n",
       "\n",
       "    .dataframe thead th {\n",
       "        text-align: right;\n",
       "    }\n",
       "</style>\n",
       "<table border=\"1\" class=\"dataframe\">\n",
       "  <thead>\n",
       "    <tr style=\"text-align: right;\">\n",
       "      <th></th>\n",
       "      <th>0</th>\n",
       "      <th>1</th>\n",
       "      <th>2</th>\n",
       "      <th>3</th>\n",
       "      <th>4</th>\n",
       "      <th>5</th>\n",
       "    </tr>\n",
       "  </thead>\n",
       "  <tbody>\n",
       "    <tr>\n",
       "      <th>0</th>\n",
       "      <td>0</td>\n",
       "      <td>1467810369</td>\n",
       "      <td>Mon Apr 06 22:19:45 PDT 2009</td>\n",
       "      <td>NO_QUERY</td>\n",
       "      <td>_TheSpecialOne_</td>\n",
       "      <td>@switchfoot http://twitpic.com/2y1zl - Awww, that's a bummer.  You shoulda got David Carr of Third Day to do it. ;D</td>\n",
       "    </tr>\n",
       "    <tr>\n",
       "      <th>1</th>\n",
       "      <td>0</td>\n",
       "      <td>1467810672</td>\n",
       "      <td>Mon Apr 06 22:19:49 PDT 2009</td>\n",
       "      <td>NO_QUERY</td>\n",
       "      <td>scotthamilton</td>\n",
       "      <td>is upset that he can't update his Facebook by texting it... and might cry as a result  School today also. Blah!</td>\n",
       "    </tr>\n",
       "    <tr>\n",
       "      <th>2</th>\n",
       "      <td>0</td>\n",
       "      <td>1467810917</td>\n",
       "      <td>Mon Apr 06 22:19:53 PDT 2009</td>\n",
       "      <td>NO_QUERY</td>\n",
       "      <td>mattycus</td>\n",
       "      <td>@Kenichan I dived many times for the ball. Managed to save 50%  The rest go out of bounds</td>\n",
       "    </tr>\n",
       "    <tr>\n",
       "      <th>3</th>\n",
       "      <td>0</td>\n",
       "      <td>1467811184</td>\n",
       "      <td>Mon Apr 06 22:19:57 PDT 2009</td>\n",
       "      <td>NO_QUERY</td>\n",
       "      <td>ElleCTF</td>\n",
       "      <td>my whole body feels itchy and like its on fire</td>\n",
       "    </tr>\n",
       "    <tr>\n",
       "      <th>4</th>\n",
       "      <td>0</td>\n",
       "      <td>1467811193</td>\n",
       "      <td>Mon Apr 06 22:19:57 PDT 2009</td>\n",
       "      <td>NO_QUERY</td>\n",
       "      <td>Karoli</td>\n",
       "      <td>@nationwideclass no, it's not behaving at all. i'm mad. why am i here? because I can't see you all over there.</td>\n",
       "    </tr>\n",
       "  </tbody>\n",
       "</table>\n",
       "</div>"
      ],
      "text/plain": [
       "   0           1                             2         3                4  \\\n",
       "0  0  1467810369  Mon Apr 06 22:19:45 PDT 2009  NO_QUERY  _TheSpecialOne_   \n",
       "1  0  1467810672  Mon Apr 06 22:19:49 PDT 2009  NO_QUERY    scotthamilton   \n",
       "2  0  1467810917  Mon Apr 06 22:19:53 PDT 2009  NO_QUERY         mattycus   \n",
       "3  0  1467811184  Mon Apr 06 22:19:57 PDT 2009  NO_QUERY          ElleCTF   \n",
       "4  0  1467811193  Mon Apr 06 22:19:57 PDT 2009  NO_QUERY           Karoli   \n",
       "\n",
       "                                                                                                                     5  \n",
       "0  @switchfoot http://twitpic.com/2y1zl - Awww, that's a bummer.  You shoulda got David Carr of Third Day to do it. ;D  \n",
       "1      is upset that he can't update his Facebook by texting it... and might cry as a result  School today also. Blah!  \n",
       "2                            @Kenichan I dived many times for the ball. Managed to save 50%  The rest go out of bounds  \n",
       "3                                                                      my whole body feels itchy and like its on fire   \n",
       "4      @nationwideclass no, it's not behaving at all. i'm mad. why am i here? because I can't see you all over there.   "
      ]
     },
     "execution_count": 5,
     "metadata": {},
     "output_type": "execute_result"
    }
   ],
   "source": [
    "df.head()"
   ]
  },
  {
   "cell_type": "code",
   "execution_count": 6,
   "id": "1778e90a",
   "metadata": {
    "ExecuteTime": {
     "end_time": "2022-10-07T13:16:54.339747Z",
     "start_time": "2022-10-07T13:16:54.308796Z"
    }
   },
   "outputs": [],
   "source": [
    "df = df[[5,0]]\n",
    "df.columns = ['tweets', 'sentiment']"
   ]
  },
  {
   "cell_type": "code",
   "execution_count": 7,
   "id": "80075e61",
   "metadata": {
    "ExecuteTime": {
     "end_time": "2022-10-07T13:16:54.348688Z",
     "start_time": "2022-10-07T13:16:54.341295Z"
    }
   },
   "outputs": [
    {
     "data": {
      "text/html": [
       "<div>\n",
       "<style scoped>\n",
       "    .dataframe tbody tr th:only-of-type {\n",
       "        vertical-align: middle;\n",
       "    }\n",
       "\n",
       "    .dataframe tbody tr th {\n",
       "        vertical-align: top;\n",
       "    }\n",
       "\n",
       "    .dataframe thead th {\n",
       "        text-align: right;\n",
       "    }\n",
       "</style>\n",
       "<table border=\"1\" class=\"dataframe\">\n",
       "  <thead>\n",
       "    <tr style=\"text-align: right;\">\n",
       "      <th></th>\n",
       "      <th>tweets</th>\n",
       "      <th>sentiment</th>\n",
       "    </tr>\n",
       "  </thead>\n",
       "  <tbody>\n",
       "    <tr>\n",
       "      <th>0</th>\n",
       "      <td>@switchfoot http://twitpic.com/2y1zl - Awww, that's a bummer.  You shoulda got David Carr of Third Day to do it. ;D</td>\n",
       "      <td>0</td>\n",
       "    </tr>\n",
       "    <tr>\n",
       "      <th>1</th>\n",
       "      <td>is upset that he can't update his Facebook by texting it... and might cry as a result  School today also. Blah!</td>\n",
       "      <td>0</td>\n",
       "    </tr>\n",
       "    <tr>\n",
       "      <th>2</th>\n",
       "      <td>@Kenichan I dived many times for the ball. Managed to save 50%  The rest go out of bounds</td>\n",
       "      <td>0</td>\n",
       "    </tr>\n",
       "    <tr>\n",
       "      <th>3</th>\n",
       "      <td>my whole body feels itchy and like its on fire</td>\n",
       "      <td>0</td>\n",
       "    </tr>\n",
       "    <tr>\n",
       "      <th>4</th>\n",
       "      <td>@nationwideclass no, it's not behaving at all. i'm mad. why am i here? because I can't see you all over there.</td>\n",
       "      <td>0</td>\n",
       "    </tr>\n",
       "  </tbody>\n",
       "</table>\n",
       "</div>"
      ],
      "text/plain": [
       "                                                                                                                tweets  \\\n",
       "0  @switchfoot http://twitpic.com/2y1zl - Awww, that's a bummer.  You shoulda got David Carr of Third Day to do it. ;D   \n",
       "1      is upset that he can't update his Facebook by texting it... and might cry as a result  School today also. Blah!   \n",
       "2                            @Kenichan I dived many times for the ball. Managed to save 50%  The rest go out of bounds   \n",
       "3                                                                      my whole body feels itchy and like its on fire    \n",
       "4      @nationwideclass no, it's not behaving at all. i'm mad. why am i here? because I can't see you all over there.    \n",
       "\n",
       "   sentiment  \n",
       "0          0  \n",
       "1          0  \n",
       "2          0  \n",
       "3          0  \n",
       "4          0  "
      ]
     },
     "execution_count": 7,
     "metadata": {},
     "output_type": "execute_result"
    }
   ],
   "source": [
    "df.head()"
   ]
  },
  {
   "cell_type": "code",
   "execution_count": 8,
   "id": "ac747919",
   "metadata": {
    "ExecuteTime": {
     "end_time": "2022-10-07T13:16:54.362623Z",
     "start_time": "2022-10-07T13:16:54.350767Z"
    }
   },
   "outputs": [
    {
     "data": {
      "text/plain": [
       "0    800000\n",
       "4    800000\n",
       "Name: sentiment, dtype: int64"
      ]
     },
     "execution_count": 8,
     "metadata": {},
     "output_type": "execute_result"
    }
   ],
   "source": [
    "# count unique value of a column\n",
    "df['sentiment'].value_counts()"
   ]
  },
  {
   "cell_type": "code",
   "execution_count": 9,
   "id": "267c71f8",
   "metadata": {
    "ExecuteTime": {
     "end_time": "2022-10-07T13:16:54.367421Z",
     "start_time": "2022-10-07T13:16:54.365043Z"
    }
   },
   "outputs": [],
   "source": [
    "sent_map = {0: 'negative', 4:'positive'}"
   ]
  },
  {
   "cell_type": "markdown",
   "id": "d5239ff8",
   "metadata": {},
   "source": [
    "##### Word counts"
   ]
  },
  {
   "cell_type": "code",
   "execution_count": 10,
   "id": "6fa89243",
   "metadata": {
    "ExecuteTime": {
     "end_time": "2022-10-07T13:16:55.745978Z",
     "start_time": "2022-10-07T13:16:54.368883Z"
    }
   },
   "outputs": [],
   "source": [
    "# lambda function take input row by row in 'x' variable.\n",
    "# some value may have numeric value that's why we use 'str()'\n",
    "df['word_counts'] = df['tweets'].apply(lambda x: len(str(x).split())) "
   ]
  },
  {
   "cell_type": "code",
   "execution_count": 11,
   "id": "66f91205",
   "metadata": {
    "ExecuteTime": {
     "end_time": "2022-10-07T13:16:55.753641Z",
     "start_time": "2022-10-07T13:16:55.747382Z"
    }
   },
   "outputs": [
    {
     "data": {
      "text/html": [
       "<div>\n",
       "<style scoped>\n",
       "    .dataframe tbody tr th:only-of-type {\n",
       "        vertical-align: middle;\n",
       "    }\n",
       "\n",
       "    .dataframe tbody tr th {\n",
       "        vertical-align: top;\n",
       "    }\n",
       "\n",
       "    .dataframe thead th {\n",
       "        text-align: right;\n",
       "    }\n",
       "</style>\n",
       "<table border=\"1\" class=\"dataframe\">\n",
       "  <thead>\n",
       "    <tr style=\"text-align: right;\">\n",
       "      <th></th>\n",
       "      <th>tweets</th>\n",
       "      <th>sentiment</th>\n",
       "      <th>word_counts</th>\n",
       "    </tr>\n",
       "  </thead>\n",
       "  <tbody>\n",
       "    <tr>\n",
       "      <th>0</th>\n",
       "      <td>@switchfoot http://twitpic.com/2y1zl - Awww, that's a bummer.  You shoulda got David Carr of Third Day to do it. ;D</td>\n",
       "      <td>0</td>\n",
       "      <td>19</td>\n",
       "    </tr>\n",
       "    <tr>\n",
       "      <th>1</th>\n",
       "      <td>is upset that he can't update his Facebook by texting it... and might cry as a result  School today also. Blah!</td>\n",
       "      <td>0</td>\n",
       "      <td>21</td>\n",
       "    </tr>\n",
       "    <tr>\n",
       "      <th>2</th>\n",
       "      <td>@Kenichan I dived many times for the ball. Managed to save 50%  The rest go out of bounds</td>\n",
       "      <td>0</td>\n",
       "      <td>18</td>\n",
       "    </tr>\n",
       "    <tr>\n",
       "      <th>3</th>\n",
       "      <td>my whole body feels itchy and like its on fire</td>\n",
       "      <td>0</td>\n",
       "      <td>10</td>\n",
       "    </tr>\n",
       "    <tr>\n",
       "      <th>4</th>\n",
       "      <td>@nationwideclass no, it's not behaving at all. i'm mad. why am i here? because I can't see you all over there.</td>\n",
       "      <td>0</td>\n",
       "      <td>21</td>\n",
       "    </tr>\n",
       "  </tbody>\n",
       "</table>\n",
       "</div>"
      ],
      "text/plain": [
       "                                                                                                                tweets  \\\n",
       "0  @switchfoot http://twitpic.com/2y1zl - Awww, that's a bummer.  You shoulda got David Carr of Third Day to do it. ;D   \n",
       "1      is upset that he can't update his Facebook by texting it... and might cry as a result  School today also. Blah!   \n",
       "2                            @Kenichan I dived many times for the ball. Managed to save 50%  The rest go out of bounds   \n",
       "3                                                                      my whole body feels itchy and like its on fire    \n",
       "4      @nationwideclass no, it's not behaving at all. i'm mad. why am i here? because I can't see you all over there.    \n",
       "\n",
       "   sentiment  word_counts  \n",
       "0          0           19  \n",
       "1          0           21  \n",
       "2          0           18  \n",
       "3          0           10  \n",
       "4          0           21  "
      ]
     },
     "execution_count": 11,
     "metadata": {},
     "output_type": "execute_result"
    }
   ],
   "source": [
    "df.head()"
   ]
  },
  {
   "cell_type": "markdown",
   "id": "2c98d3fa",
   "metadata": {},
   "source": [
    "##### Characters count"
   ]
  },
  {
   "cell_type": "code",
   "execution_count": 12,
   "id": "8fb1e9ec",
   "metadata": {
    "ExecuteTime": {
     "end_time": "2022-10-07T13:16:56.148645Z",
     "start_time": "2022-10-07T13:16:55.755082Z"
    }
   },
   "outputs": [],
   "source": [
    "df['char_counts'] = df['tweets'].apply(lambda x: len(x))"
   ]
  },
  {
   "cell_type": "code",
   "execution_count": 13,
   "id": "0a409e19",
   "metadata": {
    "ExecuteTime": {
     "end_time": "2022-10-07T13:16:56.156992Z",
     "start_time": "2022-10-07T13:16:56.150244Z"
    }
   },
   "outputs": [
    {
     "data": {
      "text/html": [
       "<div>\n",
       "<style scoped>\n",
       "    .dataframe tbody tr th:only-of-type {\n",
       "        vertical-align: middle;\n",
       "    }\n",
       "\n",
       "    .dataframe tbody tr th {\n",
       "        vertical-align: top;\n",
       "    }\n",
       "\n",
       "    .dataframe thead th {\n",
       "        text-align: right;\n",
       "    }\n",
       "</style>\n",
       "<table border=\"1\" class=\"dataframe\">\n",
       "  <thead>\n",
       "    <tr style=\"text-align: right;\">\n",
       "      <th></th>\n",
       "      <th>tweets</th>\n",
       "      <th>sentiment</th>\n",
       "      <th>word_counts</th>\n",
       "      <th>char_counts</th>\n",
       "    </tr>\n",
       "  </thead>\n",
       "  <tbody>\n",
       "    <tr>\n",
       "      <th>0</th>\n",
       "      <td>@switchfoot http://twitpic.com/2y1zl - Awww, that's a bummer.  You shoulda got David Carr of Third Day to do it. ;D</td>\n",
       "      <td>0</td>\n",
       "      <td>19</td>\n",
       "      <td>115</td>\n",
       "    </tr>\n",
       "    <tr>\n",
       "      <th>1</th>\n",
       "      <td>is upset that he can't update his Facebook by texting it... and might cry as a result  School today also. Blah!</td>\n",
       "      <td>0</td>\n",
       "      <td>21</td>\n",
       "      <td>111</td>\n",
       "    </tr>\n",
       "    <tr>\n",
       "      <th>2</th>\n",
       "      <td>@Kenichan I dived many times for the ball. Managed to save 50%  The rest go out of bounds</td>\n",
       "      <td>0</td>\n",
       "      <td>18</td>\n",
       "      <td>89</td>\n",
       "    </tr>\n",
       "    <tr>\n",
       "      <th>3</th>\n",
       "      <td>my whole body feels itchy and like its on fire</td>\n",
       "      <td>0</td>\n",
       "      <td>10</td>\n",
       "      <td>47</td>\n",
       "    </tr>\n",
       "    <tr>\n",
       "      <th>4</th>\n",
       "      <td>@nationwideclass no, it's not behaving at all. i'm mad. why am i here? because I can't see you all over there.</td>\n",
       "      <td>0</td>\n",
       "      <td>21</td>\n",
       "      <td>111</td>\n",
       "    </tr>\n",
       "  </tbody>\n",
       "</table>\n",
       "</div>"
      ],
      "text/plain": [
       "                                                                                                                tweets  \\\n",
       "0  @switchfoot http://twitpic.com/2y1zl - Awww, that's a bummer.  You shoulda got David Carr of Third Day to do it. ;D   \n",
       "1      is upset that he can't update his Facebook by texting it... and might cry as a result  School today also. Blah!   \n",
       "2                            @Kenichan I dived many times for the ball. Managed to save 50%  The rest go out of bounds   \n",
       "3                                                                      my whole body feels itchy and like its on fire    \n",
       "4      @nationwideclass no, it's not behaving at all. i'm mad. why am i here? because I can't see you all over there.    \n",
       "\n",
       "   sentiment  word_counts  char_counts  \n",
       "0          0           19          115  \n",
       "1          0           21          111  \n",
       "2          0           18           89  \n",
       "3          0           10           47  \n",
       "4          0           21          111  "
      ]
     },
     "execution_count": 13,
     "metadata": {},
     "output_type": "execute_result"
    }
   ],
   "source": [
    "df.head()"
   ]
  },
  {
   "cell_type": "markdown",
   "id": "1d470203",
   "metadata": {},
   "source": [
    "##### Average characters per word ( average word length)"
   ]
  },
  {
   "cell_type": "code",
   "execution_count": 14,
   "id": "7e6ee6d9",
   "metadata": {
    "ExecuteTime": {
     "end_time": "2022-10-07T13:16:56.166250Z",
     "start_time": "2022-10-07T13:16:56.158799Z"
    }
   },
   "outputs": [],
   "source": [
    "def get_average_word_len(x):\n",
    "    words = x.split()\n",
    "    word_len = 0\n",
    "    for word in words:\n",
    "        word_len += len(word)\n",
    "    return word_len/len(words) # != len(x)/len(words)"
   ]
  },
  {
   "cell_type": "code",
   "execution_count": 15,
   "id": "7b534249",
   "metadata": {
    "ExecuteTime": {
     "end_time": "2022-10-07T13:16:58.291696Z",
     "start_time": "2022-10-07T13:16:56.168691Z"
    }
   },
   "outputs": [],
   "source": [
    "df['avg_word_len'] = df['tweets'].apply(lambda x: get_average_word_len(x))"
   ]
  },
  {
   "cell_type": "code",
   "execution_count": 16,
   "id": "b8e8bc7f",
   "metadata": {
    "ExecuteTime": {
     "end_time": "2022-10-07T13:16:58.300069Z",
     "start_time": "2022-10-07T13:16:58.292917Z"
    }
   },
   "outputs": [
    {
     "data": {
      "text/html": [
       "<div>\n",
       "<style scoped>\n",
       "    .dataframe tbody tr th:only-of-type {\n",
       "        vertical-align: middle;\n",
       "    }\n",
       "\n",
       "    .dataframe tbody tr th {\n",
       "        vertical-align: top;\n",
       "    }\n",
       "\n",
       "    .dataframe thead th {\n",
       "        text-align: right;\n",
       "    }\n",
       "</style>\n",
       "<table border=\"1\" class=\"dataframe\">\n",
       "  <thead>\n",
       "    <tr style=\"text-align: right;\">\n",
       "      <th></th>\n",
       "      <th>tweets</th>\n",
       "      <th>sentiment</th>\n",
       "      <th>word_counts</th>\n",
       "      <th>char_counts</th>\n",
       "      <th>avg_word_len</th>\n",
       "    </tr>\n",
       "  </thead>\n",
       "  <tbody>\n",
       "    <tr>\n",
       "      <th>0</th>\n",
       "      <td>@switchfoot http://twitpic.com/2y1zl - Awww, that's a bummer.  You shoulda got David Carr of Third Day to do it. ;D</td>\n",
       "      <td>0</td>\n",
       "      <td>19</td>\n",
       "      <td>115</td>\n",
       "      <td>5.052632</td>\n",
       "    </tr>\n",
       "    <tr>\n",
       "      <th>1</th>\n",
       "      <td>is upset that he can't update his Facebook by texting it... and might cry as a result  School today also. Blah!</td>\n",
       "      <td>0</td>\n",
       "      <td>21</td>\n",
       "      <td>111</td>\n",
       "      <td>4.285714</td>\n",
       "    </tr>\n",
       "    <tr>\n",
       "      <th>2</th>\n",
       "      <td>@Kenichan I dived many times for the ball. Managed to save 50%  The rest go out of bounds</td>\n",
       "      <td>0</td>\n",
       "      <td>18</td>\n",
       "      <td>89</td>\n",
       "      <td>3.944444</td>\n",
       "    </tr>\n",
       "    <tr>\n",
       "      <th>3</th>\n",
       "      <td>my whole body feels itchy and like its on fire</td>\n",
       "      <td>0</td>\n",
       "      <td>10</td>\n",
       "      <td>47</td>\n",
       "      <td>3.700000</td>\n",
       "    </tr>\n",
       "    <tr>\n",
       "      <th>4</th>\n",
       "      <td>@nationwideclass no, it's not behaving at all. i'm mad. why am i here? because I can't see you all over there.</td>\n",
       "      <td>0</td>\n",
       "      <td>21</td>\n",
       "      <td>111</td>\n",
       "      <td>4.285714</td>\n",
       "    </tr>\n",
       "  </tbody>\n",
       "</table>\n",
       "</div>"
      ],
      "text/plain": [
       "                                                                                                                tweets  \\\n",
       "0  @switchfoot http://twitpic.com/2y1zl - Awww, that's a bummer.  You shoulda got David Carr of Third Day to do it. ;D   \n",
       "1      is upset that he can't update his Facebook by texting it... and might cry as a result  School today also. Blah!   \n",
       "2                            @Kenichan I dived many times for the ball. Managed to save 50%  The rest go out of bounds   \n",
       "3                                                                      my whole body feels itchy and like its on fire    \n",
       "4      @nationwideclass no, it's not behaving at all. i'm mad. why am i here? because I can't see you all over there.    \n",
       "\n",
       "   sentiment  word_counts  char_counts  avg_word_len  \n",
       "0          0           19          115      5.052632  \n",
       "1          0           21          111      4.285714  \n",
       "2          0           18           89      3.944444  \n",
       "3          0           10           47      3.700000  \n",
       "4          0           21          111      4.285714  "
      ]
     },
     "execution_count": 16,
     "metadata": {},
     "output_type": "execute_result"
    }
   ],
   "source": [
    "df.head()"
   ]
  },
  {
   "cell_type": "markdown",
   "id": "450ed2c7",
   "metadata": {},
   "source": [
    "##### Stop words count"
   ]
  },
  {
   "cell_type": "code",
   "execution_count": 17,
   "id": "3082b376",
   "metadata": {
    "ExecuteTime": {
     "end_time": "2022-10-07T13:16:59.718689Z",
     "start_time": "2022-10-07T13:16:58.301848Z"
    }
   },
   "outputs": [
    {
     "name": "stderr",
     "output_type": "stream",
     "text": [
      "2022-10-07 19:16:58.459927: I tensorflow/stream_executor/platform/default/dso_loader.cc:49] Successfully opened dynamic library libcudart.so.10.1\n",
      "2022-10-07 19:16:59.347755: I tensorflow/compiler/jit/xla_cpu_device.cc:41] Not creating XLA devices, tf_xla_enable_xla_devices not set\n",
      "2022-10-07 19:16:59.347917: W tensorflow/stream_executor/platform/default/dso_loader.cc:60] Could not load dynamic library 'libcuda.so.1'; dlerror: libcuda.so.1: cannot open shared object file: No such file or directory\n",
      "2022-10-07 19:16:59.347925: W tensorflow/stream_executor/cuda/cuda_driver.cc:326] failed call to cuInit: UNKNOWN ERROR (303)\n",
      "2022-10-07 19:16:59.347937: I tensorflow/stream_executor/cuda/cuda_diagnostics.cc:156] kernel driver does not appear to be running on this host (arafat-pc): /proc/driver/nvidia/version does not exist\n"
     ]
    }
   ],
   "source": [
    "import spacy\n",
    "from spacy.lang.en.stop_words import STOP_WORDS"
   ]
  },
  {
   "cell_type": "code",
   "execution_count": 18,
   "id": "41376004",
   "metadata": {
    "ExecuteTime": {
     "end_time": "2022-10-07T13:16:59.722179Z",
     "start_time": "2022-10-07T13:16:59.719769Z"
    }
   },
   "outputs": [
    {
     "name": "stdout",
     "output_type": "stream",
     "text": [
      "{'anywhere', 'please', 'above', 'against', 'herself', 'latterly', 'something', 'make', 'nevertheless', 'through', 'latter', 'whereby', 'their', 'during', 'less', 'could', 'becoming', 'amongst', 'quite', 'never', 'thus', 'everyone', 'was', 'been', 'we', 'very', 'show', 'empty', 'many', 'though', 'along', 'both', 'really', 'doing', 'being', 'over', 'either', 'will', 'within', 'may', 'because', 'moreover', 'hence', 'out', 'my', 'became', 'if', 'he', 'also', 'herein', '‘m', 'front', 'wherever', 'almost', 'call', 'still', 'forty', 'they', 'behind', 'itself', 'where', 'nowhere', 'via', \"'s\", 'which', 'why', 'always', \"'d\", 'elsewhere', 'enough', 'last', 'anyway', 'than', 'move', 'just', 'eight', 'under', 'give', 'often', 'whereafter', 'hereby', '‘re', 'side', 'back', 'part', 'i', 'since', 'cannot', 'seems', 'on', 'his', 'made', 'third', 'throughout', 'already', 'any', 'off', 'onto', 'might', '‘ve', 'everywhere', 'seemed', 'beforehand', 'amount', 'further', 'hereafter', 'twelve', 'serious', 'whether', '‘s', 'even', 'anyone', 'those', 'first', 'before', 'would', 'regarding', 'yet', 'who', 'up', 'and', 'perhaps', 'somehow', 'bottom', 'should', 'twenty', 'formerly', 'more', 'how', 'wherein', 'three', 'indeed', 'our', 'alone', 'it', 'her', 'else', 'using', 'were', 'anyhow', 'when', 'full', 'other', 'yourselves', 'yours', 'beyond', 'take', 'him', 'former', 'toward', 'after', 'namely', 'you', 'fifty', 'did', 'go', 'your', 'that', 'beside', 'therefore', 'used', 'himself', 'thereafter', 'too', 'top', 'themselves', 'name', 'fifteen', 'yourself', 'hundred', 'ourselves', 'nothing', 'least', 'afterwards', \"'re\", 'here', 'same', 'sometime', 'put', 'these', 'with', 'whom', 'me', 'own', '’re', '‘ll', 'several', 'among', 'around', 'various', 're', \"'m\", '’ve', 'nobody', 'towards', 'seeming', 'eleven', 'the', 'next', 'below', 'ours', '’s', 'noone', 'she', 'as', 'two', 'few', 'us', 'across', 'rather', 'for', 'thereupon', 'so', \"'ve\", '’d', 'has', '’m', 'again', 'is', 'others', 'each', 'due', 'at', 'while', 'nor', 'hers', 'by', 'otherwise', 'whereupon', 'between', 'no', '’ll', 'ca', 'sometimes', 'whose', 'become', 'although', 'whenever', 'then', 'five', 'there', 'ever', 'unless', \"n't\", 'except', 'some', 'to', 'thru', 'per', 'whoever', 'whatever', 'or', 'into', 'but', 'mine', '‘d', 'only', 'done', 'becomes', 'of', 'four', 'from', 'what', 'have', 'sixty', 'them', 'whole', 'thence', 'now', 'one', 'every', 'do', 'anything', 'does', 'had', 'in', 'keep', 'myself', 'an', 'such', 'be', 'whither', 'together', 'none', 'am', 'six', 'down', 'all', 'much', 'its', 'say', 'neither', 'whereas', 'n’t', 'well', 'most', 'not', 'mostly', 'hereupon', 'besides', 'however', 'once', 'nine', 'can', 'meanwhile', 'see', 'seem', 'another', 'are', 'thereby', 'upon', 'n‘t', 'get', \"'ll\", 'someone', 'somewhere', 'must', 'a', 'ten', 'this', 'without', 'about', 'therein', 'whence', 'everything', 'until'}\n"
     ]
    }
   ],
   "source": [
    "# for finding the semantic meaning of a sentense, stopword is important.\n",
    "# before delete stop word, think what you want to do.\n",
    "print(STOP_WORDS)"
   ]
  },
  {
   "cell_type": "code",
   "execution_count": 19,
   "id": "5ba05938",
   "metadata": {
    "ExecuteTime": {
     "end_time": "2022-10-07T13:16:59.732738Z",
     "start_time": "2022-10-07T13:16:59.723368Z"
    }
   },
   "outputs": [
    {
     "data": {
      "text/plain": [
       "['my', 'name', 'is']"
      ]
     },
     "execution_count": 19,
     "metadata": {},
     "output_type": "execute_result"
    }
   ],
   "source": [
    "# example of creating a list that's contain stopwords and find the len of that list.\n",
    "x = 'my name is arafat'\n",
    "[word for word in x.split() if word in STOP_WORDS]"
   ]
  },
  {
   "cell_type": "code",
   "execution_count": 20,
   "id": "003ef626",
   "metadata": {
    "ExecuteTime": {
     "end_time": "2022-10-07T13:16:59.737682Z",
     "start_time": "2022-10-07T13:16:59.733918Z"
    },
    "scrolled": true
   },
   "outputs": [
    {
     "data": {
      "text/plain": [
       "3"
      ]
     },
     "execution_count": 20,
     "metadata": {},
     "output_type": "execute_result"
    }
   ],
   "source": [
    "len([word for word in x.split() if word in STOP_WORDS])"
   ]
  },
  {
   "cell_type": "code",
   "execution_count": null,
   "id": "8d42f7eb",
   "metadata": {},
   "outputs": [],
   "source": []
  },
  {
   "cell_type": "code",
   "execution_count": 21,
   "id": "e89b1c36",
   "metadata": {
    "ExecuteTime": {
     "end_time": "2022-10-07T13:17:02.616265Z",
     "start_time": "2022-10-07T13:16:59.739418Z"
    }
   },
   "outputs": [],
   "source": [
    "df['stop_word_len'] =  df['tweets'].apply(lambda x: len([word for word in x.split() if word in STOP_WORDS]))"
   ]
  },
  {
   "cell_type": "code",
   "execution_count": 22,
   "id": "1c7e8831",
   "metadata": {
    "ExecuteTime": {
     "end_time": "2022-10-07T13:17:02.625924Z",
     "start_time": "2022-10-07T13:17:02.617805Z"
    }
   },
   "outputs": [
    {
     "data": {
      "text/html": [
       "<div>\n",
       "<style scoped>\n",
       "    .dataframe tbody tr th:only-of-type {\n",
       "        vertical-align: middle;\n",
       "    }\n",
       "\n",
       "    .dataframe tbody tr th {\n",
       "        vertical-align: top;\n",
       "    }\n",
       "\n",
       "    .dataframe thead th {\n",
       "        text-align: right;\n",
       "    }\n",
       "</style>\n",
       "<table border=\"1\" class=\"dataframe\">\n",
       "  <thead>\n",
       "    <tr style=\"text-align: right;\">\n",
       "      <th></th>\n",
       "      <th>tweets</th>\n",
       "      <th>sentiment</th>\n",
       "      <th>word_counts</th>\n",
       "      <th>char_counts</th>\n",
       "      <th>avg_word_len</th>\n",
       "      <th>stop_word_len</th>\n",
       "    </tr>\n",
       "  </thead>\n",
       "  <tbody>\n",
       "    <tr>\n",
       "      <th>0</th>\n",
       "      <td>@switchfoot http://twitpic.com/2y1zl - Awww, that's a bummer.  You shoulda got David Carr of Third Day to do it. ;D</td>\n",
       "      <td>0</td>\n",
       "      <td>19</td>\n",
       "      <td>115</td>\n",
       "      <td>5.052632</td>\n",
       "      <td>4</td>\n",
       "    </tr>\n",
       "    <tr>\n",
       "      <th>1</th>\n",
       "      <td>is upset that he can't update his Facebook by texting it... and might cry as a result  School today also. Blah!</td>\n",
       "      <td>0</td>\n",
       "      <td>21</td>\n",
       "      <td>111</td>\n",
       "      <td>4.285714</td>\n",
       "      <td>9</td>\n",
       "    </tr>\n",
       "    <tr>\n",
       "      <th>2</th>\n",
       "      <td>@Kenichan I dived many times for the ball. Managed to save 50%  The rest go out of bounds</td>\n",
       "      <td>0</td>\n",
       "      <td>18</td>\n",
       "      <td>89</td>\n",
       "      <td>3.944444</td>\n",
       "      <td>7</td>\n",
       "    </tr>\n",
       "    <tr>\n",
       "      <th>3</th>\n",
       "      <td>my whole body feels itchy and like its on fire</td>\n",
       "      <td>0</td>\n",
       "      <td>10</td>\n",
       "      <td>47</td>\n",
       "      <td>3.700000</td>\n",
       "      <td>5</td>\n",
       "    </tr>\n",
       "    <tr>\n",
       "      <th>4</th>\n",
       "      <td>@nationwideclass no, it's not behaving at all. i'm mad. why am i here? because I can't see you all over there.</td>\n",
       "      <td>0</td>\n",
       "      <td>21</td>\n",
       "      <td>111</td>\n",
       "      <td>4.285714</td>\n",
       "      <td>10</td>\n",
       "    </tr>\n",
       "  </tbody>\n",
       "</table>\n",
       "</div>"
      ],
      "text/plain": [
       "                                                                                                                tweets  \\\n",
       "0  @switchfoot http://twitpic.com/2y1zl - Awww, that's a bummer.  You shoulda got David Carr of Third Day to do it. ;D   \n",
       "1      is upset that he can't update his Facebook by texting it... and might cry as a result  School today also. Blah!   \n",
       "2                            @Kenichan I dived many times for the ball. Managed to save 50%  The rest go out of bounds   \n",
       "3                                                                      my whole body feels itchy and like its on fire    \n",
       "4      @nationwideclass no, it's not behaving at all. i'm mad. why am i here? because I can't see you all over there.    \n",
       "\n",
       "   sentiment  word_counts  char_counts  avg_word_len  stop_word_len  \n",
       "0          0           19          115      5.052632              4  \n",
       "1          0           21          111      4.285714              9  \n",
       "2          0           18           89      3.944444              7  \n",
       "3          0           10           47      3.700000              5  \n",
       "4          0           21          111      4.285714             10  "
      ]
     },
     "execution_count": 22,
     "metadata": {},
     "output_type": "execute_result"
    }
   ],
   "source": [
    "df.head()"
   ]
  },
  {
   "cell_type": "markdown",
   "id": "9f47e0cb",
   "metadata": {},
   "source": [
    "##### Count #Hash Tags and @Mentions"
   ]
  },
  {
   "cell_type": "code",
   "execution_count": 23,
   "id": "61f69d4e",
   "metadata": {
    "ExecuteTime": {
     "end_time": "2022-10-07T13:17:02.637669Z",
     "start_time": "2022-10-07T13:17:02.627393Z"
    }
   },
   "outputs": [
    {
     "data": {
      "text/plain": [
       "['this', 'is', '#hashtag', 'and', 'this', 'is', '@mention']"
      ]
     },
     "execution_count": 23,
     "metadata": {},
     "output_type": "execute_result"
    }
   ],
   "source": [
    "# EX:\n",
    "x = 'this is #hashtag and this is @mention'\n",
    "x.split()"
   ]
  },
  {
   "cell_type": "code",
   "execution_count": 24,
   "id": "04b1a433",
   "metadata": {
    "ExecuteTime": {
     "end_time": "2022-10-07T13:17:02.644984Z",
     "start_time": "2022-10-07T13:17:02.639700Z"
    }
   },
   "outputs": [
    {
     "data": {
      "text/plain": [
       "['#hashtag']"
      ]
     },
     "execution_count": 24,
     "metadata": {},
     "output_type": "execute_result"
    }
   ],
   "source": [
    "# string.startswith(value, start, end)\n",
    "li = [word for word in x.split() if word.startswith('#')]\n",
    "li"
   ]
  },
  {
   "cell_type": "code",
   "execution_count": 25,
   "id": "970404b0",
   "metadata": {
    "ExecuteTime": {
     "end_time": "2022-10-07T13:17:02.651193Z",
     "start_time": "2022-10-07T13:17:02.647328Z"
    }
   },
   "outputs": [
    {
     "data": {
      "text/plain": [
       "['#hashtag', '@mention']"
      ]
     },
     "execution_count": 25,
     "metadata": {},
     "output_type": "execute_result"
    }
   ],
   "source": [
    "li = [word for word in x.split() if word.startswith(('#','@'))]\n",
    "li"
   ]
  },
  {
   "cell_type": "code",
   "execution_count": 26,
   "id": "5c04d3a5",
   "metadata": {
    "ExecuteTime": {
     "end_time": "2022-10-07T13:17:02.656483Z",
     "start_time": "2022-10-07T13:17:02.652643Z"
    }
   },
   "outputs": [
    {
     "data": {
      "text/plain": [
       "['#hashtag', '@mention']"
      ]
     },
     "execution_count": 26,
     "metadata": {},
     "output_type": "execute_result"
    }
   ],
   "source": [
    "li = [word for word in x.split() if word.startswith(('#','@'),0,3)]\n",
    "li"
   ]
  },
  {
   "cell_type": "code",
   "execution_count": null,
   "id": "092a75d1",
   "metadata": {},
   "outputs": [],
   "source": []
  },
  {
   "cell_type": "code",
   "execution_count": 27,
   "id": "cfc9f41d",
   "metadata": {
    "ExecuteTime": {
     "end_time": "2022-10-07T13:17:08.939751Z",
     "start_time": "2022-10-07T13:17:02.660907Z"
    }
   },
   "outputs": [],
   "source": [
    "df['#_counts'] = df['tweets'].apply(lambda x: len([word for word in x.split() if word.startswith('#')]))\n",
    "df['@_counts'] = df['tweets'].apply(lambda x: len([word for word in x.split() if word.startswith('@')]))"
   ]
  },
  {
   "cell_type": "code",
   "execution_count": 28,
   "id": "370ee526",
   "metadata": {
    "ExecuteTime": {
     "end_time": "2022-10-07T13:17:08.948660Z",
     "start_time": "2022-10-07T13:17:08.941053Z"
    }
   },
   "outputs": [
    {
     "data": {
      "text/html": [
       "<div>\n",
       "<style scoped>\n",
       "    .dataframe tbody tr th:only-of-type {\n",
       "        vertical-align: middle;\n",
       "    }\n",
       "\n",
       "    .dataframe tbody tr th {\n",
       "        vertical-align: top;\n",
       "    }\n",
       "\n",
       "    .dataframe thead th {\n",
       "        text-align: right;\n",
       "    }\n",
       "</style>\n",
       "<table border=\"1\" class=\"dataframe\">\n",
       "  <thead>\n",
       "    <tr style=\"text-align: right;\">\n",
       "      <th></th>\n",
       "      <th>tweets</th>\n",
       "      <th>sentiment</th>\n",
       "      <th>word_counts</th>\n",
       "      <th>char_counts</th>\n",
       "      <th>avg_word_len</th>\n",
       "      <th>stop_word_len</th>\n",
       "      <th>#_counts</th>\n",
       "      <th>@_counts</th>\n",
       "    </tr>\n",
       "  </thead>\n",
       "  <tbody>\n",
       "    <tr>\n",
       "      <th>0</th>\n",
       "      <td>@switchfoot http://twitpic.com/2y1zl - Awww, that's a bummer.  You shoulda got David Carr of Third Day to do it. ;D</td>\n",
       "      <td>0</td>\n",
       "      <td>19</td>\n",
       "      <td>115</td>\n",
       "      <td>5.052632</td>\n",
       "      <td>4</td>\n",
       "      <td>0</td>\n",
       "      <td>1</td>\n",
       "    </tr>\n",
       "    <tr>\n",
       "      <th>1</th>\n",
       "      <td>is upset that he can't update his Facebook by texting it... and might cry as a result  School today also. Blah!</td>\n",
       "      <td>0</td>\n",
       "      <td>21</td>\n",
       "      <td>111</td>\n",
       "      <td>4.285714</td>\n",
       "      <td>9</td>\n",
       "      <td>0</td>\n",
       "      <td>0</td>\n",
       "    </tr>\n",
       "    <tr>\n",
       "      <th>2</th>\n",
       "      <td>@Kenichan I dived many times for the ball. Managed to save 50%  The rest go out of bounds</td>\n",
       "      <td>0</td>\n",
       "      <td>18</td>\n",
       "      <td>89</td>\n",
       "      <td>3.944444</td>\n",
       "      <td>7</td>\n",
       "      <td>0</td>\n",
       "      <td>1</td>\n",
       "    </tr>\n",
       "    <tr>\n",
       "      <th>3</th>\n",
       "      <td>my whole body feels itchy and like its on fire</td>\n",
       "      <td>0</td>\n",
       "      <td>10</td>\n",
       "      <td>47</td>\n",
       "      <td>3.700000</td>\n",
       "      <td>5</td>\n",
       "      <td>0</td>\n",
       "      <td>0</td>\n",
       "    </tr>\n",
       "    <tr>\n",
       "      <th>4</th>\n",
       "      <td>@nationwideclass no, it's not behaving at all. i'm mad. why am i here? because I can't see you all over there.</td>\n",
       "      <td>0</td>\n",
       "      <td>21</td>\n",
       "      <td>111</td>\n",
       "      <td>4.285714</td>\n",
       "      <td>10</td>\n",
       "      <td>0</td>\n",
       "      <td>1</td>\n",
       "    </tr>\n",
       "  </tbody>\n",
       "</table>\n",
       "</div>"
      ],
      "text/plain": [
       "                                                                                                                tweets  \\\n",
       "0  @switchfoot http://twitpic.com/2y1zl - Awww, that's a bummer.  You shoulda got David Carr of Third Day to do it. ;D   \n",
       "1      is upset that he can't update his Facebook by texting it... and might cry as a result  School today also. Blah!   \n",
       "2                            @Kenichan I dived many times for the ball. Managed to save 50%  The rest go out of bounds   \n",
       "3                                                                      my whole body feels itchy and like its on fire    \n",
       "4      @nationwideclass no, it's not behaving at all. i'm mad. why am i here? because I can't see you all over there.    \n",
       "\n",
       "   sentiment  word_counts  char_counts  avg_word_len  stop_word_len  #_counts  \\\n",
       "0          0           19          115      5.052632              4         0   \n",
       "1          0           21          111      4.285714              9         0   \n",
       "2          0           18           89      3.944444              7         0   \n",
       "3          0           10           47      3.700000              5         0   \n",
       "4          0           21          111      4.285714             10         0   \n",
       "\n",
       "   @_counts  \n",
       "0         1  \n",
       "1         0  \n",
       "2         1  \n",
       "3         0  \n",
       "4         1  "
      ]
     },
     "execution_count": 28,
     "metadata": {},
     "output_type": "execute_result"
    }
   ],
   "source": [
    "df.head()\n",
    "#30 min"
   ]
  },
  {
   "cell_type": "markdown",
   "id": "c6bec447",
   "metadata": {},
   "source": [
    "##### if Numeric digits are present in twits"
   ]
  },
  {
   "cell_type": "code",
   "execution_count": 29,
   "id": "34a337c9",
   "metadata": {
    "ExecuteTime": {
     "end_time": "2022-10-07T13:17:11.083037Z",
     "start_time": "2022-10-07T13:17:08.949899Z"
    }
   },
   "outputs": [],
   "source": [
    "df['numeric_counts'] = df['tweets'].apply(lambda x: len([word for word in x.split() if word.isdigit()]))"
   ]
  },
  {
   "cell_type": "code",
   "execution_count": 30,
   "id": "93ef0c87",
   "metadata": {
    "ExecuteTime": {
     "end_time": "2022-10-07T13:17:11.093793Z",
     "start_time": "2022-10-07T13:17:11.084514Z"
    }
   },
   "outputs": [
    {
     "data": {
      "text/html": [
       "<div>\n",
       "<style scoped>\n",
       "    .dataframe tbody tr th:only-of-type {\n",
       "        vertical-align: middle;\n",
       "    }\n",
       "\n",
       "    .dataframe tbody tr th {\n",
       "        vertical-align: top;\n",
       "    }\n",
       "\n",
       "    .dataframe thead th {\n",
       "        text-align: right;\n",
       "    }\n",
       "</style>\n",
       "<table border=\"1\" class=\"dataframe\">\n",
       "  <thead>\n",
       "    <tr style=\"text-align: right;\">\n",
       "      <th></th>\n",
       "      <th>tweets</th>\n",
       "      <th>sentiment</th>\n",
       "      <th>word_counts</th>\n",
       "      <th>char_counts</th>\n",
       "      <th>avg_word_len</th>\n",
       "      <th>stop_word_len</th>\n",
       "      <th>#_counts</th>\n",
       "      <th>@_counts</th>\n",
       "      <th>numeric_counts</th>\n",
       "    </tr>\n",
       "  </thead>\n",
       "  <tbody>\n",
       "    <tr>\n",
       "      <th>0</th>\n",
       "      <td>@switchfoot http://twitpic.com/2y1zl - Awww, that's a bummer.  You shoulda got David Carr of Third Day to do it. ;D</td>\n",
       "      <td>0</td>\n",
       "      <td>19</td>\n",
       "      <td>115</td>\n",
       "      <td>5.052632</td>\n",
       "      <td>4</td>\n",
       "      <td>0</td>\n",
       "      <td>1</td>\n",
       "      <td>0</td>\n",
       "    </tr>\n",
       "    <tr>\n",
       "      <th>1</th>\n",
       "      <td>is upset that he can't update his Facebook by texting it... and might cry as a result  School today also. Blah!</td>\n",
       "      <td>0</td>\n",
       "      <td>21</td>\n",
       "      <td>111</td>\n",
       "      <td>4.285714</td>\n",
       "      <td>9</td>\n",
       "      <td>0</td>\n",
       "      <td>0</td>\n",
       "      <td>0</td>\n",
       "    </tr>\n",
       "    <tr>\n",
       "      <th>2</th>\n",
       "      <td>@Kenichan I dived many times for the ball. Managed to save 50%  The rest go out of bounds</td>\n",
       "      <td>0</td>\n",
       "      <td>18</td>\n",
       "      <td>89</td>\n",
       "      <td>3.944444</td>\n",
       "      <td>7</td>\n",
       "      <td>0</td>\n",
       "      <td>1</td>\n",
       "      <td>0</td>\n",
       "    </tr>\n",
       "    <tr>\n",
       "      <th>3</th>\n",
       "      <td>my whole body feels itchy and like its on fire</td>\n",
       "      <td>0</td>\n",
       "      <td>10</td>\n",
       "      <td>47</td>\n",
       "      <td>3.700000</td>\n",
       "      <td>5</td>\n",
       "      <td>0</td>\n",
       "      <td>0</td>\n",
       "      <td>0</td>\n",
       "    </tr>\n",
       "    <tr>\n",
       "      <th>4</th>\n",
       "      <td>@nationwideclass no, it's not behaving at all. i'm mad. why am i here? because I can't see you all over there.</td>\n",
       "      <td>0</td>\n",
       "      <td>21</td>\n",
       "      <td>111</td>\n",
       "      <td>4.285714</td>\n",
       "      <td>10</td>\n",
       "      <td>0</td>\n",
       "      <td>1</td>\n",
       "      <td>0</td>\n",
       "    </tr>\n",
       "  </tbody>\n",
       "</table>\n",
       "</div>"
      ],
      "text/plain": [
       "                                                                                                                tweets  \\\n",
       "0  @switchfoot http://twitpic.com/2y1zl - Awww, that's a bummer.  You shoulda got David Carr of Third Day to do it. ;D   \n",
       "1      is upset that he can't update his Facebook by texting it... and might cry as a result  School today also. Blah!   \n",
       "2                            @Kenichan I dived many times for the ball. Managed to save 50%  The rest go out of bounds   \n",
       "3                                                                      my whole body feels itchy and like its on fire    \n",
       "4      @nationwideclass no, it's not behaving at all. i'm mad. why am i here? because I can't see you all over there.    \n",
       "\n",
       "   sentiment  word_counts  char_counts  avg_word_len  stop_word_len  #_counts  \\\n",
       "0          0           19          115      5.052632              4         0   \n",
       "1          0           21          111      4.285714              9         0   \n",
       "2          0           18           89      3.944444              7         0   \n",
       "3          0           10           47      3.700000              5         0   \n",
       "4          0           21          111      4.285714             10         0   \n",
       "\n",
       "   @_counts  numeric_counts  \n",
       "0         1               0  \n",
       "1         0               0  \n",
       "2         1               0  \n",
       "3         0               0  \n",
       "4         1               0  "
      ]
     },
     "execution_count": 30,
     "metadata": {},
     "output_type": "execute_result"
    }
   ],
   "source": [
    "df.head()"
   ]
  },
  {
   "cell_type": "markdown",
   "id": "77b95021",
   "metadata": {},
   "source": [
    "##### Upper case word counts"
   ]
  },
  {
   "cell_type": "code",
   "execution_count": 31,
   "id": "5a9038ce",
   "metadata": {
    "ExecuteTime": {
     "end_time": "2022-10-07T13:17:13.659501Z",
     "start_time": "2022-10-07T13:17:11.095177Z"
    }
   },
   "outputs": [],
   "source": [
    "df['upper_counts'] = df['tweets'].apply(lambda x: len([word for word in x.split() if word.isupper() and len(x)>3 ]))"
   ]
  },
  {
   "cell_type": "code",
   "execution_count": 32,
   "id": "cecef7e2",
   "metadata": {
    "ExecuteTime": {
     "end_time": "2022-10-07T13:17:13.669197Z",
     "start_time": "2022-10-07T13:17:13.660940Z"
    }
   },
   "outputs": [
    {
     "data": {
      "text/html": [
       "<div>\n",
       "<style scoped>\n",
       "    .dataframe tbody tr th:only-of-type {\n",
       "        vertical-align: middle;\n",
       "    }\n",
       "\n",
       "    .dataframe tbody tr th {\n",
       "        vertical-align: top;\n",
       "    }\n",
       "\n",
       "    .dataframe thead th {\n",
       "        text-align: right;\n",
       "    }\n",
       "</style>\n",
       "<table border=\"1\" class=\"dataframe\">\n",
       "  <thead>\n",
       "    <tr style=\"text-align: right;\">\n",
       "      <th></th>\n",
       "      <th>tweets</th>\n",
       "      <th>sentiment</th>\n",
       "      <th>word_counts</th>\n",
       "      <th>char_counts</th>\n",
       "      <th>avg_word_len</th>\n",
       "      <th>stop_word_len</th>\n",
       "      <th>#_counts</th>\n",
       "      <th>@_counts</th>\n",
       "      <th>numeric_counts</th>\n",
       "      <th>upper_counts</th>\n",
       "    </tr>\n",
       "  </thead>\n",
       "  <tbody>\n",
       "    <tr>\n",
       "      <th>0</th>\n",
       "      <td>@switchfoot http://twitpic.com/2y1zl - Awww, that's a bummer.  You shoulda got David Carr of Third Day to do it. ;D</td>\n",
       "      <td>0</td>\n",
       "      <td>19</td>\n",
       "      <td>115</td>\n",
       "      <td>5.052632</td>\n",
       "      <td>4</td>\n",
       "      <td>0</td>\n",
       "      <td>1</td>\n",
       "      <td>0</td>\n",
       "      <td>1</td>\n",
       "    </tr>\n",
       "    <tr>\n",
       "      <th>1</th>\n",
       "      <td>is upset that he can't update his Facebook by texting it... and might cry as a result  School today also. Blah!</td>\n",
       "      <td>0</td>\n",
       "      <td>21</td>\n",
       "      <td>111</td>\n",
       "      <td>4.285714</td>\n",
       "      <td>9</td>\n",
       "      <td>0</td>\n",
       "      <td>0</td>\n",
       "      <td>0</td>\n",
       "      <td>0</td>\n",
       "    </tr>\n",
       "    <tr>\n",
       "      <th>2</th>\n",
       "      <td>@Kenichan I dived many times for the ball. Managed to save 50%  The rest go out of bounds</td>\n",
       "      <td>0</td>\n",
       "      <td>18</td>\n",
       "      <td>89</td>\n",
       "      <td>3.944444</td>\n",
       "      <td>7</td>\n",
       "      <td>0</td>\n",
       "      <td>1</td>\n",
       "      <td>0</td>\n",
       "      <td>1</td>\n",
       "    </tr>\n",
       "    <tr>\n",
       "      <th>3</th>\n",
       "      <td>my whole body feels itchy and like its on fire</td>\n",
       "      <td>0</td>\n",
       "      <td>10</td>\n",
       "      <td>47</td>\n",
       "      <td>3.700000</td>\n",
       "      <td>5</td>\n",
       "      <td>0</td>\n",
       "      <td>0</td>\n",
       "      <td>0</td>\n",
       "      <td>0</td>\n",
       "    </tr>\n",
       "    <tr>\n",
       "      <th>4</th>\n",
       "      <td>@nationwideclass no, it's not behaving at all. i'm mad. why am i here? because I can't see you all over there.</td>\n",
       "      <td>0</td>\n",
       "      <td>21</td>\n",
       "      <td>111</td>\n",
       "      <td>4.285714</td>\n",
       "      <td>10</td>\n",
       "      <td>0</td>\n",
       "      <td>1</td>\n",
       "      <td>0</td>\n",
       "      <td>1</td>\n",
       "    </tr>\n",
       "  </tbody>\n",
       "</table>\n",
       "</div>"
      ],
      "text/plain": [
       "                                                                                                                tweets  \\\n",
       "0  @switchfoot http://twitpic.com/2y1zl - Awww, that's a bummer.  You shoulda got David Carr of Third Day to do it. ;D   \n",
       "1      is upset that he can't update his Facebook by texting it... and might cry as a result  School today also. Blah!   \n",
       "2                            @Kenichan I dived many times for the ball. Managed to save 50%  The rest go out of bounds   \n",
       "3                                                                      my whole body feels itchy and like its on fire    \n",
       "4      @nationwideclass no, it's not behaving at all. i'm mad. why am i here? because I can't see you all over there.    \n",
       "\n",
       "   sentiment  word_counts  char_counts  avg_word_len  stop_word_len  #_counts  \\\n",
       "0          0           19          115      5.052632              4         0   \n",
       "1          0           21          111      4.285714              9         0   \n",
       "2          0           18           89      3.944444              7         0   \n",
       "3          0           10           47      3.700000              5         0   \n",
       "4          0           21          111      4.285714             10         0   \n",
       "\n",
       "   @_counts  numeric_counts  upper_counts  \n",
       "0         1               0             1  \n",
       "1         0               0             0  \n",
       "2         1               0             1  \n",
       "3         0               0             0  \n",
       "4         1               0             1  "
      ]
     },
     "execution_count": 32,
     "metadata": {},
     "output_type": "execute_result"
    }
   ],
   "source": [
    "df.head()"
   ]
  },
  {
   "cell_type": "code",
   "execution_count": 33,
   "id": "7b897521",
   "metadata": {
    "ExecuteTime": {
     "end_time": "2022-10-07T13:17:13.726104Z",
     "start_time": "2022-10-07T13:17:13.670844Z"
    }
   },
   "outputs": [
    {
     "data": {
      "text/plain": [
       "\"so rylee,grace...wana go steve's party or not?? SADLY SINCE ITS EASTER I WNT B ABLE 2 DO MUCH  BUT OHH WELL.....\""
      ]
     },
     "execution_count": 33,
     "metadata": {},
     "output_type": "execute_result"
    }
   ],
   "source": [
    "df.loc[96]['tweets']"
   ]
  },
  {
   "cell_type": "code",
   "execution_count": 34,
   "id": "d56f6637",
   "metadata": {
    "ExecuteTime": {
     "end_time": "2022-10-07T13:17:13.731818Z",
     "start_time": "2022-10-07T13:17:13.727354Z"
    },
    "scrolled": true
   },
   "outputs": [
    {
     "data": {
      "text/plain": [
       "tweets            so rylee,grace...wana go steve's party or not?? SADLY SINCE ITS EASTER I WNT B ABLE 2 DO MUCH  BUT OHH WELL.....\n",
       "sentiment                                                                                                                        0\n",
       "word_counts                                                                                                                     21\n",
       "char_counts                                                                                                                    112\n",
       "avg_word_len                                                                                                              4.333333\n",
       "stop_word_len                                                                                                                    3\n",
       "#_counts                                                                                                                         0\n",
       "@_counts                                                                                                                         0\n",
       "numeric_counts                                                                                                                   1\n",
       "upper_counts                                                                                                                    13\n",
       "Name: 96, dtype: object"
      ]
     },
     "execution_count": 34,
     "metadata": {},
     "output_type": "execute_result"
    }
   ],
   "source": [
    "df.loc[96]"
   ]
  },
  {
   "cell_type": "markdown",
   "id": "0890a8fa",
   "metadata": {},
   "source": [
    "# Preprocessing and Cleaning\n"
   ]
  },
  {
   "cell_type": "markdown",
   "id": "1852fc33",
   "metadata": {},
   "source": [
    "##### Lower case"
   ]
  },
  {
   "cell_type": "code",
   "execution_count": 35,
   "id": "af86963a",
   "metadata": {
    "ExecuteTime": {
     "end_time": "2022-10-07T13:17:14.104595Z",
     "start_time": "2022-10-07T13:17:13.733460Z"
    }
   },
   "outputs": [],
   "source": [
    "df['tweets'] = df['tweets'].apply(lambda x: x.lower())"
   ]
  },
  {
   "cell_type": "code",
   "execution_count": 36,
   "id": "e4c52e99",
   "metadata": {
    "ExecuteTime": {
     "end_time": "2022-10-07T13:17:14.119334Z",
     "start_time": "2022-10-07T13:17:14.106499Z"
    }
   },
   "outputs": [
    {
     "data": {
      "text/html": [
       "<div>\n",
       "<style scoped>\n",
       "    .dataframe tbody tr th:only-of-type {\n",
       "        vertical-align: middle;\n",
       "    }\n",
       "\n",
       "    .dataframe tbody tr th {\n",
       "        vertical-align: top;\n",
       "    }\n",
       "\n",
       "    .dataframe thead th {\n",
       "        text-align: right;\n",
       "    }\n",
       "</style>\n",
       "<table border=\"1\" class=\"dataframe\">\n",
       "  <thead>\n",
       "    <tr style=\"text-align: right;\">\n",
       "      <th></th>\n",
       "      <th>tweets</th>\n",
       "      <th>sentiment</th>\n",
       "      <th>word_counts</th>\n",
       "      <th>char_counts</th>\n",
       "      <th>avg_word_len</th>\n",
       "      <th>stop_word_len</th>\n",
       "      <th>#_counts</th>\n",
       "      <th>@_counts</th>\n",
       "      <th>numeric_counts</th>\n",
       "      <th>upper_counts</th>\n",
       "    </tr>\n",
       "  </thead>\n",
       "  <tbody>\n",
       "    <tr>\n",
       "      <th>0</th>\n",
       "      <td>@switchfoot http://twitpic.com/2y1zl - awww, that's a bummer.  you shoulda got david carr of third day to do it. ;d</td>\n",
       "      <td>0</td>\n",
       "      <td>19</td>\n",
       "      <td>115</td>\n",
       "      <td>5.052632</td>\n",
       "      <td>4</td>\n",
       "      <td>0</td>\n",
       "      <td>1</td>\n",
       "      <td>0</td>\n",
       "      <td>1</td>\n",
       "    </tr>\n",
       "    <tr>\n",
       "      <th>1</th>\n",
       "      <td>is upset that he can't update his facebook by texting it... and might cry as a result  school today also. blah!</td>\n",
       "      <td>0</td>\n",
       "      <td>21</td>\n",
       "      <td>111</td>\n",
       "      <td>4.285714</td>\n",
       "      <td>9</td>\n",
       "      <td>0</td>\n",
       "      <td>0</td>\n",
       "      <td>0</td>\n",
       "      <td>0</td>\n",
       "    </tr>\n",
       "    <tr>\n",
       "      <th>2</th>\n",
       "      <td>@kenichan i dived many times for the ball. managed to save 50%  the rest go out of bounds</td>\n",
       "      <td>0</td>\n",
       "      <td>18</td>\n",
       "      <td>89</td>\n",
       "      <td>3.944444</td>\n",
       "      <td>7</td>\n",
       "      <td>0</td>\n",
       "      <td>1</td>\n",
       "      <td>0</td>\n",
       "      <td>1</td>\n",
       "    </tr>\n",
       "    <tr>\n",
       "      <th>3</th>\n",
       "      <td>my whole body feels itchy and like its on fire</td>\n",
       "      <td>0</td>\n",
       "      <td>10</td>\n",
       "      <td>47</td>\n",
       "      <td>3.700000</td>\n",
       "      <td>5</td>\n",
       "      <td>0</td>\n",
       "      <td>0</td>\n",
       "      <td>0</td>\n",
       "      <td>0</td>\n",
       "    </tr>\n",
       "    <tr>\n",
       "      <th>4</th>\n",
       "      <td>@nationwideclass no, it's not behaving at all. i'm mad. why am i here? because i can't see you all over there.</td>\n",
       "      <td>0</td>\n",
       "      <td>21</td>\n",
       "      <td>111</td>\n",
       "      <td>4.285714</td>\n",
       "      <td>10</td>\n",
       "      <td>0</td>\n",
       "      <td>1</td>\n",
       "      <td>0</td>\n",
       "      <td>1</td>\n",
       "    </tr>\n",
       "  </tbody>\n",
       "</table>\n",
       "</div>"
      ],
      "text/plain": [
       "                                                                                                                tweets  \\\n",
       "0  @switchfoot http://twitpic.com/2y1zl - awww, that's a bummer.  you shoulda got david carr of third day to do it. ;d   \n",
       "1      is upset that he can't update his facebook by texting it... and might cry as a result  school today also. blah!   \n",
       "2                            @kenichan i dived many times for the ball. managed to save 50%  the rest go out of bounds   \n",
       "3                                                                      my whole body feels itchy and like its on fire    \n",
       "4      @nationwideclass no, it's not behaving at all. i'm mad. why am i here? because i can't see you all over there.    \n",
       "\n",
       "   sentiment  word_counts  char_counts  avg_word_len  stop_word_len  #_counts  \\\n",
       "0          0           19          115      5.052632              4         0   \n",
       "1          0           21          111      4.285714              9         0   \n",
       "2          0           18           89      3.944444              7         0   \n",
       "3          0           10           47      3.700000              5         0   \n",
       "4          0           21          111      4.285714             10         0   \n",
       "\n",
       "   @_counts  numeric_counts  upper_counts  \n",
       "0         1               0             1  \n",
       "1         0               0             0  \n",
       "2         1               0             1  \n",
       "3         0               0             0  \n",
       "4         1               0             1  "
      ]
     },
     "execution_count": 36,
     "metadata": {},
     "output_type": "execute_result"
    }
   ],
   "source": [
    "df.head()"
   ]
  },
  {
   "cell_type": "markdown",
   "id": "2226ac22",
   "metadata": {},
   "source": [
    "##### Contraction to Expansion"
   ]
  },
  {
   "cell_type": "code",
   "execution_count": 37,
   "id": "b047c6a7",
   "metadata": {
    "ExecuteTime": {
     "end_time": "2022-10-07T13:17:14.128241Z",
     "start_time": "2022-10-07T13:17:14.121519Z"
    }
   },
   "outputs": [],
   "source": [
    "# don' = do not\n",
    "x = \"i don't know what you want, can't, he'll, i'd\"\n",
    "# 40 min"
   ]
  },
  {
   "cell_type": "markdown",
   "id": "648bf4df",
   "metadata": {},
   "source": [
    "##### Email removal and counts"
   ]
  },
  {
   "cell_type": "code",
   "execution_count": 38,
   "id": "9401f32b",
   "metadata": {
    "ExecuteTime": {
     "end_time": "2022-10-07T13:17:14.133472Z",
     "start_time": "2022-10-07T13:17:14.130197Z"
    }
   },
   "outputs": [],
   "source": [
    "import re"
   ]
  },
  {
   "cell_type": "code",
   "execution_count": 39,
   "id": "690b022b",
   "metadata": {
    "ExecuteTime": {
     "end_time": "2022-10-07T13:17:14.138494Z",
     "start_time": "2022-10-07T13:17:14.135538Z"
    }
   },
   "outputs": [],
   "source": [
    "x = 'hi, email me at arafat6462@gmail.com, you can also find me on 18-37576-1@student.aiub.edu'"
   ]
  },
  {
   "cell_type": "code",
   "execution_count": 40,
   "id": "14c167b2",
   "metadata": {
    "ExecuteTime": {
     "end_time": "2022-10-07T13:17:14.144724Z",
     "start_time": "2022-10-07T13:17:14.140386Z"
    }
   },
   "outputs": [
    {
     "data": {
      "text/plain": [
       "['arafat6462@gmail.com', '18-37576-1@student.aiub.edu']"
      ]
     },
     "execution_count": 40,
     "metadata": {},
     "output_type": "execute_result"
    }
   ],
   "source": [
    "re.findall(r'([a-zA-Z0-9+._-]+@[a-zA-Z0-9._-]+\\.[a-zA-Z0-9_-]+)',x)"
   ]
  },
  {
   "cell_type": "code",
   "execution_count": null,
   "id": "c994dbbf",
   "metadata": {},
   "outputs": [],
   "source": []
  },
  {
   "cell_type": "code",
   "execution_count": 41,
   "id": "2c230239",
   "metadata": {
    "ExecuteTime": {
     "end_time": "2022-10-07T13:17:19.133747Z",
     "start_time": "2022-10-07T13:17:14.146369Z"
    }
   },
   "outputs": [
    {
     "name": "stdout",
     "output_type": "stream",
     "text": [
      "CPU times: user 4.97 s, sys: 11.7 ms, total: 4.98 s\n",
      "Wall time: 4.98 s\n"
     ]
    }
   ],
   "source": [
    "%%time\n",
    "df['email'] = df['tweets'].apply(lambda x: re.findall(r'([a-zA-Z0-9+._-]+@[a-zA-Z0-9._-]+\\.[a-zA-Z0-9_-]+)',x))"
   ]
  },
  {
   "cell_type": "code",
   "execution_count": 42,
   "id": "553497c7",
   "metadata": {
    "ExecuteTime": {
     "end_time": "2022-10-07T13:17:19.146409Z",
     "start_time": "2022-10-07T13:17:19.135623Z"
    }
   },
   "outputs": [
    {
     "data": {
      "text/html": [
       "<div>\n",
       "<style scoped>\n",
       "    .dataframe tbody tr th:only-of-type {\n",
       "        vertical-align: middle;\n",
       "    }\n",
       "\n",
       "    .dataframe tbody tr th {\n",
       "        vertical-align: top;\n",
       "    }\n",
       "\n",
       "    .dataframe thead th {\n",
       "        text-align: right;\n",
       "    }\n",
       "</style>\n",
       "<table border=\"1\" class=\"dataframe\">\n",
       "  <thead>\n",
       "    <tr style=\"text-align: right;\">\n",
       "      <th></th>\n",
       "      <th>tweets</th>\n",
       "      <th>sentiment</th>\n",
       "      <th>word_counts</th>\n",
       "      <th>char_counts</th>\n",
       "      <th>avg_word_len</th>\n",
       "      <th>stop_word_len</th>\n",
       "      <th>#_counts</th>\n",
       "      <th>@_counts</th>\n",
       "      <th>numeric_counts</th>\n",
       "      <th>upper_counts</th>\n",
       "      <th>email</th>\n",
       "    </tr>\n",
       "  </thead>\n",
       "  <tbody>\n",
       "    <tr>\n",
       "      <th>0</th>\n",
       "      <td>@switchfoot http://twitpic.com/2y1zl - awww, that's a bummer.  you shoulda got david carr of third day to do it. ;d</td>\n",
       "      <td>0</td>\n",
       "      <td>19</td>\n",
       "      <td>115</td>\n",
       "      <td>5.052632</td>\n",
       "      <td>4</td>\n",
       "      <td>0</td>\n",
       "      <td>1</td>\n",
       "      <td>0</td>\n",
       "      <td>1</td>\n",
       "      <td>[]</td>\n",
       "    </tr>\n",
       "    <tr>\n",
       "      <th>1</th>\n",
       "      <td>is upset that he can't update his facebook by texting it... and might cry as a result  school today also. blah!</td>\n",
       "      <td>0</td>\n",
       "      <td>21</td>\n",
       "      <td>111</td>\n",
       "      <td>4.285714</td>\n",
       "      <td>9</td>\n",
       "      <td>0</td>\n",
       "      <td>0</td>\n",
       "      <td>0</td>\n",
       "      <td>0</td>\n",
       "      <td>[]</td>\n",
       "    </tr>\n",
       "    <tr>\n",
       "      <th>2</th>\n",
       "      <td>@kenichan i dived many times for the ball. managed to save 50%  the rest go out of bounds</td>\n",
       "      <td>0</td>\n",
       "      <td>18</td>\n",
       "      <td>89</td>\n",
       "      <td>3.944444</td>\n",
       "      <td>7</td>\n",
       "      <td>0</td>\n",
       "      <td>1</td>\n",
       "      <td>0</td>\n",
       "      <td>1</td>\n",
       "      <td>[]</td>\n",
       "    </tr>\n",
       "    <tr>\n",
       "      <th>3</th>\n",
       "      <td>my whole body feels itchy and like its on fire</td>\n",
       "      <td>0</td>\n",
       "      <td>10</td>\n",
       "      <td>47</td>\n",
       "      <td>3.700000</td>\n",
       "      <td>5</td>\n",
       "      <td>0</td>\n",
       "      <td>0</td>\n",
       "      <td>0</td>\n",
       "      <td>0</td>\n",
       "      <td>[]</td>\n",
       "    </tr>\n",
       "    <tr>\n",
       "      <th>4</th>\n",
       "      <td>@nationwideclass no, it's not behaving at all. i'm mad. why am i here? because i can't see you all over there.</td>\n",
       "      <td>0</td>\n",
       "      <td>21</td>\n",
       "      <td>111</td>\n",
       "      <td>4.285714</td>\n",
       "      <td>10</td>\n",
       "      <td>0</td>\n",
       "      <td>1</td>\n",
       "      <td>0</td>\n",
       "      <td>1</td>\n",
       "      <td>[]</td>\n",
       "    </tr>\n",
       "  </tbody>\n",
       "</table>\n",
       "</div>"
      ],
      "text/plain": [
       "                                                                                                                tweets  \\\n",
       "0  @switchfoot http://twitpic.com/2y1zl - awww, that's a bummer.  you shoulda got david carr of third day to do it. ;d   \n",
       "1      is upset that he can't update his facebook by texting it... and might cry as a result  school today also. blah!   \n",
       "2                            @kenichan i dived many times for the ball. managed to save 50%  the rest go out of bounds   \n",
       "3                                                                      my whole body feels itchy and like its on fire    \n",
       "4      @nationwideclass no, it's not behaving at all. i'm mad. why am i here? because i can't see you all over there.    \n",
       "\n",
       "   sentiment  word_counts  char_counts  avg_word_len  stop_word_len  #_counts  \\\n",
       "0          0           19          115      5.052632              4         0   \n",
       "1          0           21          111      4.285714              9         0   \n",
       "2          0           18           89      3.944444              7         0   \n",
       "3          0           10           47      3.700000              5         0   \n",
       "4          0           21          111      4.285714             10         0   \n",
       "\n",
       "   @_counts  numeric_counts  upper_counts email  \n",
       "0         1               0             1    []  \n",
       "1         0               0             0    []  \n",
       "2         1               0             1    []  \n",
       "3         0               0             0    []  \n",
       "4         1               0             1    []  "
      ]
     },
     "execution_count": 42,
     "metadata": {},
     "output_type": "execute_result"
    }
   ],
   "source": [
    "df.head()"
   ]
  },
  {
   "cell_type": "code",
   "execution_count": 43,
   "id": "535c4aa6",
   "metadata": {
    "ExecuteTime": {
     "end_time": "2022-10-07T13:17:19.547266Z",
     "start_time": "2022-10-07T13:17:19.147967Z"
    }
   },
   "outputs": [],
   "source": [
    "df['email_counts'] = df['email'].apply(lambda x: len(x))"
   ]
  },
  {
   "cell_type": "code",
   "execution_count": 44,
   "id": "5cc087bc",
   "metadata": {
    "ExecuteTime": {
     "end_time": "2022-10-07T13:17:19.557926Z",
     "start_time": "2022-10-07T13:17:19.548531Z"
    }
   },
   "outputs": [
    {
     "data": {
      "text/html": [
       "<div>\n",
       "<style scoped>\n",
       "    .dataframe tbody tr th:only-of-type {\n",
       "        vertical-align: middle;\n",
       "    }\n",
       "\n",
       "    .dataframe tbody tr th {\n",
       "        vertical-align: top;\n",
       "    }\n",
       "\n",
       "    .dataframe thead th {\n",
       "        text-align: right;\n",
       "    }\n",
       "</style>\n",
       "<table border=\"1\" class=\"dataframe\">\n",
       "  <thead>\n",
       "    <tr style=\"text-align: right;\">\n",
       "      <th></th>\n",
       "      <th>tweets</th>\n",
       "      <th>sentiment</th>\n",
       "      <th>word_counts</th>\n",
       "      <th>char_counts</th>\n",
       "      <th>avg_word_len</th>\n",
       "      <th>stop_word_len</th>\n",
       "      <th>#_counts</th>\n",
       "      <th>@_counts</th>\n",
       "      <th>numeric_counts</th>\n",
       "      <th>upper_counts</th>\n",
       "      <th>email</th>\n",
       "      <th>email_counts</th>\n",
       "    </tr>\n",
       "  </thead>\n",
       "  <tbody>\n",
       "    <tr>\n",
       "      <th>0</th>\n",
       "      <td>@switchfoot http://twitpic.com/2y1zl - awww, that's a bummer.  you shoulda got david carr of third day to do it. ;d</td>\n",
       "      <td>0</td>\n",
       "      <td>19</td>\n",
       "      <td>115</td>\n",
       "      <td>5.052632</td>\n",
       "      <td>4</td>\n",
       "      <td>0</td>\n",
       "      <td>1</td>\n",
       "      <td>0</td>\n",
       "      <td>1</td>\n",
       "      <td>[]</td>\n",
       "      <td>0</td>\n",
       "    </tr>\n",
       "    <tr>\n",
       "      <th>1</th>\n",
       "      <td>is upset that he can't update his facebook by texting it... and might cry as a result  school today also. blah!</td>\n",
       "      <td>0</td>\n",
       "      <td>21</td>\n",
       "      <td>111</td>\n",
       "      <td>4.285714</td>\n",
       "      <td>9</td>\n",
       "      <td>0</td>\n",
       "      <td>0</td>\n",
       "      <td>0</td>\n",
       "      <td>0</td>\n",
       "      <td>[]</td>\n",
       "      <td>0</td>\n",
       "    </tr>\n",
       "    <tr>\n",
       "      <th>2</th>\n",
       "      <td>@kenichan i dived many times for the ball. managed to save 50%  the rest go out of bounds</td>\n",
       "      <td>0</td>\n",
       "      <td>18</td>\n",
       "      <td>89</td>\n",
       "      <td>3.944444</td>\n",
       "      <td>7</td>\n",
       "      <td>0</td>\n",
       "      <td>1</td>\n",
       "      <td>0</td>\n",
       "      <td>1</td>\n",
       "      <td>[]</td>\n",
       "      <td>0</td>\n",
       "    </tr>\n",
       "    <tr>\n",
       "      <th>3</th>\n",
       "      <td>my whole body feels itchy and like its on fire</td>\n",
       "      <td>0</td>\n",
       "      <td>10</td>\n",
       "      <td>47</td>\n",
       "      <td>3.700000</td>\n",
       "      <td>5</td>\n",
       "      <td>0</td>\n",
       "      <td>0</td>\n",
       "      <td>0</td>\n",
       "      <td>0</td>\n",
       "      <td>[]</td>\n",
       "      <td>0</td>\n",
       "    </tr>\n",
       "    <tr>\n",
       "      <th>4</th>\n",
       "      <td>@nationwideclass no, it's not behaving at all. i'm mad. why am i here? because i can't see you all over there.</td>\n",
       "      <td>0</td>\n",
       "      <td>21</td>\n",
       "      <td>111</td>\n",
       "      <td>4.285714</td>\n",
       "      <td>10</td>\n",
       "      <td>0</td>\n",
       "      <td>1</td>\n",
       "      <td>0</td>\n",
       "      <td>1</td>\n",
       "      <td>[]</td>\n",
       "      <td>0</td>\n",
       "    </tr>\n",
       "  </tbody>\n",
       "</table>\n",
       "</div>"
      ],
      "text/plain": [
       "                                                                                                                tweets  \\\n",
       "0  @switchfoot http://twitpic.com/2y1zl - awww, that's a bummer.  you shoulda got david carr of third day to do it. ;d   \n",
       "1      is upset that he can't update his facebook by texting it... and might cry as a result  school today also. blah!   \n",
       "2                            @kenichan i dived many times for the ball. managed to save 50%  the rest go out of bounds   \n",
       "3                                                                      my whole body feels itchy and like its on fire    \n",
       "4      @nationwideclass no, it's not behaving at all. i'm mad. why am i here? because i can't see you all over there.    \n",
       "\n",
       "   sentiment  word_counts  char_counts  avg_word_len  stop_word_len  #_counts  \\\n",
       "0          0           19          115      5.052632              4         0   \n",
       "1          0           21          111      4.285714              9         0   \n",
       "2          0           18           89      3.944444              7         0   \n",
       "3          0           10           47      3.700000              5         0   \n",
       "4          0           21          111      4.285714             10         0   \n",
       "\n",
       "   @_counts  numeric_counts  upper_counts email  email_counts  \n",
       "0         1               0             1    []             0  \n",
       "1         0               0             0    []             0  \n",
       "2         1               0             1    []             0  \n",
       "3         0               0             0    []             0  \n",
       "4         1               0             1    []             0  "
      ]
     },
     "execution_count": 44,
     "metadata": {},
     "output_type": "execute_result"
    }
   ],
   "source": [
    "df.head()"
   ]
  },
  {
   "cell_type": "code",
   "execution_count": 45,
   "id": "d30aa6a9",
   "metadata": {
    "ExecuteTime": {
     "end_time": "2022-10-07T13:17:19.735937Z",
     "start_time": "2022-10-07T13:17:19.559093Z"
    }
   },
   "outputs": [
    {
     "data": {
      "text/html": [
       "<div>\n",
       "<style scoped>\n",
       "    .dataframe tbody tr th:only-of-type {\n",
       "        vertical-align: middle;\n",
       "    }\n",
       "\n",
       "    .dataframe tbody tr th {\n",
       "        vertical-align: top;\n",
       "    }\n",
       "\n",
       "    .dataframe thead th {\n",
       "        text-align: right;\n",
       "    }\n",
       "</style>\n",
       "<table border=\"1\" class=\"dataframe\">\n",
       "  <thead>\n",
       "    <tr style=\"text-align: right;\">\n",
       "      <th></th>\n",
       "      <th>tweets</th>\n",
       "      <th>sentiment</th>\n",
       "      <th>word_counts</th>\n",
       "      <th>char_counts</th>\n",
       "      <th>avg_word_len</th>\n",
       "      <th>stop_word_len</th>\n",
       "      <th>#_counts</th>\n",
       "      <th>@_counts</th>\n",
       "      <th>numeric_counts</th>\n",
       "      <th>upper_counts</th>\n",
       "      <th>email</th>\n",
       "      <th>email_counts</th>\n",
       "    </tr>\n",
       "  </thead>\n",
       "  <tbody>\n",
       "    <tr>\n",
       "      <th>4054</th>\n",
       "      <td>i want a new laptop.  hp tx2000 is the bomb. :| who knows how much it is? im me: gabbehhramos@yahoo.com</td>\n",
       "      <td>0</td>\n",
       "      <td>20</td>\n",
       "      <td>103</td>\n",
       "      <td>4.150000</td>\n",
       "      <td>6</td>\n",
       "      <td>0</td>\n",
       "      <td>0</td>\n",
       "      <td>0</td>\n",
       "      <td>4</td>\n",
       "      <td>[gabbehhramos@yahoo.com]</td>\n",
       "      <td>1</td>\n",
       "    </tr>\n",
       "    <tr>\n",
       "      <th>7917</th>\n",
       "      <td>who stole elledell@gmail.com?</td>\n",
       "      <td>0</td>\n",
       "      <td>3</td>\n",
       "      <td>31</td>\n",
       "      <td>9.000000</td>\n",
       "      <td>1</td>\n",
       "      <td>0</td>\n",
       "      <td>0</td>\n",
       "      <td>0</td>\n",
       "      <td>0</td>\n",
       "      <td>[elledell@gmail.com]</td>\n",
       "      <td>1</td>\n",
       "    </tr>\n",
       "    <tr>\n",
       "      <th>8496</th>\n",
       "      <td>@alexistehpom  really? did you send out all the info already? if you did..maybe you could just email me stuff missataari@gmail.com</td>\n",
       "      <td>0</td>\n",
       "      <td>20</td>\n",
       "      <td>130</td>\n",
       "      <td>5.500000</td>\n",
       "      <td>11</td>\n",
       "      <td>0</td>\n",
       "      <td>1</td>\n",
       "      <td>0</td>\n",
       "      <td>0</td>\n",
       "      <td>[missataari@gmail.com]</td>\n",
       "      <td>1</td>\n",
       "    </tr>\n",
       "    <tr>\n",
       "      <th>10290</th>\n",
       "      <td>@laureystack awh...that's kinda sad  lol add me?? hello.kitty.65@hotmail.com</td>\n",
       "      <td>0</td>\n",
       "      <td>8</td>\n",
       "      <td>76</td>\n",
       "      <td>8.500000</td>\n",
       "      <td>0</td>\n",
       "      <td>0</td>\n",
       "      <td>1</td>\n",
       "      <td>0</td>\n",
       "      <td>0</td>\n",
       "      <td>[hello.kitty.65@hotmail.com]</td>\n",
       "      <td>1</td>\n",
       "    </tr>\n",
       "    <tr>\n",
       "      <th>16413</th>\n",
       "      <td>@jilliancyork  got 2 bottom of it, human error  bug from a release last month, being fixed tonight.  email press@linkedin.com for details</td>\n",
       "      <td>0</td>\n",
       "      <td>21</td>\n",
       "      <td>137</td>\n",
       "      <td>5.428571</td>\n",
       "      <td>7</td>\n",
       "      <td>0</td>\n",
       "      <td>1</td>\n",
       "      <td>1</td>\n",
       "      <td>0</td>\n",
       "      <td>[press@linkedin.com]</td>\n",
       "      <td>1</td>\n",
       "    </tr>\n",
       "  </tbody>\n",
       "</table>\n",
       "</div>"
      ],
      "text/plain": [
       "                                                                                                                                          tweets  \\\n",
       "4054                                     i want a new laptop.  hp tx2000 is the bomb. :| who knows how much it is? im me: gabbehhramos@yahoo.com   \n",
       "7917                                                                                                             who stole elledell@gmail.com?     \n",
       "8496          @alexistehpom  really? did you send out all the info already? if you did..maybe you could just email me stuff missataari@gmail.com   \n",
       "10290                                                               @laureystack awh...that's kinda sad  lol add me?? hello.kitty.65@hotmail.com   \n",
       "16413  @jilliancyork  got 2 bottom of it, human error  bug from a release last month, being fixed tonight.  email press@linkedin.com for details   \n",
       "\n",
       "       sentiment  word_counts  char_counts  avg_word_len  stop_word_len  \\\n",
       "4054           0           20          103      4.150000              6   \n",
       "7917           0            3           31      9.000000              1   \n",
       "8496           0           20          130      5.500000             11   \n",
       "10290          0            8           76      8.500000              0   \n",
       "16413          0           21          137      5.428571              7   \n",
       "\n",
       "       #_counts  @_counts  numeric_counts  upper_counts  \\\n",
       "4054          0         0               0             4   \n",
       "7917          0         0               0             0   \n",
       "8496          0         1               0             0   \n",
       "10290         0         1               0             0   \n",
       "16413         0         1               1             0   \n",
       "\n",
       "                              email  email_counts  \n",
       "4054       [gabbehhramos@yahoo.com]             1  \n",
       "7917           [elledell@gmail.com]             1  \n",
       "8496         [missataari@gmail.com]             1  \n",
       "10290  [hello.kitty.65@hotmail.com]             1  \n",
       "16413          [press@linkedin.com]             1  "
      ]
     },
     "execution_count": 45,
     "metadata": {},
     "output_type": "execute_result"
    }
   ],
   "source": [
    "# find which tweets has mail\n",
    "df[df['email_counts']>0].head()"
   ]
  },
  {
   "cell_type": "code",
   "execution_count": 46,
   "id": "b690fe2a",
   "metadata": {
    "ExecuteTime": {
     "end_time": "2022-10-07T13:17:19.742897Z",
     "start_time": "2022-10-07T13:17:19.737786Z"
    },
    "scrolled": true
   },
   "outputs": [
    {
     "data": {
      "text/plain": [
       "tweets            i want a new laptop.  hp tx2000 is the bomb. :| who knows how much it is? im me: gabbehhramos@yahoo.com\n",
       "sentiment                                                                                                               0\n",
       "word_counts                                                                                                            20\n",
       "char_counts                                                                                                           103\n",
       "avg_word_len                                                                                                         4.15\n",
       "stop_word_len                                                                                                           6\n",
       "#_counts                                                                                                                0\n",
       "@_counts                                                                                                                0\n",
       "numeric_counts                                                                                                          0\n",
       "upper_counts                                                                                                            4\n",
       "email                                                                                            [gabbehhramos@yahoo.com]\n",
       "email_counts                                                                                                            1\n",
       "Name: 4054, dtype: object"
      ]
     },
     "execution_count": 46,
     "metadata": {},
     "output_type": "execute_result"
    }
   ],
   "source": [
    "df.loc[4054] "
   ]
  },
  {
   "cell_type": "code",
   "execution_count": 47,
   "id": "1c86f54d",
   "metadata": {
    "ExecuteTime": {
     "end_time": "2022-10-07T13:17:24.715516Z",
     "start_time": "2022-10-07T13:17:19.744186Z"
    }
   },
   "outputs": [],
   "source": [
    "# remove email\n",
    "df['tweets'] = df['tweets'].apply(lambda x: re.sub(r'([a-zA-Z0-9+._-]+@[a-zA-Z0-9._-]+\\.[a-zA-Z0-9_-]+)', '' ,x))"
   ]
  },
  {
   "cell_type": "code",
   "execution_count": 48,
   "id": "2b116a2e",
   "metadata": {
    "ExecuteTime": {
     "end_time": "2022-10-07T13:17:24.859199Z",
     "start_time": "2022-10-07T13:17:24.717676Z"
    }
   },
   "outputs": [
    {
     "data": {
      "text/plain": [
       "tweets            i want a new laptop.  hp tx2000 is the bomb. :| who knows how much it is? im me: \n",
       "sentiment                                                                                         0\n",
       "word_counts                                                                                      20\n",
       "char_counts                                                                                     103\n",
       "avg_word_len                                                                                   4.15\n",
       "stop_word_len                                                                                     6\n",
       "#_counts                                                                                          0\n",
       "@_counts                                                                                          0\n",
       "numeric_counts                                                                                    0\n",
       "upper_counts                                                                                      4\n",
       "email                                                                      [gabbehhramos@yahoo.com]\n",
       "email_counts                                                                                      1\n",
       "Name: 4054, dtype: object"
      ]
     },
     "execution_count": 48,
     "metadata": {},
     "output_type": "execute_result"
    }
   ],
   "source": [
    "df.loc[4054] "
   ]
  },
  {
   "cell_type": "code",
   "execution_count": 49,
   "id": "ae285c01",
   "metadata": {
    "ExecuteTime": {
     "end_time": "2022-10-07T13:17:24.879487Z",
     "start_time": "2022-10-07T13:17:24.861535Z"
    },
    "scrolled": true
   },
   "outputs": [
    {
     "data": {
      "text/html": [
       "<div>\n",
       "<style scoped>\n",
       "    .dataframe tbody tr th:only-of-type {\n",
       "        vertical-align: middle;\n",
       "    }\n",
       "\n",
       "    .dataframe tbody tr th {\n",
       "        vertical-align: top;\n",
       "    }\n",
       "\n",
       "    .dataframe thead th {\n",
       "        text-align: right;\n",
       "    }\n",
       "</style>\n",
       "<table border=\"1\" class=\"dataframe\">\n",
       "  <thead>\n",
       "    <tr style=\"text-align: right;\">\n",
       "      <th></th>\n",
       "      <th>tweets</th>\n",
       "      <th>sentiment</th>\n",
       "      <th>word_counts</th>\n",
       "      <th>char_counts</th>\n",
       "      <th>avg_word_len</th>\n",
       "      <th>stop_word_len</th>\n",
       "      <th>#_counts</th>\n",
       "      <th>@_counts</th>\n",
       "      <th>numeric_counts</th>\n",
       "      <th>upper_counts</th>\n",
       "      <th>email</th>\n",
       "      <th>email_counts</th>\n",
       "    </tr>\n",
       "  </thead>\n",
       "  <tbody>\n",
       "    <tr>\n",
       "      <th>4054</th>\n",
       "      <td>i want a new laptop.  hp tx2000 is the bomb. :| who knows how much it is? im me:</td>\n",
       "      <td>0</td>\n",
       "      <td>20</td>\n",
       "      <td>103</td>\n",
       "      <td>4.150000</td>\n",
       "      <td>6</td>\n",
       "      <td>0</td>\n",
       "      <td>0</td>\n",
       "      <td>0</td>\n",
       "      <td>4</td>\n",
       "      <td>[gabbehhramos@yahoo.com]</td>\n",
       "      <td>1</td>\n",
       "    </tr>\n",
       "    <tr>\n",
       "      <th>7917</th>\n",
       "      <td>who stole ?</td>\n",
       "      <td>0</td>\n",
       "      <td>3</td>\n",
       "      <td>31</td>\n",
       "      <td>9.000000</td>\n",
       "      <td>1</td>\n",
       "      <td>0</td>\n",
       "      <td>0</td>\n",
       "      <td>0</td>\n",
       "      <td>0</td>\n",
       "      <td>[elledell@gmail.com]</td>\n",
       "      <td>1</td>\n",
       "    </tr>\n",
       "    <tr>\n",
       "      <th>8496</th>\n",
       "      <td>@alexistehpom  really? did you send out all the info already? if you did..maybe you could just email me stuff</td>\n",
       "      <td>0</td>\n",
       "      <td>20</td>\n",
       "      <td>130</td>\n",
       "      <td>5.500000</td>\n",
       "      <td>11</td>\n",
       "      <td>0</td>\n",
       "      <td>1</td>\n",
       "      <td>0</td>\n",
       "      <td>0</td>\n",
       "      <td>[missataari@gmail.com]</td>\n",
       "      <td>1</td>\n",
       "    </tr>\n",
       "    <tr>\n",
       "      <th>10290</th>\n",
       "      <td>@laureystack awh...that's kinda sad  lol add me??</td>\n",
       "      <td>0</td>\n",
       "      <td>8</td>\n",
       "      <td>76</td>\n",
       "      <td>8.500000</td>\n",
       "      <td>0</td>\n",
       "      <td>0</td>\n",
       "      <td>1</td>\n",
       "      <td>0</td>\n",
       "      <td>0</td>\n",
       "      <td>[hello.kitty.65@hotmail.com]</td>\n",
       "      <td>1</td>\n",
       "    </tr>\n",
       "    <tr>\n",
       "      <th>16413</th>\n",
       "      <td>@jilliancyork  got 2 bottom of it, human error  bug from a release last month, being fixed tonight.  email  for details</td>\n",
       "      <td>0</td>\n",
       "      <td>21</td>\n",
       "      <td>137</td>\n",
       "      <td>5.428571</td>\n",
       "      <td>7</td>\n",
       "      <td>0</td>\n",
       "      <td>1</td>\n",
       "      <td>1</td>\n",
       "      <td>0</td>\n",
       "      <td>[press@linkedin.com]</td>\n",
       "      <td>1</td>\n",
       "    </tr>\n",
       "  </tbody>\n",
       "</table>\n",
       "</div>"
      ],
      "text/plain": [
       "                                                                                                                        tweets  \\\n",
       "4054                                         i want a new laptop.  hp tx2000 is the bomb. :| who knows how much it is? im me:    \n",
       "7917                                                                                                             who stole ?     \n",
       "8496            @alexistehpom  really? did you send out all the info already? if you did..maybe you could just email me stuff    \n",
       "10290                                                                       @laureystack awh...that's kinda sad  lol add me??    \n",
       "16413  @jilliancyork  got 2 bottom of it, human error  bug from a release last month, being fixed tonight.  email  for details   \n",
       "\n",
       "       sentiment  word_counts  char_counts  avg_word_len  stop_word_len  \\\n",
       "4054           0           20          103      4.150000              6   \n",
       "7917           0            3           31      9.000000              1   \n",
       "8496           0           20          130      5.500000             11   \n",
       "10290          0            8           76      8.500000              0   \n",
       "16413          0           21          137      5.428571              7   \n",
       "\n",
       "       #_counts  @_counts  numeric_counts  upper_counts  \\\n",
       "4054          0         0               0             4   \n",
       "7917          0         0               0             0   \n",
       "8496          0         1               0             0   \n",
       "10290         0         1               0             0   \n",
       "16413         0         1               1             0   \n",
       "\n",
       "                              email  email_counts  \n",
       "4054       [gabbehhramos@yahoo.com]             1  \n",
       "7917           [elledell@gmail.com]             1  \n",
       "8496         [missataari@gmail.com]             1  \n",
       "10290  [hello.kitty.65@hotmail.com]             1  \n",
       "16413          [press@linkedin.com]             1  "
      ]
     },
     "execution_count": 49,
     "metadata": {},
     "output_type": "execute_result"
    }
   ],
   "source": [
    "df[df['email_counts']>0].head()"
   ]
  },
  {
   "cell_type": "markdown",
   "id": "c126e47c",
   "metadata": {},
   "source": [
    "##### URLs removal and counts"
   ]
  },
  {
   "cell_type": "code",
   "execution_count": 50,
   "id": "e65ad7f5",
   "metadata": {
    "ExecuteTime": {
     "end_time": "2022-10-07T13:17:24.883857Z",
     "start_time": "2022-10-07T13:17:24.881252Z"
    }
   },
   "outputs": [],
   "source": [
    "# 52 min"
   ]
  },
  {
   "cell_type": "code",
   "execution_count": 51,
   "id": "7f549110",
   "metadata": {
    "ExecuteTime": {
     "end_time": "2022-10-07T13:17:24.888835Z",
     "start_time": "2022-10-07T13:17:24.886290Z"
    }
   },
   "outputs": [],
   "source": [
    "x = 'hi, visit https://youtube.com/arafat6462 https://youtube.com'"
   ]
  },
  {
   "cell_type": "code",
   "execution_count": 52,
   "id": "3818c9b2",
   "metadata": {
    "ExecuteTime": {
     "end_time": "2022-10-07T13:17:24.894892Z",
     "start_time": "2022-10-07T13:17:24.890709Z"
    }
   },
   "outputs": [
    {
     "data": {
      "text/plain": [
       "[('https', 'youtube.com', '/arafat6462'), ('https', 'youtube.com', '')]"
      ]
     },
     "execution_count": 52,
     "metadata": {},
     "output_type": "execute_result"
    }
   ],
   "source": [
    "re.findall(r'(http|ftp|https)://([\\w_-]+(?:(?:\\.[\\w_-]+)+))([\\w.,@?^=%&:/~+#-]*[\\w@?^=%&/~+#-])?', x)\n"
   ]
  },
  {
   "cell_type": "code",
   "execution_count": null,
   "id": "aba45c90",
   "metadata": {},
   "outputs": [],
   "source": []
  },
  {
   "cell_type": "code",
   "execution_count": 53,
   "id": "cb23781e",
   "metadata": {
    "ExecuteTime": {
     "end_time": "2022-10-07T13:17:27.192645Z",
     "start_time": "2022-10-07T13:17:24.896526Z"
    }
   },
   "outputs": [],
   "source": [
    "df['url_flag'] = df['tweets'].apply(lambda x: len(re.findall(r'(http|ftp|https)://([\\w_-]+(?:(?:\\.[\\w_-]+)+))([\\w.,@?^=%&:/~+#-]*[\\w@?^=%&/~+#-])?', x)))"
   ]
  },
  {
   "cell_type": "code",
   "execution_count": 54,
   "id": "91bd27a9",
   "metadata": {
    "ExecuteTime": {
     "end_time": "2022-10-07T13:17:27.206096Z",
     "start_time": "2022-10-07T13:17:27.194270Z"
    }
   },
   "outputs": [
    {
     "data": {
      "text/html": [
       "<div>\n",
       "<style scoped>\n",
       "    .dataframe tbody tr th:only-of-type {\n",
       "        vertical-align: middle;\n",
       "    }\n",
       "\n",
       "    .dataframe tbody tr th {\n",
       "        vertical-align: top;\n",
       "    }\n",
       "\n",
       "    .dataframe thead th {\n",
       "        text-align: right;\n",
       "    }\n",
       "</style>\n",
       "<table border=\"1\" class=\"dataframe\">\n",
       "  <thead>\n",
       "    <tr style=\"text-align: right;\">\n",
       "      <th></th>\n",
       "      <th>tweets</th>\n",
       "      <th>sentiment</th>\n",
       "      <th>word_counts</th>\n",
       "      <th>char_counts</th>\n",
       "      <th>avg_word_len</th>\n",
       "      <th>stop_word_len</th>\n",
       "      <th>#_counts</th>\n",
       "      <th>@_counts</th>\n",
       "      <th>numeric_counts</th>\n",
       "      <th>upper_counts</th>\n",
       "      <th>email</th>\n",
       "      <th>email_counts</th>\n",
       "      <th>url_flag</th>\n",
       "    </tr>\n",
       "  </thead>\n",
       "  <tbody>\n",
       "    <tr>\n",
       "      <th>0</th>\n",
       "      <td>@switchfoot http://twitpic.com/2y1zl - awww, that's a bummer.  you shoulda got david carr of third day to do it. ;d</td>\n",
       "      <td>0</td>\n",
       "      <td>19</td>\n",
       "      <td>115</td>\n",
       "      <td>5.052632</td>\n",
       "      <td>4</td>\n",
       "      <td>0</td>\n",
       "      <td>1</td>\n",
       "      <td>0</td>\n",
       "      <td>1</td>\n",
       "      <td>[]</td>\n",
       "      <td>0</td>\n",
       "      <td>1</td>\n",
       "    </tr>\n",
       "    <tr>\n",
       "      <th>1</th>\n",
       "      <td>is upset that he can't update his facebook by texting it... and might cry as a result  school today also. blah!</td>\n",
       "      <td>0</td>\n",
       "      <td>21</td>\n",
       "      <td>111</td>\n",
       "      <td>4.285714</td>\n",
       "      <td>9</td>\n",
       "      <td>0</td>\n",
       "      <td>0</td>\n",
       "      <td>0</td>\n",
       "      <td>0</td>\n",
       "      <td>[]</td>\n",
       "      <td>0</td>\n",
       "      <td>0</td>\n",
       "    </tr>\n",
       "    <tr>\n",
       "      <th>2</th>\n",
       "      <td>@kenichan i dived many times for the ball. managed to save 50%  the rest go out of bounds</td>\n",
       "      <td>0</td>\n",
       "      <td>18</td>\n",
       "      <td>89</td>\n",
       "      <td>3.944444</td>\n",
       "      <td>7</td>\n",
       "      <td>0</td>\n",
       "      <td>1</td>\n",
       "      <td>0</td>\n",
       "      <td>1</td>\n",
       "      <td>[]</td>\n",
       "      <td>0</td>\n",
       "      <td>0</td>\n",
       "    </tr>\n",
       "    <tr>\n",
       "      <th>3</th>\n",
       "      <td>my whole body feels itchy and like its on fire</td>\n",
       "      <td>0</td>\n",
       "      <td>10</td>\n",
       "      <td>47</td>\n",
       "      <td>3.700000</td>\n",
       "      <td>5</td>\n",
       "      <td>0</td>\n",
       "      <td>0</td>\n",
       "      <td>0</td>\n",
       "      <td>0</td>\n",
       "      <td>[]</td>\n",
       "      <td>0</td>\n",
       "      <td>0</td>\n",
       "    </tr>\n",
       "    <tr>\n",
       "      <th>4</th>\n",
       "      <td>@nationwideclass no, it's not behaving at all. i'm mad. why am i here? because i can't see you all over there.</td>\n",
       "      <td>0</td>\n",
       "      <td>21</td>\n",
       "      <td>111</td>\n",
       "      <td>4.285714</td>\n",
       "      <td>10</td>\n",
       "      <td>0</td>\n",
       "      <td>1</td>\n",
       "      <td>0</td>\n",
       "      <td>1</td>\n",
       "      <td>[]</td>\n",
       "      <td>0</td>\n",
       "      <td>0</td>\n",
       "    </tr>\n",
       "  </tbody>\n",
       "</table>\n",
       "</div>"
      ],
      "text/plain": [
       "                                                                                                                tweets  \\\n",
       "0  @switchfoot http://twitpic.com/2y1zl - awww, that's a bummer.  you shoulda got david carr of third day to do it. ;d   \n",
       "1      is upset that he can't update his facebook by texting it... and might cry as a result  school today also. blah!   \n",
       "2                            @kenichan i dived many times for the ball. managed to save 50%  the rest go out of bounds   \n",
       "3                                                                      my whole body feels itchy and like its on fire    \n",
       "4      @nationwideclass no, it's not behaving at all. i'm mad. why am i here? because i can't see you all over there.    \n",
       "\n",
       "   sentiment  word_counts  char_counts  avg_word_len  stop_word_len  #_counts  \\\n",
       "0          0           19          115      5.052632              4         0   \n",
       "1          0           21          111      4.285714              9         0   \n",
       "2          0           18           89      3.944444              7         0   \n",
       "3          0           10           47      3.700000              5         0   \n",
       "4          0           21          111      4.285714             10         0   \n",
       "\n",
       "   @_counts  numeric_counts  upper_counts email  email_counts  url_flag  \n",
       "0         1               0             1    []             0         1  \n",
       "1         0               0             0    []             0         0  \n",
       "2         1               0             1    []             0         0  \n",
       "3         0               0             0    []             0         0  \n",
       "4         1               0             1    []             0         0  "
      ]
     },
     "execution_count": 54,
     "metadata": {},
     "output_type": "execute_result"
    }
   ],
   "source": [
    "df.head()"
   ]
  },
  {
   "cell_type": "code",
   "execution_count": 55,
   "id": "9eb20391",
   "metadata": {
    "ExecuteTime": {
     "end_time": "2022-10-07T13:17:27.213808Z",
     "start_time": "2022-10-07T13:17:27.207758Z"
    }
   },
   "outputs": [
    {
     "data": {
      "text/plain": [
       "'hi, visit  '"
      ]
     },
     "execution_count": 55,
     "metadata": {},
     "output_type": "execute_result"
    }
   ],
   "source": [
    "re.sub(r'(http|ftp|https)://([\\w_-]+(?:(?:\\.[\\w_-]+)+))([\\w.,@?^=%&:/~+#-]*[\\w@?^=%&/~+#-])?',\"\", x)\n"
   ]
  },
  {
   "cell_type": "code",
   "execution_count": 56,
   "id": "1027b9b1",
   "metadata": {
    "ExecuteTime": {
     "end_time": "2022-10-07T13:17:29.331695Z",
     "start_time": "2022-10-07T13:17:27.215404Z"
    }
   },
   "outputs": [],
   "source": [
    "# remove form dataframe\n",
    "df['tweets'] = df['tweets'].apply(lambda x: re.sub(r'(http|ftp|https)://([\\w_-]+(?:(?:\\.[\\w_-]+)+))([\\w.,@?^=%&:/~+#-]*[\\w@?^=%&/~+#-])?','', x))"
   ]
  },
  {
   "cell_type": "code",
   "execution_count": 57,
   "id": "9c5da22a",
   "metadata": {
    "ExecuteTime": {
     "end_time": "2022-10-07T13:17:29.350802Z",
     "start_time": "2022-10-07T13:17:29.333674Z"
    },
    "scrolled": true
   },
   "outputs": [
    {
     "data": {
      "text/html": [
       "<div>\n",
       "<style scoped>\n",
       "    .dataframe tbody tr th:only-of-type {\n",
       "        vertical-align: middle;\n",
       "    }\n",
       "\n",
       "    .dataframe tbody tr th {\n",
       "        vertical-align: top;\n",
       "    }\n",
       "\n",
       "    .dataframe thead th {\n",
       "        text-align: right;\n",
       "    }\n",
       "</style>\n",
       "<table border=\"1\" class=\"dataframe\">\n",
       "  <thead>\n",
       "    <tr style=\"text-align: right;\">\n",
       "      <th></th>\n",
       "      <th>tweets</th>\n",
       "      <th>sentiment</th>\n",
       "      <th>word_counts</th>\n",
       "      <th>char_counts</th>\n",
       "      <th>avg_word_len</th>\n",
       "      <th>stop_word_len</th>\n",
       "      <th>#_counts</th>\n",
       "      <th>@_counts</th>\n",
       "      <th>numeric_counts</th>\n",
       "      <th>upper_counts</th>\n",
       "      <th>email</th>\n",
       "      <th>email_counts</th>\n",
       "      <th>url_flag</th>\n",
       "    </tr>\n",
       "  </thead>\n",
       "  <tbody>\n",
       "    <tr>\n",
       "      <th>0</th>\n",
       "      <td>@switchfoot  - awww, that's a bummer.  you shoulda got david carr of third day to do it. ;d</td>\n",
       "      <td>0</td>\n",
       "      <td>19</td>\n",
       "      <td>115</td>\n",
       "      <td>5.052632</td>\n",
       "      <td>4</td>\n",
       "      <td>0</td>\n",
       "      <td>1</td>\n",
       "      <td>0</td>\n",
       "      <td>1</td>\n",
       "      <td>[]</td>\n",
       "      <td>0</td>\n",
       "      <td>1</td>\n",
       "    </tr>\n",
       "    <tr>\n",
       "      <th>1</th>\n",
       "      <td>is upset that he can't update his facebook by texting it... and might cry as a result  school today also. blah!</td>\n",
       "      <td>0</td>\n",
       "      <td>21</td>\n",
       "      <td>111</td>\n",
       "      <td>4.285714</td>\n",
       "      <td>9</td>\n",
       "      <td>0</td>\n",
       "      <td>0</td>\n",
       "      <td>0</td>\n",
       "      <td>0</td>\n",
       "      <td>[]</td>\n",
       "      <td>0</td>\n",
       "      <td>0</td>\n",
       "    </tr>\n",
       "    <tr>\n",
       "      <th>2</th>\n",
       "      <td>@kenichan i dived many times for the ball. managed to save 50%  the rest go out of bounds</td>\n",
       "      <td>0</td>\n",
       "      <td>18</td>\n",
       "      <td>89</td>\n",
       "      <td>3.944444</td>\n",
       "      <td>7</td>\n",
       "      <td>0</td>\n",
       "      <td>1</td>\n",
       "      <td>0</td>\n",
       "      <td>1</td>\n",
       "      <td>[]</td>\n",
       "      <td>0</td>\n",
       "      <td>0</td>\n",
       "    </tr>\n",
       "    <tr>\n",
       "      <th>3</th>\n",
       "      <td>my whole body feels itchy and like its on fire</td>\n",
       "      <td>0</td>\n",
       "      <td>10</td>\n",
       "      <td>47</td>\n",
       "      <td>3.700000</td>\n",
       "      <td>5</td>\n",
       "      <td>0</td>\n",
       "      <td>0</td>\n",
       "      <td>0</td>\n",
       "      <td>0</td>\n",
       "      <td>[]</td>\n",
       "      <td>0</td>\n",
       "      <td>0</td>\n",
       "    </tr>\n",
       "    <tr>\n",
       "      <th>4</th>\n",
       "      <td>@nationwideclass no, it's not behaving at all. i'm mad. why am i here? because i can't see you all over there.</td>\n",
       "      <td>0</td>\n",
       "      <td>21</td>\n",
       "      <td>111</td>\n",
       "      <td>4.285714</td>\n",
       "      <td>10</td>\n",
       "      <td>0</td>\n",
       "      <td>1</td>\n",
       "      <td>0</td>\n",
       "      <td>1</td>\n",
       "      <td>[]</td>\n",
       "      <td>0</td>\n",
       "      <td>0</td>\n",
       "    </tr>\n",
       "  </tbody>\n",
       "</table>\n",
       "</div>"
      ],
      "text/plain": [
       "                                                                                                            tweets  \\\n",
       "0                      @switchfoot  - awww, that's a bummer.  you shoulda got david carr of third day to do it. ;d   \n",
       "1  is upset that he can't update his facebook by texting it... and might cry as a result  school today also. blah!   \n",
       "2                        @kenichan i dived many times for the ball. managed to save 50%  the rest go out of bounds   \n",
       "3                                                                  my whole body feels itchy and like its on fire    \n",
       "4  @nationwideclass no, it's not behaving at all. i'm mad. why am i here? because i can't see you all over there.    \n",
       "\n",
       "   sentiment  word_counts  char_counts  avg_word_len  stop_word_len  #_counts  \\\n",
       "0          0           19          115      5.052632              4         0   \n",
       "1          0           21          111      4.285714              9         0   \n",
       "2          0           18           89      3.944444              7         0   \n",
       "3          0           10           47      3.700000              5         0   \n",
       "4          0           21          111      4.285714             10         0   \n",
       "\n",
       "   @_counts  numeric_counts  upper_counts email  email_counts  url_flag  \n",
       "0         1               0             1    []             0         1  \n",
       "1         0               0             0    []             0         0  \n",
       "2         1               0             1    []             0         0  \n",
       "3         0               0             0    []             0         0  \n",
       "4         1               0             1    []             0         0  "
      ]
     },
     "execution_count": 57,
     "metadata": {},
     "output_type": "execute_result"
    }
   ],
   "source": [
    "df.head()"
   ]
  },
  {
   "cell_type": "code",
   "execution_count": 58,
   "id": "d8f807f2",
   "metadata": {
    "ExecuteTime": {
     "end_time": "2022-10-07T13:17:29.524967Z",
     "start_time": "2022-10-07T13:17:29.353098Z"
    }
   },
   "outputs": [
    {
     "data": {
      "text/plain": [
       "\"@switchfoot  - awww, that's a bummer.  you shoulda got david carr of third day to do it. ;d\""
      ]
     },
     "execution_count": 58,
     "metadata": {},
     "output_type": "execute_result"
    }
   ],
   "source": [
    "df.loc[0]['tweets']"
   ]
  },
  {
   "cell_type": "markdown",
   "id": "97328382",
   "metadata": {},
   "source": [
    "##### Removal of RT (rt tweets)"
   ]
  },
  {
   "cell_type": "code",
   "execution_count": 59,
   "id": "10892b30",
   "metadata": {
    "ExecuteTime": {
     "end_time": "2022-10-07T13:17:29.565140Z",
     "start_time": "2022-10-07T13:17:29.526941Z"
    }
   },
   "outputs": [
    {
     "data": {
      "text/html": [
       "<div>\n",
       "<style scoped>\n",
       "    .dataframe tbody tr th:only-of-type {\n",
       "        vertical-align: middle;\n",
       "    }\n",
       "\n",
       "    .dataframe tbody tr th {\n",
       "        vertical-align: top;\n",
       "    }\n",
       "\n",
       "    .dataframe thead th {\n",
       "        text-align: right;\n",
       "    }\n",
       "</style>\n",
       "<table border=\"1\" class=\"dataframe\">\n",
       "  <thead>\n",
       "    <tr style=\"text-align: right;\">\n",
       "      <th></th>\n",
       "      <th>tweets</th>\n",
       "      <th>sentiment</th>\n",
       "      <th>word_counts</th>\n",
       "      <th>char_counts</th>\n",
       "      <th>avg_word_len</th>\n",
       "      <th>stop_word_len</th>\n",
       "      <th>#_counts</th>\n",
       "      <th>@_counts</th>\n",
       "      <th>numeric_counts</th>\n",
       "      <th>upper_counts</th>\n",
       "      <th>email</th>\n",
       "      <th>email_counts</th>\n",
       "      <th>url_flag</th>\n",
       "    </tr>\n",
       "  </thead>\n",
       "  <tbody>\n",
       "    <tr>\n",
       "      <th>50</th>\n",
       "      <td>broadband plan 'a massive broken promise'  via www.diigo.com/~tautao still waiting for broadband we are</td>\n",
       "      <td>0</td>\n",
       "      <td>15</td>\n",
       "      <td>129</td>\n",
       "      <td>7.600000</td>\n",
       "      <td>4</td>\n",
       "      <td>0</td>\n",
       "      <td>0</td>\n",
       "      <td>0</td>\n",
       "      <td>0</td>\n",
       "      <td>[]</td>\n",
       "      <td>0</td>\n",
       "      <td>1</td>\n",
       "    </tr>\n",
       "    <tr>\n",
       "      <th>51</th>\n",
       "      <td>@localtweeps wow, tons of replies from you, may have to unfollow so i can see my friends' tweets, you're scrolling the feed a lot.</td>\n",
       "      <td>0</td>\n",
       "      <td>24</td>\n",
       "      <td>131</td>\n",
       "      <td>4.458333</td>\n",
       "      <td>11</td>\n",
       "      <td>0</td>\n",
       "      <td>1</td>\n",
       "      <td>0</td>\n",
       "      <td>1</td>\n",
       "      <td>[]</td>\n",
       "      <td>0</td>\n",
       "      <td>0</td>\n",
       "    </tr>\n",
       "    <tr>\n",
       "      <th>52</th>\n",
       "      <td>our duck and chicken are taking wayyy too long to hatch</td>\n",
       "      <td>0</td>\n",
       "      <td>11</td>\n",
       "      <td>56</td>\n",
       "      <td>4.090909</td>\n",
       "      <td>5</td>\n",
       "      <td>0</td>\n",
       "      <td>0</td>\n",
       "      <td>0</td>\n",
       "      <td>0</td>\n",
       "      <td>[]</td>\n",
       "      <td>0</td>\n",
       "      <td>0</td>\n",
       "    </tr>\n",
       "    <tr>\n",
       "      <th>53</th>\n",
       "      <td>put vacation photos online a few yrs ago. pc crashed, and now i forget the name of the site.</td>\n",
       "      <td>0</td>\n",
       "      <td>19</td>\n",
       "      <td>93</td>\n",
       "      <td>3.894737</td>\n",
       "      <td>8</td>\n",
       "      <td>0</td>\n",
       "      <td>0</td>\n",
       "      <td>0</td>\n",
       "      <td>2</td>\n",
       "      <td>[]</td>\n",
       "      <td>0</td>\n",
       "      <td>0</td>\n",
       "    </tr>\n",
       "    <tr>\n",
       "      <th>54</th>\n",
       "      <td>i need a hug</td>\n",
       "      <td>0</td>\n",
       "      <td>4</td>\n",
       "      <td>13</td>\n",
       "      <td>2.250000</td>\n",
       "      <td>1</td>\n",
       "      <td>0</td>\n",
       "      <td>0</td>\n",
       "      <td>0</td>\n",
       "      <td>1</td>\n",
       "      <td>[]</td>\n",
       "      <td>0</td>\n",
       "      <td>0</td>\n",
       "    </tr>\n",
       "    <tr>\n",
       "      <th>55</th>\n",
       "      <td>@andywana not sure what they are, only that they are pos! as much as i want to, i dont think can trade away company assets sorry andy!</td>\n",
       "      <td>0</td>\n",
       "      <td>27</td>\n",
       "      <td>135</td>\n",
       "      <td>4.000000</td>\n",
       "      <td>9</td>\n",
       "      <td>0</td>\n",
       "      <td>1</td>\n",
       "      <td>0</td>\n",
       "      <td>2</td>\n",
       "      <td>[]</td>\n",
       "      <td>0</td>\n",
       "      <td>0</td>\n",
       "    </tr>\n",
       "    <tr>\n",
       "      <th>56</th>\n",
       "      <td>@oanhlove i hate when that happens...</td>\n",
       "      <td>0</td>\n",
       "      <td>6</td>\n",
       "      <td>38</td>\n",
       "      <td>5.333333</td>\n",
       "      <td>2</td>\n",
       "      <td>0</td>\n",
       "      <td>1</td>\n",
       "      <td>0</td>\n",
       "      <td>1</td>\n",
       "      <td>[]</td>\n",
       "      <td>0</td>\n",
       "      <td>0</td>\n",
       "    </tr>\n",
       "    <tr>\n",
       "      <th>57</th>\n",
       "      <td>i have a sad feeling that dallas is not going to show up  i gotta say though, you'd think more shows would use music from the game. mmm</td>\n",
       "      <td>0</td>\n",
       "      <td>28</td>\n",
       "      <td>135</td>\n",
       "      <td>3.821429</td>\n",
       "      <td>13</td>\n",
       "      <td>0</td>\n",
       "      <td>0</td>\n",
       "      <td>0</td>\n",
       "      <td>2</td>\n",
       "      <td>[]</td>\n",
       "      <td>0</td>\n",
       "      <td>0</td>\n",
       "    </tr>\n",
       "    <tr>\n",
       "      <th>58</th>\n",
       "      <td>ugh....92 degrees tomorrow</td>\n",
       "      <td>0</td>\n",
       "      <td>3</td>\n",
       "      <td>27</td>\n",
       "      <td>8.000000</td>\n",
       "      <td>0</td>\n",
       "      <td>0</td>\n",
       "      <td>0</td>\n",
       "      <td>0</td>\n",
       "      <td>0</td>\n",
       "      <td>[]</td>\n",
       "      <td>0</td>\n",
       "      <td>0</td>\n",
       "    </tr>\n",
       "    <tr>\n",
       "      <th>59</th>\n",
       "      <td>where did u move to?  i thought u were already in sd. ?? hmmm. random u found me. glad to hear yer doing well.</td>\n",
       "      <td>0</td>\n",
       "      <td>24</td>\n",
       "      <td>110</td>\n",
       "      <td>3.583333</td>\n",
       "      <td>7</td>\n",
       "      <td>0</td>\n",
       "      <td>0</td>\n",
       "      <td>0</td>\n",
       "      <td>1</td>\n",
       "      <td>[]</td>\n",
       "      <td>0</td>\n",
       "      <td>0</td>\n",
       "    </tr>\n",
       "    <tr>\n",
       "      <th>60</th>\n",
       "      <td>@batmanyng i miss my ps3, it's out of commission  wutcha playing? have you copped 'blood on the sand'?</td>\n",
       "      <td>0</td>\n",
       "      <td>18</td>\n",
       "      <td>102</td>\n",
       "      <td>4.666667</td>\n",
       "      <td>4</td>\n",
       "      <td>0</td>\n",
       "      <td>1</td>\n",
       "      <td>0</td>\n",
       "      <td>1</td>\n",
       "      <td>[]</td>\n",
       "      <td>0</td>\n",
       "      <td>0</td>\n",
       "    </tr>\n",
       "    <tr>\n",
       "      <th>61</th>\n",
       "      <td>just leaving the parking lot of work!</td>\n",
       "      <td>0</td>\n",
       "      <td>7</td>\n",
       "      <td>38</td>\n",
       "      <td>4.428571</td>\n",
       "      <td>3</td>\n",
       "      <td>0</td>\n",
       "      <td>0</td>\n",
       "      <td>0</td>\n",
       "      <td>0</td>\n",
       "      <td>[]</td>\n",
       "      <td>0</td>\n",
       "      <td>0</td>\n",
       "    </tr>\n",
       "    <tr>\n",
       "      <th>62</th>\n",
       "      <td>the life is cool. but not for me.</td>\n",
       "      <td>0</td>\n",
       "      <td>8</td>\n",
       "      <td>34</td>\n",
       "      <td>3.250000</td>\n",
       "      <td>3</td>\n",
       "      <td>0</td>\n",
       "      <td>0</td>\n",
       "      <td>0</td>\n",
       "      <td>0</td>\n",
       "      <td>[]</td>\n",
       "      <td>0</td>\n",
       "      <td>0</td>\n",
       "    </tr>\n",
       "    <tr>\n",
       "      <th>63</th>\n",
       "      <td>sadly though, i've never gotten to experience the post coitus cigarette before, and now i never will.</td>\n",
       "      <td>0</td>\n",
       "      <td>17</td>\n",
       "      <td>102</td>\n",
       "      <td>5.000000</td>\n",
       "      <td>6</td>\n",
       "      <td>0</td>\n",
       "      <td>0</td>\n",
       "      <td>0</td>\n",
       "      <td>1</td>\n",
       "      <td>[]</td>\n",
       "      <td>0</td>\n",
       "      <td>0</td>\n",
       "    </tr>\n",
       "    <tr>\n",
       "      <th>64</th>\n",
       "      <td>i had such a nice day. too bad the rain comes in tomorrow at 5am</td>\n",
       "      <td>0</td>\n",
       "      <td>15</td>\n",
       "      <td>65</td>\n",
       "      <td>3.333333</td>\n",
       "      <td>6</td>\n",
       "      <td>0</td>\n",
       "      <td>0</td>\n",
       "      <td>0</td>\n",
       "      <td>1</td>\n",
       "      <td>[]</td>\n",
       "      <td>0</td>\n",
       "      <td>0</td>\n",
       "    </tr>\n",
       "    <tr>\n",
       "      <th>65</th>\n",
       "      <td>@starrbby too bad i won't be around i lost my job and can't even pay my phone bill lmao aw shucks</td>\n",
       "      <td>0</td>\n",
       "      <td>21</td>\n",
       "      <td>98</td>\n",
       "      <td>3.666667</td>\n",
       "      <td>7</td>\n",
       "      <td>0</td>\n",
       "      <td>1</td>\n",
       "      <td>0</td>\n",
       "      <td>2</td>\n",
       "      <td>[]</td>\n",
       "      <td>0</td>\n",
       "      <td>0</td>\n",
       "    </tr>\n",
       "    <tr>\n",
       "      <th>66</th>\n",
       "      <td>damm back to school tomorrow</td>\n",
       "      <td>0</td>\n",
       "      <td>5</td>\n",
       "      <td>29</td>\n",
       "      <td>4.800000</td>\n",
       "      <td>2</td>\n",
       "      <td>0</td>\n",
       "      <td>0</td>\n",
       "      <td>0</td>\n",
       "      <td>0</td>\n",
       "      <td>[]</td>\n",
       "      <td>0</td>\n",
       "      <td>0</td>\n",
       "    </tr>\n",
       "    <tr>\n",
       "      <th>67</th>\n",
       "      <td>mo jobs, no money.  how in the hell is min wage here 4 f'n clams an hour?</td>\n",
       "      <td>0</td>\n",
       "      <td>17</td>\n",
       "      <td>73</td>\n",
       "      <td>3.294118</td>\n",
       "      <td>7</td>\n",
       "      <td>0</td>\n",
       "      <td>0</td>\n",
       "      <td>1</td>\n",
       "      <td>0</td>\n",
       "      <td>[]</td>\n",
       "      <td>0</td>\n",
       "      <td>0</td>\n",
       "    </tr>\n",
       "    <tr>\n",
       "      <th>68</th>\n",
       "      <td>@katortiz  not forever... see you soon!</td>\n",
       "      <td>0</td>\n",
       "      <td>6</td>\n",
       "      <td>39</td>\n",
       "      <td>5.500000</td>\n",
       "      <td>1</td>\n",
       "      <td>0</td>\n",
       "      <td>1</td>\n",
       "      <td>0</td>\n",
       "      <td>0</td>\n",
       "      <td>[]</td>\n",
       "      <td>0</td>\n",
       "      <td>0</td>\n",
       "    </tr>\n",
       "    <tr>\n",
       "      <th>69</th>\n",
       "      <td>@lt_algonquin agreed, i saw the failwhale allllll day today.</td>\n",
       "      <td>0</td>\n",
       "      <td>9</td>\n",
       "      <td>61</td>\n",
       "      <td>5.777778</td>\n",
       "      <td>1</td>\n",
       "      <td>0</td>\n",
       "      <td>1</td>\n",
       "      <td>0</td>\n",
       "      <td>1</td>\n",
       "      <td>[]</td>\n",
       "      <td>0</td>\n",
       "      <td>0</td>\n",
       "    </tr>\n",
       "    <tr>\n",
       "      <th>70</th>\n",
       "      <td>@jdarter oh! haha... dude i dont really look at em unless someone says hey i added you. sorry  i'm so terrible at that. i need a pop up!</td>\n",
       "      <td>0</td>\n",
       "      <td>28</td>\n",
       "      <td>136</td>\n",
       "      <td>3.857143</td>\n",
       "      <td>7</td>\n",
       "      <td>0</td>\n",
       "      <td>1</td>\n",
       "      <td>0</td>\n",
       "      <td>6</td>\n",
       "      <td>[]</td>\n",
       "      <td>0</td>\n",
       "      <td>0</td>\n",
       "    </tr>\n",
       "    <tr>\n",
       "      <th>71</th>\n",
       "      <td>@ninjen i'm sure you're right...    i need to start working out with you and the nikster... or jared at least!</td>\n",
       "      <td>0</td>\n",
       "      <td>20</td>\n",
       "      <td>110</td>\n",
       "      <td>4.400000</td>\n",
       "      <td>7</td>\n",
       "      <td>0</td>\n",
       "      <td>1</td>\n",
       "      <td>0</td>\n",
       "      <td>1</td>\n",
       "      <td>[]</td>\n",
       "      <td>0</td>\n",
       "      <td>0</td>\n",
       "    </tr>\n",
       "    <tr>\n",
       "      <th>72</th>\n",
       "      <td>i really hate how people diss my bands!  trace is clearly not ugly!</td>\n",
       "      <td>0</td>\n",
       "      <td>13</td>\n",
       "      <td>67</td>\n",
       "      <td>4.153846</td>\n",
       "      <td>5</td>\n",
       "      <td>0</td>\n",
       "      <td>0</td>\n",
       "      <td>0</td>\n",
       "      <td>1</td>\n",
       "      <td>[]</td>\n",
       "      <td>0</td>\n",
       "      <td>0</td>\n",
       "    </tr>\n",
       "    <tr>\n",
       "      <th>73</th>\n",
       "      <td>gym attire today was: puma singlet, adidas shorts.......and black business socks and leather shoes  lucky did not run into any cute girls.</td>\n",
       "      <td>0</td>\n",
       "      <td>22</td>\n",
       "      <td>138</td>\n",
       "      <td>5.272727</td>\n",
       "      <td>5</td>\n",
       "      <td>0</td>\n",
       "      <td>0</td>\n",
       "      <td>0</td>\n",
       "      <td>0</td>\n",
       "      <td>[]</td>\n",
       "      <td>0</td>\n",
       "      <td>0</td>\n",
       "    </tr>\n",
       "    <tr>\n",
       "      <th>74</th>\n",
       "      <td>why won't you show my location?!</td>\n",
       "      <td>0</td>\n",
       "      <td>7</td>\n",
       "      <td>59</td>\n",
       "      <td>7.285714</td>\n",
       "      <td>3</td>\n",
       "      <td>0</td>\n",
       "      <td>0</td>\n",
       "      <td>0</td>\n",
       "      <td>0</td>\n",
       "      <td>[]</td>\n",
       "      <td>0</td>\n",
       "      <td>1</td>\n",
       "    </tr>\n",
       "    <tr>\n",
       "      <th>75</th>\n",
       "      <td>no picnic  my phone smells like citrus.</td>\n",
       "      <td>0</td>\n",
       "      <td>7</td>\n",
       "      <td>39</td>\n",
       "      <td>4.571429</td>\n",
       "      <td>1</td>\n",
       "      <td>0</td>\n",
       "      <td>0</td>\n",
       "      <td>0</td>\n",
       "      <td>0</td>\n",
       "      <td>[]</td>\n",
       "      <td>0</td>\n",
       "      <td>0</td>\n",
       "    </tr>\n",
       "    <tr>\n",
       "      <th>76</th>\n",
       "      <td>@ashleyac my donkey is sensitive about such comments. nevertheless, he'd (and me'd) be glad to see your mug asap. charger is still awol.</td>\n",
       "      <td>0</td>\n",
       "      <td>23</td>\n",
       "      <td>137</td>\n",
       "      <td>4.956522</td>\n",
       "      <td>9</td>\n",
       "      <td>0</td>\n",
       "      <td>1</td>\n",
       "      <td>0</td>\n",
       "      <td>0</td>\n",
       "      <td>[]</td>\n",
       "      <td>0</td>\n",
       "      <td>0</td>\n",
       "    </tr>\n",
       "    <tr>\n",
       "      <th>77</th>\n",
       "      <td>no new csi tonight.  fml</td>\n",
       "      <td>0</td>\n",
       "      <td>5</td>\n",
       "      <td>24</td>\n",
       "      <td>3.800000</td>\n",
       "      <td>0</td>\n",
       "      <td>0</td>\n",
       "      <td>0</td>\n",
       "      <td>0</td>\n",
       "      <td>1</td>\n",
       "      <td>[]</td>\n",
       "      <td>0</td>\n",
       "      <td>0</td>\n",
       "    </tr>\n",
       "    <tr>\n",
       "      <th>78</th>\n",
       "      <td>i think my arms are sore from tennis</td>\n",
       "      <td>0</td>\n",
       "      <td>8</td>\n",
       "      <td>37</td>\n",
       "      <td>3.625000</td>\n",
       "      <td>4</td>\n",
       "      <td>0</td>\n",
       "      <td>0</td>\n",
       "      <td>0</td>\n",
       "      <td>0</td>\n",
       "      <td>[]</td>\n",
       "      <td>0</td>\n",
       "      <td>0</td>\n",
       "    </tr>\n",
       "    <tr>\n",
       "      <th>79</th>\n",
       "      <td>wonders why someone that u like so much can make you so unhappy in a split seccond . depressed .</td>\n",
       "      <td>0</td>\n",
       "      <td>20</td>\n",
       "      <td>97</td>\n",
       "      <td>3.850000</td>\n",
       "      <td>11</td>\n",
       "      <td>0</td>\n",
       "      <td>0</td>\n",
       "      <td>0</td>\n",
       "      <td>0</td>\n",
       "      <td>[]</td>\n",
       "      <td>0</td>\n",
       "      <td>0</td>\n",
       "    </tr>\n",
       "    <tr>\n",
       "      <th>80</th>\n",
       "      <td>sleep soon... i just hate saying bye and see you tomorrow for the night.</td>\n",
       "      <td>0</td>\n",
       "      <td>14</td>\n",
       "      <td>73</td>\n",
       "      <td>4.214286</td>\n",
       "      <td>7</td>\n",
       "      <td>0</td>\n",
       "      <td>0</td>\n",
       "      <td>0</td>\n",
       "      <td>0</td>\n",
       "      <td>[]</td>\n",
       "      <td>0</td>\n",
       "      <td>0</td>\n",
       "    </tr>\n",
       "    <tr>\n",
       "      <th>81</th>\n",
       "      <td>@statravelau just got ur newsletter, those fares really are unbelievable, shame i already booked and paid for mine</td>\n",
       "      <td>0</td>\n",
       "      <td>18</td>\n",
       "      <td>115</td>\n",
       "      <td>5.388889</td>\n",
       "      <td>8</td>\n",
       "      <td>0</td>\n",
       "      <td>1</td>\n",
       "      <td>0</td>\n",
       "      <td>1</td>\n",
       "      <td>[]</td>\n",
       "      <td>0</td>\n",
       "      <td>0</td>\n",
       "    </tr>\n",
       "    <tr>\n",
       "      <th>82</th>\n",
       "      <td>missin' the boo</td>\n",
       "      <td>0</td>\n",
       "      <td>3</td>\n",
       "      <td>16</td>\n",
       "      <td>4.333333</td>\n",
       "      <td>1</td>\n",
       "      <td>0</td>\n",
       "      <td>0</td>\n",
       "      <td>0</td>\n",
       "      <td>0</td>\n",
       "      <td>[]</td>\n",
       "      <td>0</td>\n",
       "      <td>0</td>\n",
       "    </tr>\n",
       "    <tr>\n",
       "      <th>83</th>\n",
       "      <td>@markhardy1974 me too  #itm</td>\n",
       "      <td>0</td>\n",
       "      <td>4</td>\n",
       "      <td>27</td>\n",
       "      <td>5.750000</td>\n",
       "      <td>1</td>\n",
       "      <td>1</td>\n",
       "      <td>1</td>\n",
       "      <td>0</td>\n",
       "      <td>0</td>\n",
       "      <td>[]</td>\n",
       "      <td>0</td>\n",
       "      <td>0</td>\n",
       "    </tr>\n",
       "    <tr>\n",
       "      <th>84</th>\n",
       "      <td>damn... i don't have any chalk! my chalkboard is useless</td>\n",
       "      <td>0</td>\n",
       "      <td>10</td>\n",
       "      <td>57</td>\n",
       "      <td>4.700000</td>\n",
       "      <td>2</td>\n",
       "      <td>0</td>\n",
       "      <td>0</td>\n",
       "      <td>0</td>\n",
       "      <td>5</td>\n",
       "      <td>[]</td>\n",
       "      <td>0</td>\n",
       "      <td>0</td>\n",
       "    </tr>\n",
       "    <tr>\n",
       "      <th>85</th>\n",
       "      <td>had a blast at the getty villa, but hates that she's had a sore throat all day. it's just getting worse too</td>\n",
       "      <td>0</td>\n",
       "      <td>22</td>\n",
       "      <td>108</td>\n",
       "      <td>3.909091</td>\n",
       "      <td>11</td>\n",
       "      <td>0</td>\n",
       "      <td>0</td>\n",
       "      <td>0</td>\n",
       "      <td>0</td>\n",
       "      <td>[]</td>\n",
       "      <td>0</td>\n",
       "      <td>0</td>\n",
       "    </tr>\n",
       "    <tr>\n",
       "      <th>86</th>\n",
       "      <td>@msdrama hey missed ya at the meeting  sup mama</td>\n",
       "      <td>0</td>\n",
       "      <td>9</td>\n",
       "      <td>47</td>\n",
       "      <td>4.222222</td>\n",
       "      <td>2</td>\n",
       "      <td>0</td>\n",
       "      <td>1</td>\n",
       "      <td>0</td>\n",
       "      <td>0</td>\n",
       "      <td>[]</td>\n",
       "      <td>0</td>\n",
       "      <td>0</td>\n",
       "    </tr>\n",
       "    <tr>\n",
       "      <th>87</th>\n",
       "      <td>my tummy hurts.  i wonder if the hypnosis has anything to do with it? if so, it's working, i get it, stop smoking!!!</td>\n",
       "      <td>0</td>\n",
       "      <td>23</td>\n",
       "      <td>116</td>\n",
       "      <td>4.043478</td>\n",
       "      <td>8</td>\n",
       "      <td>0</td>\n",
       "      <td>0</td>\n",
       "      <td>0</td>\n",
       "      <td>4</td>\n",
       "      <td>[]</td>\n",
       "      <td>0</td>\n",
       "      <td>0</td>\n",
       "    </tr>\n",
       "    <tr>\n",
       "      <th>88</th>\n",
       "      <td>why is it always the fat ones?!</td>\n",
       "      <td>0</td>\n",
       "      <td>7</td>\n",
       "      <td>32</td>\n",
       "      <td>3.571429</td>\n",
       "      <td>5</td>\n",
       "      <td>0</td>\n",
       "      <td>0</td>\n",
       "      <td>0</td>\n",
       "      <td>0</td>\n",
       "      <td>[]</td>\n",
       "      <td>0</td>\n",
       "      <td>0</td>\n",
       "    </tr>\n",
       "    <tr>\n",
       "      <th>89</th>\n",
       "      <td>@januarycrimson sorry, babe!!  my fam annoys me too. thankfully, they're asleep right now. muahaha. *evil laugh*</td>\n",
       "      <td>0</td>\n",
       "      <td>16</td>\n",
       "      <td>112</td>\n",
       "      <td>6.000000</td>\n",
       "      <td>1</td>\n",
       "      <td>0</td>\n",
       "      <td>1</td>\n",
       "      <td>0</td>\n",
       "      <td>0</td>\n",
       "      <td>[]</td>\n",
       "      <td>0</td>\n",
       "      <td>0</td>\n",
       "    </tr>\n",
       "    <tr>\n",
       "      <th>90</th>\n",
       "      <td>@hollywoodheat i should have paid more attention when we covered photoshop in my webpage design class in undergrad</td>\n",
       "      <td>0</td>\n",
       "      <td>18</td>\n",
       "      <td>115</td>\n",
       "      <td>5.388889</td>\n",
       "      <td>8</td>\n",
       "      <td>0</td>\n",
       "      <td>1</td>\n",
       "      <td>0</td>\n",
       "      <td>1</td>\n",
       "      <td>[]</td>\n",
       "      <td>0</td>\n",
       "      <td>0</td>\n",
       "    </tr>\n",
       "    <tr>\n",
       "      <th>91</th>\n",
       "      <td>wednesday my b-day! don't know what 2 do!!</td>\n",
       "      <td>0</td>\n",
       "      <td>8</td>\n",
       "      <td>43</td>\n",
       "      <td>4.375000</td>\n",
       "      <td>2</td>\n",
       "      <td>0</td>\n",
       "      <td>0</td>\n",
       "      <td>1</td>\n",
       "      <td>0</td>\n",
       "      <td>[]</td>\n",
       "      <td>0</td>\n",
       "      <td>0</td>\n",
       "    </tr>\n",
       "    <tr>\n",
       "      <th>92</th>\n",
       "      <td>poor cameron (the hills)</td>\n",
       "      <td>0</td>\n",
       "      <td>4</td>\n",
       "      <td>25</td>\n",
       "      <td>5.250000</td>\n",
       "      <td>0</td>\n",
       "      <td>0</td>\n",
       "      <td>0</td>\n",
       "      <td>0</td>\n",
       "      <td>0</td>\n",
       "      <td>[]</td>\n",
       "      <td>0</td>\n",
       "      <td>0</td>\n",
       "    </tr>\n",
       "    <tr>\n",
       "      <th>93</th>\n",
       "      <td>pray for me please, the ex is threatening to start sh** at my/our babies 1st birthday party. what a jerk. and i still have a headache</td>\n",
       "      <td>0</td>\n",
       "      <td>26</td>\n",
       "      <td>134</td>\n",
       "      <td>4.153846</td>\n",
       "      <td>12</td>\n",
       "      <td>0</td>\n",
       "      <td>0</td>\n",
       "      <td>0</td>\n",
       "      <td>1</td>\n",
       "      <td>[]</td>\n",
       "      <td>0</td>\n",
       "      <td>0</td>\n",
       "    </tr>\n",
       "    <tr>\n",
       "      <th>94</th>\n",
       "      <td>@makeherfamous hmm  , do u really enjoy being with him ? if the problems are too constants u should think things more , find someone ulike</td>\n",
       "      <td>0</td>\n",
       "      <td>26</td>\n",
       "      <td>138</td>\n",
       "      <td>4.307692</td>\n",
       "      <td>12</td>\n",
       "      <td>0</td>\n",
       "      <td>1</td>\n",
       "      <td>0</td>\n",
       "      <td>0</td>\n",
       "      <td>[]</td>\n",
       "      <td>0</td>\n",
       "      <td>0</td>\n",
       "    </tr>\n",
       "    <tr>\n",
       "      <th>95</th>\n",
       "      <td>strider is a sick little puppy</td>\n",
       "      <td>0</td>\n",
       "      <td>7</td>\n",
       "      <td>85</td>\n",
       "      <td>11.142857</td>\n",
       "      <td>2</td>\n",
       "      <td>0</td>\n",
       "      <td>0</td>\n",
       "      <td>0</td>\n",
       "      <td>0</td>\n",
       "      <td>[]</td>\n",
       "      <td>0</td>\n",
       "      <td>1</td>\n",
       "    </tr>\n",
       "    <tr>\n",
       "      <th>96</th>\n",
       "      <td>so rylee,grace...wana go steve's party or not?? sadly since its easter i wnt b able 2 do much  but ohh well.....</td>\n",
       "      <td>0</td>\n",
       "      <td>21</td>\n",
       "      <td>112</td>\n",
       "      <td>4.333333</td>\n",
       "      <td>3</td>\n",
       "      <td>0</td>\n",
       "      <td>0</td>\n",
       "      <td>1</td>\n",
       "      <td>13</td>\n",
       "      <td>[]</td>\n",
       "      <td>0</td>\n",
       "      <td>0</td>\n",
       "    </tr>\n",
       "    <tr>\n",
       "      <th>97</th>\n",
       "      <td>hey, i actually won one of my bracket pools! too bad it wasn't the one for money</td>\n",
       "      <td>0</td>\n",
       "      <td>17</td>\n",
       "      <td>81</td>\n",
       "      <td>3.764706</td>\n",
       "      <td>7</td>\n",
       "      <td>0</td>\n",
       "      <td>0</td>\n",
       "      <td>0</td>\n",
       "      <td>1</td>\n",
       "      <td>[]</td>\n",
       "      <td>0</td>\n",
       "      <td>0</td>\n",
       "    </tr>\n",
       "    <tr>\n",
       "      <th>98</th>\n",
       "      <td>@stark you don't follow me, either  and i work for you!</td>\n",
       "      <td>0</td>\n",
       "      <td>11</td>\n",
       "      <td>55</td>\n",
       "      <td>4.000000</td>\n",
       "      <td>4</td>\n",
       "      <td>0</td>\n",
       "      <td>1</td>\n",
       "      <td>0</td>\n",
       "      <td>1</td>\n",
       "      <td>[]</td>\n",
       "      <td>0</td>\n",
       "      <td>0</td>\n",
       "    </tr>\n",
       "    <tr>\n",
       "      <th>99</th>\n",
       "      <td>a bad nite for the favorite teams: astros and spartans lose.  the nite out with t.w. was good.</td>\n",
       "      <td>0</td>\n",
       "      <td>18</td>\n",
       "      <td>94</td>\n",
       "      <td>4.222222</td>\n",
       "      <td>6</td>\n",
       "      <td>0</td>\n",
       "      <td>0</td>\n",
       "      <td>0</td>\n",
       "      <td>2</td>\n",
       "      <td>[]</td>\n",
       "      <td>0</td>\n",
       "      <td>0</td>\n",
       "    </tr>\n",
       "  </tbody>\n",
       "</table>\n",
       "</div>"
      ],
      "text/plain": [
       "                                                                                                                                        tweets  \\\n",
       "50                                    broadband plan 'a massive broken promise'  via www.diigo.com/~tautao still waiting for broadband we are    \n",
       "51         @localtweeps wow, tons of replies from you, may have to unfollow so i can see my friends' tweets, you're scrolling the feed a lot.    \n",
       "52                                                                                    our duck and chicken are taking wayyy too long to hatch    \n",
       "53                                               put vacation photos online a few yrs ago. pc crashed, and now i forget the name of the site.    \n",
       "54                                                                                                                               i need a hug    \n",
       "55     @andywana not sure what they are, only that they are pos! as much as i want to, i dont think can trade away company assets sorry andy!    \n",
       "56                                                                                                      @oanhlove i hate when that happens...    \n",
       "57     i have a sad feeling that dallas is not going to show up  i gotta say though, you'd think more shows would use music from the game. mmm   \n",
       "58                                                                                                                 ugh....92 degrees tomorrow    \n",
       "59                              where did u move to?  i thought u were already in sd. ?? hmmm. random u found me. glad to hear yer doing well.   \n",
       "60                                      @batmanyng i miss my ps3, it's out of commission  wutcha playing? have you copped 'blood on the sand'?   \n",
       "61                                                                                                      just leaving the parking lot of work!    \n",
       "62                                                                                                          the life is cool. but not for me.    \n",
       "63                                      sadly though, i've never gotten to experience the post coitus cigarette before, and now i never will.    \n",
       "64                                                                           i had such a nice day. too bad the rain comes in tomorrow at 5am    \n",
       "65                                          @starrbby too bad i won't be around i lost my job and can't even pay my phone bill lmao aw shucks    \n",
       "66                                                                                                               damm back to school tomorrow    \n",
       "67                                                                   mo jobs, no money.  how in the hell is min wage here 4 f'n clams an hour?   \n",
       "68                                                                                                     @katortiz  not forever... see you soon!   \n",
       "69                                                                               @lt_algonquin agreed, i saw the failwhale allllll day today.    \n",
       "70    @jdarter oh! haha... dude i dont really look at em unless someone says hey i added you. sorry  i'm so terrible at that. i need a pop up!   \n",
       "71                              @ninjen i'm sure you're right...    i need to start working out with you and the nikster... or jared at least!   \n",
       "72                                                                         i really hate how people diss my bands!  trace is clearly not ugly!   \n",
       "73  gym attire today was: puma singlet, adidas shorts.......and black business socks and leather shoes  lucky did not run into any cute girls.   \n",
       "74                                                                                                         why won't you show my location?!      \n",
       "75                                                                                                     no picnic  my phone smells like citrus.   \n",
       "76   @ashleyac my donkey is sensitive about such comments. nevertheless, he'd (and me'd) be glad to see your mug asap. charger is still awol.    \n",
       "77                                                                                                                    no new csi tonight.  fml   \n",
       "78                                                                                                       i think my arms are sore from tennis    \n",
       "79                                           wonders why someone that u like so much can make you so unhappy in a split seccond . depressed .    \n",
       "80                                                                   sleep soon... i just hate saying bye and see you tomorrow for the night.    \n",
       "81                         @statravelau just got ur newsletter, those fares really are unbelievable, shame i already booked and paid for mine    \n",
       "82                                                                                                                            missin' the boo    \n",
       "83                                                                                                                 @markhardy1974 me too  #itm   \n",
       "84                                                                                   damn... i don't have any chalk! my chalkboard is useless    \n",
       "85                                had a blast at the getty villa, but hates that she's had a sore throat all day. it's just getting worse too    \n",
       "86                                                                                             @msdrama hey missed ya at the meeting  sup mama   \n",
       "87                        my tummy hurts.  i wonder if the hypnosis has anything to do with it? if so, it's working, i get it, stop smoking!!!   \n",
       "88                                                                                                            why is it always the fat ones?!    \n",
       "89                            @januarycrimson sorry, babe!!  my fam annoys me too. thankfully, they're asleep right now. muahaha. *evil laugh*   \n",
       "90                         @hollywoodheat i should have paid more attention when we covered photoshop in my webpage design class in undergrad    \n",
       "91                                                                                                 wednesday my b-day! don't know what 2 do!!    \n",
       "92                                                                                                                   poor cameron (the hills)    \n",
       "93      pray for me please, the ex is threatening to start sh** at my/our babies 1st birthday party. what a jerk. and i still have a headache    \n",
       "94  @makeherfamous hmm  , do u really enjoy being with him ? if the problems are too constants u should think things more , find someone ulike   \n",
       "95                                                                                                            strider is a sick little puppy     \n",
       "96                            so rylee,grace...wana go steve's party or not?? sadly since its easter i wnt b able 2 do much  but ohh well.....   \n",
       "97                                                           hey, i actually won one of my bracket pools! too bad it wasn't the one for money    \n",
       "98                                                                                     @stark you don't follow me, either  and i work for you!   \n",
       "99                                              a bad nite for the favorite teams: astros and spartans lose.  the nite out with t.w. was good.   \n",
       "\n",
       "    sentiment  word_counts  char_counts  avg_word_len  stop_word_len  \\\n",
       "50          0           15          129      7.600000              4   \n",
       "51          0           24          131      4.458333             11   \n",
       "52          0           11           56      4.090909              5   \n",
       "53          0           19           93      3.894737              8   \n",
       "54          0            4           13      2.250000              1   \n",
       "55          0           27          135      4.000000              9   \n",
       "56          0            6           38      5.333333              2   \n",
       "57          0           28          135      3.821429             13   \n",
       "58          0            3           27      8.000000              0   \n",
       "59          0           24          110      3.583333              7   \n",
       "60          0           18          102      4.666667              4   \n",
       "61          0            7           38      4.428571              3   \n",
       "62          0            8           34      3.250000              3   \n",
       "63          0           17          102      5.000000              6   \n",
       "64          0           15           65      3.333333              6   \n",
       "65          0           21           98      3.666667              7   \n",
       "66          0            5           29      4.800000              2   \n",
       "67          0           17           73      3.294118              7   \n",
       "68          0            6           39      5.500000              1   \n",
       "69          0            9           61      5.777778              1   \n",
       "70          0           28          136      3.857143              7   \n",
       "71          0           20          110      4.400000              7   \n",
       "72          0           13           67      4.153846              5   \n",
       "73          0           22          138      5.272727              5   \n",
       "74          0            7           59      7.285714              3   \n",
       "75          0            7           39      4.571429              1   \n",
       "76          0           23          137      4.956522              9   \n",
       "77          0            5           24      3.800000              0   \n",
       "78          0            8           37      3.625000              4   \n",
       "79          0           20           97      3.850000             11   \n",
       "80          0           14           73      4.214286              7   \n",
       "81          0           18          115      5.388889              8   \n",
       "82          0            3           16      4.333333              1   \n",
       "83          0            4           27      5.750000              1   \n",
       "84          0           10           57      4.700000              2   \n",
       "85          0           22          108      3.909091             11   \n",
       "86          0            9           47      4.222222              2   \n",
       "87          0           23          116      4.043478              8   \n",
       "88          0            7           32      3.571429              5   \n",
       "89          0           16          112      6.000000              1   \n",
       "90          0           18          115      5.388889              8   \n",
       "91          0            8           43      4.375000              2   \n",
       "92          0            4           25      5.250000              0   \n",
       "93          0           26          134      4.153846             12   \n",
       "94          0           26          138      4.307692             12   \n",
       "95          0            7           85     11.142857              2   \n",
       "96          0           21          112      4.333333              3   \n",
       "97          0           17           81      3.764706              7   \n",
       "98          0           11           55      4.000000              4   \n",
       "99          0           18           94      4.222222              6   \n",
       "\n",
       "    #_counts  @_counts  numeric_counts  upper_counts email  email_counts  \\\n",
       "50         0         0               0             0    []             0   \n",
       "51         0         1               0             1    []             0   \n",
       "52         0         0               0             0    []             0   \n",
       "53         0         0               0             2    []             0   \n",
       "54         0         0               0             1    []             0   \n",
       "55         0         1               0             2    []             0   \n",
       "56         0         1               0             1    []             0   \n",
       "57         0         0               0             2    []             0   \n",
       "58         0         0               0             0    []             0   \n",
       "59         0         0               0             1    []             0   \n",
       "60         0         1               0             1    []             0   \n",
       "61         0         0               0             0    []             0   \n",
       "62         0         0               0             0    []             0   \n",
       "63         0         0               0             1    []             0   \n",
       "64         0         0               0             1    []             0   \n",
       "65         0         1               0             2    []             0   \n",
       "66         0         0               0             0    []             0   \n",
       "67         0         0               1             0    []             0   \n",
       "68         0         1               0             0    []             0   \n",
       "69         0         1               0             1    []             0   \n",
       "70         0         1               0             6    []             0   \n",
       "71         0         1               0             1    []             0   \n",
       "72         0         0               0             1    []             0   \n",
       "73         0         0               0             0    []             0   \n",
       "74         0         0               0             0    []             0   \n",
       "75         0         0               0             0    []             0   \n",
       "76         0         1               0             0    []             0   \n",
       "77         0         0               0             1    []             0   \n",
       "78         0         0               0             0    []             0   \n",
       "79         0         0               0             0    []             0   \n",
       "80         0         0               0             0    []             0   \n",
       "81         0         1               0             1    []             0   \n",
       "82         0         0               0             0    []             0   \n",
       "83         1         1               0             0    []             0   \n",
       "84         0         0               0             5    []             0   \n",
       "85         0         0               0             0    []             0   \n",
       "86         0         1               0             0    []             0   \n",
       "87         0         0               0             4    []             0   \n",
       "88         0         0               0             0    []             0   \n",
       "89         0         1               0             0    []             0   \n",
       "90         0         1               0             1    []             0   \n",
       "91         0         0               1             0    []             0   \n",
       "92         0         0               0             0    []             0   \n",
       "93         0         0               0             1    []             0   \n",
       "94         0         1               0             0    []             0   \n",
       "95         0         0               0             0    []             0   \n",
       "96         0         0               1            13    []             0   \n",
       "97         0         0               0             1    []             0   \n",
       "98         0         1               0             1    []             0   \n",
       "99         0         0               0             2    []             0   \n",
       "\n",
       "    url_flag  \n",
       "50         1  \n",
       "51         0  \n",
       "52         0  \n",
       "53         0  \n",
       "54         0  \n",
       "55         0  \n",
       "56         0  \n",
       "57         0  \n",
       "58         0  \n",
       "59         0  \n",
       "60         0  \n",
       "61         0  \n",
       "62         0  \n",
       "63         0  \n",
       "64         0  \n",
       "65         0  \n",
       "66         0  \n",
       "67         0  \n",
       "68         0  \n",
       "69         0  \n",
       "70         0  \n",
       "71         0  \n",
       "72         0  \n",
       "73         0  \n",
       "74         1  \n",
       "75         0  \n",
       "76         0  \n",
       "77         0  \n",
       "78         0  \n",
       "79         0  \n",
       "80         0  \n",
       "81         0  \n",
       "82         0  \n",
       "83         0  \n",
       "84         0  \n",
       "85         0  \n",
       "86         0  \n",
       "87         0  \n",
       "88         0  \n",
       "89         0  \n",
       "90         0  \n",
       "91         0  \n",
       "92         0  \n",
       "93         0  \n",
       "94         0  \n",
       "95         1  \n",
       "96         0  \n",
       "97         0  \n",
       "98         0  \n",
       "99         0  "
      ]
     },
     "execution_count": 59,
     "metadata": {},
     "output_type": "execute_result"
    }
   ],
   "source": [
    "df[50:100] "
   ]
  },
  {
   "cell_type": "code",
   "execution_count": 60,
   "id": "5aa438ee",
   "metadata": {
    "ExecuteTime": {
     "end_time": "2022-10-07T13:17:30.782677Z",
     "start_time": "2022-10-07T13:17:29.566432Z"
    }
   },
   "outputs": [],
   "source": [
    "df['tweets'] = df['tweets'].apply(lambda x: re.sub('rt','',x))"
   ]
  },
  {
   "cell_type": "markdown",
   "id": "28f92e3a",
   "metadata": {},
   "source": [
    "##### Removal of Special Characters (punctuation)"
   ]
  },
  {
   "cell_type": "code",
   "execution_count": 61,
   "id": "2b26cf81",
   "metadata": {
    "ExecuteTime": {
     "end_time": "2022-10-07T13:17:34.546308Z",
     "start_time": "2022-10-07T13:17:30.784782Z"
    }
   },
   "outputs": [],
   "source": [
    "df['tweets'] = df['tweets'].apply(lambda x: re.sub('[^A-Z a-z 0-9-_]+','',x))"
   ]
  },
  {
   "cell_type": "code",
   "execution_count": 62,
   "id": "8cb06b6f",
   "metadata": {
    "ExecuteTime": {
     "end_time": "2022-10-07T13:17:34.592480Z",
     "start_time": "2022-10-07T13:17:34.548290Z"
    }
   },
   "outputs": [
    {
     "data": {
      "text/html": [
       "<div>\n",
       "<style scoped>\n",
       "    .dataframe tbody tr th:only-of-type {\n",
       "        vertical-align: middle;\n",
       "    }\n",
       "\n",
       "    .dataframe tbody tr th {\n",
       "        vertical-align: top;\n",
       "    }\n",
       "\n",
       "    .dataframe thead th {\n",
       "        text-align: right;\n",
       "    }\n",
       "</style>\n",
       "<table border=\"1\" class=\"dataframe\">\n",
       "  <thead>\n",
       "    <tr style=\"text-align: right;\">\n",
       "      <th></th>\n",
       "      <th>tweets</th>\n",
       "      <th>sentiment</th>\n",
       "      <th>word_counts</th>\n",
       "      <th>char_counts</th>\n",
       "      <th>avg_word_len</th>\n",
       "      <th>stop_word_len</th>\n",
       "      <th>#_counts</th>\n",
       "      <th>@_counts</th>\n",
       "      <th>numeric_counts</th>\n",
       "      <th>upper_counts</th>\n",
       "      <th>email</th>\n",
       "      <th>email_counts</th>\n",
       "      <th>url_flag</th>\n",
       "    </tr>\n",
       "  </thead>\n",
       "  <tbody>\n",
       "    <tr>\n",
       "      <th>50</th>\n",
       "      <td>broadband plan a massive broken promise  via wwwdiigocomtautao still waiting for broadband we are</td>\n",
       "      <td>0</td>\n",
       "      <td>15</td>\n",
       "      <td>129</td>\n",
       "      <td>7.600000</td>\n",
       "      <td>4</td>\n",
       "      <td>0</td>\n",
       "      <td>0</td>\n",
       "      <td>0</td>\n",
       "      <td>0</td>\n",
       "      <td>[]</td>\n",
       "      <td>0</td>\n",
       "      <td>1</td>\n",
       "    </tr>\n",
       "    <tr>\n",
       "      <th>51</th>\n",
       "      <td>localtweeps wow tons of replies from you may have to unfollow so i can see my friends tweets youre scrolling the feed a lot</td>\n",
       "      <td>0</td>\n",
       "      <td>24</td>\n",
       "      <td>131</td>\n",
       "      <td>4.458333</td>\n",
       "      <td>11</td>\n",
       "      <td>0</td>\n",
       "      <td>1</td>\n",
       "      <td>0</td>\n",
       "      <td>1</td>\n",
       "      <td>[]</td>\n",
       "      <td>0</td>\n",
       "      <td>0</td>\n",
       "    </tr>\n",
       "    <tr>\n",
       "      <th>52</th>\n",
       "      <td>our duck and chicken are taking wayyy too long to hatch</td>\n",
       "      <td>0</td>\n",
       "      <td>11</td>\n",
       "      <td>56</td>\n",
       "      <td>4.090909</td>\n",
       "      <td>5</td>\n",
       "      <td>0</td>\n",
       "      <td>0</td>\n",
       "      <td>0</td>\n",
       "      <td>0</td>\n",
       "      <td>[]</td>\n",
       "      <td>0</td>\n",
       "      <td>0</td>\n",
       "    </tr>\n",
       "    <tr>\n",
       "      <th>53</th>\n",
       "      <td>put vacation photos online a few yrs ago pc crashed and now i forget the name of the site</td>\n",
       "      <td>0</td>\n",
       "      <td>19</td>\n",
       "      <td>93</td>\n",
       "      <td>3.894737</td>\n",
       "      <td>8</td>\n",
       "      <td>0</td>\n",
       "      <td>0</td>\n",
       "      <td>0</td>\n",
       "      <td>2</td>\n",
       "      <td>[]</td>\n",
       "      <td>0</td>\n",
       "      <td>0</td>\n",
       "    </tr>\n",
       "    <tr>\n",
       "      <th>54</th>\n",
       "      <td>i need a hug</td>\n",
       "      <td>0</td>\n",
       "      <td>4</td>\n",
       "      <td>13</td>\n",
       "      <td>2.250000</td>\n",
       "      <td>1</td>\n",
       "      <td>0</td>\n",
       "      <td>0</td>\n",
       "      <td>0</td>\n",
       "      <td>1</td>\n",
       "      <td>[]</td>\n",
       "      <td>0</td>\n",
       "      <td>0</td>\n",
       "    </tr>\n",
       "    <tr>\n",
       "      <th>55</th>\n",
       "      <td>andywana not sure what they are only that they are pos as much as i want to i dont think can trade away company assets sorry andy</td>\n",
       "      <td>0</td>\n",
       "      <td>27</td>\n",
       "      <td>135</td>\n",
       "      <td>4.000000</td>\n",
       "      <td>9</td>\n",
       "      <td>0</td>\n",
       "      <td>1</td>\n",
       "      <td>0</td>\n",
       "      <td>2</td>\n",
       "      <td>[]</td>\n",
       "      <td>0</td>\n",
       "      <td>0</td>\n",
       "    </tr>\n",
       "    <tr>\n",
       "      <th>56</th>\n",
       "      <td>oanhlove i hate when that happens</td>\n",
       "      <td>0</td>\n",
       "      <td>6</td>\n",
       "      <td>38</td>\n",
       "      <td>5.333333</td>\n",
       "      <td>2</td>\n",
       "      <td>0</td>\n",
       "      <td>1</td>\n",
       "      <td>0</td>\n",
       "      <td>1</td>\n",
       "      <td>[]</td>\n",
       "      <td>0</td>\n",
       "      <td>0</td>\n",
       "    </tr>\n",
       "    <tr>\n",
       "      <th>57</th>\n",
       "      <td>i have a sad feeling that dallas is not going to show up  i gotta say though youd think more shows would use music from the game mmm</td>\n",
       "      <td>0</td>\n",
       "      <td>28</td>\n",
       "      <td>135</td>\n",
       "      <td>3.821429</td>\n",
       "      <td>13</td>\n",
       "      <td>0</td>\n",
       "      <td>0</td>\n",
       "      <td>0</td>\n",
       "      <td>2</td>\n",
       "      <td>[]</td>\n",
       "      <td>0</td>\n",
       "      <td>0</td>\n",
       "    </tr>\n",
       "    <tr>\n",
       "      <th>58</th>\n",
       "      <td>ugh92 degrees tomorrow</td>\n",
       "      <td>0</td>\n",
       "      <td>3</td>\n",
       "      <td>27</td>\n",
       "      <td>8.000000</td>\n",
       "      <td>0</td>\n",
       "      <td>0</td>\n",
       "      <td>0</td>\n",
       "      <td>0</td>\n",
       "      <td>0</td>\n",
       "      <td>[]</td>\n",
       "      <td>0</td>\n",
       "      <td>0</td>\n",
       "    </tr>\n",
       "    <tr>\n",
       "      <th>59</th>\n",
       "      <td>where did u move to  i thought u were already in sd  hmmm random u found me glad to hear yer doing well</td>\n",
       "      <td>0</td>\n",
       "      <td>24</td>\n",
       "      <td>110</td>\n",
       "      <td>3.583333</td>\n",
       "      <td>7</td>\n",
       "      <td>0</td>\n",
       "      <td>0</td>\n",
       "      <td>0</td>\n",
       "      <td>1</td>\n",
       "      <td>[]</td>\n",
       "      <td>0</td>\n",
       "      <td>0</td>\n",
       "    </tr>\n",
       "    <tr>\n",
       "      <th>60</th>\n",
       "      <td>batmanyng i miss my ps3 its out of commission  wutcha playing have you copped blood on the sand</td>\n",
       "      <td>0</td>\n",
       "      <td>18</td>\n",
       "      <td>102</td>\n",
       "      <td>4.666667</td>\n",
       "      <td>4</td>\n",
       "      <td>0</td>\n",
       "      <td>1</td>\n",
       "      <td>0</td>\n",
       "      <td>1</td>\n",
       "      <td>[]</td>\n",
       "      <td>0</td>\n",
       "      <td>0</td>\n",
       "    </tr>\n",
       "    <tr>\n",
       "      <th>61</th>\n",
       "      <td>just leaving the parking lot of work</td>\n",
       "      <td>0</td>\n",
       "      <td>7</td>\n",
       "      <td>38</td>\n",
       "      <td>4.428571</td>\n",
       "      <td>3</td>\n",
       "      <td>0</td>\n",
       "      <td>0</td>\n",
       "      <td>0</td>\n",
       "      <td>0</td>\n",
       "      <td>[]</td>\n",
       "      <td>0</td>\n",
       "      <td>0</td>\n",
       "    </tr>\n",
       "    <tr>\n",
       "      <th>62</th>\n",
       "      <td>the life is cool but not for me</td>\n",
       "      <td>0</td>\n",
       "      <td>8</td>\n",
       "      <td>34</td>\n",
       "      <td>3.250000</td>\n",
       "      <td>3</td>\n",
       "      <td>0</td>\n",
       "      <td>0</td>\n",
       "      <td>0</td>\n",
       "      <td>0</td>\n",
       "      <td>[]</td>\n",
       "      <td>0</td>\n",
       "      <td>0</td>\n",
       "    </tr>\n",
       "    <tr>\n",
       "      <th>63</th>\n",
       "      <td>sadly though ive never gotten to experience the post coitus cigarette before and now i never will</td>\n",
       "      <td>0</td>\n",
       "      <td>17</td>\n",
       "      <td>102</td>\n",
       "      <td>5.000000</td>\n",
       "      <td>6</td>\n",
       "      <td>0</td>\n",
       "      <td>0</td>\n",
       "      <td>0</td>\n",
       "      <td>1</td>\n",
       "      <td>[]</td>\n",
       "      <td>0</td>\n",
       "      <td>0</td>\n",
       "    </tr>\n",
       "    <tr>\n",
       "      <th>64</th>\n",
       "      <td>i had such a nice day too bad the rain comes in tomorrow at 5am</td>\n",
       "      <td>0</td>\n",
       "      <td>15</td>\n",
       "      <td>65</td>\n",
       "      <td>3.333333</td>\n",
       "      <td>6</td>\n",
       "      <td>0</td>\n",
       "      <td>0</td>\n",
       "      <td>0</td>\n",
       "      <td>1</td>\n",
       "      <td>[]</td>\n",
       "      <td>0</td>\n",
       "      <td>0</td>\n",
       "    </tr>\n",
       "    <tr>\n",
       "      <th>65</th>\n",
       "      <td>starrbby too bad i wont be around i lost my job and cant even pay my phone bill lmao aw shucks</td>\n",
       "      <td>0</td>\n",
       "      <td>21</td>\n",
       "      <td>98</td>\n",
       "      <td>3.666667</td>\n",
       "      <td>7</td>\n",
       "      <td>0</td>\n",
       "      <td>1</td>\n",
       "      <td>0</td>\n",
       "      <td>2</td>\n",
       "      <td>[]</td>\n",
       "      <td>0</td>\n",
       "      <td>0</td>\n",
       "    </tr>\n",
       "    <tr>\n",
       "      <th>66</th>\n",
       "      <td>damm back to school tomorrow</td>\n",
       "      <td>0</td>\n",
       "      <td>5</td>\n",
       "      <td>29</td>\n",
       "      <td>4.800000</td>\n",
       "      <td>2</td>\n",
       "      <td>0</td>\n",
       "      <td>0</td>\n",
       "      <td>0</td>\n",
       "      <td>0</td>\n",
       "      <td>[]</td>\n",
       "      <td>0</td>\n",
       "      <td>0</td>\n",
       "    </tr>\n",
       "    <tr>\n",
       "      <th>67</th>\n",
       "      <td>mo jobs no money  how in the hell is min wage here 4 fn clams an hour</td>\n",
       "      <td>0</td>\n",
       "      <td>17</td>\n",
       "      <td>73</td>\n",
       "      <td>3.294118</td>\n",
       "      <td>7</td>\n",
       "      <td>0</td>\n",
       "      <td>0</td>\n",
       "      <td>1</td>\n",
       "      <td>0</td>\n",
       "      <td>[]</td>\n",
       "      <td>0</td>\n",
       "      <td>0</td>\n",
       "    </tr>\n",
       "    <tr>\n",
       "      <th>68</th>\n",
       "      <td>katoiz  not forever see you soon</td>\n",
       "      <td>0</td>\n",
       "      <td>6</td>\n",
       "      <td>39</td>\n",
       "      <td>5.500000</td>\n",
       "      <td>1</td>\n",
       "      <td>0</td>\n",
       "      <td>1</td>\n",
       "      <td>0</td>\n",
       "      <td>0</td>\n",
       "      <td>[]</td>\n",
       "      <td>0</td>\n",
       "      <td>0</td>\n",
       "    </tr>\n",
       "    <tr>\n",
       "      <th>69</th>\n",
       "      <td>lt_algonquin agreed i saw the failwhale allllll day today</td>\n",
       "      <td>0</td>\n",
       "      <td>9</td>\n",
       "      <td>61</td>\n",
       "      <td>5.777778</td>\n",
       "      <td>1</td>\n",
       "      <td>0</td>\n",
       "      <td>1</td>\n",
       "      <td>0</td>\n",
       "      <td>1</td>\n",
       "      <td>[]</td>\n",
       "      <td>0</td>\n",
       "      <td>0</td>\n",
       "    </tr>\n",
       "    <tr>\n",
       "      <th>70</th>\n",
       "      <td>jdaer oh haha dude i dont really look at em unless someone says hey i added you sorry  im so terrible at that i need a pop up</td>\n",
       "      <td>0</td>\n",
       "      <td>28</td>\n",
       "      <td>136</td>\n",
       "      <td>3.857143</td>\n",
       "      <td>7</td>\n",
       "      <td>0</td>\n",
       "      <td>1</td>\n",
       "      <td>0</td>\n",
       "      <td>6</td>\n",
       "      <td>[]</td>\n",
       "      <td>0</td>\n",
       "      <td>0</td>\n",
       "    </tr>\n",
       "    <tr>\n",
       "      <th>71</th>\n",
       "      <td>ninjen im sure youre right    i need to sta working out with you and the nikster or jared at least</td>\n",
       "      <td>0</td>\n",
       "      <td>20</td>\n",
       "      <td>110</td>\n",
       "      <td>4.400000</td>\n",
       "      <td>7</td>\n",
       "      <td>0</td>\n",
       "      <td>1</td>\n",
       "      <td>0</td>\n",
       "      <td>1</td>\n",
       "      <td>[]</td>\n",
       "      <td>0</td>\n",
       "      <td>0</td>\n",
       "    </tr>\n",
       "    <tr>\n",
       "      <th>72</th>\n",
       "      <td>i really hate how people diss my bands  trace is clearly not ugly</td>\n",
       "      <td>0</td>\n",
       "      <td>13</td>\n",
       "      <td>67</td>\n",
       "      <td>4.153846</td>\n",
       "      <td>5</td>\n",
       "      <td>0</td>\n",
       "      <td>0</td>\n",
       "      <td>0</td>\n",
       "      <td>1</td>\n",
       "      <td>[]</td>\n",
       "      <td>0</td>\n",
       "      <td>0</td>\n",
       "    </tr>\n",
       "    <tr>\n",
       "      <th>73</th>\n",
       "      <td>gym attire today was puma singlet adidas shosand black business socks and leather shoes  lucky did not run into any cute girls</td>\n",
       "      <td>0</td>\n",
       "      <td>22</td>\n",
       "      <td>138</td>\n",
       "      <td>5.272727</td>\n",
       "      <td>5</td>\n",
       "      <td>0</td>\n",
       "      <td>0</td>\n",
       "      <td>0</td>\n",
       "      <td>0</td>\n",
       "      <td>[]</td>\n",
       "      <td>0</td>\n",
       "      <td>0</td>\n",
       "    </tr>\n",
       "    <tr>\n",
       "      <th>74</th>\n",
       "      <td>why wont you show my location</td>\n",
       "      <td>0</td>\n",
       "      <td>7</td>\n",
       "      <td>59</td>\n",
       "      <td>7.285714</td>\n",
       "      <td>3</td>\n",
       "      <td>0</td>\n",
       "      <td>0</td>\n",
       "      <td>0</td>\n",
       "      <td>0</td>\n",
       "      <td>[]</td>\n",
       "      <td>0</td>\n",
       "      <td>1</td>\n",
       "    </tr>\n",
       "    <tr>\n",
       "      <th>75</th>\n",
       "      <td>no picnic  my phone smells like citrus</td>\n",
       "      <td>0</td>\n",
       "      <td>7</td>\n",
       "      <td>39</td>\n",
       "      <td>4.571429</td>\n",
       "      <td>1</td>\n",
       "      <td>0</td>\n",
       "      <td>0</td>\n",
       "      <td>0</td>\n",
       "      <td>0</td>\n",
       "      <td>[]</td>\n",
       "      <td>0</td>\n",
       "      <td>0</td>\n",
       "    </tr>\n",
       "    <tr>\n",
       "      <th>76</th>\n",
       "      <td>ashleyac my donkey is sensitive about such comments neveheless hed and med be glad to see your mug asap charger is still awol</td>\n",
       "      <td>0</td>\n",
       "      <td>23</td>\n",
       "      <td>137</td>\n",
       "      <td>4.956522</td>\n",
       "      <td>9</td>\n",
       "      <td>0</td>\n",
       "      <td>1</td>\n",
       "      <td>0</td>\n",
       "      <td>0</td>\n",
       "      <td>[]</td>\n",
       "      <td>0</td>\n",
       "      <td>0</td>\n",
       "    </tr>\n",
       "    <tr>\n",
       "      <th>77</th>\n",
       "      <td>no new csi tonight  fml</td>\n",
       "      <td>0</td>\n",
       "      <td>5</td>\n",
       "      <td>24</td>\n",
       "      <td>3.800000</td>\n",
       "      <td>0</td>\n",
       "      <td>0</td>\n",
       "      <td>0</td>\n",
       "      <td>0</td>\n",
       "      <td>1</td>\n",
       "      <td>[]</td>\n",
       "      <td>0</td>\n",
       "      <td>0</td>\n",
       "    </tr>\n",
       "    <tr>\n",
       "      <th>78</th>\n",
       "      <td>i think my arms are sore from tennis</td>\n",
       "      <td>0</td>\n",
       "      <td>8</td>\n",
       "      <td>37</td>\n",
       "      <td>3.625000</td>\n",
       "      <td>4</td>\n",
       "      <td>0</td>\n",
       "      <td>0</td>\n",
       "      <td>0</td>\n",
       "      <td>0</td>\n",
       "      <td>[]</td>\n",
       "      <td>0</td>\n",
       "      <td>0</td>\n",
       "    </tr>\n",
       "    <tr>\n",
       "      <th>79</th>\n",
       "      <td>wonders why someone that u like so much can make you so unhappy in a split seccond  depressed</td>\n",
       "      <td>0</td>\n",
       "      <td>20</td>\n",
       "      <td>97</td>\n",
       "      <td>3.850000</td>\n",
       "      <td>11</td>\n",
       "      <td>0</td>\n",
       "      <td>0</td>\n",
       "      <td>0</td>\n",
       "      <td>0</td>\n",
       "      <td>[]</td>\n",
       "      <td>0</td>\n",
       "      <td>0</td>\n",
       "    </tr>\n",
       "    <tr>\n",
       "      <th>80</th>\n",
       "      <td>sleep soon i just hate saying bye and see you tomorrow for the night</td>\n",
       "      <td>0</td>\n",
       "      <td>14</td>\n",
       "      <td>73</td>\n",
       "      <td>4.214286</td>\n",
       "      <td>7</td>\n",
       "      <td>0</td>\n",
       "      <td>0</td>\n",
       "      <td>0</td>\n",
       "      <td>0</td>\n",
       "      <td>[]</td>\n",
       "      <td>0</td>\n",
       "      <td>0</td>\n",
       "    </tr>\n",
       "    <tr>\n",
       "      <th>81</th>\n",
       "      <td>statravelau just got ur newsletter those fares really are unbelievable shame i already booked and paid for mine</td>\n",
       "      <td>0</td>\n",
       "      <td>18</td>\n",
       "      <td>115</td>\n",
       "      <td>5.388889</td>\n",
       "      <td>8</td>\n",
       "      <td>0</td>\n",
       "      <td>1</td>\n",
       "      <td>0</td>\n",
       "      <td>1</td>\n",
       "      <td>[]</td>\n",
       "      <td>0</td>\n",
       "      <td>0</td>\n",
       "    </tr>\n",
       "    <tr>\n",
       "      <th>82</th>\n",
       "      <td>missin the boo</td>\n",
       "      <td>0</td>\n",
       "      <td>3</td>\n",
       "      <td>16</td>\n",
       "      <td>4.333333</td>\n",
       "      <td>1</td>\n",
       "      <td>0</td>\n",
       "      <td>0</td>\n",
       "      <td>0</td>\n",
       "      <td>0</td>\n",
       "      <td>[]</td>\n",
       "      <td>0</td>\n",
       "      <td>0</td>\n",
       "    </tr>\n",
       "    <tr>\n",
       "      <th>83</th>\n",
       "      <td>markhardy1974 me too  itm</td>\n",
       "      <td>0</td>\n",
       "      <td>4</td>\n",
       "      <td>27</td>\n",
       "      <td>5.750000</td>\n",
       "      <td>1</td>\n",
       "      <td>1</td>\n",
       "      <td>1</td>\n",
       "      <td>0</td>\n",
       "      <td>0</td>\n",
       "      <td>[]</td>\n",
       "      <td>0</td>\n",
       "      <td>0</td>\n",
       "    </tr>\n",
       "    <tr>\n",
       "      <th>84</th>\n",
       "      <td>damn i dont have any chalk my chalkboard is useless</td>\n",
       "      <td>0</td>\n",
       "      <td>10</td>\n",
       "      <td>57</td>\n",
       "      <td>4.700000</td>\n",
       "      <td>2</td>\n",
       "      <td>0</td>\n",
       "      <td>0</td>\n",
       "      <td>0</td>\n",
       "      <td>5</td>\n",
       "      <td>[]</td>\n",
       "      <td>0</td>\n",
       "      <td>0</td>\n",
       "    </tr>\n",
       "    <tr>\n",
       "      <th>85</th>\n",
       "      <td>had a blast at the getty villa but hates that shes had a sore throat all day its just getting worse too</td>\n",
       "      <td>0</td>\n",
       "      <td>22</td>\n",
       "      <td>108</td>\n",
       "      <td>3.909091</td>\n",
       "      <td>11</td>\n",
       "      <td>0</td>\n",
       "      <td>0</td>\n",
       "      <td>0</td>\n",
       "      <td>0</td>\n",
       "      <td>[]</td>\n",
       "      <td>0</td>\n",
       "      <td>0</td>\n",
       "    </tr>\n",
       "    <tr>\n",
       "      <th>86</th>\n",
       "      <td>msdrama hey missed ya at the meeting  sup mama</td>\n",
       "      <td>0</td>\n",
       "      <td>9</td>\n",
       "      <td>47</td>\n",
       "      <td>4.222222</td>\n",
       "      <td>2</td>\n",
       "      <td>0</td>\n",
       "      <td>1</td>\n",
       "      <td>0</td>\n",
       "      <td>0</td>\n",
       "      <td>[]</td>\n",
       "      <td>0</td>\n",
       "      <td>0</td>\n",
       "    </tr>\n",
       "    <tr>\n",
       "      <th>87</th>\n",
       "      <td>my tummy hus  i wonder if the hypnosis has anything to do with it if so its working i get it stop smoking</td>\n",
       "      <td>0</td>\n",
       "      <td>23</td>\n",
       "      <td>116</td>\n",
       "      <td>4.043478</td>\n",
       "      <td>8</td>\n",
       "      <td>0</td>\n",
       "      <td>0</td>\n",
       "      <td>0</td>\n",
       "      <td>4</td>\n",
       "      <td>[]</td>\n",
       "      <td>0</td>\n",
       "      <td>0</td>\n",
       "    </tr>\n",
       "    <tr>\n",
       "      <th>88</th>\n",
       "      <td>why is it always the fat ones</td>\n",
       "      <td>0</td>\n",
       "      <td>7</td>\n",
       "      <td>32</td>\n",
       "      <td>3.571429</td>\n",
       "      <td>5</td>\n",
       "      <td>0</td>\n",
       "      <td>0</td>\n",
       "      <td>0</td>\n",
       "      <td>0</td>\n",
       "      <td>[]</td>\n",
       "      <td>0</td>\n",
       "      <td>0</td>\n",
       "    </tr>\n",
       "    <tr>\n",
       "      <th>89</th>\n",
       "      <td>januarycrimson sorry babe  my fam annoys me too thankfully theyre asleep right now muahaha evil laugh</td>\n",
       "      <td>0</td>\n",
       "      <td>16</td>\n",
       "      <td>112</td>\n",
       "      <td>6.000000</td>\n",
       "      <td>1</td>\n",
       "      <td>0</td>\n",
       "      <td>1</td>\n",
       "      <td>0</td>\n",
       "      <td>0</td>\n",
       "      <td>[]</td>\n",
       "      <td>0</td>\n",
       "      <td>0</td>\n",
       "    </tr>\n",
       "    <tr>\n",
       "      <th>90</th>\n",
       "      <td>hollywoodheat i should have paid more attention when we covered photoshop in my webpage design class in undergrad</td>\n",
       "      <td>0</td>\n",
       "      <td>18</td>\n",
       "      <td>115</td>\n",
       "      <td>5.388889</td>\n",
       "      <td>8</td>\n",
       "      <td>0</td>\n",
       "      <td>1</td>\n",
       "      <td>0</td>\n",
       "      <td>1</td>\n",
       "      <td>[]</td>\n",
       "      <td>0</td>\n",
       "      <td>0</td>\n",
       "    </tr>\n",
       "    <tr>\n",
       "      <th>91</th>\n",
       "      <td>wednesday my b-day dont know what 2 do</td>\n",
       "      <td>0</td>\n",
       "      <td>8</td>\n",
       "      <td>43</td>\n",
       "      <td>4.375000</td>\n",
       "      <td>2</td>\n",
       "      <td>0</td>\n",
       "      <td>0</td>\n",
       "      <td>1</td>\n",
       "      <td>0</td>\n",
       "      <td>[]</td>\n",
       "      <td>0</td>\n",
       "      <td>0</td>\n",
       "    </tr>\n",
       "    <tr>\n",
       "      <th>92</th>\n",
       "      <td>poor cameron the hills</td>\n",
       "      <td>0</td>\n",
       "      <td>4</td>\n",
       "      <td>25</td>\n",
       "      <td>5.250000</td>\n",
       "      <td>0</td>\n",
       "      <td>0</td>\n",
       "      <td>0</td>\n",
       "      <td>0</td>\n",
       "      <td>0</td>\n",
       "      <td>[]</td>\n",
       "      <td>0</td>\n",
       "      <td>0</td>\n",
       "    </tr>\n",
       "    <tr>\n",
       "      <th>93</th>\n",
       "      <td>pray for me please the ex is threatening to sta sh at myour babies 1st bihday pay what a jerk and i still have a headache</td>\n",
       "      <td>0</td>\n",
       "      <td>26</td>\n",
       "      <td>134</td>\n",
       "      <td>4.153846</td>\n",
       "      <td>12</td>\n",
       "      <td>0</td>\n",
       "      <td>0</td>\n",
       "      <td>0</td>\n",
       "      <td>1</td>\n",
       "      <td>[]</td>\n",
       "      <td>0</td>\n",
       "      <td>0</td>\n",
       "    </tr>\n",
       "    <tr>\n",
       "      <th>94</th>\n",
       "      <td>makeherfamous hmm   do u really enjoy being with him  if the problems are too constants u should think things more  find someone ulike</td>\n",
       "      <td>0</td>\n",
       "      <td>26</td>\n",
       "      <td>138</td>\n",
       "      <td>4.307692</td>\n",
       "      <td>12</td>\n",
       "      <td>0</td>\n",
       "      <td>1</td>\n",
       "      <td>0</td>\n",
       "      <td>0</td>\n",
       "      <td>[]</td>\n",
       "      <td>0</td>\n",
       "      <td>0</td>\n",
       "    </tr>\n",
       "    <tr>\n",
       "      <th>95</th>\n",
       "      <td>strider is a sick little puppy</td>\n",
       "      <td>0</td>\n",
       "      <td>7</td>\n",
       "      <td>85</td>\n",
       "      <td>11.142857</td>\n",
       "      <td>2</td>\n",
       "      <td>0</td>\n",
       "      <td>0</td>\n",
       "      <td>0</td>\n",
       "      <td>0</td>\n",
       "      <td>[]</td>\n",
       "      <td>0</td>\n",
       "      <td>1</td>\n",
       "    </tr>\n",
       "    <tr>\n",
       "      <th>96</th>\n",
       "      <td>so ryleegracewana go steves pay or not sadly since its easter i wnt b able 2 do much  but ohh well</td>\n",
       "      <td>0</td>\n",
       "      <td>21</td>\n",
       "      <td>112</td>\n",
       "      <td>4.333333</td>\n",
       "      <td>3</td>\n",
       "      <td>0</td>\n",
       "      <td>0</td>\n",
       "      <td>1</td>\n",
       "      <td>13</td>\n",
       "      <td>[]</td>\n",
       "      <td>0</td>\n",
       "      <td>0</td>\n",
       "    </tr>\n",
       "    <tr>\n",
       "      <th>97</th>\n",
       "      <td>hey i actually won one of my bracket pools too bad it wasnt the one for money</td>\n",
       "      <td>0</td>\n",
       "      <td>17</td>\n",
       "      <td>81</td>\n",
       "      <td>3.764706</td>\n",
       "      <td>7</td>\n",
       "      <td>0</td>\n",
       "      <td>0</td>\n",
       "      <td>0</td>\n",
       "      <td>1</td>\n",
       "      <td>[]</td>\n",
       "      <td>0</td>\n",
       "      <td>0</td>\n",
       "    </tr>\n",
       "    <tr>\n",
       "      <th>98</th>\n",
       "      <td>stark you dont follow me either  and i work for you</td>\n",
       "      <td>0</td>\n",
       "      <td>11</td>\n",
       "      <td>55</td>\n",
       "      <td>4.000000</td>\n",
       "      <td>4</td>\n",
       "      <td>0</td>\n",
       "      <td>1</td>\n",
       "      <td>0</td>\n",
       "      <td>1</td>\n",
       "      <td>[]</td>\n",
       "      <td>0</td>\n",
       "      <td>0</td>\n",
       "    </tr>\n",
       "    <tr>\n",
       "      <th>99</th>\n",
       "      <td>a bad nite for the favorite teams astros and spaans lose  the nite out with tw was good</td>\n",
       "      <td>0</td>\n",
       "      <td>18</td>\n",
       "      <td>94</td>\n",
       "      <td>4.222222</td>\n",
       "      <td>6</td>\n",
       "      <td>0</td>\n",
       "      <td>0</td>\n",
       "      <td>0</td>\n",
       "      <td>2</td>\n",
       "      <td>[]</td>\n",
       "      <td>0</td>\n",
       "      <td>0</td>\n",
       "    </tr>\n",
       "  </tbody>\n",
       "</table>\n",
       "</div>"
      ],
      "text/plain": [
       "                                                                                                                                    tweets  \\\n",
       "50                                      broadband plan a massive broken promise  via wwwdiigocomtautao still waiting for broadband we are    \n",
       "51            localtweeps wow tons of replies from you may have to unfollow so i can see my friends tweets youre scrolling the feed a lot    \n",
       "52                                                                                our duck and chicken are taking wayyy too long to hatch    \n",
       "53                                              put vacation photos online a few yrs ago pc crashed and now i forget the name of the site    \n",
       "54                                                                                                                           i need a hug    \n",
       "55      andywana not sure what they are only that they are pos as much as i want to i dont think can trade away company assets sorry andy    \n",
       "56                                                                                                      oanhlove i hate when that happens    \n",
       "57    i have a sad feeling that dallas is not going to show up  i gotta say though youd think more shows would use music from the game mmm   \n",
       "58                                                                                                                 ugh92 degrees tomorrow    \n",
       "59                                 where did u move to  i thought u were already in sd  hmmm random u found me glad to hear yer doing well   \n",
       "60                                         batmanyng i miss my ps3 its out of commission  wutcha playing have you copped blood on the sand   \n",
       "61                                                                                                   just leaving the parking lot of work    \n",
       "62                                                                                                        the life is cool but not for me    \n",
       "63                                      sadly though ive never gotten to experience the post coitus cigarette before and now i never will    \n",
       "64                                                                        i had such a nice day too bad the rain comes in tomorrow at 5am    \n",
       "65                                         starrbby too bad i wont be around i lost my job and cant even pay my phone bill lmao aw shucks    \n",
       "66                                                                                                           damm back to school tomorrow    \n",
       "67                                                                   mo jobs no money  how in the hell is min wage here 4 fn clams an hour   \n",
       "68                                                                                                        katoiz  not forever see you soon   \n",
       "69                                                                              lt_algonquin agreed i saw the failwhale allllll day today    \n",
       "70           jdaer oh haha dude i dont really look at em unless someone says hey i added you sorry  im so terrible at that i need a pop up   \n",
       "71                                      ninjen im sure youre right    i need to sta working out with you and the nikster or jared at least   \n",
       "72                                                                       i really hate how people diss my bands  trace is clearly not ugly   \n",
       "73          gym attire today was puma singlet adidas shosand black business socks and leather shoes  lucky did not run into any cute girls   \n",
       "74                                                                                                        why wont you show my location      \n",
       "75                                                                                                  no picnic  my phone smells like citrus   \n",
       "76          ashleyac my donkey is sensitive about such comments neveheless hed and med be glad to see your mug asap charger is still awol    \n",
       "77                                                                                                                 no new csi tonight  fml   \n",
       "78                                                                                                   i think my arms are sore from tennis    \n",
       "79                                         wonders why someone that u like so much can make you so unhappy in a split seccond  depressed     \n",
       "80                                                                   sleep soon i just hate saying bye and see you tomorrow for the night    \n",
       "81                        statravelau just got ur newsletter those fares really are unbelievable shame i already booked and paid for mine    \n",
       "82                                                                                                                         missin the boo    \n",
       "83                                                                                                               markhardy1974 me too  itm   \n",
       "84                                                                                    damn i dont have any chalk my chalkboard is useless    \n",
       "85                                had a blast at the getty villa but hates that shes had a sore throat all day its just getting worse too    \n",
       "86                                                                                          msdrama hey missed ya at the meeting  sup mama   \n",
       "87                               my tummy hus  i wonder if the hypnosis has anything to do with it if so its working i get it stop smoking   \n",
       "88                                                                                                          why is it always the fat ones    \n",
       "89                                   januarycrimson sorry babe  my fam annoys me too thankfully theyre asleep right now muahaha evil laugh   \n",
       "90                      hollywoodheat i should have paid more attention when we covered photoshop in my webpage design class in undergrad    \n",
       "91                                                                                                 wednesday my b-day dont know what 2 do    \n",
       "92                                                                                                                 poor cameron the hills    \n",
       "93              pray for me please the ex is threatening to sta sh at myour babies 1st bihday pay what a jerk and i still have a headache    \n",
       "94  makeherfamous hmm   do u really enjoy being with him  if the problems are too constants u should think things more  find someone ulike   \n",
       "95                                                                                                        strider is a sick little puppy     \n",
       "96                                      so ryleegracewana go steves pay or not sadly since its easter i wnt b able 2 do much  but ohh well   \n",
       "97                                                          hey i actually won one of my bracket pools too bad it wasnt the one for money    \n",
       "98                                                                                     stark you dont follow me either  and i work for you   \n",
       "99                                                 a bad nite for the favorite teams astros and spaans lose  the nite out with tw was good   \n",
       "\n",
       "    sentiment  word_counts  char_counts  avg_word_len  stop_word_len  \\\n",
       "50          0           15          129      7.600000              4   \n",
       "51          0           24          131      4.458333             11   \n",
       "52          0           11           56      4.090909              5   \n",
       "53          0           19           93      3.894737              8   \n",
       "54          0            4           13      2.250000              1   \n",
       "55          0           27          135      4.000000              9   \n",
       "56          0            6           38      5.333333              2   \n",
       "57          0           28          135      3.821429             13   \n",
       "58          0            3           27      8.000000              0   \n",
       "59          0           24          110      3.583333              7   \n",
       "60          0           18          102      4.666667              4   \n",
       "61          0            7           38      4.428571              3   \n",
       "62          0            8           34      3.250000              3   \n",
       "63          0           17          102      5.000000              6   \n",
       "64          0           15           65      3.333333              6   \n",
       "65          0           21           98      3.666667              7   \n",
       "66          0            5           29      4.800000              2   \n",
       "67          0           17           73      3.294118              7   \n",
       "68          0            6           39      5.500000              1   \n",
       "69          0            9           61      5.777778              1   \n",
       "70          0           28          136      3.857143              7   \n",
       "71          0           20          110      4.400000              7   \n",
       "72          0           13           67      4.153846              5   \n",
       "73          0           22          138      5.272727              5   \n",
       "74          0            7           59      7.285714              3   \n",
       "75          0            7           39      4.571429              1   \n",
       "76          0           23          137      4.956522              9   \n",
       "77          0            5           24      3.800000              0   \n",
       "78          0            8           37      3.625000              4   \n",
       "79          0           20           97      3.850000             11   \n",
       "80          0           14           73      4.214286              7   \n",
       "81          0           18          115      5.388889              8   \n",
       "82          0            3           16      4.333333              1   \n",
       "83          0            4           27      5.750000              1   \n",
       "84          0           10           57      4.700000              2   \n",
       "85          0           22          108      3.909091             11   \n",
       "86          0            9           47      4.222222              2   \n",
       "87          0           23          116      4.043478              8   \n",
       "88          0            7           32      3.571429              5   \n",
       "89          0           16          112      6.000000              1   \n",
       "90          0           18          115      5.388889              8   \n",
       "91          0            8           43      4.375000              2   \n",
       "92          0            4           25      5.250000              0   \n",
       "93          0           26          134      4.153846             12   \n",
       "94          0           26          138      4.307692             12   \n",
       "95          0            7           85     11.142857              2   \n",
       "96          0           21          112      4.333333              3   \n",
       "97          0           17           81      3.764706              7   \n",
       "98          0           11           55      4.000000              4   \n",
       "99          0           18           94      4.222222              6   \n",
       "\n",
       "    #_counts  @_counts  numeric_counts  upper_counts email  email_counts  \\\n",
       "50         0         0               0             0    []             0   \n",
       "51         0         1               0             1    []             0   \n",
       "52         0         0               0             0    []             0   \n",
       "53         0         0               0             2    []             0   \n",
       "54         0         0               0             1    []             0   \n",
       "55         0         1               0             2    []             0   \n",
       "56         0         1               0             1    []             0   \n",
       "57         0         0               0             2    []             0   \n",
       "58         0         0               0             0    []             0   \n",
       "59         0         0               0             1    []             0   \n",
       "60         0         1               0             1    []             0   \n",
       "61         0         0               0             0    []             0   \n",
       "62         0         0               0             0    []             0   \n",
       "63         0         0               0             1    []             0   \n",
       "64         0         0               0             1    []             0   \n",
       "65         0         1               0             2    []             0   \n",
       "66         0         0               0             0    []             0   \n",
       "67         0         0               1             0    []             0   \n",
       "68         0         1               0             0    []             0   \n",
       "69         0         1               0             1    []             0   \n",
       "70         0         1               0             6    []             0   \n",
       "71         0         1               0             1    []             0   \n",
       "72         0         0               0             1    []             0   \n",
       "73         0         0               0             0    []             0   \n",
       "74         0         0               0             0    []             0   \n",
       "75         0         0               0             0    []             0   \n",
       "76         0         1               0             0    []             0   \n",
       "77         0         0               0             1    []             0   \n",
       "78         0         0               0             0    []             0   \n",
       "79         0         0               0             0    []             0   \n",
       "80         0         0               0             0    []             0   \n",
       "81         0         1               0             1    []             0   \n",
       "82         0         0               0             0    []             0   \n",
       "83         1         1               0             0    []             0   \n",
       "84         0         0               0             5    []             0   \n",
       "85         0         0               0             0    []             0   \n",
       "86         0         1               0             0    []             0   \n",
       "87         0         0               0             4    []             0   \n",
       "88         0         0               0             0    []             0   \n",
       "89         0         1               0             0    []             0   \n",
       "90         0         1               0             1    []             0   \n",
       "91         0         0               1             0    []             0   \n",
       "92         0         0               0             0    []             0   \n",
       "93         0         0               0             1    []             0   \n",
       "94         0         1               0             0    []             0   \n",
       "95         0         0               0             0    []             0   \n",
       "96         0         0               1            13    []             0   \n",
       "97         0         0               0             1    []             0   \n",
       "98         0         1               0             1    []             0   \n",
       "99         0         0               0             2    []             0   \n",
       "\n",
       "    url_flag  \n",
       "50         1  \n",
       "51         0  \n",
       "52         0  \n",
       "53         0  \n",
       "54         0  \n",
       "55         0  \n",
       "56         0  \n",
       "57         0  \n",
       "58         0  \n",
       "59         0  \n",
       "60         0  \n",
       "61         0  \n",
       "62         0  \n",
       "63         0  \n",
       "64         0  \n",
       "65         0  \n",
       "66         0  \n",
       "67         0  \n",
       "68         0  \n",
       "69         0  \n",
       "70         0  \n",
       "71         0  \n",
       "72         0  \n",
       "73         0  \n",
       "74         1  \n",
       "75         0  \n",
       "76         0  \n",
       "77         0  \n",
       "78         0  \n",
       "79         0  \n",
       "80         0  \n",
       "81         0  \n",
       "82         0  \n",
       "83         0  \n",
       "84         0  \n",
       "85         0  \n",
       "86         0  \n",
       "87         0  \n",
       "88         0  \n",
       "89         0  \n",
       "90         0  \n",
       "91         0  \n",
       "92         0  \n",
       "93         0  \n",
       "94         0  \n",
       "95         1  \n",
       "96         0  \n",
       "97         0  \n",
       "98         0  \n",
       "99         0  "
      ]
     },
     "execution_count": 62,
     "metadata": {},
     "output_type": "execute_result"
    }
   ],
   "source": [
    "df[50:100] "
   ]
  },
  {
   "cell_type": "markdown",
   "id": "da3006cd",
   "metadata": {},
   "source": [
    "##### Removal of multiple spaces `\"   \"`"
   ]
  },
  {
   "cell_type": "code",
   "execution_count": 63,
   "id": "eb76c67a",
   "metadata": {
    "ExecuteTime": {
     "end_time": "2022-10-07T13:17:34.595983Z",
     "start_time": "2022-10-07T13:17:34.593707Z"
    }
   },
   "outputs": [],
   "source": [
    "x = 'The   Boy   in     the   Striped Pajamas.pdf is an excellent book'"
   ]
  },
  {
   "cell_type": "code",
   "execution_count": 64,
   "id": "c728dcde",
   "metadata": {
    "ExecuteTime": {
     "end_time": "2022-10-07T13:17:34.601059Z",
     "start_time": "2022-10-07T13:17:34.597445Z"
    }
   },
   "outputs": [
    {
     "data": {
      "text/plain": [
       "'The Boy in the Striped Pajamas.pdf is an excellent book'"
      ]
     },
     "execution_count": 64,
     "metadata": {},
     "output_type": "execute_result"
    }
   ],
   "source": [
    "\" \".join(x.split())"
   ]
  },
  {
   "cell_type": "code",
   "execution_count": 65,
   "id": "3ac3560a",
   "metadata": {
    "ExecuteTime": {
     "end_time": "2022-10-07T13:17:36.089062Z",
     "start_time": "2022-10-07T13:17:34.602689Z"
    }
   },
   "outputs": [],
   "source": [
    "df['tweets'] = df['tweets'].apply(lambda x: \" \".join(x.split()))"
   ]
  },
  {
   "cell_type": "markdown",
   "id": "d7e453e6",
   "metadata": {},
   "source": [
    "##### Removal of HTML tags"
   ]
  },
  {
   "cell_type": "code",
   "execution_count": 66,
   "id": "1024fb35",
   "metadata": {
    "ExecuteTime": {
     "end_time": "2022-10-07T13:17:36.094134Z",
     "start_time": "2022-10-07T13:17:36.091199Z"
    }
   },
   "outputs": [],
   "source": [
    "#1.04 hour"
   ]
  },
  {
   "cell_type": "code",
   "execution_count": 67,
   "id": "c6691b38",
   "metadata": {
    "ExecuteTime": {
     "end_time": "2022-10-07T13:17:36.184862Z",
     "start_time": "2022-10-07T13:17:36.096301Z"
    }
   },
   "outputs": [],
   "source": [
    "from bs4 import BeautifulSoup"
   ]
  },
  {
   "cell_type": "code",
   "execution_count": 68,
   "id": "8e24e84e",
   "metadata": {
    "ExecuteTime": {
     "end_time": "2022-10-07T13:17:36.188207Z",
     "start_time": "2022-10-07T13:17:36.186020Z"
    }
   },
   "outputs": [],
   "source": [
    "x = '<html><h2>The Boy in the Striped Pajamas</h2></html>'"
   ]
  },
  {
   "cell_type": "code",
   "execution_count": 69,
   "id": "7ee88764",
   "metadata": {
    "ExecuteTime": {
     "end_time": "2022-10-07T13:17:36.194174Z",
     "start_time": "2022-10-07T13:17:36.189753Z"
    }
   },
   "outputs": [
    {
     "data": {
      "text/plain": [
       "'The Boy in the Striped Pajamas'"
      ]
     },
     "execution_count": 69,
     "metadata": {},
     "output_type": "execute_result"
    }
   ],
   "source": [
    "BeautifulSoup(x,'lxml').get_text()"
   ]
  },
  {
   "cell_type": "code",
   "execution_count": null,
   "id": "77c32ace",
   "metadata": {},
   "outputs": [],
   "source": []
  },
  {
   "cell_type": "code",
   "execution_count": 70,
   "id": "0303b4d5",
   "metadata": {
    "ExecuteTime": {
     "end_time": "2022-10-07T13:17:36.198745Z",
     "start_time": "2022-10-07T13:17:36.195515Z"
    }
   },
   "outputs": [
    {
     "name": "stdout",
     "output_type": "stream",
     "text": [
      "CPU times: user 2 µs, sys: 0 ns, total: 2 µs\n",
      "Wall time: 5.01 µs\n"
     ]
    }
   ],
   "source": [
    "%%time\n",
    "# df['tweets'] = df['tweets'].apply(lambda x: BeautifulSoup(x, 'lxml').get_text())"
   ]
  },
  {
   "cell_type": "markdown",
   "id": "5d65a600",
   "metadata": {},
   "source": [
    "##### Removal of accented characters"
   ]
  },
  {
   "cell_type": "code",
   "execution_count": 71,
   "id": "0a91d9d6",
   "metadata": {
    "ExecuteTime": {
     "end_time": "2022-10-07T13:17:36.202298Z",
     "start_time": "2022-10-07T13:17:36.200054Z"
    }
   },
   "outputs": [],
   "source": [
    "x = 'a`ccE~`nted Tex`t'"
   ]
  },
  {
   "cell_type": "code",
   "execution_count": 72,
   "id": "6ec15416",
   "metadata": {
    "ExecuteTime": {
     "end_time": "2022-10-07T13:17:36.206269Z",
     "start_time": "2022-10-07T13:17:36.203774Z"
    }
   },
   "outputs": [],
   "source": [
    "import unicodedata"
   ]
  },
  {
   "cell_type": "code",
   "execution_count": 73,
   "id": "94ff7c8d",
   "metadata": {
    "ExecuteTime": {
     "end_time": "2022-10-07T13:17:36.210622Z",
     "start_time": "2022-10-07T13:17:36.207890Z"
    }
   },
   "outputs": [],
   "source": [
    "def remove_accented_chars(x):\n",
    "    x = unicodedata.normalize('NFKD',x).encode('ascii', 'ignore').decode('utf-8','ignore')"
   ]
  },
  {
   "cell_type": "code",
   "execution_count": 74,
   "id": "b9123fde",
   "metadata": {
    "ExecuteTime": {
     "end_time": "2022-10-07T13:17:36.214675Z",
     "start_time": "2022-10-07T13:17:36.212178Z"
    }
   },
   "outputs": [],
   "source": [
    "remove_accented_chars(x)"
   ]
  },
  {
   "cell_type": "markdown",
   "id": "31c16ba8",
   "metadata": {},
   "source": []
  },
  {
   "cell_type": "markdown",
   "id": "2220039b",
   "metadata": {
    "ExecuteTime": {
     "end_time": "2022-10-07T04:38:59.796463Z",
     "start_time": "2022-10-07T04:38:59.385249Z"
    }
   },
   "source": [
    "### Spacy and NLP"
   ]
  },
  {
   "cell_type": "markdown",
   "id": "3087e464",
   "metadata": {},
   "source": [
    "##### Removal of stop Words"
   ]
  },
  {
   "cell_type": "code",
   "execution_count": 75,
   "id": "034b6cac",
   "metadata": {
    "ExecuteTime": {
     "end_time": "2022-10-07T13:17:36.219471Z",
     "start_time": "2022-10-07T13:17:36.216911Z"
    }
   },
   "outputs": [],
   "source": [
    "import spacy"
   ]
  },
  {
   "cell_type": "code",
   "execution_count": 76,
   "id": "7da4a615",
   "metadata": {
    "ExecuteTime": {
     "end_time": "2022-10-07T13:17:36.226989Z",
     "start_time": "2022-10-07T13:17:36.220775Z"
    },
    "scrolled": true
   },
   "outputs": [
    {
     "data": {
      "text/plain": [
       "{\"'d\",\n",
       " \"'ll\",\n",
       " \"'m\",\n",
       " \"'re\",\n",
       " \"'s\",\n",
       " \"'ve\",\n",
       " 'a',\n",
       " 'about',\n",
       " 'above',\n",
       " 'across',\n",
       " 'after',\n",
       " 'afterwards',\n",
       " 'again',\n",
       " 'against',\n",
       " 'all',\n",
       " 'almost',\n",
       " 'alone',\n",
       " 'along',\n",
       " 'already',\n",
       " 'also',\n",
       " 'although',\n",
       " 'always',\n",
       " 'am',\n",
       " 'among',\n",
       " 'amongst',\n",
       " 'amount',\n",
       " 'an',\n",
       " 'and',\n",
       " 'another',\n",
       " 'any',\n",
       " 'anyhow',\n",
       " 'anyone',\n",
       " 'anything',\n",
       " 'anyway',\n",
       " 'anywhere',\n",
       " 'are',\n",
       " 'around',\n",
       " 'as',\n",
       " 'at',\n",
       " 'back',\n",
       " 'be',\n",
       " 'became',\n",
       " 'because',\n",
       " 'become',\n",
       " 'becomes',\n",
       " 'becoming',\n",
       " 'been',\n",
       " 'before',\n",
       " 'beforehand',\n",
       " 'behind',\n",
       " 'being',\n",
       " 'below',\n",
       " 'beside',\n",
       " 'besides',\n",
       " 'between',\n",
       " 'beyond',\n",
       " 'both',\n",
       " 'bottom',\n",
       " 'but',\n",
       " 'by',\n",
       " 'ca',\n",
       " 'call',\n",
       " 'can',\n",
       " 'cannot',\n",
       " 'could',\n",
       " 'did',\n",
       " 'do',\n",
       " 'does',\n",
       " 'doing',\n",
       " 'done',\n",
       " 'down',\n",
       " 'due',\n",
       " 'during',\n",
       " 'each',\n",
       " 'eight',\n",
       " 'either',\n",
       " 'eleven',\n",
       " 'else',\n",
       " 'elsewhere',\n",
       " 'empty',\n",
       " 'enough',\n",
       " 'even',\n",
       " 'ever',\n",
       " 'every',\n",
       " 'everyone',\n",
       " 'everything',\n",
       " 'everywhere',\n",
       " 'except',\n",
       " 'few',\n",
       " 'fifteen',\n",
       " 'fifty',\n",
       " 'first',\n",
       " 'five',\n",
       " 'for',\n",
       " 'former',\n",
       " 'formerly',\n",
       " 'forty',\n",
       " 'four',\n",
       " 'from',\n",
       " 'front',\n",
       " 'full',\n",
       " 'further',\n",
       " 'get',\n",
       " 'give',\n",
       " 'go',\n",
       " 'had',\n",
       " 'has',\n",
       " 'have',\n",
       " 'he',\n",
       " 'hence',\n",
       " 'her',\n",
       " 'here',\n",
       " 'hereafter',\n",
       " 'hereby',\n",
       " 'herein',\n",
       " 'hereupon',\n",
       " 'hers',\n",
       " 'herself',\n",
       " 'him',\n",
       " 'himself',\n",
       " 'his',\n",
       " 'how',\n",
       " 'however',\n",
       " 'hundred',\n",
       " 'i',\n",
       " 'if',\n",
       " 'in',\n",
       " 'indeed',\n",
       " 'into',\n",
       " 'is',\n",
       " 'it',\n",
       " 'its',\n",
       " 'itself',\n",
       " 'just',\n",
       " 'keep',\n",
       " 'last',\n",
       " 'latter',\n",
       " 'latterly',\n",
       " 'least',\n",
       " 'less',\n",
       " 'made',\n",
       " 'make',\n",
       " 'many',\n",
       " 'may',\n",
       " 'me',\n",
       " 'meanwhile',\n",
       " 'might',\n",
       " 'mine',\n",
       " 'more',\n",
       " 'moreover',\n",
       " 'most',\n",
       " 'mostly',\n",
       " 'move',\n",
       " 'much',\n",
       " 'must',\n",
       " 'my',\n",
       " 'myself',\n",
       " \"n't\",\n",
       " 'name',\n",
       " 'namely',\n",
       " 'neither',\n",
       " 'never',\n",
       " 'nevertheless',\n",
       " 'next',\n",
       " 'nine',\n",
       " 'no',\n",
       " 'nobody',\n",
       " 'none',\n",
       " 'noone',\n",
       " 'nor',\n",
       " 'not',\n",
       " 'nothing',\n",
       " 'now',\n",
       " 'nowhere',\n",
       " 'n‘t',\n",
       " 'n’t',\n",
       " 'of',\n",
       " 'off',\n",
       " 'often',\n",
       " 'on',\n",
       " 'once',\n",
       " 'one',\n",
       " 'only',\n",
       " 'onto',\n",
       " 'or',\n",
       " 'other',\n",
       " 'others',\n",
       " 'otherwise',\n",
       " 'our',\n",
       " 'ours',\n",
       " 'ourselves',\n",
       " 'out',\n",
       " 'over',\n",
       " 'own',\n",
       " 'part',\n",
       " 'per',\n",
       " 'perhaps',\n",
       " 'please',\n",
       " 'put',\n",
       " 'quite',\n",
       " 'rather',\n",
       " 're',\n",
       " 'really',\n",
       " 'regarding',\n",
       " 'same',\n",
       " 'say',\n",
       " 'see',\n",
       " 'seem',\n",
       " 'seemed',\n",
       " 'seeming',\n",
       " 'seems',\n",
       " 'serious',\n",
       " 'several',\n",
       " 'she',\n",
       " 'should',\n",
       " 'show',\n",
       " 'side',\n",
       " 'since',\n",
       " 'six',\n",
       " 'sixty',\n",
       " 'so',\n",
       " 'some',\n",
       " 'somehow',\n",
       " 'someone',\n",
       " 'something',\n",
       " 'sometime',\n",
       " 'sometimes',\n",
       " 'somewhere',\n",
       " 'still',\n",
       " 'such',\n",
       " 'take',\n",
       " 'ten',\n",
       " 'than',\n",
       " 'that',\n",
       " 'the',\n",
       " 'their',\n",
       " 'them',\n",
       " 'themselves',\n",
       " 'then',\n",
       " 'thence',\n",
       " 'there',\n",
       " 'thereafter',\n",
       " 'thereby',\n",
       " 'therefore',\n",
       " 'therein',\n",
       " 'thereupon',\n",
       " 'these',\n",
       " 'they',\n",
       " 'third',\n",
       " 'this',\n",
       " 'those',\n",
       " 'though',\n",
       " 'three',\n",
       " 'through',\n",
       " 'throughout',\n",
       " 'thru',\n",
       " 'thus',\n",
       " 'to',\n",
       " 'together',\n",
       " 'too',\n",
       " 'top',\n",
       " 'toward',\n",
       " 'towards',\n",
       " 'twelve',\n",
       " 'twenty',\n",
       " 'two',\n",
       " 'under',\n",
       " 'unless',\n",
       " 'until',\n",
       " 'up',\n",
       " 'upon',\n",
       " 'us',\n",
       " 'used',\n",
       " 'using',\n",
       " 'various',\n",
       " 'very',\n",
       " 'via',\n",
       " 'was',\n",
       " 'we',\n",
       " 'well',\n",
       " 'were',\n",
       " 'what',\n",
       " 'whatever',\n",
       " 'when',\n",
       " 'whence',\n",
       " 'whenever',\n",
       " 'where',\n",
       " 'whereafter',\n",
       " 'whereas',\n",
       " 'whereby',\n",
       " 'wherein',\n",
       " 'whereupon',\n",
       " 'wherever',\n",
       " 'whether',\n",
       " 'which',\n",
       " 'while',\n",
       " 'whither',\n",
       " 'who',\n",
       " 'whoever',\n",
       " 'whole',\n",
       " 'whom',\n",
       " 'whose',\n",
       " 'why',\n",
       " 'will',\n",
       " 'with',\n",
       " 'within',\n",
       " 'without',\n",
       " 'would',\n",
       " 'yet',\n",
       " 'you',\n",
       " 'your',\n",
       " 'yours',\n",
       " 'yourself',\n",
       " 'yourselves',\n",
       " '‘d',\n",
       " '‘ll',\n",
       " '‘m',\n",
       " '‘re',\n",
       " '‘s',\n",
       " '‘ve',\n",
       " '’d',\n",
       " '’ll',\n",
       " '’m',\n",
       " '’re',\n",
       " '’s',\n",
       " '’ve'}"
      ]
     },
     "execution_count": 76,
     "metadata": {},
     "output_type": "execute_result"
    }
   ],
   "source": [
    "STOP_WORDS"
   ]
  },
  {
   "cell_type": "code",
   "execution_count": 77,
   "id": "ae98b156",
   "metadata": {
    "ExecuteTime": {
     "end_time": "2022-10-07T13:17:36.231602Z",
     "start_time": "2022-10-07T13:17:36.228946Z"
    }
   },
   "outputs": [],
   "source": [
    "x = 'this is stop words removal code, is a an the how that what'"
   ]
  },
  {
   "cell_type": "code",
   "execution_count": 78,
   "id": "9de9b318",
   "metadata": {
    "ExecuteTime": {
     "end_time": "2022-10-07T13:17:36.236679Z",
     "start_time": "2022-10-07T13:17:36.233209Z"
    }
   },
   "outputs": [
    {
     "data": {
      "text/plain": [
       "'stop words removal code,'"
      ]
     },
     "execution_count": 78,
     "metadata": {},
     "output_type": "execute_result"
    }
   ],
   "source": [
    "\" \".join([word for word in x.split() if word not in STOP_WORDS])"
   ]
  },
  {
   "cell_type": "code",
   "execution_count": 79,
   "id": "033b22c6",
   "metadata": {
    "ExecuteTime": {
     "end_time": "2022-10-07T13:17:39.156596Z",
     "start_time": "2022-10-07T13:17:36.238682Z"
    }
   },
   "outputs": [],
   "source": [
    "df['tweets'] = df['tweets'].apply(lambda x: \" \".join([word for word in x.split() if word not in STOP_WORDS]))"
   ]
  },
  {
   "cell_type": "code",
   "execution_count": 80,
   "id": "1e140d78",
   "metadata": {
    "ExecuteTime": {
     "end_time": "2022-10-07T13:17:39.174009Z",
     "start_time": "2022-10-07T13:17:39.158497Z"
    }
   },
   "outputs": [
    {
     "data": {
      "text/html": [
       "<div>\n",
       "<style scoped>\n",
       "    .dataframe tbody tr th:only-of-type {\n",
       "        vertical-align: middle;\n",
       "    }\n",
       "\n",
       "    .dataframe tbody tr th {\n",
       "        vertical-align: top;\n",
       "    }\n",
       "\n",
       "    .dataframe thead th {\n",
       "        text-align: right;\n",
       "    }\n",
       "</style>\n",
       "<table border=\"1\" class=\"dataframe\">\n",
       "  <thead>\n",
       "    <tr style=\"text-align: right;\">\n",
       "      <th></th>\n",
       "      <th>tweets</th>\n",
       "      <th>sentiment</th>\n",
       "      <th>word_counts</th>\n",
       "      <th>char_counts</th>\n",
       "      <th>avg_word_len</th>\n",
       "      <th>stop_word_len</th>\n",
       "      <th>#_counts</th>\n",
       "      <th>@_counts</th>\n",
       "      <th>numeric_counts</th>\n",
       "      <th>upper_counts</th>\n",
       "      <th>email</th>\n",
       "      <th>email_counts</th>\n",
       "      <th>url_flag</th>\n",
       "    </tr>\n",
       "  </thead>\n",
       "  <tbody>\n",
       "    <tr>\n",
       "      <th>0</th>\n",
       "      <td>switchfoot - awww thats bummer shoulda got david carr day d</td>\n",
       "      <td>0</td>\n",
       "      <td>19</td>\n",
       "      <td>115</td>\n",
       "      <td>5.052632</td>\n",
       "      <td>4</td>\n",
       "      <td>0</td>\n",
       "      <td>1</td>\n",
       "      <td>0</td>\n",
       "      <td>1</td>\n",
       "      <td>[]</td>\n",
       "      <td>0</td>\n",
       "      <td>1</td>\n",
       "    </tr>\n",
       "    <tr>\n",
       "      <th>1</th>\n",
       "      <td>upset cant update facebook texting cry result school today blah</td>\n",
       "      <td>0</td>\n",
       "      <td>21</td>\n",
       "      <td>111</td>\n",
       "      <td>4.285714</td>\n",
       "      <td>9</td>\n",
       "      <td>0</td>\n",
       "      <td>0</td>\n",
       "      <td>0</td>\n",
       "      <td>0</td>\n",
       "      <td>[]</td>\n",
       "      <td>0</td>\n",
       "      <td>0</td>\n",
       "    </tr>\n",
       "    <tr>\n",
       "      <th>2</th>\n",
       "      <td>kenichan dived times ball managed save 50 rest bounds</td>\n",
       "      <td>0</td>\n",
       "      <td>18</td>\n",
       "      <td>89</td>\n",
       "      <td>3.944444</td>\n",
       "      <td>7</td>\n",
       "      <td>0</td>\n",
       "      <td>1</td>\n",
       "      <td>0</td>\n",
       "      <td>1</td>\n",
       "      <td>[]</td>\n",
       "      <td>0</td>\n",
       "      <td>0</td>\n",
       "    </tr>\n",
       "    <tr>\n",
       "      <th>3</th>\n",
       "      <td>body feels itchy like fire</td>\n",
       "      <td>0</td>\n",
       "      <td>10</td>\n",
       "      <td>47</td>\n",
       "      <td>3.700000</td>\n",
       "      <td>5</td>\n",
       "      <td>0</td>\n",
       "      <td>0</td>\n",
       "      <td>0</td>\n",
       "      <td>0</td>\n",
       "      <td>[]</td>\n",
       "      <td>0</td>\n",
       "      <td>0</td>\n",
       "    </tr>\n",
       "    <tr>\n",
       "      <th>4</th>\n",
       "      <td>nationwideclass behaving im mad cant</td>\n",
       "      <td>0</td>\n",
       "      <td>21</td>\n",
       "      <td>111</td>\n",
       "      <td>4.285714</td>\n",
       "      <td>10</td>\n",
       "      <td>0</td>\n",
       "      <td>1</td>\n",
       "      <td>0</td>\n",
       "      <td>1</td>\n",
       "      <td>[]</td>\n",
       "      <td>0</td>\n",
       "      <td>0</td>\n",
       "    </tr>\n",
       "  </tbody>\n",
       "</table>\n",
       "</div>"
      ],
      "text/plain": [
       "                                                            tweets  sentiment  \\\n",
       "0      switchfoot - awww thats bummer shoulda got david carr day d          0   \n",
       "1  upset cant update facebook texting cry result school today blah          0   \n",
       "2            kenichan dived times ball managed save 50 rest bounds          0   \n",
       "3                                       body feels itchy like fire          0   \n",
       "4                             nationwideclass behaving im mad cant          0   \n",
       "\n",
       "   word_counts  char_counts  avg_word_len  stop_word_len  #_counts  @_counts  \\\n",
       "0           19          115      5.052632              4         0         1   \n",
       "1           21          111      4.285714              9         0         0   \n",
       "2           18           89      3.944444              7         0         1   \n",
       "3           10           47      3.700000              5         0         0   \n",
       "4           21          111      4.285714             10         0         1   \n",
       "\n",
       "   numeric_counts  upper_counts email  email_counts  url_flag  \n",
       "0               0             1    []             0         1  \n",
       "1               0             0    []             0         0  \n",
       "2               0             1    []             0         0  \n",
       "3               0             0    []             0         0  \n",
       "4               0             1    []             0         0  "
      ]
     },
     "execution_count": 80,
     "metadata": {},
     "output_type": "execute_result"
    }
   ],
   "source": [
    "df.head()"
   ]
  },
  {
   "cell_type": "markdown",
   "id": "557c21af",
   "metadata": {},
   "source": [
    "##### Conversion into base form of words (lemmatization)"
   ]
  },
  {
   "cell_type": "code",
   "execution_count": 81,
   "id": "92c4ff51",
   "metadata": {
    "ExecuteTime": {
     "end_time": "2022-10-07T13:17:39.228776Z",
     "start_time": "2022-10-07T13:17:39.188084Z"
    },
    "scrolled": true
   },
   "outputs": [],
   "source": [
    "#!python3 -m spacy download en_core_web_sm"
   ]
  },
  {
   "cell_type": "code",
   "execution_count": 82,
   "id": "b16bcbf4",
   "metadata": {
    "ExecuteTime": {
     "end_time": "2022-10-07T13:17:39.714512Z",
     "start_time": "2022-10-07T13:17:39.230122Z"
    }
   },
   "outputs": [],
   "source": [
    "nlp = spacy.load('en_core_web_sm')"
   ]
  },
  {
   "cell_type": "code",
   "execution_count": 83,
   "id": "b162c327",
   "metadata": {
    "ExecuteTime": {
     "end_time": "2022-10-07T13:17:39.717835Z",
     "start_time": "2022-10-07T13:17:39.715758Z"
    }
   },
   "outputs": [],
   "source": [
    "x = 'i you he she they is am are'\n",
    "y = 'kenichan dived times ball managed save 50 rest bounds'"
   ]
  },
  {
   "cell_type": "code",
   "execution_count": 84,
   "id": "8fa6b074",
   "metadata": {
    "ExecuteTime": {
     "end_time": "2022-10-07T13:17:39.727386Z",
     "start_time": "2022-10-07T13:17:39.719484Z"
    }
   },
   "outputs": [],
   "source": [
    "# dive = dived, time = times, manag = managed"
   ]
  },
  {
   "cell_type": "code",
   "execution_count": 85,
   "id": "20989897",
   "metadata": {
    "ExecuteTime": {
     "end_time": "2022-10-07T13:17:39.732149Z",
     "start_time": "2022-10-07T13:17:39.729162Z"
    }
   },
   "outputs": [],
   "source": [
    "def make_to_base_form(x):\n",
    "    x_list = []\n",
    "    doc = nlp(x)\n",
    "    \n",
    "    for token in doc:\n",
    "        lem = str(token.lemma_)\n",
    "        \n",
    "        if lem == '-PRON-' or lem == 'be':\n",
    "            lem = token.text\n",
    "        x_list.append(lem)\n",
    "    print(\" \".join(x_list))\n",
    "    "
   ]
  },
  {
   "cell_type": "code",
   "execution_count": 86,
   "id": "91680966",
   "metadata": {
    "ExecuteTime": {
     "end_time": "2022-10-07T13:17:39.741134Z",
     "start_time": "2022-10-07T13:17:39.733905Z"
    }
   },
   "outputs": [
    {
     "name": "stdout",
     "output_type": "stream",
     "text": [
      "I you he she they is am are\n"
     ]
    }
   ],
   "source": [
    "make_to_base_form(x)"
   ]
  },
  {
   "cell_type": "code",
   "execution_count": 87,
   "id": "5e14fd26",
   "metadata": {
    "ExecuteTime": {
     "end_time": "2022-10-07T13:17:39.750536Z",
     "start_time": "2022-10-07T13:17:39.742266Z"
    }
   },
   "outputs": [
    {
     "name": "stdout",
     "output_type": "stream",
     "text": [
      "kenichan dive times ball manage save 50 rest bound\n"
     ]
    }
   ],
   "source": [
    "make_to_base_form(y)"
   ]
  },
  {
   "cell_type": "code",
   "execution_count": null,
   "id": "00f30d10",
   "metadata": {},
   "outputs": [],
   "source": []
  },
  {
   "cell_type": "code",
   "execution_count": 88,
   "id": "a3b82c90",
   "metadata": {
    "ExecuteTime": {
     "end_time": "2022-10-07T13:17:39.753560Z",
     "start_time": "2022-10-07T13:17:39.751702Z"
    }
   },
   "outputs": [],
   "source": [
    "# use it to this data take long time.\n",
    "# do it here.........................\n",
    "\n",
    "\n",
    "\n",
    "# ........"
   ]
  },
  {
   "cell_type": "markdown",
   "id": "a7866cd4",
   "metadata": {},
   "source": [
    "##### Common Occurring words Removal"
   ]
  },
  {
   "cell_type": "code",
   "execution_count": 89,
   "id": "7a84082c",
   "metadata": {
    "ExecuteTime": {
     "end_time": "2022-10-07T13:17:39.758834Z",
     "start_time": "2022-10-07T13:17:39.755025Z"
    }
   },
   "outputs": [
    {
     "data": {
      "text/plain": [
       "0        switchfoot - awww thats bummer shoulda got david carr day d\n",
       "1    upset cant update facebook texting cry result school today blah\n",
       "2              kenichan dived times ball managed save 50 rest bounds\n",
       "3                                         body feels itchy like fire\n",
       "4                               nationwideclass behaving im mad cant\n",
       "Name: tweets, dtype: object"
      ]
     },
     "execution_count": 89,
     "metadata": {},
     "output_type": "execute_result"
    }
   ],
   "source": [
    "df.head()['tweets']"
   ]
  },
  {
   "cell_type": "code",
   "execution_count": 90,
   "id": "58c42466",
   "metadata": {
    "ExecuteTime": {
     "end_time": "2022-10-07T13:17:39.763044Z",
     "start_time": "2022-10-07T13:17:39.759914Z"
    }
   },
   "outputs": [
    {
     "data": {
      "text/plain": [
       "'switchfoot - awww thats bummer shoulda got david carr day d upset cant update facebook texting cry result school today blah kenichan dived times ball managed save 50 rest bounds body feels itchy like fire nationwideclass behaving im mad cant'"
      ]
     },
     "execution_count": 90,
     "metadata": {},
     "output_type": "execute_result"
    }
   ],
   "source": [
    "' '.join(df['tweets'].head())"
   ]
  },
  {
   "cell_type": "code",
   "execution_count": 91,
   "id": "bbf5f28c",
   "metadata": {
    "ExecuteTime": {
     "end_time": "2022-10-07T13:17:39.923326Z",
     "start_time": "2022-10-07T13:17:39.764193Z"
    }
   },
   "outputs": [],
   "source": [
    "text = ' '.join(df['tweets'])"
   ]
  },
  {
   "cell_type": "code",
   "execution_count": 92,
   "id": "4618c53f",
   "metadata": {
    "ExecuteTime": {
     "end_time": "2022-10-07T13:17:39.934301Z",
     "start_time": "2022-10-07T13:17:39.925290Z"
    }
   },
   "outputs": [
    {
     "data": {
      "text/plain": [
       "73159505"
      ]
     },
     "execution_count": 92,
     "metadata": {},
     "output_type": "execute_result"
    }
   ],
   "source": [
    "len(text)"
   ]
  },
  {
   "cell_type": "code",
   "execution_count": 93,
   "id": "5bf91f39",
   "metadata": {
    "ExecuteTime": {
     "end_time": "2022-10-07T13:17:39.938694Z",
     "start_time": "2022-10-07T13:17:39.935751Z"
    }
   },
   "outputs": [
    {
     "data": {
      "text/plain": [
       "'switchfoot - awww thats bummer shoulda got david c'"
      ]
     },
     "execution_count": 93,
     "metadata": {},
     "output_type": "execute_result"
    }
   ],
   "source": [
    "text[:50]"
   ]
  },
  {
   "cell_type": "code",
   "execution_count": 94,
   "id": "ef5bb086",
   "metadata": {
    "ExecuteTime": {
     "end_time": "2022-10-07T13:17:40.459619Z",
     "start_time": "2022-10-07T13:17:39.939900Z"
    }
   },
   "outputs": [],
   "source": [
    "text = text.split()"
   ]
  },
  {
   "cell_type": "code",
   "execution_count": 95,
   "id": "f7b81485",
   "metadata": {
    "ExecuteTime": {
     "end_time": "2022-10-07T13:17:40.576518Z",
     "start_time": "2022-10-07T13:17:40.460645Z"
    }
   },
   "outputs": [
    {
     "data": {
      "text/plain": [
       "11303041"
      ]
     },
     "execution_count": 95,
     "metadata": {},
     "output_type": "execute_result"
    }
   ],
   "source": [
    "len(text)"
   ]
  },
  {
   "cell_type": "code",
   "execution_count": 96,
   "id": "51553f6a",
   "metadata": {
    "ExecuteTime": {
     "end_time": "2022-10-07T13:17:40.589792Z",
     "start_time": "2022-10-07T13:17:40.577753Z"
    }
   },
   "outputs": [
    {
     "data": {
      "text/plain": [
       "['switchfoot', '-', 'awww', 'thats', 'bummer']"
      ]
     },
     "execution_count": 96,
     "metadata": {},
     "output_type": "execute_result"
    }
   ],
   "source": [
    "text[:5]"
   ]
  },
  {
   "cell_type": "code",
   "execution_count": null,
   "id": "7acfd2c4",
   "metadata": {},
   "outputs": [],
   "source": []
  },
  {
   "cell_type": "code",
   "execution_count": 97,
   "id": "61882c6b",
   "metadata": {
    "ExecuteTime": {
     "end_time": "2022-10-07T13:17:42.815631Z",
     "start_time": "2022-10-07T13:17:40.590907Z"
    }
   },
   "outputs": [],
   "source": [
    "frequent_word = pd.Series(text).value_counts()"
   ]
  },
  {
   "cell_type": "code",
   "execution_count": 98,
   "id": "c3d35d1c",
   "metadata": {
    "ExecuteTime": {
     "end_time": "2022-10-07T13:17:42.864869Z",
     "start_time": "2022-10-07T13:17:42.817502Z"
    }
   },
   "outputs": [],
   "source": [
    "f20 = frequent_word[:20]"
   ]
  },
  {
   "cell_type": "code",
   "execution_count": 99,
   "id": "3f7001c9",
   "metadata": {
    "ExecuteTime": {
     "end_time": "2022-10-07T13:17:42.877278Z",
     "start_time": "2022-10-07T13:17:42.867643Z"
    }
   },
   "outputs": [
    {
     "data": {
      "text/plain": [
       "im       178268\n",
       "good      89366\n",
       "day       82297\n",
       "like      77735\n",
       "-         69656\n",
       "dont      67278\n",
       "today     64512\n",
       "going     64077\n",
       "love      63417\n",
       "cant      62868\n",
       "work      62804\n",
       "got       60748\n",
       "time      56080\n",
       "lol       55094\n",
       "u         52834\n",
       "know      51171\n",
       "want      42070\n",
       "new       41995\n",
       "think     41039\n",
       "night     41029\n",
       "dtype: int64"
      ]
     },
     "execution_count": 99,
     "metadata": {},
     "output_type": "execute_result"
    }
   ],
   "source": [
    "f20"
   ]
  },
  {
   "cell_type": "code",
   "execution_count": 100,
   "id": "2ec3551d",
   "metadata": {
    "ExecuteTime": {
     "end_time": "2022-10-07T13:17:50.377656Z",
     "start_time": "2022-10-07T13:17:42.879355Z"
    }
   },
   "outputs": [],
   "source": [
    "df['tweets'] = df['tweets'].apply(lambda x: \" \".join([word for word in x.split() if word not in f20]))"
   ]
  },
  {
   "cell_type": "code",
   "execution_count": 101,
   "id": "6a91ccc6",
   "metadata": {
    "ExecuteTime": {
     "end_time": "2022-10-07T13:17:53.250772Z",
     "start_time": "2022-10-07T13:17:50.379571Z"
    }
   },
   "outputs": [
    {
     "data": {
      "text/plain": [
       "amp         40614\n",
       "thanks      39310\n",
       "home        39168\n",
       "oh          37971\n",
       "2           37945\n",
       "miss        36099\n",
       "need        35524\n",
       "morning     33117\n",
       "hope        33053\n",
       "great       32805\n",
       "tomorrow    32664\n",
       "ill         31777\n",
       "twitter     31224\n",
       "thats       30595\n",
       "haha        30263\n",
       "feel        30010\n",
       "sad         28562\n",
       "fun         27902\n",
       "wish        27631\n",
       "right       27288\n",
       "dtype: int64"
      ]
     },
     "execution_count": 101,
     "metadata": {},
     "output_type": "execute_result"
    }
   ],
   "source": [
    "check = ' '.join(df['tweets'])\n",
    "check = check.split()\n",
    "frequent_word = pd.Series(check).value_counts()\n",
    "f20 = frequent_word[:20]\n",
    "f20"
   ]
  },
  {
   "cell_type": "code",
   "execution_count": null,
   "id": "6b7e1757",
   "metadata": {},
   "outputs": [],
   "source": []
  },
  {
   "cell_type": "markdown",
   "id": "27c21ec1",
   "metadata": {},
   "source": [
    "##### Rare Occurring words Removal"
   ]
  },
  {
   "cell_type": "code",
   "execution_count": 102,
   "id": "572b8fd7",
   "metadata": {
    "ExecuteTime": {
     "end_time": "2022-10-07T13:17:53.257200Z",
     "start_time": "2022-10-07T13:17:53.253152Z"
    }
   },
   "outputs": [],
   "source": [
    "rare20 = frequent_word[-20:]"
   ]
  },
  {
   "cell_type": "code",
   "execution_count": 103,
   "id": "c7ecddd3",
   "metadata": {
    "ExecuteTime": {
     "end_time": "2022-10-07T13:17:53.269782Z",
     "start_time": "2022-10-07T13:17:53.259457Z"
    }
   },
   "outputs": [
    {
     "data": {
      "text/plain": [
       "godisinthetv             1\n",
       "ihwright                 1\n",
       "zombiecaptnhook          1\n",
       "anti-rheumatic           1\n",
       "quotinfo-mercialsquot    1\n",
       "movistar                 1\n",
       "mizzdmain                1\n",
       "kittu                    1\n",
       "cryyyyyyyyyyyyy          1\n",
       "newrepoer                1\n",
       "daygta                   1\n",
       "colesaw                  1\n",
       "alexjus                  1\n",
       "glothes                  1\n",
       "lilyorso                 1\n",
       "jamiewiborg              1\n",
       "thebeckie                1\n",
       "tendealons               1\n",
       "materialslinks           1\n",
       "speakinguph4h            1\n",
       "dtype: int64"
      ]
     },
     "execution_count": 103,
     "metadata": {},
     "output_type": "execute_result"
    }
   ],
   "source": [
    "rare20"
   ]
  },
  {
   "cell_type": "code",
   "execution_count": 104,
   "id": "e62070ad",
   "metadata": {
    "ExecuteTime": {
     "end_time": "2022-10-07T13:17:53.454359Z",
     "start_time": "2022-10-07T13:17:53.272537Z"
    }
   },
   "outputs": [
    {
     "data": {
      "text/plain": [
       "ampabout          3\n",
       "jemmamb           3\n",
       "pred              3\n",
       "websdotcom        3\n",
       "cathysayss        3\n",
       "                 ..\n",
       "jamiewiborg       1\n",
       "thebeckie         1\n",
       "tendealons        1\n",
       "materialslinks    1\n",
       "speakinguph4h     1\n",
       "Length: 682076, dtype: int64"
      ]
     },
     "execution_count": 104,
     "metadata": {},
     "output_type": "execute_result"
    }
   ],
   "source": [
    "# find word in specific frequency count like all word occuring just 1 time or lass then 5 times.\n",
    "rare = frequent_word[frequent_word.values <= 3]\n",
    "rare"
   ]
  },
  {
   "cell_type": "code",
   "execution_count": 105,
   "id": "66d644da",
   "metadata": {
    "ExecuteTime": {
     "end_time": "2022-10-07T13:18:01.638239Z",
     "start_time": "2022-10-07T13:17:53.456646Z"
    }
   },
   "outputs": [],
   "source": [
    "df['tweets'] = df['tweets'].apply(lambda x: ' '.join([word for word in x.split() if word not in rare]))"
   ]
  },
  {
   "cell_type": "code",
   "execution_count": 106,
   "id": "328187ac",
   "metadata": {
    "ExecuteTime": {
     "end_time": "2022-10-07T13:18:02.235285Z",
     "start_time": "2022-10-07T13:18:01.639914Z"
    }
   },
   "outputs": [
    {
     "data": {
      "text/plain": [
       "9112937"
      ]
     },
     "execution_count": 106,
     "metadata": {},
     "output_type": "execute_result"
    }
   ],
   "source": [
    "text = \" \".join(df['tweets'])\n",
    "text = text.split()\n",
    "len(text)"
   ]
  },
  {
   "cell_type": "markdown",
   "id": "f36b7521",
   "metadata": {},
   "source": [
    "##### Word Cloud Visulization"
   ]
  },
  {
   "cell_type": "code",
   "execution_count": 107,
   "id": "e9e73bf6",
   "metadata": {
    "ExecuteTime": {
     "end_time": "2022-10-07T13:18:04.113218Z",
     "start_time": "2022-10-07T13:18:02.237024Z"
    },
    "scrolled": true
   },
   "outputs": [
    {
     "name": "stdout",
     "output_type": "stream",
     "text": [
      "Requirement already satisfied: wordcloud in /home/arafat/anaconda3/lib/python3.9/site-packages (1.8.2.2)\n",
      "Requirement already satisfied: numpy>=1.6.1 in /home/arafat/anaconda3/lib/python3.9/site-packages (from wordcloud) (1.19.5)\n",
      "Requirement already satisfied: pillow in /home/arafat/anaconda3/lib/python3.9/site-packages (from wordcloud) (9.0.1)\n",
      "Requirement already satisfied: matplotlib in /home/arafat/anaconda3/lib/python3.9/site-packages (from wordcloud) (3.5.1)\n",
      "Requirement already satisfied: packaging>=20.0 in /home/arafat/anaconda3/lib/python3.9/site-packages (from matplotlib->wordcloud) (21.3)\n",
      "Requirement already satisfied: cycler>=0.10 in /home/arafat/anaconda3/lib/python3.9/site-packages (from matplotlib->wordcloud) (0.11.0)\n",
      "Requirement already satisfied: pyparsing>=2.2.1 in /home/arafat/anaconda3/lib/python3.9/site-packages (from matplotlib->wordcloud) (3.0.4)\n",
      "Requirement already satisfied: python-dateutil>=2.7 in /home/arafat/anaconda3/lib/python3.9/site-packages (from matplotlib->wordcloud) (2.8.2)\n",
      "Requirement already satisfied: kiwisolver>=1.0.1 in /home/arafat/anaconda3/lib/python3.9/site-packages (from matplotlib->wordcloud) (1.3.2)\n",
      "Requirement already satisfied: fonttools>=4.22.0 in /home/arafat/anaconda3/lib/python3.9/site-packages (from matplotlib->wordcloud) (4.25.0)\n",
      "Requirement already satisfied: six>=1.5 in /home/arafat/anaconda3/lib/python3.9/site-packages (from python-dateutil>=2.7->matplotlib->wordcloud) (1.15.0)\n"
     ]
    }
   ],
   "source": [
    "!pip install wordcloud"
   ]
  },
  {
   "cell_type": "code",
   "execution_count": 108,
   "id": "246e98d6",
   "metadata": {
    "ExecuteTime": {
     "end_time": "2022-10-07T13:18:04.921778Z",
     "start_time": "2022-10-07T13:18:04.117811Z"
    }
   },
   "outputs": [],
   "source": [
    "from wordcloud import WordCloud\n",
    "import matplotlib.pyplot as plt\n",
    "%matplotlib inline"
   ]
  },
  {
   "cell_type": "code",
   "execution_count": 109,
   "id": "e73fca96",
   "metadata": {
    "ExecuteTime": {
     "end_time": "2022-10-07T13:18:04.930094Z",
     "start_time": "2022-10-07T13:18:04.922805Z"
    }
   },
   "outputs": [
    {
     "data": {
      "text/plain": [
       "list"
      ]
     },
     "execution_count": 109,
     "metadata": {},
     "output_type": "execute_result"
    }
   ],
   "source": [
    "type(text)"
   ]
  },
  {
   "cell_type": "code",
   "execution_count": 110,
   "id": "70cb63de",
   "metadata": {
    "ExecuteTime": {
     "end_time": "2022-10-07T13:18:04.935884Z",
     "start_time": "2022-10-07T13:18:04.931908Z"
    }
   },
   "outputs": [],
   "source": [
    "x = ' '.join(text[:20000])"
   ]
  },
  {
   "cell_type": "code",
   "execution_count": 111,
   "id": "20d1b25c",
   "metadata": {
    "ExecuteTime": {
     "end_time": "2022-10-07T13:18:04.941284Z",
     "start_time": "2022-10-07T13:18:04.937649Z"
    }
   },
   "outputs": [
    {
     "data": {
      "text/plain": [
       "'switchfoot awww thats bummer shoulda david carr d '"
      ]
     },
     "execution_count": 111,
     "metadata": {},
     "output_type": "execute_result"
    }
   ],
   "source": [
    "x[:50]"
   ]
  },
  {
   "cell_type": "code",
   "execution_count": 112,
   "id": "ace5f974",
   "metadata": {
    "ExecuteTime": {
     "end_time": "2022-10-07T13:18:06.573200Z",
     "start_time": "2022-10-07T13:18:04.943859Z"
    }
   },
   "outputs": [
    {
     "data": {
      "image/png": "[encoded data removed]",
      "text/plain": [
       "<Figure size 432x288 with 1 Axes>"
      ]
     },
     "metadata": {
      "needs_background": "light"
     },
     "output_type": "display_data"
    }
   ],
   "source": [
    "# shift + tab to show parameter option\n",
    "\n",
    "wc = WordCloud(width=1400,height=600,).generate(x)\n",
    "plt.imshow(wc)\n",
    "plt.axis('off')\n",
    "plt.show()"
   ]
  },
  {
   "cell_type": "markdown",
   "id": "7702ed4b",
   "metadata": {},
   "source": [
    "##### Spelling Correction"
   ]
  },
  {
   "cell_type": "code",
   "execution_count": 113,
   "id": "3268f33c",
   "metadata": {
    "ExecuteTime": {
     "end_time": "2022-10-07T13:18:06.577065Z",
     "start_time": "2022-10-07T13:18:06.574786Z"
    }
   },
   "outputs": [],
   "source": [
    "# !pip install -U textblob\n",
    "# !python -m textblob.rpora 1.37"
   ]
  },
  {
   "cell_type": "code",
   "execution_count": 114,
   "id": "957a6d5a",
   "metadata": {
    "ExecuteTime": {
     "end_time": "2022-10-07T13:18:06.926118Z",
     "start_time": "2022-10-07T13:18:06.578431Z"
    }
   },
   "outputs": [],
   "source": [
    "from textblob import TextBlob"
   ]
  },
  {
   "cell_type": "code",
   "execution_count": 115,
   "id": "b6a01268",
   "metadata": {
    "ExecuteTime": {
     "end_time": "2022-10-07T13:18:06.929502Z",
     "start_time": "2022-10-07T13:18:06.927342Z"
    }
   },
   "outputs": [],
   "source": [
    "x = 'tanks forr waching tihs vidio carr'"
   ]
  },
  {
   "cell_type": "code",
   "execution_count": 116,
   "id": "bd268830",
   "metadata": {
    "ExecuteTime": {
     "end_time": "2022-10-07T13:18:06.969061Z",
     "start_time": "2022-10-07T13:18:06.930842Z"
    }
   },
   "outputs": [
    {
     "data": {
      "text/plain": [
       "TextBlob(\"tanks for watching this video care\")"
      ]
     },
     "execution_count": 116,
     "metadata": {},
     "output_type": "execute_result"
    }
   ],
   "source": [
    "x = TextBlob(x).correct()\n",
    "x"
   ]
  },
  {
   "cell_type": "markdown",
   "id": "bdf35bca",
   "metadata": {},
   "source": [
    "##### Tokenization using Text blob"
   ]
  },
  {
   "cell_type": "code",
   "execution_count": 117,
   "id": "39a987ea",
   "metadata": {
    "ExecuteTime": {
     "end_time": "2022-10-07T13:18:06.972663Z",
     "start_time": "2022-10-07T13:18:06.970324Z"
    }
   },
   "outputs": [],
   "source": [
    "x = 'thanks#watching this video. please like it'"
   ]
  },
  {
   "cell_type": "code",
   "execution_count": 118,
   "id": "014960ad",
   "metadata": {
    "ExecuteTime": {
     "end_time": "2022-10-07T13:18:06.983708Z",
     "start_time": "2022-10-07T13:18:06.974170Z"
    }
   },
   "outputs": [
    {
     "data": {
      "text/plain": [
       "WordList(['thanks', 'watching', 'this', 'video', 'please', 'like', 'it'])"
      ]
     },
     "execution_count": 118,
     "metadata": {},
     "output_type": "execute_result"
    }
   ],
   "source": [
    "TextBlob(x).words"
   ]
  },
  {
   "cell_type": "markdown",
   "id": "24359435",
   "metadata": {},
   "source": [
    "##### Tokenization using Spacy"
   ]
  },
  {
   "cell_type": "code",
   "execution_count": 119,
   "id": "b556f7c2",
   "metadata": {
    "ExecuteTime": {
     "end_time": "2022-10-07T13:18:06.995545Z",
     "start_time": "2022-10-07T13:18:06.985063Z"
    }
   },
   "outputs": [
    {
     "name": "stdout",
     "output_type": "stream",
     "text": [
      "thanks#watching\n",
      "this\n",
      "video\n",
      ".\n",
      "please\n",
      "like\n",
      "it\n"
     ]
    }
   ],
   "source": [
    "doc = nlp(x)\n",
    "for token in doc:\n",
    "    print(token)"
   ]
  },
  {
   "cell_type": "markdown",
   "id": "3622829a",
   "metadata": {},
   "source": [
    "##### Lemmatization using text blob"
   ]
  },
  {
   "cell_type": "code",
   "execution_count": 120,
   "id": "b87ed3bc",
   "metadata": {
    "ExecuteTime": {
     "end_time": "2022-10-07T13:18:07.000585Z",
     "start_time": "2022-10-07T13:18:06.997430Z"
    }
   },
   "outputs": [],
   "source": [
    "x = 'runs run running ran'"
   ]
  },
  {
   "cell_type": "code",
   "execution_count": 121,
   "id": "38a68b68",
   "metadata": {
    "ExecuteTime": {
     "end_time": "2022-10-07T13:18:07.005436Z",
     "start_time": "2022-10-07T13:18:07.002441Z"
    }
   },
   "outputs": [],
   "source": [
    "from textblob import Word"
   ]
  },
  {
   "cell_type": "code",
   "execution_count": 122,
   "id": "3f931b20",
   "metadata": {
    "ExecuteTime": {
     "end_time": "2022-10-07T13:18:08.141008Z",
     "start_time": "2022-10-07T13:18:07.007203Z"
    }
   },
   "outputs": [
    {
     "name": "stdout",
     "output_type": "stream",
     "text": [
      "run\n",
      "run\n",
      "running\n",
      "ran\n"
     ]
    }
   ],
   "source": [
    "for token in x.split():\n",
    "    print(Word(token).lemmatize())"
   ]
  },
  {
   "cell_type": "markdown",
   "id": "75432371",
   "metadata": {},
   "source": [
    "##### Lemmatization using Spacy\n"
   ]
  },
  {
   "cell_type": "code",
   "execution_count": 123,
   "id": "5f4fb15e",
   "metadata": {
    "ExecuteTime": {
     "end_time": "2022-10-07T13:18:08.153105Z",
     "start_time": "2022-10-07T13:18:08.142306Z"
    }
   },
   "outputs": [
    {
     "name": "stdout",
     "output_type": "stream",
     "text": [
      "run\n",
      "run\n",
      "run\n",
      "run\n"
     ]
    }
   ],
   "source": [
    "doc = nlp(x)\n",
    "for token in doc:\n",
    "    print(token.lemma_)"
   ]
  },
  {
   "cell_type": "markdown",
   "id": "28a2a0d4",
   "metadata": {},
   "source": [
    "##### Detecting Entities using NER of Spacy"
   ]
  },
  {
   "cell_type": "code",
   "execution_count": 124,
   "id": "90503967",
   "metadata": {
    "ExecuteTime": {
     "end_time": "2022-10-07T13:18:08.158089Z",
     "start_time": "2022-10-07T13:18:08.155148Z"
    }
   },
   "outputs": [],
   "source": [
    "x = 'Breaking News: Donald Trump, the president of the USA is looking to sign a deal to mine the moon'"
   ]
  },
  {
   "cell_type": "code",
   "execution_count": 125,
   "id": "b677511e",
   "metadata": {
    "ExecuteTime": {
     "end_time": "2022-10-07T13:18:08.176929Z",
     "start_time": "2022-10-07T13:18:08.160436Z"
    }
   },
   "outputs": [
    {
     "name": "stdout",
     "output_type": "stream",
     "text": [
      "Breaking - en - None\n",
      "News - en - None\n",
      ": - en - None\n",
      "Donald - en - None\n",
      "Trump - en - None\n",
      ", - en - None\n",
      "the - en - None\n",
      "president - en - None\n",
      "of - en - None\n",
      "the - en - None\n",
      "USA - en - None\n",
      "is - en - None\n",
      "looking - en - None\n",
      "to - en - None\n",
      "sign - en - None\n",
      "a - en - None\n",
      "deal - en - None\n",
      "to - en - None\n",
      "mine - en - None\n",
      "the - en - None\n",
      "moon - en - None\n"
     ]
    },
    {
     "name": "stderr",
     "output_type": "stream",
     "text": [
      "/home/arafat/anaconda3/lib/python3.9/site-packages/spacy/glossary.py:19: UserWarning: [W118] Term 'en' not found in glossary. It may however be explained in documentation for the corpora used to train the language. Please check `nlp.meta[\"sources\"]` for any relevant links.\n",
      "  warnings.warn(Warnings.W118.format(term=term))\n"
     ]
    }
   ],
   "source": [
    "doc = nlp(x)\n",
    "for ent in doc:\n",
    "    print(ent.text+' - '+ent.lang_+' - '+str(spacy.explain(ent.lang_)))"
   ]
  },
  {
   "cell_type": "code",
   "execution_count": 126,
   "id": "6130997f",
   "metadata": {
    "ExecuteTime": {
     "end_time": "2022-10-07T13:18:08.183001Z",
     "start_time": "2022-10-07T13:18:08.179504Z"
    }
   },
   "outputs": [],
   "source": [
    "from spacy import displacy"
   ]
  },
  {
   "cell_type": "code",
   "execution_count": 127,
   "id": "39b40a2d",
   "metadata": {
    "ExecuteTime": {
     "end_time": "2022-10-07T13:18:08.189937Z",
     "start_time": "2022-10-07T13:18:08.185316Z"
    }
   },
   "outputs": [
    {
     "data": {
      "text/html": [
       "<span class=\"tex2jax_ignore\"><div class=\"entities\" style=\"line-height: 2.5; direction: ltr\">Breaking News: \n",
       "<mark class=\"entity\" style=\"background: #aa9cfc; padding: 0.45em 0.6em; margin: 0 0.25em; line-height: 1; border-radius: 0.35em;\">\n",
       "    Donald Trump\n",
       "    <span style=\"font-size: 0.8em; font-weight: bold; line-height: 1; border-radius: 0.35em; vertical-align: middle; margin-left: 0.5rem\">PERSON</span>\n",
       "</mark>\n",
       ", the president of the \n",
       "<mark class=\"entity\" style=\"background: #feca74; padding: 0.45em 0.6em; margin: 0 0.25em; line-height: 1; border-radius: 0.35em;\">\n",
       "    USA\n",
       "    <span style=\"font-size: 0.8em; font-weight: bold; line-height: 1; border-radius: 0.35em; vertical-align: middle; margin-left: 0.5rem\">GPE</span>\n",
       "</mark>\n",
       " is looking to sign a deal to mine the moon</div></span>"
      ],
      "text/plain": [
       "<IPython.core.display.HTML object>"
      ]
     },
     "metadata": {},
     "output_type": "display_data"
    }
   ],
   "source": [
    "displacy.render(doc, style='ent')"
   ]
  },
  {
   "cell_type": "markdown",
   "id": "4894b857",
   "metadata": {},
   "source": [
    "##### Noun Detection"
   ]
  },
  {
   "cell_type": "code",
   "execution_count": 128,
   "id": "a5a731d5",
   "metadata": {
    "ExecuteTime": {
     "end_time": "2022-10-07T13:18:08.194869Z",
     "start_time": "2022-10-07T13:18:08.191577Z"
    }
   },
   "outputs": [
    {
     "data": {
      "text/plain": [
       "'Breaking News: Donald Trump, the president of the USA is looking to sign a deal to mine the moon'"
      ]
     },
     "execution_count": 128,
     "metadata": {},
     "output_type": "execute_result"
    }
   ],
   "source": [
    "x"
   ]
  },
  {
   "cell_type": "code",
   "execution_count": 129,
   "id": "ec8a873a",
   "metadata": {
    "ExecuteTime": {
     "end_time": "2022-10-07T13:18:08.199270Z",
     "start_time": "2022-10-07T13:18:08.196152Z"
    }
   },
   "outputs": [
    {
     "name": "stdout",
     "output_type": "stream",
     "text": [
      "News\n",
      "Donald Trump\n",
      "the president\n",
      "the USA\n",
      "a deal\n",
      "the moon\n"
     ]
    }
   ],
   "source": [
    "for noun in doc.noun_chunks:\n",
    "    print(noun)"
   ]
  },
  {
   "cell_type": "markdown",
   "id": "2f245b7b",
   "metadata": {},
   "source": [
    "##### Sentence Translation and language detection"
   ]
  },
  {
   "cell_type": "code",
   "execution_count": 130,
   "id": "602b3907",
   "metadata": {
    "ExecuteTime": {
     "end_time": "2022-10-07T13:18:08.203699Z",
     "start_time": "2022-10-07T13:18:08.201140Z"
    }
   },
   "outputs": [],
   "source": [
    "tb = TextBlob(x)"
   ]
  },
  {
   "cell_type": "code",
   "execution_count": null,
   "id": "1b814630",
   "metadata": {},
   "outputs": [],
   "source": []
  },
  {
   "cell_type": "code",
   "execution_count": 131,
   "id": "75eabff3",
   "metadata": {
    "ExecuteTime": {
     "end_time": "2022-10-07T13:18:08.207319Z",
     "start_time": "2022-10-07T13:18:08.205399Z"
    }
   },
   "outputs": [],
   "source": [
    "# tb.translate(to='zh')\n",
    "# tb.translate(to='bn')"
   ]
  },
  {
   "cell_type": "markdown",
   "id": "e1e8fed4",
   "metadata": {},
   "source": [
    "##### Using inbuilt Sentiment Classifier"
   ]
  },
  {
   "cell_type": "code",
   "execution_count": 132,
   "id": "679c717a",
   "metadata": {
    "ExecuteTime": {
     "end_time": "2022-10-07T13:18:08.211053Z",
     "start_time": "2022-10-07T13:18:08.208953Z"
    }
   },
   "outputs": [],
   "source": [
    "import textblob\n",
    "from textblob.sentiments import NaiveBayesAnalyzer"
   ]
  },
  {
   "cell_type": "code",
   "execution_count": 133,
   "id": "74cb0a0c",
   "metadata": {
    "ExecuteTime": {
     "end_time": "2022-10-07T13:18:08.214642Z",
     "start_time": "2022-10-07T13:18:08.212504Z"
    }
   },
   "outputs": [],
   "source": [
    "x = 'we all stands together to fight with corona virus. we will win togather'"
   ]
  },
  {
   "cell_type": "code",
   "execution_count": 134,
   "id": "521ef487",
   "metadata": {
    "ExecuteTime": {
     "end_time": "2022-10-07T13:18:08.218363Z",
     "start_time": "2022-10-07T13:18:08.216186Z"
    }
   },
   "outputs": [],
   "source": [
    "tb = TextBlob(x, analyzer=NaiveBayesAnalyzer())"
   ]
  },
  {
   "cell_type": "code",
   "execution_count": 144,
   "id": "1fd0c9dc",
   "metadata": {
    "ExecuteTime": {
     "end_time": "2022-10-07T13:20:06.757505Z",
     "start_time": "2022-10-07T13:20:06.752477Z"
    }
   },
   "outputs": [],
   "source": [
    "# tb.sentiment"
   ]
  },
  {
   "cell_type": "code",
   "execution_count": null,
   "id": "f7ca0980",
   "metadata": {},
   "outputs": [],
   "source": []
  },
  {
   "cell_type": "code",
   "execution_count": null,
   "id": "ffecc03f",
   "metadata": {},
   "outputs": [],
   "source": []
  },
  {
   "cell_type": "markdown",
   "id": "d4191d7c",
   "metadata": {},
   "source": [
    "# Advanced Text Processing and Feature Extraction"
   ]
  },
  {
   "cell_type": "markdown",
   "id": "5169f059",
   "metadata": {},
   "source": [
    "##### N-Gram, Bi-Gram etc"
   ]
  },
  {
   "cell_type": "code",
   "execution_count": 150,
   "id": "db1383b7",
   "metadata": {
    "ExecuteTime": {
     "end_time": "2022-10-07T13:22:35.370382Z",
     "start_time": "2022-10-07T13:22:35.365130Z"
    }
   },
   "outputs": [],
   "source": [
    "x = 'thanks for watching'"
   ]
  },
  {
   "cell_type": "code",
   "execution_count": 152,
   "id": "63270865",
   "metadata": {
    "ExecuteTime": {
     "end_time": "2022-10-07T13:22:43.905836Z",
     "start_time": "2022-10-07T13:22:43.899316Z"
    }
   },
   "outputs": [],
   "source": [
    "tb = TextBlob(x)"
   ]
  },
  {
   "cell_type": "code",
   "execution_count": 153,
   "id": "92f47dd9",
   "metadata": {
    "ExecuteTime": {
     "end_time": "2022-10-07T13:22:48.441360Z",
     "start_time": "2022-10-07T13:22:48.436871Z"
    }
   },
   "outputs": [
    {
     "data": {
      "text/plain": [
       "[WordList(['thanks']), WordList(['for']), WordList(['watching'])]"
      ]
     },
     "execution_count": 153,
     "metadata": {},
     "output_type": "execute_result"
    }
   ],
   "source": [
    "# uni-gram\n",
    "tb.ngrams(1)"
   ]
  },
  {
   "cell_type": "code",
   "execution_count": 154,
   "id": "9affa865",
   "metadata": {
    "ExecuteTime": {
     "end_time": "2022-10-07T13:22:52.857975Z",
     "start_time": "2022-10-07T13:22:52.854431Z"
    }
   },
   "outputs": [
    {
     "data": {
      "text/plain": [
       "[WordList(['thanks', 'for']), WordList(['for', 'watching'])]"
      ]
     },
     "execution_count": 154,
     "metadata": {},
     "output_type": "execute_result"
    }
   ],
   "source": [
    "# bi-gram\n",
    "tb.ngrams(2)"
   ]
  },
  {
   "cell_type": "code",
   "execution_count": 156,
   "id": "e3d54fb6",
   "metadata": {
    "ExecuteTime": {
     "end_time": "2022-10-07T13:23:02.815530Z",
     "start_time": "2022-10-07T13:23:02.812127Z"
    }
   },
   "outputs": [
    {
     "data": {
      "text/plain": [
       "[WordList(['thanks', 'for', 'watching'])]"
      ]
     },
     "execution_count": 156,
     "metadata": {},
     "output_type": "execute_result"
    }
   ],
   "source": [
    "# tri-gram\n",
    "tb.ngrams(3)"
   ]
  },
  {
   "cell_type": "markdown",
   "id": "2a568126",
   "metadata": {},
   "source": [
    "##### Bag of Words (BoW)"
   ]
  },
  {
   "cell_type": "code",
   "execution_count": 157,
   "id": "daf2863a",
   "metadata": {
    "ExecuteTime": {
     "end_time": "2022-10-07T13:23:55.957232Z",
     "start_time": "2022-10-07T13:23:55.952676Z"
    }
   },
   "outputs": [],
   "source": [
    "x = ['this is first sentense', 'this is second', 'this is third']"
   ]
  },
  {
   "cell_type": "code",
   "execution_count": 158,
   "id": "03d0b55e",
   "metadata": {
    "ExecuteTime": {
     "end_time": "2022-10-07T13:24:40.959471Z",
     "start_time": "2022-10-07T13:24:40.956433Z"
    }
   },
   "outputs": [],
   "source": [
    "from sklearn.feature_extraction.text import CountVectorizer"
   ]
  },
  {
   "cell_type": "code",
   "execution_count": 159,
   "id": "46f02924",
   "metadata": {
    "ExecuteTime": {
     "end_time": "2022-10-07T13:25:26.692293Z",
     "start_time": "2022-10-07T13:25:26.634843Z"
    }
   },
   "outputs": [],
   "source": [
    "cv = CountVectorizer(ngram_range=(1,1))\n",
    "text_counts = cv.fit_transform(x)"
   ]
  },
  {
   "cell_type": "code",
   "execution_count": 160,
   "id": "1f325467",
   "metadata": {
    "ExecuteTime": {
     "end_time": "2022-10-07T13:25:33.375008Z",
     "start_time": "2022-10-07T13:25:33.369232Z"
    }
   },
   "outputs": [
    {
     "data": {
      "text/plain": [
       "<3x6 sparse matrix of type '<class 'numpy.int64'>'\n",
       "\twith 10 stored elements in Compressed Sparse Row format>"
      ]
     },
     "execution_count": 160,
     "metadata": {},
     "output_type": "execute_result"
    }
   ],
   "source": [
    "text_counts"
   ]
  },
  {
   "cell_type": "code",
   "execution_count": 161,
   "id": "8813e881",
   "metadata": {
    "ExecuteTime": {
     "end_time": "2022-10-07T13:26:09.412566Z",
     "start_time": "2022-10-07T13:26:09.404643Z"
    }
   },
   "outputs": [
    {
     "data": {
      "text/plain": [
       "array([[1, 1, 0, 1, 0, 1],\n",
       "       [0, 1, 1, 0, 0, 1],\n",
       "       [0, 1, 0, 0, 1, 1]])"
      ]
     },
     "execution_count": 161,
     "metadata": {},
     "output_type": "execute_result"
    }
   ],
   "source": [
    "text_counts.toarray()"
   ]
  },
  {
   "cell_type": "code",
   "execution_count": 164,
   "id": "954e92bb",
   "metadata": {
    "ExecuteTime": {
     "end_time": "2022-10-07T13:27:24.065838Z",
     "start_time": "2022-10-07T13:27:24.061683Z"
    }
   },
   "outputs": [
    {
     "name": "stderr",
     "output_type": "stream",
     "text": [
      "/home/arafat/anaconda3/lib/python3.9/site-packages/sklearn/utils/deprecation.py:87: FutureWarning: Function get_feature_names is deprecated; get_feature_names is deprecated in 1.0 and will be removed in 1.2. Please use get_feature_names_out instead.\n",
      "  warnings.warn(msg, category=FutureWarning)\n"
     ]
    },
    {
     "data": {
      "text/plain": [
       "['first', 'is', 'second', 'sentense', 'third', 'this']"
      ]
     },
     "execution_count": 164,
     "metadata": {},
     "output_type": "execute_result"
    }
   ],
   "source": [
    "cv.get_feature_names()"
   ]
  },
  {
   "cell_type": "code",
   "execution_count": 182,
   "id": "213aa265",
   "metadata": {
    "ExecuteTime": {
     "end_time": "2022-10-07T13:39:36.084521Z",
     "start_time": "2022-10-07T13:39:36.079118Z"
    }
   },
   "outputs": [
    {
     "name": "stderr",
     "output_type": "stream",
     "text": [
      "/home/arafat/anaconda3/lib/python3.9/site-packages/sklearn/utils/deprecation.py:87: FutureWarning: Function get_feature_names is deprecated; get_feature_names is deprecated in 1.0 and will be removed in 1.2. Please use get_feature_names_out instead.\n",
      "  warnings.warn(msg, category=FutureWarning)\n"
     ]
    }
   ],
   "source": [
    "#make pandas dataframe\n",
    "bow = pd.DataFrame(text_counts.toarray(),columns=cv.get_feature_names())"
   ]
  },
  {
   "cell_type": "code",
   "execution_count": 185,
   "id": "0a21d2d1",
   "metadata": {
    "ExecuteTime": {
     "end_time": "2022-10-07T13:39:50.275245Z",
     "start_time": "2022-10-07T13:39:50.269431Z"
    }
   },
   "outputs": [
    {
     "data": {
      "text/html": [
       "<div>\n",
       "<style scoped>\n",
       "    .dataframe tbody tr th:only-of-type {\n",
       "        vertical-align: middle;\n",
       "    }\n",
       "\n",
       "    .dataframe tbody tr th {\n",
       "        vertical-align: top;\n",
       "    }\n",
       "\n",
       "    .dataframe thead th {\n",
       "        text-align: right;\n",
       "    }\n",
       "</style>\n",
       "<table border=\"1\" class=\"dataframe\">\n",
       "  <thead>\n",
       "    <tr style=\"text-align: right;\">\n",
       "      <th></th>\n",
       "      <th>first</th>\n",
       "      <th>is</th>\n",
       "      <th>second</th>\n",
       "      <th>sentense</th>\n",
       "      <th>third</th>\n",
       "      <th>this</th>\n",
       "    </tr>\n",
       "  </thead>\n",
       "  <tbody>\n",
       "    <tr>\n",
       "      <th>0</th>\n",
       "      <td>1</td>\n",
       "      <td>1</td>\n",
       "      <td>0</td>\n",
       "      <td>1</td>\n",
       "      <td>0</td>\n",
       "      <td>1</td>\n",
       "    </tr>\n",
       "    <tr>\n",
       "      <th>1</th>\n",
       "      <td>0</td>\n",
       "      <td>1</td>\n",
       "      <td>1</td>\n",
       "      <td>0</td>\n",
       "      <td>0</td>\n",
       "      <td>1</td>\n",
       "    </tr>\n",
       "    <tr>\n",
       "      <th>2</th>\n",
       "      <td>0</td>\n",
       "      <td>1</td>\n",
       "      <td>0</td>\n",
       "      <td>0</td>\n",
       "      <td>1</td>\n",
       "      <td>1</td>\n",
       "    </tr>\n",
       "  </tbody>\n",
       "</table>\n",
       "</div>"
      ],
      "text/plain": [
       "   first  is  second  sentense  third  this\n",
       "0      1   1       0         1      0     1\n",
       "1      0   1       1         0      0     1\n",
       "2      0   1       0         0      1     1"
      ]
     },
     "execution_count": 185,
     "metadata": {},
     "output_type": "execute_result"
    }
   ],
   "source": [
    "bow"
   ]
  },
  {
   "cell_type": "code",
   "execution_count": 187,
   "id": "3d131feb",
   "metadata": {
    "ExecuteTime": {
     "end_time": "2022-10-07T13:39:59.198574Z",
     "start_time": "2022-10-07T13:39:59.195347Z"
    }
   },
   "outputs": [
    {
     "data": {
      "text/plain": [
       "['this is first sentense', 'this is second', 'this is third']"
      ]
     },
     "execution_count": 187,
     "metadata": {},
     "output_type": "execute_result"
    }
   ],
   "source": [
    "x"
   ]
  },
  {
   "cell_type": "code",
   "execution_count": null,
   "id": "1113c3e6",
   "metadata": {},
   "outputs": [],
   "source": []
  },
  {
   "cell_type": "markdown",
   "id": "87f15944",
   "metadata": {},
   "source": [
    "##### Term Frequency Calculation TF\n",
    "\n",
    "Term frequency is simply the ratio of the count of a word present in a sentence, to the length of the sentence."
   ]
  },
  {
   "cell_type": "code",
   "execution_count": 188,
   "id": "bebd4de5",
   "metadata": {
    "ExecuteTime": {
     "end_time": "2022-10-07T13:40:03.613636Z",
     "start_time": "2022-10-07T13:40:03.609597Z"
    }
   },
   "outputs": [
    {
     "data": {
      "text/plain": [
       "(3, 6)"
      ]
     },
     "execution_count": 188,
     "metadata": {},
     "output_type": "execute_result"
    }
   ],
   "source": [
    "bow.shape"
   ]
  },
  {
   "cell_type": "code",
   "execution_count": 189,
   "id": "c592da84",
   "metadata": {
    "ExecuteTime": {
     "end_time": "2022-10-07T13:40:07.897433Z",
     "start_time": "2022-10-07T13:40:07.893870Z"
    }
   },
   "outputs": [
    {
     "data": {
      "text/plain": [
       "6"
      ]
     },
     "execution_count": 189,
     "metadata": {},
     "output_type": "execute_result"
    }
   ],
   "source": [
    "bow.shape[1]"
   ]
  },
  {
   "cell_type": "code",
   "execution_count": 190,
   "id": "2fa5c68f",
   "metadata": {
    "ExecuteTime": {
     "end_time": "2022-10-07T13:40:12.165660Z",
     "start_time": "2022-10-07T13:40:12.162901Z"
    }
   },
   "outputs": [],
   "source": [
    "tf = bow/bow.shape[1]"
   ]
  },
  {
   "cell_type": "code",
   "execution_count": 191,
   "id": "24a83ec3",
   "metadata": {
    "ExecuteTime": {
     "end_time": "2022-10-07T13:40:16.594181Z",
     "start_time": "2022-10-07T13:40:16.591148Z"
    }
   },
   "outputs": [],
   "source": [
    "tf = bow.copy()"
   ]
  },
  {
   "cell_type": "code",
   "execution_count": 194,
   "id": "36910a43",
   "metadata": {
    "ExecuteTime": {
     "end_time": "2022-10-07T13:40:45.770080Z",
     "start_time": "2022-10-07T13:40:45.753675Z"
    },
    "scrolled": true
   },
   "outputs": [],
   "source": [
    "for index, row in enumerate(tf.iterrows()):\n",
    "    for col in row[1].index:\n",
    "        tf.loc[index,col] = tf.loc[index, col]/sum(row[1].values)"
   ]
  },
  {
   "cell_type": "code",
   "execution_count": 195,
   "id": "2b497c49",
   "metadata": {
    "ExecuteTime": {
     "end_time": "2022-10-07T13:40:50.152301Z",
     "start_time": "2022-10-07T13:40:50.143084Z"
    }
   },
   "outputs": [
    {
     "data": {
      "text/html": [
       "<div>\n",
       "<style scoped>\n",
       "    .dataframe tbody tr th:only-of-type {\n",
       "        vertical-align: middle;\n",
       "    }\n",
       "\n",
       "    .dataframe tbody tr th {\n",
       "        vertical-align: top;\n",
       "    }\n",
       "\n",
       "    .dataframe thead th {\n",
       "        text-align: right;\n",
       "    }\n",
       "</style>\n",
       "<table border=\"1\" class=\"dataframe\">\n",
       "  <thead>\n",
       "    <tr style=\"text-align: right;\">\n",
       "      <th></th>\n",
       "      <th>first</th>\n",
       "      <th>is</th>\n",
       "      <th>second</th>\n",
       "      <th>sentense</th>\n",
       "      <th>third</th>\n",
       "      <th>this</th>\n",
       "    </tr>\n",
       "  </thead>\n",
       "  <tbody>\n",
       "    <tr>\n",
       "      <th>0</th>\n",
       "      <td>0.25</td>\n",
       "      <td>0.250000</td>\n",
       "      <td>0.000000</td>\n",
       "      <td>0.25</td>\n",
       "      <td>0.000000</td>\n",
       "      <td>0.250000</td>\n",
       "    </tr>\n",
       "    <tr>\n",
       "      <th>1</th>\n",
       "      <td>0.00</td>\n",
       "      <td>0.333333</td>\n",
       "      <td>0.333333</td>\n",
       "      <td>0.00</td>\n",
       "      <td>0.000000</td>\n",
       "      <td>0.333333</td>\n",
       "    </tr>\n",
       "    <tr>\n",
       "      <th>2</th>\n",
       "      <td>0.00</td>\n",
       "      <td>0.333333</td>\n",
       "      <td>0.000000</td>\n",
       "      <td>0.00</td>\n",
       "      <td>0.333333</td>\n",
       "      <td>0.333333</td>\n",
       "    </tr>\n",
       "  </tbody>\n",
       "</table>\n",
       "</div>"
      ],
      "text/plain": [
       "   first        is    second  sentense     third      this\n",
       "0   0.25  0.250000  0.000000      0.25  0.000000  0.250000\n",
       "1   0.00  0.333333  0.333333      0.00  0.000000  0.333333\n",
       "2   0.00  0.333333  0.000000      0.00  0.333333  0.333333"
      ]
     },
     "execution_count": 195,
     "metadata": {},
     "output_type": "execute_result"
    }
   ],
   "source": [
    "tf"
   ]
  },
  {
   "cell_type": "code",
   "execution_count": null,
   "id": "5f00d7fa",
   "metadata": {},
   "outputs": [],
   "source": []
  },
  {
   "cell_type": "markdown",
   "id": "10feb16a",
   "metadata": {},
   "source": [
    "##### Inverse Document Frequency IDF\n",
    "    IDF = log((1+N)/(n+1))+1 used in sklearn when smooth_idf = True\n",
    "    where, N is the total number of rows and n is the number of rows in which the word was present."
   ]
  },
  {
   "cell_type": "code",
   "execution_count": 196,
   "id": "035cd406",
   "metadata": {
    "ExecuteTime": {
     "end_time": "2022-10-07T13:45:29.353055Z",
     "start_time": "2022-10-07T13:45:29.346957Z"
    }
   },
   "outputs": [],
   "source": [
    "import numpy as np"
   ]
  },
  {
   "cell_type": "code",
   "execution_count": 197,
   "id": "07a2b0b2",
   "metadata": {
    "ExecuteTime": {
     "end_time": "2022-10-07T13:45:51.072256Z",
     "start_time": "2022-10-07T13:45:51.058659Z"
    }
   },
   "outputs": [],
   "source": [
    "x_df = pd.DataFrame(x, columns=['words'])"
   ]
  },
  {
   "cell_type": "code",
   "execution_count": 198,
   "id": "cf920f3b",
   "metadata": {
    "ExecuteTime": {
     "end_time": "2022-10-07T13:45:56.538327Z",
     "start_time": "2022-10-07T13:45:56.533513Z"
    }
   },
   "outputs": [
    {
     "data": {
      "text/html": [
       "<div>\n",
       "<style scoped>\n",
       "    .dataframe tbody tr th:only-of-type {\n",
       "        vertical-align: middle;\n",
       "    }\n",
       "\n",
       "    .dataframe tbody tr th {\n",
       "        vertical-align: top;\n",
       "    }\n",
       "\n",
       "    .dataframe thead th {\n",
       "        text-align: right;\n",
       "    }\n",
       "</style>\n",
       "<table border=\"1\" class=\"dataframe\">\n",
       "  <thead>\n",
       "    <tr style=\"text-align: right;\">\n",
       "      <th></th>\n",
       "      <th>words</th>\n",
       "    </tr>\n",
       "  </thead>\n",
       "  <tbody>\n",
       "    <tr>\n",
       "      <th>0</th>\n",
       "      <td>this is first sentense</td>\n",
       "    </tr>\n",
       "    <tr>\n",
       "      <th>1</th>\n",
       "      <td>this is second</td>\n",
       "    </tr>\n",
       "    <tr>\n",
       "      <th>2</th>\n",
       "      <td>this is third</td>\n",
       "    </tr>\n",
       "  </tbody>\n",
       "</table>\n",
       "</div>"
      ],
      "text/plain": [
       "                    words\n",
       "0  this is first sentense\n",
       "1          this is second\n",
       "2           this is third"
      ]
     },
     "execution_count": 198,
     "metadata": {},
     "output_type": "execute_result"
    }
   ],
   "source": [
    "x_df"
   ]
  },
  {
   "cell_type": "code",
   "execution_count": 199,
   "id": "4e391220",
   "metadata": {
    "ExecuteTime": {
     "end_time": "2022-10-07T13:46:27.273541Z",
     "start_time": "2022-10-07T13:46:27.264790Z"
    }
   },
   "outputs": [
    {
     "data": {
      "text/html": [
       "<div>\n",
       "<style scoped>\n",
       "    .dataframe tbody tr th:only-of-type {\n",
       "        vertical-align: middle;\n",
       "    }\n",
       "\n",
       "    .dataframe tbody tr th {\n",
       "        vertical-align: top;\n",
       "    }\n",
       "\n",
       "    .dataframe thead th {\n",
       "        text-align: right;\n",
       "    }\n",
       "</style>\n",
       "<table border=\"1\" class=\"dataframe\">\n",
       "  <thead>\n",
       "    <tr style=\"text-align: right;\">\n",
       "      <th></th>\n",
       "      <th>first</th>\n",
       "      <th>is</th>\n",
       "      <th>second</th>\n",
       "      <th>sentense</th>\n",
       "      <th>third</th>\n",
       "      <th>this</th>\n",
       "    </tr>\n",
       "  </thead>\n",
       "  <tbody>\n",
       "    <tr>\n",
       "      <th>0</th>\n",
       "      <td>0.25</td>\n",
       "      <td>0.250000</td>\n",
       "      <td>0.000000</td>\n",
       "      <td>0.25</td>\n",
       "      <td>0.000000</td>\n",
       "      <td>0.250000</td>\n",
       "    </tr>\n",
       "    <tr>\n",
       "      <th>1</th>\n",
       "      <td>0.00</td>\n",
       "      <td>0.333333</td>\n",
       "      <td>0.333333</td>\n",
       "      <td>0.00</td>\n",
       "      <td>0.000000</td>\n",
       "      <td>0.333333</td>\n",
       "    </tr>\n",
       "    <tr>\n",
       "      <th>2</th>\n",
       "      <td>0.00</td>\n",
       "      <td>0.333333</td>\n",
       "      <td>0.000000</td>\n",
       "      <td>0.00</td>\n",
       "      <td>0.333333</td>\n",
       "      <td>0.333333</td>\n",
       "    </tr>\n",
       "  </tbody>\n",
       "</table>\n",
       "</div>"
      ],
      "text/plain": [
       "   first        is    second  sentense     third      this\n",
       "0   0.25  0.250000  0.000000      0.25  0.000000  0.250000\n",
       "1   0.00  0.333333  0.333333      0.00  0.000000  0.333333\n",
       "2   0.00  0.333333  0.000000      0.00  0.333333  0.333333"
      ]
     },
     "execution_count": 199,
     "metadata": {},
     "output_type": "execute_result"
    }
   ],
   "source": [
    "bow"
   ]
  },
  {
   "cell_type": "code",
   "execution_count": 202,
   "id": "c4564987",
   "metadata": {
    "ExecuteTime": {
     "end_time": "2022-10-07T13:47:07.901535Z",
     "start_time": "2022-10-07T13:47:07.891418Z"
    }
   },
   "outputs": [
    {
     "data": {
      "text/plain": [
       "3"
      ]
     },
     "execution_count": 202,
     "metadata": {},
     "output_type": "execute_result"
    }
   ],
   "source": [
    "N = bow.shape[0]\n",
    "N"
   ]
  },
  {
   "cell_type": "code",
   "execution_count": 203,
   "id": "1ae838ea",
   "metadata": {
    "ExecuteTime": {
     "end_time": "2022-10-07T13:47:47.505228Z",
     "start_time": "2022-10-07T13:47:47.489379Z"
    }
   },
   "outputs": [
    {
     "data": {
      "text/html": [
       "<div>\n",
       "<style scoped>\n",
       "    .dataframe tbody tr th:only-of-type {\n",
       "        vertical-align: middle;\n",
       "    }\n",
       "\n",
       "    .dataframe tbody tr th {\n",
       "        vertical-align: top;\n",
       "    }\n",
       "\n",
       "    .dataframe thead th {\n",
       "        text-align: right;\n",
       "    }\n",
       "</style>\n",
       "<table border=\"1\" class=\"dataframe\">\n",
       "  <thead>\n",
       "    <tr style=\"text-align: right;\">\n",
       "      <th></th>\n",
       "      <th>first</th>\n",
       "      <th>is</th>\n",
       "      <th>second</th>\n",
       "      <th>sentense</th>\n",
       "      <th>third</th>\n",
       "      <th>this</th>\n",
       "    </tr>\n",
       "  </thead>\n",
       "  <tbody>\n",
       "    <tr>\n",
       "      <th>0</th>\n",
       "      <td>True</td>\n",
       "      <td>True</td>\n",
       "      <td>False</td>\n",
       "      <td>True</td>\n",
       "      <td>False</td>\n",
       "      <td>True</td>\n",
       "    </tr>\n",
       "    <tr>\n",
       "      <th>1</th>\n",
       "      <td>False</td>\n",
       "      <td>True</td>\n",
       "      <td>True</td>\n",
       "      <td>False</td>\n",
       "      <td>False</td>\n",
       "      <td>True</td>\n",
       "    </tr>\n",
       "    <tr>\n",
       "      <th>2</th>\n",
       "      <td>False</td>\n",
       "      <td>True</td>\n",
       "      <td>False</td>\n",
       "      <td>False</td>\n",
       "      <td>True</td>\n",
       "      <td>True</td>\n",
       "    </tr>\n",
       "  </tbody>\n",
       "</table>\n",
       "</div>"
      ],
      "text/plain": [
       "   first    is  second  sentense  third  this\n",
       "0   True  True   False      True  False  True\n",
       "1  False  True    True     False  False  True\n",
       "2  False  True   False     False   True  True"
      ]
     },
     "execution_count": 203,
     "metadata": {},
     "output_type": "execute_result"
    }
   ],
   "source": [
    "bb = bow.astype('bool')\n",
    "bb"
   ]
  },
  {
   "cell_type": "code",
   "execution_count": 204,
   "id": "40895222",
   "metadata": {
    "ExecuteTime": {
     "end_time": "2022-10-07T13:48:10.060870Z",
     "start_time": "2022-10-07T13:48:10.054703Z"
    }
   },
   "outputs": [
    {
     "data": {
      "text/plain": [
       "1"
      ]
     },
     "execution_count": 204,
     "metadata": {},
     "output_type": "execute_result"
    }
   ],
   "source": [
    "bb['first'].sum()"
   ]
  },
  {
   "cell_type": "code",
   "execution_count": 205,
   "id": "4da84233",
   "metadata": {
    "ExecuteTime": {
     "end_time": "2022-10-07T13:48:23.162945Z",
     "start_time": "2022-10-07T13:48:23.157613Z"
    }
   },
   "outputs": [
    {
     "data": {
      "text/plain": [
       "3"
      ]
     },
     "execution_count": 205,
     "metadata": {},
     "output_type": "execute_result"
    }
   ],
   "source": [
    "bb['is'].sum()"
   ]
  },
  {
   "cell_type": "code",
   "execution_count": 206,
   "id": "68a9e9bf",
   "metadata": {
    "ExecuteTime": {
     "end_time": "2022-10-07T13:48:40.184637Z",
     "start_time": "2022-10-07T13:48:40.179034Z"
    }
   },
   "outputs": [
    {
     "data": {
      "text/plain": [
       "Index(['first', 'is', 'second', 'sentense', 'third', 'this'], dtype='object')"
      ]
     },
     "execution_count": 206,
     "metadata": {},
     "output_type": "execute_result"
    }
   ],
   "source": [
    "cols = bb.columns\n",
    "cols"
   ]
  },
  {
   "cell_type": "code",
   "execution_count": 207,
   "id": "44905bbb",
   "metadata": {
    "ExecuteTime": {
     "end_time": "2022-10-07T13:49:46.331172Z",
     "start_time": "2022-10-07T13:49:46.328363Z"
    }
   },
   "outputs": [],
   "source": [
    "nz = []\n",
    "for col in cols:\n",
    "    nz.append(bb[col].sum())"
   ]
  },
  {
   "cell_type": "code",
   "execution_count": 208,
   "id": "f9eecda4",
   "metadata": {
    "ExecuteTime": {
     "end_time": "2022-10-07T13:49:54.991683Z",
     "start_time": "2022-10-07T13:49:54.986167Z"
    }
   },
   "outputs": [
    {
     "data": {
      "text/plain": [
       "[1, 3, 1, 1, 1, 3]"
      ]
     },
     "execution_count": 208,
     "metadata": {},
     "output_type": "execute_result"
    }
   ],
   "source": [
    "nz"
   ]
  },
  {
   "cell_type": "code",
   "execution_count": null,
   "id": "7c86c57d",
   "metadata": {},
   "outputs": [],
   "source": []
  },
  {
   "cell_type": "code",
   "execution_count": 211,
   "id": "821a6172",
   "metadata": {
    "ExecuteTime": {
     "end_time": "2022-10-07T13:51:56.656377Z",
     "start_time": "2022-10-07T13:51:56.653205Z"
    }
   },
   "outputs": [],
   "source": [
    "idf = []\n",
    "for index, col in enumerate(cols):\n",
    "    idf.append(np.log((N+1)/(nz[index]+1))+1)"
   ]
  },
  {
   "cell_type": "code",
   "execution_count": 212,
   "id": "53433582",
   "metadata": {
    "ExecuteTime": {
     "end_time": "2022-10-07T13:52:01.078086Z",
     "start_time": "2022-10-07T13:52:01.074447Z"
    }
   },
   "outputs": [
    {
     "data": {
      "text/plain": [
       "[1.6931471805599454,\n",
       " 1.0,\n",
       " 1.6931471805599454,\n",
       " 1.6931471805599454,\n",
       " 1.6931471805599454,\n",
       " 1.0]"
      ]
     },
     "execution_count": 212,
     "metadata": {},
     "output_type": "execute_result"
    }
   ],
   "source": [
    "idf"
   ]
  },
  {
   "cell_type": "code",
   "execution_count": 213,
   "id": "1f237ef2",
   "metadata": {
    "ExecuteTime": {
     "end_time": "2022-10-07T13:52:36.303790Z",
     "start_time": "2022-10-07T13:52:36.286433Z"
    }
   },
   "outputs": [
    {
     "data": {
      "text/html": [
       "<div>\n",
       "<style scoped>\n",
       "    .dataframe tbody tr th:only-of-type {\n",
       "        vertical-align: middle;\n",
       "    }\n",
       "\n",
       "    .dataframe tbody tr th {\n",
       "        vertical-align: top;\n",
       "    }\n",
       "\n",
       "    .dataframe thead th {\n",
       "        text-align: right;\n",
       "    }\n",
       "</style>\n",
       "<table border=\"1\" class=\"dataframe\">\n",
       "  <thead>\n",
       "    <tr style=\"text-align: right;\">\n",
       "      <th></th>\n",
       "      <th>first</th>\n",
       "      <th>is</th>\n",
       "      <th>second</th>\n",
       "      <th>sentense</th>\n",
       "      <th>third</th>\n",
       "      <th>this</th>\n",
       "    </tr>\n",
       "  </thead>\n",
       "  <tbody>\n",
       "    <tr>\n",
       "      <th>0</th>\n",
       "      <td>0.25</td>\n",
       "      <td>0.250000</td>\n",
       "      <td>0.000000</td>\n",
       "      <td>0.25</td>\n",
       "      <td>0.000000</td>\n",
       "      <td>0.250000</td>\n",
       "    </tr>\n",
       "    <tr>\n",
       "      <th>1</th>\n",
       "      <td>0.00</td>\n",
       "      <td>0.333333</td>\n",
       "      <td>0.333333</td>\n",
       "      <td>0.00</td>\n",
       "      <td>0.000000</td>\n",
       "      <td>0.333333</td>\n",
       "    </tr>\n",
       "    <tr>\n",
       "      <th>2</th>\n",
       "      <td>0.00</td>\n",
       "      <td>0.333333</td>\n",
       "      <td>0.000000</td>\n",
       "      <td>0.00</td>\n",
       "      <td>0.333333</td>\n",
       "      <td>0.333333</td>\n",
       "    </tr>\n",
       "  </tbody>\n",
       "</table>\n",
       "</div>"
      ],
      "text/plain": [
       "   first        is    second  sentense     third      this\n",
       "0   0.25  0.250000  0.000000      0.25  0.000000  0.250000\n",
       "1   0.00  0.333333  0.333333      0.00  0.000000  0.333333\n",
       "2   0.00  0.333333  0.000000      0.00  0.333333  0.333333"
      ]
     },
     "execution_count": 213,
     "metadata": {},
     "output_type": "execute_result"
    }
   ],
   "source": [
    "bow"
   ]
  },
  {
   "cell_type": "code",
   "execution_count": null,
   "id": "66c57605",
   "metadata": {},
   "outputs": [],
   "source": []
  },
  {
   "cell_type": "code",
   "execution_count": 214,
   "id": "2fcf4c68",
   "metadata": {
    "ExecuteTime": {
     "end_time": "2022-10-07T13:52:50.832357Z",
     "start_time": "2022-10-07T13:52:50.830480Z"
    }
   },
   "outputs": [],
   "source": [
    "# TF-IDF\n"
   ]
  },
  {
   "cell_type": "code",
   "execution_count": 215,
   "id": "75b536b9",
   "metadata": {
    "ExecuteTime": {
     "end_time": "2022-10-07T13:53:34.335097Z",
     "start_time": "2022-10-07T13:53:34.332809Z"
    }
   },
   "outputs": [],
   "source": [
    "from sklearn.feature_extraction.text import TfidfVectorizer"
   ]
  },
  {
   "cell_type": "code",
   "execution_count": 217,
   "id": "3962972c",
   "metadata": {
    "ExecuteTime": {
     "end_time": "2022-10-07T13:54:24.085354Z",
     "start_time": "2022-10-07T13:54:24.070072Z"
    }
   },
   "outputs": [],
   "source": [
    "tfidf = TfidfVectorizer()\n",
    "x_tfidf = tfidf.fit_transform(x_df['words'])"
   ]
  },
  {
   "cell_type": "code",
   "execution_count": 218,
   "id": "c12f75ea",
   "metadata": {
    "ExecuteTime": {
     "end_time": "2022-10-07T13:54:51.915207Z",
     "start_time": "2022-10-07T13:54:51.904492Z"
    }
   },
   "outputs": [
    {
     "data": {
      "text/plain": [
       "<3x6 sparse matrix of type '<class 'numpy.float64'>'\n",
       "\twith 10 stored elements in Compressed Sparse Row format>"
      ]
     },
     "execution_count": 218,
     "metadata": {},
     "output_type": "execute_result"
    }
   ],
   "source": [
    "x_tfidf"
   ]
  },
  {
   "cell_type": "code",
   "execution_count": 219,
   "id": "4e5bcd16",
   "metadata": {
    "ExecuteTime": {
     "end_time": "2022-10-07T13:55:09.969388Z",
     "start_time": "2022-10-07T13:55:09.962991Z"
    }
   },
   "outputs": [
    {
     "data": {
      "text/plain": [
       "array([[0.6088451 , 0.35959372, 0.        , 0.6088451 , 0.        ,\n",
       "        0.35959372],\n",
       "       [0.        , 0.45329466, 0.76749457, 0.        , 0.        ,\n",
       "        0.45329466],\n",
       "       [0.        , 0.45329466, 0.        , 0.        , 0.76749457,\n",
       "        0.45329466]])"
      ]
     },
     "execution_count": 219,
     "metadata": {},
     "output_type": "execute_result"
    }
   ],
   "source": [
    "x_tfidf.toarray()"
   ]
  },
  {
   "cell_type": "code",
   "execution_count": 222,
   "id": "18b8d2ab",
   "metadata": {
    "ExecuteTime": {
     "end_time": "2022-10-07T13:56:15.682635Z",
     "start_time": "2022-10-07T13:56:15.676735Z"
    }
   },
   "outputs": [
    {
     "data": {
      "text/plain": [
       "array([1.69314718, 1.        , 1.69314718, 1.69314718, 1.69314718,\n",
       "       1.        ])"
      ]
     },
     "execution_count": 222,
     "metadata": {},
     "output_type": "execute_result"
    }
   ],
   "source": [
    "# using sklearn\n",
    "tfidf.idf_"
   ]
  },
  {
   "cell_type": "code",
   "execution_count": 223,
   "id": "68661bc2",
   "metadata": {
    "ExecuteTime": {
     "end_time": "2022-10-07T13:56:25.711915Z",
     "start_time": "2022-10-07T13:56:25.708129Z"
    }
   },
   "outputs": [
    {
     "data": {
      "text/plain": [
       "[1.6931471805599454,\n",
       " 1.0,\n",
       " 1.6931471805599454,\n",
       " 1.6931471805599454,\n",
       " 1.6931471805599454,\n",
       " 1.0]"
      ]
     },
     "execution_count": 223,
     "metadata": {},
     "output_type": "execute_result"
    }
   ],
   "source": [
    "# using manual code\n",
    "idf"
   ]
  },
  {
   "cell_type": "code",
   "execution_count": null,
   "id": "f3f629bc",
   "metadata": {},
   "outputs": [],
   "source": []
  },
  {
   "cell_type": "code",
   "execution_count": null,
   "id": "c453995c",
   "metadata": {},
   "outputs": [],
   "source": []
  },
  {
   "cell_type": "markdown",
   "id": "79314f81",
   "metadata": {},
   "source": [
    "##### Word Embedding Word2Vec using Spacy\n",
    "    Spacy word2Vec"
   ]
  },
  {
   "cell_type": "code",
   "execution_count": 225,
   "id": "fffb5290",
   "metadata": {
    "ExecuteTime": {
     "end_time": "2022-10-07T14:20:20.798117Z",
     "start_time": "2022-10-07T13:58:36.350997Z"
    }
   },
   "outputs": [
    {
     "name": "stdout",
     "output_type": "stream",
     "text": [
      "2022-10-07 19:58:36.880234: I tensorflow/stream_executor/platform/default/dso_loader.cc:49] Successfully opened dynamic library libcudart.so.10.1\n",
      "2022-10-07 19:58:38.401574: I tensorflow/compiler/jit/xla_cpu_device.cc:41] Not creating XLA devices, tf_xla_enable_xla_devices not set\n",
      "2022-10-07 19:58:38.401866: W tensorflow/stream_executor/platform/default/dso_loader.cc:60] Could not load dynamic library 'libcuda.so.1'; dlerror: libcuda.so.1: cannot open shared object file: No such file or directory\n",
      "2022-10-07 19:58:38.401877: W tensorflow/stream_executor/cuda/cuda_driver.cc:326] failed call to cuInit: UNKNOWN ERROR (303)\n",
      "2022-10-07 19:58:38.401889: I tensorflow/stream_executor/cuda/cuda_diagnostics.cc:156] kernel driver does not appear to be running on this host (arafat-pc): /proc/driver/nvidia/version does not exist\n",
      "Collecting en-core-web-lg==3.4.0\n",
      "  Downloading https://github.com/explosion/spacy-models/releases/download/en_core_web_lg-3.4.0/en_core_web_lg-3.4.0-py3-none-any.whl (587.7 MB)\n",
      "\u001b[K     |████████████████████████████████| 587.7 MB 25 kB/s  eta 0:00:01     |████████████████▉               | 309.8 MB 472 kB/s eta 0:09:48\n",
      "\u001b[?25hRequirement already satisfied: spacy<3.5.0,>=3.4.0 in /home/arafat/anaconda3/lib/python3.9/site-packages (from en-core-web-lg==3.4.0) (3.4.1)\n",
      "Requirement already satisfied: pydantic!=1.8,!=1.8.1,<1.10.0,>=1.7.4 in /home/arafat/anaconda3/lib/python3.9/site-packages (from spacy<3.5.0,>=3.4.0->en-core-web-lg==3.4.0) (1.9.2)\n",
      "Requirement already satisfied: langcodes<4.0.0,>=3.2.0 in /home/arafat/anaconda3/lib/python3.9/site-packages (from spacy<3.5.0,>=3.4.0->en-core-web-lg==3.4.0) (3.3.0)\n",
      "Requirement already satisfied: tqdm<5.0.0,>=4.38.0 in /home/arafat/anaconda3/lib/python3.9/site-packages (from spacy<3.5.0,>=3.4.0->en-core-web-lg==3.4.0) (4.63.0)\n",
      "Requirement already satisfied: numpy>=1.15.0 in /home/arafat/anaconda3/lib/python3.9/site-packages (from spacy<3.5.0,>=3.4.0->en-core-web-lg==3.4.0) (1.19.5)\n",
      "Requirement already satisfied: jinja2 in /home/arafat/anaconda3/lib/python3.9/site-packages (from spacy<3.5.0,>=3.4.0->en-core-web-lg==3.4.0) (2.11.3)\n",
      "Requirement already satisfied: packaging>=20.0 in /home/arafat/anaconda3/lib/python3.9/site-packages (from spacy<3.5.0,>=3.4.0->en-core-web-lg==3.4.0) (21.3)\n",
      "Requirement already satisfied: murmurhash<1.1.0,>=0.28.0 in /home/arafat/anaconda3/lib/python3.9/site-packages (from spacy<3.5.0,>=3.4.0->en-core-web-lg==3.4.0) (1.0.8)\n",
      "Requirement already satisfied: typer<0.5.0,>=0.3.0 in /home/arafat/anaconda3/lib/python3.9/site-packages (from spacy<3.5.0,>=3.4.0->en-core-web-lg==3.4.0) (0.4.2)\n",
      "Requirement already satisfied: srsly<3.0.0,>=2.4.3 in /home/arafat/anaconda3/lib/python3.9/site-packages (from spacy<3.5.0,>=3.4.0->en-core-web-lg==3.4.0) (2.4.4)\n",
      "Requirement already satisfied: preshed<3.1.0,>=3.0.2 in /home/arafat/anaconda3/lib/python3.9/site-packages (from spacy<3.5.0,>=3.4.0->en-core-web-lg==3.4.0) (3.0.7)\n",
      "Requirement already satisfied: spacy-loggers<2.0.0,>=1.0.0 in /home/arafat/anaconda3/lib/python3.9/site-packages (from spacy<3.5.0,>=3.4.0->en-core-web-lg==3.4.0) (1.0.3)\n",
      "Requirement already satisfied: requests<3.0.0,>=2.13.0 in /home/arafat/anaconda3/lib/python3.9/site-packages (from spacy<3.5.0,>=3.4.0->en-core-web-lg==3.4.0) (2.27.1)\n",
      "Requirement already satisfied: cymem<2.1.0,>=2.0.2 in /home/arafat/anaconda3/lib/python3.9/site-packages (from spacy<3.5.0,>=3.4.0->en-core-web-lg==3.4.0) (2.0.6)\n",
      "Requirement already satisfied: wasabi<1.1.0,>=0.9.1 in /home/arafat/anaconda3/lib/python3.9/site-packages (from spacy<3.5.0,>=3.4.0->en-core-web-lg==3.4.0) (0.10.1)\n",
      "Requirement already satisfied: thinc<8.2.0,>=8.1.0 in /home/arafat/anaconda3/lib/python3.9/site-packages (from spacy<3.5.0,>=3.4.0->en-core-web-lg==3.4.0) (8.1.1)\n",
      "Requirement already satisfied: spacy-legacy<3.1.0,>=3.0.9 in /home/arafat/anaconda3/lib/python3.9/site-packages (from spacy<3.5.0,>=3.4.0->en-core-web-lg==3.4.0) (3.0.10)\n",
      "Requirement already satisfied: catalogue<2.1.0,>=2.0.6 in /home/arafat/anaconda3/lib/python3.9/site-packages (from spacy<3.5.0,>=3.4.0->en-core-web-lg==3.4.0) (2.0.8)\n",
      "Requirement already satisfied: setuptools in /home/arafat/anaconda3/lib/python3.9/site-packages (from spacy<3.5.0,>=3.4.0->en-core-web-lg==3.4.0) (58.0.4)\n",
      "Requirement already satisfied: pathy>=0.3.5 in /home/arafat/anaconda3/lib/python3.9/site-packages (from spacy<3.5.0,>=3.4.0->en-core-web-lg==3.4.0) (0.6.2)\n",
      "Requirement already satisfied: pyparsing!=3.0.5,>=2.0.2 in /home/arafat/anaconda3/lib/python3.9/site-packages (from packaging>=20.0->spacy<3.5.0,>=3.4.0->en-core-web-lg==3.4.0) (3.0.4)\n",
      "Requirement already satisfied: smart-open<6.0.0,>=5.2.1 in /home/arafat/anaconda3/lib/python3.9/site-packages (from pathy>=0.3.5->spacy<3.5.0,>=3.4.0->en-core-web-lg==3.4.0) (5.2.1)\n",
      "Requirement already satisfied: typing-extensions>=3.7.4.3 in /home/arafat/anaconda3/lib/python3.9/site-packages (from pydantic!=1.8,!=1.8.1,<1.10.0,>=1.7.4->spacy<3.5.0,>=3.4.0->en-core-web-lg==3.4.0) (4.3.0)\n",
      "Requirement already satisfied: charset-normalizer~=2.0.0 in /home/arafat/anaconda3/lib/python3.9/site-packages (from requests<3.0.0,>=2.13.0->spacy<3.5.0,>=3.4.0->en-core-web-lg==3.4.0) (2.0.4)\n",
      "Requirement already satisfied: certifi>=2017.4.17 in /home/arafat/anaconda3/lib/python3.9/site-packages (from requests<3.0.0,>=2.13.0->spacy<3.5.0,>=3.4.0->en-core-web-lg==3.4.0) (2022.6.15)\n",
      "Requirement already satisfied: urllib3<1.27,>=1.21.1 in /home/arafat/anaconda3/lib/python3.9/site-packages (from requests<3.0.0,>=2.13.0->spacy<3.5.0,>=3.4.0->en-core-web-lg==3.4.0) (1.26.8)\n",
      "Requirement already satisfied: idna<4,>=2.5 in /home/arafat/anaconda3/lib/python3.9/site-packages (from requests<3.0.0,>=2.13.0->spacy<3.5.0,>=3.4.0->en-core-web-lg==3.4.0) (3.3)\n",
      "Requirement already satisfied: blis<0.10.0,>=0.7.8 in /home/arafat/anaconda3/lib/python3.9/site-packages (from thinc<8.2.0,>=8.1.0->spacy<3.5.0,>=3.4.0->en-core-web-lg==3.4.0) (0.9.1)\n",
      "Requirement already satisfied: confection<1.0.0,>=0.0.1 in /home/arafat/anaconda3/lib/python3.9/site-packages (from thinc<8.2.0,>=8.1.0->spacy<3.5.0,>=3.4.0->en-core-web-lg==3.4.0) (0.0.1)\n",
      "Requirement already satisfied: click<9.0.0,>=7.1.1 in /home/arafat/anaconda3/lib/python3.9/site-packages (from typer<0.5.0,>=0.3.0->spacy<3.5.0,>=3.4.0->en-core-web-lg==3.4.0) (8.0.4)\n",
      "Requirement already satisfied: MarkupSafe>=0.23 in /home/arafat/anaconda3/lib/python3.9/site-packages (from jinja2->spacy<3.5.0,>=3.4.0->en-core-web-lg==3.4.0) (2.0.1)\n",
      "Installing collected packages: en-core-web-lg\n",
      "Successfully installed en-core-web-lg-3.4.0\n",
      "\u001b[38;5;2m✔ Download and installation successful\u001b[0m\n",
      "You can now load the package via spacy.load('en_core_web_lg')\n"
     ]
    }
   ],
   "source": [
    "# !python3 -m spacy download en_core_web_lg"
   ]
  },
  {
   "cell_type": "code",
   "execution_count": 226,
   "id": "db3dcd3a",
   "metadata": {
    "ExecuteTime": {
     "end_time": "2022-10-07T14:20:27.133372Z",
     "start_time": "2022-10-07T14:20:25.535446Z"
    }
   },
   "outputs": [],
   "source": [
    "nlp = spacy.load('en_core_web_lg')\n"
   ]
  },
  {
   "cell_type": "code",
   "execution_count": 232,
   "id": "4100fbb9",
   "metadata": {
    "ExecuteTime": {
     "end_time": "2022-10-07T14:20:55.080275Z",
     "start_time": "2022-10-07T14:20:55.073435Z"
    }
   },
   "outputs": [],
   "source": [
    "doc = nlp('thank you! dog cat lion asdfsdf')"
   ]
  },
  {
   "cell_type": "code",
   "execution_count": 230,
   "id": "2ff056d9",
   "metadata": {
    "ExecuteTime": {
     "end_time": "2022-10-07T14:20:46.252228Z",
     "start_time": "2022-10-07T14:20:46.248489Z"
    }
   },
   "outputs": [
    {
     "name": "stdout",
     "output_type": "stream",
     "text": [
      "thank True\n",
      "you True\n",
      "! True\n",
      "dog True\n",
      "cat True\n",
      "lion True\n",
      "asdfsdf False\n"
     ]
    }
   ],
   "source": [
    "for token in doc:\n",
    "    print(token.text, token.has_vector)"
   ]
  },
  {
   "cell_type": "code",
   "execution_count": 233,
   "id": "ef398b9c",
   "metadata": {
    "ExecuteTime": {
     "end_time": "2022-10-07T14:20:59.672630Z",
     "start_time": "2022-10-07T14:20:59.660552Z"
    }
   },
   "outputs": [
    {
     "data": {
      "text/plain": [
       "array([0., 0., 0., 0., 0., 0., 0., 0., 0., 0., 0., 0., 0., 0., 0., 0., 0.,\n",
       "       0., 0., 0., 0., 0., 0., 0., 0., 0., 0., 0., 0., 0., 0., 0., 0., 0.,\n",
       "       0., 0., 0., 0., 0., 0., 0., 0., 0., 0., 0., 0., 0., 0., 0., 0., 0.,\n",
       "       0., 0., 0., 0., 0., 0., 0., 0., 0., 0., 0., 0., 0., 0., 0., 0., 0.,\n",
       "       0., 0., 0., 0., 0., 0., 0., 0., 0., 0., 0., 0., 0., 0., 0., 0., 0.,\n",
       "       0., 0., 0., 0., 0., 0., 0., 0., 0., 0., 0., 0., 0., 0., 0., 0., 0.,\n",
       "       0., 0., 0., 0., 0., 0., 0., 0., 0., 0., 0., 0., 0., 0., 0., 0., 0.,\n",
       "       0., 0., 0., 0., 0., 0., 0., 0., 0., 0., 0., 0., 0., 0., 0., 0., 0.,\n",
       "       0., 0., 0., 0., 0., 0., 0., 0., 0., 0., 0., 0., 0., 0., 0., 0., 0.,\n",
       "       0., 0., 0., 0., 0., 0., 0., 0., 0., 0., 0., 0., 0., 0., 0., 0., 0.,\n",
       "       0., 0., 0., 0., 0., 0., 0., 0., 0., 0., 0., 0., 0., 0., 0., 0., 0.,\n",
       "       0., 0., 0., 0., 0., 0., 0., 0., 0., 0., 0., 0., 0., 0., 0., 0., 0.,\n",
       "       0., 0., 0., 0., 0., 0., 0., 0., 0., 0., 0., 0., 0., 0., 0., 0., 0.,\n",
       "       0., 0., 0., 0., 0., 0., 0., 0., 0., 0., 0., 0., 0., 0., 0., 0., 0.,\n",
       "       0., 0., 0., 0., 0., 0., 0., 0., 0., 0., 0., 0., 0., 0., 0., 0., 0.,\n",
       "       0., 0., 0., 0., 0., 0., 0., 0., 0., 0., 0., 0., 0., 0., 0., 0., 0.,\n",
       "       0., 0., 0., 0., 0., 0., 0., 0., 0., 0., 0., 0., 0., 0., 0., 0., 0.,\n",
       "       0., 0., 0., 0., 0., 0., 0., 0., 0., 0., 0.], dtype=float32)"
      ]
     },
     "execution_count": 233,
     "metadata": {},
     "output_type": "execute_result"
    }
   ],
   "source": [
    "token.vector"
   ]
  },
  {
   "cell_type": "code",
   "execution_count": 234,
   "id": "4062a988",
   "metadata": {
    "ExecuteTime": {
     "end_time": "2022-10-07T14:21:05.722220Z",
     "start_time": "2022-10-07T14:21:05.717419Z"
    }
   },
   "outputs": [
    {
     "data": {
      "text/plain": [
       "(300,)"
      ]
     },
     "execution_count": 234,
     "metadata": {},
     "output_type": "execute_result"
    }
   ],
   "source": [
    "token.vector.shape"
   ]
  },
  {
   "cell_type": "code",
   "execution_count": 235,
   "id": "208c056f",
   "metadata": {
    "ExecuteTime": {
     "end_time": "2022-10-07T14:21:10.455117Z",
     "start_time": "2022-10-07T14:21:10.439747Z"
    }
   },
   "outputs": [
    {
     "data": {
      "text/plain": [
       "array([ 3.7032e+00,  4.1982e+00, -5.0002e+00, -1.1322e+01,  3.1702e-02,\n",
       "       -1.0255e+00, -3.0870e+00, -3.7327e+00,  5.3875e-01,  3.5679e+00,\n",
       "        6.9276e+00,  1.5793e+00,  5.1188e-01,  3.1868e+00,  6.1534e+00,\n",
       "       -4.8941e+00, -2.9959e-01, -3.6276e+00,  2.3825e+00, -1.4402e+00,\n",
       "       -4.7577e+00,  4.3607e+00, -4.9814e+00, -3.6672e+00, -1.8052e+00,\n",
       "       -2.1888e+00, -4.2875e+00,  5.5712e+00, -5.2875e+00, -1.8346e+00,\n",
       "       -2.2015e+00, -7.7091e-01, -4.8260e+00,  1.2464e+00, -1.7945e+00,\n",
       "       -8.1280e+00,  1.9994e+00,  1.1413e+00,  3.8032e+00, -2.8783e+00,\n",
       "       -4.2136e-01, -4.4177e+00,  7.7456e+00,  4.9535e+00,  1.7402e+00,\n",
       "        1.8275e-01,  2.4218e+00, -3.1496e+00, -3.8057e-02, -2.9818e+00,\n",
       "        8.3396e-01,  1.1531e+01,  3.5684e+00,  2.5970e+00, -2.8438e+00,\n",
       "        3.2755e+00,  4.5674e+00,  3.2219e+00,  3.4206e+00,  1.1200e-01,\n",
       "        1.0303e-01, -5.8396e+00,  4.6370e-01,  2.7750e+00, -5.3713e+00,\n",
       "       -5.0247e+00, -2.0212e+00,  5.8772e-01,  1.1569e+00,  1.3224e+00,\n",
       "        4.3994e+00,  2.0444e+00,  2.1343e+00, -1.9023e+00,  2.1469e+00,\n",
       "       -2.9085e+00,  4.8429e-01, -3.3544e-01,  1.4484e+00, -1.5770e+00,\n",
       "       -1.1307e+00,  2.8320e+00,  6.2041e-01,  3.7994e+00, -3.1162e-01,\n",
       "       -6.9221e+00,  7.1342e+00,  7.2441e+00, -8.9326e+00, -2.7927e+00,\n",
       "        2.6613e-01,  6.7547e-01,  6.7293e+00, -5.8127e+00,  3.1567e+00,\n",
       "       -1.0634e+00, -1.5733e+00,  1.3534e+00,  3.9218e-01, -8.7077e+00,\n",
       "        3.4229e-02,  3.3251e+00,  4.6713e+00,  1.1865e-02,  9.8345e-01,\n",
       "       -5.3206e-02, -9.1613e+00,  6.0161e+00, -2.2223e+00,  2.5015e+00,\n",
       "       -6.0702e-01, -3.6344e-02,  7.1884e+00, -1.4431e+00,  2.6156e+00,\n",
       "       -1.0148e+00,  4.1225e+00, -1.8472e+00,  4.6292e+00, -2.6506e+00,\n",
       "       -1.8937e+00,  4.1749e+00, -9.6644e+00, -2.4813e+00, -2.7637e+00,\n",
       "       -1.0624e+00,  3.5988e+00,  4.9833e+00,  6.4499e-01,  2.5784e-01,\n",
       "        9.8727e-01, -4.2485e+00,  3.4272e-01, -2.2270e+00, -1.8957e+00,\n",
       "        8.0796e-01, -2.0265e+00, -6.1828e+00, -2.2378e+00,  2.8216e+00,\n",
       "       -2.0050e+00, -3.8924e+00, -2.9364e-01, -1.6128e+00, -6.7874e-01,\n",
       "       -1.9855e+00,  1.8221e-01,  2.1575e+00,  4.9825e-01, -1.7326e+00,\n",
       "        4.7886e+00,  2.9904e+00,  8.3447e-01, -4.7417e+00,  2.4697e+00,\n",
       "        1.3751e+00,  4.5358e+00,  6.5386e-01,  5.5413e+00,  2.3963e+00,\n",
       "        1.0031e+00, -8.0664e-01, -1.4126e+00,  2.8689e+00, -8.7339e+00,\n",
       "       -2.7457e+00, -3.1805e-01, -2.4484e-01,  3.7117e+00, -1.8636e+00,\n",
       "        2.9959e-01,  6.5062e-02, -1.5682e+00,  1.5876e+00,  6.9224e-01,\n",
       "       -6.7734e+00,  3.1065e+00,  2.3973e+00, -3.5138e+00,  3.4460e+00,\n",
       "        3.4252e+00, -5.1906e+00, -6.9372e-01,  1.9435e+00, -1.5669e-01,\n",
       "        1.9710e+00,  8.7743e-01, -8.3110e+00, -4.0306e-01, -5.0165e+00,\n",
       "       -5.6309e-02,  4.9249e+00, -7.1053e+00, -5.2338e+00,  2.3535e+00,\n",
       "       -2.5255e+00, -2.7785e+00,  5.0149e+00, -2.8405e+00, -1.8614e+00,\n",
       "        2.8818e-03,  1.3281e+00,  1.0194e+00,  3.5155e+00,  2.7971e-01,\n",
       "        1.3251e+00,  1.4386e+00, -6.1719e-01, -2.6864e+00, -3.9613e+00,\n",
       "        4.5749e+00, -1.0939e+00,  1.3289e+00, -9.5484e-01, -5.4675e+00,\n",
       "        2.1607e+00,  5.0715e-01,  1.4860e-01, -4.8571e+00, -2.2213e+00,\n",
       "       -2.3498e-01, -4.2629e+00, -8.7002e-01,  3.3796e+00, -4.3989e+00,\n",
       "        6.1047e+00,  3.7927e+00, -6.0760e+00,  3.1840e+00, -8.3104e-01,\n",
       "       -5.4015e+00, -6.2916e+00,  1.2497e+00,  1.8026e+00, -3.4535e+00,\n",
       "       -2.1652e-01, -1.4958e+00,  5.7946e-01,  2.2505e+00,  2.0868e+00,\n",
       "        3.9621e-01,  1.6076e+00,  4.0635e+00, -3.4088e+00, -1.0590e+00,\n",
       "       -3.6376e+00,  2.0501e+00,  1.4785e+00, -1.8906e+00, -2.6215e-01,\n",
       "       -5.1386e+00,  3.7029e+00, -1.8151e+00, -3.2759e+00, -5.1866e+00,\n",
       "        2.5485e-01, -4.5696e+00,  1.0147e+01, -3.0195e+00, -2.4640e+00,\n",
       "        7.5459e-01, -5.6395e+00, -5.4095e+00, -2.4363e+00, -4.3922e-01,\n",
       "       -4.0911e+00, -3.5194e+00,  1.8031e+00, -1.3644e-01,  6.7990e+00,\n",
       "        5.8461e+00,  5.3452e-01,  1.1042e+00,  3.5698e+00,  4.4668e+00,\n",
       "       -2.4537e+00, -2.1832e+00,  1.5293e+00, -1.9414e+00, -8.8675e-02,\n",
       "       -1.1825e+00, -3.9996e+00,  2.8077e+00, -1.8000e+00,  4.2545e+00,\n",
       "       -1.3813e+00, -2.2921e+00,  3.7889e+00, -1.5837e+00, -7.2078e-01,\n",
       "        4.7743e+00, -3.0923e+00,  8.4709e+00,  3.0132e-01, -5.6173e+00,\n",
       "       -5.4610e-01, -4.8459e+00,  6.0303e+00, -6.9664e+00,  3.1445e+00],\n",
       "      dtype=float32)"
      ]
     },
     "execution_count": 235,
     "metadata": {},
     "output_type": "execute_result"
    }
   ],
   "source": [
    "nlp('cat').vector"
   ]
  },
  {
   "cell_type": "code",
   "execution_count": 236,
   "id": "04864751",
   "metadata": {
    "ExecuteTime": {
     "end_time": "2022-10-07T14:21:15.505172Z",
     "start_time": "2022-10-07T14:21:15.497833Z"
    }
   },
   "outputs": [
    {
     "data": {
      "text/plain": [
       "(300,)"
      ]
     },
     "execution_count": 236,
     "metadata": {},
     "output_type": "execute_result"
    }
   ],
   "source": [
    "nlp('cat').vector.shape"
   ]
  },
  {
   "cell_type": "code",
   "execution_count": 237,
   "id": "262e2fe0",
   "metadata": {
    "ExecuteTime": {
     "end_time": "2022-10-07T14:21:21.816999Z",
     "start_time": "2022-10-07T14:21:21.793863Z"
    }
   },
   "outputs": [
    {
     "name": "stdout",
     "output_type": "stream",
     "text": [
      "thank thank 1.0\n",
      "thank you 0.26585453748703003\n",
      "thank ! 0.29259735345840454\n",
      "thank dog 0.061790868639945984\n",
      "thank cat 0.04215025529265404\n",
      "thank lion -0.13132092356681824\n",
      "thank asdfsdf 0.0\n",
      "\n",
      "you thank 0.26585453748703003\n",
      "you you 1.0\n",
      "you ! 0.3429550528526306\n",
      "you dog 0.34409627318382263\n",
      "you cat 0.27984926104545593\n",
      "you lion 0.05796932056546211\n",
      "you asdfsdf 0.0\n",
      "\n",
      "! thank 0.29259735345840454\n",
      "! you 0.3429550528526306\n",
      "! ! 1.0\n",
      "! dog 0.2505742013454437\n",
      "! cat 0.20256751775741577\n",
      "! lion -0.032366640865802765\n",
      "! asdfsdf 0.0\n",
      "\n",
      "dog thank 0.061790868639945984\n",
      "dog you 0.34409627318382263\n",
      "dog ! 0.2505742013454437\n",
      "dog dog 1.0\n",
      "dog cat 0.8220816850662231\n",
      "dog lion 0.29493075609207153\n",
      "dog asdfsdf 0.0\n",
      "\n",
      "cat thank 0.04215025529265404\n",
      "cat you 0.27984926104545593\n",
      "cat ! 0.20256751775741577\n",
      "cat dog 0.8220816850662231\n",
      "cat cat 1.0\n",
      "cat lion 0.3854507803916931\n",
      "cat asdfsdf 0.0\n",
      "\n",
      "lion thank -0.13132092356681824\n",
      "lion you 0.05796932056546211\n",
      "lion ! -0.032366640865802765\n",
      "lion dog 0.29493075609207153\n",
      "lion cat 0.3854507803916931\n",
      "lion lion 1.0\n",
      "lion asdfsdf 0.0\n",
      "\n",
      "asdfsdf thank 0.0\n",
      "asdfsdf you 0.0\n",
      "asdfsdf ! 0.0\n",
      "asdfsdf dog 0.0\n",
      "asdfsdf cat 0.0\n",
      "asdfsdf lion 0.0\n",
      "asdfsdf asdfsdf 1.0\n",
      "\n"
     ]
    },
    {
     "name": "stderr",
     "output_type": "stream",
     "text": [
      "/tmp/ipykernel_183491/2807945866.py:3: UserWarning: [W008] Evaluating Token.similarity based on empty vectors.\n",
      "  print(token1.text, token2.text, token1.similarity(token2))\n"
     ]
    }
   ],
   "source": [
    "for token1 in doc:\n",
    "    for token2 in doc:\n",
    "        print(token1.text, token2.text, token1.similarity(token2))\n",
    "    print()"
   ]
  },
  {
   "cell_type": "code",
   "execution_count": null,
   "id": "9fe28b93",
   "metadata": {},
   "outputs": [],
   "source": []
  },
  {
   "cell_type": "markdown",
   "id": "ca33061a",
   "metadata": {},
   "source": [
    "# Machine Learning Models for Text Classification"
   ]
  },
  {
   "cell_type": "code",
   "execution_count": null,
   "id": "8bf0f969",
   "metadata": {},
   "outputs": [],
   "source": []
  }
 ],
 "metadata": {
  "kernelspec": {
   "display_name": "Python 3 (ipykernel)",
   "language": "python",
   "name": "python3"
  },
  "language_info": {
   "codemirror_mode": {
    "name": "ipython",
    "version": 3
   },
   "file_extension": ".py",
   "mimetype": "text/x-python",
   "name": "python",
   "nbconvert_exporter": "python",
   "pygments_lexer": "ipython3",
   "version": "3.9.12"
  },
  "varInspector": {
   "cols": {
    "lenName": 16,
    "lenType": 16,
    "lenVar": 40
   },
   "kernels_config": {
    "python": {
     "delete_cmd_postfix": "",
     "delete_cmd_prefix": "del ",
     "library": "var_list.py",
     "varRefreshCmd": "print(var_dic_list())"
    },
    "r": {
     "delete_cmd_postfix": ") ",
     "delete_cmd_prefix": "rm(",
     "library": "var_list.r",
     "varRefreshCmd": "cat(var_dic_list()) "
    }
   },
   "types_to_exclude": [
    "module",
    "function",
    "builtin_function_or_method",
    "instance",
    "_Feature"
   ],
   "window_display": false
  }
 },
 "nbformat": 4,
 "nbformat_minor": 5
}
