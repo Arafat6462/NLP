{
 "cells": [
  {
   "cell_type": "markdown",
   "id": "deb3c084",
   "metadata": {},
   "source": [
    "Dataset: https://www.kaggle.com/datasets/kazanova/sentiment140"
   ]
  },
  {
   "cell_type": "code",
   "execution_count": 1,
   "id": "8520f04b",
   "metadata": {
    "ExecuteTime": {
     "end_time": "2022-10-09T09:53:43.106442Z",
     "start_time": "2022-10-09T09:53:43.103959Z"
    },
    "code_folding": []
   },
   "outputs": [],
   "source": [
    "# pip install -U spacy\n",
    "# pip install -U spacy-lookups-data\n",
    "# python -m spacy download en_core_web_sm\n",
    "# python -m spacy download en_core_web_md\n",
    "# python -m spacy download en_core_web_lg"
   ]
  },
  {
   "cell_type": "markdown",
   "id": "b794fe7e",
   "metadata": {
    "heading_collapsed": true
   },
   "source": [
    "### General Feature Extraction\n",
    "   - File loading\n",
    "   - Word counts\n",
    "   - Characters count\n",
    "   - Average characters per word\n",
    "   - Stop words count\n",
    "   - Count #Hash Tags and @Mentions\n",
    "   - if Numeric digits are present in twits\n",
    "   - Upper case word counts\n",
    "\n"
   ]
  },
  {
   "cell_type": "markdown",
   "id": "2c3ea529",
   "metadata": {
    "ExecuteTime": {
     "end_time": "2022-09-23T14:23:10.601874Z",
     "start_time": "2022-09-23T14:23:10.596282Z"
    }
   },
   "source": [
    "###  Preprocessing and Cleaning\n",
    "   -  Lower case\n",
    "   -  Contraction to Expansion\n",
    "   -  Email removal and counts\n",
    "   -  URLs removal and counts\n",
    "   -  Removal of RT\n",
    "   -  Removal of Special Characters\n",
    "   -  Removal of multiple spaces\n",
    "   -  Removal of HTML tags\n",
    "   -  Removal of accented characters\n",
    "   -  Removal of stop Words\n",
    "   -  Conversion into base form of words\n",
    "   -  Common Occurring words Removal\n",
    "   -  Rare Occurring words Removal\n",
    "   -  Word Cloud\n",
    "   -  Spelling Correction\n",
    "   -  Tokenization \n",
    "   -  Lemmatization\n",
    "   -  Detecting Entities using NER\n",
    "   -  Noun Detection\n",
    "   -  Sentence Translation\n",
    "   -  Using inbuilt `Sentiment Classifier`"
   ]
  },
  {
   "cell_type": "markdown",
   "id": "002be3a3",
   "metadata": {},
   "source": [
    "### Advanced Text Processing and Feature Extraction\n",
    "   - N-Gram, Bi-Gram etc\n",
    "   - Bag of Words (BoW)\n",
    "   - Term Frequency Calculation <mark>TF</mark>\n",
    "   - Inverse Document Frequency <mark>IDF</mark>\n",
    "   - `TF-IDF` Term Frequency-Inverse Document Frequency    \n",
    "   - Word Embedding `Word2Vec` using Spacy"
   ]
  },
  {
   "cell_type": "markdown",
   "id": "1a974985",
   "metadata": {},
   "source": [
    "### Machine Learning Models for Text Classification\n",
    "   - SGDClassifier\n",
    "   - LogisticRegression\n",
    "   - LogisticRegressionCV\n",
    "   - LinearSVC\n",
    "   - RandomForestClassifier"
   ]
  },
  {
   "cell_type": "code",
   "execution_count": 2,
   "id": "81f90066",
   "metadata": {
    "ExecuteTime": {
     "end_time": "2022-10-09T09:53:43.593188Z",
     "start_time": "2022-10-09T09:53:43.108166Z"
    }
   },
   "outputs": [],
   "source": [
    "import numpy as np\n",
    "import pandas as pd"
   ]
  },
  {
   "cell_type": "code",
   "execution_count": null,
   "id": "16c4a8ce",
   "metadata": {
    "ExecuteTime": {
     "end_time": "2022-09-25T06:03:43.139099Z",
     "start_time": "2022-09-25T06:03:41.706029Z"
    }
   },
   "outputs": [],
   "source": []
  },
  {
   "cell_type": "code",
   "execution_count": 3,
   "id": "863ba066",
   "metadata": {
    "ExecuteTime": {
     "end_time": "2022-10-09T09:53:43.597208Z",
     "start_time": "2022-10-09T09:53:43.594887Z"
    }
   },
   "outputs": [],
   "source": [
    "pd.set_option('display.max_colwidth', None)"
   ]
  },
  {
   "cell_type": "code",
   "execution_count": 4,
   "id": "0c632ab8",
   "metadata": {
    "ExecuteTime": {
     "end_time": "2022-10-09T09:53:46.932471Z",
     "start_time": "2022-10-09T09:53:43.598504Z"
    }
   },
   "outputs": [],
   "source": [
    "df = pd.read_csv('twitter16m.csv', encoding='latin1', header=None )"
   ]
  },
  {
   "cell_type": "code",
   "execution_count": 5,
   "id": "9164c665",
   "metadata": {
    "ExecuteTime": {
     "end_time": "2022-10-09T09:53:46.956746Z",
     "start_time": "2022-10-09T09:53:46.934617Z"
    }
   },
   "outputs": [
    {
     "data": {
      "text/html": [
       "<div>\n",
       "<style scoped>\n",
       "    .dataframe tbody tr th:only-of-type {\n",
       "        vertical-align: middle;\n",
       "    }\n",
       "\n",
       "    .dataframe tbody tr th {\n",
       "        vertical-align: top;\n",
       "    }\n",
       "\n",
       "    .dataframe thead th {\n",
       "        text-align: right;\n",
       "    }\n",
       "</style>\n",
       "<table border=\"1\" class=\"dataframe\">\n",
       "  <thead>\n",
       "    <tr style=\"text-align: right;\">\n",
       "      <th></th>\n",
       "      <th>0</th>\n",
       "      <th>1</th>\n",
       "      <th>2</th>\n",
       "      <th>3</th>\n",
       "      <th>4</th>\n",
       "      <th>5</th>\n",
       "    </tr>\n",
       "  </thead>\n",
       "  <tbody>\n",
       "    <tr>\n",
       "      <th>0</th>\n",
       "      <td>0</td>\n",
       "      <td>1467810369</td>\n",
       "      <td>Mon Apr 06 22:19:45 PDT 2009</td>\n",
       "      <td>NO_QUERY</td>\n",
       "      <td>_TheSpecialOne_</td>\n",
       "      <td>@switchfoot http://twitpic.com/2y1zl - Awww, that's a bummer.  You shoulda got David Carr of Third Day to do it. ;D</td>\n",
       "    </tr>\n",
       "    <tr>\n",
       "      <th>1</th>\n",
       "      <td>0</td>\n",
       "      <td>1467810672</td>\n",
       "      <td>Mon Apr 06 22:19:49 PDT 2009</td>\n",
       "      <td>NO_QUERY</td>\n",
       "      <td>scotthamilton</td>\n",
       "      <td>is upset that he can't update his Facebook by texting it... and might cry as a result  School today also. Blah!</td>\n",
       "    </tr>\n",
       "    <tr>\n",
       "      <th>2</th>\n",
       "      <td>0</td>\n",
       "      <td>1467810917</td>\n",
       "      <td>Mon Apr 06 22:19:53 PDT 2009</td>\n",
       "      <td>NO_QUERY</td>\n",
       "      <td>mattycus</td>\n",
       "      <td>@Kenichan I dived many times for the ball. Managed to save 50%  The rest go out of bounds</td>\n",
       "    </tr>\n",
       "    <tr>\n",
       "      <th>3</th>\n",
       "      <td>0</td>\n",
       "      <td>1467811184</td>\n",
       "      <td>Mon Apr 06 22:19:57 PDT 2009</td>\n",
       "      <td>NO_QUERY</td>\n",
       "      <td>ElleCTF</td>\n",
       "      <td>my whole body feels itchy and like its on fire</td>\n",
       "    </tr>\n",
       "    <tr>\n",
       "      <th>4</th>\n",
       "      <td>0</td>\n",
       "      <td>1467811193</td>\n",
       "      <td>Mon Apr 06 22:19:57 PDT 2009</td>\n",
       "      <td>NO_QUERY</td>\n",
       "      <td>Karoli</td>\n",
       "      <td>@nationwideclass no, it's not behaving at all. i'm mad. why am i here? because I can't see you all over there.</td>\n",
       "    </tr>\n",
       "  </tbody>\n",
       "</table>\n",
       "</div>"
      ],
      "text/plain": [
       "   0           1                             2         3                4  \\\n",
       "0  0  1467810369  Mon Apr 06 22:19:45 PDT 2009  NO_QUERY  _TheSpecialOne_   \n",
       "1  0  1467810672  Mon Apr 06 22:19:49 PDT 2009  NO_QUERY    scotthamilton   \n",
       "2  0  1467810917  Mon Apr 06 22:19:53 PDT 2009  NO_QUERY         mattycus   \n",
       "3  0  1467811184  Mon Apr 06 22:19:57 PDT 2009  NO_QUERY          ElleCTF   \n",
       "4  0  1467811193  Mon Apr 06 22:19:57 PDT 2009  NO_QUERY           Karoli   \n",
       "\n",
       "                                                                                                                     5  \n",
       "0  @switchfoot http://twitpic.com/2y1zl - Awww, that's a bummer.  You shoulda got David Carr of Third Day to do it. ;D  \n",
       "1      is upset that he can't update his Facebook by texting it... and might cry as a result  School today also. Blah!  \n",
       "2                            @Kenichan I dived many times for the ball. Managed to save 50%  The rest go out of bounds  \n",
       "3                                                                      my whole body feels itchy and like its on fire   \n",
       "4      @nationwideclass no, it's not behaving at all. i'm mad. why am i here? because I can't see you all over there.   "
      ]
     },
     "execution_count": 5,
     "metadata": {},
     "output_type": "execute_result"
    }
   ],
   "source": [
    "df.head()"
   ]
  },
  {
   "cell_type": "code",
   "execution_count": 6,
   "id": "1778e90a",
   "metadata": {
    "ExecuteTime": {
     "end_time": "2022-10-09T09:53:46.999957Z",
     "start_time": "2022-10-09T09:53:46.958793Z"
    }
   },
   "outputs": [],
   "source": [
    "df = df[[5,0]]\n",
    "df.columns = ['tweets', 'sentiment']"
   ]
  },
  {
   "cell_type": "code",
   "execution_count": 7,
   "id": "80075e61",
   "metadata": {
    "ExecuteTime": {
     "end_time": "2022-10-09T09:53:47.012018Z",
     "start_time": "2022-10-09T09:53:47.002547Z"
    }
   },
   "outputs": [
    {
     "data": {
      "text/html": [
       "<div>\n",
       "<style scoped>\n",
       "    .dataframe tbody tr th:only-of-type {\n",
       "        vertical-align: middle;\n",
       "    }\n",
       "\n",
       "    .dataframe tbody tr th {\n",
       "        vertical-align: top;\n",
       "    }\n",
       "\n",
       "    .dataframe thead th {\n",
       "        text-align: right;\n",
       "    }\n",
       "</style>\n",
       "<table border=\"1\" class=\"dataframe\">\n",
       "  <thead>\n",
       "    <tr style=\"text-align: right;\">\n",
       "      <th></th>\n",
       "      <th>tweets</th>\n",
       "      <th>sentiment</th>\n",
       "    </tr>\n",
       "  </thead>\n",
       "  <tbody>\n",
       "    <tr>\n",
       "      <th>0</th>\n",
       "      <td>@switchfoot http://twitpic.com/2y1zl - Awww, that's a bummer.  You shoulda got David Carr of Third Day to do it. ;D</td>\n",
       "      <td>0</td>\n",
       "    </tr>\n",
       "    <tr>\n",
       "      <th>1</th>\n",
       "      <td>is upset that he can't update his Facebook by texting it... and might cry as a result  School today also. Blah!</td>\n",
       "      <td>0</td>\n",
       "    </tr>\n",
       "    <tr>\n",
       "      <th>2</th>\n",
       "      <td>@Kenichan I dived many times for the ball. Managed to save 50%  The rest go out of bounds</td>\n",
       "      <td>0</td>\n",
       "    </tr>\n",
       "    <tr>\n",
       "      <th>3</th>\n",
       "      <td>my whole body feels itchy and like its on fire</td>\n",
       "      <td>0</td>\n",
       "    </tr>\n",
       "    <tr>\n",
       "      <th>4</th>\n",
       "      <td>@nationwideclass no, it's not behaving at all. i'm mad. why am i here? because I can't see you all over there.</td>\n",
       "      <td>0</td>\n",
       "    </tr>\n",
       "  </tbody>\n",
       "</table>\n",
       "</div>"
      ],
      "text/plain": [
       "                                                                                                                tweets  \\\n",
       "0  @switchfoot http://twitpic.com/2y1zl - Awww, that's a bummer.  You shoulda got David Carr of Third Day to do it. ;D   \n",
       "1      is upset that he can't update his Facebook by texting it... and might cry as a result  School today also. Blah!   \n",
       "2                            @Kenichan I dived many times for the ball. Managed to save 50%  The rest go out of bounds   \n",
       "3                                                                      my whole body feels itchy and like its on fire    \n",
       "4      @nationwideclass no, it's not behaving at all. i'm mad. why am i here? because I can't see you all over there.    \n",
       "\n",
       "   sentiment  \n",
       "0          0  \n",
       "1          0  \n",
       "2          0  \n",
       "3          0  \n",
       "4          0  "
      ]
     },
     "execution_count": 7,
     "metadata": {},
     "output_type": "execute_result"
    }
   ],
   "source": [
    "df.head()"
   ]
  },
  {
   "cell_type": "code",
   "execution_count": 8,
   "id": "ac747919",
   "metadata": {
    "ExecuteTime": {
     "end_time": "2022-10-09T09:53:47.027771Z",
     "start_time": "2022-10-09T09:53:47.013918Z"
    }
   },
   "outputs": [
    {
     "data": {
      "text/plain": [
       "0    800000\n",
       "4    800000\n",
       "Name: sentiment, dtype: int64"
      ]
     },
     "execution_count": 8,
     "metadata": {},
     "output_type": "execute_result"
    }
   ],
   "source": [
    "# count unique value of a column\n",
    "df['sentiment'].value_counts()"
   ]
  },
  {
   "cell_type": "code",
   "execution_count": 9,
   "id": "267c71f8",
   "metadata": {
    "ExecuteTime": {
     "end_time": "2022-10-09T09:53:47.032163Z",
     "start_time": "2022-10-09T09:53:47.029986Z"
    }
   },
   "outputs": [],
   "source": [
    "sent_map = {0: 'negative', 4:'positive'}"
   ]
  },
  {
   "cell_type": "markdown",
   "id": "d5239ff8",
   "metadata": {},
   "source": [
    "##### Word counts"
   ]
  },
  {
   "cell_type": "code",
   "execution_count": 10,
   "id": "6fa89243",
   "metadata": {
    "ExecuteTime": {
     "end_time": "2022-10-09T09:53:48.380082Z",
     "start_time": "2022-10-09T09:53:47.033566Z"
    }
   },
   "outputs": [],
   "source": [
    "# lambda function take input row by row in 'x' variable.\n",
    "# some value may have numeric value that's why we use 'str()'\n",
    "df['word_counts'] = df['tweets'].apply(lambda x: len(str(x).split())) "
   ]
  },
  {
   "cell_type": "code",
   "execution_count": 11,
   "id": "66f91205",
   "metadata": {
    "ExecuteTime": {
     "end_time": "2022-10-09T09:53:48.390239Z",
     "start_time": "2022-10-09T09:53:48.381939Z"
    }
   },
   "outputs": [
    {
     "data": {
      "text/html": [
       "<div>\n",
       "<style scoped>\n",
       "    .dataframe tbody tr th:only-of-type {\n",
       "        vertical-align: middle;\n",
       "    }\n",
       "\n",
       "    .dataframe tbody tr th {\n",
       "        vertical-align: top;\n",
       "    }\n",
       "\n",
       "    .dataframe thead th {\n",
       "        text-align: right;\n",
       "    }\n",
       "</style>\n",
       "<table border=\"1\" class=\"dataframe\">\n",
       "  <thead>\n",
       "    <tr style=\"text-align: right;\">\n",
       "      <th></th>\n",
       "      <th>tweets</th>\n",
       "      <th>sentiment</th>\n",
       "      <th>word_counts</th>\n",
       "    </tr>\n",
       "  </thead>\n",
       "  <tbody>\n",
       "    <tr>\n",
       "      <th>0</th>\n",
       "      <td>@switchfoot http://twitpic.com/2y1zl - Awww, that's a bummer.  You shoulda got David Carr of Third Day to do it. ;D</td>\n",
       "      <td>0</td>\n",
       "      <td>19</td>\n",
       "    </tr>\n",
       "    <tr>\n",
       "      <th>1</th>\n",
       "      <td>is upset that he can't update his Facebook by texting it... and might cry as a result  School today also. Blah!</td>\n",
       "      <td>0</td>\n",
       "      <td>21</td>\n",
       "    </tr>\n",
       "    <tr>\n",
       "      <th>2</th>\n",
       "      <td>@Kenichan I dived many times for the ball. Managed to save 50%  The rest go out of bounds</td>\n",
       "      <td>0</td>\n",
       "      <td>18</td>\n",
       "    </tr>\n",
       "    <tr>\n",
       "      <th>3</th>\n",
       "      <td>my whole body feels itchy and like its on fire</td>\n",
       "      <td>0</td>\n",
       "      <td>10</td>\n",
       "    </tr>\n",
       "    <tr>\n",
       "      <th>4</th>\n",
       "      <td>@nationwideclass no, it's not behaving at all. i'm mad. why am i here? because I can't see you all over there.</td>\n",
       "      <td>0</td>\n",
       "      <td>21</td>\n",
       "    </tr>\n",
       "  </tbody>\n",
       "</table>\n",
       "</div>"
      ],
      "text/plain": [
       "                                                                                                                tweets  \\\n",
       "0  @switchfoot http://twitpic.com/2y1zl - Awww, that's a bummer.  You shoulda got David Carr of Third Day to do it. ;D   \n",
       "1      is upset that he can't update his Facebook by texting it... and might cry as a result  School today also. Blah!   \n",
       "2                            @Kenichan I dived many times for the ball. Managed to save 50%  The rest go out of bounds   \n",
       "3                                                                      my whole body feels itchy and like its on fire    \n",
       "4      @nationwideclass no, it's not behaving at all. i'm mad. why am i here? because I can't see you all over there.    \n",
       "\n",
       "   sentiment  word_counts  \n",
       "0          0           19  \n",
       "1          0           21  \n",
       "2          0           18  \n",
       "3          0           10  \n",
       "4          0           21  "
      ]
     },
     "execution_count": 11,
     "metadata": {},
     "output_type": "execute_result"
    }
   ],
   "source": [
    "df.head()"
   ]
  },
  {
   "cell_type": "markdown",
   "id": "2c98d3fa",
   "metadata": {},
   "source": [
    "##### Characters count"
   ]
  },
  {
   "cell_type": "code",
   "execution_count": 12,
   "id": "8fb1e9ec",
   "metadata": {
    "ExecuteTime": {
     "end_time": "2022-10-09T09:53:48.804262Z",
     "start_time": "2022-10-09T09:53:48.391946Z"
    }
   },
   "outputs": [],
   "source": [
    "df['char_counts'] = df['tweets'].apply(lambda x: len(x))"
   ]
  },
  {
   "cell_type": "code",
   "execution_count": 13,
   "id": "0a409e19",
   "metadata": {
    "ExecuteTime": {
     "end_time": "2022-10-09T09:53:48.815013Z",
     "start_time": "2022-10-09T09:53:48.806243Z"
    }
   },
   "outputs": [
    {
     "data": {
      "text/html": [
       "<div>\n",
       "<style scoped>\n",
       "    .dataframe tbody tr th:only-of-type {\n",
       "        vertical-align: middle;\n",
       "    }\n",
       "\n",
       "    .dataframe tbody tr th {\n",
       "        vertical-align: top;\n",
       "    }\n",
       "\n",
       "    .dataframe thead th {\n",
       "        text-align: right;\n",
       "    }\n",
       "</style>\n",
       "<table border=\"1\" class=\"dataframe\">\n",
       "  <thead>\n",
       "    <tr style=\"text-align: right;\">\n",
       "      <th></th>\n",
       "      <th>tweets</th>\n",
       "      <th>sentiment</th>\n",
       "      <th>word_counts</th>\n",
       "      <th>char_counts</th>\n",
       "    </tr>\n",
       "  </thead>\n",
       "  <tbody>\n",
       "    <tr>\n",
       "      <th>0</th>\n",
       "      <td>@switchfoot http://twitpic.com/2y1zl - Awww, that's a bummer.  You shoulda got David Carr of Third Day to do it. ;D</td>\n",
       "      <td>0</td>\n",
       "      <td>19</td>\n",
       "      <td>115</td>\n",
       "    </tr>\n",
       "    <tr>\n",
       "      <th>1</th>\n",
       "      <td>is upset that he can't update his Facebook by texting it... and might cry as a result  School today also. Blah!</td>\n",
       "      <td>0</td>\n",
       "      <td>21</td>\n",
       "      <td>111</td>\n",
       "    </tr>\n",
       "    <tr>\n",
       "      <th>2</th>\n",
       "      <td>@Kenichan I dived many times for the ball. Managed to save 50%  The rest go out of bounds</td>\n",
       "      <td>0</td>\n",
       "      <td>18</td>\n",
       "      <td>89</td>\n",
       "    </tr>\n",
       "    <tr>\n",
       "      <th>3</th>\n",
       "      <td>my whole body feels itchy and like its on fire</td>\n",
       "      <td>0</td>\n",
       "      <td>10</td>\n",
       "      <td>47</td>\n",
       "    </tr>\n",
       "    <tr>\n",
       "      <th>4</th>\n",
       "      <td>@nationwideclass no, it's not behaving at all. i'm mad. why am i here? because I can't see you all over there.</td>\n",
       "      <td>0</td>\n",
       "      <td>21</td>\n",
       "      <td>111</td>\n",
       "    </tr>\n",
       "  </tbody>\n",
       "</table>\n",
       "</div>"
      ],
      "text/plain": [
       "                                                                                                                tweets  \\\n",
       "0  @switchfoot http://twitpic.com/2y1zl - Awww, that's a bummer.  You shoulda got David Carr of Third Day to do it. ;D   \n",
       "1      is upset that he can't update his Facebook by texting it... and might cry as a result  School today also. Blah!   \n",
       "2                            @Kenichan I dived many times for the ball. Managed to save 50%  The rest go out of bounds   \n",
       "3                                                                      my whole body feels itchy and like its on fire    \n",
       "4      @nationwideclass no, it's not behaving at all. i'm mad. why am i here? because I can't see you all over there.    \n",
       "\n",
       "   sentiment  word_counts  char_counts  \n",
       "0          0           19          115  \n",
       "1          0           21          111  \n",
       "2          0           18           89  \n",
       "3          0           10           47  \n",
       "4          0           21          111  "
      ]
     },
     "execution_count": 13,
     "metadata": {},
     "output_type": "execute_result"
    }
   ],
   "source": [
    "df.head()"
   ]
  },
  {
   "cell_type": "markdown",
   "id": "1d470203",
   "metadata": {},
   "source": [
    "##### Average characters per word ( average word length)"
   ]
  },
  {
   "cell_type": "code",
   "execution_count": 14,
   "id": "7e6ee6d9",
   "metadata": {
    "ExecuteTime": {
     "end_time": "2022-10-09T09:53:48.823986Z",
     "start_time": "2022-10-09T09:53:48.816976Z"
    }
   },
   "outputs": [],
   "source": [
    "def get_average_word_len(x):\n",
    "    words = x.split()\n",
    "    word_len = 0\n",
    "    for word in words:\n",
    "        word_len += len(word)\n",
    "    return word_len/len(words) # != len(x)/len(words)"
   ]
  },
  {
   "cell_type": "code",
   "execution_count": 15,
   "id": "7b534249",
   "metadata": {
    "ExecuteTime": {
     "end_time": "2022-10-09T09:53:51.053711Z",
     "start_time": "2022-10-09T09:53:48.825888Z"
    }
   },
   "outputs": [],
   "source": [
    "df['avg_word_len'] = df['tweets'].apply(lambda x: get_average_word_len(x))"
   ]
  },
  {
   "cell_type": "code",
   "execution_count": 16,
   "id": "b8e8bc7f",
   "metadata": {
    "ExecuteTime": {
     "end_time": "2022-10-09T09:53:51.065218Z",
     "start_time": "2022-10-09T09:53:51.056093Z"
    }
   },
   "outputs": [
    {
     "data": {
      "text/html": [
       "<div>\n",
       "<style scoped>\n",
       "    .dataframe tbody tr th:only-of-type {\n",
       "        vertical-align: middle;\n",
       "    }\n",
       "\n",
       "    .dataframe tbody tr th {\n",
       "        vertical-align: top;\n",
       "    }\n",
       "\n",
       "    .dataframe thead th {\n",
       "        text-align: right;\n",
       "    }\n",
       "</style>\n",
       "<table border=\"1\" class=\"dataframe\">\n",
       "  <thead>\n",
       "    <tr style=\"text-align: right;\">\n",
       "      <th></th>\n",
       "      <th>tweets</th>\n",
       "      <th>sentiment</th>\n",
       "      <th>word_counts</th>\n",
       "      <th>char_counts</th>\n",
       "      <th>avg_word_len</th>\n",
       "    </tr>\n",
       "  </thead>\n",
       "  <tbody>\n",
       "    <tr>\n",
       "      <th>0</th>\n",
       "      <td>@switchfoot http://twitpic.com/2y1zl - Awww, that's a bummer.  You shoulda got David Carr of Third Day to do it. ;D</td>\n",
       "      <td>0</td>\n",
       "      <td>19</td>\n",
       "      <td>115</td>\n",
       "      <td>5.052632</td>\n",
       "    </tr>\n",
       "    <tr>\n",
       "      <th>1</th>\n",
       "      <td>is upset that he can't update his Facebook by texting it... and might cry as a result  School today also. Blah!</td>\n",
       "      <td>0</td>\n",
       "      <td>21</td>\n",
       "      <td>111</td>\n",
       "      <td>4.285714</td>\n",
       "    </tr>\n",
       "    <tr>\n",
       "      <th>2</th>\n",
       "      <td>@Kenichan I dived many times for the ball. Managed to save 50%  The rest go out of bounds</td>\n",
       "      <td>0</td>\n",
       "      <td>18</td>\n",
       "      <td>89</td>\n",
       "      <td>3.944444</td>\n",
       "    </tr>\n",
       "    <tr>\n",
       "      <th>3</th>\n",
       "      <td>my whole body feels itchy and like its on fire</td>\n",
       "      <td>0</td>\n",
       "      <td>10</td>\n",
       "      <td>47</td>\n",
       "      <td>3.700000</td>\n",
       "    </tr>\n",
       "    <tr>\n",
       "      <th>4</th>\n",
       "      <td>@nationwideclass no, it's not behaving at all. i'm mad. why am i here? because I can't see you all over there.</td>\n",
       "      <td>0</td>\n",
       "      <td>21</td>\n",
       "      <td>111</td>\n",
       "      <td>4.285714</td>\n",
       "    </tr>\n",
       "  </tbody>\n",
       "</table>\n",
       "</div>"
      ],
      "text/plain": [
       "                                                                                                                tweets  \\\n",
       "0  @switchfoot http://twitpic.com/2y1zl - Awww, that's a bummer.  You shoulda got David Carr of Third Day to do it. ;D   \n",
       "1      is upset that he can't update his Facebook by texting it... and might cry as a result  School today also. Blah!   \n",
       "2                            @Kenichan I dived many times for the ball. Managed to save 50%  The rest go out of bounds   \n",
       "3                                                                      my whole body feels itchy and like its on fire    \n",
       "4      @nationwideclass no, it's not behaving at all. i'm mad. why am i here? because I can't see you all over there.    \n",
       "\n",
       "   sentiment  word_counts  char_counts  avg_word_len  \n",
       "0          0           19          115      5.052632  \n",
       "1          0           21          111      4.285714  \n",
       "2          0           18           89      3.944444  \n",
       "3          0           10           47      3.700000  \n",
       "4          0           21          111      4.285714  "
      ]
     },
     "execution_count": 16,
     "metadata": {},
     "output_type": "execute_result"
    }
   ],
   "source": [
    "df.head()"
   ]
  },
  {
   "cell_type": "markdown",
   "id": "450ed2c7",
   "metadata": {},
   "source": [
    "##### Stop words count"
   ]
  },
  {
   "cell_type": "code",
   "execution_count": 17,
   "id": "3082b376",
   "metadata": {
    "ExecuteTime": {
     "end_time": "2022-10-09T09:53:54.252206Z",
     "start_time": "2022-10-09T09:53:51.066975Z"
    }
   },
   "outputs": [
    {
     "name": "stderr",
     "output_type": "stream",
     "text": [
      "2022-10-09 15:53:52.184348: I tensorflow/stream_executor/platform/default/dso_loader.cc:49] Successfully opened dynamic library libcudart.so.10.1\n",
      "2022-10-09 15:53:53.765780: I tensorflow/compiler/jit/xla_cpu_device.cc:41] Not creating XLA devices, tf_xla_enable_xla_devices not set\n",
      "2022-10-09 15:53:53.766154: W tensorflow/stream_executor/platform/default/dso_loader.cc:60] Could not load dynamic library 'libcuda.so.1'; dlerror: libcuda.so.1: cannot open shared object file: No such file or directory\n",
      "2022-10-09 15:53:53.766166: W tensorflow/stream_executor/cuda/cuda_driver.cc:326] failed call to cuInit: UNKNOWN ERROR (303)\n",
      "2022-10-09 15:53:53.766180: I tensorflow/stream_executor/cuda/cuda_diagnostics.cc:156] kernel driver does not appear to be running on this host (arafat-pc): /proc/driver/nvidia/version does not exist\n"
     ]
    }
   ],
   "source": [
    "import spacy\n",
    "from spacy.lang.en.stop_words import STOP_WORDS"
   ]
  },
  {
   "cell_type": "code",
   "execution_count": 18,
   "id": "41376004",
   "metadata": {
    "ExecuteTime": {
     "end_time": "2022-10-09T09:53:54.255896Z",
     "start_time": "2022-10-09T09:53:54.253297Z"
    }
   },
   "outputs": [
    {
     "name": "stdout",
     "output_type": "stream",
     "text": [
      "{'which', 'nobody', 'whatever', '’d', 'he', 'three', 'for', 'along', 'sometimes', 'have', 'thereupon', 'mostly', 'side', 'except', 'n’t', 'become', '’m', 'through', 'out', 'this', 'up', \"'re\", 'same', 'our', 'each', 'yourselves', 'own', 'into', 'here', 'his', 'four', 'last', 'eleven', '‘re', 'put', 'formerly', 'just', 'but', 'see', '’s', 'everyone', 'herself', 'seems', 'herein', 'please', 'few', '’ll', 'ever', 'can', 'below', 'during', 'onto', 'after', 'without', 'within', 'namely', 'used', 'a', 'amongst', 'until', 'noone', '’ve', 'they', 'over', 'someone', 'already', 'say', 'hereby', 'fifty', 'nowhere', 'those', 'some', 'upon', 'anyway', 'beside', \"'ll\", 'had', 'too', 'does', 'several', 'one', 'elsewhere', \"'m\", 'across', 'hence', 'show', 'did', 'when', 'other', 'every', 'therefore', 'mine', 'twelve', 'nor', 'my', 'what', 'whereby', 'done', \"'d\", 'being', 'himself', 'eight', 'whenever', 'many', 'why', 'very', 'also', 'not', 'should', 'front', 'yours', 'more', 'down', 'indeed', 'amount', 'now', 'against', 'moreover', 'least', 'there', 'go', 'various', 'any', 'afterwards', 'if', 'most', 'nevertheless', 'you', 'latter', 'its', 'becoming', 'do', 'part', 'becomes', 'hers', 'their', 'off', 'seeming', 'thence', 'towards', 'seem', '‘ve', 'itself', 'less', 'me', 'further', 'name', 'always', 'back', 'in', 'are', 'doing', 'us', 'beforehand', 'with', 'twenty', 'whereafter', 'has', 'everywhere', 'none', 'alone', 'perhaps', 'thereafter', 'unless', 'bottom', 'thus', 'together', 'keep', 'whence', 'anywhere', 'by', 'will', 'move', 'were', 'something', 'ourselves', 'another', 'sometime', 'although', 'could', 'next', 'whom', 'besides', 'using', 'almost', 'otherwise', 'full', 'seemed', 'sixty', 'somewhere', 'due', 'get', 'whoever', 'whose', 'be', 'so', 'whither', 'behind', '‘s', '‘m', 'above', 'we', 'still', 'take', 'since', 'even', 'neither', 'been', 'must', 'never', 'between', 'under', 'at', 'about', 'others', 'only', 'ten', 'former', 'n‘t', 'whereupon', 'however', 'them', 'regarding', 'first', 'quite', 'whereas', 'of', 'may', 'well', 'and', \"'s\", 'make', 'him', 'toward', 'though', 're', 'often', 'she', 'whole', 'all', 'per', 'wherever', \"'ve\", 'became', 'then', 'or', 'either', 'might', 'than', 'it', 'top', 'these', 'her', 'anyone', 'that', 'yet', 'much', 'would', 'whether', 'an', 'am', 'because', 'no', 'hereafter', \"n't\", 'latterly', '’re', 'as', 'yourself', 'cannot', 'anyhow', 'while', 'anything', 'somehow', 'was', 'throughout', 'nothing', 'ours', 'your', 'serious', 'how', 'among', '‘ll', 'i', 'else', 'thru', 'give', 'six', 'five', 'via', 'fifteen', 'meanwhile', 'to', 'around', 'thereby', 'ca', 'is', 'call', 'on', 'nine', 'from', 'again', 'such', 'enough', 'where', 'beyond', 'hundred', 'before', 'two', 'both', 'therein', 'forty', 'myself', 'third', 'who', '‘d', 'everything', 'really', 'once', 'made', 'rather', 'hereupon', 'empty', 'the', 'themselves', 'wherein'}\n"
     ]
    }
   ],
   "source": [
    "# for finding the semantic meaning of a sentense, stopword is important.\n",
    "# before delete stop word, think what you want to do.\n",
    "print(STOP_WORDS)"
   ]
  },
  {
   "cell_type": "code",
   "execution_count": 19,
   "id": "5ba05938",
   "metadata": {
    "ExecuteTime": {
     "end_time": "2022-10-09T09:53:54.261471Z",
     "start_time": "2022-10-09T09:53:54.257408Z"
    }
   },
   "outputs": [
    {
     "data": {
      "text/plain": [
       "['my', 'name', 'is']"
      ]
     },
     "execution_count": 19,
     "metadata": {},
     "output_type": "execute_result"
    }
   ],
   "source": [
    "# example of creating a list that's contain stopwords and find the len of that list.\n",
    "x = 'my name is arafat'\n",
    "[word for word in x.split() if word in STOP_WORDS]"
   ]
  },
  {
   "cell_type": "code",
   "execution_count": 20,
   "id": "003ef626",
   "metadata": {
    "ExecuteTime": {
     "end_time": "2022-10-09T09:53:54.266395Z",
     "start_time": "2022-10-09T09:53:54.262843Z"
    },
    "scrolled": true
   },
   "outputs": [
    {
     "data": {
      "text/plain": [
       "3"
      ]
     },
     "execution_count": 20,
     "metadata": {},
     "output_type": "execute_result"
    }
   ],
   "source": [
    "len([word for word in x.split() if word in STOP_WORDS])"
   ]
  },
  {
   "cell_type": "code",
   "execution_count": null,
   "id": "8d42f7eb",
   "metadata": {},
   "outputs": [],
   "source": []
  },
  {
   "cell_type": "code",
   "execution_count": 21,
   "id": "e89b1c36",
   "metadata": {
    "ExecuteTime": {
     "end_time": "2022-10-09T09:53:57.143062Z",
     "start_time": "2022-10-09T09:53:54.268081Z"
    }
   },
   "outputs": [],
   "source": [
    "df['stop_word_len'] =  df['tweets'].apply(lambda x: len([word for word in x.split() if word in STOP_WORDS]))"
   ]
  },
  {
   "cell_type": "code",
   "execution_count": 22,
   "id": "1c7e8831",
   "metadata": {
    "ExecuteTime": {
     "end_time": "2022-10-09T09:53:57.155043Z",
     "start_time": "2022-10-09T09:53:57.144548Z"
    }
   },
   "outputs": [
    {
     "data": {
      "text/html": [
       "<div>\n",
       "<style scoped>\n",
       "    .dataframe tbody tr th:only-of-type {\n",
       "        vertical-align: middle;\n",
       "    }\n",
       "\n",
       "    .dataframe tbody tr th {\n",
       "        vertical-align: top;\n",
       "    }\n",
       "\n",
       "    .dataframe thead th {\n",
       "        text-align: right;\n",
       "    }\n",
       "</style>\n",
       "<table border=\"1\" class=\"dataframe\">\n",
       "  <thead>\n",
       "    <tr style=\"text-align: right;\">\n",
       "      <th></th>\n",
       "      <th>tweets</th>\n",
       "      <th>sentiment</th>\n",
       "      <th>word_counts</th>\n",
       "      <th>char_counts</th>\n",
       "      <th>avg_word_len</th>\n",
       "      <th>stop_word_len</th>\n",
       "    </tr>\n",
       "  </thead>\n",
       "  <tbody>\n",
       "    <tr>\n",
       "      <th>0</th>\n",
       "      <td>@switchfoot http://twitpic.com/2y1zl - Awww, that's a bummer.  You shoulda got David Carr of Third Day to do it. ;D</td>\n",
       "      <td>0</td>\n",
       "      <td>19</td>\n",
       "      <td>115</td>\n",
       "      <td>5.052632</td>\n",
       "      <td>4</td>\n",
       "    </tr>\n",
       "    <tr>\n",
       "      <th>1</th>\n",
       "      <td>is upset that he can't update his Facebook by texting it... and might cry as a result  School today also. Blah!</td>\n",
       "      <td>0</td>\n",
       "      <td>21</td>\n",
       "      <td>111</td>\n",
       "      <td>4.285714</td>\n",
       "      <td>9</td>\n",
       "    </tr>\n",
       "    <tr>\n",
       "      <th>2</th>\n",
       "      <td>@Kenichan I dived many times for the ball. Managed to save 50%  The rest go out of bounds</td>\n",
       "      <td>0</td>\n",
       "      <td>18</td>\n",
       "      <td>89</td>\n",
       "      <td>3.944444</td>\n",
       "      <td>7</td>\n",
       "    </tr>\n",
       "    <tr>\n",
       "      <th>3</th>\n",
       "      <td>my whole body feels itchy and like its on fire</td>\n",
       "      <td>0</td>\n",
       "      <td>10</td>\n",
       "      <td>47</td>\n",
       "      <td>3.700000</td>\n",
       "      <td>5</td>\n",
       "    </tr>\n",
       "    <tr>\n",
       "      <th>4</th>\n",
       "      <td>@nationwideclass no, it's not behaving at all. i'm mad. why am i here? because I can't see you all over there.</td>\n",
       "      <td>0</td>\n",
       "      <td>21</td>\n",
       "      <td>111</td>\n",
       "      <td>4.285714</td>\n",
       "      <td>10</td>\n",
       "    </tr>\n",
       "  </tbody>\n",
       "</table>\n",
       "</div>"
      ],
      "text/plain": [
       "                                                                                                                tweets  \\\n",
       "0  @switchfoot http://twitpic.com/2y1zl - Awww, that's a bummer.  You shoulda got David Carr of Third Day to do it. ;D   \n",
       "1      is upset that he can't update his Facebook by texting it... and might cry as a result  School today also. Blah!   \n",
       "2                            @Kenichan I dived many times for the ball. Managed to save 50%  The rest go out of bounds   \n",
       "3                                                                      my whole body feels itchy and like its on fire    \n",
       "4      @nationwideclass no, it's not behaving at all. i'm mad. why am i here? because I can't see you all over there.    \n",
       "\n",
       "   sentiment  word_counts  char_counts  avg_word_len  stop_word_len  \n",
       "0          0           19          115      5.052632              4  \n",
       "1          0           21          111      4.285714              9  \n",
       "2          0           18           89      3.944444              7  \n",
       "3          0           10           47      3.700000              5  \n",
       "4          0           21          111      4.285714             10  "
      ]
     },
     "execution_count": 22,
     "metadata": {},
     "output_type": "execute_result"
    }
   ],
   "source": [
    "df.head()"
   ]
  },
  {
   "cell_type": "markdown",
   "id": "9f47e0cb",
   "metadata": {},
   "source": [
    "##### Count #Hash Tags and @Mentions"
   ]
  },
  {
   "cell_type": "code",
   "execution_count": 23,
   "id": "61f69d4e",
   "metadata": {
    "ExecuteTime": {
     "end_time": "2022-10-09T09:53:57.165672Z",
     "start_time": "2022-10-09T09:53:57.156846Z"
    }
   },
   "outputs": [
    {
     "data": {
      "text/plain": [
       "['this', 'is', '#hashtag', 'and', 'this', 'is', '@mention']"
      ]
     },
     "execution_count": 23,
     "metadata": {},
     "output_type": "execute_result"
    }
   ],
   "source": [
    "# EX:\n",
    "x = 'this is #hashtag and this is @mention'\n",
    "x.split()"
   ]
  },
  {
   "cell_type": "code",
   "execution_count": 24,
   "id": "04b1a433",
   "metadata": {
    "ExecuteTime": {
     "end_time": "2022-10-09T09:53:57.171798Z",
     "start_time": "2022-10-09T09:53:57.167501Z"
    }
   },
   "outputs": [
    {
     "data": {
      "text/plain": [
       "['#hashtag']"
      ]
     },
     "execution_count": 24,
     "metadata": {},
     "output_type": "execute_result"
    }
   ],
   "source": [
    "# string.startswith(value, start, end)\n",
    "li = [word for word in x.split() if word.startswith('#')]\n",
    "li"
   ]
  },
  {
   "cell_type": "code",
   "execution_count": 25,
   "id": "970404b0",
   "metadata": {
    "ExecuteTime": {
     "end_time": "2022-10-09T09:53:57.177788Z",
     "start_time": "2022-10-09T09:53:57.173535Z"
    }
   },
   "outputs": [
    {
     "data": {
      "text/plain": [
       "['#hashtag', '@mention']"
      ]
     },
     "execution_count": 25,
     "metadata": {},
     "output_type": "execute_result"
    }
   ],
   "source": [
    "li = [word for word in x.split() if word.startswith(('#','@'))]\n",
    "li"
   ]
  },
  {
   "cell_type": "code",
   "execution_count": 26,
   "id": "5c04d3a5",
   "metadata": {
    "ExecuteTime": {
     "end_time": "2022-10-09T09:53:57.184824Z",
     "start_time": "2022-10-09T09:53:57.179613Z"
    }
   },
   "outputs": [
    {
     "data": {
      "text/plain": [
       "['#hashtag', '@mention']"
      ]
     },
     "execution_count": 26,
     "metadata": {},
     "output_type": "execute_result"
    }
   ],
   "source": [
    "li = [word for word in x.split() if word.startswith(('#','@'),0,3)]\n",
    "li"
   ]
  },
  {
   "cell_type": "code",
   "execution_count": null,
   "id": "092a75d1",
   "metadata": {},
   "outputs": [],
   "source": []
  },
  {
   "cell_type": "code",
   "execution_count": 27,
   "id": "cfc9f41d",
   "metadata": {
    "ExecuteTime": {
     "end_time": "2022-10-09T09:54:03.188452Z",
     "start_time": "2022-10-09T09:53:57.191878Z"
    }
   },
   "outputs": [],
   "source": [
    "df['#_counts'] = df['tweets'].apply(lambda x: len([word for word in x.split() if word.startswith('#')]))\n",
    "df['@_counts'] = df['tweets'].apply(lambda x: len([word for word in x.split() if word.startswith('@')]))"
   ]
  },
  {
   "cell_type": "code",
   "execution_count": 28,
   "id": "370ee526",
   "metadata": {
    "ExecuteTime": {
     "end_time": "2022-10-09T09:54:03.198067Z",
     "start_time": "2022-10-09T09:54:03.189867Z"
    }
   },
   "outputs": [
    {
     "data": {
      "text/html": [
       "<div>\n",
       "<style scoped>\n",
       "    .dataframe tbody tr th:only-of-type {\n",
       "        vertical-align: middle;\n",
       "    }\n",
       "\n",
       "    .dataframe tbody tr th {\n",
       "        vertical-align: top;\n",
       "    }\n",
       "\n",
       "    .dataframe thead th {\n",
       "        text-align: right;\n",
       "    }\n",
       "</style>\n",
       "<table border=\"1\" class=\"dataframe\">\n",
       "  <thead>\n",
       "    <tr style=\"text-align: right;\">\n",
       "      <th></th>\n",
       "      <th>tweets</th>\n",
       "      <th>sentiment</th>\n",
       "      <th>word_counts</th>\n",
       "      <th>char_counts</th>\n",
       "      <th>avg_word_len</th>\n",
       "      <th>stop_word_len</th>\n",
       "      <th>#_counts</th>\n",
       "      <th>@_counts</th>\n",
       "    </tr>\n",
       "  </thead>\n",
       "  <tbody>\n",
       "    <tr>\n",
       "      <th>0</th>\n",
       "      <td>@switchfoot http://twitpic.com/2y1zl - Awww, that's a bummer.  You shoulda got David Carr of Third Day to do it. ;D</td>\n",
       "      <td>0</td>\n",
       "      <td>19</td>\n",
       "      <td>115</td>\n",
       "      <td>5.052632</td>\n",
       "      <td>4</td>\n",
       "      <td>0</td>\n",
       "      <td>1</td>\n",
       "    </tr>\n",
       "    <tr>\n",
       "      <th>1</th>\n",
       "      <td>is upset that he can't update his Facebook by texting it... and might cry as a result  School today also. Blah!</td>\n",
       "      <td>0</td>\n",
       "      <td>21</td>\n",
       "      <td>111</td>\n",
       "      <td>4.285714</td>\n",
       "      <td>9</td>\n",
       "      <td>0</td>\n",
       "      <td>0</td>\n",
       "    </tr>\n",
       "    <tr>\n",
       "      <th>2</th>\n",
       "      <td>@Kenichan I dived many times for the ball. Managed to save 50%  The rest go out of bounds</td>\n",
       "      <td>0</td>\n",
       "      <td>18</td>\n",
       "      <td>89</td>\n",
       "      <td>3.944444</td>\n",
       "      <td>7</td>\n",
       "      <td>0</td>\n",
       "      <td>1</td>\n",
       "    </tr>\n",
       "    <tr>\n",
       "      <th>3</th>\n",
       "      <td>my whole body feels itchy and like its on fire</td>\n",
       "      <td>0</td>\n",
       "      <td>10</td>\n",
       "      <td>47</td>\n",
       "      <td>3.700000</td>\n",
       "      <td>5</td>\n",
       "      <td>0</td>\n",
       "      <td>0</td>\n",
       "    </tr>\n",
       "    <tr>\n",
       "      <th>4</th>\n",
       "      <td>@nationwideclass no, it's not behaving at all. i'm mad. why am i here? because I can't see you all over there.</td>\n",
       "      <td>0</td>\n",
       "      <td>21</td>\n",
       "      <td>111</td>\n",
       "      <td>4.285714</td>\n",
       "      <td>10</td>\n",
       "      <td>0</td>\n",
       "      <td>1</td>\n",
       "    </tr>\n",
       "  </tbody>\n",
       "</table>\n",
       "</div>"
      ],
      "text/plain": [
       "                                                                                                                tweets  \\\n",
       "0  @switchfoot http://twitpic.com/2y1zl - Awww, that's a bummer.  You shoulda got David Carr of Third Day to do it. ;D   \n",
       "1      is upset that he can't update his Facebook by texting it... and might cry as a result  School today also. Blah!   \n",
       "2                            @Kenichan I dived many times for the ball. Managed to save 50%  The rest go out of bounds   \n",
       "3                                                                      my whole body feels itchy and like its on fire    \n",
       "4      @nationwideclass no, it's not behaving at all. i'm mad. why am i here? because I can't see you all over there.    \n",
       "\n",
       "   sentiment  word_counts  char_counts  avg_word_len  stop_word_len  #_counts  \\\n",
       "0          0           19          115      5.052632              4         0   \n",
       "1          0           21          111      4.285714              9         0   \n",
       "2          0           18           89      3.944444              7         0   \n",
       "3          0           10           47      3.700000              5         0   \n",
       "4          0           21          111      4.285714             10         0   \n",
       "\n",
       "   @_counts  \n",
       "0         1  \n",
       "1         0  \n",
       "2         1  \n",
       "3         0  \n",
       "4         1  "
      ]
     },
     "execution_count": 28,
     "metadata": {},
     "output_type": "execute_result"
    }
   ],
   "source": [
    "df.head()\n",
    "#30 min"
   ]
  },
  {
   "cell_type": "markdown",
   "id": "c6bec447",
   "metadata": {},
   "source": [
    "##### if Numeric digits are present in twits"
   ]
  },
  {
   "cell_type": "code",
   "execution_count": 29,
   "id": "34a337c9",
   "metadata": {
    "ExecuteTime": {
     "end_time": "2022-10-09T09:54:05.309533Z",
     "start_time": "2022-10-09T09:54:03.199332Z"
    }
   },
   "outputs": [],
   "source": [
    "df['numeric_counts'] = df['tweets'].apply(lambda x: len([word for word in x.split() if word.isdigit()]))"
   ]
  },
  {
   "cell_type": "code",
   "execution_count": 30,
   "id": "93ef0c87",
   "metadata": {
    "ExecuteTime": {
     "end_time": "2022-10-09T09:54:05.319959Z",
     "start_time": "2022-10-09T09:54:05.311030Z"
    }
   },
   "outputs": [
    {
     "data": {
      "text/html": [
       "<div>\n",
       "<style scoped>\n",
       "    .dataframe tbody tr th:only-of-type {\n",
       "        vertical-align: middle;\n",
       "    }\n",
       "\n",
       "    .dataframe tbody tr th {\n",
       "        vertical-align: top;\n",
       "    }\n",
       "\n",
       "    .dataframe thead th {\n",
       "        text-align: right;\n",
       "    }\n",
       "</style>\n",
       "<table border=\"1\" class=\"dataframe\">\n",
       "  <thead>\n",
       "    <tr style=\"text-align: right;\">\n",
       "      <th></th>\n",
       "      <th>tweets</th>\n",
       "      <th>sentiment</th>\n",
       "      <th>word_counts</th>\n",
       "      <th>char_counts</th>\n",
       "      <th>avg_word_len</th>\n",
       "      <th>stop_word_len</th>\n",
       "      <th>#_counts</th>\n",
       "      <th>@_counts</th>\n",
       "      <th>numeric_counts</th>\n",
       "    </tr>\n",
       "  </thead>\n",
       "  <tbody>\n",
       "    <tr>\n",
       "      <th>0</th>\n",
       "      <td>@switchfoot http://twitpic.com/2y1zl - Awww, that's a bummer.  You shoulda got David Carr of Third Day to do it. ;D</td>\n",
       "      <td>0</td>\n",
       "      <td>19</td>\n",
       "      <td>115</td>\n",
       "      <td>5.052632</td>\n",
       "      <td>4</td>\n",
       "      <td>0</td>\n",
       "      <td>1</td>\n",
       "      <td>0</td>\n",
       "    </tr>\n",
       "    <tr>\n",
       "      <th>1</th>\n",
       "      <td>is upset that he can't update his Facebook by texting it... and might cry as a result  School today also. Blah!</td>\n",
       "      <td>0</td>\n",
       "      <td>21</td>\n",
       "      <td>111</td>\n",
       "      <td>4.285714</td>\n",
       "      <td>9</td>\n",
       "      <td>0</td>\n",
       "      <td>0</td>\n",
       "      <td>0</td>\n",
       "    </tr>\n",
       "    <tr>\n",
       "      <th>2</th>\n",
       "      <td>@Kenichan I dived many times for the ball. Managed to save 50%  The rest go out of bounds</td>\n",
       "      <td>0</td>\n",
       "      <td>18</td>\n",
       "      <td>89</td>\n",
       "      <td>3.944444</td>\n",
       "      <td>7</td>\n",
       "      <td>0</td>\n",
       "      <td>1</td>\n",
       "      <td>0</td>\n",
       "    </tr>\n",
       "    <tr>\n",
       "      <th>3</th>\n",
       "      <td>my whole body feels itchy and like its on fire</td>\n",
       "      <td>0</td>\n",
       "      <td>10</td>\n",
       "      <td>47</td>\n",
       "      <td>3.700000</td>\n",
       "      <td>5</td>\n",
       "      <td>0</td>\n",
       "      <td>0</td>\n",
       "      <td>0</td>\n",
       "    </tr>\n",
       "    <tr>\n",
       "      <th>4</th>\n",
       "      <td>@nationwideclass no, it's not behaving at all. i'm mad. why am i here? because I can't see you all over there.</td>\n",
       "      <td>0</td>\n",
       "      <td>21</td>\n",
       "      <td>111</td>\n",
       "      <td>4.285714</td>\n",
       "      <td>10</td>\n",
       "      <td>0</td>\n",
       "      <td>1</td>\n",
       "      <td>0</td>\n",
       "    </tr>\n",
       "  </tbody>\n",
       "</table>\n",
       "</div>"
      ],
      "text/plain": [
       "                                                                                                                tweets  \\\n",
       "0  @switchfoot http://twitpic.com/2y1zl - Awww, that's a bummer.  You shoulda got David Carr of Third Day to do it. ;D   \n",
       "1      is upset that he can't update his Facebook by texting it... and might cry as a result  School today also. Blah!   \n",
       "2                            @Kenichan I dived many times for the ball. Managed to save 50%  The rest go out of bounds   \n",
       "3                                                                      my whole body feels itchy and like its on fire    \n",
       "4      @nationwideclass no, it's not behaving at all. i'm mad. why am i here? because I can't see you all over there.    \n",
       "\n",
       "   sentiment  word_counts  char_counts  avg_word_len  stop_word_len  #_counts  \\\n",
       "0          0           19          115      5.052632              4         0   \n",
       "1          0           21          111      4.285714              9         0   \n",
       "2          0           18           89      3.944444              7         0   \n",
       "3          0           10           47      3.700000              5         0   \n",
       "4          0           21          111      4.285714             10         0   \n",
       "\n",
       "   @_counts  numeric_counts  \n",
       "0         1               0  \n",
       "1         0               0  \n",
       "2         1               0  \n",
       "3         0               0  \n",
       "4         1               0  "
      ]
     },
     "execution_count": 30,
     "metadata": {},
     "output_type": "execute_result"
    }
   ],
   "source": [
    "df.head()"
   ]
  },
  {
   "cell_type": "markdown",
   "id": "77b95021",
   "metadata": {},
   "source": [
    "##### Upper case word counts"
   ]
  },
  {
   "cell_type": "code",
   "execution_count": 31,
   "id": "5a9038ce",
   "metadata": {
    "ExecuteTime": {
     "end_time": "2022-10-09T09:54:07.826789Z",
     "start_time": "2022-10-09T09:54:05.321146Z"
    }
   },
   "outputs": [],
   "source": [
    "df['upper_counts'] = df['tweets'].apply(lambda x: len([word for word in x.split() if word.isupper() and len(x)>3 ]))"
   ]
  },
  {
   "cell_type": "code",
   "execution_count": 32,
   "id": "cecef7e2",
   "metadata": {
    "ExecuteTime": {
     "end_time": "2022-10-09T09:54:07.837244Z",
     "start_time": "2022-10-09T09:54:07.828471Z"
    }
   },
   "outputs": [
    {
     "data": {
      "text/html": [
       "<div>\n",
       "<style scoped>\n",
       "    .dataframe tbody tr th:only-of-type {\n",
       "        vertical-align: middle;\n",
       "    }\n",
       "\n",
       "    .dataframe tbody tr th {\n",
       "        vertical-align: top;\n",
       "    }\n",
       "\n",
       "    .dataframe thead th {\n",
       "        text-align: right;\n",
       "    }\n",
       "</style>\n",
       "<table border=\"1\" class=\"dataframe\">\n",
       "  <thead>\n",
       "    <tr style=\"text-align: right;\">\n",
       "      <th></th>\n",
       "      <th>tweets</th>\n",
       "      <th>sentiment</th>\n",
       "      <th>word_counts</th>\n",
       "      <th>char_counts</th>\n",
       "      <th>avg_word_len</th>\n",
       "      <th>stop_word_len</th>\n",
       "      <th>#_counts</th>\n",
       "      <th>@_counts</th>\n",
       "      <th>numeric_counts</th>\n",
       "      <th>upper_counts</th>\n",
       "    </tr>\n",
       "  </thead>\n",
       "  <tbody>\n",
       "    <tr>\n",
       "      <th>0</th>\n",
       "      <td>@switchfoot http://twitpic.com/2y1zl - Awww, that's a bummer.  You shoulda got David Carr of Third Day to do it. ;D</td>\n",
       "      <td>0</td>\n",
       "      <td>19</td>\n",
       "      <td>115</td>\n",
       "      <td>5.052632</td>\n",
       "      <td>4</td>\n",
       "      <td>0</td>\n",
       "      <td>1</td>\n",
       "      <td>0</td>\n",
       "      <td>1</td>\n",
       "    </tr>\n",
       "    <tr>\n",
       "      <th>1</th>\n",
       "      <td>is upset that he can't update his Facebook by texting it... and might cry as a result  School today also. Blah!</td>\n",
       "      <td>0</td>\n",
       "      <td>21</td>\n",
       "      <td>111</td>\n",
       "      <td>4.285714</td>\n",
       "      <td>9</td>\n",
       "      <td>0</td>\n",
       "      <td>0</td>\n",
       "      <td>0</td>\n",
       "      <td>0</td>\n",
       "    </tr>\n",
       "    <tr>\n",
       "      <th>2</th>\n",
       "      <td>@Kenichan I dived many times for the ball. Managed to save 50%  The rest go out of bounds</td>\n",
       "      <td>0</td>\n",
       "      <td>18</td>\n",
       "      <td>89</td>\n",
       "      <td>3.944444</td>\n",
       "      <td>7</td>\n",
       "      <td>0</td>\n",
       "      <td>1</td>\n",
       "      <td>0</td>\n",
       "      <td>1</td>\n",
       "    </tr>\n",
       "    <tr>\n",
       "      <th>3</th>\n",
       "      <td>my whole body feels itchy and like its on fire</td>\n",
       "      <td>0</td>\n",
       "      <td>10</td>\n",
       "      <td>47</td>\n",
       "      <td>3.700000</td>\n",
       "      <td>5</td>\n",
       "      <td>0</td>\n",
       "      <td>0</td>\n",
       "      <td>0</td>\n",
       "      <td>0</td>\n",
       "    </tr>\n",
       "    <tr>\n",
       "      <th>4</th>\n",
       "      <td>@nationwideclass no, it's not behaving at all. i'm mad. why am i here? because I can't see you all over there.</td>\n",
       "      <td>0</td>\n",
       "      <td>21</td>\n",
       "      <td>111</td>\n",
       "      <td>4.285714</td>\n",
       "      <td>10</td>\n",
       "      <td>0</td>\n",
       "      <td>1</td>\n",
       "      <td>0</td>\n",
       "      <td>1</td>\n",
       "    </tr>\n",
       "  </tbody>\n",
       "</table>\n",
       "</div>"
      ],
      "text/plain": [
       "                                                                                                                tweets  \\\n",
       "0  @switchfoot http://twitpic.com/2y1zl - Awww, that's a bummer.  You shoulda got David Carr of Third Day to do it. ;D   \n",
       "1      is upset that he can't update his Facebook by texting it... and might cry as a result  School today also. Blah!   \n",
       "2                            @Kenichan I dived many times for the ball. Managed to save 50%  The rest go out of bounds   \n",
       "3                                                                      my whole body feels itchy and like its on fire    \n",
       "4      @nationwideclass no, it's not behaving at all. i'm mad. why am i here? because I can't see you all over there.    \n",
       "\n",
       "   sentiment  word_counts  char_counts  avg_word_len  stop_word_len  #_counts  \\\n",
       "0          0           19          115      5.052632              4         0   \n",
       "1          0           21          111      4.285714              9         0   \n",
       "2          0           18           89      3.944444              7         0   \n",
       "3          0           10           47      3.700000              5         0   \n",
       "4          0           21          111      4.285714             10         0   \n",
       "\n",
       "   @_counts  numeric_counts  upper_counts  \n",
       "0         1               0             1  \n",
       "1         0               0             0  \n",
       "2         1               0             1  \n",
       "3         0               0             0  \n",
       "4         1               0             1  "
      ]
     },
     "execution_count": 32,
     "metadata": {},
     "output_type": "execute_result"
    }
   ],
   "source": [
    "df.head()"
   ]
  },
  {
   "cell_type": "code",
   "execution_count": 33,
   "id": "7b897521",
   "metadata": {
    "ExecuteTime": {
     "end_time": "2022-10-09T09:54:07.937039Z",
     "start_time": "2022-10-09T09:54:07.838799Z"
    }
   },
   "outputs": [
    {
     "data": {
      "text/plain": [
       "\"so rylee,grace...wana go steve's party or not?? SADLY SINCE ITS EASTER I WNT B ABLE 2 DO MUCH  BUT OHH WELL.....\""
      ]
     },
     "execution_count": 33,
     "metadata": {},
     "output_type": "execute_result"
    }
   ],
   "source": [
    "df.loc[96]['tweets']"
   ]
  },
  {
   "cell_type": "code",
   "execution_count": 34,
   "id": "d56f6637",
   "metadata": {
    "ExecuteTime": {
     "end_time": "2022-10-09T09:54:07.943462Z",
     "start_time": "2022-10-09T09:54:07.938725Z"
    },
    "scrolled": true
   },
   "outputs": [
    {
     "data": {
      "text/plain": [
       "tweets            so rylee,grace...wana go steve's party or not?? SADLY SINCE ITS EASTER I WNT B ABLE 2 DO MUCH  BUT OHH WELL.....\n",
       "sentiment                                                                                                                        0\n",
       "word_counts                                                                                                                     21\n",
       "char_counts                                                                                                                    112\n",
       "avg_word_len                                                                                                              4.333333\n",
       "stop_word_len                                                                                                                    3\n",
       "#_counts                                                                                                                         0\n",
       "@_counts                                                                                                                         0\n",
       "numeric_counts                                                                                                                   1\n",
       "upper_counts                                                                                                                    13\n",
       "Name: 96, dtype: object"
      ]
     },
     "execution_count": 34,
     "metadata": {},
     "output_type": "execute_result"
    }
   ],
   "source": [
    "df.loc[96]"
   ]
  },
  {
   "cell_type": "markdown",
   "id": "0890a8fa",
   "metadata": {},
   "source": [
    "# Preprocessing and Cleaning\n"
   ]
  },
  {
   "cell_type": "markdown",
   "id": "1852fc33",
   "metadata": {},
   "source": [
    "##### Lower case"
   ]
  },
  {
   "cell_type": "code",
   "execution_count": 35,
   "id": "af86963a",
   "metadata": {
    "ExecuteTime": {
     "end_time": "2022-10-09T09:54:08.314370Z",
     "start_time": "2022-10-09T09:54:07.944983Z"
    }
   },
   "outputs": [],
   "source": [
    "df['tweets'] = df['tweets'].apply(lambda x: x.lower())"
   ]
  },
  {
   "cell_type": "code",
   "execution_count": 36,
   "id": "e4c52e99",
   "metadata": {
    "ExecuteTime": {
     "end_time": "2022-10-09T09:54:08.329733Z",
     "start_time": "2022-10-09T09:54:08.316413Z"
    }
   },
   "outputs": [
    {
     "data": {
      "text/html": [
       "<div>\n",
       "<style scoped>\n",
       "    .dataframe tbody tr th:only-of-type {\n",
       "        vertical-align: middle;\n",
       "    }\n",
       "\n",
       "    .dataframe tbody tr th {\n",
       "        vertical-align: top;\n",
       "    }\n",
       "\n",
       "    .dataframe thead th {\n",
       "        text-align: right;\n",
       "    }\n",
       "</style>\n",
       "<table border=\"1\" class=\"dataframe\">\n",
       "  <thead>\n",
       "    <tr style=\"text-align: right;\">\n",
       "      <th></th>\n",
       "      <th>tweets</th>\n",
       "      <th>sentiment</th>\n",
       "      <th>word_counts</th>\n",
       "      <th>char_counts</th>\n",
       "      <th>avg_word_len</th>\n",
       "      <th>stop_word_len</th>\n",
       "      <th>#_counts</th>\n",
       "      <th>@_counts</th>\n",
       "      <th>numeric_counts</th>\n",
       "      <th>upper_counts</th>\n",
       "    </tr>\n",
       "  </thead>\n",
       "  <tbody>\n",
       "    <tr>\n",
       "      <th>0</th>\n",
       "      <td>@switchfoot http://twitpic.com/2y1zl - awww, that's a bummer.  you shoulda got david carr of third day to do it. ;d</td>\n",
       "      <td>0</td>\n",
       "      <td>19</td>\n",
       "      <td>115</td>\n",
       "      <td>5.052632</td>\n",
       "      <td>4</td>\n",
       "      <td>0</td>\n",
       "      <td>1</td>\n",
       "      <td>0</td>\n",
       "      <td>1</td>\n",
       "    </tr>\n",
       "    <tr>\n",
       "      <th>1</th>\n",
       "      <td>is upset that he can't update his facebook by texting it... and might cry as a result  school today also. blah!</td>\n",
       "      <td>0</td>\n",
       "      <td>21</td>\n",
       "      <td>111</td>\n",
       "      <td>4.285714</td>\n",
       "      <td>9</td>\n",
       "      <td>0</td>\n",
       "      <td>0</td>\n",
       "      <td>0</td>\n",
       "      <td>0</td>\n",
       "    </tr>\n",
       "    <tr>\n",
       "      <th>2</th>\n",
       "      <td>@kenichan i dived many times for the ball. managed to save 50%  the rest go out of bounds</td>\n",
       "      <td>0</td>\n",
       "      <td>18</td>\n",
       "      <td>89</td>\n",
       "      <td>3.944444</td>\n",
       "      <td>7</td>\n",
       "      <td>0</td>\n",
       "      <td>1</td>\n",
       "      <td>0</td>\n",
       "      <td>1</td>\n",
       "    </tr>\n",
       "    <tr>\n",
       "      <th>3</th>\n",
       "      <td>my whole body feels itchy and like its on fire</td>\n",
       "      <td>0</td>\n",
       "      <td>10</td>\n",
       "      <td>47</td>\n",
       "      <td>3.700000</td>\n",
       "      <td>5</td>\n",
       "      <td>0</td>\n",
       "      <td>0</td>\n",
       "      <td>0</td>\n",
       "      <td>0</td>\n",
       "    </tr>\n",
       "    <tr>\n",
       "      <th>4</th>\n",
       "      <td>@nationwideclass no, it's not behaving at all. i'm mad. why am i here? because i can't see you all over there.</td>\n",
       "      <td>0</td>\n",
       "      <td>21</td>\n",
       "      <td>111</td>\n",
       "      <td>4.285714</td>\n",
       "      <td>10</td>\n",
       "      <td>0</td>\n",
       "      <td>1</td>\n",
       "      <td>0</td>\n",
       "      <td>1</td>\n",
       "    </tr>\n",
       "  </tbody>\n",
       "</table>\n",
       "</div>"
      ],
      "text/plain": [
       "                                                                                                                tweets  \\\n",
       "0  @switchfoot http://twitpic.com/2y1zl - awww, that's a bummer.  you shoulda got david carr of third day to do it. ;d   \n",
       "1      is upset that he can't update his facebook by texting it... and might cry as a result  school today also. blah!   \n",
       "2                            @kenichan i dived many times for the ball. managed to save 50%  the rest go out of bounds   \n",
       "3                                                                      my whole body feels itchy and like its on fire    \n",
       "4      @nationwideclass no, it's not behaving at all. i'm mad. why am i here? because i can't see you all over there.    \n",
       "\n",
       "   sentiment  word_counts  char_counts  avg_word_len  stop_word_len  #_counts  \\\n",
       "0          0           19          115      5.052632              4         0   \n",
       "1          0           21          111      4.285714              9         0   \n",
       "2          0           18           89      3.944444              7         0   \n",
       "3          0           10           47      3.700000              5         0   \n",
       "4          0           21          111      4.285714             10         0   \n",
       "\n",
       "   @_counts  numeric_counts  upper_counts  \n",
       "0         1               0             1  \n",
       "1         0               0             0  \n",
       "2         1               0             1  \n",
       "3         0               0             0  \n",
       "4         1               0             1  "
      ]
     },
     "execution_count": 36,
     "metadata": {},
     "output_type": "execute_result"
    }
   ],
   "source": [
    "df.head()"
   ]
  },
  {
   "cell_type": "markdown",
   "id": "2226ac22",
   "metadata": {},
   "source": [
    "##### Contraction to Expansion"
   ]
  },
  {
   "cell_type": "code",
   "execution_count": 37,
   "id": "b047c6a7",
   "metadata": {
    "ExecuteTime": {
     "end_time": "2022-10-09T09:54:08.338050Z",
     "start_time": "2022-10-09T09:54:08.331864Z"
    }
   },
   "outputs": [],
   "source": [
    "# don' = do not\n",
    "x = \"i don't know what you want, can't, he'll, i'd\"\n",
    "# 40 min"
   ]
  },
  {
   "cell_type": "markdown",
   "id": "648bf4df",
   "metadata": {},
   "source": [
    "##### Email removal and counts"
   ]
  },
  {
   "cell_type": "code",
   "execution_count": 38,
   "id": "9401f32b",
   "metadata": {
    "ExecuteTime": {
     "end_time": "2022-10-09T09:54:08.343248Z",
     "start_time": "2022-10-09T09:54:08.340198Z"
    }
   },
   "outputs": [],
   "source": [
    "import re"
   ]
  },
  {
   "cell_type": "code",
   "execution_count": 39,
   "id": "690b022b",
   "metadata": {
    "ExecuteTime": {
     "end_time": "2022-10-09T09:54:08.348299Z",
     "start_time": "2022-10-09T09:54:08.345418Z"
    }
   },
   "outputs": [],
   "source": [
    "x = 'hi, email me at arafat6462@gmail.com, you can also find me on 18-37576-1@student.aiub.edu'"
   ]
  },
  {
   "cell_type": "code",
   "execution_count": 40,
   "id": "14c167b2",
   "metadata": {
    "ExecuteTime": {
     "end_time": "2022-10-09T09:54:08.354813Z",
     "start_time": "2022-10-09T09:54:08.350293Z"
    }
   },
   "outputs": [
    {
     "data": {
      "text/plain": [
       "['arafat6462@gmail.com', '18-37576-1@student.aiub.edu']"
      ]
     },
     "execution_count": 40,
     "metadata": {},
     "output_type": "execute_result"
    }
   ],
   "source": [
    "re.findall(r'([a-zA-Z0-9+._-]+@[a-zA-Z0-9._-]+\\.[a-zA-Z0-9_-]+)',x)"
   ]
  },
  {
   "cell_type": "code",
   "execution_count": null,
   "id": "c994dbbf",
   "metadata": {},
   "outputs": [],
   "source": []
  },
  {
   "cell_type": "code",
   "execution_count": 41,
   "id": "2c230239",
   "metadata": {
    "ExecuteTime": {
     "end_time": "2022-10-09T09:54:13.332155Z",
     "start_time": "2022-10-09T09:54:08.356367Z"
    }
   },
   "outputs": [
    {
     "name": "stdout",
     "output_type": "stream",
     "text": [
      "CPU times: user 4.94 s, sys: 34.7 ms, total: 4.97 s\n",
      "Wall time: 4.97 s\n"
     ]
    }
   ],
   "source": [
    "%%time\n",
    "df['email'] = df['tweets'].apply(lambda x: re.findall(r'([a-zA-Z0-9+._-]+@[a-zA-Z0-9._-]+\\.[a-zA-Z0-9_-]+)',x))"
   ]
  },
  {
   "cell_type": "code",
   "execution_count": 42,
   "id": "553497c7",
   "metadata": {
    "ExecuteTime": {
     "end_time": "2022-10-09T09:54:13.348475Z",
     "start_time": "2022-10-09T09:54:13.334189Z"
    }
   },
   "outputs": [
    {
     "data": {
      "text/html": [
       "<div>\n",
       "<style scoped>\n",
       "    .dataframe tbody tr th:only-of-type {\n",
       "        vertical-align: middle;\n",
       "    }\n",
       "\n",
       "    .dataframe tbody tr th {\n",
       "        vertical-align: top;\n",
       "    }\n",
       "\n",
       "    .dataframe thead th {\n",
       "        text-align: right;\n",
       "    }\n",
       "</style>\n",
       "<table border=\"1\" class=\"dataframe\">\n",
       "  <thead>\n",
       "    <tr style=\"text-align: right;\">\n",
       "      <th></th>\n",
       "      <th>tweets</th>\n",
       "      <th>sentiment</th>\n",
       "      <th>word_counts</th>\n",
       "      <th>char_counts</th>\n",
       "      <th>avg_word_len</th>\n",
       "      <th>stop_word_len</th>\n",
       "      <th>#_counts</th>\n",
       "      <th>@_counts</th>\n",
       "      <th>numeric_counts</th>\n",
       "      <th>upper_counts</th>\n",
       "      <th>email</th>\n",
       "    </tr>\n",
       "  </thead>\n",
       "  <tbody>\n",
       "    <tr>\n",
       "      <th>0</th>\n",
       "      <td>@switchfoot http://twitpic.com/2y1zl - awww, that's a bummer.  you shoulda got david carr of third day to do it. ;d</td>\n",
       "      <td>0</td>\n",
       "      <td>19</td>\n",
       "      <td>115</td>\n",
       "      <td>5.052632</td>\n",
       "      <td>4</td>\n",
       "      <td>0</td>\n",
       "      <td>1</td>\n",
       "      <td>0</td>\n",
       "      <td>1</td>\n",
       "      <td>[]</td>\n",
       "    </tr>\n",
       "    <tr>\n",
       "      <th>1</th>\n",
       "      <td>is upset that he can't update his facebook by texting it... and might cry as a result  school today also. blah!</td>\n",
       "      <td>0</td>\n",
       "      <td>21</td>\n",
       "      <td>111</td>\n",
       "      <td>4.285714</td>\n",
       "      <td>9</td>\n",
       "      <td>0</td>\n",
       "      <td>0</td>\n",
       "      <td>0</td>\n",
       "      <td>0</td>\n",
       "      <td>[]</td>\n",
       "    </tr>\n",
       "    <tr>\n",
       "      <th>2</th>\n",
       "      <td>@kenichan i dived many times for the ball. managed to save 50%  the rest go out of bounds</td>\n",
       "      <td>0</td>\n",
       "      <td>18</td>\n",
       "      <td>89</td>\n",
       "      <td>3.944444</td>\n",
       "      <td>7</td>\n",
       "      <td>0</td>\n",
       "      <td>1</td>\n",
       "      <td>0</td>\n",
       "      <td>1</td>\n",
       "      <td>[]</td>\n",
       "    </tr>\n",
       "    <tr>\n",
       "      <th>3</th>\n",
       "      <td>my whole body feels itchy and like its on fire</td>\n",
       "      <td>0</td>\n",
       "      <td>10</td>\n",
       "      <td>47</td>\n",
       "      <td>3.700000</td>\n",
       "      <td>5</td>\n",
       "      <td>0</td>\n",
       "      <td>0</td>\n",
       "      <td>0</td>\n",
       "      <td>0</td>\n",
       "      <td>[]</td>\n",
       "    </tr>\n",
       "    <tr>\n",
       "      <th>4</th>\n",
       "      <td>@nationwideclass no, it's not behaving at all. i'm mad. why am i here? because i can't see you all over there.</td>\n",
       "      <td>0</td>\n",
       "      <td>21</td>\n",
       "      <td>111</td>\n",
       "      <td>4.285714</td>\n",
       "      <td>10</td>\n",
       "      <td>0</td>\n",
       "      <td>1</td>\n",
       "      <td>0</td>\n",
       "      <td>1</td>\n",
       "      <td>[]</td>\n",
       "    </tr>\n",
       "  </tbody>\n",
       "</table>\n",
       "</div>"
      ],
      "text/plain": [
       "                                                                                                                tweets  \\\n",
       "0  @switchfoot http://twitpic.com/2y1zl - awww, that's a bummer.  you shoulda got david carr of third day to do it. ;d   \n",
       "1      is upset that he can't update his facebook by texting it... and might cry as a result  school today also. blah!   \n",
       "2                            @kenichan i dived many times for the ball. managed to save 50%  the rest go out of bounds   \n",
       "3                                                                      my whole body feels itchy and like its on fire    \n",
       "4      @nationwideclass no, it's not behaving at all. i'm mad. why am i here? because i can't see you all over there.    \n",
       "\n",
       "   sentiment  word_counts  char_counts  avg_word_len  stop_word_len  #_counts  \\\n",
       "0          0           19          115      5.052632              4         0   \n",
       "1          0           21          111      4.285714              9         0   \n",
       "2          0           18           89      3.944444              7         0   \n",
       "3          0           10           47      3.700000              5         0   \n",
       "4          0           21          111      4.285714             10         0   \n",
       "\n",
       "   @_counts  numeric_counts  upper_counts email  \n",
       "0         1               0             1    []  \n",
       "1         0               0             0    []  \n",
       "2         1               0             1    []  \n",
       "3         0               0             0    []  \n",
       "4         1               0             1    []  "
      ]
     },
     "execution_count": 42,
     "metadata": {},
     "output_type": "execute_result"
    }
   ],
   "source": [
    "df.head()"
   ]
  },
  {
   "cell_type": "code",
   "execution_count": 43,
   "id": "535c4aa6",
   "metadata": {
    "ExecuteTime": {
     "end_time": "2022-10-09T09:54:13.738981Z",
     "start_time": "2022-10-09T09:54:13.350367Z"
    }
   },
   "outputs": [],
   "source": [
    "df['email_counts'] = df['email'].apply(lambda x: len(x))"
   ]
  },
  {
   "cell_type": "code",
   "execution_count": 44,
   "id": "5cc087bc",
   "metadata": {
    "ExecuteTime": {
     "end_time": "2022-10-09T09:54:13.750670Z",
     "start_time": "2022-10-09T09:54:13.740404Z"
    }
   },
   "outputs": [
    {
     "data": {
      "text/html": [
       "<div>\n",
       "<style scoped>\n",
       "    .dataframe tbody tr th:only-of-type {\n",
       "        vertical-align: middle;\n",
       "    }\n",
       "\n",
       "    .dataframe tbody tr th {\n",
       "        vertical-align: top;\n",
       "    }\n",
       "\n",
       "    .dataframe thead th {\n",
       "        text-align: right;\n",
       "    }\n",
       "</style>\n",
       "<table border=\"1\" class=\"dataframe\">\n",
       "  <thead>\n",
       "    <tr style=\"text-align: right;\">\n",
       "      <th></th>\n",
       "      <th>tweets</th>\n",
       "      <th>sentiment</th>\n",
       "      <th>word_counts</th>\n",
       "      <th>char_counts</th>\n",
       "      <th>avg_word_len</th>\n",
       "      <th>stop_word_len</th>\n",
       "      <th>#_counts</th>\n",
       "      <th>@_counts</th>\n",
       "      <th>numeric_counts</th>\n",
       "      <th>upper_counts</th>\n",
       "      <th>email</th>\n",
       "      <th>email_counts</th>\n",
       "    </tr>\n",
       "  </thead>\n",
       "  <tbody>\n",
       "    <tr>\n",
       "      <th>0</th>\n",
       "      <td>@switchfoot http://twitpic.com/2y1zl - awww, that's a bummer.  you shoulda got david carr of third day to do it. ;d</td>\n",
       "      <td>0</td>\n",
       "      <td>19</td>\n",
       "      <td>115</td>\n",
       "      <td>5.052632</td>\n",
       "      <td>4</td>\n",
       "      <td>0</td>\n",
       "      <td>1</td>\n",
       "      <td>0</td>\n",
       "      <td>1</td>\n",
       "      <td>[]</td>\n",
       "      <td>0</td>\n",
       "    </tr>\n",
       "    <tr>\n",
       "      <th>1</th>\n",
       "      <td>is upset that he can't update his facebook by texting it... and might cry as a result  school today also. blah!</td>\n",
       "      <td>0</td>\n",
       "      <td>21</td>\n",
       "      <td>111</td>\n",
       "      <td>4.285714</td>\n",
       "      <td>9</td>\n",
       "      <td>0</td>\n",
       "      <td>0</td>\n",
       "      <td>0</td>\n",
       "      <td>0</td>\n",
       "      <td>[]</td>\n",
       "      <td>0</td>\n",
       "    </tr>\n",
       "    <tr>\n",
       "      <th>2</th>\n",
       "      <td>@kenichan i dived many times for the ball. managed to save 50%  the rest go out of bounds</td>\n",
       "      <td>0</td>\n",
       "      <td>18</td>\n",
       "      <td>89</td>\n",
       "      <td>3.944444</td>\n",
       "      <td>7</td>\n",
       "      <td>0</td>\n",
       "      <td>1</td>\n",
       "      <td>0</td>\n",
       "      <td>1</td>\n",
       "      <td>[]</td>\n",
       "      <td>0</td>\n",
       "    </tr>\n",
       "    <tr>\n",
       "      <th>3</th>\n",
       "      <td>my whole body feels itchy and like its on fire</td>\n",
       "      <td>0</td>\n",
       "      <td>10</td>\n",
       "      <td>47</td>\n",
       "      <td>3.700000</td>\n",
       "      <td>5</td>\n",
       "      <td>0</td>\n",
       "      <td>0</td>\n",
       "      <td>0</td>\n",
       "      <td>0</td>\n",
       "      <td>[]</td>\n",
       "      <td>0</td>\n",
       "    </tr>\n",
       "    <tr>\n",
       "      <th>4</th>\n",
       "      <td>@nationwideclass no, it's not behaving at all. i'm mad. why am i here? because i can't see you all over there.</td>\n",
       "      <td>0</td>\n",
       "      <td>21</td>\n",
       "      <td>111</td>\n",
       "      <td>4.285714</td>\n",
       "      <td>10</td>\n",
       "      <td>0</td>\n",
       "      <td>1</td>\n",
       "      <td>0</td>\n",
       "      <td>1</td>\n",
       "      <td>[]</td>\n",
       "      <td>0</td>\n",
       "    </tr>\n",
       "  </tbody>\n",
       "</table>\n",
       "</div>"
      ],
      "text/plain": [
       "                                                                                                                tweets  \\\n",
       "0  @switchfoot http://twitpic.com/2y1zl - awww, that's a bummer.  you shoulda got david carr of third day to do it. ;d   \n",
       "1      is upset that he can't update his facebook by texting it... and might cry as a result  school today also. blah!   \n",
       "2                            @kenichan i dived many times for the ball. managed to save 50%  the rest go out of bounds   \n",
       "3                                                                      my whole body feels itchy and like its on fire    \n",
       "4      @nationwideclass no, it's not behaving at all. i'm mad. why am i here? because i can't see you all over there.    \n",
       "\n",
       "   sentiment  word_counts  char_counts  avg_word_len  stop_word_len  #_counts  \\\n",
       "0          0           19          115      5.052632              4         0   \n",
       "1          0           21          111      4.285714              9         0   \n",
       "2          0           18           89      3.944444              7         0   \n",
       "3          0           10           47      3.700000              5         0   \n",
       "4          0           21          111      4.285714             10         0   \n",
       "\n",
       "   @_counts  numeric_counts  upper_counts email  email_counts  \n",
       "0         1               0             1    []             0  \n",
       "1         0               0             0    []             0  \n",
       "2         1               0             1    []             0  \n",
       "3         0               0             0    []             0  \n",
       "4         1               0             1    []             0  "
      ]
     },
     "execution_count": 44,
     "metadata": {},
     "output_type": "execute_result"
    }
   ],
   "source": [
    "df.head()"
   ]
  },
  {
   "cell_type": "code",
   "execution_count": 45,
   "id": "d30aa6a9",
   "metadata": {
    "ExecuteTime": {
     "end_time": "2022-10-09T09:54:13.926062Z",
     "start_time": "2022-10-09T09:54:13.751925Z"
    }
   },
   "outputs": [
    {
     "data": {
      "text/html": [
       "<div>\n",
       "<style scoped>\n",
       "    .dataframe tbody tr th:only-of-type {\n",
       "        vertical-align: middle;\n",
       "    }\n",
       "\n",
       "    .dataframe tbody tr th {\n",
       "        vertical-align: top;\n",
       "    }\n",
       "\n",
       "    .dataframe thead th {\n",
       "        text-align: right;\n",
       "    }\n",
       "</style>\n",
       "<table border=\"1\" class=\"dataframe\">\n",
       "  <thead>\n",
       "    <tr style=\"text-align: right;\">\n",
       "      <th></th>\n",
       "      <th>tweets</th>\n",
       "      <th>sentiment</th>\n",
       "      <th>word_counts</th>\n",
       "      <th>char_counts</th>\n",
       "      <th>avg_word_len</th>\n",
       "      <th>stop_word_len</th>\n",
       "      <th>#_counts</th>\n",
       "      <th>@_counts</th>\n",
       "      <th>numeric_counts</th>\n",
       "      <th>upper_counts</th>\n",
       "      <th>email</th>\n",
       "      <th>email_counts</th>\n",
       "    </tr>\n",
       "  </thead>\n",
       "  <tbody>\n",
       "    <tr>\n",
       "      <th>4054</th>\n",
       "      <td>i want a new laptop.  hp tx2000 is the bomb. :| who knows how much it is? im me: gabbehhramos@yahoo.com</td>\n",
       "      <td>0</td>\n",
       "      <td>20</td>\n",
       "      <td>103</td>\n",
       "      <td>4.150000</td>\n",
       "      <td>6</td>\n",
       "      <td>0</td>\n",
       "      <td>0</td>\n",
       "      <td>0</td>\n",
       "      <td>4</td>\n",
       "      <td>[gabbehhramos@yahoo.com]</td>\n",
       "      <td>1</td>\n",
       "    </tr>\n",
       "    <tr>\n",
       "      <th>7917</th>\n",
       "      <td>who stole elledell@gmail.com?</td>\n",
       "      <td>0</td>\n",
       "      <td>3</td>\n",
       "      <td>31</td>\n",
       "      <td>9.000000</td>\n",
       "      <td>1</td>\n",
       "      <td>0</td>\n",
       "      <td>0</td>\n",
       "      <td>0</td>\n",
       "      <td>0</td>\n",
       "      <td>[elledell@gmail.com]</td>\n",
       "      <td>1</td>\n",
       "    </tr>\n",
       "    <tr>\n",
       "      <th>8496</th>\n",
       "      <td>@alexistehpom  really? did you send out all the info already? if you did..maybe you could just email me stuff missataari@gmail.com</td>\n",
       "      <td>0</td>\n",
       "      <td>20</td>\n",
       "      <td>130</td>\n",
       "      <td>5.500000</td>\n",
       "      <td>11</td>\n",
       "      <td>0</td>\n",
       "      <td>1</td>\n",
       "      <td>0</td>\n",
       "      <td>0</td>\n",
       "      <td>[missataari@gmail.com]</td>\n",
       "      <td>1</td>\n",
       "    </tr>\n",
       "    <tr>\n",
       "      <th>10290</th>\n",
       "      <td>@laureystack awh...that's kinda sad  lol add me?? hello.kitty.65@hotmail.com</td>\n",
       "      <td>0</td>\n",
       "      <td>8</td>\n",
       "      <td>76</td>\n",
       "      <td>8.500000</td>\n",
       "      <td>0</td>\n",
       "      <td>0</td>\n",
       "      <td>1</td>\n",
       "      <td>0</td>\n",
       "      <td>0</td>\n",
       "      <td>[hello.kitty.65@hotmail.com]</td>\n",
       "      <td>1</td>\n",
       "    </tr>\n",
       "    <tr>\n",
       "      <th>16413</th>\n",
       "      <td>@jilliancyork  got 2 bottom of it, human error  bug from a release last month, being fixed tonight.  email press@linkedin.com for details</td>\n",
       "      <td>0</td>\n",
       "      <td>21</td>\n",
       "      <td>137</td>\n",
       "      <td>5.428571</td>\n",
       "      <td>7</td>\n",
       "      <td>0</td>\n",
       "      <td>1</td>\n",
       "      <td>1</td>\n",
       "      <td>0</td>\n",
       "      <td>[press@linkedin.com]</td>\n",
       "      <td>1</td>\n",
       "    </tr>\n",
       "  </tbody>\n",
       "</table>\n",
       "</div>"
      ],
      "text/plain": [
       "                                                                                                                                          tweets  \\\n",
       "4054                                     i want a new laptop.  hp tx2000 is the bomb. :| who knows how much it is? im me: gabbehhramos@yahoo.com   \n",
       "7917                                                                                                             who stole elledell@gmail.com?     \n",
       "8496          @alexistehpom  really? did you send out all the info already? if you did..maybe you could just email me stuff missataari@gmail.com   \n",
       "10290                                                               @laureystack awh...that's kinda sad  lol add me?? hello.kitty.65@hotmail.com   \n",
       "16413  @jilliancyork  got 2 bottom of it, human error  bug from a release last month, being fixed tonight.  email press@linkedin.com for details   \n",
       "\n",
       "       sentiment  word_counts  char_counts  avg_word_len  stop_word_len  \\\n",
       "4054           0           20          103      4.150000              6   \n",
       "7917           0            3           31      9.000000              1   \n",
       "8496           0           20          130      5.500000             11   \n",
       "10290          0            8           76      8.500000              0   \n",
       "16413          0           21          137      5.428571              7   \n",
       "\n",
       "       #_counts  @_counts  numeric_counts  upper_counts  \\\n",
       "4054          0         0               0             4   \n",
       "7917          0         0               0             0   \n",
       "8496          0         1               0             0   \n",
       "10290         0         1               0             0   \n",
       "16413         0         1               1             0   \n",
       "\n",
       "                              email  email_counts  \n",
       "4054       [gabbehhramos@yahoo.com]             1  \n",
       "7917           [elledell@gmail.com]             1  \n",
       "8496         [missataari@gmail.com]             1  \n",
       "10290  [hello.kitty.65@hotmail.com]             1  \n",
       "16413          [press@linkedin.com]             1  "
      ]
     },
     "execution_count": 45,
     "metadata": {},
     "output_type": "execute_result"
    }
   ],
   "source": [
    "# find which tweets has mail\n",
    "df[df['email_counts']>0].head()"
   ]
  },
  {
   "cell_type": "code",
   "execution_count": 46,
   "id": "b690fe2a",
   "metadata": {
    "ExecuteTime": {
     "end_time": "2022-10-09T09:54:13.933563Z",
     "start_time": "2022-10-09T09:54:13.927713Z"
    },
    "scrolled": true
   },
   "outputs": [
    {
     "data": {
      "text/plain": [
       "tweets            i want a new laptop.  hp tx2000 is the bomb. :| who knows how much it is? im me: gabbehhramos@yahoo.com\n",
       "sentiment                                                                                                               0\n",
       "word_counts                                                                                                            20\n",
       "char_counts                                                                                                           103\n",
       "avg_word_len                                                                                                         4.15\n",
       "stop_word_len                                                                                                           6\n",
       "#_counts                                                                                                                0\n",
       "@_counts                                                                                                                0\n",
       "numeric_counts                                                                                                          0\n",
       "upper_counts                                                                                                            4\n",
       "email                                                                                            [gabbehhramos@yahoo.com]\n",
       "email_counts                                                                                                            1\n",
       "Name: 4054, dtype: object"
      ]
     },
     "execution_count": 46,
     "metadata": {},
     "output_type": "execute_result"
    }
   ],
   "source": [
    "df.loc[4054] "
   ]
  },
  {
   "cell_type": "code",
   "execution_count": 47,
   "id": "1c86f54d",
   "metadata": {
    "ExecuteTime": {
     "end_time": "2022-10-09T09:54:18.592007Z",
     "start_time": "2022-10-09T09:54:13.935169Z"
    }
   },
   "outputs": [],
   "source": [
    "# remove email\n",
    "df['tweets'] = df['tweets'].apply(lambda x: re.sub(r'([a-zA-Z0-9+._-]+@[a-zA-Z0-9._-]+\\.[a-zA-Z0-9_-]+)', '' ,x))"
   ]
  },
  {
   "cell_type": "code",
   "execution_count": 48,
   "id": "2b116a2e",
   "metadata": {
    "ExecuteTime": {
     "end_time": "2022-10-09T09:54:18.742399Z",
     "start_time": "2022-10-09T09:54:18.594081Z"
    }
   },
   "outputs": [
    {
     "data": {
      "text/plain": [
       "tweets            i want a new laptop.  hp tx2000 is the bomb. :| who knows how much it is? im me: \n",
       "sentiment                                                                                         0\n",
       "word_counts                                                                                      20\n",
       "char_counts                                                                                     103\n",
       "avg_word_len                                                                                   4.15\n",
       "stop_word_len                                                                                     6\n",
       "#_counts                                                                                          0\n",
       "@_counts                                                                                          0\n",
       "numeric_counts                                                                                    0\n",
       "upper_counts                                                                                      4\n",
       "email                                                                      [gabbehhramos@yahoo.com]\n",
       "email_counts                                                                                      1\n",
       "Name: 4054, dtype: object"
      ]
     },
     "execution_count": 48,
     "metadata": {},
     "output_type": "execute_result"
    }
   ],
   "source": [
    "df.loc[4054] "
   ]
  },
  {
   "cell_type": "code",
   "execution_count": 49,
   "id": "ae285c01",
   "metadata": {
    "ExecuteTime": {
     "end_time": "2022-10-09T09:54:18.762682Z",
     "start_time": "2022-10-09T09:54:18.744702Z"
    },
    "scrolled": true
   },
   "outputs": [
    {
     "data": {
      "text/html": [
       "<div>\n",
       "<style scoped>\n",
       "    .dataframe tbody tr th:only-of-type {\n",
       "        vertical-align: middle;\n",
       "    }\n",
       "\n",
       "    .dataframe tbody tr th {\n",
       "        vertical-align: top;\n",
       "    }\n",
       "\n",
       "    .dataframe thead th {\n",
       "        text-align: right;\n",
       "    }\n",
       "</style>\n",
       "<table border=\"1\" class=\"dataframe\">\n",
       "  <thead>\n",
       "    <tr style=\"text-align: right;\">\n",
       "      <th></th>\n",
       "      <th>tweets</th>\n",
       "      <th>sentiment</th>\n",
       "      <th>word_counts</th>\n",
       "      <th>char_counts</th>\n",
       "      <th>avg_word_len</th>\n",
       "      <th>stop_word_len</th>\n",
       "      <th>#_counts</th>\n",
       "      <th>@_counts</th>\n",
       "      <th>numeric_counts</th>\n",
       "      <th>upper_counts</th>\n",
       "      <th>email</th>\n",
       "      <th>email_counts</th>\n",
       "    </tr>\n",
       "  </thead>\n",
       "  <tbody>\n",
       "    <tr>\n",
       "      <th>4054</th>\n",
       "      <td>i want a new laptop.  hp tx2000 is the bomb. :| who knows how much it is? im me:</td>\n",
       "      <td>0</td>\n",
       "      <td>20</td>\n",
       "      <td>103</td>\n",
       "      <td>4.150000</td>\n",
       "      <td>6</td>\n",
       "      <td>0</td>\n",
       "      <td>0</td>\n",
       "      <td>0</td>\n",
       "      <td>4</td>\n",
       "      <td>[gabbehhramos@yahoo.com]</td>\n",
       "      <td>1</td>\n",
       "    </tr>\n",
       "    <tr>\n",
       "      <th>7917</th>\n",
       "      <td>who stole ?</td>\n",
       "      <td>0</td>\n",
       "      <td>3</td>\n",
       "      <td>31</td>\n",
       "      <td>9.000000</td>\n",
       "      <td>1</td>\n",
       "      <td>0</td>\n",
       "      <td>0</td>\n",
       "      <td>0</td>\n",
       "      <td>0</td>\n",
       "      <td>[elledell@gmail.com]</td>\n",
       "      <td>1</td>\n",
       "    </tr>\n",
       "    <tr>\n",
       "      <th>8496</th>\n",
       "      <td>@alexistehpom  really? did you send out all the info already? if you did..maybe you could just email me stuff</td>\n",
       "      <td>0</td>\n",
       "      <td>20</td>\n",
       "      <td>130</td>\n",
       "      <td>5.500000</td>\n",
       "      <td>11</td>\n",
       "      <td>0</td>\n",
       "      <td>1</td>\n",
       "      <td>0</td>\n",
       "      <td>0</td>\n",
       "      <td>[missataari@gmail.com]</td>\n",
       "      <td>1</td>\n",
       "    </tr>\n",
       "    <tr>\n",
       "      <th>10290</th>\n",
       "      <td>@laureystack awh...that's kinda sad  lol add me??</td>\n",
       "      <td>0</td>\n",
       "      <td>8</td>\n",
       "      <td>76</td>\n",
       "      <td>8.500000</td>\n",
       "      <td>0</td>\n",
       "      <td>0</td>\n",
       "      <td>1</td>\n",
       "      <td>0</td>\n",
       "      <td>0</td>\n",
       "      <td>[hello.kitty.65@hotmail.com]</td>\n",
       "      <td>1</td>\n",
       "    </tr>\n",
       "    <tr>\n",
       "      <th>16413</th>\n",
       "      <td>@jilliancyork  got 2 bottom of it, human error  bug from a release last month, being fixed tonight.  email  for details</td>\n",
       "      <td>0</td>\n",
       "      <td>21</td>\n",
       "      <td>137</td>\n",
       "      <td>5.428571</td>\n",
       "      <td>7</td>\n",
       "      <td>0</td>\n",
       "      <td>1</td>\n",
       "      <td>1</td>\n",
       "      <td>0</td>\n",
       "      <td>[press@linkedin.com]</td>\n",
       "      <td>1</td>\n",
       "    </tr>\n",
       "  </tbody>\n",
       "</table>\n",
       "</div>"
      ],
      "text/plain": [
       "                                                                                                                        tweets  \\\n",
       "4054                                         i want a new laptop.  hp tx2000 is the bomb. :| who knows how much it is? im me:    \n",
       "7917                                                                                                             who stole ?     \n",
       "8496            @alexistehpom  really? did you send out all the info already? if you did..maybe you could just email me stuff    \n",
       "10290                                                                       @laureystack awh...that's kinda sad  lol add me??    \n",
       "16413  @jilliancyork  got 2 bottom of it, human error  bug from a release last month, being fixed tonight.  email  for details   \n",
       "\n",
       "       sentiment  word_counts  char_counts  avg_word_len  stop_word_len  \\\n",
       "4054           0           20          103      4.150000              6   \n",
       "7917           0            3           31      9.000000              1   \n",
       "8496           0           20          130      5.500000             11   \n",
       "10290          0            8           76      8.500000              0   \n",
       "16413          0           21          137      5.428571              7   \n",
       "\n",
       "       #_counts  @_counts  numeric_counts  upper_counts  \\\n",
       "4054          0         0               0             4   \n",
       "7917          0         0               0             0   \n",
       "8496          0         1               0             0   \n",
       "10290         0         1               0             0   \n",
       "16413         0         1               1             0   \n",
       "\n",
       "                              email  email_counts  \n",
       "4054       [gabbehhramos@yahoo.com]             1  \n",
       "7917           [elledell@gmail.com]             1  \n",
       "8496         [missataari@gmail.com]             1  \n",
       "10290  [hello.kitty.65@hotmail.com]             1  \n",
       "16413          [press@linkedin.com]             1  "
      ]
     },
     "execution_count": 49,
     "metadata": {},
     "output_type": "execute_result"
    }
   ],
   "source": [
    "df[df['email_counts']>0].head()"
   ]
  },
  {
   "cell_type": "markdown",
   "id": "c126e47c",
   "metadata": {},
   "source": [
    "##### URLs removal and counts"
   ]
  },
  {
   "cell_type": "code",
   "execution_count": 50,
   "id": "e65ad7f5",
   "metadata": {
    "ExecuteTime": {
     "end_time": "2022-10-09T09:54:18.767169Z",
     "start_time": "2022-10-09T09:54:18.764621Z"
    }
   },
   "outputs": [],
   "source": [
    "# 52 min"
   ]
  },
  {
   "cell_type": "code",
   "execution_count": 51,
   "id": "7f549110",
   "metadata": {
    "ExecuteTime": {
     "end_time": "2022-10-09T09:54:18.771675Z",
     "start_time": "2022-10-09T09:54:18.768877Z"
    }
   },
   "outputs": [],
   "source": [
    "x = 'hi, visit https://youtube.com/arafat6462 https://youtube.com'"
   ]
  },
  {
   "cell_type": "code",
   "execution_count": 52,
   "id": "3818c9b2",
   "metadata": {
    "ExecuteTime": {
     "end_time": "2022-10-09T09:54:18.777423Z",
     "start_time": "2022-10-09T09:54:18.773307Z"
    }
   },
   "outputs": [
    {
     "data": {
      "text/plain": [
       "[('https', 'youtube.com', '/arafat6462'), ('https', 'youtube.com', '')]"
      ]
     },
     "execution_count": 52,
     "metadata": {},
     "output_type": "execute_result"
    }
   ],
   "source": [
    "re.findall(r'(http|ftp|https)://([\\w_-]+(?:(?:\\.[\\w_-]+)+))([\\w.,@?^=%&:/~+#-]*[\\w@?^=%&/~+#-])?', x)\n"
   ]
  },
  {
   "cell_type": "code",
   "execution_count": null,
   "id": "aba45c90",
   "metadata": {},
   "outputs": [],
   "source": []
  },
  {
   "cell_type": "code",
   "execution_count": 53,
   "id": "cb23781e",
   "metadata": {
    "ExecuteTime": {
     "end_time": "2022-10-09T09:54:20.872819Z",
     "start_time": "2022-10-09T09:54:18.779417Z"
    }
   },
   "outputs": [],
   "source": [
    "df['url_flag'] = df['tweets'].apply(lambda x: len(re.findall(r'(http|ftp|https)://([\\w_-]+(?:(?:\\.[\\w_-]+)+))([\\w.,@?^=%&:/~+#-]*[\\w@?^=%&/~+#-])?', x)))"
   ]
  },
  {
   "cell_type": "code",
   "execution_count": 54,
   "id": "91bd27a9",
   "metadata": {
    "ExecuteTime": {
     "end_time": "2022-10-09T09:54:20.884733Z",
     "start_time": "2022-10-09T09:54:20.874106Z"
    }
   },
   "outputs": [
    {
     "data": {
      "text/html": [
       "<div>\n",
       "<style scoped>\n",
       "    .dataframe tbody tr th:only-of-type {\n",
       "        vertical-align: middle;\n",
       "    }\n",
       "\n",
       "    .dataframe tbody tr th {\n",
       "        vertical-align: top;\n",
       "    }\n",
       "\n",
       "    .dataframe thead th {\n",
       "        text-align: right;\n",
       "    }\n",
       "</style>\n",
       "<table border=\"1\" class=\"dataframe\">\n",
       "  <thead>\n",
       "    <tr style=\"text-align: right;\">\n",
       "      <th></th>\n",
       "      <th>tweets</th>\n",
       "      <th>sentiment</th>\n",
       "      <th>word_counts</th>\n",
       "      <th>char_counts</th>\n",
       "      <th>avg_word_len</th>\n",
       "      <th>stop_word_len</th>\n",
       "      <th>#_counts</th>\n",
       "      <th>@_counts</th>\n",
       "      <th>numeric_counts</th>\n",
       "      <th>upper_counts</th>\n",
       "      <th>email</th>\n",
       "      <th>email_counts</th>\n",
       "      <th>url_flag</th>\n",
       "    </tr>\n",
       "  </thead>\n",
       "  <tbody>\n",
       "    <tr>\n",
       "      <th>0</th>\n",
       "      <td>@switchfoot http://twitpic.com/2y1zl - awww, that's a bummer.  you shoulda got david carr of third day to do it. ;d</td>\n",
       "      <td>0</td>\n",
       "      <td>19</td>\n",
       "      <td>115</td>\n",
       "      <td>5.052632</td>\n",
       "      <td>4</td>\n",
       "      <td>0</td>\n",
       "      <td>1</td>\n",
       "      <td>0</td>\n",
       "      <td>1</td>\n",
       "      <td>[]</td>\n",
       "      <td>0</td>\n",
       "      <td>1</td>\n",
       "    </tr>\n",
       "    <tr>\n",
       "      <th>1</th>\n",
       "      <td>is upset that he can't update his facebook by texting it... and might cry as a result  school today also. blah!</td>\n",
       "      <td>0</td>\n",
       "      <td>21</td>\n",
       "      <td>111</td>\n",
       "      <td>4.285714</td>\n",
       "      <td>9</td>\n",
       "      <td>0</td>\n",
       "      <td>0</td>\n",
       "      <td>0</td>\n",
       "      <td>0</td>\n",
       "      <td>[]</td>\n",
       "      <td>0</td>\n",
       "      <td>0</td>\n",
       "    </tr>\n",
       "    <tr>\n",
       "      <th>2</th>\n",
       "      <td>@kenichan i dived many times for the ball. managed to save 50%  the rest go out of bounds</td>\n",
       "      <td>0</td>\n",
       "      <td>18</td>\n",
       "      <td>89</td>\n",
       "      <td>3.944444</td>\n",
       "      <td>7</td>\n",
       "      <td>0</td>\n",
       "      <td>1</td>\n",
       "      <td>0</td>\n",
       "      <td>1</td>\n",
       "      <td>[]</td>\n",
       "      <td>0</td>\n",
       "      <td>0</td>\n",
       "    </tr>\n",
       "    <tr>\n",
       "      <th>3</th>\n",
       "      <td>my whole body feels itchy and like its on fire</td>\n",
       "      <td>0</td>\n",
       "      <td>10</td>\n",
       "      <td>47</td>\n",
       "      <td>3.700000</td>\n",
       "      <td>5</td>\n",
       "      <td>0</td>\n",
       "      <td>0</td>\n",
       "      <td>0</td>\n",
       "      <td>0</td>\n",
       "      <td>[]</td>\n",
       "      <td>0</td>\n",
       "      <td>0</td>\n",
       "    </tr>\n",
       "    <tr>\n",
       "      <th>4</th>\n",
       "      <td>@nationwideclass no, it's not behaving at all. i'm mad. why am i here? because i can't see you all over there.</td>\n",
       "      <td>0</td>\n",
       "      <td>21</td>\n",
       "      <td>111</td>\n",
       "      <td>4.285714</td>\n",
       "      <td>10</td>\n",
       "      <td>0</td>\n",
       "      <td>1</td>\n",
       "      <td>0</td>\n",
       "      <td>1</td>\n",
       "      <td>[]</td>\n",
       "      <td>0</td>\n",
       "      <td>0</td>\n",
       "    </tr>\n",
       "  </tbody>\n",
       "</table>\n",
       "</div>"
      ],
      "text/plain": [
       "                                                                                                                tweets  \\\n",
       "0  @switchfoot http://twitpic.com/2y1zl - awww, that's a bummer.  you shoulda got david carr of third day to do it. ;d   \n",
       "1      is upset that he can't update his facebook by texting it... and might cry as a result  school today also. blah!   \n",
       "2                            @kenichan i dived many times for the ball. managed to save 50%  the rest go out of bounds   \n",
       "3                                                                      my whole body feels itchy and like its on fire    \n",
       "4      @nationwideclass no, it's not behaving at all. i'm mad. why am i here? because i can't see you all over there.    \n",
       "\n",
       "   sentiment  word_counts  char_counts  avg_word_len  stop_word_len  #_counts  \\\n",
       "0          0           19          115      5.052632              4         0   \n",
       "1          0           21          111      4.285714              9         0   \n",
       "2          0           18           89      3.944444              7         0   \n",
       "3          0           10           47      3.700000              5         0   \n",
       "4          0           21          111      4.285714             10         0   \n",
       "\n",
       "   @_counts  numeric_counts  upper_counts email  email_counts  url_flag  \n",
       "0         1               0             1    []             0         1  \n",
       "1         0               0             0    []             0         0  \n",
       "2         1               0             1    []             0         0  \n",
       "3         0               0             0    []             0         0  \n",
       "4         1               0             1    []             0         0  "
      ]
     },
     "execution_count": 54,
     "metadata": {},
     "output_type": "execute_result"
    }
   ],
   "source": [
    "df.head()"
   ]
  },
  {
   "cell_type": "code",
   "execution_count": 55,
   "id": "9eb20391",
   "metadata": {
    "ExecuteTime": {
     "end_time": "2022-10-09T09:54:20.895034Z",
     "start_time": "2022-10-09T09:54:20.885938Z"
    }
   },
   "outputs": [
    {
     "data": {
      "text/plain": [
       "'hi, visit  '"
      ]
     },
     "execution_count": 55,
     "metadata": {},
     "output_type": "execute_result"
    }
   ],
   "source": [
    "re.sub(r'(http|ftp|https)://([\\w_-]+(?:(?:\\.[\\w_-]+)+))([\\w.,@?^=%&:/~+#-]*[\\w@?^=%&/~+#-])?',\"\", x)\n"
   ]
  },
  {
   "cell_type": "code",
   "execution_count": 56,
   "id": "1027b9b1",
   "metadata": {
    "ExecuteTime": {
     "end_time": "2022-10-09T09:54:22.902118Z",
     "start_time": "2022-10-09T09:54:20.896416Z"
    }
   },
   "outputs": [],
   "source": [
    "# remove form dataframe\n",
    "df['tweets'] = df['tweets'].apply(lambda x: re.sub(r'(http|ftp|https)://([\\w_-]+(?:(?:\\.[\\w_-]+)+))([\\w.,@?^=%&:/~+#-]*[\\w@?^=%&/~+#-])?','', x))"
   ]
  },
  {
   "cell_type": "code",
   "execution_count": 57,
   "id": "9c5da22a",
   "metadata": {
    "ExecuteTime": {
     "end_time": "2022-10-09T09:54:22.920749Z",
     "start_time": "2022-10-09T09:54:22.904218Z"
    },
    "scrolled": true
   },
   "outputs": [
    {
     "data": {
      "text/html": [
       "<div>\n",
       "<style scoped>\n",
       "    .dataframe tbody tr th:only-of-type {\n",
       "        vertical-align: middle;\n",
       "    }\n",
       "\n",
       "    .dataframe tbody tr th {\n",
       "        vertical-align: top;\n",
       "    }\n",
       "\n",
       "    .dataframe thead th {\n",
       "        text-align: right;\n",
       "    }\n",
       "</style>\n",
       "<table border=\"1\" class=\"dataframe\">\n",
       "  <thead>\n",
       "    <tr style=\"text-align: right;\">\n",
       "      <th></th>\n",
       "      <th>tweets</th>\n",
       "      <th>sentiment</th>\n",
       "      <th>word_counts</th>\n",
       "      <th>char_counts</th>\n",
       "      <th>avg_word_len</th>\n",
       "      <th>stop_word_len</th>\n",
       "      <th>#_counts</th>\n",
       "      <th>@_counts</th>\n",
       "      <th>numeric_counts</th>\n",
       "      <th>upper_counts</th>\n",
       "      <th>email</th>\n",
       "      <th>email_counts</th>\n",
       "      <th>url_flag</th>\n",
       "    </tr>\n",
       "  </thead>\n",
       "  <tbody>\n",
       "    <tr>\n",
       "      <th>0</th>\n",
       "      <td>@switchfoot  - awww, that's a bummer.  you shoulda got david carr of third day to do it. ;d</td>\n",
       "      <td>0</td>\n",
       "      <td>19</td>\n",
       "      <td>115</td>\n",
       "      <td>5.052632</td>\n",
       "      <td>4</td>\n",
       "      <td>0</td>\n",
       "      <td>1</td>\n",
       "      <td>0</td>\n",
       "      <td>1</td>\n",
       "      <td>[]</td>\n",
       "      <td>0</td>\n",
       "      <td>1</td>\n",
       "    </tr>\n",
       "    <tr>\n",
       "      <th>1</th>\n",
       "      <td>is upset that he can't update his facebook by texting it... and might cry as a result  school today also. blah!</td>\n",
       "      <td>0</td>\n",
       "      <td>21</td>\n",
       "      <td>111</td>\n",
       "      <td>4.285714</td>\n",
       "      <td>9</td>\n",
       "      <td>0</td>\n",
       "      <td>0</td>\n",
       "      <td>0</td>\n",
       "      <td>0</td>\n",
       "      <td>[]</td>\n",
       "      <td>0</td>\n",
       "      <td>0</td>\n",
       "    </tr>\n",
       "    <tr>\n",
       "      <th>2</th>\n",
       "      <td>@kenichan i dived many times for the ball. managed to save 50%  the rest go out of bounds</td>\n",
       "      <td>0</td>\n",
       "      <td>18</td>\n",
       "      <td>89</td>\n",
       "      <td>3.944444</td>\n",
       "      <td>7</td>\n",
       "      <td>0</td>\n",
       "      <td>1</td>\n",
       "      <td>0</td>\n",
       "      <td>1</td>\n",
       "      <td>[]</td>\n",
       "      <td>0</td>\n",
       "      <td>0</td>\n",
       "    </tr>\n",
       "    <tr>\n",
       "      <th>3</th>\n",
       "      <td>my whole body feels itchy and like its on fire</td>\n",
       "      <td>0</td>\n",
       "      <td>10</td>\n",
       "      <td>47</td>\n",
       "      <td>3.700000</td>\n",
       "      <td>5</td>\n",
       "      <td>0</td>\n",
       "      <td>0</td>\n",
       "      <td>0</td>\n",
       "      <td>0</td>\n",
       "      <td>[]</td>\n",
       "      <td>0</td>\n",
       "      <td>0</td>\n",
       "    </tr>\n",
       "    <tr>\n",
       "      <th>4</th>\n",
       "      <td>@nationwideclass no, it's not behaving at all. i'm mad. why am i here? because i can't see you all over there.</td>\n",
       "      <td>0</td>\n",
       "      <td>21</td>\n",
       "      <td>111</td>\n",
       "      <td>4.285714</td>\n",
       "      <td>10</td>\n",
       "      <td>0</td>\n",
       "      <td>1</td>\n",
       "      <td>0</td>\n",
       "      <td>1</td>\n",
       "      <td>[]</td>\n",
       "      <td>0</td>\n",
       "      <td>0</td>\n",
       "    </tr>\n",
       "  </tbody>\n",
       "</table>\n",
       "</div>"
      ],
      "text/plain": [
       "                                                                                                            tweets  \\\n",
       "0                      @switchfoot  - awww, that's a bummer.  you shoulda got david carr of third day to do it. ;d   \n",
       "1  is upset that he can't update his facebook by texting it... and might cry as a result  school today also. blah!   \n",
       "2                        @kenichan i dived many times for the ball. managed to save 50%  the rest go out of bounds   \n",
       "3                                                                  my whole body feels itchy and like its on fire    \n",
       "4  @nationwideclass no, it's not behaving at all. i'm mad. why am i here? because i can't see you all over there.    \n",
       "\n",
       "   sentiment  word_counts  char_counts  avg_word_len  stop_word_len  #_counts  \\\n",
       "0          0           19          115      5.052632              4         0   \n",
       "1          0           21          111      4.285714              9         0   \n",
       "2          0           18           89      3.944444              7         0   \n",
       "3          0           10           47      3.700000              5         0   \n",
       "4          0           21          111      4.285714             10         0   \n",
       "\n",
       "   @_counts  numeric_counts  upper_counts email  email_counts  url_flag  \n",
       "0         1               0             1    []             0         1  \n",
       "1         0               0             0    []             0         0  \n",
       "2         1               0             1    []             0         0  \n",
       "3         0               0             0    []             0         0  \n",
       "4         1               0             1    []             0         0  "
      ]
     },
     "execution_count": 57,
     "metadata": {},
     "output_type": "execute_result"
    }
   ],
   "source": [
    "df.head()"
   ]
  },
  {
   "cell_type": "code",
   "execution_count": 58,
   "id": "d8f807f2",
   "metadata": {
    "ExecuteTime": {
     "end_time": "2022-10-09T09:54:23.097202Z",
     "start_time": "2022-10-09T09:54:22.922629Z"
    }
   },
   "outputs": [
    {
     "data": {
      "text/plain": [
       "\"@switchfoot  - awww, that's a bummer.  you shoulda got david carr of third day to do it. ;d\""
      ]
     },
     "execution_count": 58,
     "metadata": {},
     "output_type": "execute_result"
    }
   ],
   "source": [
    "df.loc[0]['tweets']"
   ]
  },
  {
   "cell_type": "markdown",
   "id": "97328382",
   "metadata": {},
   "source": [
    "##### Removal of RT (rt tweets)"
   ]
  },
  {
   "cell_type": "code",
   "execution_count": 59,
   "id": "10892b30",
   "metadata": {
    "ExecuteTime": {
     "end_time": "2022-10-09T09:54:23.138208Z",
     "start_time": "2022-10-09T09:54:23.099447Z"
    }
   },
   "outputs": [
    {
     "data": {
      "text/html": [
       "<div>\n",
       "<style scoped>\n",
       "    .dataframe tbody tr th:only-of-type {\n",
       "        vertical-align: middle;\n",
       "    }\n",
       "\n",
       "    .dataframe tbody tr th {\n",
       "        vertical-align: top;\n",
       "    }\n",
       "\n",
       "    .dataframe thead th {\n",
       "        text-align: right;\n",
       "    }\n",
       "</style>\n",
       "<table border=\"1\" class=\"dataframe\">\n",
       "  <thead>\n",
       "    <tr style=\"text-align: right;\">\n",
       "      <th></th>\n",
       "      <th>tweets</th>\n",
       "      <th>sentiment</th>\n",
       "      <th>word_counts</th>\n",
       "      <th>char_counts</th>\n",
       "      <th>avg_word_len</th>\n",
       "      <th>stop_word_len</th>\n",
       "      <th>#_counts</th>\n",
       "      <th>@_counts</th>\n",
       "      <th>numeric_counts</th>\n",
       "      <th>upper_counts</th>\n",
       "      <th>email</th>\n",
       "      <th>email_counts</th>\n",
       "      <th>url_flag</th>\n",
       "    </tr>\n",
       "  </thead>\n",
       "  <tbody>\n",
       "    <tr>\n",
       "      <th>50</th>\n",
       "      <td>broadband plan 'a massive broken promise'  via www.diigo.com/~tautao still waiting for broadband we are</td>\n",
       "      <td>0</td>\n",
       "      <td>15</td>\n",
       "      <td>129</td>\n",
       "      <td>7.600000</td>\n",
       "      <td>4</td>\n",
       "      <td>0</td>\n",
       "      <td>0</td>\n",
       "      <td>0</td>\n",
       "      <td>0</td>\n",
       "      <td>[]</td>\n",
       "      <td>0</td>\n",
       "      <td>1</td>\n",
       "    </tr>\n",
       "    <tr>\n",
       "      <th>51</th>\n",
       "      <td>@localtweeps wow, tons of replies from you, may have to unfollow so i can see my friends' tweets, you're scrolling the feed a lot.</td>\n",
       "      <td>0</td>\n",
       "      <td>24</td>\n",
       "      <td>131</td>\n",
       "      <td>4.458333</td>\n",
       "      <td>11</td>\n",
       "      <td>0</td>\n",
       "      <td>1</td>\n",
       "      <td>0</td>\n",
       "      <td>1</td>\n",
       "      <td>[]</td>\n",
       "      <td>0</td>\n",
       "      <td>0</td>\n",
       "    </tr>\n",
       "    <tr>\n",
       "      <th>52</th>\n",
       "      <td>our duck and chicken are taking wayyy too long to hatch</td>\n",
       "      <td>0</td>\n",
       "      <td>11</td>\n",
       "      <td>56</td>\n",
       "      <td>4.090909</td>\n",
       "      <td>5</td>\n",
       "      <td>0</td>\n",
       "      <td>0</td>\n",
       "      <td>0</td>\n",
       "      <td>0</td>\n",
       "      <td>[]</td>\n",
       "      <td>0</td>\n",
       "      <td>0</td>\n",
       "    </tr>\n",
       "    <tr>\n",
       "      <th>53</th>\n",
       "      <td>put vacation photos online a few yrs ago. pc crashed, and now i forget the name of the site.</td>\n",
       "      <td>0</td>\n",
       "      <td>19</td>\n",
       "      <td>93</td>\n",
       "      <td>3.894737</td>\n",
       "      <td>8</td>\n",
       "      <td>0</td>\n",
       "      <td>0</td>\n",
       "      <td>0</td>\n",
       "      <td>2</td>\n",
       "      <td>[]</td>\n",
       "      <td>0</td>\n",
       "      <td>0</td>\n",
       "    </tr>\n",
       "    <tr>\n",
       "      <th>54</th>\n",
       "      <td>i need a hug</td>\n",
       "      <td>0</td>\n",
       "      <td>4</td>\n",
       "      <td>13</td>\n",
       "      <td>2.250000</td>\n",
       "      <td>1</td>\n",
       "      <td>0</td>\n",
       "      <td>0</td>\n",
       "      <td>0</td>\n",
       "      <td>1</td>\n",
       "      <td>[]</td>\n",
       "      <td>0</td>\n",
       "      <td>0</td>\n",
       "    </tr>\n",
       "    <tr>\n",
       "      <th>55</th>\n",
       "      <td>@andywana not sure what they are, only that they are pos! as much as i want to, i dont think can trade away company assets sorry andy!</td>\n",
       "      <td>0</td>\n",
       "      <td>27</td>\n",
       "      <td>135</td>\n",
       "      <td>4.000000</td>\n",
       "      <td>9</td>\n",
       "      <td>0</td>\n",
       "      <td>1</td>\n",
       "      <td>0</td>\n",
       "      <td>2</td>\n",
       "      <td>[]</td>\n",
       "      <td>0</td>\n",
       "      <td>0</td>\n",
       "    </tr>\n",
       "    <tr>\n",
       "      <th>56</th>\n",
       "      <td>@oanhlove i hate when that happens...</td>\n",
       "      <td>0</td>\n",
       "      <td>6</td>\n",
       "      <td>38</td>\n",
       "      <td>5.333333</td>\n",
       "      <td>2</td>\n",
       "      <td>0</td>\n",
       "      <td>1</td>\n",
       "      <td>0</td>\n",
       "      <td>1</td>\n",
       "      <td>[]</td>\n",
       "      <td>0</td>\n",
       "      <td>0</td>\n",
       "    </tr>\n",
       "    <tr>\n",
       "      <th>57</th>\n",
       "      <td>i have a sad feeling that dallas is not going to show up  i gotta say though, you'd think more shows would use music from the game. mmm</td>\n",
       "      <td>0</td>\n",
       "      <td>28</td>\n",
       "      <td>135</td>\n",
       "      <td>3.821429</td>\n",
       "      <td>13</td>\n",
       "      <td>0</td>\n",
       "      <td>0</td>\n",
       "      <td>0</td>\n",
       "      <td>2</td>\n",
       "      <td>[]</td>\n",
       "      <td>0</td>\n",
       "      <td>0</td>\n",
       "    </tr>\n",
       "    <tr>\n",
       "      <th>58</th>\n",
       "      <td>ugh....92 degrees tomorrow</td>\n",
       "      <td>0</td>\n",
       "      <td>3</td>\n",
       "      <td>27</td>\n",
       "      <td>8.000000</td>\n",
       "      <td>0</td>\n",
       "      <td>0</td>\n",
       "      <td>0</td>\n",
       "      <td>0</td>\n",
       "      <td>0</td>\n",
       "      <td>[]</td>\n",
       "      <td>0</td>\n",
       "      <td>0</td>\n",
       "    </tr>\n",
       "    <tr>\n",
       "      <th>59</th>\n",
       "      <td>where did u move to?  i thought u were already in sd. ?? hmmm. random u found me. glad to hear yer doing well.</td>\n",
       "      <td>0</td>\n",
       "      <td>24</td>\n",
       "      <td>110</td>\n",
       "      <td>3.583333</td>\n",
       "      <td>7</td>\n",
       "      <td>0</td>\n",
       "      <td>0</td>\n",
       "      <td>0</td>\n",
       "      <td>1</td>\n",
       "      <td>[]</td>\n",
       "      <td>0</td>\n",
       "      <td>0</td>\n",
       "    </tr>\n",
       "    <tr>\n",
       "      <th>60</th>\n",
       "      <td>@batmanyng i miss my ps3, it's out of commission  wutcha playing? have you copped 'blood on the sand'?</td>\n",
       "      <td>0</td>\n",
       "      <td>18</td>\n",
       "      <td>102</td>\n",
       "      <td>4.666667</td>\n",
       "      <td>4</td>\n",
       "      <td>0</td>\n",
       "      <td>1</td>\n",
       "      <td>0</td>\n",
       "      <td>1</td>\n",
       "      <td>[]</td>\n",
       "      <td>0</td>\n",
       "      <td>0</td>\n",
       "    </tr>\n",
       "    <tr>\n",
       "      <th>61</th>\n",
       "      <td>just leaving the parking lot of work!</td>\n",
       "      <td>0</td>\n",
       "      <td>7</td>\n",
       "      <td>38</td>\n",
       "      <td>4.428571</td>\n",
       "      <td>3</td>\n",
       "      <td>0</td>\n",
       "      <td>0</td>\n",
       "      <td>0</td>\n",
       "      <td>0</td>\n",
       "      <td>[]</td>\n",
       "      <td>0</td>\n",
       "      <td>0</td>\n",
       "    </tr>\n",
       "    <tr>\n",
       "      <th>62</th>\n",
       "      <td>the life is cool. but not for me.</td>\n",
       "      <td>0</td>\n",
       "      <td>8</td>\n",
       "      <td>34</td>\n",
       "      <td>3.250000</td>\n",
       "      <td>3</td>\n",
       "      <td>0</td>\n",
       "      <td>0</td>\n",
       "      <td>0</td>\n",
       "      <td>0</td>\n",
       "      <td>[]</td>\n",
       "      <td>0</td>\n",
       "      <td>0</td>\n",
       "    </tr>\n",
       "    <tr>\n",
       "      <th>63</th>\n",
       "      <td>sadly though, i've never gotten to experience the post coitus cigarette before, and now i never will.</td>\n",
       "      <td>0</td>\n",
       "      <td>17</td>\n",
       "      <td>102</td>\n",
       "      <td>5.000000</td>\n",
       "      <td>6</td>\n",
       "      <td>0</td>\n",
       "      <td>0</td>\n",
       "      <td>0</td>\n",
       "      <td>1</td>\n",
       "      <td>[]</td>\n",
       "      <td>0</td>\n",
       "      <td>0</td>\n",
       "    </tr>\n",
       "    <tr>\n",
       "      <th>64</th>\n",
       "      <td>i had such a nice day. too bad the rain comes in tomorrow at 5am</td>\n",
       "      <td>0</td>\n",
       "      <td>15</td>\n",
       "      <td>65</td>\n",
       "      <td>3.333333</td>\n",
       "      <td>6</td>\n",
       "      <td>0</td>\n",
       "      <td>0</td>\n",
       "      <td>0</td>\n",
       "      <td>1</td>\n",
       "      <td>[]</td>\n",
       "      <td>0</td>\n",
       "      <td>0</td>\n",
       "    </tr>\n",
       "    <tr>\n",
       "      <th>65</th>\n",
       "      <td>@starrbby too bad i won't be around i lost my job and can't even pay my phone bill lmao aw shucks</td>\n",
       "      <td>0</td>\n",
       "      <td>21</td>\n",
       "      <td>98</td>\n",
       "      <td>3.666667</td>\n",
       "      <td>7</td>\n",
       "      <td>0</td>\n",
       "      <td>1</td>\n",
       "      <td>0</td>\n",
       "      <td>2</td>\n",
       "      <td>[]</td>\n",
       "      <td>0</td>\n",
       "      <td>0</td>\n",
       "    </tr>\n",
       "    <tr>\n",
       "      <th>66</th>\n",
       "      <td>damm back to school tomorrow</td>\n",
       "      <td>0</td>\n",
       "      <td>5</td>\n",
       "      <td>29</td>\n",
       "      <td>4.800000</td>\n",
       "      <td>2</td>\n",
       "      <td>0</td>\n",
       "      <td>0</td>\n",
       "      <td>0</td>\n",
       "      <td>0</td>\n",
       "      <td>[]</td>\n",
       "      <td>0</td>\n",
       "      <td>0</td>\n",
       "    </tr>\n",
       "    <tr>\n",
       "      <th>67</th>\n",
       "      <td>mo jobs, no money.  how in the hell is min wage here 4 f'n clams an hour?</td>\n",
       "      <td>0</td>\n",
       "      <td>17</td>\n",
       "      <td>73</td>\n",
       "      <td>3.294118</td>\n",
       "      <td>7</td>\n",
       "      <td>0</td>\n",
       "      <td>0</td>\n",
       "      <td>1</td>\n",
       "      <td>0</td>\n",
       "      <td>[]</td>\n",
       "      <td>0</td>\n",
       "      <td>0</td>\n",
       "    </tr>\n",
       "    <tr>\n",
       "      <th>68</th>\n",
       "      <td>@katortiz  not forever... see you soon!</td>\n",
       "      <td>0</td>\n",
       "      <td>6</td>\n",
       "      <td>39</td>\n",
       "      <td>5.500000</td>\n",
       "      <td>1</td>\n",
       "      <td>0</td>\n",
       "      <td>1</td>\n",
       "      <td>0</td>\n",
       "      <td>0</td>\n",
       "      <td>[]</td>\n",
       "      <td>0</td>\n",
       "      <td>0</td>\n",
       "    </tr>\n",
       "    <tr>\n",
       "      <th>69</th>\n",
       "      <td>@lt_algonquin agreed, i saw the failwhale allllll day today.</td>\n",
       "      <td>0</td>\n",
       "      <td>9</td>\n",
       "      <td>61</td>\n",
       "      <td>5.777778</td>\n",
       "      <td>1</td>\n",
       "      <td>0</td>\n",
       "      <td>1</td>\n",
       "      <td>0</td>\n",
       "      <td>1</td>\n",
       "      <td>[]</td>\n",
       "      <td>0</td>\n",
       "      <td>0</td>\n",
       "    </tr>\n",
       "    <tr>\n",
       "      <th>70</th>\n",
       "      <td>@jdarter oh! haha... dude i dont really look at em unless someone says hey i added you. sorry  i'm so terrible at that. i need a pop up!</td>\n",
       "      <td>0</td>\n",
       "      <td>28</td>\n",
       "      <td>136</td>\n",
       "      <td>3.857143</td>\n",
       "      <td>7</td>\n",
       "      <td>0</td>\n",
       "      <td>1</td>\n",
       "      <td>0</td>\n",
       "      <td>6</td>\n",
       "      <td>[]</td>\n",
       "      <td>0</td>\n",
       "      <td>0</td>\n",
       "    </tr>\n",
       "    <tr>\n",
       "      <th>71</th>\n",
       "      <td>@ninjen i'm sure you're right...    i need to start working out with you and the nikster... or jared at least!</td>\n",
       "      <td>0</td>\n",
       "      <td>20</td>\n",
       "      <td>110</td>\n",
       "      <td>4.400000</td>\n",
       "      <td>7</td>\n",
       "      <td>0</td>\n",
       "      <td>1</td>\n",
       "      <td>0</td>\n",
       "      <td>1</td>\n",
       "      <td>[]</td>\n",
       "      <td>0</td>\n",
       "      <td>0</td>\n",
       "    </tr>\n",
       "    <tr>\n",
       "      <th>72</th>\n",
       "      <td>i really hate how people diss my bands!  trace is clearly not ugly!</td>\n",
       "      <td>0</td>\n",
       "      <td>13</td>\n",
       "      <td>67</td>\n",
       "      <td>4.153846</td>\n",
       "      <td>5</td>\n",
       "      <td>0</td>\n",
       "      <td>0</td>\n",
       "      <td>0</td>\n",
       "      <td>1</td>\n",
       "      <td>[]</td>\n",
       "      <td>0</td>\n",
       "      <td>0</td>\n",
       "    </tr>\n",
       "    <tr>\n",
       "      <th>73</th>\n",
       "      <td>gym attire today was: puma singlet, adidas shorts.......and black business socks and leather shoes  lucky did not run into any cute girls.</td>\n",
       "      <td>0</td>\n",
       "      <td>22</td>\n",
       "      <td>138</td>\n",
       "      <td>5.272727</td>\n",
       "      <td>5</td>\n",
       "      <td>0</td>\n",
       "      <td>0</td>\n",
       "      <td>0</td>\n",
       "      <td>0</td>\n",
       "      <td>[]</td>\n",
       "      <td>0</td>\n",
       "      <td>0</td>\n",
       "    </tr>\n",
       "    <tr>\n",
       "      <th>74</th>\n",
       "      <td>why won't you show my location?!</td>\n",
       "      <td>0</td>\n",
       "      <td>7</td>\n",
       "      <td>59</td>\n",
       "      <td>7.285714</td>\n",
       "      <td>3</td>\n",
       "      <td>0</td>\n",
       "      <td>0</td>\n",
       "      <td>0</td>\n",
       "      <td>0</td>\n",
       "      <td>[]</td>\n",
       "      <td>0</td>\n",
       "      <td>1</td>\n",
       "    </tr>\n",
       "    <tr>\n",
       "      <th>75</th>\n",
       "      <td>no picnic  my phone smells like citrus.</td>\n",
       "      <td>0</td>\n",
       "      <td>7</td>\n",
       "      <td>39</td>\n",
       "      <td>4.571429</td>\n",
       "      <td>1</td>\n",
       "      <td>0</td>\n",
       "      <td>0</td>\n",
       "      <td>0</td>\n",
       "      <td>0</td>\n",
       "      <td>[]</td>\n",
       "      <td>0</td>\n",
       "      <td>0</td>\n",
       "    </tr>\n",
       "    <tr>\n",
       "      <th>76</th>\n",
       "      <td>@ashleyac my donkey is sensitive about such comments. nevertheless, he'd (and me'd) be glad to see your mug asap. charger is still awol.</td>\n",
       "      <td>0</td>\n",
       "      <td>23</td>\n",
       "      <td>137</td>\n",
       "      <td>4.956522</td>\n",
       "      <td>9</td>\n",
       "      <td>0</td>\n",
       "      <td>1</td>\n",
       "      <td>0</td>\n",
       "      <td>0</td>\n",
       "      <td>[]</td>\n",
       "      <td>0</td>\n",
       "      <td>0</td>\n",
       "    </tr>\n",
       "    <tr>\n",
       "      <th>77</th>\n",
       "      <td>no new csi tonight.  fml</td>\n",
       "      <td>0</td>\n",
       "      <td>5</td>\n",
       "      <td>24</td>\n",
       "      <td>3.800000</td>\n",
       "      <td>0</td>\n",
       "      <td>0</td>\n",
       "      <td>0</td>\n",
       "      <td>0</td>\n",
       "      <td>1</td>\n",
       "      <td>[]</td>\n",
       "      <td>0</td>\n",
       "      <td>0</td>\n",
       "    </tr>\n",
       "    <tr>\n",
       "      <th>78</th>\n",
       "      <td>i think my arms are sore from tennis</td>\n",
       "      <td>0</td>\n",
       "      <td>8</td>\n",
       "      <td>37</td>\n",
       "      <td>3.625000</td>\n",
       "      <td>4</td>\n",
       "      <td>0</td>\n",
       "      <td>0</td>\n",
       "      <td>0</td>\n",
       "      <td>0</td>\n",
       "      <td>[]</td>\n",
       "      <td>0</td>\n",
       "      <td>0</td>\n",
       "    </tr>\n",
       "    <tr>\n",
       "      <th>79</th>\n",
       "      <td>wonders why someone that u like so much can make you so unhappy in a split seccond . depressed .</td>\n",
       "      <td>0</td>\n",
       "      <td>20</td>\n",
       "      <td>97</td>\n",
       "      <td>3.850000</td>\n",
       "      <td>11</td>\n",
       "      <td>0</td>\n",
       "      <td>0</td>\n",
       "      <td>0</td>\n",
       "      <td>0</td>\n",
       "      <td>[]</td>\n",
       "      <td>0</td>\n",
       "      <td>0</td>\n",
       "    </tr>\n",
       "    <tr>\n",
       "      <th>80</th>\n",
       "      <td>sleep soon... i just hate saying bye and see you tomorrow for the night.</td>\n",
       "      <td>0</td>\n",
       "      <td>14</td>\n",
       "      <td>73</td>\n",
       "      <td>4.214286</td>\n",
       "      <td>7</td>\n",
       "      <td>0</td>\n",
       "      <td>0</td>\n",
       "      <td>0</td>\n",
       "      <td>0</td>\n",
       "      <td>[]</td>\n",
       "      <td>0</td>\n",
       "      <td>0</td>\n",
       "    </tr>\n",
       "    <tr>\n",
       "      <th>81</th>\n",
       "      <td>@statravelau just got ur newsletter, those fares really are unbelievable, shame i already booked and paid for mine</td>\n",
       "      <td>0</td>\n",
       "      <td>18</td>\n",
       "      <td>115</td>\n",
       "      <td>5.388889</td>\n",
       "      <td>8</td>\n",
       "      <td>0</td>\n",
       "      <td>1</td>\n",
       "      <td>0</td>\n",
       "      <td>1</td>\n",
       "      <td>[]</td>\n",
       "      <td>0</td>\n",
       "      <td>0</td>\n",
       "    </tr>\n",
       "    <tr>\n",
       "      <th>82</th>\n",
       "      <td>missin' the boo</td>\n",
       "      <td>0</td>\n",
       "      <td>3</td>\n",
       "      <td>16</td>\n",
       "      <td>4.333333</td>\n",
       "      <td>1</td>\n",
       "      <td>0</td>\n",
       "      <td>0</td>\n",
       "      <td>0</td>\n",
       "      <td>0</td>\n",
       "      <td>[]</td>\n",
       "      <td>0</td>\n",
       "      <td>0</td>\n",
       "    </tr>\n",
       "    <tr>\n",
       "      <th>83</th>\n",
       "      <td>@markhardy1974 me too  #itm</td>\n",
       "      <td>0</td>\n",
       "      <td>4</td>\n",
       "      <td>27</td>\n",
       "      <td>5.750000</td>\n",
       "      <td>1</td>\n",
       "      <td>1</td>\n",
       "      <td>1</td>\n",
       "      <td>0</td>\n",
       "      <td>0</td>\n",
       "      <td>[]</td>\n",
       "      <td>0</td>\n",
       "      <td>0</td>\n",
       "    </tr>\n",
       "    <tr>\n",
       "      <th>84</th>\n",
       "      <td>damn... i don't have any chalk! my chalkboard is useless</td>\n",
       "      <td>0</td>\n",
       "      <td>10</td>\n",
       "      <td>57</td>\n",
       "      <td>4.700000</td>\n",
       "      <td>2</td>\n",
       "      <td>0</td>\n",
       "      <td>0</td>\n",
       "      <td>0</td>\n",
       "      <td>5</td>\n",
       "      <td>[]</td>\n",
       "      <td>0</td>\n",
       "      <td>0</td>\n",
       "    </tr>\n",
       "    <tr>\n",
       "      <th>85</th>\n",
       "      <td>had a blast at the getty villa, but hates that she's had a sore throat all day. it's just getting worse too</td>\n",
       "      <td>0</td>\n",
       "      <td>22</td>\n",
       "      <td>108</td>\n",
       "      <td>3.909091</td>\n",
       "      <td>11</td>\n",
       "      <td>0</td>\n",
       "      <td>0</td>\n",
       "      <td>0</td>\n",
       "      <td>0</td>\n",
       "      <td>[]</td>\n",
       "      <td>0</td>\n",
       "      <td>0</td>\n",
       "    </tr>\n",
       "    <tr>\n",
       "      <th>86</th>\n",
       "      <td>@msdrama hey missed ya at the meeting  sup mama</td>\n",
       "      <td>0</td>\n",
       "      <td>9</td>\n",
       "      <td>47</td>\n",
       "      <td>4.222222</td>\n",
       "      <td>2</td>\n",
       "      <td>0</td>\n",
       "      <td>1</td>\n",
       "      <td>0</td>\n",
       "      <td>0</td>\n",
       "      <td>[]</td>\n",
       "      <td>0</td>\n",
       "      <td>0</td>\n",
       "    </tr>\n",
       "    <tr>\n",
       "      <th>87</th>\n",
       "      <td>my tummy hurts.  i wonder if the hypnosis has anything to do with it? if so, it's working, i get it, stop smoking!!!</td>\n",
       "      <td>0</td>\n",
       "      <td>23</td>\n",
       "      <td>116</td>\n",
       "      <td>4.043478</td>\n",
       "      <td>8</td>\n",
       "      <td>0</td>\n",
       "      <td>0</td>\n",
       "      <td>0</td>\n",
       "      <td>4</td>\n",
       "      <td>[]</td>\n",
       "      <td>0</td>\n",
       "      <td>0</td>\n",
       "    </tr>\n",
       "    <tr>\n",
       "      <th>88</th>\n",
       "      <td>why is it always the fat ones?!</td>\n",
       "      <td>0</td>\n",
       "      <td>7</td>\n",
       "      <td>32</td>\n",
       "      <td>3.571429</td>\n",
       "      <td>5</td>\n",
       "      <td>0</td>\n",
       "      <td>0</td>\n",
       "      <td>0</td>\n",
       "      <td>0</td>\n",
       "      <td>[]</td>\n",
       "      <td>0</td>\n",
       "      <td>0</td>\n",
       "    </tr>\n",
       "    <tr>\n",
       "      <th>89</th>\n",
       "      <td>@januarycrimson sorry, babe!!  my fam annoys me too. thankfully, they're asleep right now. muahaha. *evil laugh*</td>\n",
       "      <td>0</td>\n",
       "      <td>16</td>\n",
       "      <td>112</td>\n",
       "      <td>6.000000</td>\n",
       "      <td>1</td>\n",
       "      <td>0</td>\n",
       "      <td>1</td>\n",
       "      <td>0</td>\n",
       "      <td>0</td>\n",
       "      <td>[]</td>\n",
       "      <td>0</td>\n",
       "      <td>0</td>\n",
       "    </tr>\n",
       "    <tr>\n",
       "      <th>90</th>\n",
       "      <td>@hollywoodheat i should have paid more attention when we covered photoshop in my webpage design class in undergrad</td>\n",
       "      <td>0</td>\n",
       "      <td>18</td>\n",
       "      <td>115</td>\n",
       "      <td>5.388889</td>\n",
       "      <td>8</td>\n",
       "      <td>0</td>\n",
       "      <td>1</td>\n",
       "      <td>0</td>\n",
       "      <td>1</td>\n",
       "      <td>[]</td>\n",
       "      <td>0</td>\n",
       "      <td>0</td>\n",
       "    </tr>\n",
       "    <tr>\n",
       "      <th>91</th>\n",
       "      <td>wednesday my b-day! don't know what 2 do!!</td>\n",
       "      <td>0</td>\n",
       "      <td>8</td>\n",
       "      <td>43</td>\n",
       "      <td>4.375000</td>\n",
       "      <td>2</td>\n",
       "      <td>0</td>\n",
       "      <td>0</td>\n",
       "      <td>1</td>\n",
       "      <td>0</td>\n",
       "      <td>[]</td>\n",
       "      <td>0</td>\n",
       "      <td>0</td>\n",
       "    </tr>\n",
       "    <tr>\n",
       "      <th>92</th>\n",
       "      <td>poor cameron (the hills)</td>\n",
       "      <td>0</td>\n",
       "      <td>4</td>\n",
       "      <td>25</td>\n",
       "      <td>5.250000</td>\n",
       "      <td>0</td>\n",
       "      <td>0</td>\n",
       "      <td>0</td>\n",
       "      <td>0</td>\n",
       "      <td>0</td>\n",
       "      <td>[]</td>\n",
       "      <td>0</td>\n",
       "      <td>0</td>\n",
       "    </tr>\n",
       "    <tr>\n",
       "      <th>93</th>\n",
       "      <td>pray for me please, the ex is threatening to start sh** at my/our babies 1st birthday party. what a jerk. and i still have a headache</td>\n",
       "      <td>0</td>\n",
       "      <td>26</td>\n",
       "      <td>134</td>\n",
       "      <td>4.153846</td>\n",
       "      <td>12</td>\n",
       "      <td>0</td>\n",
       "      <td>0</td>\n",
       "      <td>0</td>\n",
       "      <td>1</td>\n",
       "      <td>[]</td>\n",
       "      <td>0</td>\n",
       "      <td>0</td>\n",
       "    </tr>\n",
       "    <tr>\n",
       "      <th>94</th>\n",
       "      <td>@makeherfamous hmm  , do u really enjoy being with him ? if the problems are too constants u should think things more , find someone ulike</td>\n",
       "      <td>0</td>\n",
       "      <td>26</td>\n",
       "      <td>138</td>\n",
       "      <td>4.307692</td>\n",
       "      <td>12</td>\n",
       "      <td>0</td>\n",
       "      <td>1</td>\n",
       "      <td>0</td>\n",
       "      <td>0</td>\n",
       "      <td>[]</td>\n",
       "      <td>0</td>\n",
       "      <td>0</td>\n",
       "    </tr>\n",
       "    <tr>\n",
       "      <th>95</th>\n",
       "      <td>strider is a sick little puppy</td>\n",
       "      <td>0</td>\n",
       "      <td>7</td>\n",
       "      <td>85</td>\n",
       "      <td>11.142857</td>\n",
       "      <td>2</td>\n",
       "      <td>0</td>\n",
       "      <td>0</td>\n",
       "      <td>0</td>\n",
       "      <td>0</td>\n",
       "      <td>[]</td>\n",
       "      <td>0</td>\n",
       "      <td>1</td>\n",
       "    </tr>\n",
       "    <tr>\n",
       "      <th>96</th>\n",
       "      <td>so rylee,grace...wana go steve's party or not?? sadly since its easter i wnt b able 2 do much  but ohh well.....</td>\n",
       "      <td>0</td>\n",
       "      <td>21</td>\n",
       "      <td>112</td>\n",
       "      <td>4.333333</td>\n",
       "      <td>3</td>\n",
       "      <td>0</td>\n",
       "      <td>0</td>\n",
       "      <td>1</td>\n",
       "      <td>13</td>\n",
       "      <td>[]</td>\n",
       "      <td>0</td>\n",
       "      <td>0</td>\n",
       "    </tr>\n",
       "    <tr>\n",
       "      <th>97</th>\n",
       "      <td>hey, i actually won one of my bracket pools! too bad it wasn't the one for money</td>\n",
       "      <td>0</td>\n",
       "      <td>17</td>\n",
       "      <td>81</td>\n",
       "      <td>3.764706</td>\n",
       "      <td>7</td>\n",
       "      <td>0</td>\n",
       "      <td>0</td>\n",
       "      <td>0</td>\n",
       "      <td>1</td>\n",
       "      <td>[]</td>\n",
       "      <td>0</td>\n",
       "      <td>0</td>\n",
       "    </tr>\n",
       "    <tr>\n",
       "      <th>98</th>\n",
       "      <td>@stark you don't follow me, either  and i work for you!</td>\n",
       "      <td>0</td>\n",
       "      <td>11</td>\n",
       "      <td>55</td>\n",
       "      <td>4.000000</td>\n",
       "      <td>4</td>\n",
       "      <td>0</td>\n",
       "      <td>1</td>\n",
       "      <td>0</td>\n",
       "      <td>1</td>\n",
       "      <td>[]</td>\n",
       "      <td>0</td>\n",
       "      <td>0</td>\n",
       "    </tr>\n",
       "    <tr>\n",
       "      <th>99</th>\n",
       "      <td>a bad nite for the favorite teams: astros and spartans lose.  the nite out with t.w. was good.</td>\n",
       "      <td>0</td>\n",
       "      <td>18</td>\n",
       "      <td>94</td>\n",
       "      <td>4.222222</td>\n",
       "      <td>6</td>\n",
       "      <td>0</td>\n",
       "      <td>0</td>\n",
       "      <td>0</td>\n",
       "      <td>2</td>\n",
       "      <td>[]</td>\n",
       "      <td>0</td>\n",
       "      <td>0</td>\n",
       "    </tr>\n",
       "  </tbody>\n",
       "</table>\n",
       "</div>"
      ],
      "text/plain": [
       "                                                                                                                                        tweets  \\\n",
       "50                                    broadband plan 'a massive broken promise'  via www.diigo.com/~tautao still waiting for broadband we are    \n",
       "51         @localtweeps wow, tons of replies from you, may have to unfollow so i can see my friends' tweets, you're scrolling the feed a lot.    \n",
       "52                                                                                    our duck and chicken are taking wayyy too long to hatch    \n",
       "53                                               put vacation photos online a few yrs ago. pc crashed, and now i forget the name of the site.    \n",
       "54                                                                                                                               i need a hug    \n",
       "55     @andywana not sure what they are, only that they are pos! as much as i want to, i dont think can trade away company assets sorry andy!    \n",
       "56                                                                                                      @oanhlove i hate when that happens...    \n",
       "57     i have a sad feeling that dallas is not going to show up  i gotta say though, you'd think more shows would use music from the game. mmm   \n",
       "58                                                                                                                 ugh....92 degrees tomorrow    \n",
       "59                              where did u move to?  i thought u were already in sd. ?? hmmm. random u found me. glad to hear yer doing well.   \n",
       "60                                      @batmanyng i miss my ps3, it's out of commission  wutcha playing? have you copped 'blood on the sand'?   \n",
       "61                                                                                                      just leaving the parking lot of work!    \n",
       "62                                                                                                          the life is cool. but not for me.    \n",
       "63                                      sadly though, i've never gotten to experience the post coitus cigarette before, and now i never will.    \n",
       "64                                                                           i had such a nice day. too bad the rain comes in tomorrow at 5am    \n",
       "65                                          @starrbby too bad i won't be around i lost my job and can't even pay my phone bill lmao aw shucks    \n",
       "66                                                                                                               damm back to school tomorrow    \n",
       "67                                                                   mo jobs, no money.  how in the hell is min wage here 4 f'n clams an hour?   \n",
       "68                                                                                                     @katortiz  not forever... see you soon!   \n",
       "69                                                                               @lt_algonquin agreed, i saw the failwhale allllll day today.    \n",
       "70    @jdarter oh! haha... dude i dont really look at em unless someone says hey i added you. sorry  i'm so terrible at that. i need a pop up!   \n",
       "71                              @ninjen i'm sure you're right...    i need to start working out with you and the nikster... or jared at least!   \n",
       "72                                                                         i really hate how people diss my bands!  trace is clearly not ugly!   \n",
       "73  gym attire today was: puma singlet, adidas shorts.......and black business socks and leather shoes  lucky did not run into any cute girls.   \n",
       "74                                                                                                         why won't you show my location?!      \n",
       "75                                                                                                     no picnic  my phone smells like citrus.   \n",
       "76   @ashleyac my donkey is sensitive about such comments. nevertheless, he'd (and me'd) be glad to see your mug asap. charger is still awol.    \n",
       "77                                                                                                                    no new csi tonight.  fml   \n",
       "78                                                                                                       i think my arms are sore from tennis    \n",
       "79                                           wonders why someone that u like so much can make you so unhappy in a split seccond . depressed .    \n",
       "80                                                                   sleep soon... i just hate saying bye and see you tomorrow for the night.    \n",
       "81                         @statravelau just got ur newsletter, those fares really are unbelievable, shame i already booked and paid for mine    \n",
       "82                                                                                                                            missin' the boo    \n",
       "83                                                                                                                 @markhardy1974 me too  #itm   \n",
       "84                                                                                   damn... i don't have any chalk! my chalkboard is useless    \n",
       "85                                had a blast at the getty villa, but hates that she's had a sore throat all day. it's just getting worse too    \n",
       "86                                                                                             @msdrama hey missed ya at the meeting  sup mama   \n",
       "87                        my tummy hurts.  i wonder if the hypnosis has anything to do with it? if so, it's working, i get it, stop smoking!!!   \n",
       "88                                                                                                            why is it always the fat ones?!    \n",
       "89                            @januarycrimson sorry, babe!!  my fam annoys me too. thankfully, they're asleep right now. muahaha. *evil laugh*   \n",
       "90                         @hollywoodheat i should have paid more attention when we covered photoshop in my webpage design class in undergrad    \n",
       "91                                                                                                 wednesday my b-day! don't know what 2 do!!    \n",
       "92                                                                                                                   poor cameron (the hills)    \n",
       "93      pray for me please, the ex is threatening to start sh** at my/our babies 1st birthday party. what a jerk. and i still have a headache    \n",
       "94  @makeherfamous hmm  , do u really enjoy being with him ? if the problems are too constants u should think things more , find someone ulike   \n",
       "95                                                                                                            strider is a sick little puppy     \n",
       "96                            so rylee,grace...wana go steve's party or not?? sadly since its easter i wnt b able 2 do much  but ohh well.....   \n",
       "97                                                           hey, i actually won one of my bracket pools! too bad it wasn't the one for money    \n",
       "98                                                                                     @stark you don't follow me, either  and i work for you!   \n",
       "99                                              a bad nite for the favorite teams: astros and spartans lose.  the nite out with t.w. was good.   \n",
       "\n",
       "    sentiment  word_counts  char_counts  avg_word_len  stop_word_len  \\\n",
       "50          0           15          129      7.600000              4   \n",
       "51          0           24          131      4.458333             11   \n",
       "52          0           11           56      4.090909              5   \n",
       "53          0           19           93      3.894737              8   \n",
       "54          0            4           13      2.250000              1   \n",
       "55          0           27          135      4.000000              9   \n",
       "56          0            6           38      5.333333              2   \n",
       "57          0           28          135      3.821429             13   \n",
       "58          0            3           27      8.000000              0   \n",
       "59          0           24          110      3.583333              7   \n",
       "60          0           18          102      4.666667              4   \n",
       "61          0            7           38      4.428571              3   \n",
       "62          0            8           34      3.250000              3   \n",
       "63          0           17          102      5.000000              6   \n",
       "64          0           15           65      3.333333              6   \n",
       "65          0           21           98      3.666667              7   \n",
       "66          0            5           29      4.800000              2   \n",
       "67          0           17           73      3.294118              7   \n",
       "68          0            6           39      5.500000              1   \n",
       "69          0            9           61      5.777778              1   \n",
       "70          0           28          136      3.857143              7   \n",
       "71          0           20          110      4.400000              7   \n",
       "72          0           13           67      4.153846              5   \n",
       "73          0           22          138      5.272727              5   \n",
       "74          0            7           59      7.285714              3   \n",
       "75          0            7           39      4.571429              1   \n",
       "76          0           23          137      4.956522              9   \n",
       "77          0            5           24      3.800000              0   \n",
       "78          0            8           37      3.625000              4   \n",
       "79          0           20           97      3.850000             11   \n",
       "80          0           14           73      4.214286              7   \n",
       "81          0           18          115      5.388889              8   \n",
       "82          0            3           16      4.333333              1   \n",
       "83          0            4           27      5.750000              1   \n",
       "84          0           10           57      4.700000              2   \n",
       "85          0           22          108      3.909091             11   \n",
       "86          0            9           47      4.222222              2   \n",
       "87          0           23          116      4.043478              8   \n",
       "88          0            7           32      3.571429              5   \n",
       "89          0           16          112      6.000000              1   \n",
       "90          0           18          115      5.388889              8   \n",
       "91          0            8           43      4.375000              2   \n",
       "92          0            4           25      5.250000              0   \n",
       "93          0           26          134      4.153846             12   \n",
       "94          0           26          138      4.307692             12   \n",
       "95          0            7           85     11.142857              2   \n",
       "96          0           21          112      4.333333              3   \n",
       "97          0           17           81      3.764706              7   \n",
       "98          0           11           55      4.000000              4   \n",
       "99          0           18           94      4.222222              6   \n",
       "\n",
       "    #_counts  @_counts  numeric_counts  upper_counts email  email_counts  \\\n",
       "50         0         0               0             0    []             0   \n",
       "51         0         1               0             1    []             0   \n",
       "52         0         0               0             0    []             0   \n",
       "53         0         0               0             2    []             0   \n",
       "54         0         0               0             1    []             0   \n",
       "55         0         1               0             2    []             0   \n",
       "56         0         1               0             1    []             0   \n",
       "57         0         0               0             2    []             0   \n",
       "58         0         0               0             0    []             0   \n",
       "59         0         0               0             1    []             0   \n",
       "60         0         1               0             1    []             0   \n",
       "61         0         0               0             0    []             0   \n",
       "62         0         0               0             0    []             0   \n",
       "63         0         0               0             1    []             0   \n",
       "64         0         0               0             1    []             0   \n",
       "65         0         1               0             2    []             0   \n",
       "66         0         0               0             0    []             0   \n",
       "67         0         0               1             0    []             0   \n",
       "68         0         1               0             0    []             0   \n",
       "69         0         1               0             1    []             0   \n",
       "70         0         1               0             6    []             0   \n",
       "71         0         1               0             1    []             0   \n",
       "72         0         0               0             1    []             0   \n",
       "73         0         0               0             0    []             0   \n",
       "74         0         0               0             0    []             0   \n",
       "75         0         0               0             0    []             0   \n",
       "76         0         1               0             0    []             0   \n",
       "77         0         0               0             1    []             0   \n",
       "78         0         0               0             0    []             0   \n",
       "79         0         0               0             0    []             0   \n",
       "80         0         0               0             0    []             0   \n",
       "81         0         1               0             1    []             0   \n",
       "82         0         0               0             0    []             0   \n",
       "83         1         1               0             0    []             0   \n",
       "84         0         0               0             5    []             0   \n",
       "85         0         0               0             0    []             0   \n",
       "86         0         1               0             0    []             0   \n",
       "87         0         0               0             4    []             0   \n",
       "88         0         0               0             0    []             0   \n",
       "89         0         1               0             0    []             0   \n",
       "90         0         1               0             1    []             0   \n",
       "91         0         0               1             0    []             0   \n",
       "92         0         0               0             0    []             0   \n",
       "93         0         0               0             1    []             0   \n",
       "94         0         1               0             0    []             0   \n",
       "95         0         0               0             0    []             0   \n",
       "96         0         0               1            13    []             0   \n",
       "97         0         0               0             1    []             0   \n",
       "98         0         1               0             1    []             0   \n",
       "99         0         0               0             2    []             0   \n",
       "\n",
       "    url_flag  \n",
       "50         1  \n",
       "51         0  \n",
       "52         0  \n",
       "53         0  \n",
       "54         0  \n",
       "55         0  \n",
       "56         0  \n",
       "57         0  \n",
       "58         0  \n",
       "59         0  \n",
       "60         0  \n",
       "61         0  \n",
       "62         0  \n",
       "63         0  \n",
       "64         0  \n",
       "65         0  \n",
       "66         0  \n",
       "67         0  \n",
       "68         0  \n",
       "69         0  \n",
       "70         0  \n",
       "71         0  \n",
       "72         0  \n",
       "73         0  \n",
       "74         1  \n",
       "75         0  \n",
       "76         0  \n",
       "77         0  \n",
       "78         0  \n",
       "79         0  \n",
       "80         0  \n",
       "81         0  \n",
       "82         0  \n",
       "83         0  \n",
       "84         0  \n",
       "85         0  \n",
       "86         0  \n",
       "87         0  \n",
       "88         0  \n",
       "89         0  \n",
       "90         0  \n",
       "91         0  \n",
       "92         0  \n",
       "93         0  \n",
       "94         0  \n",
       "95         1  \n",
       "96         0  \n",
       "97         0  \n",
       "98         0  \n",
       "99         0  "
      ]
     },
     "execution_count": 59,
     "metadata": {},
     "output_type": "execute_result"
    }
   ],
   "source": [
    "df[50:100] "
   ]
  },
  {
   "cell_type": "code",
   "execution_count": 60,
   "id": "5aa438ee",
   "metadata": {
    "ExecuteTime": {
     "end_time": "2022-10-09T09:54:24.360463Z",
     "start_time": "2022-10-09T09:54:23.139419Z"
    }
   },
   "outputs": [],
   "source": [
    "df['tweets'] = df['tweets'].apply(lambda x: re.sub('rt','',x))"
   ]
  },
  {
   "cell_type": "markdown",
   "id": "28f92e3a",
   "metadata": {},
   "source": [
    "##### Removal of Special Characters (punctuation)"
   ]
  },
  {
   "cell_type": "code",
   "execution_count": 61,
   "id": "2b26cf81",
   "metadata": {
    "ExecuteTime": {
     "end_time": "2022-10-09T09:54:28.046854Z",
     "start_time": "2022-10-09T09:54:24.362435Z"
    }
   },
   "outputs": [],
   "source": [
    "df['tweets'] = df['tweets'].apply(lambda x: re.sub('[^A-Z a-z 0-9-_]+','',x))"
   ]
  },
  {
   "cell_type": "code",
   "execution_count": 62,
   "id": "8cb06b6f",
   "metadata": {
    "ExecuteTime": {
     "end_time": "2022-10-09T09:54:28.090231Z",
     "start_time": "2022-10-09T09:54:28.048759Z"
    }
   },
   "outputs": [
    {
     "data": {
      "text/html": [
       "<div>\n",
       "<style scoped>\n",
       "    .dataframe tbody tr th:only-of-type {\n",
       "        vertical-align: middle;\n",
       "    }\n",
       "\n",
       "    .dataframe tbody tr th {\n",
       "        vertical-align: top;\n",
       "    }\n",
       "\n",
       "    .dataframe thead th {\n",
       "        text-align: right;\n",
       "    }\n",
       "</style>\n",
       "<table border=\"1\" class=\"dataframe\">\n",
       "  <thead>\n",
       "    <tr style=\"text-align: right;\">\n",
       "      <th></th>\n",
       "      <th>tweets</th>\n",
       "      <th>sentiment</th>\n",
       "      <th>word_counts</th>\n",
       "      <th>char_counts</th>\n",
       "      <th>avg_word_len</th>\n",
       "      <th>stop_word_len</th>\n",
       "      <th>#_counts</th>\n",
       "      <th>@_counts</th>\n",
       "      <th>numeric_counts</th>\n",
       "      <th>upper_counts</th>\n",
       "      <th>email</th>\n",
       "      <th>email_counts</th>\n",
       "      <th>url_flag</th>\n",
       "    </tr>\n",
       "  </thead>\n",
       "  <tbody>\n",
       "    <tr>\n",
       "      <th>50</th>\n",
       "      <td>broadband plan a massive broken promise  via wwwdiigocomtautao still waiting for broadband we are</td>\n",
       "      <td>0</td>\n",
       "      <td>15</td>\n",
       "      <td>129</td>\n",
       "      <td>7.600000</td>\n",
       "      <td>4</td>\n",
       "      <td>0</td>\n",
       "      <td>0</td>\n",
       "      <td>0</td>\n",
       "      <td>0</td>\n",
       "      <td>[]</td>\n",
       "      <td>0</td>\n",
       "      <td>1</td>\n",
       "    </tr>\n",
       "    <tr>\n",
       "      <th>51</th>\n",
       "      <td>localtweeps wow tons of replies from you may have to unfollow so i can see my friends tweets youre scrolling the feed a lot</td>\n",
       "      <td>0</td>\n",
       "      <td>24</td>\n",
       "      <td>131</td>\n",
       "      <td>4.458333</td>\n",
       "      <td>11</td>\n",
       "      <td>0</td>\n",
       "      <td>1</td>\n",
       "      <td>0</td>\n",
       "      <td>1</td>\n",
       "      <td>[]</td>\n",
       "      <td>0</td>\n",
       "      <td>0</td>\n",
       "    </tr>\n",
       "    <tr>\n",
       "      <th>52</th>\n",
       "      <td>our duck and chicken are taking wayyy too long to hatch</td>\n",
       "      <td>0</td>\n",
       "      <td>11</td>\n",
       "      <td>56</td>\n",
       "      <td>4.090909</td>\n",
       "      <td>5</td>\n",
       "      <td>0</td>\n",
       "      <td>0</td>\n",
       "      <td>0</td>\n",
       "      <td>0</td>\n",
       "      <td>[]</td>\n",
       "      <td>0</td>\n",
       "      <td>0</td>\n",
       "    </tr>\n",
       "    <tr>\n",
       "      <th>53</th>\n",
       "      <td>put vacation photos online a few yrs ago pc crashed and now i forget the name of the site</td>\n",
       "      <td>0</td>\n",
       "      <td>19</td>\n",
       "      <td>93</td>\n",
       "      <td>3.894737</td>\n",
       "      <td>8</td>\n",
       "      <td>0</td>\n",
       "      <td>0</td>\n",
       "      <td>0</td>\n",
       "      <td>2</td>\n",
       "      <td>[]</td>\n",
       "      <td>0</td>\n",
       "      <td>0</td>\n",
       "    </tr>\n",
       "    <tr>\n",
       "      <th>54</th>\n",
       "      <td>i need a hug</td>\n",
       "      <td>0</td>\n",
       "      <td>4</td>\n",
       "      <td>13</td>\n",
       "      <td>2.250000</td>\n",
       "      <td>1</td>\n",
       "      <td>0</td>\n",
       "      <td>0</td>\n",
       "      <td>0</td>\n",
       "      <td>1</td>\n",
       "      <td>[]</td>\n",
       "      <td>0</td>\n",
       "      <td>0</td>\n",
       "    </tr>\n",
       "    <tr>\n",
       "      <th>55</th>\n",
       "      <td>andywana not sure what they are only that they are pos as much as i want to i dont think can trade away company assets sorry andy</td>\n",
       "      <td>0</td>\n",
       "      <td>27</td>\n",
       "      <td>135</td>\n",
       "      <td>4.000000</td>\n",
       "      <td>9</td>\n",
       "      <td>0</td>\n",
       "      <td>1</td>\n",
       "      <td>0</td>\n",
       "      <td>2</td>\n",
       "      <td>[]</td>\n",
       "      <td>0</td>\n",
       "      <td>0</td>\n",
       "    </tr>\n",
       "    <tr>\n",
       "      <th>56</th>\n",
       "      <td>oanhlove i hate when that happens</td>\n",
       "      <td>0</td>\n",
       "      <td>6</td>\n",
       "      <td>38</td>\n",
       "      <td>5.333333</td>\n",
       "      <td>2</td>\n",
       "      <td>0</td>\n",
       "      <td>1</td>\n",
       "      <td>0</td>\n",
       "      <td>1</td>\n",
       "      <td>[]</td>\n",
       "      <td>0</td>\n",
       "      <td>0</td>\n",
       "    </tr>\n",
       "    <tr>\n",
       "      <th>57</th>\n",
       "      <td>i have a sad feeling that dallas is not going to show up  i gotta say though youd think more shows would use music from the game mmm</td>\n",
       "      <td>0</td>\n",
       "      <td>28</td>\n",
       "      <td>135</td>\n",
       "      <td>3.821429</td>\n",
       "      <td>13</td>\n",
       "      <td>0</td>\n",
       "      <td>0</td>\n",
       "      <td>0</td>\n",
       "      <td>2</td>\n",
       "      <td>[]</td>\n",
       "      <td>0</td>\n",
       "      <td>0</td>\n",
       "    </tr>\n",
       "    <tr>\n",
       "      <th>58</th>\n",
       "      <td>ugh92 degrees tomorrow</td>\n",
       "      <td>0</td>\n",
       "      <td>3</td>\n",
       "      <td>27</td>\n",
       "      <td>8.000000</td>\n",
       "      <td>0</td>\n",
       "      <td>0</td>\n",
       "      <td>0</td>\n",
       "      <td>0</td>\n",
       "      <td>0</td>\n",
       "      <td>[]</td>\n",
       "      <td>0</td>\n",
       "      <td>0</td>\n",
       "    </tr>\n",
       "    <tr>\n",
       "      <th>59</th>\n",
       "      <td>where did u move to  i thought u were already in sd  hmmm random u found me glad to hear yer doing well</td>\n",
       "      <td>0</td>\n",
       "      <td>24</td>\n",
       "      <td>110</td>\n",
       "      <td>3.583333</td>\n",
       "      <td>7</td>\n",
       "      <td>0</td>\n",
       "      <td>0</td>\n",
       "      <td>0</td>\n",
       "      <td>1</td>\n",
       "      <td>[]</td>\n",
       "      <td>0</td>\n",
       "      <td>0</td>\n",
       "    </tr>\n",
       "    <tr>\n",
       "      <th>60</th>\n",
       "      <td>batmanyng i miss my ps3 its out of commission  wutcha playing have you copped blood on the sand</td>\n",
       "      <td>0</td>\n",
       "      <td>18</td>\n",
       "      <td>102</td>\n",
       "      <td>4.666667</td>\n",
       "      <td>4</td>\n",
       "      <td>0</td>\n",
       "      <td>1</td>\n",
       "      <td>0</td>\n",
       "      <td>1</td>\n",
       "      <td>[]</td>\n",
       "      <td>0</td>\n",
       "      <td>0</td>\n",
       "    </tr>\n",
       "    <tr>\n",
       "      <th>61</th>\n",
       "      <td>just leaving the parking lot of work</td>\n",
       "      <td>0</td>\n",
       "      <td>7</td>\n",
       "      <td>38</td>\n",
       "      <td>4.428571</td>\n",
       "      <td>3</td>\n",
       "      <td>0</td>\n",
       "      <td>0</td>\n",
       "      <td>0</td>\n",
       "      <td>0</td>\n",
       "      <td>[]</td>\n",
       "      <td>0</td>\n",
       "      <td>0</td>\n",
       "    </tr>\n",
       "    <tr>\n",
       "      <th>62</th>\n",
       "      <td>the life is cool but not for me</td>\n",
       "      <td>0</td>\n",
       "      <td>8</td>\n",
       "      <td>34</td>\n",
       "      <td>3.250000</td>\n",
       "      <td>3</td>\n",
       "      <td>0</td>\n",
       "      <td>0</td>\n",
       "      <td>0</td>\n",
       "      <td>0</td>\n",
       "      <td>[]</td>\n",
       "      <td>0</td>\n",
       "      <td>0</td>\n",
       "    </tr>\n",
       "    <tr>\n",
       "      <th>63</th>\n",
       "      <td>sadly though ive never gotten to experience the post coitus cigarette before and now i never will</td>\n",
       "      <td>0</td>\n",
       "      <td>17</td>\n",
       "      <td>102</td>\n",
       "      <td>5.000000</td>\n",
       "      <td>6</td>\n",
       "      <td>0</td>\n",
       "      <td>0</td>\n",
       "      <td>0</td>\n",
       "      <td>1</td>\n",
       "      <td>[]</td>\n",
       "      <td>0</td>\n",
       "      <td>0</td>\n",
       "    </tr>\n",
       "    <tr>\n",
       "      <th>64</th>\n",
       "      <td>i had such a nice day too bad the rain comes in tomorrow at 5am</td>\n",
       "      <td>0</td>\n",
       "      <td>15</td>\n",
       "      <td>65</td>\n",
       "      <td>3.333333</td>\n",
       "      <td>6</td>\n",
       "      <td>0</td>\n",
       "      <td>0</td>\n",
       "      <td>0</td>\n",
       "      <td>1</td>\n",
       "      <td>[]</td>\n",
       "      <td>0</td>\n",
       "      <td>0</td>\n",
       "    </tr>\n",
       "    <tr>\n",
       "      <th>65</th>\n",
       "      <td>starrbby too bad i wont be around i lost my job and cant even pay my phone bill lmao aw shucks</td>\n",
       "      <td>0</td>\n",
       "      <td>21</td>\n",
       "      <td>98</td>\n",
       "      <td>3.666667</td>\n",
       "      <td>7</td>\n",
       "      <td>0</td>\n",
       "      <td>1</td>\n",
       "      <td>0</td>\n",
       "      <td>2</td>\n",
       "      <td>[]</td>\n",
       "      <td>0</td>\n",
       "      <td>0</td>\n",
       "    </tr>\n",
       "    <tr>\n",
       "      <th>66</th>\n",
       "      <td>damm back to school tomorrow</td>\n",
       "      <td>0</td>\n",
       "      <td>5</td>\n",
       "      <td>29</td>\n",
       "      <td>4.800000</td>\n",
       "      <td>2</td>\n",
       "      <td>0</td>\n",
       "      <td>0</td>\n",
       "      <td>0</td>\n",
       "      <td>0</td>\n",
       "      <td>[]</td>\n",
       "      <td>0</td>\n",
       "      <td>0</td>\n",
       "    </tr>\n",
       "    <tr>\n",
       "      <th>67</th>\n",
       "      <td>mo jobs no money  how in the hell is min wage here 4 fn clams an hour</td>\n",
       "      <td>0</td>\n",
       "      <td>17</td>\n",
       "      <td>73</td>\n",
       "      <td>3.294118</td>\n",
       "      <td>7</td>\n",
       "      <td>0</td>\n",
       "      <td>0</td>\n",
       "      <td>1</td>\n",
       "      <td>0</td>\n",
       "      <td>[]</td>\n",
       "      <td>0</td>\n",
       "      <td>0</td>\n",
       "    </tr>\n",
       "    <tr>\n",
       "      <th>68</th>\n",
       "      <td>katoiz  not forever see you soon</td>\n",
       "      <td>0</td>\n",
       "      <td>6</td>\n",
       "      <td>39</td>\n",
       "      <td>5.500000</td>\n",
       "      <td>1</td>\n",
       "      <td>0</td>\n",
       "      <td>1</td>\n",
       "      <td>0</td>\n",
       "      <td>0</td>\n",
       "      <td>[]</td>\n",
       "      <td>0</td>\n",
       "      <td>0</td>\n",
       "    </tr>\n",
       "    <tr>\n",
       "      <th>69</th>\n",
       "      <td>lt_algonquin agreed i saw the failwhale allllll day today</td>\n",
       "      <td>0</td>\n",
       "      <td>9</td>\n",
       "      <td>61</td>\n",
       "      <td>5.777778</td>\n",
       "      <td>1</td>\n",
       "      <td>0</td>\n",
       "      <td>1</td>\n",
       "      <td>0</td>\n",
       "      <td>1</td>\n",
       "      <td>[]</td>\n",
       "      <td>0</td>\n",
       "      <td>0</td>\n",
       "    </tr>\n",
       "    <tr>\n",
       "      <th>70</th>\n",
       "      <td>jdaer oh haha dude i dont really look at em unless someone says hey i added you sorry  im so terrible at that i need a pop up</td>\n",
       "      <td>0</td>\n",
       "      <td>28</td>\n",
       "      <td>136</td>\n",
       "      <td>3.857143</td>\n",
       "      <td>7</td>\n",
       "      <td>0</td>\n",
       "      <td>1</td>\n",
       "      <td>0</td>\n",
       "      <td>6</td>\n",
       "      <td>[]</td>\n",
       "      <td>0</td>\n",
       "      <td>0</td>\n",
       "    </tr>\n",
       "    <tr>\n",
       "      <th>71</th>\n",
       "      <td>ninjen im sure youre right    i need to sta working out with you and the nikster or jared at least</td>\n",
       "      <td>0</td>\n",
       "      <td>20</td>\n",
       "      <td>110</td>\n",
       "      <td>4.400000</td>\n",
       "      <td>7</td>\n",
       "      <td>0</td>\n",
       "      <td>1</td>\n",
       "      <td>0</td>\n",
       "      <td>1</td>\n",
       "      <td>[]</td>\n",
       "      <td>0</td>\n",
       "      <td>0</td>\n",
       "    </tr>\n",
       "    <tr>\n",
       "      <th>72</th>\n",
       "      <td>i really hate how people diss my bands  trace is clearly not ugly</td>\n",
       "      <td>0</td>\n",
       "      <td>13</td>\n",
       "      <td>67</td>\n",
       "      <td>4.153846</td>\n",
       "      <td>5</td>\n",
       "      <td>0</td>\n",
       "      <td>0</td>\n",
       "      <td>0</td>\n",
       "      <td>1</td>\n",
       "      <td>[]</td>\n",
       "      <td>0</td>\n",
       "      <td>0</td>\n",
       "    </tr>\n",
       "    <tr>\n",
       "      <th>73</th>\n",
       "      <td>gym attire today was puma singlet adidas shosand black business socks and leather shoes  lucky did not run into any cute girls</td>\n",
       "      <td>0</td>\n",
       "      <td>22</td>\n",
       "      <td>138</td>\n",
       "      <td>5.272727</td>\n",
       "      <td>5</td>\n",
       "      <td>0</td>\n",
       "      <td>0</td>\n",
       "      <td>0</td>\n",
       "      <td>0</td>\n",
       "      <td>[]</td>\n",
       "      <td>0</td>\n",
       "      <td>0</td>\n",
       "    </tr>\n",
       "    <tr>\n",
       "      <th>74</th>\n",
       "      <td>why wont you show my location</td>\n",
       "      <td>0</td>\n",
       "      <td>7</td>\n",
       "      <td>59</td>\n",
       "      <td>7.285714</td>\n",
       "      <td>3</td>\n",
       "      <td>0</td>\n",
       "      <td>0</td>\n",
       "      <td>0</td>\n",
       "      <td>0</td>\n",
       "      <td>[]</td>\n",
       "      <td>0</td>\n",
       "      <td>1</td>\n",
       "    </tr>\n",
       "    <tr>\n",
       "      <th>75</th>\n",
       "      <td>no picnic  my phone smells like citrus</td>\n",
       "      <td>0</td>\n",
       "      <td>7</td>\n",
       "      <td>39</td>\n",
       "      <td>4.571429</td>\n",
       "      <td>1</td>\n",
       "      <td>0</td>\n",
       "      <td>0</td>\n",
       "      <td>0</td>\n",
       "      <td>0</td>\n",
       "      <td>[]</td>\n",
       "      <td>0</td>\n",
       "      <td>0</td>\n",
       "    </tr>\n",
       "    <tr>\n",
       "      <th>76</th>\n",
       "      <td>ashleyac my donkey is sensitive about such comments neveheless hed and med be glad to see your mug asap charger is still awol</td>\n",
       "      <td>0</td>\n",
       "      <td>23</td>\n",
       "      <td>137</td>\n",
       "      <td>4.956522</td>\n",
       "      <td>9</td>\n",
       "      <td>0</td>\n",
       "      <td>1</td>\n",
       "      <td>0</td>\n",
       "      <td>0</td>\n",
       "      <td>[]</td>\n",
       "      <td>0</td>\n",
       "      <td>0</td>\n",
       "    </tr>\n",
       "    <tr>\n",
       "      <th>77</th>\n",
       "      <td>no new csi tonight  fml</td>\n",
       "      <td>0</td>\n",
       "      <td>5</td>\n",
       "      <td>24</td>\n",
       "      <td>3.800000</td>\n",
       "      <td>0</td>\n",
       "      <td>0</td>\n",
       "      <td>0</td>\n",
       "      <td>0</td>\n",
       "      <td>1</td>\n",
       "      <td>[]</td>\n",
       "      <td>0</td>\n",
       "      <td>0</td>\n",
       "    </tr>\n",
       "    <tr>\n",
       "      <th>78</th>\n",
       "      <td>i think my arms are sore from tennis</td>\n",
       "      <td>0</td>\n",
       "      <td>8</td>\n",
       "      <td>37</td>\n",
       "      <td>3.625000</td>\n",
       "      <td>4</td>\n",
       "      <td>0</td>\n",
       "      <td>0</td>\n",
       "      <td>0</td>\n",
       "      <td>0</td>\n",
       "      <td>[]</td>\n",
       "      <td>0</td>\n",
       "      <td>0</td>\n",
       "    </tr>\n",
       "    <tr>\n",
       "      <th>79</th>\n",
       "      <td>wonders why someone that u like so much can make you so unhappy in a split seccond  depressed</td>\n",
       "      <td>0</td>\n",
       "      <td>20</td>\n",
       "      <td>97</td>\n",
       "      <td>3.850000</td>\n",
       "      <td>11</td>\n",
       "      <td>0</td>\n",
       "      <td>0</td>\n",
       "      <td>0</td>\n",
       "      <td>0</td>\n",
       "      <td>[]</td>\n",
       "      <td>0</td>\n",
       "      <td>0</td>\n",
       "    </tr>\n",
       "    <tr>\n",
       "      <th>80</th>\n",
       "      <td>sleep soon i just hate saying bye and see you tomorrow for the night</td>\n",
       "      <td>0</td>\n",
       "      <td>14</td>\n",
       "      <td>73</td>\n",
       "      <td>4.214286</td>\n",
       "      <td>7</td>\n",
       "      <td>0</td>\n",
       "      <td>0</td>\n",
       "      <td>0</td>\n",
       "      <td>0</td>\n",
       "      <td>[]</td>\n",
       "      <td>0</td>\n",
       "      <td>0</td>\n",
       "    </tr>\n",
       "    <tr>\n",
       "      <th>81</th>\n",
       "      <td>statravelau just got ur newsletter those fares really are unbelievable shame i already booked and paid for mine</td>\n",
       "      <td>0</td>\n",
       "      <td>18</td>\n",
       "      <td>115</td>\n",
       "      <td>5.388889</td>\n",
       "      <td>8</td>\n",
       "      <td>0</td>\n",
       "      <td>1</td>\n",
       "      <td>0</td>\n",
       "      <td>1</td>\n",
       "      <td>[]</td>\n",
       "      <td>0</td>\n",
       "      <td>0</td>\n",
       "    </tr>\n",
       "    <tr>\n",
       "      <th>82</th>\n",
       "      <td>missin the boo</td>\n",
       "      <td>0</td>\n",
       "      <td>3</td>\n",
       "      <td>16</td>\n",
       "      <td>4.333333</td>\n",
       "      <td>1</td>\n",
       "      <td>0</td>\n",
       "      <td>0</td>\n",
       "      <td>0</td>\n",
       "      <td>0</td>\n",
       "      <td>[]</td>\n",
       "      <td>0</td>\n",
       "      <td>0</td>\n",
       "    </tr>\n",
       "    <tr>\n",
       "      <th>83</th>\n",
       "      <td>markhardy1974 me too  itm</td>\n",
       "      <td>0</td>\n",
       "      <td>4</td>\n",
       "      <td>27</td>\n",
       "      <td>5.750000</td>\n",
       "      <td>1</td>\n",
       "      <td>1</td>\n",
       "      <td>1</td>\n",
       "      <td>0</td>\n",
       "      <td>0</td>\n",
       "      <td>[]</td>\n",
       "      <td>0</td>\n",
       "      <td>0</td>\n",
       "    </tr>\n",
       "    <tr>\n",
       "      <th>84</th>\n",
       "      <td>damn i dont have any chalk my chalkboard is useless</td>\n",
       "      <td>0</td>\n",
       "      <td>10</td>\n",
       "      <td>57</td>\n",
       "      <td>4.700000</td>\n",
       "      <td>2</td>\n",
       "      <td>0</td>\n",
       "      <td>0</td>\n",
       "      <td>0</td>\n",
       "      <td>5</td>\n",
       "      <td>[]</td>\n",
       "      <td>0</td>\n",
       "      <td>0</td>\n",
       "    </tr>\n",
       "    <tr>\n",
       "      <th>85</th>\n",
       "      <td>had a blast at the getty villa but hates that shes had a sore throat all day its just getting worse too</td>\n",
       "      <td>0</td>\n",
       "      <td>22</td>\n",
       "      <td>108</td>\n",
       "      <td>3.909091</td>\n",
       "      <td>11</td>\n",
       "      <td>0</td>\n",
       "      <td>0</td>\n",
       "      <td>0</td>\n",
       "      <td>0</td>\n",
       "      <td>[]</td>\n",
       "      <td>0</td>\n",
       "      <td>0</td>\n",
       "    </tr>\n",
       "    <tr>\n",
       "      <th>86</th>\n",
       "      <td>msdrama hey missed ya at the meeting  sup mama</td>\n",
       "      <td>0</td>\n",
       "      <td>9</td>\n",
       "      <td>47</td>\n",
       "      <td>4.222222</td>\n",
       "      <td>2</td>\n",
       "      <td>0</td>\n",
       "      <td>1</td>\n",
       "      <td>0</td>\n",
       "      <td>0</td>\n",
       "      <td>[]</td>\n",
       "      <td>0</td>\n",
       "      <td>0</td>\n",
       "    </tr>\n",
       "    <tr>\n",
       "      <th>87</th>\n",
       "      <td>my tummy hus  i wonder if the hypnosis has anything to do with it if so its working i get it stop smoking</td>\n",
       "      <td>0</td>\n",
       "      <td>23</td>\n",
       "      <td>116</td>\n",
       "      <td>4.043478</td>\n",
       "      <td>8</td>\n",
       "      <td>0</td>\n",
       "      <td>0</td>\n",
       "      <td>0</td>\n",
       "      <td>4</td>\n",
       "      <td>[]</td>\n",
       "      <td>0</td>\n",
       "      <td>0</td>\n",
       "    </tr>\n",
       "    <tr>\n",
       "      <th>88</th>\n",
       "      <td>why is it always the fat ones</td>\n",
       "      <td>0</td>\n",
       "      <td>7</td>\n",
       "      <td>32</td>\n",
       "      <td>3.571429</td>\n",
       "      <td>5</td>\n",
       "      <td>0</td>\n",
       "      <td>0</td>\n",
       "      <td>0</td>\n",
       "      <td>0</td>\n",
       "      <td>[]</td>\n",
       "      <td>0</td>\n",
       "      <td>0</td>\n",
       "    </tr>\n",
       "    <tr>\n",
       "      <th>89</th>\n",
       "      <td>januarycrimson sorry babe  my fam annoys me too thankfully theyre asleep right now muahaha evil laugh</td>\n",
       "      <td>0</td>\n",
       "      <td>16</td>\n",
       "      <td>112</td>\n",
       "      <td>6.000000</td>\n",
       "      <td>1</td>\n",
       "      <td>0</td>\n",
       "      <td>1</td>\n",
       "      <td>0</td>\n",
       "      <td>0</td>\n",
       "      <td>[]</td>\n",
       "      <td>0</td>\n",
       "      <td>0</td>\n",
       "    </tr>\n",
       "    <tr>\n",
       "      <th>90</th>\n",
       "      <td>hollywoodheat i should have paid more attention when we covered photoshop in my webpage design class in undergrad</td>\n",
       "      <td>0</td>\n",
       "      <td>18</td>\n",
       "      <td>115</td>\n",
       "      <td>5.388889</td>\n",
       "      <td>8</td>\n",
       "      <td>0</td>\n",
       "      <td>1</td>\n",
       "      <td>0</td>\n",
       "      <td>1</td>\n",
       "      <td>[]</td>\n",
       "      <td>0</td>\n",
       "      <td>0</td>\n",
       "    </tr>\n",
       "    <tr>\n",
       "      <th>91</th>\n",
       "      <td>wednesday my b-day dont know what 2 do</td>\n",
       "      <td>0</td>\n",
       "      <td>8</td>\n",
       "      <td>43</td>\n",
       "      <td>4.375000</td>\n",
       "      <td>2</td>\n",
       "      <td>0</td>\n",
       "      <td>0</td>\n",
       "      <td>1</td>\n",
       "      <td>0</td>\n",
       "      <td>[]</td>\n",
       "      <td>0</td>\n",
       "      <td>0</td>\n",
       "    </tr>\n",
       "    <tr>\n",
       "      <th>92</th>\n",
       "      <td>poor cameron the hills</td>\n",
       "      <td>0</td>\n",
       "      <td>4</td>\n",
       "      <td>25</td>\n",
       "      <td>5.250000</td>\n",
       "      <td>0</td>\n",
       "      <td>0</td>\n",
       "      <td>0</td>\n",
       "      <td>0</td>\n",
       "      <td>0</td>\n",
       "      <td>[]</td>\n",
       "      <td>0</td>\n",
       "      <td>0</td>\n",
       "    </tr>\n",
       "    <tr>\n",
       "      <th>93</th>\n",
       "      <td>pray for me please the ex is threatening to sta sh at myour babies 1st bihday pay what a jerk and i still have a headache</td>\n",
       "      <td>0</td>\n",
       "      <td>26</td>\n",
       "      <td>134</td>\n",
       "      <td>4.153846</td>\n",
       "      <td>12</td>\n",
       "      <td>0</td>\n",
       "      <td>0</td>\n",
       "      <td>0</td>\n",
       "      <td>1</td>\n",
       "      <td>[]</td>\n",
       "      <td>0</td>\n",
       "      <td>0</td>\n",
       "    </tr>\n",
       "    <tr>\n",
       "      <th>94</th>\n",
       "      <td>makeherfamous hmm   do u really enjoy being with him  if the problems are too constants u should think things more  find someone ulike</td>\n",
       "      <td>0</td>\n",
       "      <td>26</td>\n",
       "      <td>138</td>\n",
       "      <td>4.307692</td>\n",
       "      <td>12</td>\n",
       "      <td>0</td>\n",
       "      <td>1</td>\n",
       "      <td>0</td>\n",
       "      <td>0</td>\n",
       "      <td>[]</td>\n",
       "      <td>0</td>\n",
       "      <td>0</td>\n",
       "    </tr>\n",
       "    <tr>\n",
       "      <th>95</th>\n",
       "      <td>strider is a sick little puppy</td>\n",
       "      <td>0</td>\n",
       "      <td>7</td>\n",
       "      <td>85</td>\n",
       "      <td>11.142857</td>\n",
       "      <td>2</td>\n",
       "      <td>0</td>\n",
       "      <td>0</td>\n",
       "      <td>0</td>\n",
       "      <td>0</td>\n",
       "      <td>[]</td>\n",
       "      <td>0</td>\n",
       "      <td>1</td>\n",
       "    </tr>\n",
       "    <tr>\n",
       "      <th>96</th>\n",
       "      <td>so ryleegracewana go steves pay or not sadly since its easter i wnt b able 2 do much  but ohh well</td>\n",
       "      <td>0</td>\n",
       "      <td>21</td>\n",
       "      <td>112</td>\n",
       "      <td>4.333333</td>\n",
       "      <td>3</td>\n",
       "      <td>0</td>\n",
       "      <td>0</td>\n",
       "      <td>1</td>\n",
       "      <td>13</td>\n",
       "      <td>[]</td>\n",
       "      <td>0</td>\n",
       "      <td>0</td>\n",
       "    </tr>\n",
       "    <tr>\n",
       "      <th>97</th>\n",
       "      <td>hey i actually won one of my bracket pools too bad it wasnt the one for money</td>\n",
       "      <td>0</td>\n",
       "      <td>17</td>\n",
       "      <td>81</td>\n",
       "      <td>3.764706</td>\n",
       "      <td>7</td>\n",
       "      <td>0</td>\n",
       "      <td>0</td>\n",
       "      <td>0</td>\n",
       "      <td>1</td>\n",
       "      <td>[]</td>\n",
       "      <td>0</td>\n",
       "      <td>0</td>\n",
       "    </tr>\n",
       "    <tr>\n",
       "      <th>98</th>\n",
       "      <td>stark you dont follow me either  and i work for you</td>\n",
       "      <td>0</td>\n",
       "      <td>11</td>\n",
       "      <td>55</td>\n",
       "      <td>4.000000</td>\n",
       "      <td>4</td>\n",
       "      <td>0</td>\n",
       "      <td>1</td>\n",
       "      <td>0</td>\n",
       "      <td>1</td>\n",
       "      <td>[]</td>\n",
       "      <td>0</td>\n",
       "      <td>0</td>\n",
       "    </tr>\n",
       "    <tr>\n",
       "      <th>99</th>\n",
       "      <td>a bad nite for the favorite teams astros and spaans lose  the nite out with tw was good</td>\n",
       "      <td>0</td>\n",
       "      <td>18</td>\n",
       "      <td>94</td>\n",
       "      <td>4.222222</td>\n",
       "      <td>6</td>\n",
       "      <td>0</td>\n",
       "      <td>0</td>\n",
       "      <td>0</td>\n",
       "      <td>2</td>\n",
       "      <td>[]</td>\n",
       "      <td>0</td>\n",
       "      <td>0</td>\n",
       "    </tr>\n",
       "  </tbody>\n",
       "</table>\n",
       "</div>"
      ],
      "text/plain": [
       "                                                                                                                                    tweets  \\\n",
       "50                                      broadband plan a massive broken promise  via wwwdiigocomtautao still waiting for broadband we are    \n",
       "51            localtweeps wow tons of replies from you may have to unfollow so i can see my friends tweets youre scrolling the feed a lot    \n",
       "52                                                                                our duck and chicken are taking wayyy too long to hatch    \n",
       "53                                              put vacation photos online a few yrs ago pc crashed and now i forget the name of the site    \n",
       "54                                                                                                                           i need a hug    \n",
       "55      andywana not sure what they are only that they are pos as much as i want to i dont think can trade away company assets sorry andy    \n",
       "56                                                                                                      oanhlove i hate when that happens    \n",
       "57    i have a sad feeling that dallas is not going to show up  i gotta say though youd think more shows would use music from the game mmm   \n",
       "58                                                                                                                 ugh92 degrees tomorrow    \n",
       "59                                 where did u move to  i thought u were already in sd  hmmm random u found me glad to hear yer doing well   \n",
       "60                                         batmanyng i miss my ps3 its out of commission  wutcha playing have you copped blood on the sand   \n",
       "61                                                                                                   just leaving the parking lot of work    \n",
       "62                                                                                                        the life is cool but not for me    \n",
       "63                                      sadly though ive never gotten to experience the post coitus cigarette before and now i never will    \n",
       "64                                                                        i had such a nice day too bad the rain comes in tomorrow at 5am    \n",
       "65                                         starrbby too bad i wont be around i lost my job and cant even pay my phone bill lmao aw shucks    \n",
       "66                                                                                                           damm back to school tomorrow    \n",
       "67                                                                   mo jobs no money  how in the hell is min wage here 4 fn clams an hour   \n",
       "68                                                                                                        katoiz  not forever see you soon   \n",
       "69                                                                              lt_algonquin agreed i saw the failwhale allllll day today    \n",
       "70           jdaer oh haha dude i dont really look at em unless someone says hey i added you sorry  im so terrible at that i need a pop up   \n",
       "71                                      ninjen im sure youre right    i need to sta working out with you and the nikster or jared at least   \n",
       "72                                                                       i really hate how people diss my bands  trace is clearly not ugly   \n",
       "73          gym attire today was puma singlet adidas shosand black business socks and leather shoes  lucky did not run into any cute girls   \n",
       "74                                                                                                        why wont you show my location      \n",
       "75                                                                                                  no picnic  my phone smells like citrus   \n",
       "76          ashleyac my donkey is sensitive about such comments neveheless hed and med be glad to see your mug asap charger is still awol    \n",
       "77                                                                                                                 no new csi tonight  fml   \n",
       "78                                                                                                   i think my arms are sore from tennis    \n",
       "79                                         wonders why someone that u like so much can make you so unhappy in a split seccond  depressed     \n",
       "80                                                                   sleep soon i just hate saying bye and see you tomorrow for the night    \n",
       "81                        statravelau just got ur newsletter those fares really are unbelievable shame i already booked and paid for mine    \n",
       "82                                                                                                                         missin the boo    \n",
       "83                                                                                                               markhardy1974 me too  itm   \n",
       "84                                                                                    damn i dont have any chalk my chalkboard is useless    \n",
       "85                                had a blast at the getty villa but hates that shes had a sore throat all day its just getting worse too    \n",
       "86                                                                                          msdrama hey missed ya at the meeting  sup mama   \n",
       "87                               my tummy hus  i wonder if the hypnosis has anything to do with it if so its working i get it stop smoking   \n",
       "88                                                                                                          why is it always the fat ones    \n",
       "89                                   januarycrimson sorry babe  my fam annoys me too thankfully theyre asleep right now muahaha evil laugh   \n",
       "90                      hollywoodheat i should have paid more attention when we covered photoshop in my webpage design class in undergrad    \n",
       "91                                                                                                 wednesday my b-day dont know what 2 do    \n",
       "92                                                                                                                 poor cameron the hills    \n",
       "93              pray for me please the ex is threatening to sta sh at myour babies 1st bihday pay what a jerk and i still have a headache    \n",
       "94  makeherfamous hmm   do u really enjoy being with him  if the problems are too constants u should think things more  find someone ulike   \n",
       "95                                                                                                        strider is a sick little puppy     \n",
       "96                                      so ryleegracewana go steves pay or not sadly since its easter i wnt b able 2 do much  but ohh well   \n",
       "97                                                          hey i actually won one of my bracket pools too bad it wasnt the one for money    \n",
       "98                                                                                     stark you dont follow me either  and i work for you   \n",
       "99                                                 a bad nite for the favorite teams astros and spaans lose  the nite out with tw was good   \n",
       "\n",
       "    sentiment  word_counts  char_counts  avg_word_len  stop_word_len  \\\n",
       "50          0           15          129      7.600000              4   \n",
       "51          0           24          131      4.458333             11   \n",
       "52          0           11           56      4.090909              5   \n",
       "53          0           19           93      3.894737              8   \n",
       "54          0            4           13      2.250000              1   \n",
       "55          0           27          135      4.000000              9   \n",
       "56          0            6           38      5.333333              2   \n",
       "57          0           28          135      3.821429             13   \n",
       "58          0            3           27      8.000000              0   \n",
       "59          0           24          110      3.583333              7   \n",
       "60          0           18          102      4.666667              4   \n",
       "61          0            7           38      4.428571              3   \n",
       "62          0            8           34      3.250000              3   \n",
       "63          0           17          102      5.000000              6   \n",
       "64          0           15           65      3.333333              6   \n",
       "65          0           21           98      3.666667              7   \n",
       "66          0            5           29      4.800000              2   \n",
       "67          0           17           73      3.294118              7   \n",
       "68          0            6           39      5.500000              1   \n",
       "69          0            9           61      5.777778              1   \n",
       "70          0           28          136      3.857143              7   \n",
       "71          0           20          110      4.400000              7   \n",
       "72          0           13           67      4.153846              5   \n",
       "73          0           22          138      5.272727              5   \n",
       "74          0            7           59      7.285714              3   \n",
       "75          0            7           39      4.571429              1   \n",
       "76          0           23          137      4.956522              9   \n",
       "77          0            5           24      3.800000              0   \n",
       "78          0            8           37      3.625000              4   \n",
       "79          0           20           97      3.850000             11   \n",
       "80          0           14           73      4.214286              7   \n",
       "81          0           18          115      5.388889              8   \n",
       "82          0            3           16      4.333333              1   \n",
       "83          0            4           27      5.750000              1   \n",
       "84          0           10           57      4.700000              2   \n",
       "85          0           22          108      3.909091             11   \n",
       "86          0            9           47      4.222222              2   \n",
       "87          0           23          116      4.043478              8   \n",
       "88          0            7           32      3.571429              5   \n",
       "89          0           16          112      6.000000              1   \n",
       "90          0           18          115      5.388889              8   \n",
       "91          0            8           43      4.375000              2   \n",
       "92          0            4           25      5.250000              0   \n",
       "93          0           26          134      4.153846             12   \n",
       "94          0           26          138      4.307692             12   \n",
       "95          0            7           85     11.142857              2   \n",
       "96          0           21          112      4.333333              3   \n",
       "97          0           17           81      3.764706              7   \n",
       "98          0           11           55      4.000000              4   \n",
       "99          0           18           94      4.222222              6   \n",
       "\n",
       "    #_counts  @_counts  numeric_counts  upper_counts email  email_counts  \\\n",
       "50         0         0               0             0    []             0   \n",
       "51         0         1               0             1    []             0   \n",
       "52         0         0               0             0    []             0   \n",
       "53         0         0               0             2    []             0   \n",
       "54         0         0               0             1    []             0   \n",
       "55         0         1               0             2    []             0   \n",
       "56         0         1               0             1    []             0   \n",
       "57         0         0               0             2    []             0   \n",
       "58         0         0               0             0    []             0   \n",
       "59         0         0               0             1    []             0   \n",
       "60         0         1               0             1    []             0   \n",
       "61         0         0               0             0    []             0   \n",
       "62         0         0               0             0    []             0   \n",
       "63         0         0               0             1    []             0   \n",
       "64         0         0               0             1    []             0   \n",
       "65         0         1               0             2    []             0   \n",
       "66         0         0               0             0    []             0   \n",
       "67         0         0               1             0    []             0   \n",
       "68         0         1               0             0    []             0   \n",
       "69         0         1               0             1    []             0   \n",
       "70         0         1               0             6    []             0   \n",
       "71         0         1               0             1    []             0   \n",
       "72         0         0               0             1    []             0   \n",
       "73         0         0               0             0    []             0   \n",
       "74         0         0               0             0    []             0   \n",
       "75         0         0               0             0    []             0   \n",
       "76         0         1               0             0    []             0   \n",
       "77         0         0               0             1    []             0   \n",
       "78         0         0               0             0    []             0   \n",
       "79         0         0               0             0    []             0   \n",
       "80         0         0               0             0    []             0   \n",
       "81         0         1               0             1    []             0   \n",
       "82         0         0               0             0    []             0   \n",
       "83         1         1               0             0    []             0   \n",
       "84         0         0               0             5    []             0   \n",
       "85         0         0               0             0    []             0   \n",
       "86         0         1               0             0    []             0   \n",
       "87         0         0               0             4    []             0   \n",
       "88         0         0               0             0    []             0   \n",
       "89         0         1               0             0    []             0   \n",
       "90         0         1               0             1    []             0   \n",
       "91         0         0               1             0    []             0   \n",
       "92         0         0               0             0    []             0   \n",
       "93         0         0               0             1    []             0   \n",
       "94         0         1               0             0    []             0   \n",
       "95         0         0               0             0    []             0   \n",
       "96         0         0               1            13    []             0   \n",
       "97         0         0               0             1    []             0   \n",
       "98         0         1               0             1    []             0   \n",
       "99         0         0               0             2    []             0   \n",
       "\n",
       "    url_flag  \n",
       "50         1  \n",
       "51         0  \n",
       "52         0  \n",
       "53         0  \n",
       "54         0  \n",
       "55         0  \n",
       "56         0  \n",
       "57         0  \n",
       "58         0  \n",
       "59         0  \n",
       "60         0  \n",
       "61         0  \n",
       "62         0  \n",
       "63         0  \n",
       "64         0  \n",
       "65         0  \n",
       "66         0  \n",
       "67         0  \n",
       "68         0  \n",
       "69         0  \n",
       "70         0  \n",
       "71         0  \n",
       "72         0  \n",
       "73         0  \n",
       "74         1  \n",
       "75         0  \n",
       "76         0  \n",
       "77         0  \n",
       "78         0  \n",
       "79         0  \n",
       "80         0  \n",
       "81         0  \n",
       "82         0  \n",
       "83         0  \n",
       "84         0  \n",
       "85         0  \n",
       "86         0  \n",
       "87         0  \n",
       "88         0  \n",
       "89         0  \n",
       "90         0  \n",
       "91         0  \n",
       "92         0  \n",
       "93         0  \n",
       "94         0  \n",
       "95         1  \n",
       "96         0  \n",
       "97         0  \n",
       "98         0  \n",
       "99         0  "
      ]
     },
     "execution_count": 62,
     "metadata": {},
     "output_type": "execute_result"
    }
   ],
   "source": [
    "df[50:100] "
   ]
  },
  {
   "cell_type": "markdown",
   "id": "da3006cd",
   "metadata": {},
   "source": [
    "##### Removal of multiple spaces `\"   \"`"
   ]
  },
  {
   "cell_type": "code",
   "execution_count": 63,
   "id": "eb76c67a",
   "metadata": {
    "ExecuteTime": {
     "end_time": "2022-10-09T09:54:28.094877Z",
     "start_time": "2022-10-09T09:54:28.092254Z"
    }
   },
   "outputs": [],
   "source": [
    "x = 'The   Boy   in     the   Striped Pajamas.pdf is an excellent book'"
   ]
  },
  {
   "cell_type": "code",
   "execution_count": 64,
   "id": "c728dcde",
   "metadata": {
    "ExecuteTime": {
     "end_time": "2022-10-09T09:54:28.099700Z",
     "start_time": "2022-10-09T09:54:28.096475Z"
    }
   },
   "outputs": [
    {
     "data": {
      "text/plain": [
       "'The Boy in the Striped Pajamas.pdf is an excellent book'"
      ]
     },
     "execution_count": 64,
     "metadata": {},
     "output_type": "execute_result"
    }
   ],
   "source": [
    "\" \".join(x.split())"
   ]
  },
  {
   "cell_type": "code",
   "execution_count": 65,
   "id": "3ac3560a",
   "metadata": {
    "ExecuteTime": {
     "end_time": "2022-10-09T09:54:29.496463Z",
     "start_time": "2022-10-09T09:54:28.101246Z"
    }
   },
   "outputs": [],
   "source": [
    "df['tweets'] = df['tweets'].apply(lambda x: \" \".join(x.split()))"
   ]
  },
  {
   "cell_type": "markdown",
   "id": "d7e453e6",
   "metadata": {},
   "source": [
    "##### Removal of HTML tags"
   ]
  },
  {
   "cell_type": "code",
   "execution_count": 66,
   "id": "1024fb35",
   "metadata": {
    "ExecuteTime": {
     "end_time": "2022-10-09T09:54:29.501635Z",
     "start_time": "2022-10-09T09:54:29.498364Z"
    }
   },
   "outputs": [],
   "source": [
    "#1.04 hour"
   ]
  },
  {
   "cell_type": "code",
   "execution_count": 67,
   "id": "c6691b38",
   "metadata": {
    "ExecuteTime": {
     "end_time": "2022-10-09T09:54:29.610748Z",
     "start_time": "2022-10-09T09:54:29.504115Z"
    }
   },
   "outputs": [],
   "source": [
    "from bs4 import BeautifulSoup"
   ]
  },
  {
   "cell_type": "code",
   "execution_count": 68,
   "id": "8e24e84e",
   "metadata": {
    "ExecuteTime": {
     "end_time": "2022-10-09T09:54:29.614217Z",
     "start_time": "2022-10-09T09:54:29.611928Z"
    }
   },
   "outputs": [],
   "source": [
    "x = '<html><h2>The Boy in the Striped Pajamas</h2></html>'"
   ]
  },
  {
   "cell_type": "code",
   "execution_count": 69,
   "id": "7ee88764",
   "metadata": {
    "ExecuteTime": {
     "end_time": "2022-10-09T09:54:29.619751Z",
     "start_time": "2022-10-09T09:54:29.615657Z"
    }
   },
   "outputs": [
    {
     "data": {
      "text/plain": [
       "'The Boy in the Striped Pajamas'"
      ]
     },
     "execution_count": 69,
     "metadata": {},
     "output_type": "execute_result"
    }
   ],
   "source": [
    "BeautifulSoup(x,'lxml').get_text()"
   ]
  },
  {
   "cell_type": "code",
   "execution_count": null,
   "id": "77c32ace",
   "metadata": {},
   "outputs": [],
   "source": []
  },
  {
   "cell_type": "code",
   "execution_count": 70,
   "id": "0303b4d5",
   "metadata": {
    "ExecuteTime": {
     "end_time": "2022-10-09T09:54:29.624041Z",
     "start_time": "2022-10-09T09:54:29.620977Z"
    }
   },
   "outputs": [
    {
     "name": "stdout",
     "output_type": "stream",
     "text": [
      "CPU times: user 3 µs, sys: 0 ns, total: 3 µs\n",
      "Wall time: 4.77 µs\n"
     ]
    }
   ],
   "source": [
    "%%time\n",
    "# df['tweets'] = df['tweets'].apply(lambda x: BeautifulSoup(x, 'lxml').get_text())"
   ]
  },
  {
   "cell_type": "markdown",
   "id": "5d65a600",
   "metadata": {},
   "source": [
    "##### Removal of accented characters"
   ]
  },
  {
   "cell_type": "code",
   "execution_count": 71,
   "id": "0a91d9d6",
   "metadata": {
    "ExecuteTime": {
     "end_time": "2022-10-09T09:54:29.627925Z",
     "start_time": "2022-10-09T09:54:29.625652Z"
    }
   },
   "outputs": [],
   "source": [
    "x = 'a`ccE~`nted Tex`t'"
   ]
  },
  {
   "cell_type": "code",
   "execution_count": 72,
   "id": "6ec15416",
   "metadata": {
    "ExecuteTime": {
     "end_time": "2022-10-09T09:54:29.631897Z",
     "start_time": "2022-10-09T09:54:29.629567Z"
    }
   },
   "outputs": [],
   "source": [
    "import unicodedata"
   ]
  },
  {
   "cell_type": "code",
   "execution_count": 73,
   "id": "94ff7c8d",
   "metadata": {
    "ExecuteTime": {
     "end_time": "2022-10-09T09:54:29.636073Z",
     "start_time": "2022-10-09T09:54:29.633495Z"
    }
   },
   "outputs": [],
   "source": [
    "def remove_accented_chars(x):\n",
    "    x = unicodedata.normalize('NFKD',x).encode('ascii', 'ignore').decode('utf-8','ignore')"
   ]
  },
  {
   "cell_type": "code",
   "execution_count": 74,
   "id": "b9123fde",
   "metadata": {
    "ExecuteTime": {
     "end_time": "2022-10-09T09:54:29.640003Z",
     "start_time": "2022-10-09T09:54:29.637593Z"
    }
   },
   "outputs": [],
   "source": [
    "remove_accented_chars(x)"
   ]
  },
  {
   "cell_type": "markdown",
   "id": "31c16ba8",
   "metadata": {},
   "source": []
  },
  {
   "cell_type": "markdown",
   "id": "2220039b",
   "metadata": {
    "ExecuteTime": {
     "end_time": "2022-10-07T04:38:59.796463Z",
     "start_time": "2022-10-07T04:38:59.385249Z"
    }
   },
   "source": [
    "### Spacy and NLP"
   ]
  },
  {
   "cell_type": "markdown",
   "id": "3087e464",
   "metadata": {},
   "source": [
    "##### Removal of stop Words"
   ]
  },
  {
   "cell_type": "code",
   "execution_count": 75,
   "id": "034b6cac",
   "metadata": {
    "ExecuteTime": {
     "end_time": "2022-10-09T09:54:29.643752Z",
     "start_time": "2022-10-09T09:54:29.641578Z"
    }
   },
   "outputs": [],
   "source": [
    "import spacy"
   ]
  },
  {
   "cell_type": "code",
   "execution_count": 76,
   "id": "7da4a615",
   "metadata": {
    "ExecuteTime": {
     "end_time": "2022-10-09T09:54:29.653303Z",
     "start_time": "2022-10-09T09:54:29.645346Z"
    },
    "scrolled": true
   },
   "outputs": [
    {
     "data": {
      "text/plain": [
       "{\"'d\",\n",
       " \"'ll\",\n",
       " \"'m\",\n",
       " \"'re\",\n",
       " \"'s\",\n",
       " \"'ve\",\n",
       " 'a',\n",
       " 'about',\n",
       " 'above',\n",
       " 'across',\n",
       " 'after',\n",
       " 'afterwards',\n",
       " 'again',\n",
       " 'against',\n",
       " 'all',\n",
       " 'almost',\n",
       " 'alone',\n",
       " 'along',\n",
       " 'already',\n",
       " 'also',\n",
       " 'although',\n",
       " 'always',\n",
       " 'am',\n",
       " 'among',\n",
       " 'amongst',\n",
       " 'amount',\n",
       " 'an',\n",
       " 'and',\n",
       " 'another',\n",
       " 'any',\n",
       " 'anyhow',\n",
       " 'anyone',\n",
       " 'anything',\n",
       " 'anyway',\n",
       " 'anywhere',\n",
       " 'are',\n",
       " 'around',\n",
       " 'as',\n",
       " 'at',\n",
       " 'back',\n",
       " 'be',\n",
       " 'became',\n",
       " 'because',\n",
       " 'become',\n",
       " 'becomes',\n",
       " 'becoming',\n",
       " 'been',\n",
       " 'before',\n",
       " 'beforehand',\n",
       " 'behind',\n",
       " 'being',\n",
       " 'below',\n",
       " 'beside',\n",
       " 'besides',\n",
       " 'between',\n",
       " 'beyond',\n",
       " 'both',\n",
       " 'bottom',\n",
       " 'but',\n",
       " 'by',\n",
       " 'ca',\n",
       " 'call',\n",
       " 'can',\n",
       " 'cannot',\n",
       " 'could',\n",
       " 'did',\n",
       " 'do',\n",
       " 'does',\n",
       " 'doing',\n",
       " 'done',\n",
       " 'down',\n",
       " 'due',\n",
       " 'during',\n",
       " 'each',\n",
       " 'eight',\n",
       " 'either',\n",
       " 'eleven',\n",
       " 'else',\n",
       " 'elsewhere',\n",
       " 'empty',\n",
       " 'enough',\n",
       " 'even',\n",
       " 'ever',\n",
       " 'every',\n",
       " 'everyone',\n",
       " 'everything',\n",
       " 'everywhere',\n",
       " 'except',\n",
       " 'few',\n",
       " 'fifteen',\n",
       " 'fifty',\n",
       " 'first',\n",
       " 'five',\n",
       " 'for',\n",
       " 'former',\n",
       " 'formerly',\n",
       " 'forty',\n",
       " 'four',\n",
       " 'from',\n",
       " 'front',\n",
       " 'full',\n",
       " 'further',\n",
       " 'get',\n",
       " 'give',\n",
       " 'go',\n",
       " 'had',\n",
       " 'has',\n",
       " 'have',\n",
       " 'he',\n",
       " 'hence',\n",
       " 'her',\n",
       " 'here',\n",
       " 'hereafter',\n",
       " 'hereby',\n",
       " 'herein',\n",
       " 'hereupon',\n",
       " 'hers',\n",
       " 'herself',\n",
       " 'him',\n",
       " 'himself',\n",
       " 'his',\n",
       " 'how',\n",
       " 'however',\n",
       " 'hundred',\n",
       " 'i',\n",
       " 'if',\n",
       " 'in',\n",
       " 'indeed',\n",
       " 'into',\n",
       " 'is',\n",
       " 'it',\n",
       " 'its',\n",
       " 'itself',\n",
       " 'just',\n",
       " 'keep',\n",
       " 'last',\n",
       " 'latter',\n",
       " 'latterly',\n",
       " 'least',\n",
       " 'less',\n",
       " 'made',\n",
       " 'make',\n",
       " 'many',\n",
       " 'may',\n",
       " 'me',\n",
       " 'meanwhile',\n",
       " 'might',\n",
       " 'mine',\n",
       " 'more',\n",
       " 'moreover',\n",
       " 'most',\n",
       " 'mostly',\n",
       " 'move',\n",
       " 'much',\n",
       " 'must',\n",
       " 'my',\n",
       " 'myself',\n",
       " \"n't\",\n",
       " 'name',\n",
       " 'namely',\n",
       " 'neither',\n",
       " 'never',\n",
       " 'nevertheless',\n",
       " 'next',\n",
       " 'nine',\n",
       " 'no',\n",
       " 'nobody',\n",
       " 'none',\n",
       " 'noone',\n",
       " 'nor',\n",
       " 'not',\n",
       " 'nothing',\n",
       " 'now',\n",
       " 'nowhere',\n",
       " 'n‘t',\n",
       " 'n’t',\n",
       " 'of',\n",
       " 'off',\n",
       " 'often',\n",
       " 'on',\n",
       " 'once',\n",
       " 'one',\n",
       " 'only',\n",
       " 'onto',\n",
       " 'or',\n",
       " 'other',\n",
       " 'others',\n",
       " 'otherwise',\n",
       " 'our',\n",
       " 'ours',\n",
       " 'ourselves',\n",
       " 'out',\n",
       " 'over',\n",
       " 'own',\n",
       " 'part',\n",
       " 'per',\n",
       " 'perhaps',\n",
       " 'please',\n",
       " 'put',\n",
       " 'quite',\n",
       " 'rather',\n",
       " 're',\n",
       " 'really',\n",
       " 'regarding',\n",
       " 'same',\n",
       " 'say',\n",
       " 'see',\n",
       " 'seem',\n",
       " 'seemed',\n",
       " 'seeming',\n",
       " 'seems',\n",
       " 'serious',\n",
       " 'several',\n",
       " 'she',\n",
       " 'should',\n",
       " 'show',\n",
       " 'side',\n",
       " 'since',\n",
       " 'six',\n",
       " 'sixty',\n",
       " 'so',\n",
       " 'some',\n",
       " 'somehow',\n",
       " 'someone',\n",
       " 'something',\n",
       " 'sometime',\n",
       " 'sometimes',\n",
       " 'somewhere',\n",
       " 'still',\n",
       " 'such',\n",
       " 'take',\n",
       " 'ten',\n",
       " 'than',\n",
       " 'that',\n",
       " 'the',\n",
       " 'their',\n",
       " 'them',\n",
       " 'themselves',\n",
       " 'then',\n",
       " 'thence',\n",
       " 'there',\n",
       " 'thereafter',\n",
       " 'thereby',\n",
       " 'therefore',\n",
       " 'therein',\n",
       " 'thereupon',\n",
       " 'these',\n",
       " 'they',\n",
       " 'third',\n",
       " 'this',\n",
       " 'those',\n",
       " 'though',\n",
       " 'three',\n",
       " 'through',\n",
       " 'throughout',\n",
       " 'thru',\n",
       " 'thus',\n",
       " 'to',\n",
       " 'together',\n",
       " 'too',\n",
       " 'top',\n",
       " 'toward',\n",
       " 'towards',\n",
       " 'twelve',\n",
       " 'twenty',\n",
       " 'two',\n",
       " 'under',\n",
       " 'unless',\n",
       " 'until',\n",
       " 'up',\n",
       " 'upon',\n",
       " 'us',\n",
       " 'used',\n",
       " 'using',\n",
       " 'various',\n",
       " 'very',\n",
       " 'via',\n",
       " 'was',\n",
       " 'we',\n",
       " 'well',\n",
       " 'were',\n",
       " 'what',\n",
       " 'whatever',\n",
       " 'when',\n",
       " 'whence',\n",
       " 'whenever',\n",
       " 'where',\n",
       " 'whereafter',\n",
       " 'whereas',\n",
       " 'whereby',\n",
       " 'wherein',\n",
       " 'whereupon',\n",
       " 'wherever',\n",
       " 'whether',\n",
       " 'which',\n",
       " 'while',\n",
       " 'whither',\n",
       " 'who',\n",
       " 'whoever',\n",
       " 'whole',\n",
       " 'whom',\n",
       " 'whose',\n",
       " 'why',\n",
       " 'will',\n",
       " 'with',\n",
       " 'within',\n",
       " 'without',\n",
       " 'would',\n",
       " 'yet',\n",
       " 'you',\n",
       " 'your',\n",
       " 'yours',\n",
       " 'yourself',\n",
       " 'yourselves',\n",
       " '‘d',\n",
       " '‘ll',\n",
       " '‘m',\n",
       " '‘re',\n",
       " '‘s',\n",
       " '‘ve',\n",
       " '’d',\n",
       " '’ll',\n",
       " '’m',\n",
       " '’re',\n",
       " '’s',\n",
       " '’ve'}"
      ]
     },
     "execution_count": 76,
     "metadata": {},
     "output_type": "execute_result"
    }
   ],
   "source": [
    "STOP_WORDS"
   ]
  },
  {
   "cell_type": "code",
   "execution_count": 77,
   "id": "ae98b156",
   "metadata": {
    "ExecuteTime": {
     "end_time": "2022-10-09T09:54:29.657544Z",
     "start_time": "2022-10-09T09:54:29.655164Z"
    }
   },
   "outputs": [],
   "source": [
    "x = 'this is stop words removal code, is a an the how that what'"
   ]
  },
  {
   "cell_type": "code",
   "execution_count": 78,
   "id": "9de9b318",
   "metadata": {
    "ExecuteTime": {
     "end_time": "2022-10-09T09:54:29.662755Z",
     "start_time": "2022-10-09T09:54:29.658991Z"
    }
   },
   "outputs": [
    {
     "data": {
      "text/plain": [
       "'stop words removal code,'"
      ]
     },
     "execution_count": 78,
     "metadata": {},
     "output_type": "execute_result"
    }
   ],
   "source": [
    "\" \".join([word for word in x.split() if word not in STOP_WORDS])"
   ]
  },
  {
   "cell_type": "code",
   "execution_count": 79,
   "id": "033b22c6",
   "metadata": {
    "ExecuteTime": {
     "end_time": "2022-10-09T09:54:32.627618Z",
     "start_time": "2022-10-09T09:54:29.664262Z"
    }
   },
   "outputs": [],
   "source": [
    "df['tweets'] = df['tweets'].apply(lambda x: \" \".join([word for word in x.split() if word not in STOP_WORDS]))"
   ]
  },
  {
   "cell_type": "code",
   "execution_count": 80,
   "id": "1e140d78",
   "metadata": {
    "ExecuteTime": {
     "end_time": "2022-10-09T09:54:32.643763Z",
     "start_time": "2022-10-09T09:54:32.629426Z"
    }
   },
   "outputs": [
    {
     "data": {
      "text/html": [
       "<div>\n",
       "<style scoped>\n",
       "    .dataframe tbody tr th:only-of-type {\n",
       "        vertical-align: middle;\n",
       "    }\n",
       "\n",
       "    .dataframe tbody tr th {\n",
       "        vertical-align: top;\n",
       "    }\n",
       "\n",
       "    .dataframe thead th {\n",
       "        text-align: right;\n",
       "    }\n",
       "</style>\n",
       "<table border=\"1\" class=\"dataframe\">\n",
       "  <thead>\n",
       "    <tr style=\"text-align: right;\">\n",
       "      <th></th>\n",
       "      <th>tweets</th>\n",
       "      <th>sentiment</th>\n",
       "      <th>word_counts</th>\n",
       "      <th>char_counts</th>\n",
       "      <th>avg_word_len</th>\n",
       "      <th>stop_word_len</th>\n",
       "      <th>#_counts</th>\n",
       "      <th>@_counts</th>\n",
       "      <th>numeric_counts</th>\n",
       "      <th>upper_counts</th>\n",
       "      <th>email</th>\n",
       "      <th>email_counts</th>\n",
       "      <th>url_flag</th>\n",
       "    </tr>\n",
       "  </thead>\n",
       "  <tbody>\n",
       "    <tr>\n",
       "      <th>0</th>\n",
       "      <td>switchfoot - awww thats bummer shoulda got david carr day d</td>\n",
       "      <td>0</td>\n",
       "      <td>19</td>\n",
       "      <td>115</td>\n",
       "      <td>5.052632</td>\n",
       "      <td>4</td>\n",
       "      <td>0</td>\n",
       "      <td>1</td>\n",
       "      <td>0</td>\n",
       "      <td>1</td>\n",
       "      <td>[]</td>\n",
       "      <td>0</td>\n",
       "      <td>1</td>\n",
       "    </tr>\n",
       "    <tr>\n",
       "      <th>1</th>\n",
       "      <td>upset cant update facebook texting cry result school today blah</td>\n",
       "      <td>0</td>\n",
       "      <td>21</td>\n",
       "      <td>111</td>\n",
       "      <td>4.285714</td>\n",
       "      <td>9</td>\n",
       "      <td>0</td>\n",
       "      <td>0</td>\n",
       "      <td>0</td>\n",
       "      <td>0</td>\n",
       "      <td>[]</td>\n",
       "      <td>0</td>\n",
       "      <td>0</td>\n",
       "    </tr>\n",
       "    <tr>\n",
       "      <th>2</th>\n",
       "      <td>kenichan dived times ball managed save 50 rest bounds</td>\n",
       "      <td>0</td>\n",
       "      <td>18</td>\n",
       "      <td>89</td>\n",
       "      <td>3.944444</td>\n",
       "      <td>7</td>\n",
       "      <td>0</td>\n",
       "      <td>1</td>\n",
       "      <td>0</td>\n",
       "      <td>1</td>\n",
       "      <td>[]</td>\n",
       "      <td>0</td>\n",
       "      <td>0</td>\n",
       "    </tr>\n",
       "    <tr>\n",
       "      <th>3</th>\n",
       "      <td>body feels itchy like fire</td>\n",
       "      <td>0</td>\n",
       "      <td>10</td>\n",
       "      <td>47</td>\n",
       "      <td>3.700000</td>\n",
       "      <td>5</td>\n",
       "      <td>0</td>\n",
       "      <td>0</td>\n",
       "      <td>0</td>\n",
       "      <td>0</td>\n",
       "      <td>[]</td>\n",
       "      <td>0</td>\n",
       "      <td>0</td>\n",
       "    </tr>\n",
       "    <tr>\n",
       "      <th>4</th>\n",
       "      <td>nationwideclass behaving im mad cant</td>\n",
       "      <td>0</td>\n",
       "      <td>21</td>\n",
       "      <td>111</td>\n",
       "      <td>4.285714</td>\n",
       "      <td>10</td>\n",
       "      <td>0</td>\n",
       "      <td>1</td>\n",
       "      <td>0</td>\n",
       "      <td>1</td>\n",
       "      <td>[]</td>\n",
       "      <td>0</td>\n",
       "      <td>0</td>\n",
       "    </tr>\n",
       "  </tbody>\n",
       "</table>\n",
       "</div>"
      ],
      "text/plain": [
       "                                                            tweets  sentiment  \\\n",
       "0      switchfoot - awww thats bummer shoulda got david carr day d          0   \n",
       "1  upset cant update facebook texting cry result school today blah          0   \n",
       "2            kenichan dived times ball managed save 50 rest bounds          0   \n",
       "3                                       body feels itchy like fire          0   \n",
       "4                             nationwideclass behaving im mad cant          0   \n",
       "\n",
       "   word_counts  char_counts  avg_word_len  stop_word_len  #_counts  @_counts  \\\n",
       "0           19          115      5.052632              4         0         1   \n",
       "1           21          111      4.285714              9         0         0   \n",
       "2           18           89      3.944444              7         0         1   \n",
       "3           10           47      3.700000              5         0         0   \n",
       "4           21          111      4.285714             10         0         1   \n",
       "\n",
       "   numeric_counts  upper_counts email  email_counts  url_flag  \n",
       "0               0             1    []             0         1  \n",
       "1               0             0    []             0         0  \n",
       "2               0             1    []             0         0  \n",
       "3               0             0    []             0         0  \n",
       "4               0             1    []             0         0  "
      ]
     },
     "execution_count": 80,
     "metadata": {},
     "output_type": "execute_result"
    }
   ],
   "source": [
    "df.head()"
   ]
  },
  {
   "cell_type": "markdown",
   "id": "557c21af",
   "metadata": {},
   "source": [
    "##### Conversion into base form of words (lemmatization)"
   ]
  },
  {
   "cell_type": "code",
   "execution_count": 81,
   "id": "92c4ff51",
   "metadata": {
    "ExecuteTime": {
     "end_time": "2022-10-09T09:54:32.699082Z",
     "start_time": "2022-10-09T09:54:32.656011Z"
    },
    "scrolled": true
   },
   "outputs": [],
   "source": [
    "#!python3 -m spacy download en_core_web_sm"
   ]
  },
  {
   "cell_type": "code",
   "execution_count": 82,
   "id": "b16bcbf4",
   "metadata": {
    "ExecuteTime": {
     "end_time": "2022-10-09T09:54:33.233218Z",
     "start_time": "2022-10-09T09:54:32.700453Z"
    }
   },
   "outputs": [],
   "source": [
    "nlp = spacy.load('en_core_web_sm')"
   ]
  },
  {
   "cell_type": "code",
   "execution_count": 83,
   "id": "b162c327",
   "metadata": {
    "ExecuteTime": {
     "end_time": "2022-10-09T09:54:33.236712Z",
     "start_time": "2022-10-09T09:54:33.234438Z"
    }
   },
   "outputs": [],
   "source": [
    "x = 'i you he she they is am are'\n",
    "y = 'kenichan dived times ball managed save 50 rest bounds'"
   ]
  },
  {
   "cell_type": "code",
   "execution_count": 84,
   "id": "8fa6b074",
   "metadata": {
    "ExecuteTime": {
     "end_time": "2022-10-09T09:54:33.240323Z",
     "start_time": "2022-10-09T09:54:33.237958Z"
    }
   },
   "outputs": [],
   "source": [
    "# dive = dived, time = times, manag = managed"
   ]
  },
  {
   "cell_type": "code",
   "execution_count": 85,
   "id": "20989897",
   "metadata": {
    "ExecuteTime": {
     "end_time": "2022-10-09T09:54:33.245293Z",
     "start_time": "2022-10-09T09:54:33.241836Z"
    }
   },
   "outputs": [],
   "source": [
    "def make_to_base_form(x):\n",
    "    x_list = []\n",
    "    doc = nlp(x)\n",
    "    \n",
    "    for token in doc:\n",
    "        lem = str(token.lemma_)\n",
    "        \n",
    "        if lem == '-PRON-' or lem == 'be':\n",
    "            lem = token.text\n",
    "        x_list.append(lem)\n",
    "    print(\" \".join(x_list))\n",
    "    "
   ]
  },
  {
   "cell_type": "code",
   "execution_count": 86,
   "id": "91680966",
   "metadata": {
    "ExecuteTime": {
     "end_time": "2022-10-09T09:54:33.255875Z",
     "start_time": "2022-10-09T09:54:33.246635Z"
    }
   },
   "outputs": [
    {
     "name": "stdout",
     "output_type": "stream",
     "text": [
      "I you he she they is am are\n"
     ]
    }
   ],
   "source": [
    "make_to_base_form(x)"
   ]
  },
  {
   "cell_type": "code",
   "execution_count": 87,
   "id": "5e14fd26",
   "metadata": {
    "ExecuteTime": {
     "end_time": "2022-10-09T09:54:33.266359Z",
     "start_time": "2022-10-09T09:54:33.257397Z"
    }
   },
   "outputs": [
    {
     "name": "stdout",
     "output_type": "stream",
     "text": [
      "kenichan dive times ball manage save 50 rest bound\n"
     ]
    }
   ],
   "source": [
    "make_to_base_form(y)"
   ]
  },
  {
   "cell_type": "code",
   "execution_count": null,
   "id": "00f30d10",
   "metadata": {},
   "outputs": [],
   "source": []
  },
  {
   "cell_type": "code",
   "execution_count": 88,
   "id": "a3b82c90",
   "metadata": {
    "ExecuteTime": {
     "end_time": "2022-10-09T09:54:33.269445Z",
     "start_time": "2022-10-09T09:54:33.267495Z"
    }
   },
   "outputs": [],
   "source": [
    "# use it to this data take long time.\n",
    "# do it here.........................\n",
    "\n",
    "\n",
    "\n",
    "# ........"
   ]
  },
  {
   "cell_type": "markdown",
   "id": "a7866cd4",
   "metadata": {},
   "source": [
    "##### Common Occurring words Removal"
   ]
  },
  {
   "cell_type": "code",
   "execution_count": 89,
   "id": "7a84082c",
   "metadata": {
    "ExecuteTime": {
     "end_time": "2022-10-09T09:54:33.274675Z",
     "start_time": "2022-10-09T09:54:33.270577Z"
    }
   },
   "outputs": [
    {
     "data": {
      "text/plain": [
       "0        switchfoot - awww thats bummer shoulda got david carr day d\n",
       "1    upset cant update facebook texting cry result school today blah\n",
       "2              kenichan dived times ball managed save 50 rest bounds\n",
       "3                                         body feels itchy like fire\n",
       "4                               nationwideclass behaving im mad cant\n",
       "Name: tweets, dtype: object"
      ]
     },
     "execution_count": 89,
     "metadata": {},
     "output_type": "execute_result"
    }
   ],
   "source": [
    "df.head()['tweets']"
   ]
  },
  {
   "cell_type": "code",
   "execution_count": 90,
   "id": "58c42466",
   "metadata": {
    "ExecuteTime": {
     "end_time": "2022-10-09T09:54:33.279545Z",
     "start_time": "2022-10-09T09:54:33.276047Z"
    }
   },
   "outputs": [
    {
     "data": {
      "text/plain": [
       "'switchfoot - awww thats bummer shoulda got david carr day d upset cant update facebook texting cry result school today blah kenichan dived times ball managed save 50 rest bounds body feels itchy like fire nationwideclass behaving im mad cant'"
      ]
     },
     "execution_count": 90,
     "metadata": {},
     "output_type": "execute_result"
    }
   ],
   "source": [
    "' '.join(df['tweets'].head())"
   ]
  },
  {
   "cell_type": "code",
   "execution_count": 91,
   "id": "bbf5f28c",
   "metadata": {
    "ExecuteTime": {
     "end_time": "2022-10-09T09:54:33.437342Z",
     "start_time": "2022-10-09T09:54:33.280680Z"
    }
   },
   "outputs": [],
   "source": [
    "text = ' '.join(df['tweets'])"
   ]
  },
  {
   "cell_type": "code",
   "execution_count": 92,
   "id": "4618c53f",
   "metadata": {
    "ExecuteTime": {
     "end_time": "2022-10-09T09:54:33.447897Z",
     "start_time": "2022-10-09T09:54:33.438831Z"
    }
   },
   "outputs": [
    {
     "data": {
      "text/plain": [
       "73159505"
      ]
     },
     "execution_count": 92,
     "metadata": {},
     "output_type": "execute_result"
    }
   ],
   "source": [
    "len(text)"
   ]
  },
  {
   "cell_type": "code",
   "execution_count": 93,
   "id": "5bf91f39",
   "metadata": {
    "ExecuteTime": {
     "end_time": "2022-10-09T09:54:33.452963Z",
     "start_time": "2022-10-09T09:54:33.449462Z"
    }
   },
   "outputs": [
    {
     "data": {
      "text/plain": [
       "'switchfoot - awww thats bummer shoulda got david c'"
      ]
     },
     "execution_count": 93,
     "metadata": {},
     "output_type": "execute_result"
    }
   ],
   "source": [
    "text[:50]"
   ]
  },
  {
   "cell_type": "code",
   "execution_count": 94,
   "id": "ef5bb086",
   "metadata": {
    "ExecuteTime": {
     "end_time": "2022-10-09T09:54:33.981787Z",
     "start_time": "2022-10-09T09:54:33.454296Z"
    }
   },
   "outputs": [],
   "source": [
    "text = text.split()"
   ]
  },
  {
   "cell_type": "code",
   "execution_count": 95,
   "id": "f7b81485",
   "metadata": {
    "ExecuteTime": {
     "end_time": "2022-10-09T09:54:34.101336Z",
     "start_time": "2022-10-09T09:54:33.983098Z"
    }
   },
   "outputs": [
    {
     "data": {
      "text/plain": [
       "11303041"
      ]
     },
     "execution_count": 95,
     "metadata": {},
     "output_type": "execute_result"
    }
   ],
   "source": [
    "len(text)"
   ]
  },
  {
   "cell_type": "code",
   "execution_count": 96,
   "id": "51553f6a",
   "metadata": {
    "ExecuteTime": {
     "end_time": "2022-10-09T09:54:34.112121Z",
     "start_time": "2022-10-09T09:54:34.102705Z"
    }
   },
   "outputs": [
    {
     "data": {
      "text/plain": [
       "['switchfoot', '-', 'awww', 'thats', 'bummer']"
      ]
     },
     "execution_count": 96,
     "metadata": {},
     "output_type": "execute_result"
    }
   ],
   "source": [
    "text[:5]"
   ]
  },
  {
   "cell_type": "code",
   "execution_count": null,
   "id": "7acfd2c4",
   "metadata": {},
   "outputs": [],
   "source": []
  },
  {
   "cell_type": "code",
   "execution_count": 97,
   "id": "61882c6b",
   "metadata": {
    "ExecuteTime": {
     "end_time": "2022-10-09T09:54:36.441532Z",
     "start_time": "2022-10-09T09:54:34.113500Z"
    }
   },
   "outputs": [],
   "source": [
    "frequent_word = pd.Series(text).value_counts()"
   ]
  },
  {
   "cell_type": "code",
   "execution_count": 98,
   "id": "c3d35d1c",
   "metadata": {
    "ExecuteTime": {
     "end_time": "2022-10-09T09:54:36.479465Z",
     "start_time": "2022-10-09T09:54:36.443431Z"
    }
   },
   "outputs": [],
   "source": [
    "f20 = frequent_word[:20]"
   ]
  },
  {
   "cell_type": "code",
   "execution_count": 99,
   "id": "3f7001c9",
   "metadata": {
    "ExecuteTime": {
     "end_time": "2022-10-09T09:54:36.491947Z",
     "start_time": "2022-10-09T09:54:36.483005Z"
    }
   },
   "outputs": [
    {
     "data": {
      "text/plain": [
       "im       178268\n",
       "good      89366\n",
       "day       82297\n",
       "like      77735\n",
       "-         69656\n",
       "dont      67278\n",
       "today     64512\n",
       "going     64077\n",
       "love      63417\n",
       "cant      62868\n",
       "work      62804\n",
       "got       60748\n",
       "time      56080\n",
       "lol       55094\n",
       "u         52834\n",
       "know      51171\n",
       "want      42070\n",
       "new       41995\n",
       "think     41039\n",
       "night     41029\n",
       "dtype: int64"
      ]
     },
     "execution_count": 99,
     "metadata": {},
     "output_type": "execute_result"
    }
   ],
   "source": [
    "f20"
   ]
  },
  {
   "cell_type": "code",
   "execution_count": 100,
   "id": "2ec3551d",
   "metadata": {
    "ExecuteTime": {
     "end_time": "2022-10-09T09:54:44.630057Z",
     "start_time": "2022-10-09T09:54:36.494922Z"
    }
   },
   "outputs": [],
   "source": [
    "df['tweets'] = df['tweets'].apply(lambda x: \" \".join([word for word in x.split() if word not in f20]))"
   ]
  },
  {
   "cell_type": "code",
   "execution_count": 101,
   "id": "6a91ccc6",
   "metadata": {
    "ExecuteTime": {
     "end_time": "2022-10-09T09:54:47.603827Z",
     "start_time": "2022-10-09T09:54:44.632023Z"
    }
   },
   "outputs": [
    {
     "data": {
      "text/plain": [
       "amp         40614\n",
       "thanks      39310\n",
       "home        39168\n",
       "oh          37971\n",
       "2           37945\n",
       "miss        36099\n",
       "need        35524\n",
       "morning     33117\n",
       "hope        33053\n",
       "great       32805\n",
       "tomorrow    32664\n",
       "ill         31777\n",
       "twitter     31224\n",
       "thats       30595\n",
       "haha        30263\n",
       "feel        30010\n",
       "sad         28562\n",
       "fun         27902\n",
       "wish        27631\n",
       "right       27288\n",
       "dtype: int64"
      ]
     },
     "execution_count": 101,
     "metadata": {},
     "output_type": "execute_result"
    }
   ],
   "source": [
    "check = ' '.join(df['tweets'])\n",
    "check = check.split()\n",
    "frequent_word = pd.Series(check).value_counts()\n",
    "f20 = frequent_word[:20]\n",
    "f20"
   ]
  },
  {
   "cell_type": "code",
   "execution_count": null,
   "id": "6b7e1757",
   "metadata": {},
   "outputs": [],
   "source": []
  },
  {
   "cell_type": "markdown",
   "id": "27c21ec1",
   "metadata": {},
   "source": [
    "##### Rare Occurring words Removal"
   ]
  },
  {
   "cell_type": "code",
   "execution_count": 102,
   "id": "572b8fd7",
   "metadata": {
    "ExecuteTime": {
     "end_time": "2022-10-09T09:54:47.609695Z",
     "start_time": "2022-10-09T09:54:47.606138Z"
    }
   },
   "outputs": [],
   "source": [
    "rare20 = frequent_word[-20:]"
   ]
  },
  {
   "cell_type": "code",
   "execution_count": 103,
   "id": "c7ecddd3",
   "metadata": {
    "ExecuteTime": {
     "end_time": "2022-10-09T09:54:47.668296Z",
     "start_time": "2022-10-09T09:54:47.611809Z"
    }
   },
   "outputs": [
    {
     "data": {
      "text/plain": [
       "godisinthetv             1\n",
       "ihwright                 1\n",
       "zombiecaptnhook          1\n",
       "anti-rheumatic           1\n",
       "quotinfo-mercialsquot    1\n",
       "movistar                 1\n",
       "mizzdmain                1\n",
       "kittu                    1\n",
       "cryyyyyyyyyyyyy          1\n",
       "newrepoer                1\n",
       "daygta                   1\n",
       "colesaw                  1\n",
       "alexjus                  1\n",
       "glothes                  1\n",
       "lilyorso                 1\n",
       "jamiewiborg              1\n",
       "thebeckie                1\n",
       "tendealons               1\n",
       "materialslinks           1\n",
       "speakinguph4h            1\n",
       "dtype: int64"
      ]
     },
     "execution_count": 103,
     "metadata": {},
     "output_type": "execute_result"
    }
   ],
   "source": [
    "rare20"
   ]
  },
  {
   "cell_type": "code",
   "execution_count": 104,
   "id": "e62070ad",
   "metadata": {
    "ExecuteTime": {
     "end_time": "2022-10-09T09:54:47.845316Z",
     "start_time": "2022-10-09T09:54:47.669601Z"
    }
   },
   "outputs": [
    {
     "data": {
      "text/plain": [
       "ampabout          3\n",
       "jemmamb           3\n",
       "pred              3\n",
       "websdotcom        3\n",
       "cathysayss        3\n",
       "                 ..\n",
       "jamiewiborg       1\n",
       "thebeckie         1\n",
       "tendealons        1\n",
       "materialslinks    1\n",
       "speakinguph4h     1\n",
       "Length: 682076, dtype: int64"
      ]
     },
     "execution_count": 104,
     "metadata": {},
     "output_type": "execute_result"
    }
   ],
   "source": [
    "# find word in specific frequency count like all word occuring just 1 time or lass then 5 times.\n",
    "rare = frequent_word[frequent_word.values <= 3]\n",
    "rare"
   ]
  },
  {
   "cell_type": "code",
   "execution_count": 105,
   "id": "66d644da",
   "metadata": {
    "ExecuteTime": {
     "end_time": "2022-10-09T09:54:56.742182Z",
     "start_time": "2022-10-09T09:54:47.847814Z"
    }
   },
   "outputs": [],
   "source": [
    "df['tweets'] = df['tweets'].apply(lambda x: ' '.join([word for word in x.split() if word not in rare]))"
   ]
  },
  {
   "cell_type": "code",
   "execution_count": 106,
   "id": "328187ac",
   "metadata": {
    "ExecuteTime": {
     "end_time": "2022-10-09T09:54:57.381067Z",
     "start_time": "2022-10-09T09:54:56.744966Z"
    }
   },
   "outputs": [
    {
     "data": {
      "text/plain": [
       "9112937"
      ]
     },
     "execution_count": 106,
     "metadata": {},
     "output_type": "execute_result"
    }
   ],
   "source": [
    "text = \" \".join(df['tweets'])\n",
    "text = text.split()\n",
    "len(text)"
   ]
  },
  {
   "cell_type": "markdown",
   "id": "f36b7521",
   "metadata": {},
   "source": [
    "##### Word Cloud Visulization"
   ]
  },
  {
   "cell_type": "code",
   "execution_count": 107,
   "id": "e9e73bf6",
   "metadata": {
    "ExecuteTime": {
     "end_time": "2022-10-09T09:54:59.705798Z",
     "start_time": "2022-10-09T09:54:57.382578Z"
    },
    "scrolled": true
   },
   "outputs": [
    {
     "name": "stdout",
     "output_type": "stream",
     "text": [
      "Requirement already satisfied: wordcloud in /home/arafat/anaconda3/lib/python3.9/site-packages (1.8.2.2)\n",
      "Requirement already satisfied: pillow in /home/arafat/anaconda3/lib/python3.9/site-packages (from wordcloud) (9.0.1)\n",
      "Requirement already satisfied: numpy>=1.6.1 in /home/arafat/anaconda3/lib/python3.9/site-packages (from wordcloud) (1.19.5)\n",
      "Requirement already satisfied: matplotlib in /home/arafat/anaconda3/lib/python3.9/site-packages (from wordcloud) (3.5.1)\n",
      "Requirement already satisfied: packaging>=20.0 in /home/arafat/anaconda3/lib/python3.9/site-packages (from matplotlib->wordcloud) (21.3)\n",
      "Requirement already satisfied: cycler>=0.10 in /home/arafat/anaconda3/lib/python3.9/site-packages (from matplotlib->wordcloud) (0.11.0)\n",
      "Requirement already satisfied: fonttools>=4.22.0 in /home/arafat/anaconda3/lib/python3.9/site-packages (from matplotlib->wordcloud) (4.25.0)\n",
      "Requirement already satisfied: pyparsing>=2.2.1 in /home/arafat/anaconda3/lib/python3.9/site-packages (from matplotlib->wordcloud) (3.0.4)\n",
      "Requirement already satisfied: python-dateutil>=2.7 in /home/arafat/anaconda3/lib/python3.9/site-packages (from matplotlib->wordcloud) (2.8.2)\n",
      "Requirement already satisfied: kiwisolver>=1.0.1 in /home/arafat/anaconda3/lib/python3.9/site-packages (from matplotlib->wordcloud) (1.3.2)\n",
      "Requirement already satisfied: six>=1.5 in /home/arafat/anaconda3/lib/python3.9/site-packages (from python-dateutil>=2.7->matplotlib->wordcloud) (1.15.0)\n"
     ]
    }
   ],
   "source": [
    "!pip install wordcloud"
   ]
  },
  {
   "cell_type": "code",
   "execution_count": 108,
   "id": "246e98d6",
   "metadata": {
    "ExecuteTime": {
     "end_time": "2022-10-09T09:55:00.590849Z",
     "start_time": "2022-10-09T09:54:59.712642Z"
    }
   },
   "outputs": [],
   "source": [
    "from wordcloud import WordCloud\n",
    "import matplotlib.pyplot as plt\n",
    "%matplotlib inline"
   ]
  },
  {
   "cell_type": "code",
   "execution_count": 109,
   "id": "e73fca96",
   "metadata": {
    "ExecuteTime": {
     "end_time": "2022-10-09T09:55:00.597817Z",
     "start_time": "2022-10-09T09:55:00.591877Z"
    }
   },
   "outputs": [
    {
     "data": {
      "text/plain": [
       "list"
      ]
     },
     "execution_count": 109,
     "metadata": {},
     "output_type": "execute_result"
    }
   ],
   "source": [
    "type(text)"
   ]
  },
  {
   "cell_type": "code",
   "execution_count": 110,
   "id": "70cb63de",
   "metadata": {
    "ExecuteTime": {
     "end_time": "2022-10-09T09:55:00.602833Z",
     "start_time": "2022-10-09T09:55:00.599330Z"
    }
   },
   "outputs": [],
   "source": [
    "x = ' '.join(text[:20000])"
   ]
  },
  {
   "cell_type": "code",
   "execution_count": 111,
   "id": "20d1b25c",
   "metadata": {
    "ExecuteTime": {
     "end_time": "2022-10-09T09:55:00.608088Z",
     "start_time": "2022-10-09T09:55:00.604421Z"
    }
   },
   "outputs": [
    {
     "data": {
      "text/plain": [
       "'switchfoot awww thats bummer shoulda david carr d '"
      ]
     },
     "execution_count": 111,
     "metadata": {},
     "output_type": "execute_result"
    }
   ],
   "source": [
    "x[:50]"
   ]
  },
  {
   "cell_type": "code",
   "execution_count": 112,
   "id": "ace5f974",
   "metadata": {
    "ExecuteTime": {
     "end_time": "2022-10-09T09:55:02.418882Z",
     "start_time": "2022-10-09T09:55:00.610023Z"
    }
   },
   "outputs": [
    {
     "data": {
      "image/png": "[encoded data removed]",
      "text/plain": [
       "<Figure size 432x288 with 1 Axes>"
      ]
     },
     "metadata": {
      "needs_background": "light"
     },
     "output_type": "display_data"
    }
   ],
   "source": [
    "# shift + tab to show parameter option\n",
    "\n",
    "wc = WordCloud(width=1400,height=600,).generate(x)\n",
    "plt.imshow(wc)\n",
    "plt.axis('off')\n",
    "plt.show()"
   ]
  },
  {
   "cell_type": "markdown",
   "id": "7702ed4b",
   "metadata": {},
   "source": [
    "##### Spelling Correction"
   ]
  },
  {
   "cell_type": "code",
   "execution_count": 113,
   "id": "3268f33c",
   "metadata": {
    "ExecuteTime": {
     "end_time": "2022-10-09T09:55:02.422129Z",
     "start_time": "2022-10-09T09:55:02.420085Z"
    }
   },
   "outputs": [],
   "source": [
    "# !pip install -U textblob\n",
    "# !python -m textblob.rpora 1.37"
   ]
  },
  {
   "cell_type": "code",
   "execution_count": 114,
   "id": "957a6d5a",
   "metadata": {
    "ExecuteTime": {
     "end_time": "2022-10-09T09:55:02.920476Z",
     "start_time": "2022-10-09T09:55:02.424187Z"
    }
   },
   "outputs": [],
   "source": [
    "from textblob import TextBlob"
   ]
  },
  {
   "cell_type": "code",
   "execution_count": 115,
   "id": "b6a01268",
   "metadata": {
    "ExecuteTime": {
     "end_time": "2022-10-09T09:55:02.923871Z",
     "start_time": "2022-10-09T09:55:02.921677Z"
    }
   },
   "outputs": [],
   "source": [
    "x = 'tanks forr waching tihs vidio carr'"
   ]
  },
  {
   "cell_type": "code",
   "execution_count": 116,
   "id": "bd268830",
   "metadata": {
    "ExecuteTime": {
     "end_time": "2022-10-09T09:55:02.971088Z",
     "start_time": "2022-10-09T09:55:02.925536Z"
    }
   },
   "outputs": [
    {
     "data": {
      "text/plain": [
       "TextBlob(\"tanks for watching this video care\")"
      ]
     },
     "execution_count": 116,
     "metadata": {},
     "output_type": "execute_result"
    }
   ],
   "source": [
    "x = TextBlob(x).correct()\n",
    "x"
   ]
  },
  {
   "cell_type": "markdown",
   "id": "bdf35bca",
   "metadata": {},
   "source": [
    "##### Tokenization using Text blob"
   ]
  },
  {
   "cell_type": "code",
   "execution_count": 117,
   "id": "39a987ea",
   "metadata": {
    "ExecuteTime": {
     "end_time": "2022-10-09T09:55:02.975405Z",
     "start_time": "2022-10-09T09:55:02.972670Z"
    }
   },
   "outputs": [],
   "source": [
    "x = 'thanks#watching this video. please like it'"
   ]
  },
  {
   "cell_type": "code",
   "execution_count": 118,
   "id": "014960ad",
   "metadata": {
    "ExecuteTime": {
     "end_time": "2022-10-09T09:55:02.989274Z",
     "start_time": "2022-10-09T09:55:02.977153Z"
    }
   },
   "outputs": [
    {
     "data": {
      "text/plain": [
       "WordList(['thanks', 'watching', 'this', 'video', 'please', 'like', 'it'])"
      ]
     },
     "execution_count": 118,
     "metadata": {},
     "output_type": "execute_result"
    }
   ],
   "source": [
    "TextBlob(x).words"
   ]
  },
  {
   "cell_type": "markdown",
   "id": "24359435",
   "metadata": {},
   "source": [
    "##### Tokenization using Spacy"
   ]
  },
  {
   "cell_type": "code",
   "execution_count": 119,
   "id": "b556f7c2",
   "metadata": {
    "ExecuteTime": {
     "end_time": "2022-10-09T09:55:03.003611Z",
     "start_time": "2022-10-09T09:55:02.990746Z"
    }
   },
   "outputs": [
    {
     "name": "stdout",
     "output_type": "stream",
     "text": [
      "thanks#watching\n",
      "this\n",
      "video\n",
      ".\n",
      "please\n",
      "like\n",
      "it\n"
     ]
    }
   ],
   "source": [
    "doc = nlp(x)\n",
    "for token in doc:\n",
    "    print(token)"
   ]
  },
  {
   "cell_type": "markdown",
   "id": "3622829a",
   "metadata": {},
   "source": [
    "##### Lemmatization using text blob"
   ]
  },
  {
   "cell_type": "code",
   "execution_count": 120,
   "id": "b87ed3bc",
   "metadata": {
    "ExecuteTime": {
     "end_time": "2022-10-09T09:55:03.008697Z",
     "start_time": "2022-10-09T09:55:03.005346Z"
    }
   },
   "outputs": [],
   "source": [
    "x = 'runs run running ran'"
   ]
  },
  {
   "cell_type": "code",
   "execution_count": 121,
   "id": "38a68b68",
   "metadata": {
    "ExecuteTime": {
     "end_time": "2022-10-09T09:55:03.013716Z",
     "start_time": "2022-10-09T09:55:03.011001Z"
    }
   },
   "outputs": [],
   "source": [
    "from textblob import Word"
   ]
  },
  {
   "cell_type": "code",
   "execution_count": 122,
   "id": "3f931b20",
   "metadata": {
    "ExecuteTime": {
     "end_time": "2022-10-09T09:55:04.264063Z",
     "start_time": "2022-10-09T09:55:03.015316Z"
    }
   },
   "outputs": [
    {
     "name": "stdout",
     "output_type": "stream",
     "text": [
      "run\n",
      "run\n",
      "running\n",
      "ran\n"
     ]
    }
   ],
   "source": [
    "for token in x.split():\n",
    "    print(Word(token).lemmatize())"
   ]
  },
  {
   "cell_type": "markdown",
   "id": "75432371",
   "metadata": {},
   "source": [
    "##### Lemmatization using Spacy\n"
   ]
  },
  {
   "cell_type": "code",
   "execution_count": 123,
   "id": "5f4fb15e",
   "metadata": {
    "ExecuteTime": {
     "end_time": "2022-10-09T09:55:04.274877Z",
     "start_time": "2022-10-09T09:55:04.265379Z"
    }
   },
   "outputs": [
    {
     "name": "stdout",
     "output_type": "stream",
     "text": [
      "run\n",
      "run\n",
      "run\n",
      "run\n"
     ]
    }
   ],
   "source": [
    "doc = nlp(x)\n",
    "for token in doc:\n",
    "    print(token.lemma_)"
   ]
  },
  {
   "cell_type": "markdown",
   "id": "28a2a0d4",
   "metadata": {},
   "source": [
    "##### Detecting Entities using NER of Spacy"
   ]
  },
  {
   "cell_type": "code",
   "execution_count": 124,
   "id": "90503967",
   "metadata": {
    "ExecuteTime": {
     "end_time": "2022-10-09T09:55:04.278166Z",
     "start_time": "2022-10-09T09:55:04.276035Z"
    }
   },
   "outputs": [],
   "source": [
    "x = 'Breaking News: Donald Trump, the president of the USA is looking to sign a deal to mine the moon'"
   ]
  },
  {
   "cell_type": "code",
   "execution_count": 125,
   "id": "b677511e",
   "metadata": {
    "ExecuteTime": {
     "end_time": "2022-10-09T09:55:04.292938Z",
     "start_time": "2022-10-09T09:55:04.279407Z"
    }
   },
   "outputs": [
    {
     "name": "stdout",
     "output_type": "stream",
     "text": [
      "Breaking - en - None\n",
      "News - en - None\n",
      ": - en - None\n",
      "Donald - en - None\n",
      "Trump - en - None\n",
      ", - en - None\n",
      "the - en - None\n",
      "president - en - None\n",
      "of - en - None\n",
      "the - en - None\n",
      "USA - en - None\n",
      "is - en - None\n",
      "looking - en - None\n",
      "to - en - None\n",
      "sign - en - None\n",
      "a - en - None\n",
      "deal - en - None\n",
      "to - en - None\n",
      "mine - en - None\n",
      "the - en - None\n",
      "moon - en - None\n"
     ]
    },
    {
     "name": "stderr",
     "output_type": "stream",
     "text": [
      "/home/arafat/anaconda3/lib/python3.9/site-packages/spacy/glossary.py:19: UserWarning: [W118] Term 'en' not found in glossary. It may however be explained in documentation for the corpora used to train the language. Please check `nlp.meta[\"sources\"]` for any relevant links.\n",
      "  warnings.warn(Warnings.W118.format(term=term))\n"
     ]
    }
   ],
   "source": [
    "doc = nlp(x)\n",
    "for ent in doc:\n",
    "    print(ent.text+' - '+ent.lang_+' - '+str(spacy.explain(ent.lang_)))"
   ]
  },
  {
   "cell_type": "code",
   "execution_count": 126,
   "id": "6130997f",
   "metadata": {
    "ExecuteTime": {
     "end_time": "2022-10-09T09:55:04.299821Z",
     "start_time": "2022-10-09T09:55:04.295733Z"
    }
   },
   "outputs": [],
   "source": [
    "from spacy import displacy"
   ]
  },
  {
   "cell_type": "code",
   "execution_count": 127,
   "id": "39b40a2d",
   "metadata": {
    "ExecuteTime": {
     "end_time": "2022-10-09T09:55:04.307489Z",
     "start_time": "2022-10-09T09:55:04.301919Z"
    }
   },
   "outputs": [
    {
     "data": {
      "text/html": [
       "<span class=\"tex2jax_ignore\"><div class=\"entities\" style=\"line-height: 2.5; direction: ltr\">Breaking News: \n",
       "<mark class=\"entity\" style=\"background: #aa9cfc; padding: 0.45em 0.6em; margin: 0 0.25em; line-height: 1; border-radius: 0.35em;\">\n",
       "    Donald Trump\n",
       "    <span style=\"font-size: 0.8em; font-weight: bold; line-height: 1; border-radius: 0.35em; vertical-align: middle; margin-left: 0.5rem\">PERSON</span>\n",
       "</mark>\n",
       ", the president of the \n",
       "<mark class=\"entity\" style=\"background: #feca74; padding: 0.45em 0.6em; margin: 0 0.25em; line-height: 1; border-radius: 0.35em;\">\n",
       "    USA\n",
       "    <span style=\"font-size: 0.8em; font-weight: bold; line-height: 1; border-radius: 0.35em; vertical-align: middle; margin-left: 0.5rem\">GPE</span>\n",
       "</mark>\n",
       " is looking to sign a deal to mine the moon</div></span>"
      ],
      "text/plain": [
       "<IPython.core.display.HTML object>"
      ]
     },
     "metadata": {},
     "output_type": "display_data"
    }
   ],
   "source": [
    "displacy.render(doc, style='ent')"
   ]
  },
  {
   "cell_type": "markdown",
   "id": "4894b857",
   "metadata": {},
   "source": [
    "##### Noun Detection"
   ]
  },
  {
   "cell_type": "code",
   "execution_count": 128,
   "id": "a5a731d5",
   "metadata": {
    "ExecuteTime": {
     "end_time": "2022-10-09T09:55:04.312242Z",
     "start_time": "2022-10-09T09:55:04.308883Z"
    }
   },
   "outputs": [
    {
     "data": {
      "text/plain": [
       "'Breaking News: Donald Trump, the president of the USA is looking to sign a deal to mine the moon'"
      ]
     },
     "execution_count": 128,
     "metadata": {},
     "output_type": "execute_result"
    }
   ],
   "source": [
    "x"
   ]
  },
  {
   "cell_type": "code",
   "execution_count": 129,
   "id": "ec8a873a",
   "metadata": {
    "ExecuteTime": {
     "end_time": "2022-10-09T09:55:04.316780Z",
     "start_time": "2022-10-09T09:55:04.313774Z"
    }
   },
   "outputs": [
    {
     "name": "stdout",
     "output_type": "stream",
     "text": [
      "News\n",
      "Donald Trump\n",
      "the president\n",
      "the USA\n",
      "a deal\n",
      "the moon\n"
     ]
    }
   ],
   "source": [
    "for noun in doc.noun_chunks:\n",
    "    print(noun)"
   ]
  },
  {
   "cell_type": "markdown",
   "id": "2f245b7b",
   "metadata": {},
   "source": [
    "##### Sentence Translation and language detection"
   ]
  },
  {
   "cell_type": "code",
   "execution_count": 130,
   "id": "602b3907",
   "metadata": {
    "ExecuteTime": {
     "end_time": "2022-10-09T09:55:04.320285Z",
     "start_time": "2022-10-09T09:55:04.318203Z"
    }
   },
   "outputs": [],
   "source": [
    "tb = TextBlob(x)"
   ]
  },
  {
   "cell_type": "code",
   "execution_count": null,
   "id": "1b814630",
   "metadata": {},
   "outputs": [],
   "source": []
  },
  {
   "cell_type": "code",
   "execution_count": 131,
   "id": "75eabff3",
   "metadata": {
    "ExecuteTime": {
     "end_time": "2022-10-09T09:55:04.326130Z",
     "start_time": "2022-10-09T09:55:04.322010Z"
    }
   },
   "outputs": [],
   "source": [
    "# tb.translate(to='zh')\n",
    "# tb.translate(to='bn')"
   ]
  },
  {
   "cell_type": "markdown",
   "id": "e1e8fed4",
   "metadata": {},
   "source": [
    "##### Using inbuilt Sentiment Classifier"
   ]
  },
  {
   "cell_type": "code",
   "execution_count": 132,
   "id": "679c717a",
   "metadata": {
    "ExecuteTime": {
     "end_time": "2022-10-09T09:55:04.331685Z",
     "start_time": "2022-10-09T09:55:04.328521Z"
    }
   },
   "outputs": [],
   "source": [
    "import textblob\n",
    "from textblob.sentiments import NaiveBayesAnalyzer"
   ]
  },
  {
   "cell_type": "code",
   "execution_count": 133,
   "id": "74cb0a0c",
   "metadata": {
    "ExecuteTime": {
     "end_time": "2022-10-09T09:55:04.336402Z",
     "start_time": "2022-10-09T09:55:04.333939Z"
    }
   },
   "outputs": [],
   "source": [
    "x = 'we all stands together to fight with corona virus. we will win togather'"
   ]
  },
  {
   "cell_type": "code",
   "execution_count": 134,
   "id": "521ef487",
   "metadata": {
    "ExecuteTime": {
     "end_time": "2022-10-09T09:55:04.340423Z",
     "start_time": "2022-10-09T09:55:04.337914Z"
    }
   },
   "outputs": [],
   "source": [
    "tb = TextBlob(x, analyzer=NaiveBayesAnalyzer())"
   ]
  },
  {
   "cell_type": "code",
   "execution_count": 135,
   "id": "1fd0c9dc",
   "metadata": {
    "ExecuteTime": {
     "end_time": "2022-10-09T09:55:04.344066Z",
     "start_time": "2022-10-09T09:55:04.342095Z"
    }
   },
   "outputs": [],
   "source": [
    "# tb.sentiment"
   ]
  },
  {
   "cell_type": "code",
   "execution_count": null,
   "id": "f7ca0980",
   "metadata": {},
   "outputs": [],
   "source": []
  },
  {
   "cell_type": "code",
   "execution_count": null,
   "id": "ffecc03f",
   "metadata": {},
   "outputs": [],
   "source": []
  },
  {
   "cell_type": "markdown",
   "id": "d4191d7c",
   "metadata": {},
   "source": [
    "# Advanced Text Processing and Feature Extraction"
   ]
  },
  {
   "cell_type": "markdown",
   "id": "5169f059",
   "metadata": {},
   "source": [
    "##### N-Gram, Bi-Gram etc"
   ]
  },
  {
   "cell_type": "code",
   "execution_count": 136,
   "id": "db1383b7",
   "metadata": {
    "ExecuteTime": {
     "end_time": "2022-10-09T09:55:04.347798Z",
     "start_time": "2022-10-09T09:55:04.345407Z"
    }
   },
   "outputs": [],
   "source": [
    "x = 'thanks for watching'"
   ]
  },
  {
   "cell_type": "code",
   "execution_count": 137,
   "id": "63270865",
   "metadata": {
    "ExecuteTime": {
     "end_time": "2022-10-09T09:55:04.352210Z",
     "start_time": "2022-10-09T09:55:04.349910Z"
    }
   },
   "outputs": [],
   "source": [
    "tb = TextBlob(x)"
   ]
  },
  {
   "cell_type": "code",
   "execution_count": 138,
   "id": "92f47dd9",
   "metadata": {
    "ExecuteTime": {
     "end_time": "2022-10-09T09:55:04.360037Z",
     "start_time": "2022-10-09T09:55:04.354730Z"
    }
   },
   "outputs": [
    {
     "data": {
      "text/plain": [
       "[WordList(['thanks']), WordList(['for']), WordList(['watching'])]"
      ]
     },
     "execution_count": 138,
     "metadata": {},
     "output_type": "execute_result"
    }
   ],
   "source": [
    "# uni-gram\n",
    "tb.ngrams(1)"
   ]
  },
  {
   "cell_type": "code",
   "execution_count": 139,
   "id": "9affa865",
   "metadata": {
    "ExecuteTime": {
     "end_time": "2022-10-09T09:55:04.366853Z",
     "start_time": "2022-10-09T09:55:04.362300Z"
    }
   },
   "outputs": [
    {
     "data": {
      "text/plain": [
       "[WordList(['thanks', 'for']), WordList(['for', 'watching'])]"
      ]
     },
     "execution_count": 139,
     "metadata": {},
     "output_type": "execute_result"
    }
   ],
   "source": [
    "# bi-gram\n",
    "tb.ngrams(2)"
   ]
  },
  {
   "cell_type": "code",
   "execution_count": 140,
   "id": "e3d54fb6",
   "metadata": {
    "ExecuteTime": {
     "end_time": "2022-10-09T09:55:04.372692Z",
     "start_time": "2022-10-09T09:55:04.369038Z"
    }
   },
   "outputs": [
    {
     "data": {
      "text/plain": [
       "[WordList(['thanks', 'for', 'watching'])]"
      ]
     },
     "execution_count": 140,
     "metadata": {},
     "output_type": "execute_result"
    }
   ],
   "source": [
    "# tri-gram\n",
    "tb.ngrams(3)"
   ]
  },
  {
   "cell_type": "markdown",
   "id": "2a568126",
   "metadata": {},
   "source": [
    "##### Bag of Words (BoW)"
   ]
  },
  {
   "cell_type": "code",
   "execution_count": 141,
   "id": "daf2863a",
   "metadata": {
    "ExecuteTime": {
     "end_time": "2022-10-09T09:55:04.377417Z",
     "start_time": "2022-10-09T09:55:04.374638Z"
    }
   },
   "outputs": [],
   "source": [
    "x = ['this is first sentense', 'this is second', 'this is third']"
   ]
  },
  {
   "cell_type": "code",
   "execution_count": 142,
   "id": "03d0b55e",
   "metadata": {
    "ExecuteTime": {
     "end_time": "2022-10-09T09:55:04.382365Z",
     "start_time": "2022-10-09T09:55:04.379456Z"
    }
   },
   "outputs": [],
   "source": [
    "from sklearn.feature_extraction.text import CountVectorizer"
   ]
  },
  {
   "cell_type": "code",
   "execution_count": 143,
   "id": "46f02924",
   "metadata": {
    "ExecuteTime": {
     "end_time": "2022-10-09T09:55:04.388213Z",
     "start_time": "2022-10-09T09:55:04.384558Z"
    }
   },
   "outputs": [],
   "source": [
    "cv = CountVectorizer(ngram_range=(1,1))\n",
    "text_counts = cv.fit_transform(x)"
   ]
  },
  {
   "cell_type": "code",
   "execution_count": 144,
   "id": "1f325467",
   "metadata": {
    "ExecuteTime": {
     "end_time": "2022-10-09T09:55:04.394328Z",
     "start_time": "2022-10-09T09:55:04.390164Z"
    }
   },
   "outputs": [
    {
     "data": {
      "text/plain": [
       "<3x6 sparse matrix of type '<class 'numpy.int64'>'\n",
       "\twith 10 stored elements in Compressed Sparse Row format>"
      ]
     },
     "execution_count": 144,
     "metadata": {},
     "output_type": "execute_result"
    }
   ],
   "source": [
    "text_counts"
   ]
  },
  {
   "cell_type": "code",
   "execution_count": 145,
   "id": "8813e881",
   "metadata": {
    "ExecuteTime": {
     "end_time": "2022-10-09T09:55:04.401665Z",
     "start_time": "2022-10-09T09:55:04.397065Z"
    }
   },
   "outputs": [
    {
     "data": {
      "text/plain": [
       "array([[1, 1, 0, 1, 0, 1],\n",
       "       [0, 1, 1, 0, 0, 1],\n",
       "       [0, 1, 0, 0, 1, 1]])"
      ]
     },
     "execution_count": 145,
     "metadata": {},
     "output_type": "execute_result"
    }
   ],
   "source": [
    "text_counts.toarray()"
   ]
  },
  {
   "cell_type": "code",
   "execution_count": 146,
   "id": "954e92bb",
   "metadata": {
    "ExecuteTime": {
     "end_time": "2022-10-09T09:55:04.408929Z",
     "start_time": "2022-10-09T09:55:04.403427Z"
    }
   },
   "outputs": [
    {
     "name": "stderr",
     "output_type": "stream",
     "text": [
      "/home/arafat/anaconda3/lib/python3.9/site-packages/sklearn/utils/deprecation.py:87: FutureWarning: Function get_feature_names is deprecated; get_feature_names is deprecated in 1.0 and will be removed in 1.2. Please use get_feature_names_out instead.\n",
      "  warnings.warn(msg, category=FutureWarning)\n"
     ]
    },
    {
     "data": {
      "text/plain": [
       "['first', 'is', 'second', 'sentense', 'third', 'this']"
      ]
     },
     "execution_count": 146,
     "metadata": {},
     "output_type": "execute_result"
    }
   ],
   "source": [
    "cv.get_feature_names()"
   ]
  },
  {
   "cell_type": "code",
   "execution_count": 147,
   "id": "213aa265",
   "metadata": {
    "ExecuteTime": {
     "end_time": "2022-10-09T09:55:04.414251Z",
     "start_time": "2022-10-09T09:55:04.410604Z"
    }
   },
   "outputs": [],
   "source": [
    "#make pandas dataframe\n",
    "bow = pd.DataFrame(text_counts.toarray(),columns=cv.get_feature_names())"
   ]
  },
  {
   "cell_type": "code",
   "execution_count": 148,
   "id": "0a21d2d1",
   "metadata": {
    "ExecuteTime": {
     "end_time": "2022-10-09T09:55:04.424026Z",
     "start_time": "2022-10-09T09:55:04.416568Z"
    }
   },
   "outputs": [
    {
     "data": {
      "text/html": [
       "<div>\n",
       "<style scoped>\n",
       "    .dataframe tbody tr th:only-of-type {\n",
       "        vertical-align: middle;\n",
       "    }\n",
       "\n",
       "    .dataframe tbody tr th {\n",
       "        vertical-align: top;\n",
       "    }\n",
       "\n",
       "    .dataframe thead th {\n",
       "        text-align: right;\n",
       "    }\n",
       "</style>\n",
       "<table border=\"1\" class=\"dataframe\">\n",
       "  <thead>\n",
       "    <tr style=\"text-align: right;\">\n",
       "      <th></th>\n",
       "      <th>first</th>\n",
       "      <th>is</th>\n",
       "      <th>second</th>\n",
       "      <th>sentense</th>\n",
       "      <th>third</th>\n",
       "      <th>this</th>\n",
       "    </tr>\n",
       "  </thead>\n",
       "  <tbody>\n",
       "    <tr>\n",
       "      <th>0</th>\n",
       "      <td>1</td>\n",
       "      <td>1</td>\n",
       "      <td>0</td>\n",
       "      <td>1</td>\n",
       "      <td>0</td>\n",
       "      <td>1</td>\n",
       "    </tr>\n",
       "    <tr>\n",
       "      <th>1</th>\n",
       "      <td>0</td>\n",
       "      <td>1</td>\n",
       "      <td>1</td>\n",
       "      <td>0</td>\n",
       "      <td>0</td>\n",
       "      <td>1</td>\n",
       "    </tr>\n",
       "    <tr>\n",
       "      <th>2</th>\n",
       "      <td>0</td>\n",
       "      <td>1</td>\n",
       "      <td>0</td>\n",
       "      <td>0</td>\n",
       "      <td>1</td>\n",
       "      <td>1</td>\n",
       "    </tr>\n",
       "  </tbody>\n",
       "</table>\n",
       "</div>"
      ],
      "text/plain": [
       "   first  is  second  sentense  third  this\n",
       "0      1   1       0         1      0     1\n",
       "1      0   1       1         0      0     1\n",
       "2      0   1       0         0      1     1"
      ]
     },
     "execution_count": 148,
     "metadata": {},
     "output_type": "execute_result"
    }
   ],
   "source": [
    "bow"
   ]
  },
  {
   "cell_type": "code",
   "execution_count": 149,
   "id": "3d131feb",
   "metadata": {
    "ExecuteTime": {
     "end_time": "2022-10-09T09:55:04.433319Z",
     "start_time": "2022-10-09T09:55:04.427258Z"
    }
   },
   "outputs": [
    {
     "data": {
      "text/plain": [
       "['this is first sentense', 'this is second', 'this is third']"
      ]
     },
     "execution_count": 149,
     "metadata": {},
     "output_type": "execute_result"
    }
   ],
   "source": [
    "x"
   ]
  },
  {
   "cell_type": "code",
   "execution_count": null,
   "id": "1113c3e6",
   "metadata": {},
   "outputs": [],
   "source": []
  },
  {
   "cell_type": "markdown",
   "id": "87f15944",
   "metadata": {},
   "source": [
    "##### Term Frequency Calculation TF\n",
    "\n",
    "Term frequency is simply the ratio of the count of a word present in a sentence, to the length of the sentence."
   ]
  },
  {
   "cell_type": "code",
   "execution_count": 150,
   "id": "bebd4de5",
   "metadata": {
    "ExecuteTime": {
     "end_time": "2022-10-09T09:55:04.441370Z",
     "start_time": "2022-10-09T09:55:04.435399Z"
    }
   },
   "outputs": [
    {
     "data": {
      "text/plain": [
       "(3, 6)"
      ]
     },
     "execution_count": 150,
     "metadata": {},
     "output_type": "execute_result"
    }
   ],
   "source": [
    "bow.shape"
   ]
  },
  {
   "cell_type": "code",
   "execution_count": 151,
   "id": "c592da84",
   "metadata": {
    "ExecuteTime": {
     "end_time": "2022-10-09T09:55:04.448608Z",
     "start_time": "2022-10-09T09:55:04.443725Z"
    }
   },
   "outputs": [
    {
     "data": {
      "text/plain": [
       "6"
      ]
     },
     "execution_count": 151,
     "metadata": {},
     "output_type": "execute_result"
    }
   ],
   "source": [
    "bow.shape[1]"
   ]
  },
  {
   "cell_type": "code",
   "execution_count": 152,
   "id": "2fa5c68f",
   "metadata": {
    "ExecuteTime": {
     "end_time": "2022-10-09T09:55:04.453241Z",
     "start_time": "2022-10-09T09:55:04.450406Z"
    }
   },
   "outputs": [],
   "source": [
    "tf = bow/bow.shape[1]"
   ]
  },
  {
   "cell_type": "code",
   "execution_count": 153,
   "id": "24a83ec3",
   "metadata": {
    "ExecuteTime": {
     "end_time": "2022-10-09T09:55:04.458588Z",
     "start_time": "2022-10-09T09:55:04.455386Z"
    }
   },
   "outputs": [],
   "source": [
    "tf = bow.copy()"
   ]
  },
  {
   "cell_type": "code",
   "execution_count": 154,
   "id": "36910a43",
   "metadata": {
    "ExecuteTime": {
     "end_time": "2022-10-09T09:55:04.469007Z",
     "start_time": "2022-10-09T09:55:04.460768Z"
    },
    "scrolled": true
   },
   "outputs": [],
   "source": [
    "for index, row in enumerate(tf.iterrows()):\n",
    "    for col in row[1].index:\n",
    "        tf.loc[index,col] = tf.loc[index, col]/sum(row[1].values)"
   ]
  },
  {
   "cell_type": "code",
   "execution_count": 155,
   "id": "2b497c49",
   "metadata": {
    "ExecuteTime": {
     "end_time": "2022-10-09T09:55:04.485009Z",
     "start_time": "2022-10-09T09:55:04.471028Z"
    }
   },
   "outputs": [
    {
     "data": {
      "text/html": [
       "<div>\n",
       "<style scoped>\n",
       "    .dataframe tbody tr th:only-of-type {\n",
       "        vertical-align: middle;\n",
       "    }\n",
       "\n",
       "    .dataframe tbody tr th {\n",
       "        vertical-align: top;\n",
       "    }\n",
       "\n",
       "    .dataframe thead th {\n",
       "        text-align: right;\n",
       "    }\n",
       "</style>\n",
       "<table border=\"1\" class=\"dataframe\">\n",
       "  <thead>\n",
       "    <tr style=\"text-align: right;\">\n",
       "      <th></th>\n",
       "      <th>first</th>\n",
       "      <th>is</th>\n",
       "      <th>second</th>\n",
       "      <th>sentense</th>\n",
       "      <th>third</th>\n",
       "      <th>this</th>\n",
       "    </tr>\n",
       "  </thead>\n",
       "  <tbody>\n",
       "    <tr>\n",
       "      <th>0</th>\n",
       "      <td>0.25</td>\n",
       "      <td>0.250000</td>\n",
       "      <td>0.000000</td>\n",
       "      <td>0.25</td>\n",
       "      <td>0.000000</td>\n",
       "      <td>0.250000</td>\n",
       "    </tr>\n",
       "    <tr>\n",
       "      <th>1</th>\n",
       "      <td>0.00</td>\n",
       "      <td>0.333333</td>\n",
       "      <td>0.333333</td>\n",
       "      <td>0.00</td>\n",
       "      <td>0.000000</td>\n",
       "      <td>0.333333</td>\n",
       "    </tr>\n",
       "    <tr>\n",
       "      <th>2</th>\n",
       "      <td>0.00</td>\n",
       "      <td>0.333333</td>\n",
       "      <td>0.000000</td>\n",
       "      <td>0.00</td>\n",
       "      <td>0.333333</td>\n",
       "      <td>0.333333</td>\n",
       "    </tr>\n",
       "  </tbody>\n",
       "</table>\n",
       "</div>"
      ],
      "text/plain": [
       "   first        is    second  sentense     third      this\n",
       "0   0.25  0.250000  0.000000      0.25  0.000000  0.250000\n",
       "1   0.00  0.333333  0.333333      0.00  0.000000  0.333333\n",
       "2   0.00  0.333333  0.000000      0.00  0.333333  0.333333"
      ]
     },
     "execution_count": 155,
     "metadata": {},
     "output_type": "execute_result"
    }
   ],
   "source": [
    "tf"
   ]
  },
  {
   "cell_type": "code",
   "execution_count": null,
   "id": "5f00d7fa",
   "metadata": {},
   "outputs": [],
   "source": []
  },
  {
   "cell_type": "markdown",
   "id": "10feb16a",
   "metadata": {},
   "source": [
    "##### Inverse Document Frequency IDF\n",
    "    IDF = log((1+N)/(n+1))+1 used in sklearn when smooth_idf = True\n",
    "    where, N is the total number of rows and n is the number of rows in which the word was present."
   ]
  },
  {
   "cell_type": "code",
   "execution_count": 156,
   "id": "035cd406",
   "metadata": {
    "ExecuteTime": {
     "end_time": "2022-10-09T09:55:04.488982Z",
     "start_time": "2022-10-09T09:55:04.486686Z"
    }
   },
   "outputs": [],
   "source": [
    "import numpy as np"
   ]
  },
  {
   "cell_type": "code",
   "execution_count": 157,
   "id": "07a2b0b2",
   "metadata": {
    "ExecuteTime": {
     "end_time": "2022-10-09T09:55:04.495658Z",
     "start_time": "2022-10-09T09:55:04.490760Z"
    }
   },
   "outputs": [],
   "source": [
    "x_df = pd.DataFrame(x, columns=['words'])"
   ]
  },
  {
   "cell_type": "code",
   "execution_count": 158,
   "id": "cf920f3b",
   "metadata": {
    "ExecuteTime": {
     "end_time": "2022-10-09T09:55:04.505317Z",
     "start_time": "2022-10-09T09:55:04.497821Z"
    }
   },
   "outputs": [
    {
     "data": {
      "text/html": [
       "<div>\n",
       "<style scoped>\n",
       "    .dataframe tbody tr th:only-of-type {\n",
       "        vertical-align: middle;\n",
       "    }\n",
       "\n",
       "    .dataframe tbody tr th {\n",
       "        vertical-align: top;\n",
       "    }\n",
       "\n",
       "    .dataframe thead th {\n",
       "        text-align: right;\n",
       "    }\n",
       "</style>\n",
       "<table border=\"1\" class=\"dataframe\">\n",
       "  <thead>\n",
       "    <tr style=\"text-align: right;\">\n",
       "      <th></th>\n",
       "      <th>words</th>\n",
       "    </tr>\n",
       "  </thead>\n",
       "  <tbody>\n",
       "    <tr>\n",
       "      <th>0</th>\n",
       "      <td>this is first sentense</td>\n",
       "    </tr>\n",
       "    <tr>\n",
       "      <th>1</th>\n",
       "      <td>this is second</td>\n",
       "    </tr>\n",
       "    <tr>\n",
       "      <th>2</th>\n",
       "      <td>this is third</td>\n",
       "    </tr>\n",
       "  </tbody>\n",
       "</table>\n",
       "</div>"
      ],
      "text/plain": [
       "                    words\n",
       "0  this is first sentense\n",
       "1          this is second\n",
       "2           this is third"
      ]
     },
     "execution_count": 158,
     "metadata": {},
     "output_type": "execute_result"
    }
   ],
   "source": [
    "x_df"
   ]
  },
  {
   "cell_type": "code",
   "execution_count": 159,
   "id": "4e391220",
   "metadata": {
    "ExecuteTime": {
     "end_time": "2022-10-09T09:55:04.515073Z",
     "start_time": "2022-10-09T09:55:04.507779Z"
    }
   },
   "outputs": [
    {
     "data": {
      "text/html": [
       "<div>\n",
       "<style scoped>\n",
       "    .dataframe tbody tr th:only-of-type {\n",
       "        vertical-align: middle;\n",
       "    }\n",
       "\n",
       "    .dataframe tbody tr th {\n",
       "        vertical-align: top;\n",
       "    }\n",
       "\n",
       "    .dataframe thead th {\n",
       "        text-align: right;\n",
       "    }\n",
       "</style>\n",
       "<table border=\"1\" class=\"dataframe\">\n",
       "  <thead>\n",
       "    <tr style=\"text-align: right;\">\n",
       "      <th></th>\n",
       "      <th>first</th>\n",
       "      <th>is</th>\n",
       "      <th>second</th>\n",
       "      <th>sentense</th>\n",
       "      <th>third</th>\n",
       "      <th>this</th>\n",
       "    </tr>\n",
       "  </thead>\n",
       "  <tbody>\n",
       "    <tr>\n",
       "      <th>0</th>\n",
       "      <td>1</td>\n",
       "      <td>1</td>\n",
       "      <td>0</td>\n",
       "      <td>1</td>\n",
       "      <td>0</td>\n",
       "      <td>1</td>\n",
       "    </tr>\n",
       "    <tr>\n",
       "      <th>1</th>\n",
       "      <td>0</td>\n",
       "      <td>1</td>\n",
       "      <td>1</td>\n",
       "      <td>0</td>\n",
       "      <td>0</td>\n",
       "      <td>1</td>\n",
       "    </tr>\n",
       "    <tr>\n",
       "      <th>2</th>\n",
       "      <td>0</td>\n",
       "      <td>1</td>\n",
       "      <td>0</td>\n",
       "      <td>0</td>\n",
       "      <td>1</td>\n",
       "      <td>1</td>\n",
       "    </tr>\n",
       "  </tbody>\n",
       "</table>\n",
       "</div>"
      ],
      "text/plain": [
       "   first  is  second  sentense  third  this\n",
       "0      1   1       0         1      0     1\n",
       "1      0   1       1         0      0     1\n",
       "2      0   1       0         0      1     1"
      ]
     },
     "execution_count": 159,
     "metadata": {},
     "output_type": "execute_result"
    }
   ],
   "source": [
    "bow"
   ]
  },
  {
   "cell_type": "code",
   "execution_count": 160,
   "id": "c4564987",
   "metadata": {
    "ExecuteTime": {
     "end_time": "2022-10-09T09:55:04.520520Z",
     "start_time": "2022-10-09T09:55:04.516598Z"
    }
   },
   "outputs": [
    {
     "data": {
      "text/plain": [
       "3"
      ]
     },
     "execution_count": 160,
     "metadata": {},
     "output_type": "execute_result"
    }
   ],
   "source": [
    "N = bow.shape[0]\n",
    "N"
   ]
  },
  {
   "cell_type": "code",
   "execution_count": 161,
   "id": "1ae838ea",
   "metadata": {
    "ExecuteTime": {
     "end_time": "2022-10-09T09:55:04.533522Z",
     "start_time": "2022-10-09T09:55:04.522609Z"
    }
   },
   "outputs": [
    {
     "data": {
      "text/html": [
       "<div>\n",
       "<style scoped>\n",
       "    .dataframe tbody tr th:only-of-type {\n",
       "        vertical-align: middle;\n",
       "    }\n",
       "\n",
       "    .dataframe tbody tr th {\n",
       "        vertical-align: top;\n",
       "    }\n",
       "\n",
       "    .dataframe thead th {\n",
       "        text-align: right;\n",
       "    }\n",
       "</style>\n",
       "<table border=\"1\" class=\"dataframe\">\n",
       "  <thead>\n",
       "    <tr style=\"text-align: right;\">\n",
       "      <th></th>\n",
       "      <th>first</th>\n",
       "      <th>is</th>\n",
       "      <th>second</th>\n",
       "      <th>sentense</th>\n",
       "      <th>third</th>\n",
       "      <th>this</th>\n",
       "    </tr>\n",
       "  </thead>\n",
       "  <tbody>\n",
       "    <tr>\n",
       "      <th>0</th>\n",
       "      <td>True</td>\n",
       "      <td>True</td>\n",
       "      <td>False</td>\n",
       "      <td>True</td>\n",
       "      <td>False</td>\n",
       "      <td>True</td>\n",
       "    </tr>\n",
       "    <tr>\n",
       "      <th>1</th>\n",
       "      <td>False</td>\n",
       "      <td>True</td>\n",
       "      <td>True</td>\n",
       "      <td>False</td>\n",
       "      <td>False</td>\n",
       "      <td>True</td>\n",
       "    </tr>\n",
       "    <tr>\n",
       "      <th>2</th>\n",
       "      <td>False</td>\n",
       "      <td>True</td>\n",
       "      <td>False</td>\n",
       "      <td>False</td>\n",
       "      <td>True</td>\n",
       "      <td>True</td>\n",
       "    </tr>\n",
       "  </tbody>\n",
       "</table>\n",
       "</div>"
      ],
      "text/plain": [
       "   first    is  second  sentense  third  this\n",
       "0   True  True   False      True  False  True\n",
       "1  False  True    True     False  False  True\n",
       "2  False  True   False     False   True  True"
      ]
     },
     "execution_count": 161,
     "metadata": {},
     "output_type": "execute_result"
    }
   ],
   "source": [
    "bb = bow.astype('bool')\n",
    "bb"
   ]
  },
  {
   "cell_type": "code",
   "execution_count": 162,
   "id": "40895222",
   "metadata": {
    "ExecuteTime": {
     "end_time": "2022-10-09T09:55:04.541348Z",
     "start_time": "2022-10-09T09:55:04.535287Z"
    }
   },
   "outputs": [
    {
     "data": {
      "text/plain": [
       "1"
      ]
     },
     "execution_count": 162,
     "metadata": {},
     "output_type": "execute_result"
    }
   ],
   "source": [
    "bb['first'].sum()"
   ]
  },
  {
   "cell_type": "code",
   "execution_count": 163,
   "id": "4da84233",
   "metadata": {
    "ExecuteTime": {
     "end_time": "2022-10-09T09:55:04.547159Z",
     "start_time": "2022-10-09T09:55:04.543436Z"
    }
   },
   "outputs": [
    {
     "data": {
      "text/plain": [
       "3"
      ]
     },
     "execution_count": 163,
     "metadata": {},
     "output_type": "execute_result"
    }
   ],
   "source": [
    "bb['is'].sum()"
   ]
  },
  {
   "cell_type": "code",
   "execution_count": 164,
   "id": "68a9e9bf",
   "metadata": {
    "ExecuteTime": {
     "end_time": "2022-10-09T09:55:04.552783Z",
     "start_time": "2022-10-09T09:55:04.548639Z"
    }
   },
   "outputs": [
    {
     "data": {
      "text/plain": [
       "Index(['first', 'is', 'second', 'sentense', 'third', 'this'], dtype='object')"
      ]
     },
     "execution_count": 164,
     "metadata": {},
     "output_type": "execute_result"
    }
   ],
   "source": [
    "cols = bb.columns\n",
    "cols"
   ]
  },
  {
   "cell_type": "code",
   "execution_count": 165,
   "id": "44905bbb",
   "metadata": {
    "ExecuteTime": {
     "end_time": "2022-10-09T09:55:04.559508Z",
     "start_time": "2022-10-09T09:55:04.555128Z"
    }
   },
   "outputs": [],
   "source": [
    "nz = []\n",
    "for col in cols:\n",
    "    nz.append(bb[col].sum())"
   ]
  },
  {
   "cell_type": "code",
   "execution_count": 166,
   "id": "f9eecda4",
   "metadata": {
    "ExecuteTime": {
     "end_time": "2022-10-09T09:55:04.564733Z",
     "start_time": "2022-10-09T09:55:04.561160Z"
    }
   },
   "outputs": [
    {
     "data": {
      "text/plain": [
       "[1, 3, 1, 1, 1, 3]"
      ]
     },
     "execution_count": 166,
     "metadata": {},
     "output_type": "execute_result"
    }
   ],
   "source": [
    "nz"
   ]
  },
  {
   "cell_type": "code",
   "execution_count": null,
   "id": "7c86c57d",
   "metadata": {},
   "outputs": [],
   "source": []
  },
  {
   "cell_type": "code",
   "execution_count": 167,
   "id": "821a6172",
   "metadata": {
    "ExecuteTime": {
     "end_time": "2022-10-09T09:55:04.569721Z",
     "start_time": "2022-10-09T09:55:04.566154Z"
    }
   },
   "outputs": [],
   "source": [
    "idf = []\n",
    "for index, col in enumerate(cols):\n",
    "    idf.append(np.log((N+1)/(nz[index]+1))+1)"
   ]
  },
  {
   "cell_type": "code",
   "execution_count": 168,
   "id": "53433582",
   "metadata": {
    "ExecuteTime": {
     "end_time": "2022-10-09T09:55:04.575108Z",
     "start_time": "2022-10-09T09:55:04.571679Z"
    }
   },
   "outputs": [
    {
     "data": {
      "text/plain": [
       "[1.6931471805599454,\n",
       " 1.0,\n",
       " 1.6931471805599454,\n",
       " 1.6931471805599454,\n",
       " 1.6931471805599454,\n",
       " 1.0]"
      ]
     },
     "execution_count": 168,
     "metadata": {},
     "output_type": "execute_result"
    }
   ],
   "source": [
    "idf"
   ]
  },
  {
   "cell_type": "code",
   "execution_count": 169,
   "id": "1f237ef2",
   "metadata": {
    "ExecuteTime": {
     "end_time": "2022-10-09T09:55:04.584617Z",
     "start_time": "2022-10-09T09:55:04.576607Z"
    }
   },
   "outputs": [
    {
     "data": {
      "text/html": [
       "<div>\n",
       "<style scoped>\n",
       "    .dataframe tbody tr th:only-of-type {\n",
       "        vertical-align: middle;\n",
       "    }\n",
       "\n",
       "    .dataframe tbody tr th {\n",
       "        vertical-align: top;\n",
       "    }\n",
       "\n",
       "    .dataframe thead th {\n",
       "        text-align: right;\n",
       "    }\n",
       "</style>\n",
       "<table border=\"1\" class=\"dataframe\">\n",
       "  <thead>\n",
       "    <tr style=\"text-align: right;\">\n",
       "      <th></th>\n",
       "      <th>first</th>\n",
       "      <th>is</th>\n",
       "      <th>second</th>\n",
       "      <th>sentense</th>\n",
       "      <th>third</th>\n",
       "      <th>this</th>\n",
       "    </tr>\n",
       "  </thead>\n",
       "  <tbody>\n",
       "    <tr>\n",
       "      <th>0</th>\n",
       "      <td>1</td>\n",
       "      <td>1</td>\n",
       "      <td>0</td>\n",
       "      <td>1</td>\n",
       "      <td>0</td>\n",
       "      <td>1</td>\n",
       "    </tr>\n",
       "    <tr>\n",
       "      <th>1</th>\n",
       "      <td>0</td>\n",
       "      <td>1</td>\n",
       "      <td>1</td>\n",
       "      <td>0</td>\n",
       "      <td>0</td>\n",
       "      <td>1</td>\n",
       "    </tr>\n",
       "    <tr>\n",
       "      <th>2</th>\n",
       "      <td>0</td>\n",
       "      <td>1</td>\n",
       "      <td>0</td>\n",
       "      <td>0</td>\n",
       "      <td>1</td>\n",
       "      <td>1</td>\n",
       "    </tr>\n",
       "  </tbody>\n",
       "</table>\n",
       "</div>"
      ],
      "text/plain": [
       "   first  is  second  sentense  third  this\n",
       "0      1   1       0         1      0     1\n",
       "1      0   1       1         0      0     1\n",
       "2      0   1       0         0      1     1"
      ]
     },
     "execution_count": 169,
     "metadata": {},
     "output_type": "execute_result"
    }
   ],
   "source": [
    "bow"
   ]
  },
  {
   "cell_type": "code",
   "execution_count": null,
   "id": "66c57605",
   "metadata": {},
   "outputs": [],
   "source": []
  },
  {
   "cell_type": "code",
   "execution_count": 170,
   "id": "2fcf4c68",
   "metadata": {
    "ExecuteTime": {
     "end_time": "2022-10-09T09:55:04.589919Z",
     "start_time": "2022-10-09T09:55:04.587117Z"
    }
   },
   "outputs": [],
   "source": [
    "# TF-IDF\n"
   ]
  },
  {
   "cell_type": "code",
   "execution_count": 171,
   "id": "75b536b9",
   "metadata": {
    "ExecuteTime": {
     "end_time": "2022-10-09T09:55:04.594420Z",
     "start_time": "2022-10-09T09:55:04.591834Z"
    }
   },
   "outputs": [],
   "source": [
    "from sklearn.feature_extraction.text import TfidfVectorizer"
   ]
  },
  {
   "cell_type": "code",
   "execution_count": 172,
   "id": "3962972c",
   "metadata": {
    "ExecuteTime": {
     "end_time": "2022-10-09T09:55:04.600936Z",
     "start_time": "2022-10-09T09:55:04.595957Z"
    }
   },
   "outputs": [],
   "source": [
    "tfidf = TfidfVectorizer()\n",
    "x_tfidf = tfidf.fit_transform(x_df['words'])"
   ]
  },
  {
   "cell_type": "code",
   "execution_count": 173,
   "id": "c12f75ea",
   "metadata": {
    "ExecuteTime": {
     "end_time": "2022-10-09T09:55:04.606954Z",
     "start_time": "2022-10-09T09:55:04.602537Z"
    }
   },
   "outputs": [
    {
     "data": {
      "text/plain": [
       "<3x6 sparse matrix of type '<class 'numpy.float64'>'\n",
       "\twith 10 stored elements in Compressed Sparse Row format>"
      ]
     },
     "execution_count": 173,
     "metadata": {},
     "output_type": "execute_result"
    }
   ],
   "source": [
    "x_tfidf"
   ]
  },
  {
   "cell_type": "code",
   "execution_count": 174,
   "id": "4e5bcd16",
   "metadata": {
    "ExecuteTime": {
     "end_time": "2022-10-09T09:55:04.613247Z",
     "start_time": "2022-10-09T09:55:04.609155Z"
    }
   },
   "outputs": [
    {
     "data": {
      "text/plain": [
       "array([[0.6088451 , 0.35959372, 0.        , 0.6088451 , 0.        ,\n",
       "        0.35959372],\n",
       "       [0.        , 0.45329466, 0.76749457, 0.        , 0.        ,\n",
       "        0.45329466],\n",
       "       [0.        , 0.45329466, 0.        , 0.        , 0.76749457,\n",
       "        0.45329466]])"
      ]
     },
     "execution_count": 174,
     "metadata": {},
     "output_type": "execute_result"
    }
   ],
   "source": [
    "x_tfidf.toarray()"
   ]
  },
  {
   "cell_type": "code",
   "execution_count": 175,
   "id": "18b8d2ab",
   "metadata": {
    "ExecuteTime": {
     "end_time": "2022-10-09T09:55:04.620062Z",
     "start_time": "2022-10-09T09:55:04.615461Z"
    }
   },
   "outputs": [
    {
     "data": {
      "text/plain": [
       "array([1.69314718, 1.        , 1.69314718, 1.69314718, 1.69314718,\n",
       "       1.        ])"
      ]
     },
     "execution_count": 175,
     "metadata": {},
     "output_type": "execute_result"
    }
   ],
   "source": [
    "# using sklearn\n",
    "tfidf.idf_"
   ]
  },
  {
   "cell_type": "code",
   "execution_count": 176,
   "id": "68661bc2",
   "metadata": {
    "ExecuteTime": {
     "end_time": "2022-10-09T09:55:04.625015Z",
     "start_time": "2022-10-09T09:55:04.621705Z"
    }
   },
   "outputs": [
    {
     "data": {
      "text/plain": [
       "[1.6931471805599454,\n",
       " 1.0,\n",
       " 1.6931471805599454,\n",
       " 1.6931471805599454,\n",
       " 1.6931471805599454,\n",
       " 1.0]"
      ]
     },
     "execution_count": 176,
     "metadata": {},
     "output_type": "execute_result"
    }
   ],
   "source": [
    "# using manual code\n",
    "idf"
   ]
  },
  {
   "cell_type": "code",
   "execution_count": null,
   "id": "f3f629bc",
   "metadata": {},
   "outputs": [],
   "source": []
  },
  {
   "cell_type": "code",
   "execution_count": null,
   "id": "c453995c",
   "metadata": {},
   "outputs": [],
   "source": []
  },
  {
   "cell_type": "markdown",
   "id": "79314f81",
   "metadata": {},
   "source": [
    "##### Word Embedding Word2Vec using Spacy\n",
    "    Spacy word2Vec"
   ]
  },
  {
   "cell_type": "code",
   "execution_count": 177,
   "id": "fffb5290",
   "metadata": {
    "ExecuteTime": {
     "end_time": "2022-10-09T09:55:04.631124Z",
     "start_time": "2022-10-09T09:55:04.628055Z"
    }
   },
   "outputs": [],
   "source": [
    "# !python3 -m spacy download en_core_web_lg"
   ]
  },
  {
   "cell_type": "code",
   "execution_count": 178,
   "id": "db3dcd3a",
   "metadata": {
    "ExecuteTime": {
     "end_time": "2022-10-09T09:55:06.969336Z",
     "start_time": "2022-10-09T09:55:04.633544Z"
    }
   },
   "outputs": [],
   "source": [
    "nlp = spacy.load('en_core_web_lg')\n"
   ]
  },
  {
   "cell_type": "code",
   "execution_count": 179,
   "id": "4100fbb9",
   "metadata": {
    "ExecuteTime": {
     "end_time": "2022-10-09T09:55:06.979560Z",
     "start_time": "2022-10-09T09:55:06.970548Z"
    }
   },
   "outputs": [],
   "source": [
    "doc = nlp('thank you! dog cat lion asdfsdf')"
   ]
  },
  {
   "cell_type": "code",
   "execution_count": 180,
   "id": "2ff056d9",
   "metadata": {
    "ExecuteTime": {
     "end_time": "2022-10-09T09:55:06.985184Z",
     "start_time": "2022-10-09T09:55:06.980807Z"
    }
   },
   "outputs": [
    {
     "name": "stdout",
     "output_type": "stream",
     "text": [
      "thank True\n",
      "you True\n",
      "! True\n",
      "dog True\n",
      "cat True\n",
      "lion True\n",
      "asdfsdf False\n"
     ]
    }
   ],
   "source": [
    "for token in doc:\n",
    "    print(token.text, token.has_vector)"
   ]
  },
  {
   "cell_type": "code",
   "execution_count": 181,
   "id": "ef398b9c",
   "metadata": {
    "ExecuteTime": {
     "end_time": "2022-10-09T09:55:06.995153Z",
     "start_time": "2022-10-09T09:55:06.986810Z"
    }
   },
   "outputs": [
    {
     "data": {
      "text/plain": [
       "array([0., 0., 0., 0., 0., 0., 0., 0., 0., 0., 0., 0., 0., 0., 0., 0., 0.,\n",
       "       0., 0., 0., 0., 0., 0., 0., 0., 0., 0., 0., 0., 0., 0., 0., 0., 0.,\n",
       "       0., 0., 0., 0., 0., 0., 0., 0., 0., 0., 0., 0., 0., 0., 0., 0., 0.,\n",
       "       0., 0., 0., 0., 0., 0., 0., 0., 0., 0., 0., 0., 0., 0., 0., 0., 0.,\n",
       "       0., 0., 0., 0., 0., 0., 0., 0., 0., 0., 0., 0., 0., 0., 0., 0., 0.,\n",
       "       0., 0., 0., 0., 0., 0., 0., 0., 0., 0., 0., 0., 0., 0., 0., 0., 0.,\n",
       "       0., 0., 0., 0., 0., 0., 0., 0., 0., 0., 0., 0., 0., 0., 0., 0., 0.,\n",
       "       0., 0., 0., 0., 0., 0., 0., 0., 0., 0., 0., 0., 0., 0., 0., 0., 0.,\n",
       "       0., 0., 0., 0., 0., 0., 0., 0., 0., 0., 0., 0., 0., 0., 0., 0., 0.,\n",
       "       0., 0., 0., 0., 0., 0., 0., 0., 0., 0., 0., 0., 0., 0., 0., 0., 0.,\n",
       "       0., 0., 0., 0., 0., 0., 0., 0., 0., 0., 0., 0., 0., 0., 0., 0., 0.,\n",
       "       0., 0., 0., 0., 0., 0., 0., 0., 0., 0., 0., 0., 0., 0., 0., 0., 0.,\n",
       "       0., 0., 0., 0., 0., 0., 0., 0., 0., 0., 0., 0., 0., 0., 0., 0., 0.,\n",
       "       0., 0., 0., 0., 0., 0., 0., 0., 0., 0., 0., 0., 0., 0., 0., 0., 0.,\n",
       "       0., 0., 0., 0., 0., 0., 0., 0., 0., 0., 0., 0., 0., 0., 0., 0., 0.,\n",
       "       0., 0., 0., 0., 0., 0., 0., 0., 0., 0., 0., 0., 0., 0., 0., 0., 0.,\n",
       "       0., 0., 0., 0., 0., 0., 0., 0., 0., 0., 0., 0., 0., 0., 0., 0., 0.,\n",
       "       0., 0., 0., 0., 0., 0., 0., 0., 0., 0., 0.], dtype=float32)"
      ]
     },
     "execution_count": 181,
     "metadata": {},
     "output_type": "execute_result"
    }
   ],
   "source": [
    "token.vector"
   ]
  },
  {
   "cell_type": "code",
   "execution_count": 182,
   "id": "4062a988",
   "metadata": {
    "ExecuteTime": {
     "end_time": "2022-10-09T09:55:07.001940Z",
     "start_time": "2022-10-09T09:55:06.997629Z"
    }
   },
   "outputs": [
    {
     "data": {
      "text/plain": [
       "(300,)"
      ]
     },
     "execution_count": 182,
     "metadata": {},
     "output_type": "execute_result"
    }
   ],
   "source": [
    "token.vector.shape"
   ]
  },
  {
   "cell_type": "code",
   "execution_count": 183,
   "id": "208c056f",
   "metadata": {
    "ExecuteTime": {
     "end_time": "2022-10-09T09:55:07.020103Z",
     "start_time": "2022-10-09T09:55:07.004158Z"
    }
   },
   "outputs": [
    {
     "data": {
      "text/plain": [
       "array([ 3.7032e+00,  4.1982e+00, -5.0002e+00, -1.1322e+01,  3.1702e-02,\n",
       "       -1.0255e+00, -3.0870e+00, -3.7327e+00,  5.3875e-01,  3.5679e+00,\n",
       "        6.9276e+00,  1.5793e+00,  5.1188e-01,  3.1868e+00,  6.1534e+00,\n",
       "       -4.8941e+00, -2.9959e-01, -3.6276e+00,  2.3825e+00, -1.4402e+00,\n",
       "       -4.7577e+00,  4.3607e+00, -4.9814e+00, -3.6672e+00, -1.8052e+00,\n",
       "       -2.1888e+00, -4.2875e+00,  5.5712e+00, -5.2875e+00, -1.8346e+00,\n",
       "       -2.2015e+00, -7.7091e-01, -4.8260e+00,  1.2464e+00, -1.7945e+00,\n",
       "       -8.1280e+00,  1.9994e+00,  1.1413e+00,  3.8032e+00, -2.8783e+00,\n",
       "       -4.2136e-01, -4.4177e+00,  7.7456e+00,  4.9535e+00,  1.7402e+00,\n",
       "        1.8275e-01,  2.4218e+00, -3.1496e+00, -3.8057e-02, -2.9818e+00,\n",
       "        8.3396e-01,  1.1531e+01,  3.5684e+00,  2.5970e+00, -2.8438e+00,\n",
       "        3.2755e+00,  4.5674e+00,  3.2219e+00,  3.4206e+00,  1.1200e-01,\n",
       "        1.0303e-01, -5.8396e+00,  4.6370e-01,  2.7750e+00, -5.3713e+00,\n",
       "       -5.0247e+00, -2.0212e+00,  5.8772e-01,  1.1569e+00,  1.3224e+00,\n",
       "        4.3994e+00,  2.0444e+00,  2.1343e+00, -1.9023e+00,  2.1469e+00,\n",
       "       -2.9085e+00,  4.8429e-01, -3.3544e-01,  1.4484e+00, -1.5770e+00,\n",
       "       -1.1307e+00,  2.8320e+00,  6.2041e-01,  3.7994e+00, -3.1162e-01,\n",
       "       -6.9221e+00,  7.1342e+00,  7.2441e+00, -8.9326e+00, -2.7927e+00,\n",
       "        2.6613e-01,  6.7547e-01,  6.7293e+00, -5.8127e+00,  3.1567e+00,\n",
       "       -1.0634e+00, -1.5733e+00,  1.3534e+00,  3.9218e-01, -8.7077e+00,\n",
       "        3.4229e-02,  3.3251e+00,  4.6713e+00,  1.1865e-02,  9.8345e-01,\n",
       "       -5.3206e-02, -9.1613e+00,  6.0161e+00, -2.2223e+00,  2.5015e+00,\n",
       "       -6.0702e-01, -3.6344e-02,  7.1884e+00, -1.4431e+00,  2.6156e+00,\n",
       "       -1.0148e+00,  4.1225e+00, -1.8472e+00,  4.6292e+00, -2.6506e+00,\n",
       "       -1.8937e+00,  4.1749e+00, -9.6644e+00, -2.4813e+00, -2.7637e+00,\n",
       "       -1.0624e+00,  3.5988e+00,  4.9833e+00,  6.4499e-01,  2.5784e-01,\n",
       "        9.8727e-01, -4.2485e+00,  3.4272e-01, -2.2270e+00, -1.8957e+00,\n",
       "        8.0796e-01, -2.0265e+00, -6.1828e+00, -2.2378e+00,  2.8216e+00,\n",
       "       -2.0050e+00, -3.8924e+00, -2.9364e-01, -1.6128e+00, -6.7874e-01,\n",
       "       -1.9855e+00,  1.8221e-01,  2.1575e+00,  4.9825e-01, -1.7326e+00,\n",
       "        4.7886e+00,  2.9904e+00,  8.3447e-01, -4.7417e+00,  2.4697e+00,\n",
       "        1.3751e+00,  4.5358e+00,  6.5386e-01,  5.5413e+00,  2.3963e+00,\n",
       "        1.0031e+00, -8.0664e-01, -1.4126e+00,  2.8689e+00, -8.7339e+00,\n",
       "       -2.7457e+00, -3.1805e-01, -2.4484e-01,  3.7117e+00, -1.8636e+00,\n",
       "        2.9959e-01,  6.5062e-02, -1.5682e+00,  1.5876e+00,  6.9224e-01,\n",
       "       -6.7734e+00,  3.1065e+00,  2.3973e+00, -3.5138e+00,  3.4460e+00,\n",
       "        3.4252e+00, -5.1906e+00, -6.9372e-01,  1.9435e+00, -1.5669e-01,\n",
       "        1.9710e+00,  8.7743e-01, -8.3110e+00, -4.0306e-01, -5.0165e+00,\n",
       "       -5.6309e-02,  4.9249e+00, -7.1053e+00, -5.2338e+00,  2.3535e+00,\n",
       "       -2.5255e+00, -2.7785e+00,  5.0149e+00, -2.8405e+00, -1.8614e+00,\n",
       "        2.8818e-03,  1.3281e+00,  1.0194e+00,  3.5155e+00,  2.7971e-01,\n",
       "        1.3251e+00,  1.4386e+00, -6.1719e-01, -2.6864e+00, -3.9613e+00,\n",
       "        4.5749e+00, -1.0939e+00,  1.3289e+00, -9.5484e-01, -5.4675e+00,\n",
       "        2.1607e+00,  5.0715e-01,  1.4860e-01, -4.8571e+00, -2.2213e+00,\n",
       "       -2.3498e-01, -4.2629e+00, -8.7002e-01,  3.3796e+00, -4.3989e+00,\n",
       "        6.1047e+00,  3.7927e+00, -6.0760e+00,  3.1840e+00, -8.3104e-01,\n",
       "       -5.4015e+00, -6.2916e+00,  1.2497e+00,  1.8026e+00, -3.4535e+00,\n",
       "       -2.1652e-01, -1.4958e+00,  5.7946e-01,  2.2505e+00,  2.0868e+00,\n",
       "        3.9621e-01,  1.6076e+00,  4.0635e+00, -3.4088e+00, -1.0590e+00,\n",
       "       -3.6376e+00,  2.0501e+00,  1.4785e+00, -1.8906e+00, -2.6215e-01,\n",
       "       -5.1386e+00,  3.7029e+00, -1.8151e+00, -3.2759e+00, -5.1866e+00,\n",
       "        2.5485e-01, -4.5696e+00,  1.0147e+01, -3.0195e+00, -2.4640e+00,\n",
       "        7.5459e-01, -5.6395e+00, -5.4095e+00, -2.4363e+00, -4.3922e-01,\n",
       "       -4.0911e+00, -3.5194e+00,  1.8031e+00, -1.3644e-01,  6.7990e+00,\n",
       "        5.8461e+00,  5.3452e-01,  1.1042e+00,  3.5698e+00,  4.4668e+00,\n",
       "       -2.4537e+00, -2.1832e+00,  1.5293e+00, -1.9414e+00, -8.8675e-02,\n",
       "       -1.1825e+00, -3.9996e+00,  2.8077e+00, -1.8000e+00,  4.2545e+00,\n",
       "       -1.3813e+00, -2.2921e+00,  3.7889e+00, -1.5837e+00, -7.2078e-01,\n",
       "        4.7743e+00, -3.0923e+00,  8.4709e+00,  3.0132e-01, -5.6173e+00,\n",
       "       -5.4610e-01, -4.8459e+00,  6.0303e+00, -6.9664e+00,  3.1445e+00],\n",
       "      dtype=float32)"
      ]
     },
     "execution_count": 183,
     "metadata": {},
     "output_type": "execute_result"
    }
   ],
   "source": [
    "nlp('cat').vector"
   ]
  },
  {
   "cell_type": "code",
   "execution_count": 184,
   "id": "04864751",
   "metadata": {
    "ExecuteTime": {
     "end_time": "2022-10-09T09:55:07.031246Z",
     "start_time": "2022-10-09T09:55:07.021632Z"
    }
   },
   "outputs": [
    {
     "data": {
      "text/plain": [
       "(300,)"
      ]
     },
     "execution_count": 184,
     "metadata": {},
     "output_type": "execute_result"
    }
   ],
   "source": [
    "nlp('cat').vector.shape"
   ]
  },
  {
   "cell_type": "code",
   "execution_count": 185,
   "id": "262e2fe0",
   "metadata": {
    "ExecuteTime": {
     "end_time": "2022-10-09T09:55:07.048622Z",
     "start_time": "2022-10-09T09:55:07.032746Z"
    }
   },
   "outputs": [
    {
     "name": "stdout",
     "output_type": "stream",
     "text": [
      "thank thank 1.0\n",
      "thank you 0.26585453748703003\n",
      "thank ! 0.29259735345840454\n",
      "thank dog 0.061790868639945984\n",
      "thank cat 0.04215025529265404\n",
      "thank lion -0.13132092356681824\n",
      "thank asdfsdf 0.0\n",
      "\n",
      "you thank 0.26585453748703003\n",
      "you you 1.0\n",
      "you ! 0.3429550528526306\n",
      "you dog 0.34409627318382263\n",
      "you cat 0.27984926104545593\n",
      "you lion 0.05796932056546211\n",
      "you asdfsdf 0.0\n",
      "\n",
      "! thank 0.29259735345840454\n",
      "! you 0.3429550528526306\n",
      "! ! 1.0\n",
      "! dog 0.2505742013454437\n",
      "! cat 0.20256751775741577\n",
      "! lion -0.032366640865802765\n",
      "! asdfsdf 0.0\n",
      "\n",
      "dog thank 0.061790868639945984\n",
      "dog you 0.34409627318382263\n",
      "dog ! 0.2505742013454437\n",
      "dog dog 1.0\n",
      "dog cat 0.8220816850662231\n",
      "dog lion 0.29493075609207153\n",
      "dog asdfsdf 0.0\n",
      "\n",
      "cat thank 0.04215025529265404\n",
      "cat you 0.27984926104545593\n",
      "cat ! 0.20256751775741577\n",
      "cat dog 0.8220816850662231\n",
      "cat cat 1.0\n",
      "cat lion 0.3854507803916931\n",
      "cat asdfsdf 0.0\n",
      "\n",
      "lion thank -0.13132092356681824\n",
      "lion you 0.05796932056546211\n",
      "lion ! -0.032366640865802765\n",
      "lion dog 0.29493075609207153\n",
      "lion cat 0.3854507803916931\n",
      "lion lion 1.0\n",
      "lion asdfsdf 0.0\n",
      "\n",
      "asdfsdf thank 0.0\n",
      "asdfsdf you 0.0\n",
      "asdfsdf ! 0.0\n",
      "asdfsdf dog 0.0\n",
      "asdfsdf cat 0.0\n",
      "asdfsdf lion 0.0\n",
      "asdfsdf asdfsdf 1.0\n",
      "\n"
     ]
    },
    {
     "name": "stderr",
     "output_type": "stream",
     "text": [
      "/tmp/ipykernel_742464/2807945866.py:3: UserWarning: [W008] Evaluating Token.similarity based on empty vectors.\n",
      "  print(token1.text, token2.text, token1.similarity(token2))\n"
     ]
    }
   ],
   "source": [
    "for token1 in doc:\n",
    "    for token2 in doc:\n",
    "        print(token1.text, token2.text, token1.similarity(token2))\n",
    "    print()"
   ]
  },
  {
   "cell_type": "code",
   "execution_count": null,
   "id": "9fe28b93",
   "metadata": {},
   "outputs": [],
   "source": []
  },
  {
   "cell_type": "markdown",
   "id": "ca33061a",
   "metadata": {},
   "source": [
    "# Machine Learning Models for Text Classification"
   ]
  },
  {
   "cell_type": "code",
   "execution_count": null,
   "id": "8bf0f969",
   "metadata": {},
   "outputs": [],
   "source": []
  },
  {
   "cell_type": "markdown",
   "id": "8fb75ba0",
   "metadata": {},
   "source": []
  },
  {
   "cell_type": "code",
   "execution_count": 186,
   "id": "230ec393",
   "metadata": {
    "ExecuteTime": {
     "end_time": "2022-10-09T09:55:07.061970Z",
     "start_time": "2022-10-09T09:55:07.055637Z"
    }
   },
   "outputs": [
    {
     "data": {
      "text/plain": [
       "(1600000, 13)"
      ]
     },
     "execution_count": 186,
     "metadata": {},
     "output_type": "execute_result"
    }
   ],
   "source": [
    "df.shape"
   ]
  },
  {
   "cell_type": "code",
   "execution_count": 187,
   "id": "9d0cd27d",
   "metadata": {
    "ExecuteTime": {
     "end_time": "2022-10-09T09:55:07.077032Z",
     "start_time": "2022-10-09T09:55:07.064173Z"
    }
   },
   "outputs": [
    {
     "data": {
      "text/html": [
       "<div>\n",
       "<style scoped>\n",
       "    .dataframe tbody tr th:only-of-type {\n",
       "        vertical-align: middle;\n",
       "    }\n",
       "\n",
       "    .dataframe tbody tr th {\n",
       "        vertical-align: top;\n",
       "    }\n",
       "\n",
       "    .dataframe thead th {\n",
       "        text-align: right;\n",
       "    }\n",
       "</style>\n",
       "<table border=\"1\" class=\"dataframe\">\n",
       "  <thead>\n",
       "    <tr style=\"text-align: right;\">\n",
       "      <th></th>\n",
       "      <th>tweets</th>\n",
       "      <th>sentiment</th>\n",
       "      <th>word_counts</th>\n",
       "      <th>char_counts</th>\n",
       "      <th>avg_word_len</th>\n",
       "      <th>stop_word_len</th>\n",
       "      <th>#_counts</th>\n",
       "      <th>@_counts</th>\n",
       "      <th>numeric_counts</th>\n",
       "      <th>upper_counts</th>\n",
       "      <th>email</th>\n",
       "      <th>email_counts</th>\n",
       "      <th>url_flag</th>\n",
       "    </tr>\n",
       "  </thead>\n",
       "  <tbody>\n",
       "    <tr>\n",
       "      <th>0</th>\n",
       "      <td>switchfoot awww thats bummer shoulda david carr d</td>\n",
       "      <td>0</td>\n",
       "      <td>19</td>\n",
       "      <td>115</td>\n",
       "      <td>5.052632</td>\n",
       "      <td>4</td>\n",
       "      <td>0</td>\n",
       "      <td>1</td>\n",
       "      <td>0</td>\n",
       "      <td>1</td>\n",
       "      <td>[]</td>\n",
       "      <td>0</td>\n",
       "      <td>1</td>\n",
       "    </tr>\n",
       "    <tr>\n",
       "      <th>1</th>\n",
       "      <td>upset update facebook texting cry result school blah</td>\n",
       "      <td>0</td>\n",
       "      <td>21</td>\n",
       "      <td>111</td>\n",
       "      <td>4.285714</td>\n",
       "      <td>9</td>\n",
       "      <td>0</td>\n",
       "      <td>0</td>\n",
       "      <td>0</td>\n",
       "      <td>0</td>\n",
       "      <td>[]</td>\n",
       "      <td>0</td>\n",
       "      <td>0</td>\n",
       "    </tr>\n",
       "    <tr>\n",
       "      <th>2</th>\n",
       "      <td>kenichan times ball managed save 50 rest bounds</td>\n",
       "      <td>0</td>\n",
       "      <td>18</td>\n",
       "      <td>89</td>\n",
       "      <td>3.944444</td>\n",
       "      <td>7</td>\n",
       "      <td>0</td>\n",
       "      <td>1</td>\n",
       "      <td>0</td>\n",
       "      <td>1</td>\n",
       "      <td>[]</td>\n",
       "      <td>0</td>\n",
       "      <td>0</td>\n",
       "    </tr>\n",
       "    <tr>\n",
       "      <th>3</th>\n",
       "      <td>body feels itchy fire</td>\n",
       "      <td>0</td>\n",
       "      <td>10</td>\n",
       "      <td>47</td>\n",
       "      <td>3.700000</td>\n",
       "      <td>5</td>\n",
       "      <td>0</td>\n",
       "      <td>0</td>\n",
       "      <td>0</td>\n",
       "      <td>0</td>\n",
       "      <td>[]</td>\n",
       "      <td>0</td>\n",
       "      <td>0</td>\n",
       "    </tr>\n",
       "    <tr>\n",
       "      <th>4</th>\n",
       "      <td>nationwideclass behaving mad</td>\n",
       "      <td>0</td>\n",
       "      <td>21</td>\n",
       "      <td>111</td>\n",
       "      <td>4.285714</td>\n",
       "      <td>10</td>\n",
       "      <td>0</td>\n",
       "      <td>1</td>\n",
       "      <td>0</td>\n",
       "      <td>1</td>\n",
       "      <td>[]</td>\n",
       "      <td>0</td>\n",
       "      <td>0</td>\n",
       "    </tr>\n",
       "  </tbody>\n",
       "</table>\n",
       "</div>"
      ],
      "text/plain": [
       "                                                 tweets  sentiment  \\\n",
       "0     switchfoot awww thats bummer shoulda david carr d          0   \n",
       "1  upset update facebook texting cry result school blah          0   \n",
       "2       kenichan times ball managed save 50 rest bounds          0   \n",
       "3                                 body feels itchy fire          0   \n",
       "4                          nationwideclass behaving mad          0   \n",
       "\n",
       "   word_counts  char_counts  avg_word_len  stop_word_len  #_counts  @_counts  \\\n",
       "0           19          115      5.052632              4         0         1   \n",
       "1           21          111      4.285714              9         0         0   \n",
       "2           18           89      3.944444              7         0         1   \n",
       "3           10           47      3.700000              5         0         0   \n",
       "4           21          111      4.285714             10         0         1   \n",
       "\n",
       "   numeric_counts  upper_counts email  email_counts  url_flag  \n",
       "0               0             1    []             0         1  \n",
       "1               0             0    []             0         0  \n",
       "2               0             1    []             0         0  \n",
       "3               0             0    []             0         0  \n",
       "4               0             1    []             0         0  "
      ]
     },
     "execution_count": 187,
     "metadata": {},
     "output_type": "execute_result"
    }
   ],
   "source": [
    "df.head()"
   ]
  },
  {
   "cell_type": "code",
   "execution_count": 188,
   "id": "1c3fabcf",
   "metadata": {
    "ExecuteTime": {
     "end_time": "2022-10-09T09:55:07.530712Z",
     "start_time": "2022-10-09T09:55:07.080151Z"
    }
   },
   "outputs": [],
   "source": [
    "# taking 2000 sample of 0 sentimant fro simplicity\n",
    "df_0 = df[df['sentiment'] == 0].sample(2000)\n",
    "df_4 = df[df['sentiment'] == 4].sample(2000)"
   ]
  },
  {
   "cell_type": "code",
   "execution_count": 192,
   "id": "cba165dc",
   "metadata": {
    "ExecuteTime": {
     "end_time": "2022-10-09T09:56:01.448182Z",
     "start_time": "2022-10-09T09:56:01.216825Z"
    }
   },
   "outputs": [
    {
     "name": "stderr",
     "output_type": "stream",
     "text": [
      "/tmp/ipykernel_742464/2558827070.py:1: FutureWarning: The frame.append method is deprecated and will be removed from pandas in a future version. Use pandas.concat instead.\n",
      "  dfr = df_0.append(df_4)\n"
     ]
    }
   ],
   "source": [
    "dfr = df_0.append(df_4)"
   ]
  },
  {
   "cell_type": "code",
   "execution_count": 193,
   "id": "ae0d70b3",
   "metadata": {
    "ExecuteTime": {
     "end_time": "2022-10-09T09:56:09.199244Z",
     "start_time": "2022-10-09T09:56:09.196104Z"
    }
   },
   "outputs": [
    {
     "data": {
      "text/plain": [
       "(4000, 13)"
      ]
     },
     "execution_count": 193,
     "metadata": {},
     "output_type": "execute_result"
    }
   ],
   "source": [
    "dfr.shape"
   ]
  },
  {
   "cell_type": "markdown",
   "id": "b12fcbdd",
   "metadata": {},
   "source": [
    "### Feature extraction\n",
    "    "
   ]
  },
  {
   "cell_type": "code",
   "execution_count": 194,
   "id": "dd824446",
   "metadata": {
    "ExecuteTime": {
     "end_time": "2022-10-09T09:57:31.104792Z",
     "start_time": "2022-10-09T09:57:31.088728Z"
    },
    "scrolled": true
   },
   "outputs": [
    {
     "data": {
      "text/html": [
       "<div>\n",
       "<style scoped>\n",
       "    .dataframe tbody tr th:only-of-type {\n",
       "        vertical-align: middle;\n",
       "    }\n",
       "\n",
       "    .dataframe tbody tr th {\n",
       "        vertical-align: top;\n",
       "    }\n",
       "\n",
       "    .dataframe thead th {\n",
       "        text-align: right;\n",
       "    }\n",
       "</style>\n",
       "<table border=\"1\" class=\"dataframe\">\n",
       "  <thead>\n",
       "    <tr style=\"text-align: right;\">\n",
       "      <th></th>\n",
       "      <th>tweets</th>\n",
       "      <th>sentiment</th>\n",
       "      <th>word_counts</th>\n",
       "      <th>char_counts</th>\n",
       "      <th>avg_word_len</th>\n",
       "      <th>stop_word_len</th>\n",
       "      <th>#_counts</th>\n",
       "      <th>@_counts</th>\n",
       "      <th>numeric_counts</th>\n",
       "      <th>upper_counts</th>\n",
       "      <th>email</th>\n",
       "      <th>email_counts</th>\n",
       "      <th>url_flag</th>\n",
       "    </tr>\n",
       "  </thead>\n",
       "  <tbody>\n",
       "    <tr>\n",
       "      <th>205169</th>\n",
       "      <td>js</td>\n",
       "      <td>0</td>\n",
       "      <td>8</td>\n",
       "      <td>89</td>\n",
       "      <td>10.125000</td>\n",
       "      <td>0</td>\n",
       "      <td>0</td>\n",
       "      <td>0</td>\n",
       "      <td>0</td>\n",
       "      <td>0</td>\n",
       "      <td>[]</td>\n",
       "      <td>0</td>\n",
       "      <td>0</td>\n",
       "    </tr>\n",
       "    <tr>\n",
       "      <th>651656</th>\n",
       "      <td>wont 24 ive known theres leave</td>\n",
       "      <td>0</td>\n",
       "      <td>21</td>\n",
       "      <td>130</td>\n",
       "      <td>5.190476</td>\n",
       "      <td>10</td>\n",
       "      <td>0</td>\n",
       "      <td>4</td>\n",
       "      <td>1</td>\n",
       "      <td>0</td>\n",
       "      <td>[]</td>\n",
       "      <td>0</td>\n",
       "      <td>0</td>\n",
       "    </tr>\n",
       "    <tr>\n",
       "      <th>446222</th>\n",
       "      <td>miss ande kids crazy everyday hate reason</td>\n",
       "      <td>0</td>\n",
       "      <td>29</td>\n",
       "      <td>134</td>\n",
       "      <td>3.620690</td>\n",
       "      <td>17</td>\n",
       "      <td>0</td>\n",
       "      <td>0</td>\n",
       "      <td>0</td>\n",
       "      <td>1</td>\n",
       "      <td>[]</td>\n",
       "      <td>0</td>\n",
       "      <td>0</td>\n",
       "    </tr>\n",
       "    <tr>\n",
       "      <th>772086</th>\n",
       "      <td>skie half waiting happen especially sinc deaths happened age</td>\n",
       "      <td>0</td>\n",
       "      <td>25</td>\n",
       "      <td>137</td>\n",
       "      <td>4.480000</td>\n",
       "      <td>13</td>\n",
       "      <td>0</td>\n",
       "      <td>1</td>\n",
       "      <td>0</td>\n",
       "      <td>1</td>\n",
       "      <td>[]</td>\n",
       "      <td>0</td>\n",
       "      <td>0</td>\n",
       "    </tr>\n",
       "    <tr>\n",
       "      <th>771984</th>\n",
       "      <td>literally ruined</td>\n",
       "      <td>0</td>\n",
       "      <td>5</td>\n",
       "      <td>29</td>\n",
       "      <td>4.800000</td>\n",
       "      <td>2</td>\n",
       "      <td>0</td>\n",
       "      <td>0</td>\n",
       "      <td>0</td>\n",
       "      <td>0</td>\n",
       "      <td>[]</td>\n",
       "      <td>0</td>\n",
       "      <td>0</td>\n",
       "    </tr>\n",
       "    <tr>\n",
       "      <th>...</th>\n",
       "      <td>...</td>\n",
       "      <td>...</td>\n",
       "      <td>...</td>\n",
       "      <td>...</td>\n",
       "      <td>...</td>\n",
       "      <td>...</td>\n",
       "      <td>...</td>\n",
       "      <td>...</td>\n",
       "      <td>...</td>\n",
       "      <td>...</td>\n",
       "      <td>...</td>\n",
       "      <td>...</td>\n",
       "      <td>...</td>\n",
       "    </tr>\n",
       "    <tr>\n",
       "      <th>1000359</th>\n",
       "      <td>says lingaw kaau ang nodame hehehe</td>\n",
       "      <td>4</td>\n",
       "      <td>8</td>\n",
       "      <td>74</td>\n",
       "      <td>8.250000</td>\n",
       "      <td>0</td>\n",
       "      <td>0</td>\n",
       "      <td>0</td>\n",
       "      <td>0</td>\n",
       "      <td>0</td>\n",
       "      <td>[]</td>\n",
       "      <td>0</td>\n",
       "      <td>1</td>\n",
       "    </tr>\n",
       "    <tr>\n",
       "      <th>1200701</th>\n",
       "      <td>tired busy weekend watching hills season finale dropping car sleepover yay fixed cars</td>\n",
       "      <td>4</td>\n",
       "      <td>24</td>\n",
       "      <td>133</td>\n",
       "      <td>4.541667</td>\n",
       "      <td>8</td>\n",
       "      <td>0</td>\n",
       "      <td>0</td>\n",
       "      <td>0</td>\n",
       "      <td>0</td>\n",
       "      <td>[]</td>\n",
       "      <td>0</td>\n",
       "      <td>0</td>\n",
       "    </tr>\n",
       "    <tr>\n",
       "      <th>1234956</th>\n",
       "      <td>kl wots gonna update saula story</td>\n",
       "      <td>4</td>\n",
       "      <td>10</td>\n",
       "      <td>64</td>\n",
       "      <td>5.400000</td>\n",
       "      <td>2</td>\n",
       "      <td>0</td>\n",
       "      <td>1</td>\n",
       "      <td>0</td>\n",
       "      <td>0</td>\n",
       "      <td>[]</td>\n",
       "      <td>0</td>\n",
       "      <td>0</td>\n",
       "    </tr>\n",
       "    <tr>\n",
       "      <th>852795</th>\n",
       "      <td></td>\n",
       "      <td>4</td>\n",
       "      <td>3</td>\n",
       "      <td>23</td>\n",
       "      <td>6.666667</td>\n",
       "      <td>0</td>\n",
       "      <td>0</td>\n",
       "      <td>1</td>\n",
       "      <td>0</td>\n",
       "      <td>0</td>\n",
       "      <td>[]</td>\n",
       "      <td>0</td>\n",
       "      <td>0</td>\n",
       "    </tr>\n",
       "    <tr>\n",
       "      <th>1416383</th>\n",
       "      <td>makeup_vixxen okay girl wait makeup</td>\n",
       "      <td>4</td>\n",
       "      <td>13</td>\n",
       "      <td>69</td>\n",
       "      <td>4.307692</td>\n",
       "      <td>6</td>\n",
       "      <td>0</td>\n",
       "      <td>1</td>\n",
       "      <td>0</td>\n",
       "      <td>1</td>\n",
       "      <td>[]</td>\n",
       "      <td>0</td>\n",
       "      <td>0</td>\n",
       "    </tr>\n",
       "  </tbody>\n",
       "</table>\n",
       "<p>4000 rows × 13 columns</p>\n",
       "</div>"
      ],
      "text/plain": [
       "                                                                                        tweets  \\\n",
       "205169                                                                                      js   \n",
       "651656                                                          wont 24 ive known theres leave   \n",
       "446222                                               miss ande kids crazy everyday hate reason   \n",
       "772086                            skie half waiting happen especially sinc deaths happened age   \n",
       "771984                                                                        literally ruined   \n",
       "...                                                                                        ...   \n",
       "1000359                                                     says lingaw kaau ang nodame hehehe   \n",
       "1200701  tired busy weekend watching hills season finale dropping car sleepover yay fixed cars   \n",
       "1234956                                                       kl wots gonna update saula story   \n",
       "852795                                                                                           \n",
       "1416383                                                    makeup_vixxen okay girl wait makeup   \n",
       "\n",
       "         sentiment  word_counts  char_counts  avg_word_len  stop_word_len  \\\n",
       "205169           0            8           89     10.125000              0   \n",
       "651656           0           21          130      5.190476             10   \n",
       "446222           0           29          134      3.620690             17   \n",
       "772086           0           25          137      4.480000             13   \n",
       "771984           0            5           29      4.800000              2   \n",
       "...            ...          ...          ...           ...            ...   \n",
       "1000359          4            8           74      8.250000              0   \n",
       "1200701          4           24          133      4.541667              8   \n",
       "1234956          4           10           64      5.400000              2   \n",
       "852795           4            3           23      6.666667              0   \n",
       "1416383          4           13           69      4.307692              6   \n",
       "\n",
       "         #_counts  @_counts  numeric_counts  upper_counts email  email_counts  \\\n",
       "205169          0         0               0             0    []             0   \n",
       "651656          0         4               1             0    []             0   \n",
       "446222          0         0               0             1    []             0   \n",
       "772086          0         1               0             1    []             0   \n",
       "771984          0         0               0             0    []             0   \n",
       "...           ...       ...             ...           ...   ...           ...   \n",
       "1000359         0         0               0             0    []             0   \n",
       "1200701         0         0               0             0    []             0   \n",
       "1234956         0         1               0             0    []             0   \n",
       "852795          0         1               0             0    []             0   \n",
       "1416383         0         1               0             1    []             0   \n",
       "\n",
       "         url_flag  \n",
       "205169          0  \n",
       "651656          0  \n",
       "446222          0  \n",
       "772086          0  \n",
       "771984          0  \n",
       "...           ...  \n",
       "1000359         1  \n",
       "1200701         0  \n",
       "1234956         0  \n",
       "852795          0  \n",
       "1416383         0  \n",
       "\n",
       "[4000 rows x 13 columns]"
      ]
     },
     "execution_count": 194,
     "metadata": {},
     "output_type": "execute_result"
    }
   ],
   "source": [
    "dfr"
   ]
  },
  {
   "cell_type": "code",
   "execution_count": 219,
   "id": "b7bb5886",
   "metadata": {
    "ExecuteTime": {
     "end_time": "2022-10-09T10:33:35.923332Z",
     "start_time": "2022-10-09T10:33:35.919856Z"
    }
   },
   "outputs": [],
   "source": [
    "dfr_feat = dfr.drop(labels=['tweets','sentiment','email','url_flag'], axis=1).reset_index(drop=True)"
   ]
  },
  {
   "cell_type": "code",
   "execution_count": 220,
   "id": "aa8d3d2c",
   "metadata": {
    "ExecuteTime": {
     "end_time": "2022-10-09T10:33:45.442964Z",
     "start_time": "2022-10-09T10:33:45.431715Z"
    }
   },
   "outputs": [
    {
     "data": {
      "text/html": [
       "<div>\n",
       "<style scoped>\n",
       "    .dataframe tbody tr th:only-of-type {\n",
       "        vertical-align: middle;\n",
       "    }\n",
       "\n",
       "    .dataframe tbody tr th {\n",
       "        vertical-align: top;\n",
       "    }\n",
       "\n",
       "    .dataframe thead th {\n",
       "        text-align: right;\n",
       "    }\n",
       "</style>\n",
       "<table border=\"1\" class=\"dataframe\">\n",
       "  <thead>\n",
       "    <tr style=\"text-align: right;\">\n",
       "      <th></th>\n",
       "      <th>word_counts</th>\n",
       "      <th>char_counts</th>\n",
       "      <th>avg_word_len</th>\n",
       "      <th>stop_word_len</th>\n",
       "      <th>#_counts</th>\n",
       "      <th>@_counts</th>\n",
       "      <th>numeric_counts</th>\n",
       "      <th>upper_counts</th>\n",
       "      <th>email_counts</th>\n",
       "    </tr>\n",
       "  </thead>\n",
       "  <tbody>\n",
       "    <tr>\n",
       "      <th>0</th>\n",
       "      <td>8</td>\n",
       "      <td>89</td>\n",
       "      <td>10.125000</td>\n",
       "      <td>0</td>\n",
       "      <td>0</td>\n",
       "      <td>0</td>\n",
       "      <td>0</td>\n",
       "      <td>0</td>\n",
       "      <td>0</td>\n",
       "    </tr>\n",
       "    <tr>\n",
       "      <th>1</th>\n",
       "      <td>21</td>\n",
       "      <td>130</td>\n",
       "      <td>5.190476</td>\n",
       "      <td>10</td>\n",
       "      <td>0</td>\n",
       "      <td>4</td>\n",
       "      <td>1</td>\n",
       "      <td>0</td>\n",
       "      <td>0</td>\n",
       "    </tr>\n",
       "    <tr>\n",
       "      <th>2</th>\n",
       "      <td>29</td>\n",
       "      <td>134</td>\n",
       "      <td>3.620690</td>\n",
       "      <td>17</td>\n",
       "      <td>0</td>\n",
       "      <td>0</td>\n",
       "      <td>0</td>\n",
       "      <td>1</td>\n",
       "      <td>0</td>\n",
       "    </tr>\n",
       "    <tr>\n",
       "      <th>3</th>\n",
       "      <td>25</td>\n",
       "      <td>137</td>\n",
       "      <td>4.480000</td>\n",
       "      <td>13</td>\n",
       "      <td>0</td>\n",
       "      <td>1</td>\n",
       "      <td>0</td>\n",
       "      <td>1</td>\n",
       "      <td>0</td>\n",
       "    </tr>\n",
       "    <tr>\n",
       "      <th>4</th>\n",
       "      <td>5</td>\n",
       "      <td>29</td>\n",
       "      <td>4.800000</td>\n",
       "      <td>2</td>\n",
       "      <td>0</td>\n",
       "      <td>0</td>\n",
       "      <td>0</td>\n",
       "      <td>0</td>\n",
       "      <td>0</td>\n",
       "    </tr>\n",
       "    <tr>\n",
       "      <th>...</th>\n",
       "      <td>...</td>\n",
       "      <td>...</td>\n",
       "      <td>...</td>\n",
       "      <td>...</td>\n",
       "      <td>...</td>\n",
       "      <td>...</td>\n",
       "      <td>...</td>\n",
       "      <td>...</td>\n",
       "      <td>...</td>\n",
       "    </tr>\n",
       "    <tr>\n",
       "      <th>3995</th>\n",
       "      <td>8</td>\n",
       "      <td>74</td>\n",
       "      <td>8.250000</td>\n",
       "      <td>0</td>\n",
       "      <td>0</td>\n",
       "      <td>0</td>\n",
       "      <td>0</td>\n",
       "      <td>0</td>\n",
       "      <td>0</td>\n",
       "    </tr>\n",
       "    <tr>\n",
       "      <th>3996</th>\n",
       "      <td>24</td>\n",
       "      <td>133</td>\n",
       "      <td>4.541667</td>\n",
       "      <td>8</td>\n",
       "      <td>0</td>\n",
       "      <td>0</td>\n",
       "      <td>0</td>\n",
       "      <td>0</td>\n",
       "      <td>0</td>\n",
       "    </tr>\n",
       "    <tr>\n",
       "      <th>3997</th>\n",
       "      <td>10</td>\n",
       "      <td>64</td>\n",
       "      <td>5.400000</td>\n",
       "      <td>2</td>\n",
       "      <td>0</td>\n",
       "      <td>1</td>\n",
       "      <td>0</td>\n",
       "      <td>0</td>\n",
       "      <td>0</td>\n",
       "    </tr>\n",
       "    <tr>\n",
       "      <th>3998</th>\n",
       "      <td>3</td>\n",
       "      <td>23</td>\n",
       "      <td>6.666667</td>\n",
       "      <td>0</td>\n",
       "      <td>0</td>\n",
       "      <td>1</td>\n",
       "      <td>0</td>\n",
       "      <td>0</td>\n",
       "      <td>0</td>\n",
       "    </tr>\n",
       "    <tr>\n",
       "      <th>3999</th>\n",
       "      <td>13</td>\n",
       "      <td>69</td>\n",
       "      <td>4.307692</td>\n",
       "      <td>6</td>\n",
       "      <td>0</td>\n",
       "      <td>1</td>\n",
       "      <td>0</td>\n",
       "      <td>1</td>\n",
       "      <td>0</td>\n",
       "    </tr>\n",
       "  </tbody>\n",
       "</table>\n",
       "<p>4000 rows × 9 columns</p>\n",
       "</div>"
      ],
      "text/plain": [
       "      word_counts  char_counts  avg_word_len  stop_word_len  #_counts  \\\n",
       "0               8           89     10.125000              0         0   \n",
       "1              21          130      5.190476             10         0   \n",
       "2              29          134      3.620690             17         0   \n",
       "3              25          137      4.480000             13         0   \n",
       "4               5           29      4.800000              2         0   \n",
       "...           ...          ...           ...            ...       ...   \n",
       "3995            8           74      8.250000              0         0   \n",
       "3996           24          133      4.541667              8         0   \n",
       "3997           10           64      5.400000              2         0   \n",
       "3998            3           23      6.666667              0         0   \n",
       "3999           13           69      4.307692              6         0   \n",
       "\n",
       "      @_counts  numeric_counts  upper_counts  email_counts  \n",
       "0            0               0             0             0  \n",
       "1            4               1             0             0  \n",
       "2            0               0             1             0  \n",
       "3            1               0             1             0  \n",
       "4            0               0             0             0  \n",
       "...        ...             ...           ...           ...  \n",
       "3995         0               0             0             0  \n",
       "3996         0               0             0             0  \n",
       "3997         1               0             0             0  \n",
       "3998         1               0             0             0  \n",
       "3999         1               0             1             0  \n",
       "\n",
       "[4000 rows x 9 columns]"
      ]
     },
     "execution_count": 220,
     "metadata": {},
     "output_type": "execute_result"
    }
   ],
   "source": [
    "dfr_feat"
   ]
  },
  {
   "cell_type": "code",
   "execution_count": 197,
   "id": "6097a4ed",
   "metadata": {
    "ExecuteTime": {
     "end_time": "2022-10-09T10:00:56.414526Z",
     "start_time": "2022-10-09T10:00:56.409565Z"
    }
   },
   "outputs": [],
   "source": [
    "y = dfr['sentiment']"
   ]
  },
  {
   "cell_type": "code",
   "execution_count": 198,
   "id": "d3da7373",
   "metadata": {
    "ExecuteTime": {
     "end_time": "2022-10-09T10:01:05.356867Z",
     "start_time": "2022-10-09T10:01:05.353001Z"
    }
   },
   "outputs": [
    {
     "data": {
      "text/plain": [
       "205169     0\n",
       "651656     0\n",
       "446222     0\n",
       "772086     0\n",
       "771984     0\n",
       "          ..\n",
       "1000359    4\n",
       "1200701    4\n",
       "1234956    4\n",
       "852795     4\n",
       "1416383    4\n",
       "Name: sentiment, Length: 4000, dtype: int64"
      ]
     },
     "execution_count": 198,
     "metadata": {},
     "output_type": "execute_result"
    }
   ],
   "source": [
    "y"
   ]
  },
  {
   "cell_type": "markdown",
   "id": "047aa0b1",
   "metadata": {},
   "source": [
    "##### BOW"
   ]
  },
  {
   "cell_type": "code",
   "execution_count": 199,
   "id": "ac3dd769",
   "metadata": {
    "ExecuteTime": {
     "end_time": "2022-10-09T10:02:16.023952Z",
     "start_time": "2022-10-09T10:02:16.021554Z"
    }
   },
   "outputs": [],
   "source": [
    "from sklearn.feature_extraction.text import CountVectorizer"
   ]
  },
  {
   "cell_type": "code",
   "execution_count": 200,
   "id": "25f3dc1a",
   "metadata": {
    "ExecuteTime": {
     "end_time": "2022-10-09T10:02:27.869301Z",
     "start_time": "2022-10-09T10:02:27.865280Z"
    }
   },
   "outputs": [],
   "source": [
    "cv = CountVectorizer()"
   ]
  },
  {
   "cell_type": "code",
   "execution_count": 201,
   "id": "19f5dafb",
   "metadata": {
    "ExecuteTime": {
     "end_time": "2022-10-09T10:03:14.334234Z",
     "start_time": "2022-10-09T10:03:14.283796Z"
    }
   },
   "outputs": [],
   "source": [
    "text_counts = cv.fit_transform(dfr['tweets'])"
   ]
  },
  {
   "cell_type": "code",
   "execution_count": 202,
   "id": "95bed874",
   "metadata": {
    "ExecuteTime": {
     "end_time": "2022-10-09T10:03:35.831785Z",
     "start_time": "2022-10-09T10:03:35.803885Z"
    }
   },
   "outputs": [
    {
     "data": {
      "text/plain": [
       "array([[0, 0, 0, ..., 0, 0, 0],\n",
       "       [0, 0, 0, ..., 0, 0, 0],\n",
       "       [0, 0, 0, ..., 0, 0, 0],\n",
       "       ...,\n",
       "       [0, 0, 0, ..., 0, 0, 0],\n",
       "       [0, 0, 0, ..., 0, 0, 0],\n",
       "       [0, 0, 0, ..., 0, 0, 0]])"
      ]
     },
     "execution_count": 202,
     "metadata": {},
     "output_type": "execute_result"
    }
   ],
   "source": [
    "text_counts.toarray()"
   ]
  },
  {
   "cell_type": "code",
   "execution_count": 203,
   "id": "aae07378",
   "metadata": {
    "ExecuteTime": {
     "end_time": "2022-10-09T10:04:09.285561Z",
     "start_time": "2022-10-09T10:04:09.258484Z"
    }
   },
   "outputs": [
    {
     "data": {
      "text/plain": [
       "(4000, 7601)"
      ]
     },
     "execution_count": 203,
     "metadata": {},
     "output_type": "execute_result"
    }
   ],
   "source": [
    "text_counts.toarray().shape"
   ]
  },
  {
   "cell_type": "code",
   "execution_count": 204,
   "id": "53c37d0f",
   "metadata": {
    "ExecuteTime": {
     "end_time": "2022-10-09T10:05:51.425069Z",
     "start_time": "2022-10-09T10:05:51.393010Z"
    }
   },
   "outputs": [
    {
     "name": "stderr",
     "output_type": "stream",
     "text": [
      "/home/arafat/anaconda3/lib/python3.9/site-packages/sklearn/utils/deprecation.py:87: FutureWarning: Function get_feature_names is deprecated; get_feature_names is deprecated in 1.0 and will be removed in 1.2. Please use get_feature_names_out instead.\n",
      "  warnings.warn(msg, category=FutureWarning)\n"
     ]
    }
   ],
   "source": [
    "dfr_bow = pd.DataFrame(text_counts.toarray(), columns=cv.get_feature_names())"
   ]
  },
  {
   "cell_type": "code",
   "execution_count": 206,
   "id": "257fa7a1",
   "metadata": {
    "ExecuteTime": {
     "end_time": "2022-10-09T10:06:27.068408Z",
     "start_time": "2022-10-09T10:06:27.053394Z"
    }
   },
   "outputs": [
    {
     "data": {
      "text/html": [
       "<div>\n",
       "<style scoped>\n",
       "    .dataframe tbody tr th:only-of-type {\n",
       "        vertical-align: middle;\n",
       "    }\n",
       "\n",
       "    .dataframe tbody tr th {\n",
       "        vertical-align: top;\n",
       "    }\n",
       "\n",
       "    .dataframe thead th {\n",
       "        text-align: right;\n",
       "    }\n",
       "</style>\n",
       "<table border=\"1\" class=\"dataframe\">\n",
       "  <thead>\n",
       "    <tr style=\"text-align: right;\">\n",
       "      <th></th>\n",
       "      <th>03</th>\n",
       "      <th>04</th>\n",
       "      <th>05</th>\n",
       "      <th>10</th>\n",
       "      <th>100</th>\n",
       "      <th>1000</th>\n",
       "      <th>10000</th>\n",
       "      <th>1002</th>\n",
       "      <th>100mb</th>\n",
       "      <th>100s</th>\n",
       "      <th>...</th>\n",
       "      <th>zelciia</th>\n",
       "      <th>zero</th>\n",
       "      <th>zip</th>\n",
       "      <th>zomg</th>\n",
       "      <th>zone</th>\n",
       "      <th>zoo</th>\n",
       "      <th>zoom</th>\n",
       "      <th>zozotheterrible</th>\n",
       "      <th>zunehd</th>\n",
       "      <th>zzz</th>\n",
       "    </tr>\n",
       "  </thead>\n",
       "  <tbody>\n",
       "    <tr>\n",
       "      <th>0</th>\n",
       "      <td>0</td>\n",
       "      <td>0</td>\n",
       "      <td>0</td>\n",
       "      <td>0</td>\n",
       "      <td>0</td>\n",
       "      <td>0</td>\n",
       "      <td>0</td>\n",
       "      <td>0</td>\n",
       "      <td>0</td>\n",
       "      <td>0</td>\n",
       "      <td>...</td>\n",
       "      <td>0</td>\n",
       "      <td>0</td>\n",
       "      <td>0</td>\n",
       "      <td>0</td>\n",
       "      <td>0</td>\n",
       "      <td>0</td>\n",
       "      <td>0</td>\n",
       "      <td>0</td>\n",
       "      <td>0</td>\n",
       "      <td>0</td>\n",
       "    </tr>\n",
       "    <tr>\n",
       "      <th>1</th>\n",
       "      <td>0</td>\n",
       "      <td>0</td>\n",
       "      <td>0</td>\n",
       "      <td>0</td>\n",
       "      <td>0</td>\n",
       "      <td>0</td>\n",
       "      <td>0</td>\n",
       "      <td>0</td>\n",
       "      <td>0</td>\n",
       "      <td>0</td>\n",
       "      <td>...</td>\n",
       "      <td>0</td>\n",
       "      <td>0</td>\n",
       "      <td>0</td>\n",
       "      <td>0</td>\n",
       "      <td>0</td>\n",
       "      <td>0</td>\n",
       "      <td>0</td>\n",
       "      <td>0</td>\n",
       "      <td>0</td>\n",
       "      <td>0</td>\n",
       "    </tr>\n",
       "    <tr>\n",
       "      <th>2</th>\n",
       "      <td>0</td>\n",
       "      <td>0</td>\n",
       "      <td>0</td>\n",
       "      <td>0</td>\n",
       "      <td>0</td>\n",
       "      <td>0</td>\n",
       "      <td>0</td>\n",
       "      <td>0</td>\n",
       "      <td>0</td>\n",
       "      <td>0</td>\n",
       "      <td>...</td>\n",
       "      <td>0</td>\n",
       "      <td>0</td>\n",
       "      <td>0</td>\n",
       "      <td>0</td>\n",
       "      <td>0</td>\n",
       "      <td>0</td>\n",
       "      <td>0</td>\n",
       "      <td>0</td>\n",
       "      <td>0</td>\n",
       "      <td>0</td>\n",
       "    </tr>\n",
       "  </tbody>\n",
       "</table>\n",
       "<p>3 rows × 7601 columns</p>\n",
       "</div>"
      ],
      "text/plain": [
       "   03  04  05  10  100  1000  10000  1002  100mb  100s  ...  zelciia  zero  \\\n",
       "0   0   0   0   0    0     0      0     0      0     0  ...        0     0   \n",
       "1   0   0   0   0    0     0      0     0      0     0  ...        0     0   \n",
       "2   0   0   0   0    0     0      0     0      0     0  ...        0     0   \n",
       "\n",
       "   zip  zomg  zone  zoo  zoom  zozotheterrible  zunehd  zzz  \n",
       "0    0     0     0    0     0                0       0    0  \n",
       "1    0     0     0    0     0                0       0    0  \n",
       "2    0     0     0    0     0                0       0    0  \n",
       "\n",
       "[3 rows x 7601 columns]"
      ]
     },
     "execution_count": 206,
     "metadata": {},
     "output_type": "execute_result"
    }
   ],
   "source": [
    "dfr_bow.head(3)"
   ]
  },
  {
   "cell_type": "code",
   "execution_count": null,
   "id": "b89d9d4b",
   "metadata": {},
   "outputs": [],
   "source": []
  },
  {
   "cell_type": "markdown",
   "id": "3bd7ccb8",
   "metadata": {},
   "source": [
    "## ML Algorithm"
   ]
  },
  {
   "cell_type": "code",
   "execution_count": 208,
   "id": "02022be3",
   "metadata": {
    "ExecuteTime": {
     "end_time": "2022-10-09T10:10:21.212757Z",
     "start_time": "2022-10-09T10:10:21.205476Z"
    }
   },
   "outputs": [],
   "source": [
    "from sklearn.linear_model import SGDClassifier\n",
    "from sklearn.linear_model import LogisticRegression\n",
    "from sklearn.linear_model import LogisticRegressionCV\n",
    "from sklearn.svm import LinearSVC\n",
    "from sklearn.ensemble import RandomForestClassifier\n",
    "\n",
    "from sklearn.model_selection import train_test_split\n",
    "from sklearn.metrics import confusion_matrix, accuracy_score\n",
    "from sklearn.preprocessing import MinMaxScaler"
   ]
  },
  {
   "cell_type": "code",
   "execution_count": 209,
   "id": "9bc72db7",
   "metadata": {
    "ExecuteTime": {
     "end_time": "2022-10-09T10:15:54.840584Z",
     "start_time": "2022-10-09T10:15:54.834728Z"
    }
   },
   "outputs": [],
   "source": [
    "sgd = SGDClassifier(n_jobs=-1, random_state=42, max_iter=200)\n",
    "lgr = LogisticRegression(random_state=42, max_iter=200)\n",
    "lgrcv = LogisticRegressionCV(cv=2, random_state=42, max_iter=1000)\n",
    "svm = LinearSVC(random_state=42, max_iter=200)\n",
    "rfc = RandomForestClassifier(random_state=42, n_jobs=-1, n_estimators=200)"
   ]
  },
  {
   "cell_type": "code",
   "execution_count": 211,
   "id": "24db4f51",
   "metadata": {
    "ExecuteTime": {
     "end_time": "2022-10-09T10:18:43.736733Z",
     "start_time": "2022-10-09T10:18:43.730561Z"
    }
   },
   "outputs": [],
   "source": [
    "# creating dictionary to train all in one loop\n",
    "clf = {'SGD':sgd, 'LGR':lgr, 'LGR-CV':lgrcv, 'SVM':svm, 'RFC':rfc}"
   ]
  },
  {
   "cell_type": "code",
   "execution_count": 212,
   "id": "f093bff5",
   "metadata": {
    "ExecuteTime": {
     "end_time": "2022-10-09T10:18:53.062477Z",
     "start_time": "2022-10-09T10:18:53.058534Z"
    }
   },
   "outputs": [
    {
     "data": {
      "text/plain": [
       "dict_keys(['SGD', 'LGR', 'LGR-CV', 'SVM', 'RFC'])"
      ]
     },
     "execution_count": 212,
     "metadata": {},
     "output_type": "execute_result"
    }
   ],
   "source": [
    "clf.keys()"
   ]
  },
  {
   "cell_type": "code",
   "execution_count": null,
   "id": "24c78c6a",
   "metadata": {},
   "outputs": [],
   "source": []
  },
  {
   "cell_type": "code",
   "execution_count": null,
   "id": "d5486e81",
   "metadata": {},
   "outputs": [],
   "source": []
  },
  {
   "cell_type": "code",
   "execution_count": 214,
   "id": "b1797de0",
   "metadata": {
    "ExecuteTime": {
     "end_time": "2022-10-09T10:25:26.474113Z",
     "start_time": "2022-10-09T10:25:26.470811Z"
    }
   },
   "outputs": [],
   "source": [
    "def classify(X,y):\n",
    "    scaler = MinMaxScaler(feature_range=(0,1))\n",
    "    X = scaler.fit_transform(X)\n",
    "    \n",
    "    x_train,x_test, y_train, y_test = train_test_split(X,y,test_size=.2, random_state=42, stratify=y)\n",
    "    \n",
    "    for key in clf.keys():\n",
    "        clf[key].fit(x_train, y_train)\n",
    "        y_pred = clf[key].predict(x_test)\n",
    "        ac = accuracy_score(y_test, y_pred)\n",
    "        print(key, \" ----> \",ac)"
   ]
  },
  {
   "cell_type": "code",
   "execution_count": null,
   "id": "dbb02b6e",
   "metadata": {},
   "outputs": [],
   "source": []
  },
  {
   "cell_type": "code",
   "execution_count": 215,
   "id": "e2bbbbd8",
   "metadata": {
    "ExecuteTime": {
     "end_time": "2022-10-09T10:27:22.762006Z",
     "start_time": "2022-10-09T10:26:40.591517Z"
    }
   },
   "outputs": [
    {
     "name": "stdout",
     "output_type": "stream",
     "text": [
      "SGD  ---->  0.6575\n",
      "LGR  ---->  0.6825\n",
      "LGR-CV  ---->  0.6775\n",
      "SVM  ---->  0.65375\n",
      "RFC  ---->  0.6675\n",
      "CPU times: user 4min 36s, sys: 36.8 s, total: 5min 13s\n",
      "Wall time: 42.2 s\n"
     ]
    }
   ],
   "source": [
    "%%time\n",
    "classify(dfr_bow,y)"
   ]
  },
  {
   "cell_type": "markdown",
   "id": "2e4b19e0",
   "metadata": {},
   "source": [
    "### Manual feature"
   ]
  },
  {
   "cell_type": "code",
   "execution_count": 216,
   "id": "dfca9154",
   "metadata": {
    "ExecuteTime": {
     "end_time": "2022-10-09T10:28:40.989268Z",
     "start_time": "2022-10-09T10:28:40.980587Z"
    }
   },
   "outputs": [
    {
     "data": {
      "text/html": [
       "<div>\n",
       "<style scoped>\n",
       "    .dataframe tbody tr th:only-of-type {\n",
       "        vertical-align: middle;\n",
       "    }\n",
       "\n",
       "    .dataframe tbody tr th {\n",
       "        vertical-align: top;\n",
       "    }\n",
       "\n",
       "    .dataframe thead th {\n",
       "        text-align: right;\n",
       "    }\n",
       "</style>\n",
       "<table border=\"1\" class=\"dataframe\">\n",
       "  <thead>\n",
       "    <tr style=\"text-align: right;\">\n",
       "      <th></th>\n",
       "      <th>word_counts</th>\n",
       "      <th>char_counts</th>\n",
       "      <th>avg_word_len</th>\n",
       "      <th>stop_word_len</th>\n",
       "      <th>#_counts</th>\n",
       "      <th>@_counts</th>\n",
       "      <th>numeric_counts</th>\n",
       "      <th>upper_counts</th>\n",
       "      <th>email_counts</th>\n",
       "    </tr>\n",
       "  </thead>\n",
       "  <tbody>\n",
       "    <tr>\n",
       "      <th>205169</th>\n",
       "      <td>8</td>\n",
       "      <td>89</td>\n",
       "      <td>10.125000</td>\n",
       "      <td>0</td>\n",
       "      <td>0</td>\n",
       "      <td>0</td>\n",
       "      <td>0</td>\n",
       "      <td>0</td>\n",
       "      <td>0</td>\n",
       "    </tr>\n",
       "    <tr>\n",
       "      <th>651656</th>\n",
       "      <td>21</td>\n",
       "      <td>130</td>\n",
       "      <td>5.190476</td>\n",
       "      <td>10</td>\n",
       "      <td>0</td>\n",
       "      <td>4</td>\n",
       "      <td>1</td>\n",
       "      <td>0</td>\n",
       "      <td>0</td>\n",
       "    </tr>\n",
       "  </tbody>\n",
       "</table>\n",
       "</div>"
      ],
      "text/plain": [
       "        word_counts  char_counts  avg_word_len  stop_word_len  #_counts  \\\n",
       "205169            8           89     10.125000              0         0   \n",
       "651656           21          130      5.190476             10         0   \n",
       "\n",
       "        @_counts  numeric_counts  upper_counts  email_counts  \n",
       "205169         0               0             0             0  \n",
       "651656         4               1             0             0  "
      ]
     },
     "execution_count": 216,
     "metadata": {},
     "output_type": "execute_result"
    }
   ],
   "source": [
    "dfr_feat.head(2)"
   ]
  },
  {
   "cell_type": "code",
   "execution_count": 217,
   "id": "0b2766dd",
   "metadata": {
    "ExecuteTime": {
     "end_time": "2022-10-09T10:29:08.885694Z",
     "start_time": "2022-10-09T10:29:08.105148Z"
    }
   },
   "outputs": [
    {
     "name": "stdout",
     "output_type": "stream",
     "text": [
      "SGD  ---->  0.565\n",
      "LGR  ---->  0.5625\n",
      "LGR-CV  ---->  0.56625\n",
      "SVM  ---->  0.56\n",
      "RFC  ---->  0.55125\n",
      "CPU times: user 2.06 s, sys: 1.89 s, total: 3.95 s\n",
      "Wall time: 776 ms\n"
     ]
    }
   ],
   "source": [
    "%%time\n",
    "classify(dfr_feat,y)"
   ]
  },
  {
   "cell_type": "markdown",
   "id": "ef4228ae",
   "metadata": {},
   "source": [
    "## Manual + BOW"
   ]
  },
  {
   "cell_type": "code",
   "execution_count": 221,
   "id": "0794f824",
   "metadata": {
    "ExecuteTime": {
     "end_time": "2022-10-09T10:34:15.660243Z",
     "start_time": "2022-10-09T10:34:15.294005Z"
    }
   },
   "outputs": [
    {
     "data": {
      "text/html": [
       "<div>\n",
       "<style scoped>\n",
       "    .dataframe tbody tr th:only-of-type {\n",
       "        vertical-align: middle;\n",
       "    }\n",
       "\n",
       "    .dataframe tbody tr th {\n",
       "        vertical-align: top;\n",
       "    }\n",
       "\n",
       "    .dataframe thead th {\n",
       "        text-align: right;\n",
       "    }\n",
       "</style>\n",
       "<table border=\"1\" class=\"dataframe\">\n",
       "  <thead>\n",
       "    <tr style=\"text-align: right;\">\n",
       "      <th></th>\n",
       "      <th>word_counts</th>\n",
       "      <th>char_counts</th>\n",
       "      <th>avg_word_len</th>\n",
       "      <th>stop_word_len</th>\n",
       "      <th>#_counts</th>\n",
       "      <th>@_counts</th>\n",
       "      <th>numeric_counts</th>\n",
       "      <th>upper_counts</th>\n",
       "      <th>email_counts</th>\n",
       "      <th>03</th>\n",
       "      <th>...</th>\n",
       "      <th>zelciia</th>\n",
       "      <th>zero</th>\n",
       "      <th>zip</th>\n",
       "      <th>zomg</th>\n",
       "      <th>zone</th>\n",
       "      <th>zoo</th>\n",
       "      <th>zoom</th>\n",
       "      <th>zozotheterrible</th>\n",
       "      <th>zunehd</th>\n",
       "      <th>zzz</th>\n",
       "    </tr>\n",
       "  </thead>\n",
       "  <tbody>\n",
       "    <tr>\n",
       "      <th>0</th>\n",
       "      <td>8</td>\n",
       "      <td>89</td>\n",
       "      <td>10.125000</td>\n",
       "      <td>0</td>\n",
       "      <td>0</td>\n",
       "      <td>0</td>\n",
       "      <td>0</td>\n",
       "      <td>0</td>\n",
       "      <td>0</td>\n",
       "      <td>0</td>\n",
       "      <td>...</td>\n",
       "      <td>0</td>\n",
       "      <td>0</td>\n",
       "      <td>0</td>\n",
       "      <td>0</td>\n",
       "      <td>0</td>\n",
       "      <td>0</td>\n",
       "      <td>0</td>\n",
       "      <td>0</td>\n",
       "      <td>0</td>\n",
       "      <td>0</td>\n",
       "    </tr>\n",
       "    <tr>\n",
       "      <th>1</th>\n",
       "      <td>21</td>\n",
       "      <td>130</td>\n",
       "      <td>5.190476</td>\n",
       "      <td>10</td>\n",
       "      <td>0</td>\n",
       "      <td>4</td>\n",
       "      <td>1</td>\n",
       "      <td>0</td>\n",
       "      <td>0</td>\n",
       "      <td>0</td>\n",
       "      <td>...</td>\n",
       "      <td>0</td>\n",
       "      <td>0</td>\n",
       "      <td>0</td>\n",
       "      <td>0</td>\n",
       "      <td>0</td>\n",
       "      <td>0</td>\n",
       "      <td>0</td>\n",
       "      <td>0</td>\n",
       "      <td>0</td>\n",
       "      <td>0</td>\n",
       "    </tr>\n",
       "    <tr>\n",
       "      <th>2</th>\n",
       "      <td>29</td>\n",
       "      <td>134</td>\n",
       "      <td>3.620690</td>\n",
       "      <td>17</td>\n",
       "      <td>0</td>\n",
       "      <td>0</td>\n",
       "      <td>0</td>\n",
       "      <td>1</td>\n",
       "      <td>0</td>\n",
       "      <td>0</td>\n",
       "      <td>...</td>\n",
       "      <td>0</td>\n",
       "      <td>0</td>\n",
       "      <td>0</td>\n",
       "      <td>0</td>\n",
       "      <td>0</td>\n",
       "      <td>0</td>\n",
       "      <td>0</td>\n",
       "      <td>0</td>\n",
       "      <td>0</td>\n",
       "      <td>0</td>\n",
       "    </tr>\n",
       "    <tr>\n",
       "      <th>3</th>\n",
       "      <td>25</td>\n",
       "      <td>137</td>\n",
       "      <td>4.480000</td>\n",
       "      <td>13</td>\n",
       "      <td>0</td>\n",
       "      <td>1</td>\n",
       "      <td>0</td>\n",
       "      <td>1</td>\n",
       "      <td>0</td>\n",
       "      <td>0</td>\n",
       "      <td>...</td>\n",
       "      <td>0</td>\n",
       "      <td>0</td>\n",
       "      <td>0</td>\n",
       "      <td>0</td>\n",
       "      <td>0</td>\n",
       "      <td>0</td>\n",
       "      <td>0</td>\n",
       "      <td>0</td>\n",
       "      <td>0</td>\n",
       "      <td>0</td>\n",
       "    </tr>\n",
       "    <tr>\n",
       "      <th>4</th>\n",
       "      <td>5</td>\n",
       "      <td>29</td>\n",
       "      <td>4.800000</td>\n",
       "      <td>2</td>\n",
       "      <td>0</td>\n",
       "      <td>0</td>\n",
       "      <td>0</td>\n",
       "      <td>0</td>\n",
       "      <td>0</td>\n",
       "      <td>0</td>\n",
       "      <td>...</td>\n",
       "      <td>0</td>\n",
       "      <td>0</td>\n",
       "      <td>0</td>\n",
       "      <td>0</td>\n",
       "      <td>0</td>\n",
       "      <td>0</td>\n",
       "      <td>0</td>\n",
       "      <td>0</td>\n",
       "      <td>0</td>\n",
       "      <td>0</td>\n",
       "    </tr>\n",
       "    <tr>\n",
       "      <th>...</th>\n",
       "      <td>...</td>\n",
       "      <td>...</td>\n",
       "      <td>...</td>\n",
       "      <td>...</td>\n",
       "      <td>...</td>\n",
       "      <td>...</td>\n",
       "      <td>...</td>\n",
       "      <td>...</td>\n",
       "      <td>...</td>\n",
       "      <td>...</td>\n",
       "      <td>...</td>\n",
       "      <td>...</td>\n",
       "      <td>...</td>\n",
       "      <td>...</td>\n",
       "      <td>...</td>\n",
       "      <td>...</td>\n",
       "      <td>...</td>\n",
       "      <td>...</td>\n",
       "      <td>...</td>\n",
       "      <td>...</td>\n",
       "      <td>...</td>\n",
       "    </tr>\n",
       "    <tr>\n",
       "      <th>3995</th>\n",
       "      <td>8</td>\n",
       "      <td>74</td>\n",
       "      <td>8.250000</td>\n",
       "      <td>0</td>\n",
       "      <td>0</td>\n",
       "      <td>0</td>\n",
       "      <td>0</td>\n",
       "      <td>0</td>\n",
       "      <td>0</td>\n",
       "      <td>0</td>\n",
       "      <td>...</td>\n",
       "      <td>0</td>\n",
       "      <td>0</td>\n",
       "      <td>0</td>\n",
       "      <td>0</td>\n",
       "      <td>0</td>\n",
       "      <td>0</td>\n",
       "      <td>0</td>\n",
       "      <td>0</td>\n",
       "      <td>0</td>\n",
       "      <td>0</td>\n",
       "    </tr>\n",
       "    <tr>\n",
       "      <th>3996</th>\n",
       "      <td>24</td>\n",
       "      <td>133</td>\n",
       "      <td>4.541667</td>\n",
       "      <td>8</td>\n",
       "      <td>0</td>\n",
       "      <td>0</td>\n",
       "      <td>0</td>\n",
       "      <td>0</td>\n",
       "      <td>0</td>\n",
       "      <td>0</td>\n",
       "      <td>...</td>\n",
       "      <td>0</td>\n",
       "      <td>0</td>\n",
       "      <td>0</td>\n",
       "      <td>0</td>\n",
       "      <td>0</td>\n",
       "      <td>0</td>\n",
       "      <td>0</td>\n",
       "      <td>0</td>\n",
       "      <td>0</td>\n",
       "      <td>0</td>\n",
       "    </tr>\n",
       "    <tr>\n",
       "      <th>3997</th>\n",
       "      <td>10</td>\n",
       "      <td>64</td>\n",
       "      <td>5.400000</td>\n",
       "      <td>2</td>\n",
       "      <td>0</td>\n",
       "      <td>1</td>\n",
       "      <td>0</td>\n",
       "      <td>0</td>\n",
       "      <td>0</td>\n",
       "      <td>0</td>\n",
       "      <td>...</td>\n",
       "      <td>0</td>\n",
       "      <td>0</td>\n",
       "      <td>0</td>\n",
       "      <td>0</td>\n",
       "      <td>0</td>\n",
       "      <td>0</td>\n",
       "      <td>0</td>\n",
       "      <td>0</td>\n",
       "      <td>0</td>\n",
       "      <td>0</td>\n",
       "    </tr>\n",
       "    <tr>\n",
       "      <th>3998</th>\n",
       "      <td>3</td>\n",
       "      <td>23</td>\n",
       "      <td>6.666667</td>\n",
       "      <td>0</td>\n",
       "      <td>0</td>\n",
       "      <td>1</td>\n",
       "      <td>0</td>\n",
       "      <td>0</td>\n",
       "      <td>0</td>\n",
       "      <td>0</td>\n",
       "      <td>...</td>\n",
       "      <td>0</td>\n",
       "      <td>0</td>\n",
       "      <td>0</td>\n",
       "      <td>0</td>\n",
       "      <td>0</td>\n",
       "      <td>0</td>\n",
       "      <td>0</td>\n",
       "      <td>0</td>\n",
       "      <td>0</td>\n",
       "      <td>0</td>\n",
       "    </tr>\n",
       "    <tr>\n",
       "      <th>3999</th>\n",
       "      <td>13</td>\n",
       "      <td>69</td>\n",
       "      <td>4.307692</td>\n",
       "      <td>6</td>\n",
       "      <td>0</td>\n",
       "      <td>1</td>\n",
       "      <td>0</td>\n",
       "      <td>1</td>\n",
       "      <td>0</td>\n",
       "      <td>0</td>\n",
       "      <td>...</td>\n",
       "      <td>0</td>\n",
       "      <td>0</td>\n",
       "      <td>0</td>\n",
       "      <td>0</td>\n",
       "      <td>0</td>\n",
       "      <td>0</td>\n",
       "      <td>0</td>\n",
       "      <td>0</td>\n",
       "      <td>0</td>\n",
       "      <td>0</td>\n",
       "    </tr>\n",
       "  </tbody>\n",
       "</table>\n",
       "<p>4000 rows × 7610 columns</p>\n",
       "</div>"
      ],
      "text/plain": [
       "      word_counts  char_counts  avg_word_len  stop_word_len  #_counts  \\\n",
       "0               8           89     10.125000              0         0   \n",
       "1              21          130      5.190476             10         0   \n",
       "2              29          134      3.620690             17         0   \n",
       "3              25          137      4.480000             13         0   \n",
       "4               5           29      4.800000              2         0   \n",
       "...           ...          ...           ...            ...       ...   \n",
       "3995            8           74      8.250000              0         0   \n",
       "3996           24          133      4.541667              8         0   \n",
       "3997           10           64      5.400000              2         0   \n",
       "3998            3           23      6.666667              0         0   \n",
       "3999           13           69      4.307692              6         0   \n",
       "\n",
       "      @_counts  numeric_counts  upper_counts  email_counts  03  ...  zelciia  \\\n",
       "0            0               0             0             0   0  ...        0   \n",
       "1            4               1             0             0   0  ...        0   \n",
       "2            0               0             1             0   0  ...        0   \n",
       "3            1               0             1             0   0  ...        0   \n",
       "4            0               0             0             0   0  ...        0   \n",
       "...        ...             ...           ...           ...  ..  ...      ...   \n",
       "3995         0               0             0             0   0  ...        0   \n",
       "3996         0               0             0             0   0  ...        0   \n",
       "3997         1               0             0             0   0  ...        0   \n",
       "3998         1               0             0             0   0  ...        0   \n",
       "3999         1               0             1             0   0  ...        0   \n",
       "\n",
       "      zero  zip  zomg  zone  zoo  zoom  zozotheterrible  zunehd  zzz  \n",
       "0        0    0     0     0    0     0                0       0    0  \n",
       "1        0    0     0     0    0     0                0       0    0  \n",
       "2        0    0     0     0    0     0                0       0    0  \n",
       "3        0    0     0     0    0     0                0       0    0  \n",
       "4        0    0     0     0    0     0                0       0    0  \n",
       "...    ...  ...   ...   ...  ...   ...              ...     ...  ...  \n",
       "3995     0    0     0     0    0     0                0       0    0  \n",
       "3996     0    0     0     0    0     0                0       0    0  \n",
       "3997     0    0     0     0    0     0                0       0    0  \n",
       "3998     0    0     0     0    0     0                0       0    0  \n",
       "3999     0    0     0     0    0     0                0       0    0  \n",
       "\n",
       "[4000 rows x 7610 columns]"
      ]
     },
     "execution_count": 221,
     "metadata": {},
     "output_type": "execute_result"
    }
   ],
   "source": [
    "X = dfr_feat.join(dfr_bow)\n",
    "X"
   ]
  },
  {
   "cell_type": "code",
   "execution_count": 222,
   "id": "f07e96c3",
   "metadata": {
    "ExecuteTime": {
     "end_time": "2022-10-09T10:35:24.645921Z",
     "start_time": "2022-10-09T10:34:40.216108Z"
    }
   },
   "outputs": [
    {
     "name": "stdout",
     "output_type": "stream",
     "text": [
      "SGD  ---->  0.65375\n",
      "LGR  ---->  0.68625\n",
      "LGR-CV  ---->  0.68375\n",
      "SVM  ---->  0.66125\n",
      "RFC  ---->  0.65375\n",
      "CPU times: user 4min 18s, sys: 1min 1s, total: 5min 20s\n",
      "Wall time: 44.4 s\n"
     ]
    }
   ],
   "source": [
    "%%time\n",
    "classify(X,y)"
   ]
  },
  {
   "cell_type": "markdown",
   "id": "fae76222",
   "metadata": {},
   "source": [
    "### TF-IDF"
   ]
  },
  {
   "cell_type": "code",
   "execution_count": 223,
   "id": "da7fbd2f",
   "metadata": {
    "ExecuteTime": {
     "end_time": "2022-10-09T10:37:01.573888Z",
     "start_time": "2022-10-09T10:37:01.568503Z"
    }
   },
   "outputs": [],
   "source": [
    "from sklearn.feature_extraction.text import TfidfVectorizer"
   ]
  },
  {
   "cell_type": "code",
   "execution_count": 224,
   "id": "77fb7472",
   "metadata": {
    "ExecuteTime": {
     "end_time": "2022-10-09T10:37:11.302392Z",
     "start_time": "2022-10-09T10:37:11.298992Z"
    }
   },
   "outputs": [
    {
     "data": {
      "text/plain": [
       "(4000, 13)"
      ]
     },
     "execution_count": 224,
     "metadata": {},
     "output_type": "execute_result"
    }
   ],
   "source": [
    "dfr.shape"
   ]
  },
  {
   "cell_type": "code",
   "execution_count": 225,
   "id": "f298ed3f",
   "metadata": {
    "ExecuteTime": {
     "end_time": "2022-10-09T10:38:04.987949Z",
     "start_time": "2022-10-09T10:38:04.917504Z"
    }
   },
   "outputs": [],
   "source": [
    "tfidf = TfidfVectorizer()\n",
    "X = tfidf.fit_transform(dfr['tweets'])"
   ]
  },
  {
   "cell_type": "code",
   "execution_count": 228,
   "id": "9d47cc56",
   "metadata": {
    "ExecuteTime": {
     "end_time": "2022-10-09T10:40:21.833862Z",
     "start_time": "2022-10-09T10:39:35.145326Z"
    }
   },
   "outputs": [
    {
     "name": "stdout",
     "output_type": "stream",
     "text": [
      "SGD  ---->  0.6475\n",
      "LGR  ---->  0.67625\n",
      "LGR-CV  ---->  0.67625\n",
      "SVM  ---->  0.65125\n",
      "RFC  ---->  0.67\n",
      "CPU times: user 5min 24s, sys: 29.4 s, total: 5min 54s\n",
      "Wall time: 46.7 s\n"
     ]
    }
   ],
   "source": [
    "%%time\n",
    "classify(pd.DataFrame(X.toarray()),y)"
   ]
  },
  {
   "cell_type": "markdown",
   "id": "bee56a44",
   "metadata": {},
   "source": [
    "## Word2Vec"
   ]
  },
  {
   "cell_type": "code",
   "execution_count": 229,
   "id": "e5f16af2",
   "metadata": {
    "ExecuteTime": {
     "end_time": "2022-10-09T10:41:40.933746Z",
     "start_time": "2022-10-09T10:41:40.929821Z"
    }
   },
   "outputs": [],
   "source": [
    "def get_vec(x):\n",
    "    doc = nlp(x)\n",
    "    return doc.vector.reshape(1,-1)"
   ]
  },
  {
   "cell_type": "code",
   "execution_count": 230,
   "id": "567bf1c3",
   "metadata": {
    "ExecuteTime": {
     "end_time": "2022-10-09T10:42:56.700779Z",
     "start_time": "2022-10-09T10:42:41.730700Z"
    }
   },
   "outputs": [
    {
     "name": "stdout",
     "output_type": "stream",
     "text": [
      "CPU times: user 14.7 s, sys: 29.5 ms, total: 14.8 s\n",
      "Wall time: 15 s\n"
     ]
    }
   ],
   "source": [
    "%%time\n",
    "dfr['vec'] = dfr['tweets'].apply(lambda x: get_vec(x))"
   ]
  },
  {
   "cell_type": "code",
   "execution_count": 232,
   "id": "52b99756",
   "metadata": {
    "ExecuteTime": {
     "end_time": "2022-10-09T10:43:54.601696Z",
     "start_time": "2022-10-09T10:43:54.596614Z"
    }
   },
   "outputs": [],
   "source": [
    "X = np.concatenate(dfr['vec'].to_numpy(), axis=0)"
   ]
  },
  {
   "cell_type": "code",
   "execution_count": 233,
   "id": "2d09743e",
   "metadata": {
    "ExecuteTime": {
     "end_time": "2022-10-09T10:44:04.150403Z",
     "start_time": "2022-10-09T10:44:04.146427Z"
    }
   },
   "outputs": [
    {
     "data": {
      "text/plain": [
       "(4000, 300)"
      ]
     },
     "execution_count": 233,
     "metadata": {},
     "output_type": "execute_result"
    }
   ],
   "source": [
    "X.shape"
   ]
  },
  {
   "cell_type": "code",
   "execution_count": 234,
   "id": "2a71c41c",
   "metadata": {
    "ExecuteTime": {
     "end_time": "2022-10-09T10:45:00.737140Z",
     "start_time": "2022-10-09T10:44:52.217451Z"
    }
   },
   "outputs": [
    {
     "name": "stdout",
     "output_type": "stream",
     "text": [
      "SGD  ---->  0.68125\n"
     ]
    },
    {
     "name": "stderr",
     "output_type": "stream",
     "text": [
      "/home/arafat/anaconda3/lib/python3.9/site-packages/sklearn/linear_model/_logistic.py:814: ConvergenceWarning: lbfgs failed to converge (status=1):\n",
      "STOP: TOTAL NO. of ITERATIONS REACHED LIMIT.\n",
      "\n",
      "Increase the number of iterations (max_iter) or scale the data as shown in:\n",
      "    https://scikit-learn.org/stable/modules/preprocessing.html\n",
      "Please also refer to the documentation for alternative solver options:\n",
      "    https://scikit-learn.org/stable/modules/linear_model.html#logistic-regression\n",
      "  n_iter_i = _check_optimize_result(\n"
     ]
    },
    {
     "name": "stdout",
     "output_type": "stream",
     "text": [
      "LGR  ---->  0.69625\n"
     ]
    },
    {
     "name": "stderr",
     "output_type": "stream",
     "text": [
      "/home/arafat/anaconda3/lib/python3.9/site-packages/sklearn/linear_model/_logistic.py:814: ConvergenceWarning: lbfgs failed to converge (status=1):\n",
      "STOP: TOTAL NO. of ITERATIONS REACHED LIMIT.\n",
      "\n",
      "Increase the number of iterations (max_iter) or scale the data as shown in:\n",
      "    https://scikit-learn.org/stable/modules/preprocessing.html\n",
      "Please also refer to the documentation for alternative solver options:\n",
      "    https://scikit-learn.org/stable/modules/linear_model.html#logistic-regression\n",
      "  n_iter_i = _check_optimize_result(\n",
      "/home/arafat/anaconda3/lib/python3.9/site-packages/sklearn/linear_model/_logistic.py:814: ConvergenceWarning: lbfgs failed to converge (status=1):\n",
      "STOP: TOTAL NO. of ITERATIONS REACHED LIMIT.\n",
      "\n",
      "Increase the number of iterations (max_iter) or scale the data as shown in:\n",
      "    https://scikit-learn.org/stable/modules/preprocessing.html\n",
      "Please also refer to the documentation for alternative solver options:\n",
      "    https://scikit-learn.org/stable/modules/linear_model.html#logistic-regression\n",
      "  n_iter_i = _check_optimize_result(\n",
      "/home/arafat/anaconda3/lib/python3.9/site-packages/sklearn/linear_model/_logistic.py:814: ConvergenceWarning: lbfgs failed to converge (status=1):\n",
      "STOP: TOTAL NO. of ITERATIONS REACHED LIMIT.\n",
      "\n",
      "Increase the number of iterations (max_iter) or scale the data as shown in:\n",
      "    https://scikit-learn.org/stable/modules/preprocessing.html\n",
      "Please also refer to the documentation for alternative solver options:\n",
      "    https://scikit-learn.org/stable/modules/linear_model.html#logistic-regression\n",
      "  n_iter_i = _check_optimize_result(\n",
      "/home/arafat/anaconda3/lib/python3.9/site-packages/sklearn/linear_model/_logistic.py:814: ConvergenceWarning: lbfgs failed to converge (status=1):\n",
      "STOP: TOTAL NO. of ITERATIONS REACHED LIMIT.\n",
      "\n",
      "Increase the number of iterations (max_iter) or scale the data as shown in:\n",
      "    https://scikit-learn.org/stable/modules/preprocessing.html\n",
      "Please also refer to the documentation for alternative solver options:\n",
      "    https://scikit-learn.org/stable/modules/linear_model.html#logistic-regression\n",
      "  n_iter_i = _check_optimize_result(\n"
     ]
    },
    {
     "name": "stdout",
     "output_type": "stream",
     "text": [
      "LGR-CV  ---->  0.70125\n"
     ]
    },
    {
     "name": "stderr",
     "output_type": "stream",
     "text": [
      "/home/arafat/anaconda3/lib/python3.9/site-packages/sklearn/svm/_base.py:1206: ConvergenceWarning: Liblinear failed to converge, increase the number of iterations.\n",
      "  warnings.warn(\n"
     ]
    },
    {
     "name": "stdout",
     "output_type": "stream",
     "text": [
      "SVM  ---->  0.6425\n",
      "RFC  ---->  0.66\n",
      "CPU times: user 32.1 s, sys: 29.6 s, total: 1min 1s\n",
      "Wall time: 8.52 s\n"
     ]
    }
   ],
   "source": [
    "%%time\n",
    "classify(pd.DataFrame(X),y)"
   ]
  },
  {
   "cell_type": "code",
   "execution_count": null,
   "id": "ba90a1d5",
   "metadata": {},
   "outputs": [],
   "source": []
  },
  {
   "cell_type": "code",
   "execution_count": null,
   "id": "7ec9937a",
   "metadata": {},
   "outputs": [],
   "source": []
  },
  {
   "cell_type": "code",
   "execution_count": 235,
   "id": "f7c6aeea",
   "metadata": {
    "ExecuteTime": {
     "end_time": "2022-10-09T10:47:41.217803Z",
     "start_time": "2022-10-09T10:47:41.214461Z"
    }
   },
   "outputs": [],
   "source": [
    "def predict_w2v(x):\n",
    "    for key in clf.keys():\n",
    "        y_pred = clf[key].predict(get_vec(x))\n",
    "        print(key, \" ---> \", y_pred)"
   ]
  },
  {
   "cell_type": "code",
   "execution_count": 236,
   "id": "7fd9d0ed",
   "metadata": {
    "ExecuteTime": {
     "end_time": "2022-10-09T10:48:16.140988Z",
     "start_time": "2022-10-09T10:48:16.078473Z"
    }
   },
   "outputs": [
    {
     "name": "stdout",
     "output_type": "stream",
     "text": [
      "SGD  --->  [4]\n",
      "LGR  --->  [4]\n",
      "LGR-CV  --->  [4]\n",
      "SVM  --->  [4]\n",
      "RFC  --->  [0]\n"
     ]
    }
   ],
   "source": [
    "predict_w2v('hi, thanks for watching this video, please like')"
   ]
  },
  {
   "cell_type": "code",
   "execution_count": 244,
   "id": "0e37ec52",
   "metadata": {
    "ExecuteTime": {
     "end_time": "2022-10-09T10:52:05.122904Z",
     "start_time": "2022-10-09T10:52:05.068339Z"
    }
   },
   "outputs": [
    {
     "name": "stdout",
     "output_type": "stream",
     "text": [
      "SGD  --->  [0]\n",
      "LGR  --->  [4]\n",
      "LGR-CV  --->  [0]\n",
      "SVM  --->  [4]\n",
      "RFC  --->  [0]\n"
     ]
    }
   ],
   "source": [
    "predict_w2v('i love you. you are so nice')"
   ]
  },
  {
   "cell_type": "code",
   "execution_count": 241,
   "id": "8c31693f",
   "metadata": {
    "ExecuteTime": {
     "end_time": "2022-10-09T10:51:17.922835Z",
     "start_time": "2022-10-09T10:51:17.870645Z"
    }
   },
   "outputs": [
    {
     "name": "stdout",
     "output_type": "stream",
     "text": [
      "SGD  --->  [0]\n",
      "LGR  --->  [0]\n",
      "LGR-CV  --->  [0]\n",
      "SVM  --->  [0]\n",
      "RFC  --->  [4]\n"
     ]
    }
   ],
   "source": [
    "predict_w2v('hate, kill, revenge ugly bad')"
   ]
  },
  {
   "cell_type": "code",
   "execution_count": 243,
   "id": "e3037747",
   "metadata": {
    "ExecuteTime": {
     "end_time": "2022-10-09T10:51:48.396926Z",
     "start_time": "2022-10-09T10:51:48.350198Z"
    }
   },
   "outputs": [
    {
     "name": "stdout",
     "output_type": "stream",
     "text": [
      "SGD  --->  [4]\n",
      "LGR  --->  [4]\n",
      "LGR-CV  --->  [4]\n",
      "SVM  --->  [4]\n",
      "RFC  --->  [4]\n"
     ]
    }
   ],
   "source": [
    "predict_w2v('good beautiful play happy')"
   ]
  },
  {
   "cell_type": "code",
   "execution_count": null,
   "id": "1d68f5cc",
   "metadata": {},
   "outputs": [],
   "source": []
  }
 ],
 "metadata": {
  "kernelspec": {
   "display_name": "Python 3 (ipykernel)",
   "language": "python",
   "name": "python3"
  },
  "language_info": {
   "codemirror_mode": {
    "name": "ipython",
    "version": 3
   },
   "file_extension": ".py",
   "mimetype": "text/x-python",
   "name": "python",
   "nbconvert_exporter": "python",
   "pygments_lexer": "ipython3",
   "version": "3.9.12"
  },
  "varInspector": {
   "cols": {
    "lenName": 16,
    "lenType": 16,
    "lenVar": 40
   },
   "kernels_config": {
    "python": {
     "delete_cmd_postfix": "",
     "delete_cmd_prefix": "del ",
     "library": "var_list.py",
     "varRefreshCmd": "print(var_dic_list())"
    },
    "r": {
     "delete_cmd_postfix": ") ",
     "delete_cmd_prefix": "rm(",
     "library": "var_list.r",
     "varRefreshCmd": "cat(var_dic_list()) "
    }
   },
   "types_to_exclude": [
    "module",
    "function",
    "builtin_function_or_method",
    "instance",
    "_Feature"
   ],
   "window_display": false
  }
 },
 "nbformat": 4,
 "nbformat_minor": 5
}
