{
 "cells": [
  {
   "cell_type": "markdown",
   "id": "deb3c084",
   "metadata": {},
   "source": [
    "Dataset: https://www.kaggle.com/datasets/kazanova/sentiment140"
   ]
  },
  {
   "cell_type": "code",
   "execution_count": 1,
   "id": "8520f04b",
   "metadata": {
    "ExecuteTime": {
     "end_time": "2022-09-28T06:15:56.676216Z",
     "start_time": "2022-09-28T06:15:56.673780Z"
    },
    "code_folding": []
   },
   "outputs": [],
   "source": [
    "# pip install -U spacy\n",
    "# pip install -U spacy-lookups-data\n",
    "# python -m spacy download en_core_web_sm\n",
    "# python -m spacy download en_core_web_md\n",
    "# python -m spacy download en_core_web_lg"
   ]
  },
  {
   "cell_type": "markdown",
   "id": "b794fe7e",
   "metadata": {
    "heading_collapsed": true
   },
   "source": [
    "### General Feature Extraction\n",
    "   - File loading\n",
    "   - Word counts\n",
    "   - Characters count\n",
    "   - Average characters per word\n",
    "   - Stop words count\n",
    "   - Count #Hash Tags and @Mentions\n",
    "   - if Numeric digits are present in twits\n",
    "   - Upper case word counts\n",
    "\n"
   ]
  },
  {
   "cell_type": "markdown",
   "id": "2c3ea529",
   "metadata": {
    "ExecuteTime": {
     "end_time": "2022-09-23T14:23:10.601874Z",
     "start_time": "2022-09-23T14:23:10.596282Z"
    }
   },
   "source": [
    "###  Preprocessing and Cleaning\n",
    "   -  Lower case\n",
    "   -  Contraction to Expansion\n",
    "   -  Email removal and counts\n",
    "   -  URLs removal and counts\n",
    "   -  Removal of RT\n",
    "   -  Removal of Special Characters\n",
    "   -  Removal of multiple spaces\n",
    "   -  Removal of HTML tags\n",
    "   -  Removal of accented characters\n",
    "   -  Removal of stop Words\n",
    "   -  Conversion into base form of words\n",
    "   -  Common Occurring words Removal\n",
    "   -  Rare Occurring words Removal\n",
    "   -  Word Cloud\n",
    "   -  Spelling Correction\n",
    "   -  Tokenization \n",
    "   -  Lemmatization\n",
    "   -  Detecting Entities using NER\n",
    "   -  Noun Detection\n",
    "   -  Sentence Translation\n",
    "   -  Using inbuilt `Sentiment Classifier`"
   ]
  },
  {
   "cell_type": "markdown",
   "id": "002be3a3",
   "metadata": {},
   "source": [
    "### Advanced Text Processing and Feature Extraction\n",
    "   - N-Gram, Bi-Gram etc\n",
    "   - Bag of Words (BoW)\n",
    "   - Term Frequency Calculation <mark>TF</mark>\n",
    "   - Inverse Document Frequency <mark>IDF</mark>\n",
    "   - `TF-IDF` Term Frequency-Inverse Document Frequency    \n",
    "   - Word Embedding `Word2Vec` using Spacy"
   ]
  },
  {
   "cell_type": "markdown",
   "id": "1a974985",
   "metadata": {},
   "source": [
    "### Machine Learning Models for Text Classification\n",
    "   - SGDClassifier\n",
    "   - LogisticRegression\n",
    "   - LogisticRegressionCV\n",
    "   - LinearSVC\n",
    "   - RandomForestClassifier"
   ]
  },
  {
   "cell_type": "code",
   "execution_count": 2,
   "id": "81f90066",
   "metadata": {
    "ExecuteTime": {
     "end_time": "2022-09-28T06:15:57.095515Z",
     "start_time": "2022-09-28T06:15:56.679837Z"
    }
   },
   "outputs": [],
   "source": [
    "import numpy as np\n",
    "import pandas as pd"
   ]
  },
  {
   "cell_type": "code",
   "execution_count": null,
   "id": "16c4a8ce",
   "metadata": {
    "ExecuteTime": {
     "end_time": "2022-09-25T06:03:43.139099Z",
     "start_time": "2022-09-25T06:03:41.706029Z"
    }
   },
   "outputs": [],
   "source": []
  },
  {
   "cell_type": "code",
   "execution_count": 3,
   "id": "863ba066",
   "metadata": {
    "ExecuteTime": {
     "end_time": "2022-09-28T06:15:57.099665Z",
     "start_time": "2022-09-28T06:15:57.096639Z"
    }
   },
   "outputs": [],
   "source": [
    "pd.set_option('display.max_colwidth', None)"
   ]
  },
  {
   "cell_type": "code",
   "execution_count": 4,
   "id": "0c632ab8",
   "metadata": {
    "ExecuteTime": {
     "end_time": "2022-09-28T06:16:00.119377Z",
     "start_time": "2022-09-28T06:15:57.101916Z"
    }
   },
   "outputs": [],
   "source": [
    "df = pd.read_csv('twitter16m.csv', encoding='latin1', header=None )"
   ]
  },
  {
   "cell_type": "code",
   "execution_count": 5,
   "id": "9164c665",
   "metadata": {
    "ExecuteTime": {
     "end_time": "2022-09-28T06:16:00.156937Z",
     "start_time": "2022-09-28T06:16:00.121423Z"
    }
   },
   "outputs": [
    {
     "data": {
      "text/html": [
       "<div>\n",
       "<style scoped>\n",
       "    .dataframe tbody tr th:only-of-type {\n",
       "        vertical-align: middle;\n",
       "    }\n",
       "\n",
       "    .dataframe tbody tr th {\n",
       "        vertical-align: top;\n",
       "    }\n",
       "\n",
       "    .dataframe thead th {\n",
       "        text-align: right;\n",
       "    }\n",
       "</style>\n",
       "<table border=\"1\" class=\"dataframe\">\n",
       "  <thead>\n",
       "    <tr style=\"text-align: right;\">\n",
       "      <th></th>\n",
       "      <th>0</th>\n",
       "      <th>1</th>\n",
       "      <th>2</th>\n",
       "      <th>3</th>\n",
       "      <th>4</th>\n",
       "      <th>5</th>\n",
       "    </tr>\n",
       "  </thead>\n",
       "  <tbody>\n",
       "    <tr>\n",
       "      <th>0</th>\n",
       "      <td>0</td>\n",
       "      <td>1467810369</td>\n",
       "      <td>Mon Apr 06 22:19:45 PDT 2009</td>\n",
       "      <td>NO_QUERY</td>\n",
       "      <td>_TheSpecialOne_</td>\n",
       "      <td>@switchfoot http://twitpic.com/2y1zl - Awww, that's a bummer.  You shoulda got David Carr of Third Day to do it. ;D</td>\n",
       "    </tr>\n",
       "    <tr>\n",
       "      <th>1</th>\n",
       "      <td>0</td>\n",
       "      <td>1467810672</td>\n",
       "      <td>Mon Apr 06 22:19:49 PDT 2009</td>\n",
       "      <td>NO_QUERY</td>\n",
       "      <td>scotthamilton</td>\n",
       "      <td>is upset that he can't update his Facebook by texting it... and might cry as a result  School today also. Blah!</td>\n",
       "    </tr>\n",
       "    <tr>\n",
       "      <th>2</th>\n",
       "      <td>0</td>\n",
       "      <td>1467810917</td>\n",
       "      <td>Mon Apr 06 22:19:53 PDT 2009</td>\n",
       "      <td>NO_QUERY</td>\n",
       "      <td>mattycus</td>\n",
       "      <td>@Kenichan I dived many times for the ball. Managed to save 50%  The rest go out of bounds</td>\n",
       "    </tr>\n",
       "    <tr>\n",
       "      <th>3</th>\n",
       "      <td>0</td>\n",
       "      <td>1467811184</td>\n",
       "      <td>Mon Apr 06 22:19:57 PDT 2009</td>\n",
       "      <td>NO_QUERY</td>\n",
       "      <td>ElleCTF</td>\n",
       "      <td>my whole body feels itchy and like its on fire</td>\n",
       "    </tr>\n",
       "    <tr>\n",
       "      <th>4</th>\n",
       "      <td>0</td>\n",
       "      <td>1467811193</td>\n",
       "      <td>Mon Apr 06 22:19:57 PDT 2009</td>\n",
       "      <td>NO_QUERY</td>\n",
       "      <td>Karoli</td>\n",
       "      <td>@nationwideclass no, it's not behaving at all. i'm mad. why am i here? because I can't see you all over there.</td>\n",
       "    </tr>\n",
       "  </tbody>\n",
       "</table>\n",
       "</div>"
      ],
      "text/plain": [
       "   0           1                             2         3                4  \\\n",
       "0  0  1467810369  Mon Apr 06 22:19:45 PDT 2009  NO_QUERY  _TheSpecialOne_   \n",
       "1  0  1467810672  Mon Apr 06 22:19:49 PDT 2009  NO_QUERY    scotthamilton   \n",
       "2  0  1467810917  Mon Apr 06 22:19:53 PDT 2009  NO_QUERY         mattycus   \n",
       "3  0  1467811184  Mon Apr 06 22:19:57 PDT 2009  NO_QUERY          ElleCTF   \n",
       "4  0  1467811193  Mon Apr 06 22:19:57 PDT 2009  NO_QUERY           Karoli   \n",
       "\n",
       "                                                                                                                     5  \n",
       "0  @switchfoot http://twitpic.com/2y1zl - Awww, that's a bummer.  You shoulda got David Carr of Third Day to do it. ;D  \n",
       "1      is upset that he can't update his Facebook by texting it... and might cry as a result  School today also. Blah!  \n",
       "2                            @Kenichan I dived many times for the ball. Managed to save 50%  The rest go out of bounds  \n",
       "3                                                                      my whole body feels itchy and like its on fire   \n",
       "4      @nationwideclass no, it's not behaving at all. i'm mad. why am i here? because I can't see you all over there.   "
      ]
     },
     "execution_count": 5,
     "metadata": {},
     "output_type": "execute_result"
    }
   ],
   "source": [
    "df.head()"
   ]
  },
  {
   "cell_type": "code",
   "execution_count": 6,
   "id": "1778e90a",
   "metadata": {
    "ExecuteTime": {
     "end_time": "2022-09-28T06:16:00.201269Z",
     "start_time": "2022-09-28T06:16:00.159663Z"
    }
   },
   "outputs": [],
   "source": [
    "df = df[[5,0]]\n",
    "df.columns = ['tweets', 'sentiment']"
   ]
  },
  {
   "cell_type": "code",
   "execution_count": 7,
   "id": "80075e61",
   "metadata": {
    "ExecuteTime": {
     "end_time": "2022-09-28T06:16:00.209686Z",
     "start_time": "2022-09-28T06:16:00.202897Z"
    }
   },
   "outputs": [
    {
     "data": {
      "text/html": [
       "<div>\n",
       "<style scoped>\n",
       "    .dataframe tbody tr th:only-of-type {\n",
       "        vertical-align: middle;\n",
       "    }\n",
       "\n",
       "    .dataframe tbody tr th {\n",
       "        vertical-align: top;\n",
       "    }\n",
       "\n",
       "    .dataframe thead th {\n",
       "        text-align: right;\n",
       "    }\n",
       "</style>\n",
       "<table border=\"1\" class=\"dataframe\">\n",
       "  <thead>\n",
       "    <tr style=\"text-align: right;\">\n",
       "      <th></th>\n",
       "      <th>tweets</th>\n",
       "      <th>sentiment</th>\n",
       "    </tr>\n",
       "  </thead>\n",
       "  <tbody>\n",
       "    <tr>\n",
       "      <th>0</th>\n",
       "      <td>@switchfoot http://twitpic.com/2y1zl - Awww, that's a bummer.  You shoulda got David Carr of Third Day to do it. ;D</td>\n",
       "      <td>0</td>\n",
       "    </tr>\n",
       "    <tr>\n",
       "      <th>1</th>\n",
       "      <td>is upset that he can't update his Facebook by texting it... and might cry as a result  School today also. Blah!</td>\n",
       "      <td>0</td>\n",
       "    </tr>\n",
       "    <tr>\n",
       "      <th>2</th>\n",
       "      <td>@Kenichan I dived many times for the ball. Managed to save 50%  The rest go out of bounds</td>\n",
       "      <td>0</td>\n",
       "    </tr>\n",
       "    <tr>\n",
       "      <th>3</th>\n",
       "      <td>my whole body feels itchy and like its on fire</td>\n",
       "      <td>0</td>\n",
       "    </tr>\n",
       "    <tr>\n",
       "      <th>4</th>\n",
       "      <td>@nationwideclass no, it's not behaving at all. i'm mad. why am i here? because I can't see you all over there.</td>\n",
       "      <td>0</td>\n",
       "    </tr>\n",
       "  </tbody>\n",
       "</table>\n",
       "</div>"
      ],
      "text/plain": [
       "                                                                                                                tweets  \\\n",
       "0  @switchfoot http://twitpic.com/2y1zl - Awww, that's a bummer.  You shoulda got David Carr of Third Day to do it. ;D   \n",
       "1      is upset that he can't update his Facebook by texting it... and might cry as a result  School today also. Blah!   \n",
       "2                            @Kenichan I dived many times for the ball. Managed to save 50%  The rest go out of bounds   \n",
       "3                                                                      my whole body feels itchy and like its on fire    \n",
       "4      @nationwideclass no, it's not behaving at all. i'm mad. why am i here? because I can't see you all over there.    \n",
       "\n",
       "   sentiment  \n",
       "0          0  \n",
       "1          0  \n",
       "2          0  \n",
       "3          0  \n",
       "4          0  "
      ]
     },
     "execution_count": 7,
     "metadata": {},
     "output_type": "execute_result"
    }
   ],
   "source": [
    "df.head()"
   ]
  },
  {
   "cell_type": "code",
   "execution_count": 8,
   "id": "ac747919",
   "metadata": {
    "ExecuteTime": {
     "end_time": "2022-09-28T06:16:00.231210Z",
     "start_time": "2022-09-28T06:16:00.212919Z"
    }
   },
   "outputs": [
    {
     "data": {
      "text/plain": [
       "0    800000\n",
       "4    800000\n",
       "Name: sentiment, dtype: int64"
      ]
     },
     "execution_count": 8,
     "metadata": {},
     "output_type": "execute_result"
    }
   ],
   "source": [
    "# count unique value of a column\n",
    "df['sentiment'].value_counts()"
   ]
  },
  {
   "cell_type": "code",
   "execution_count": 9,
   "id": "267c71f8",
   "metadata": {
    "ExecuteTime": {
     "end_time": "2022-09-28T06:16:00.235351Z",
     "start_time": "2022-09-28T06:16:00.232776Z"
    }
   },
   "outputs": [],
   "source": [
    "sent_map = {0: 'negative', 4:'positive'}"
   ]
  },
  {
   "cell_type": "markdown",
   "id": "d5239ff8",
   "metadata": {},
   "source": [
    "##### Word counts"
   ]
  },
  {
   "cell_type": "code",
   "execution_count": 10,
   "id": "6fa89243",
   "metadata": {
    "ExecuteTime": {
     "end_time": "2022-09-28T06:16:01.536715Z",
     "start_time": "2022-09-28T06:16:00.236607Z"
    }
   },
   "outputs": [],
   "source": [
    "# lambda function take input row by row in 'x' variable.\n",
    "# some value may have numeric value that's why we use 'str()'\n",
    "df['word_counts'] = df['tweets'].apply(lambda x: len(str(x).split())) "
   ]
  },
  {
   "cell_type": "code",
   "execution_count": 11,
   "id": "66f91205",
   "metadata": {
    "ExecuteTime": {
     "end_time": "2022-09-28T06:16:01.545835Z",
     "start_time": "2022-09-28T06:16:01.538068Z"
    }
   },
   "outputs": [
    {
     "data": {
      "text/html": [
       "<div>\n",
       "<style scoped>\n",
       "    .dataframe tbody tr th:only-of-type {\n",
       "        vertical-align: middle;\n",
       "    }\n",
       "\n",
       "    .dataframe tbody tr th {\n",
       "        vertical-align: top;\n",
       "    }\n",
       "\n",
       "    .dataframe thead th {\n",
       "        text-align: right;\n",
       "    }\n",
       "</style>\n",
       "<table border=\"1\" class=\"dataframe\">\n",
       "  <thead>\n",
       "    <tr style=\"text-align: right;\">\n",
       "      <th></th>\n",
       "      <th>tweets</th>\n",
       "      <th>sentiment</th>\n",
       "      <th>word_counts</th>\n",
       "    </tr>\n",
       "  </thead>\n",
       "  <tbody>\n",
       "    <tr>\n",
       "      <th>0</th>\n",
       "      <td>@switchfoot http://twitpic.com/2y1zl - Awww, that's a bummer.  You shoulda got David Carr of Third Day to do it. ;D</td>\n",
       "      <td>0</td>\n",
       "      <td>19</td>\n",
       "    </tr>\n",
       "    <tr>\n",
       "      <th>1</th>\n",
       "      <td>is upset that he can't update his Facebook by texting it... and might cry as a result  School today also. Blah!</td>\n",
       "      <td>0</td>\n",
       "      <td>21</td>\n",
       "    </tr>\n",
       "    <tr>\n",
       "      <th>2</th>\n",
       "      <td>@Kenichan I dived many times for the ball. Managed to save 50%  The rest go out of bounds</td>\n",
       "      <td>0</td>\n",
       "      <td>18</td>\n",
       "    </tr>\n",
       "    <tr>\n",
       "      <th>3</th>\n",
       "      <td>my whole body feels itchy and like its on fire</td>\n",
       "      <td>0</td>\n",
       "      <td>10</td>\n",
       "    </tr>\n",
       "    <tr>\n",
       "      <th>4</th>\n",
       "      <td>@nationwideclass no, it's not behaving at all. i'm mad. why am i here? because I can't see you all over there.</td>\n",
       "      <td>0</td>\n",
       "      <td>21</td>\n",
       "    </tr>\n",
       "  </tbody>\n",
       "</table>\n",
       "</div>"
      ],
      "text/plain": [
       "                                                                                                                tweets  \\\n",
       "0  @switchfoot http://twitpic.com/2y1zl - Awww, that's a bummer.  You shoulda got David Carr of Third Day to do it. ;D   \n",
       "1      is upset that he can't update his Facebook by texting it... and might cry as a result  School today also. Blah!   \n",
       "2                            @Kenichan I dived many times for the ball. Managed to save 50%  The rest go out of bounds   \n",
       "3                                                                      my whole body feels itchy and like its on fire    \n",
       "4      @nationwideclass no, it's not behaving at all. i'm mad. why am i here? because I can't see you all over there.    \n",
       "\n",
       "   sentiment  word_counts  \n",
       "0          0           19  \n",
       "1          0           21  \n",
       "2          0           18  \n",
       "3          0           10  \n",
       "4          0           21  "
      ]
     },
     "execution_count": 11,
     "metadata": {},
     "output_type": "execute_result"
    }
   ],
   "source": [
    "df.head()"
   ]
  },
  {
   "cell_type": "markdown",
   "id": "2c98d3fa",
   "metadata": {},
   "source": [
    "##### Characters count"
   ]
  },
  {
   "cell_type": "code",
   "execution_count": 12,
   "id": "8fb1e9ec",
   "metadata": {
    "ExecuteTime": {
     "end_time": "2022-09-28T06:16:01.918331Z",
     "start_time": "2022-09-28T06:16:01.547525Z"
    }
   },
   "outputs": [],
   "source": [
    "df['char_counts'] = df['tweets'].apply(lambda x: len(x))"
   ]
  },
  {
   "cell_type": "code",
   "execution_count": 13,
   "id": "0a409e19",
   "metadata": {
    "ExecuteTime": {
     "end_time": "2022-09-28T06:16:01.926206Z",
     "start_time": "2022-09-28T06:16:01.919857Z"
    }
   },
   "outputs": [
    {
     "data": {
      "text/html": [
       "<div>\n",
       "<style scoped>\n",
       "    .dataframe tbody tr th:only-of-type {\n",
       "        vertical-align: middle;\n",
       "    }\n",
       "\n",
       "    .dataframe tbody tr th {\n",
       "        vertical-align: top;\n",
       "    }\n",
       "\n",
       "    .dataframe thead th {\n",
       "        text-align: right;\n",
       "    }\n",
       "</style>\n",
       "<table border=\"1\" class=\"dataframe\">\n",
       "  <thead>\n",
       "    <tr style=\"text-align: right;\">\n",
       "      <th></th>\n",
       "      <th>tweets</th>\n",
       "      <th>sentiment</th>\n",
       "      <th>word_counts</th>\n",
       "      <th>char_counts</th>\n",
       "    </tr>\n",
       "  </thead>\n",
       "  <tbody>\n",
       "    <tr>\n",
       "      <th>0</th>\n",
       "      <td>@switchfoot http://twitpic.com/2y1zl - Awww, that's a bummer.  You shoulda got David Carr of Third Day to do it. ;D</td>\n",
       "      <td>0</td>\n",
       "      <td>19</td>\n",
       "      <td>115</td>\n",
       "    </tr>\n",
       "    <tr>\n",
       "      <th>1</th>\n",
       "      <td>is upset that he can't update his Facebook by texting it... and might cry as a result  School today also. Blah!</td>\n",
       "      <td>0</td>\n",
       "      <td>21</td>\n",
       "      <td>111</td>\n",
       "    </tr>\n",
       "    <tr>\n",
       "      <th>2</th>\n",
       "      <td>@Kenichan I dived many times for the ball. Managed to save 50%  The rest go out of bounds</td>\n",
       "      <td>0</td>\n",
       "      <td>18</td>\n",
       "      <td>89</td>\n",
       "    </tr>\n",
       "    <tr>\n",
       "      <th>3</th>\n",
       "      <td>my whole body feels itchy and like its on fire</td>\n",
       "      <td>0</td>\n",
       "      <td>10</td>\n",
       "      <td>47</td>\n",
       "    </tr>\n",
       "    <tr>\n",
       "      <th>4</th>\n",
       "      <td>@nationwideclass no, it's not behaving at all. i'm mad. why am i here? because I can't see you all over there.</td>\n",
       "      <td>0</td>\n",
       "      <td>21</td>\n",
       "      <td>111</td>\n",
       "    </tr>\n",
       "  </tbody>\n",
       "</table>\n",
       "</div>"
      ],
      "text/plain": [
       "                                                                                                                tweets  \\\n",
       "0  @switchfoot http://twitpic.com/2y1zl - Awww, that's a bummer.  You shoulda got David Carr of Third Day to do it. ;D   \n",
       "1      is upset that he can't update his Facebook by texting it... and might cry as a result  School today also. Blah!   \n",
       "2                            @Kenichan I dived many times for the ball. Managed to save 50%  The rest go out of bounds   \n",
       "3                                                                      my whole body feels itchy and like its on fire    \n",
       "4      @nationwideclass no, it's not behaving at all. i'm mad. why am i here? because I can't see you all over there.    \n",
       "\n",
       "   sentiment  word_counts  char_counts  \n",
       "0          0           19          115  \n",
       "1          0           21          111  \n",
       "2          0           18           89  \n",
       "3          0           10           47  \n",
       "4          0           21          111  "
      ]
     },
     "execution_count": 13,
     "metadata": {},
     "output_type": "execute_result"
    }
   ],
   "source": [
    "df.head()"
   ]
  },
  {
   "cell_type": "markdown",
   "id": "1d470203",
   "metadata": {},
   "source": [
    "##### Average characters per word ( average word length)"
   ]
  },
  {
   "cell_type": "code",
   "execution_count": 14,
   "id": "7e6ee6d9",
   "metadata": {
    "ExecuteTime": {
     "end_time": "2022-09-28T06:16:01.935175Z",
     "start_time": "2022-09-28T06:16:01.927903Z"
    }
   },
   "outputs": [],
   "source": [
    "def get_average_word_len(x):\n",
    "    words = x.split()\n",
    "    word_len = 0\n",
    "    for word in words:\n",
    "        word_len += len(word)\n",
    "    return word_len/len(words) # != len(x)/len(words)"
   ]
  },
  {
   "cell_type": "code",
   "execution_count": 15,
   "id": "7b534249",
   "metadata": {
    "ExecuteTime": {
     "end_time": "2022-09-28T06:16:04.080046Z",
     "start_time": "2022-09-28T06:16:01.936756Z"
    }
   },
   "outputs": [],
   "source": [
    "df['avg_word_len'] = df['tweets'].apply(lambda x: get_average_word_len(x))"
   ]
  },
  {
   "cell_type": "code",
   "execution_count": 16,
   "id": "b8e8bc7f",
   "metadata": {
    "ExecuteTime": {
     "end_time": "2022-09-28T06:16:04.088718Z",
     "start_time": "2022-09-28T06:16:04.081442Z"
    }
   },
   "outputs": [
    {
     "data": {
      "text/html": [
       "<div>\n",
       "<style scoped>\n",
       "    .dataframe tbody tr th:only-of-type {\n",
       "        vertical-align: middle;\n",
       "    }\n",
       "\n",
       "    .dataframe tbody tr th {\n",
       "        vertical-align: top;\n",
       "    }\n",
       "\n",
       "    .dataframe thead th {\n",
       "        text-align: right;\n",
       "    }\n",
       "</style>\n",
       "<table border=\"1\" class=\"dataframe\">\n",
       "  <thead>\n",
       "    <tr style=\"text-align: right;\">\n",
       "      <th></th>\n",
       "      <th>tweets</th>\n",
       "      <th>sentiment</th>\n",
       "      <th>word_counts</th>\n",
       "      <th>char_counts</th>\n",
       "      <th>avg_word_len</th>\n",
       "    </tr>\n",
       "  </thead>\n",
       "  <tbody>\n",
       "    <tr>\n",
       "      <th>0</th>\n",
       "      <td>@switchfoot http://twitpic.com/2y1zl - Awww, that's a bummer.  You shoulda got David Carr of Third Day to do it. ;D</td>\n",
       "      <td>0</td>\n",
       "      <td>19</td>\n",
       "      <td>115</td>\n",
       "      <td>5.052632</td>\n",
       "    </tr>\n",
       "    <tr>\n",
       "      <th>1</th>\n",
       "      <td>is upset that he can't update his Facebook by texting it... and might cry as a result  School today also. Blah!</td>\n",
       "      <td>0</td>\n",
       "      <td>21</td>\n",
       "      <td>111</td>\n",
       "      <td>4.285714</td>\n",
       "    </tr>\n",
       "    <tr>\n",
       "      <th>2</th>\n",
       "      <td>@Kenichan I dived many times for the ball. Managed to save 50%  The rest go out of bounds</td>\n",
       "      <td>0</td>\n",
       "      <td>18</td>\n",
       "      <td>89</td>\n",
       "      <td>3.944444</td>\n",
       "    </tr>\n",
       "    <tr>\n",
       "      <th>3</th>\n",
       "      <td>my whole body feels itchy and like its on fire</td>\n",
       "      <td>0</td>\n",
       "      <td>10</td>\n",
       "      <td>47</td>\n",
       "      <td>3.700000</td>\n",
       "    </tr>\n",
       "    <tr>\n",
       "      <th>4</th>\n",
       "      <td>@nationwideclass no, it's not behaving at all. i'm mad. why am i here? because I can't see you all over there.</td>\n",
       "      <td>0</td>\n",
       "      <td>21</td>\n",
       "      <td>111</td>\n",
       "      <td>4.285714</td>\n",
       "    </tr>\n",
       "  </tbody>\n",
       "</table>\n",
       "</div>"
      ],
      "text/plain": [
       "                                                                                                                tweets  \\\n",
       "0  @switchfoot http://twitpic.com/2y1zl - Awww, that's a bummer.  You shoulda got David Carr of Third Day to do it. ;D   \n",
       "1      is upset that he can't update his Facebook by texting it... and might cry as a result  School today also. Blah!   \n",
       "2                            @Kenichan I dived many times for the ball. Managed to save 50%  The rest go out of bounds   \n",
       "3                                                                      my whole body feels itchy and like its on fire    \n",
       "4      @nationwideclass no, it's not behaving at all. i'm mad. why am i here? because I can't see you all over there.    \n",
       "\n",
       "   sentiment  word_counts  char_counts  avg_word_len  \n",
       "0          0           19          115      5.052632  \n",
       "1          0           21          111      4.285714  \n",
       "2          0           18           89      3.944444  \n",
       "3          0           10           47      3.700000  \n",
       "4          0           21          111      4.285714  "
      ]
     },
     "execution_count": 16,
     "metadata": {},
     "output_type": "execute_result"
    }
   ],
   "source": [
    "df.head()"
   ]
  },
  {
   "cell_type": "markdown",
   "id": "450ed2c7",
   "metadata": {},
   "source": [
    "##### Stop words count"
   ]
  },
  {
   "cell_type": "code",
   "execution_count": 17,
   "id": "3082b376",
   "metadata": {
    "ExecuteTime": {
     "end_time": "2022-09-28T06:16:08.254523Z",
     "start_time": "2022-09-28T06:16:04.090163Z"
    }
   },
   "outputs": [
    {
     "name": "stderr",
     "output_type": "stream",
     "text": [
      "2022-09-28 12:16:04.493173: I tensorflow/stream_executor/platform/default/dso_loader.cc:49] Successfully opened dynamic library libcudart.so.10.1\n",
      "2022-09-28 12:16:07.749946: I tensorflow/compiler/jit/xla_cpu_device.cc:41] Not creating XLA devices, tf_xla_enable_xla_devices not set\n",
      "2022-09-28 12:16:07.750151: W tensorflow/stream_executor/platform/default/dso_loader.cc:60] Could not load dynamic library 'libcuda.so.1'; dlerror: libcuda.so.1: cannot open shared object file: No such file or directory\n",
      "2022-09-28 12:16:07.750160: W tensorflow/stream_executor/cuda/cuda_driver.cc:326] failed call to cuInit: UNKNOWN ERROR (303)\n",
      "2022-09-28 12:16:07.750175: I tensorflow/stream_executor/cuda/cuda_diagnostics.cc:156] kernel driver does not appear to be running on this host (arafat-pc): /proc/driver/nvidia/version does not exist\n"
     ]
    }
   ],
   "source": [
    "import spacy\n",
    "from spacy.lang.en.stop_words import STOP_WORDS"
   ]
  },
  {
   "cell_type": "code",
   "execution_count": 18,
   "id": "41376004",
   "metadata": {
    "ExecuteTime": {
     "end_time": "2022-09-28T06:16:08.258369Z",
     "start_time": "2022-09-28T06:16:08.255665Z"
    }
   },
   "outputs": [
    {
     "name": "stdout",
     "output_type": "stream",
     "text": [
      "{'has', 'most', 'noone', 'becoming', 'to', 'it', 'will', 'her', 'no', 'been', 'then', 'back', 'unless', 'though', 'say', 'over', 'mostly', 'on', 'via', 'sixty', 'ourselves', 'nine', 'as', 'ca', 'once', 'nor', 'down', 'another', 'do', 'more', 'by', 'thereafter', 'used', 'yourselves', 'together', 'and', 'could', 'please', 'i', 'our', 'beside', 'namely', 'get', '‘s', 'whatever', 'those', 'ever', 'several', 'who', 'much', 'other', 'are', 'already', \"'s\", 'hundred', 'therein', 'many', 'your', 'using', 'might', 'therefore', 'done', 'after', 'well', 'about', 'very', 'show', 'various', '’m', 'everywhere', 'ten', 'their', 'because', 'forty', 'one', 'n’t', 'last', 'neither', 'whose', 'he', 'made', 'twenty', 'across', 'perhaps', 'themselves', 'hers', 'would', 'although', 'toward', 'anything', 'front', 'from', 'n‘t', 'either', 'have', 'an', 'there', 'again', 'through', 'such', 'why', 'two', 'whenever', 'here', \"'m\", 'make', 'amongst', 'eight', 'nowhere', 'four', 'before', '’d', 'somehow', 'within', 'below', 'move', 'not', 'seemed', 'least', 'may', 'twelve', 'whereby', 'where', 'top', 'due', 'upon', 'than', 'often', 'moreover', 'which', 'cannot', 'third', 'hereafter', 'hereupon', 'beyond', 'had', 'go', 'of', 'whence', 'former', 'a', 'mine', 'if', 'somewhere', 'enough', 'throughout', 'anyone', 'side', 'whether', 'or', 'while', 'among', 'in', 'otherwise', 'fifty', 'except', 'else', 'myself', 'only', 'the', 'whom', 'yet', 'now', 'formerly', 'herein', 'further', 'both', 'name', 'whereafter', 'his', 'seem', 'latter', \"'ve\", 'behind', 're', '’re', 'onto', 'keep', 'next', 'nobody', 'you', 'same', '‘re', 'others', 'so', 'wherein', 'none', 'whereas', 'three', 'whereupon', 'be', 'part', 'these', 'against', '‘m', 'thereby', 'during', 'even', 'whole', 'anyway', 'quite', 'rather', 'beforehand', 'around', 'does', 'at', 'them', 'for', 'give', 'thence', 'see', 'my', 'into', 'each', 'eleven', 'herself', 'latterly', 'did', 'under', \"'re\", 'me', 'out', 'am', 'along', 'really', 'anyhow', 'ours', 'something', 'elsewhere', 'alone', 'off', 'whoever', 'serious', 'amount', 'without', 'can', 'she', 'up', \"'d\", 'they', 'doing', 'we', 'full', 'is', 'yourself', 'less', 'become', 'six', 'take', 'besides', 'almost', 'itself', '’ve', 'some', 'becomes', 'everything', 'few', 'someone', 'wherever', 'himself', 'its', 'all', 'thereupon', 'towards', 'anywhere', 'nevertheless', '’ll', 'him', 'put', 'never', 'fifteen', 'seems', 'nothing', '‘ll', 'call', 'everyone', 'afterwards', 'seeming', 'regarding', 'hereby', 'were', 'whither', 'until', 'per', \"n't\", 'must', 'above', 'yours', 'just', 'sometimes', 'thru', 'this', 'thus', 'too', 'hence', 'always', 'still', 'since', 'us', 'with', '’s', 'any', 'that', 'every', 'first', 'bottom', 'was', 'became', 'five', 'should', 'indeed', 'own', 'empty', 'meanwhile', 'sometime', 'what', 'between', '‘d', 'however', 'being', 'how', '‘ve', 'also', \"'ll\", 'when', 'but'}\n"
     ]
    }
   ],
   "source": [
    "# for finding the semantic meaning of a sentense, stopword is important.\n",
    "# before delete stop word, think what you want to do.\n",
    "print(STOP_WORDS)"
   ]
  },
  {
   "cell_type": "code",
   "execution_count": 19,
   "id": "5ba05938",
   "metadata": {
    "ExecuteTime": {
     "end_time": "2022-09-28T06:16:08.264602Z",
     "start_time": "2022-09-28T06:16:08.260088Z"
    }
   },
   "outputs": [
    {
     "data": {
      "text/plain": [
       "['my', 'name', 'is']"
      ]
     },
     "execution_count": 19,
     "metadata": {},
     "output_type": "execute_result"
    }
   ],
   "source": [
    "# example of creating a list that's contain stopwords and find the len of that list.\n",
    "x = 'my name is arafat'\n",
    "[word for word in x.split() if word in STOP_WORDS]"
   ]
  },
  {
   "cell_type": "code",
   "execution_count": 20,
   "id": "003ef626",
   "metadata": {
    "ExecuteTime": {
     "end_time": "2022-09-28T06:16:08.270658Z",
     "start_time": "2022-09-28T06:16:08.266357Z"
    },
    "scrolled": true
   },
   "outputs": [
    {
     "data": {
      "text/plain": [
       "3"
      ]
     },
     "execution_count": 20,
     "metadata": {},
     "output_type": "execute_result"
    }
   ],
   "source": [
    "len([word for word in x.split() if word in STOP_WORDS])"
   ]
  },
  {
   "cell_type": "code",
   "execution_count": null,
   "id": "8d42f7eb",
   "metadata": {},
   "outputs": [],
   "source": []
  },
  {
   "cell_type": "code",
   "execution_count": 21,
   "id": "e89b1c36",
   "metadata": {
    "ExecuteTime": {
     "end_time": "2022-09-28T06:16:11.231141Z",
     "start_time": "2022-09-28T06:16:08.272765Z"
    }
   },
   "outputs": [],
   "source": [
    "df['stop_word_len'] =  df['tweets'].apply(lambda x: len([word for word in x.split() if word in STOP_WORDS]))"
   ]
  },
  {
   "cell_type": "code",
   "execution_count": 22,
   "id": "1c7e8831",
   "metadata": {
    "ExecuteTime": {
     "end_time": "2022-09-28T06:16:11.242404Z",
     "start_time": "2022-09-28T06:16:11.232452Z"
    }
   },
   "outputs": [
    {
     "data": {
      "text/html": [
       "<div>\n",
       "<style scoped>\n",
       "    .dataframe tbody tr th:only-of-type {\n",
       "        vertical-align: middle;\n",
       "    }\n",
       "\n",
       "    .dataframe tbody tr th {\n",
       "        vertical-align: top;\n",
       "    }\n",
       "\n",
       "    .dataframe thead th {\n",
       "        text-align: right;\n",
       "    }\n",
       "</style>\n",
       "<table border=\"1\" class=\"dataframe\">\n",
       "  <thead>\n",
       "    <tr style=\"text-align: right;\">\n",
       "      <th></th>\n",
       "      <th>tweets</th>\n",
       "      <th>sentiment</th>\n",
       "      <th>word_counts</th>\n",
       "      <th>char_counts</th>\n",
       "      <th>avg_word_len</th>\n",
       "      <th>stop_word_len</th>\n",
       "    </tr>\n",
       "  </thead>\n",
       "  <tbody>\n",
       "    <tr>\n",
       "      <th>0</th>\n",
       "      <td>@switchfoot http://twitpic.com/2y1zl - Awww, that's a bummer.  You shoulda got David Carr of Third Day to do it. ;D</td>\n",
       "      <td>0</td>\n",
       "      <td>19</td>\n",
       "      <td>115</td>\n",
       "      <td>5.052632</td>\n",
       "      <td>4</td>\n",
       "    </tr>\n",
       "    <tr>\n",
       "      <th>1</th>\n",
       "      <td>is upset that he can't update his Facebook by texting it... and might cry as a result  School today also. Blah!</td>\n",
       "      <td>0</td>\n",
       "      <td>21</td>\n",
       "      <td>111</td>\n",
       "      <td>4.285714</td>\n",
       "      <td>9</td>\n",
       "    </tr>\n",
       "    <tr>\n",
       "      <th>2</th>\n",
       "      <td>@Kenichan I dived many times for the ball. Managed to save 50%  The rest go out of bounds</td>\n",
       "      <td>0</td>\n",
       "      <td>18</td>\n",
       "      <td>89</td>\n",
       "      <td>3.944444</td>\n",
       "      <td>7</td>\n",
       "    </tr>\n",
       "    <tr>\n",
       "      <th>3</th>\n",
       "      <td>my whole body feels itchy and like its on fire</td>\n",
       "      <td>0</td>\n",
       "      <td>10</td>\n",
       "      <td>47</td>\n",
       "      <td>3.700000</td>\n",
       "      <td>5</td>\n",
       "    </tr>\n",
       "    <tr>\n",
       "      <th>4</th>\n",
       "      <td>@nationwideclass no, it's not behaving at all. i'm mad. why am i here? because I can't see you all over there.</td>\n",
       "      <td>0</td>\n",
       "      <td>21</td>\n",
       "      <td>111</td>\n",
       "      <td>4.285714</td>\n",
       "      <td>10</td>\n",
       "    </tr>\n",
       "  </tbody>\n",
       "</table>\n",
       "</div>"
      ],
      "text/plain": [
       "                                                                                                                tweets  \\\n",
       "0  @switchfoot http://twitpic.com/2y1zl - Awww, that's a bummer.  You shoulda got David Carr of Third Day to do it. ;D   \n",
       "1      is upset that he can't update his Facebook by texting it... and might cry as a result  School today also. Blah!   \n",
       "2                            @Kenichan I dived many times for the ball. Managed to save 50%  The rest go out of bounds   \n",
       "3                                                                      my whole body feels itchy and like its on fire    \n",
       "4      @nationwideclass no, it's not behaving at all. i'm mad. why am i here? because I can't see you all over there.    \n",
       "\n",
       "   sentiment  word_counts  char_counts  avg_word_len  stop_word_len  \n",
       "0          0           19          115      5.052632              4  \n",
       "1          0           21          111      4.285714              9  \n",
       "2          0           18           89      3.944444              7  \n",
       "3          0           10           47      3.700000              5  \n",
       "4          0           21          111      4.285714             10  "
      ]
     },
     "execution_count": 22,
     "metadata": {},
     "output_type": "execute_result"
    }
   ],
   "source": [
    "df.head()"
   ]
  },
  {
   "cell_type": "markdown",
   "id": "9f47e0cb",
   "metadata": {},
   "source": [
    "##### Count #Hash Tags and @Mentions"
   ]
  },
  {
   "cell_type": "code",
   "execution_count": 23,
   "id": "61f69d4e",
   "metadata": {
    "ExecuteTime": {
     "end_time": "2022-09-28T06:16:11.252302Z",
     "start_time": "2022-09-28T06:16:11.244508Z"
    }
   },
   "outputs": [
    {
     "data": {
      "text/plain": [
       "['this', 'is', '#hashtag', 'and', 'this', 'is', '@mention']"
      ]
     },
     "execution_count": 23,
     "metadata": {},
     "output_type": "execute_result"
    }
   ],
   "source": [
    "# EX:\n",
    "x = 'this is #hashtag and this is @mention'\n",
    "x.split()"
   ]
  },
  {
   "cell_type": "code",
   "execution_count": 24,
   "id": "04b1a433",
   "metadata": {
    "ExecuteTime": {
     "end_time": "2022-09-28T06:16:11.256673Z",
     "start_time": "2022-09-28T06:16:11.253557Z"
    }
   },
   "outputs": [
    {
     "data": {
      "text/plain": [
       "['#hashtag']"
      ]
     },
     "execution_count": 24,
     "metadata": {},
     "output_type": "execute_result"
    }
   ],
   "source": [
    "# string.startswith(value, start, end)\n",
    "li = [word for word in x.split() if word.startswith('#')]\n",
    "li"
   ]
  },
  {
   "cell_type": "code",
   "execution_count": 25,
   "id": "970404b0",
   "metadata": {
    "ExecuteTime": {
     "end_time": "2022-09-28T06:16:11.266687Z",
     "start_time": "2022-09-28T06:16:11.261213Z"
    }
   },
   "outputs": [
    {
     "data": {
      "text/plain": [
       "['#hashtag', '@mention']"
      ]
     },
     "execution_count": 25,
     "metadata": {},
     "output_type": "execute_result"
    }
   ],
   "source": [
    "li = [word for word in x.split() if word.startswith(('#','@'))]\n",
    "li"
   ]
  },
  {
   "cell_type": "code",
   "execution_count": 26,
   "id": "5c04d3a5",
   "metadata": {
    "ExecuteTime": {
     "end_time": "2022-09-28T06:16:11.272507Z",
     "start_time": "2022-09-28T06:16:11.268502Z"
    }
   },
   "outputs": [
    {
     "data": {
      "text/plain": [
       "['#hashtag', '@mention']"
      ]
     },
     "execution_count": 26,
     "metadata": {},
     "output_type": "execute_result"
    }
   ],
   "source": [
    "li = [word for word in x.split() if word.startswith(('#','@'),0,3)]\n",
    "li"
   ]
  },
  {
   "cell_type": "code",
   "execution_count": null,
   "id": "092a75d1",
   "metadata": {},
   "outputs": [],
   "source": []
  },
  {
   "cell_type": "code",
   "execution_count": 27,
   "id": "cfc9f41d",
   "metadata": {
    "ExecuteTime": {
     "end_time": "2022-09-28T06:16:17.340476Z",
     "start_time": "2022-09-28T06:16:11.274223Z"
    }
   },
   "outputs": [],
   "source": [
    "df['#_counts'] = df['tweets'].apply(lambda x: len([word for word in x.split() if word.startswith('#')]))\n",
    "df['@_counts'] = df['tweets'].apply(lambda x: len([word for word in x.split() if word.startswith('@')]))"
   ]
  },
  {
   "cell_type": "code",
   "execution_count": 28,
   "id": "370ee526",
   "metadata": {
    "ExecuteTime": {
     "end_time": "2022-09-28T06:16:17.349531Z",
     "start_time": "2022-09-28T06:16:17.341622Z"
    }
   },
   "outputs": [
    {
     "data": {
      "text/html": [
       "<div>\n",
       "<style scoped>\n",
       "    .dataframe tbody tr th:only-of-type {\n",
       "        vertical-align: middle;\n",
       "    }\n",
       "\n",
       "    .dataframe tbody tr th {\n",
       "        vertical-align: top;\n",
       "    }\n",
       "\n",
       "    .dataframe thead th {\n",
       "        text-align: right;\n",
       "    }\n",
       "</style>\n",
       "<table border=\"1\" class=\"dataframe\">\n",
       "  <thead>\n",
       "    <tr style=\"text-align: right;\">\n",
       "      <th></th>\n",
       "      <th>tweets</th>\n",
       "      <th>sentiment</th>\n",
       "      <th>word_counts</th>\n",
       "      <th>char_counts</th>\n",
       "      <th>avg_word_len</th>\n",
       "      <th>stop_word_len</th>\n",
       "      <th>#_counts</th>\n",
       "      <th>@_counts</th>\n",
       "    </tr>\n",
       "  </thead>\n",
       "  <tbody>\n",
       "    <tr>\n",
       "      <th>0</th>\n",
       "      <td>@switchfoot http://twitpic.com/2y1zl - Awww, that's a bummer.  You shoulda got David Carr of Third Day to do it. ;D</td>\n",
       "      <td>0</td>\n",
       "      <td>19</td>\n",
       "      <td>115</td>\n",
       "      <td>5.052632</td>\n",
       "      <td>4</td>\n",
       "      <td>0</td>\n",
       "      <td>1</td>\n",
       "    </tr>\n",
       "    <tr>\n",
       "      <th>1</th>\n",
       "      <td>is upset that he can't update his Facebook by texting it... and might cry as a result  School today also. Blah!</td>\n",
       "      <td>0</td>\n",
       "      <td>21</td>\n",
       "      <td>111</td>\n",
       "      <td>4.285714</td>\n",
       "      <td>9</td>\n",
       "      <td>0</td>\n",
       "      <td>0</td>\n",
       "    </tr>\n",
       "    <tr>\n",
       "      <th>2</th>\n",
       "      <td>@Kenichan I dived many times for the ball. Managed to save 50%  The rest go out of bounds</td>\n",
       "      <td>0</td>\n",
       "      <td>18</td>\n",
       "      <td>89</td>\n",
       "      <td>3.944444</td>\n",
       "      <td>7</td>\n",
       "      <td>0</td>\n",
       "      <td>1</td>\n",
       "    </tr>\n",
       "    <tr>\n",
       "      <th>3</th>\n",
       "      <td>my whole body feels itchy and like its on fire</td>\n",
       "      <td>0</td>\n",
       "      <td>10</td>\n",
       "      <td>47</td>\n",
       "      <td>3.700000</td>\n",
       "      <td>5</td>\n",
       "      <td>0</td>\n",
       "      <td>0</td>\n",
       "    </tr>\n",
       "    <tr>\n",
       "      <th>4</th>\n",
       "      <td>@nationwideclass no, it's not behaving at all. i'm mad. why am i here? because I can't see you all over there.</td>\n",
       "      <td>0</td>\n",
       "      <td>21</td>\n",
       "      <td>111</td>\n",
       "      <td>4.285714</td>\n",
       "      <td>10</td>\n",
       "      <td>0</td>\n",
       "      <td>1</td>\n",
       "    </tr>\n",
       "  </tbody>\n",
       "</table>\n",
       "</div>"
      ],
      "text/plain": [
       "                                                                                                                tweets  \\\n",
       "0  @switchfoot http://twitpic.com/2y1zl - Awww, that's a bummer.  You shoulda got David Carr of Third Day to do it. ;D   \n",
       "1      is upset that he can't update his Facebook by texting it... and might cry as a result  School today also. Blah!   \n",
       "2                            @Kenichan I dived many times for the ball. Managed to save 50%  The rest go out of bounds   \n",
       "3                                                                      my whole body feels itchy and like its on fire    \n",
       "4      @nationwideclass no, it's not behaving at all. i'm mad. why am i here? because I can't see you all over there.    \n",
       "\n",
       "   sentiment  word_counts  char_counts  avg_word_len  stop_word_len  #_counts  \\\n",
       "0          0           19          115      5.052632              4         0   \n",
       "1          0           21          111      4.285714              9         0   \n",
       "2          0           18           89      3.944444              7         0   \n",
       "3          0           10           47      3.700000              5         0   \n",
       "4          0           21          111      4.285714             10         0   \n",
       "\n",
       "   @_counts  \n",
       "0         1  \n",
       "1         0  \n",
       "2         1  \n",
       "3         0  \n",
       "4         1  "
      ]
     },
     "execution_count": 28,
     "metadata": {},
     "output_type": "execute_result"
    }
   ],
   "source": [
    "df.head()\n",
    "#30 min"
   ]
  },
  {
   "cell_type": "markdown",
   "id": "c6bec447",
   "metadata": {},
   "source": [
    "##### if Numeric digits are present in twits"
   ]
  },
  {
   "cell_type": "code",
   "execution_count": 29,
   "id": "34a337c9",
   "metadata": {
    "ExecuteTime": {
     "end_time": "2022-09-28T06:16:19.732112Z",
     "start_time": "2022-09-28T06:16:17.351708Z"
    }
   },
   "outputs": [],
   "source": [
    "df['numeric_counts'] = df['tweets'].apply(lambda x: len([word for word in x.split() if word.isdigit()]))"
   ]
  },
  {
   "cell_type": "code",
   "execution_count": 30,
   "id": "93ef0c87",
   "metadata": {
    "ExecuteTime": {
     "end_time": "2022-09-28T06:16:19.742006Z",
     "start_time": "2022-09-28T06:16:19.733439Z"
    }
   },
   "outputs": [
    {
     "data": {
      "text/html": [
       "<div>\n",
       "<style scoped>\n",
       "    .dataframe tbody tr th:only-of-type {\n",
       "        vertical-align: middle;\n",
       "    }\n",
       "\n",
       "    .dataframe tbody tr th {\n",
       "        vertical-align: top;\n",
       "    }\n",
       "\n",
       "    .dataframe thead th {\n",
       "        text-align: right;\n",
       "    }\n",
       "</style>\n",
       "<table border=\"1\" class=\"dataframe\">\n",
       "  <thead>\n",
       "    <tr style=\"text-align: right;\">\n",
       "      <th></th>\n",
       "      <th>tweets</th>\n",
       "      <th>sentiment</th>\n",
       "      <th>word_counts</th>\n",
       "      <th>char_counts</th>\n",
       "      <th>avg_word_len</th>\n",
       "      <th>stop_word_len</th>\n",
       "      <th>#_counts</th>\n",
       "      <th>@_counts</th>\n",
       "      <th>numeric_counts</th>\n",
       "    </tr>\n",
       "  </thead>\n",
       "  <tbody>\n",
       "    <tr>\n",
       "      <th>0</th>\n",
       "      <td>@switchfoot http://twitpic.com/2y1zl - Awww, that's a bummer.  You shoulda got David Carr of Third Day to do it. ;D</td>\n",
       "      <td>0</td>\n",
       "      <td>19</td>\n",
       "      <td>115</td>\n",
       "      <td>5.052632</td>\n",
       "      <td>4</td>\n",
       "      <td>0</td>\n",
       "      <td>1</td>\n",
       "      <td>0</td>\n",
       "    </tr>\n",
       "    <tr>\n",
       "      <th>1</th>\n",
       "      <td>is upset that he can't update his Facebook by texting it... and might cry as a result  School today also. Blah!</td>\n",
       "      <td>0</td>\n",
       "      <td>21</td>\n",
       "      <td>111</td>\n",
       "      <td>4.285714</td>\n",
       "      <td>9</td>\n",
       "      <td>0</td>\n",
       "      <td>0</td>\n",
       "      <td>0</td>\n",
       "    </tr>\n",
       "    <tr>\n",
       "      <th>2</th>\n",
       "      <td>@Kenichan I dived many times for the ball. Managed to save 50%  The rest go out of bounds</td>\n",
       "      <td>0</td>\n",
       "      <td>18</td>\n",
       "      <td>89</td>\n",
       "      <td>3.944444</td>\n",
       "      <td>7</td>\n",
       "      <td>0</td>\n",
       "      <td>1</td>\n",
       "      <td>0</td>\n",
       "    </tr>\n",
       "    <tr>\n",
       "      <th>3</th>\n",
       "      <td>my whole body feels itchy and like its on fire</td>\n",
       "      <td>0</td>\n",
       "      <td>10</td>\n",
       "      <td>47</td>\n",
       "      <td>3.700000</td>\n",
       "      <td>5</td>\n",
       "      <td>0</td>\n",
       "      <td>0</td>\n",
       "      <td>0</td>\n",
       "    </tr>\n",
       "    <tr>\n",
       "      <th>4</th>\n",
       "      <td>@nationwideclass no, it's not behaving at all. i'm mad. why am i here? because I can't see you all over there.</td>\n",
       "      <td>0</td>\n",
       "      <td>21</td>\n",
       "      <td>111</td>\n",
       "      <td>4.285714</td>\n",
       "      <td>10</td>\n",
       "      <td>0</td>\n",
       "      <td>1</td>\n",
       "      <td>0</td>\n",
       "    </tr>\n",
       "  </tbody>\n",
       "</table>\n",
       "</div>"
      ],
      "text/plain": [
       "                                                                                                                tweets  \\\n",
       "0  @switchfoot http://twitpic.com/2y1zl - Awww, that's a bummer.  You shoulda got David Carr of Third Day to do it. ;D   \n",
       "1      is upset that he can't update his Facebook by texting it... and might cry as a result  School today also. Blah!   \n",
       "2                            @Kenichan I dived many times for the ball. Managed to save 50%  The rest go out of bounds   \n",
       "3                                                                      my whole body feels itchy and like its on fire    \n",
       "4      @nationwideclass no, it's not behaving at all. i'm mad. why am i here? because I can't see you all over there.    \n",
       "\n",
       "   sentiment  word_counts  char_counts  avg_word_len  stop_word_len  #_counts  \\\n",
       "0          0           19          115      5.052632              4         0   \n",
       "1          0           21          111      4.285714              9         0   \n",
       "2          0           18           89      3.944444              7         0   \n",
       "3          0           10           47      3.700000              5         0   \n",
       "4          0           21          111      4.285714             10         0   \n",
       "\n",
       "   @_counts  numeric_counts  \n",
       "0         1               0  \n",
       "1         0               0  \n",
       "2         1               0  \n",
       "3         0               0  \n",
       "4         1               0  "
      ]
     },
     "execution_count": 30,
     "metadata": {},
     "output_type": "execute_result"
    }
   ],
   "source": [
    "df.head()"
   ]
  },
  {
   "cell_type": "markdown",
   "id": "77b95021",
   "metadata": {},
   "source": [
    "##### Upper case word counts"
   ]
  },
  {
   "cell_type": "code",
   "execution_count": 31,
   "id": "5a9038ce",
   "metadata": {
    "ExecuteTime": {
     "end_time": "2022-09-28T06:16:22.339317Z",
     "start_time": "2022-09-28T06:16:19.743961Z"
    }
   },
   "outputs": [],
   "source": [
    "df['upper_counts'] = df['tweets'].apply(lambda x: len([word for word in x.split() if word.isupper() and len(x)>3 ]))"
   ]
  },
  {
   "cell_type": "code",
   "execution_count": 32,
   "id": "cecef7e2",
   "metadata": {
    "ExecuteTime": {
     "end_time": "2022-09-28T06:16:22.349569Z",
     "start_time": "2022-09-28T06:16:22.340642Z"
    }
   },
   "outputs": [
    {
     "data": {
      "text/html": [
       "<div>\n",
       "<style scoped>\n",
       "    .dataframe tbody tr th:only-of-type {\n",
       "        vertical-align: middle;\n",
       "    }\n",
       "\n",
       "    .dataframe tbody tr th {\n",
       "        vertical-align: top;\n",
       "    }\n",
       "\n",
       "    .dataframe thead th {\n",
       "        text-align: right;\n",
       "    }\n",
       "</style>\n",
       "<table border=\"1\" class=\"dataframe\">\n",
       "  <thead>\n",
       "    <tr style=\"text-align: right;\">\n",
       "      <th></th>\n",
       "      <th>tweets</th>\n",
       "      <th>sentiment</th>\n",
       "      <th>word_counts</th>\n",
       "      <th>char_counts</th>\n",
       "      <th>avg_word_len</th>\n",
       "      <th>stop_word_len</th>\n",
       "      <th>#_counts</th>\n",
       "      <th>@_counts</th>\n",
       "      <th>numeric_counts</th>\n",
       "      <th>upper_counts</th>\n",
       "    </tr>\n",
       "  </thead>\n",
       "  <tbody>\n",
       "    <tr>\n",
       "      <th>0</th>\n",
       "      <td>@switchfoot http://twitpic.com/2y1zl - Awww, that's a bummer.  You shoulda got David Carr of Third Day to do it. ;D</td>\n",
       "      <td>0</td>\n",
       "      <td>19</td>\n",
       "      <td>115</td>\n",
       "      <td>5.052632</td>\n",
       "      <td>4</td>\n",
       "      <td>0</td>\n",
       "      <td>1</td>\n",
       "      <td>0</td>\n",
       "      <td>1</td>\n",
       "    </tr>\n",
       "    <tr>\n",
       "      <th>1</th>\n",
       "      <td>is upset that he can't update his Facebook by texting it... and might cry as a result  School today also. Blah!</td>\n",
       "      <td>0</td>\n",
       "      <td>21</td>\n",
       "      <td>111</td>\n",
       "      <td>4.285714</td>\n",
       "      <td>9</td>\n",
       "      <td>0</td>\n",
       "      <td>0</td>\n",
       "      <td>0</td>\n",
       "      <td>0</td>\n",
       "    </tr>\n",
       "    <tr>\n",
       "      <th>2</th>\n",
       "      <td>@Kenichan I dived many times for the ball. Managed to save 50%  The rest go out of bounds</td>\n",
       "      <td>0</td>\n",
       "      <td>18</td>\n",
       "      <td>89</td>\n",
       "      <td>3.944444</td>\n",
       "      <td>7</td>\n",
       "      <td>0</td>\n",
       "      <td>1</td>\n",
       "      <td>0</td>\n",
       "      <td>1</td>\n",
       "    </tr>\n",
       "    <tr>\n",
       "      <th>3</th>\n",
       "      <td>my whole body feels itchy and like its on fire</td>\n",
       "      <td>0</td>\n",
       "      <td>10</td>\n",
       "      <td>47</td>\n",
       "      <td>3.700000</td>\n",
       "      <td>5</td>\n",
       "      <td>0</td>\n",
       "      <td>0</td>\n",
       "      <td>0</td>\n",
       "      <td>0</td>\n",
       "    </tr>\n",
       "    <tr>\n",
       "      <th>4</th>\n",
       "      <td>@nationwideclass no, it's not behaving at all. i'm mad. why am i here? because I can't see you all over there.</td>\n",
       "      <td>0</td>\n",
       "      <td>21</td>\n",
       "      <td>111</td>\n",
       "      <td>4.285714</td>\n",
       "      <td>10</td>\n",
       "      <td>0</td>\n",
       "      <td>1</td>\n",
       "      <td>0</td>\n",
       "      <td>1</td>\n",
       "    </tr>\n",
       "  </tbody>\n",
       "</table>\n",
       "</div>"
      ],
      "text/plain": [
       "                                                                                                                tweets  \\\n",
       "0  @switchfoot http://twitpic.com/2y1zl - Awww, that's a bummer.  You shoulda got David Carr of Third Day to do it. ;D   \n",
       "1      is upset that he can't update his Facebook by texting it... and might cry as a result  School today also. Blah!   \n",
       "2                            @Kenichan I dived many times for the ball. Managed to save 50%  The rest go out of bounds   \n",
       "3                                                                      my whole body feels itchy and like its on fire    \n",
       "4      @nationwideclass no, it's not behaving at all. i'm mad. why am i here? because I can't see you all over there.    \n",
       "\n",
       "   sentiment  word_counts  char_counts  avg_word_len  stop_word_len  #_counts  \\\n",
       "0          0           19          115      5.052632              4         0   \n",
       "1          0           21          111      4.285714              9         0   \n",
       "2          0           18           89      3.944444              7         0   \n",
       "3          0           10           47      3.700000              5         0   \n",
       "4          0           21          111      4.285714             10         0   \n",
       "\n",
       "   @_counts  numeric_counts  upper_counts  \n",
       "0         1               0             1  \n",
       "1         0               0             0  \n",
       "2         1               0             1  \n",
       "3         0               0             0  \n",
       "4         1               0             1  "
      ]
     },
     "execution_count": 32,
     "metadata": {},
     "output_type": "execute_result"
    }
   ],
   "source": [
    "df.head()"
   ]
  },
  {
   "cell_type": "code",
   "execution_count": 33,
   "id": "7b897521",
   "metadata": {
    "ExecuteTime": {
     "end_time": "2022-09-28T06:16:22.403128Z",
     "start_time": "2022-09-28T06:16:22.351314Z"
    }
   },
   "outputs": [
    {
     "data": {
      "text/plain": [
       "\"so rylee,grace...wana go steve's party or not?? SADLY SINCE ITS EASTER I WNT B ABLE 2 DO MUCH  BUT OHH WELL.....\""
      ]
     },
     "execution_count": 33,
     "metadata": {},
     "output_type": "execute_result"
    }
   ],
   "source": [
    "df.loc[96]['tweets']"
   ]
  },
  {
   "cell_type": "code",
   "execution_count": 34,
   "id": "d56f6637",
   "metadata": {
    "ExecuteTime": {
     "end_time": "2022-09-28T06:16:22.408806Z",
     "start_time": "2022-09-28T06:16:22.404380Z"
    },
    "scrolled": true
   },
   "outputs": [
    {
     "data": {
      "text/plain": [
       "tweets            so rylee,grace...wana go steve's party or not?? SADLY SINCE ITS EASTER I WNT B ABLE 2 DO MUCH  BUT OHH WELL.....\n",
       "sentiment                                                                                                                        0\n",
       "word_counts                                                                                                                     21\n",
       "char_counts                                                                                                                    112\n",
       "avg_word_len                                                                                                              4.333333\n",
       "stop_word_len                                                                                                                    3\n",
       "#_counts                                                                                                                         0\n",
       "@_counts                                                                                                                         0\n",
       "numeric_counts                                                                                                                   1\n",
       "upper_counts                                                                                                                    13\n",
       "Name: 96, dtype: object"
      ]
     },
     "execution_count": 34,
     "metadata": {},
     "output_type": "execute_result"
    }
   ],
   "source": [
    "df.loc[96]"
   ]
  },
  {
   "cell_type": "markdown",
   "id": "0890a8fa",
   "metadata": {},
   "source": [
    "# Preprocessing and Cleaning\n"
   ]
  },
  {
   "cell_type": "markdown",
   "id": "1852fc33",
   "metadata": {},
   "source": [
    "##### Lower case"
   ]
  },
  {
   "cell_type": "code",
   "execution_count": 35,
   "id": "af86963a",
   "metadata": {
    "ExecuteTime": {
     "end_time": "2022-09-28T06:16:22.768136Z",
     "start_time": "2022-09-28T06:16:22.410156Z"
    }
   },
   "outputs": [],
   "source": [
    "df['tweets'] = df['tweets'].apply(lambda x: x.lower())"
   ]
  },
  {
   "cell_type": "code",
   "execution_count": 36,
   "id": "e4c52e99",
   "metadata": {
    "ExecuteTime": {
     "end_time": "2022-09-28T06:16:22.783171Z",
     "start_time": "2022-09-28T06:16:22.770470Z"
    }
   },
   "outputs": [
    {
     "data": {
      "text/html": [
       "<div>\n",
       "<style scoped>\n",
       "    .dataframe tbody tr th:only-of-type {\n",
       "        vertical-align: middle;\n",
       "    }\n",
       "\n",
       "    .dataframe tbody tr th {\n",
       "        vertical-align: top;\n",
       "    }\n",
       "\n",
       "    .dataframe thead th {\n",
       "        text-align: right;\n",
       "    }\n",
       "</style>\n",
       "<table border=\"1\" class=\"dataframe\">\n",
       "  <thead>\n",
       "    <tr style=\"text-align: right;\">\n",
       "      <th></th>\n",
       "      <th>tweets</th>\n",
       "      <th>sentiment</th>\n",
       "      <th>word_counts</th>\n",
       "      <th>char_counts</th>\n",
       "      <th>avg_word_len</th>\n",
       "      <th>stop_word_len</th>\n",
       "      <th>#_counts</th>\n",
       "      <th>@_counts</th>\n",
       "      <th>numeric_counts</th>\n",
       "      <th>upper_counts</th>\n",
       "    </tr>\n",
       "  </thead>\n",
       "  <tbody>\n",
       "    <tr>\n",
       "      <th>0</th>\n",
       "      <td>@switchfoot http://twitpic.com/2y1zl - awww, that's a bummer.  you shoulda got david carr of third day to do it. ;d</td>\n",
       "      <td>0</td>\n",
       "      <td>19</td>\n",
       "      <td>115</td>\n",
       "      <td>5.052632</td>\n",
       "      <td>4</td>\n",
       "      <td>0</td>\n",
       "      <td>1</td>\n",
       "      <td>0</td>\n",
       "      <td>1</td>\n",
       "    </tr>\n",
       "    <tr>\n",
       "      <th>1</th>\n",
       "      <td>is upset that he can't update his facebook by texting it... and might cry as a result  school today also. blah!</td>\n",
       "      <td>0</td>\n",
       "      <td>21</td>\n",
       "      <td>111</td>\n",
       "      <td>4.285714</td>\n",
       "      <td>9</td>\n",
       "      <td>0</td>\n",
       "      <td>0</td>\n",
       "      <td>0</td>\n",
       "      <td>0</td>\n",
       "    </tr>\n",
       "    <tr>\n",
       "      <th>2</th>\n",
       "      <td>@kenichan i dived many times for the ball. managed to save 50%  the rest go out of bounds</td>\n",
       "      <td>0</td>\n",
       "      <td>18</td>\n",
       "      <td>89</td>\n",
       "      <td>3.944444</td>\n",
       "      <td>7</td>\n",
       "      <td>0</td>\n",
       "      <td>1</td>\n",
       "      <td>0</td>\n",
       "      <td>1</td>\n",
       "    </tr>\n",
       "    <tr>\n",
       "      <th>3</th>\n",
       "      <td>my whole body feels itchy and like its on fire</td>\n",
       "      <td>0</td>\n",
       "      <td>10</td>\n",
       "      <td>47</td>\n",
       "      <td>3.700000</td>\n",
       "      <td>5</td>\n",
       "      <td>0</td>\n",
       "      <td>0</td>\n",
       "      <td>0</td>\n",
       "      <td>0</td>\n",
       "    </tr>\n",
       "    <tr>\n",
       "      <th>4</th>\n",
       "      <td>@nationwideclass no, it's not behaving at all. i'm mad. why am i here? because i can't see you all over there.</td>\n",
       "      <td>0</td>\n",
       "      <td>21</td>\n",
       "      <td>111</td>\n",
       "      <td>4.285714</td>\n",
       "      <td>10</td>\n",
       "      <td>0</td>\n",
       "      <td>1</td>\n",
       "      <td>0</td>\n",
       "      <td>1</td>\n",
       "    </tr>\n",
       "  </tbody>\n",
       "</table>\n",
       "</div>"
      ],
      "text/plain": [
       "                                                                                                                tweets  \\\n",
       "0  @switchfoot http://twitpic.com/2y1zl - awww, that's a bummer.  you shoulda got david carr of third day to do it. ;d   \n",
       "1      is upset that he can't update his facebook by texting it... and might cry as a result  school today also. blah!   \n",
       "2                            @kenichan i dived many times for the ball. managed to save 50%  the rest go out of bounds   \n",
       "3                                                                      my whole body feels itchy and like its on fire    \n",
       "4      @nationwideclass no, it's not behaving at all. i'm mad. why am i here? because i can't see you all over there.    \n",
       "\n",
       "   sentiment  word_counts  char_counts  avg_word_len  stop_word_len  #_counts  \\\n",
       "0          0           19          115      5.052632              4         0   \n",
       "1          0           21          111      4.285714              9         0   \n",
       "2          0           18           89      3.944444              7         0   \n",
       "3          0           10           47      3.700000              5         0   \n",
       "4          0           21          111      4.285714             10         0   \n",
       "\n",
       "   @_counts  numeric_counts  upper_counts  \n",
       "0         1               0             1  \n",
       "1         0               0             0  \n",
       "2         1               0             1  \n",
       "3         0               0             0  \n",
       "4         1               0             1  "
      ]
     },
     "execution_count": 36,
     "metadata": {},
     "output_type": "execute_result"
    }
   ],
   "source": [
    "df.head()"
   ]
  },
  {
   "cell_type": "markdown",
   "id": "2226ac22",
   "metadata": {},
   "source": [
    "##### Contraction to Expansion"
   ]
  },
  {
   "cell_type": "code",
   "execution_count": 37,
   "id": "b047c6a7",
   "metadata": {
    "ExecuteTime": {
     "end_time": "2022-09-28T06:16:22.791995Z",
     "start_time": "2022-09-28T06:16:22.785290Z"
    }
   },
   "outputs": [],
   "source": [
    "# don' = do not\n",
    "x = \"i don't know what you want, can't, he'll, i'd\"\n",
    "# 40 min"
   ]
  },
  {
   "cell_type": "markdown",
   "id": "648bf4df",
   "metadata": {},
   "source": [
    "##### Email removal and counts"
   ]
  },
  {
   "cell_type": "code",
   "execution_count": 38,
   "id": "9401f32b",
   "metadata": {
    "ExecuteTime": {
     "end_time": "2022-09-28T06:16:22.797332Z",
     "start_time": "2022-09-28T06:16:22.794535Z"
    }
   },
   "outputs": [],
   "source": [
    "import re"
   ]
  },
  {
   "cell_type": "code",
   "execution_count": 39,
   "id": "690b022b",
   "metadata": {
    "ExecuteTime": {
     "end_time": "2022-09-28T06:16:22.801603Z",
     "start_time": "2022-09-28T06:16:22.799146Z"
    }
   },
   "outputs": [],
   "source": [
    "x = 'hi, email me at arafat6462@gmail.com, you can also find me on 18-37576-1@student.aiub.edu'"
   ]
  },
  {
   "cell_type": "code",
   "execution_count": 40,
   "id": "14c167b2",
   "metadata": {
    "ExecuteTime": {
     "end_time": "2022-09-28T06:16:22.808049Z",
     "start_time": "2022-09-28T06:16:22.803640Z"
    }
   },
   "outputs": [
    {
     "data": {
      "text/plain": [
       "['arafat6462@gmail.com', '18-37576-1@student.aiub.edu']"
      ]
     },
     "execution_count": 40,
     "metadata": {},
     "output_type": "execute_result"
    }
   ],
   "source": [
    "re.findall(r'([a-zA-Z0-9+._-]+@[a-zA-Z0-9._-]+\\.[a-zA-Z0-9_-]+)',x)"
   ]
  },
  {
   "cell_type": "code",
   "execution_count": null,
   "id": "c994dbbf",
   "metadata": {},
   "outputs": [],
   "source": []
  },
  {
   "cell_type": "code",
   "execution_count": 41,
   "id": "2c230239",
   "metadata": {
    "ExecuteTime": {
     "end_time": "2022-09-28T06:16:27.839794Z",
     "start_time": "2022-09-28T06:16:22.810521Z"
    }
   },
   "outputs": [
    {
     "name": "stdout",
     "output_type": "stream",
     "text": [
      "CPU times: user 4.98 s, sys: 43.7 ms, total: 5.03 s\n",
      "Wall time: 5.03 s\n"
     ]
    }
   ],
   "source": [
    "%%time\n",
    "df['email'] = df['tweets'].apply(lambda x: re.findall(r'([a-zA-Z0-9+._-]+@[a-zA-Z0-9._-]+\\.[a-zA-Z0-9_-]+)',x))"
   ]
  },
  {
   "cell_type": "code",
   "execution_count": 42,
   "id": "553497c7",
   "metadata": {
    "ExecuteTime": {
     "end_time": "2022-09-28T06:16:27.853926Z",
     "start_time": "2022-09-28T06:16:27.842129Z"
    }
   },
   "outputs": [
    {
     "data": {
      "text/html": [
       "<div>\n",
       "<style scoped>\n",
       "    .dataframe tbody tr th:only-of-type {\n",
       "        vertical-align: middle;\n",
       "    }\n",
       "\n",
       "    .dataframe tbody tr th {\n",
       "        vertical-align: top;\n",
       "    }\n",
       "\n",
       "    .dataframe thead th {\n",
       "        text-align: right;\n",
       "    }\n",
       "</style>\n",
       "<table border=\"1\" class=\"dataframe\">\n",
       "  <thead>\n",
       "    <tr style=\"text-align: right;\">\n",
       "      <th></th>\n",
       "      <th>tweets</th>\n",
       "      <th>sentiment</th>\n",
       "      <th>word_counts</th>\n",
       "      <th>char_counts</th>\n",
       "      <th>avg_word_len</th>\n",
       "      <th>stop_word_len</th>\n",
       "      <th>#_counts</th>\n",
       "      <th>@_counts</th>\n",
       "      <th>numeric_counts</th>\n",
       "      <th>upper_counts</th>\n",
       "      <th>email</th>\n",
       "    </tr>\n",
       "  </thead>\n",
       "  <tbody>\n",
       "    <tr>\n",
       "      <th>0</th>\n",
       "      <td>@switchfoot http://twitpic.com/2y1zl - awww, that's a bummer.  you shoulda got david carr of third day to do it. ;d</td>\n",
       "      <td>0</td>\n",
       "      <td>19</td>\n",
       "      <td>115</td>\n",
       "      <td>5.052632</td>\n",
       "      <td>4</td>\n",
       "      <td>0</td>\n",
       "      <td>1</td>\n",
       "      <td>0</td>\n",
       "      <td>1</td>\n",
       "      <td>[]</td>\n",
       "    </tr>\n",
       "    <tr>\n",
       "      <th>1</th>\n",
       "      <td>is upset that he can't update his facebook by texting it... and might cry as a result  school today also. blah!</td>\n",
       "      <td>0</td>\n",
       "      <td>21</td>\n",
       "      <td>111</td>\n",
       "      <td>4.285714</td>\n",
       "      <td>9</td>\n",
       "      <td>0</td>\n",
       "      <td>0</td>\n",
       "      <td>0</td>\n",
       "      <td>0</td>\n",
       "      <td>[]</td>\n",
       "    </tr>\n",
       "    <tr>\n",
       "      <th>2</th>\n",
       "      <td>@kenichan i dived many times for the ball. managed to save 50%  the rest go out of bounds</td>\n",
       "      <td>0</td>\n",
       "      <td>18</td>\n",
       "      <td>89</td>\n",
       "      <td>3.944444</td>\n",
       "      <td>7</td>\n",
       "      <td>0</td>\n",
       "      <td>1</td>\n",
       "      <td>0</td>\n",
       "      <td>1</td>\n",
       "      <td>[]</td>\n",
       "    </tr>\n",
       "    <tr>\n",
       "      <th>3</th>\n",
       "      <td>my whole body feels itchy and like its on fire</td>\n",
       "      <td>0</td>\n",
       "      <td>10</td>\n",
       "      <td>47</td>\n",
       "      <td>3.700000</td>\n",
       "      <td>5</td>\n",
       "      <td>0</td>\n",
       "      <td>0</td>\n",
       "      <td>0</td>\n",
       "      <td>0</td>\n",
       "      <td>[]</td>\n",
       "    </tr>\n",
       "    <tr>\n",
       "      <th>4</th>\n",
       "      <td>@nationwideclass no, it's not behaving at all. i'm mad. why am i here? because i can't see you all over there.</td>\n",
       "      <td>0</td>\n",
       "      <td>21</td>\n",
       "      <td>111</td>\n",
       "      <td>4.285714</td>\n",
       "      <td>10</td>\n",
       "      <td>0</td>\n",
       "      <td>1</td>\n",
       "      <td>0</td>\n",
       "      <td>1</td>\n",
       "      <td>[]</td>\n",
       "    </tr>\n",
       "  </tbody>\n",
       "</table>\n",
       "</div>"
      ],
      "text/plain": [
       "                                                                                                                tweets  \\\n",
       "0  @switchfoot http://twitpic.com/2y1zl - awww, that's a bummer.  you shoulda got david carr of third day to do it. ;d   \n",
       "1      is upset that he can't update his facebook by texting it... and might cry as a result  school today also. blah!   \n",
       "2                            @kenichan i dived many times for the ball. managed to save 50%  the rest go out of bounds   \n",
       "3                                                                      my whole body feels itchy and like its on fire    \n",
       "4      @nationwideclass no, it's not behaving at all. i'm mad. why am i here? because i can't see you all over there.    \n",
       "\n",
       "   sentiment  word_counts  char_counts  avg_word_len  stop_word_len  #_counts  \\\n",
       "0          0           19          115      5.052632              4         0   \n",
       "1          0           21          111      4.285714              9         0   \n",
       "2          0           18           89      3.944444              7         0   \n",
       "3          0           10           47      3.700000              5         0   \n",
       "4          0           21          111      4.285714             10         0   \n",
       "\n",
       "   @_counts  numeric_counts  upper_counts email  \n",
       "0         1               0             1    []  \n",
       "1         0               0             0    []  \n",
       "2         1               0             1    []  \n",
       "3         0               0             0    []  \n",
       "4         1               0             1    []  "
      ]
     },
     "execution_count": 42,
     "metadata": {},
     "output_type": "execute_result"
    }
   ],
   "source": [
    "df.head()"
   ]
  },
  {
   "cell_type": "code",
   "execution_count": 43,
   "id": "535c4aa6",
   "metadata": {
    "ExecuteTime": {
     "end_time": "2022-09-28T06:16:28.270788Z",
     "start_time": "2022-09-28T06:16:27.856260Z"
    }
   },
   "outputs": [],
   "source": [
    "df['email_counts'] = df['email'].apply(lambda x: len(x))"
   ]
  },
  {
   "cell_type": "code",
   "execution_count": 44,
   "id": "5cc087bc",
   "metadata": {
    "ExecuteTime": {
     "end_time": "2022-09-28T06:16:28.281475Z",
     "start_time": "2022-09-28T06:16:28.272039Z"
    }
   },
   "outputs": [
    {
     "data": {
      "text/html": [
       "<div>\n",
       "<style scoped>\n",
       "    .dataframe tbody tr th:only-of-type {\n",
       "        vertical-align: middle;\n",
       "    }\n",
       "\n",
       "    .dataframe tbody tr th {\n",
       "        vertical-align: top;\n",
       "    }\n",
       "\n",
       "    .dataframe thead th {\n",
       "        text-align: right;\n",
       "    }\n",
       "</style>\n",
       "<table border=\"1\" class=\"dataframe\">\n",
       "  <thead>\n",
       "    <tr style=\"text-align: right;\">\n",
       "      <th></th>\n",
       "      <th>tweets</th>\n",
       "      <th>sentiment</th>\n",
       "      <th>word_counts</th>\n",
       "      <th>char_counts</th>\n",
       "      <th>avg_word_len</th>\n",
       "      <th>stop_word_len</th>\n",
       "      <th>#_counts</th>\n",
       "      <th>@_counts</th>\n",
       "      <th>numeric_counts</th>\n",
       "      <th>upper_counts</th>\n",
       "      <th>email</th>\n",
       "      <th>email_counts</th>\n",
       "    </tr>\n",
       "  </thead>\n",
       "  <tbody>\n",
       "    <tr>\n",
       "      <th>0</th>\n",
       "      <td>@switchfoot http://twitpic.com/2y1zl - awww, that's a bummer.  you shoulda got david carr of third day to do it. ;d</td>\n",
       "      <td>0</td>\n",
       "      <td>19</td>\n",
       "      <td>115</td>\n",
       "      <td>5.052632</td>\n",
       "      <td>4</td>\n",
       "      <td>0</td>\n",
       "      <td>1</td>\n",
       "      <td>0</td>\n",
       "      <td>1</td>\n",
       "      <td>[]</td>\n",
       "      <td>0</td>\n",
       "    </tr>\n",
       "    <tr>\n",
       "      <th>1</th>\n",
       "      <td>is upset that he can't update his facebook by texting it... and might cry as a result  school today also. blah!</td>\n",
       "      <td>0</td>\n",
       "      <td>21</td>\n",
       "      <td>111</td>\n",
       "      <td>4.285714</td>\n",
       "      <td>9</td>\n",
       "      <td>0</td>\n",
       "      <td>0</td>\n",
       "      <td>0</td>\n",
       "      <td>0</td>\n",
       "      <td>[]</td>\n",
       "      <td>0</td>\n",
       "    </tr>\n",
       "    <tr>\n",
       "      <th>2</th>\n",
       "      <td>@kenichan i dived many times for the ball. managed to save 50%  the rest go out of bounds</td>\n",
       "      <td>0</td>\n",
       "      <td>18</td>\n",
       "      <td>89</td>\n",
       "      <td>3.944444</td>\n",
       "      <td>7</td>\n",
       "      <td>0</td>\n",
       "      <td>1</td>\n",
       "      <td>0</td>\n",
       "      <td>1</td>\n",
       "      <td>[]</td>\n",
       "      <td>0</td>\n",
       "    </tr>\n",
       "    <tr>\n",
       "      <th>3</th>\n",
       "      <td>my whole body feels itchy and like its on fire</td>\n",
       "      <td>0</td>\n",
       "      <td>10</td>\n",
       "      <td>47</td>\n",
       "      <td>3.700000</td>\n",
       "      <td>5</td>\n",
       "      <td>0</td>\n",
       "      <td>0</td>\n",
       "      <td>0</td>\n",
       "      <td>0</td>\n",
       "      <td>[]</td>\n",
       "      <td>0</td>\n",
       "    </tr>\n",
       "    <tr>\n",
       "      <th>4</th>\n",
       "      <td>@nationwideclass no, it's not behaving at all. i'm mad. why am i here? because i can't see you all over there.</td>\n",
       "      <td>0</td>\n",
       "      <td>21</td>\n",
       "      <td>111</td>\n",
       "      <td>4.285714</td>\n",
       "      <td>10</td>\n",
       "      <td>0</td>\n",
       "      <td>1</td>\n",
       "      <td>0</td>\n",
       "      <td>1</td>\n",
       "      <td>[]</td>\n",
       "      <td>0</td>\n",
       "    </tr>\n",
       "  </tbody>\n",
       "</table>\n",
       "</div>"
      ],
      "text/plain": [
       "                                                                                                                tweets  \\\n",
       "0  @switchfoot http://twitpic.com/2y1zl - awww, that's a bummer.  you shoulda got david carr of third day to do it. ;d   \n",
       "1      is upset that he can't update his facebook by texting it... and might cry as a result  school today also. blah!   \n",
       "2                            @kenichan i dived many times for the ball. managed to save 50%  the rest go out of bounds   \n",
       "3                                                                      my whole body feels itchy and like its on fire    \n",
       "4      @nationwideclass no, it's not behaving at all. i'm mad. why am i here? because i can't see you all over there.    \n",
       "\n",
       "   sentiment  word_counts  char_counts  avg_word_len  stop_word_len  #_counts  \\\n",
       "0          0           19          115      5.052632              4         0   \n",
       "1          0           21          111      4.285714              9         0   \n",
       "2          0           18           89      3.944444              7         0   \n",
       "3          0           10           47      3.700000              5         0   \n",
       "4          0           21          111      4.285714             10         0   \n",
       "\n",
       "   @_counts  numeric_counts  upper_counts email  email_counts  \n",
       "0         1               0             1    []             0  \n",
       "1         0               0             0    []             0  \n",
       "2         1               0             1    []             0  \n",
       "3         0               0             0    []             0  \n",
       "4         1               0             1    []             0  "
      ]
     },
     "execution_count": 44,
     "metadata": {},
     "output_type": "execute_result"
    }
   ],
   "source": [
    "df.head()"
   ]
  },
  {
   "cell_type": "code",
   "execution_count": 45,
   "id": "d30aa6a9",
   "metadata": {
    "ExecuteTime": {
     "end_time": "2022-09-28T06:16:28.443065Z",
     "start_time": "2022-09-28T06:16:28.282625Z"
    }
   },
   "outputs": [
    {
     "data": {
      "text/html": [
       "<div>\n",
       "<style scoped>\n",
       "    .dataframe tbody tr th:only-of-type {\n",
       "        vertical-align: middle;\n",
       "    }\n",
       "\n",
       "    .dataframe tbody tr th {\n",
       "        vertical-align: top;\n",
       "    }\n",
       "\n",
       "    .dataframe thead th {\n",
       "        text-align: right;\n",
       "    }\n",
       "</style>\n",
       "<table border=\"1\" class=\"dataframe\">\n",
       "  <thead>\n",
       "    <tr style=\"text-align: right;\">\n",
       "      <th></th>\n",
       "      <th>tweets</th>\n",
       "      <th>sentiment</th>\n",
       "      <th>word_counts</th>\n",
       "      <th>char_counts</th>\n",
       "      <th>avg_word_len</th>\n",
       "      <th>stop_word_len</th>\n",
       "      <th>#_counts</th>\n",
       "      <th>@_counts</th>\n",
       "      <th>numeric_counts</th>\n",
       "      <th>upper_counts</th>\n",
       "      <th>email</th>\n",
       "      <th>email_counts</th>\n",
       "    </tr>\n",
       "  </thead>\n",
       "  <tbody>\n",
       "    <tr>\n",
       "      <th>4054</th>\n",
       "      <td>i want a new laptop.  hp tx2000 is the bomb. :| who knows how much it is? im me: gabbehhramos@yahoo.com</td>\n",
       "      <td>0</td>\n",
       "      <td>20</td>\n",
       "      <td>103</td>\n",
       "      <td>4.150000</td>\n",
       "      <td>6</td>\n",
       "      <td>0</td>\n",
       "      <td>0</td>\n",
       "      <td>0</td>\n",
       "      <td>4</td>\n",
       "      <td>[gabbehhramos@yahoo.com]</td>\n",
       "      <td>1</td>\n",
       "    </tr>\n",
       "    <tr>\n",
       "      <th>7917</th>\n",
       "      <td>who stole elledell@gmail.com?</td>\n",
       "      <td>0</td>\n",
       "      <td>3</td>\n",
       "      <td>31</td>\n",
       "      <td>9.000000</td>\n",
       "      <td>1</td>\n",
       "      <td>0</td>\n",
       "      <td>0</td>\n",
       "      <td>0</td>\n",
       "      <td>0</td>\n",
       "      <td>[elledell@gmail.com]</td>\n",
       "      <td>1</td>\n",
       "    </tr>\n",
       "    <tr>\n",
       "      <th>8496</th>\n",
       "      <td>@alexistehpom  really? did you send out all the info already? if you did..maybe you could just email me stuff missataari@gmail.com</td>\n",
       "      <td>0</td>\n",
       "      <td>20</td>\n",
       "      <td>130</td>\n",
       "      <td>5.500000</td>\n",
       "      <td>11</td>\n",
       "      <td>0</td>\n",
       "      <td>1</td>\n",
       "      <td>0</td>\n",
       "      <td>0</td>\n",
       "      <td>[missataari@gmail.com]</td>\n",
       "      <td>1</td>\n",
       "    </tr>\n",
       "    <tr>\n",
       "      <th>10290</th>\n",
       "      <td>@laureystack awh...that's kinda sad  lol add me?? hello.kitty.65@hotmail.com</td>\n",
       "      <td>0</td>\n",
       "      <td>8</td>\n",
       "      <td>76</td>\n",
       "      <td>8.500000</td>\n",
       "      <td>0</td>\n",
       "      <td>0</td>\n",
       "      <td>1</td>\n",
       "      <td>0</td>\n",
       "      <td>0</td>\n",
       "      <td>[hello.kitty.65@hotmail.com]</td>\n",
       "      <td>1</td>\n",
       "    </tr>\n",
       "    <tr>\n",
       "      <th>16413</th>\n",
       "      <td>@jilliancyork  got 2 bottom of it, human error  bug from a release last month, being fixed tonight.  email press@linkedin.com for details</td>\n",
       "      <td>0</td>\n",
       "      <td>21</td>\n",
       "      <td>137</td>\n",
       "      <td>5.428571</td>\n",
       "      <td>7</td>\n",
       "      <td>0</td>\n",
       "      <td>1</td>\n",
       "      <td>1</td>\n",
       "      <td>0</td>\n",
       "      <td>[press@linkedin.com]</td>\n",
       "      <td>1</td>\n",
       "    </tr>\n",
       "  </tbody>\n",
       "</table>\n",
       "</div>"
      ],
      "text/plain": [
       "                                                                                                                                          tweets  \\\n",
       "4054                                     i want a new laptop.  hp tx2000 is the bomb. :| who knows how much it is? im me: gabbehhramos@yahoo.com   \n",
       "7917                                                                                                             who stole elledell@gmail.com?     \n",
       "8496          @alexistehpom  really? did you send out all the info already? if you did..maybe you could just email me stuff missataari@gmail.com   \n",
       "10290                                                               @laureystack awh...that's kinda sad  lol add me?? hello.kitty.65@hotmail.com   \n",
       "16413  @jilliancyork  got 2 bottom of it, human error  bug from a release last month, being fixed tonight.  email press@linkedin.com for details   \n",
       "\n",
       "       sentiment  word_counts  char_counts  avg_word_len  stop_word_len  \\\n",
       "4054           0           20          103      4.150000              6   \n",
       "7917           0            3           31      9.000000              1   \n",
       "8496           0           20          130      5.500000             11   \n",
       "10290          0            8           76      8.500000              0   \n",
       "16413          0           21          137      5.428571              7   \n",
       "\n",
       "       #_counts  @_counts  numeric_counts  upper_counts  \\\n",
       "4054          0         0               0             4   \n",
       "7917          0         0               0             0   \n",
       "8496          0         1               0             0   \n",
       "10290         0         1               0             0   \n",
       "16413         0         1               1             0   \n",
       "\n",
       "                              email  email_counts  \n",
       "4054       [gabbehhramos@yahoo.com]             1  \n",
       "7917           [elledell@gmail.com]             1  \n",
       "8496         [missataari@gmail.com]             1  \n",
       "10290  [hello.kitty.65@hotmail.com]             1  \n",
       "16413          [press@linkedin.com]             1  "
      ]
     },
     "execution_count": 45,
     "metadata": {},
     "output_type": "execute_result"
    }
   ],
   "source": [
    "# find which tweets has mail\n",
    "df[df['email_counts']>0].head()"
   ]
  },
  {
   "cell_type": "code",
   "execution_count": 46,
   "id": "b690fe2a",
   "metadata": {
    "ExecuteTime": {
     "end_time": "2022-09-28T06:16:28.450060Z",
     "start_time": "2022-09-28T06:16:28.444869Z"
    },
    "scrolled": true
   },
   "outputs": [
    {
     "data": {
      "text/plain": [
       "tweets            i want a new laptop.  hp tx2000 is the bomb. :| who knows how much it is? im me: gabbehhramos@yahoo.com\n",
       "sentiment                                                                                                               0\n",
       "word_counts                                                                                                            20\n",
       "char_counts                                                                                                           103\n",
       "avg_word_len                                                                                                         4.15\n",
       "stop_word_len                                                                                                           6\n",
       "#_counts                                                                                                                0\n",
       "@_counts                                                                                                                0\n",
       "numeric_counts                                                                                                          0\n",
       "upper_counts                                                                                                            4\n",
       "email                                                                                            [gabbehhramos@yahoo.com]\n",
       "email_counts                                                                                                            1\n",
       "Name: 4054, dtype: object"
      ]
     },
     "execution_count": 46,
     "metadata": {},
     "output_type": "execute_result"
    }
   ],
   "source": [
    "df.loc[4054] "
   ]
  },
  {
   "cell_type": "code",
   "execution_count": 47,
   "id": "1c86f54d",
   "metadata": {
    "ExecuteTime": {
     "end_time": "2022-09-28T06:16:33.258677Z",
     "start_time": "2022-09-28T06:16:28.451503Z"
    }
   },
   "outputs": [],
   "source": [
    "# remove email\n",
    "df['tweets'] = df['tweets'].apply(lambda x: re.sub(r'([a-zA-Z0-9+._-]+@[a-zA-Z0-9._-]+\\.[a-zA-Z0-9_-]+)', '' ,x))"
   ]
  },
  {
   "cell_type": "code",
   "execution_count": 48,
   "id": "2b116a2e",
   "metadata": {
    "ExecuteTime": {
     "end_time": "2022-09-28T06:16:33.404345Z",
     "start_time": "2022-09-28T06:16:33.261425Z"
    }
   },
   "outputs": [
    {
     "data": {
      "text/plain": [
       "tweets            i want a new laptop.  hp tx2000 is the bomb. :| who knows how much it is? im me: \n",
       "sentiment                                                                                         0\n",
       "word_counts                                                                                      20\n",
       "char_counts                                                                                     103\n",
       "avg_word_len                                                                                   4.15\n",
       "stop_word_len                                                                                     6\n",
       "#_counts                                                                                          0\n",
       "@_counts                                                                                          0\n",
       "numeric_counts                                                                                    0\n",
       "upper_counts                                                                                      4\n",
       "email                                                                      [gabbehhramos@yahoo.com]\n",
       "email_counts                                                                                      1\n",
       "Name: 4054, dtype: object"
      ]
     },
     "execution_count": 48,
     "metadata": {},
     "output_type": "execute_result"
    }
   ],
   "source": [
    "df.loc[4054] "
   ]
  },
  {
   "cell_type": "code",
   "execution_count": 49,
   "id": "ae285c01",
   "metadata": {
    "ExecuteTime": {
     "end_time": "2022-09-28T06:16:33.426543Z",
     "start_time": "2022-09-28T06:16:33.406795Z"
    },
    "scrolled": true
   },
   "outputs": [
    {
     "data": {
      "text/html": [
       "<div>\n",
       "<style scoped>\n",
       "    .dataframe tbody tr th:only-of-type {\n",
       "        vertical-align: middle;\n",
       "    }\n",
       "\n",
       "    .dataframe tbody tr th {\n",
       "        vertical-align: top;\n",
       "    }\n",
       "\n",
       "    .dataframe thead th {\n",
       "        text-align: right;\n",
       "    }\n",
       "</style>\n",
       "<table border=\"1\" class=\"dataframe\">\n",
       "  <thead>\n",
       "    <tr style=\"text-align: right;\">\n",
       "      <th></th>\n",
       "      <th>tweets</th>\n",
       "      <th>sentiment</th>\n",
       "      <th>word_counts</th>\n",
       "      <th>char_counts</th>\n",
       "      <th>avg_word_len</th>\n",
       "      <th>stop_word_len</th>\n",
       "      <th>#_counts</th>\n",
       "      <th>@_counts</th>\n",
       "      <th>numeric_counts</th>\n",
       "      <th>upper_counts</th>\n",
       "      <th>email</th>\n",
       "      <th>email_counts</th>\n",
       "    </tr>\n",
       "  </thead>\n",
       "  <tbody>\n",
       "    <tr>\n",
       "      <th>4054</th>\n",
       "      <td>i want a new laptop.  hp tx2000 is the bomb. :| who knows how much it is? im me:</td>\n",
       "      <td>0</td>\n",
       "      <td>20</td>\n",
       "      <td>103</td>\n",
       "      <td>4.150000</td>\n",
       "      <td>6</td>\n",
       "      <td>0</td>\n",
       "      <td>0</td>\n",
       "      <td>0</td>\n",
       "      <td>4</td>\n",
       "      <td>[gabbehhramos@yahoo.com]</td>\n",
       "      <td>1</td>\n",
       "    </tr>\n",
       "    <tr>\n",
       "      <th>7917</th>\n",
       "      <td>who stole ?</td>\n",
       "      <td>0</td>\n",
       "      <td>3</td>\n",
       "      <td>31</td>\n",
       "      <td>9.000000</td>\n",
       "      <td>1</td>\n",
       "      <td>0</td>\n",
       "      <td>0</td>\n",
       "      <td>0</td>\n",
       "      <td>0</td>\n",
       "      <td>[elledell@gmail.com]</td>\n",
       "      <td>1</td>\n",
       "    </tr>\n",
       "    <tr>\n",
       "      <th>8496</th>\n",
       "      <td>@alexistehpom  really? did you send out all the info already? if you did..maybe you could just email me stuff</td>\n",
       "      <td>0</td>\n",
       "      <td>20</td>\n",
       "      <td>130</td>\n",
       "      <td>5.500000</td>\n",
       "      <td>11</td>\n",
       "      <td>0</td>\n",
       "      <td>1</td>\n",
       "      <td>0</td>\n",
       "      <td>0</td>\n",
       "      <td>[missataari@gmail.com]</td>\n",
       "      <td>1</td>\n",
       "    </tr>\n",
       "    <tr>\n",
       "      <th>10290</th>\n",
       "      <td>@laureystack awh...that's kinda sad  lol add me??</td>\n",
       "      <td>0</td>\n",
       "      <td>8</td>\n",
       "      <td>76</td>\n",
       "      <td>8.500000</td>\n",
       "      <td>0</td>\n",
       "      <td>0</td>\n",
       "      <td>1</td>\n",
       "      <td>0</td>\n",
       "      <td>0</td>\n",
       "      <td>[hello.kitty.65@hotmail.com]</td>\n",
       "      <td>1</td>\n",
       "    </tr>\n",
       "    <tr>\n",
       "      <th>16413</th>\n",
       "      <td>@jilliancyork  got 2 bottom of it, human error  bug from a release last month, being fixed tonight.  email  for details</td>\n",
       "      <td>0</td>\n",
       "      <td>21</td>\n",
       "      <td>137</td>\n",
       "      <td>5.428571</td>\n",
       "      <td>7</td>\n",
       "      <td>0</td>\n",
       "      <td>1</td>\n",
       "      <td>1</td>\n",
       "      <td>0</td>\n",
       "      <td>[press@linkedin.com]</td>\n",
       "      <td>1</td>\n",
       "    </tr>\n",
       "  </tbody>\n",
       "</table>\n",
       "</div>"
      ],
      "text/plain": [
       "                                                                                                                        tweets  \\\n",
       "4054                                         i want a new laptop.  hp tx2000 is the bomb. :| who knows how much it is? im me:    \n",
       "7917                                                                                                             who stole ?     \n",
       "8496            @alexistehpom  really? did you send out all the info already? if you did..maybe you could just email me stuff    \n",
       "10290                                                                       @laureystack awh...that's kinda sad  lol add me??    \n",
       "16413  @jilliancyork  got 2 bottom of it, human error  bug from a release last month, being fixed tonight.  email  for details   \n",
       "\n",
       "       sentiment  word_counts  char_counts  avg_word_len  stop_word_len  \\\n",
       "4054           0           20          103      4.150000              6   \n",
       "7917           0            3           31      9.000000              1   \n",
       "8496           0           20          130      5.500000             11   \n",
       "10290          0            8           76      8.500000              0   \n",
       "16413          0           21          137      5.428571              7   \n",
       "\n",
       "       #_counts  @_counts  numeric_counts  upper_counts  \\\n",
       "4054          0         0               0             4   \n",
       "7917          0         0               0             0   \n",
       "8496          0         1               0             0   \n",
       "10290         0         1               0             0   \n",
       "16413         0         1               1             0   \n",
       "\n",
       "                              email  email_counts  \n",
       "4054       [gabbehhramos@yahoo.com]             1  \n",
       "7917           [elledell@gmail.com]             1  \n",
       "8496         [missataari@gmail.com]             1  \n",
       "10290  [hello.kitty.65@hotmail.com]             1  \n",
       "16413          [press@linkedin.com]             1  "
      ]
     },
     "execution_count": 49,
     "metadata": {},
     "output_type": "execute_result"
    }
   ],
   "source": [
    "df[df['email_counts']>0].head()"
   ]
  },
  {
   "cell_type": "markdown",
   "id": "c126e47c",
   "metadata": {},
   "source": [
    "##### URLs removal and counts"
   ]
  },
  {
   "cell_type": "code",
   "execution_count": 50,
   "id": "e65ad7f5",
   "metadata": {
    "ExecuteTime": {
     "end_time": "2022-09-28T06:16:33.431127Z",
     "start_time": "2022-09-28T06:16:33.428699Z"
    }
   },
   "outputs": [],
   "source": [
    "# 52 min"
   ]
  },
  {
   "cell_type": "code",
   "execution_count": 74,
   "id": "7f549110",
   "metadata": {
    "ExecuteTime": {
     "end_time": "2022-09-28T06:38:48.601061Z",
     "start_time": "2022-09-28T06:38:48.598436Z"
    }
   },
   "outputs": [],
   "source": [
    "x = 'hi, visit https://youtube.com/arafat6462 https://youtube.com'"
   ]
  },
  {
   "cell_type": "code",
   "execution_count": 75,
   "id": "47d6af11",
   "metadata": {
    "ExecuteTime": {
     "end_time": "2022-09-28T06:38:48.965891Z",
     "start_time": "2022-09-28T06:38:48.957444Z"
    }
   },
   "outputs": [
    {
     "data": {
      "text/plain": [
       "[('https', 'youtube.com', '/arafat6462'), ('https', 'youtube.com', '')]"
      ]
     },
     "execution_count": 75,
     "metadata": {},
     "output_type": "execute_result"
    }
   ],
   "source": [
    "re.findall(r'(http|ftp|https)://([\\w_-]+(?:(?:\\.[\\w_-]+)+))([\\w.,@?^=%&:/~+#-]*[\\w@?^=%&/~+#-])?', x)\n"
   ]
  },
  {
   "cell_type": "code",
   "execution_count": null,
   "id": "c8137d51",
   "metadata": {},
   "outputs": [],
   "source": []
  },
  {
   "cell_type": "code",
   "execution_count": 72,
   "id": "ff53b76c",
   "metadata": {
    "ExecuteTime": {
     "end_time": "2022-09-28T06:38:05.950634Z",
     "start_time": "2022-09-28T06:38:03.812959Z"
    }
   },
   "outputs": [],
   "source": [
    "df['url_flag'] = df['tweets'].apply(lambda x: len(re.findall(r'(http|ftp|https)://([\\w_-]+(?:(?:\\.[\\w_-]+)+))([\\w.,@?^=%&:/~+#-]*[\\w@?^=%&/~+#-])?', x)))"
   ]
  },
  {
   "cell_type": "code",
   "execution_count": 73,
   "id": "ed3407a4",
   "metadata": {
    "ExecuteTime": {
     "end_time": "2022-09-28T06:38:20.967797Z",
     "start_time": "2022-09-28T06:38:20.955153Z"
    }
   },
   "outputs": [
    {
     "data": {
      "text/html": [
       "<div>\n",
       "<style scoped>\n",
       "    .dataframe tbody tr th:only-of-type {\n",
       "        vertical-align: middle;\n",
       "    }\n",
       "\n",
       "    .dataframe tbody tr th {\n",
       "        vertical-align: top;\n",
       "    }\n",
       "\n",
       "    .dataframe thead th {\n",
       "        text-align: right;\n",
       "    }\n",
       "</style>\n",
       "<table border=\"1\" class=\"dataframe\">\n",
       "  <thead>\n",
       "    <tr style=\"text-align: right;\">\n",
       "      <th></th>\n",
       "      <th>tweets</th>\n",
       "      <th>sentiment</th>\n",
       "      <th>word_counts</th>\n",
       "      <th>char_counts</th>\n",
       "      <th>avg_word_len</th>\n",
       "      <th>stop_word_len</th>\n",
       "      <th>#_counts</th>\n",
       "      <th>@_counts</th>\n",
       "      <th>numeric_counts</th>\n",
       "      <th>upper_counts</th>\n",
       "      <th>email</th>\n",
       "      <th>email_counts</th>\n",
       "      <th>url_flag</th>\n",
       "    </tr>\n",
       "  </thead>\n",
       "  <tbody>\n",
       "    <tr>\n",
       "      <th>0</th>\n",
       "      <td>@switchfoot http://twitpic.com/2y1zl - awww, that's a bummer.  you shoulda got david carr of third day to do it. ;d</td>\n",
       "      <td>0</td>\n",
       "      <td>19</td>\n",
       "      <td>115</td>\n",
       "      <td>5.052632</td>\n",
       "      <td>4</td>\n",
       "      <td>0</td>\n",
       "      <td>1</td>\n",
       "      <td>0</td>\n",
       "      <td>1</td>\n",
       "      <td>[]</td>\n",
       "      <td>0</td>\n",
       "      <td>1</td>\n",
       "    </tr>\n",
       "    <tr>\n",
       "      <th>1</th>\n",
       "      <td>is upset that he can't update his facebook by texting it... and might cry as a result  school today also. blah!</td>\n",
       "      <td>0</td>\n",
       "      <td>21</td>\n",
       "      <td>111</td>\n",
       "      <td>4.285714</td>\n",
       "      <td>9</td>\n",
       "      <td>0</td>\n",
       "      <td>0</td>\n",
       "      <td>0</td>\n",
       "      <td>0</td>\n",
       "      <td>[]</td>\n",
       "      <td>0</td>\n",
       "      <td>0</td>\n",
       "    </tr>\n",
       "    <tr>\n",
       "      <th>2</th>\n",
       "      <td>@kenichan i dived many times for the ball. managed to save 50%  the rest go out of bounds</td>\n",
       "      <td>0</td>\n",
       "      <td>18</td>\n",
       "      <td>89</td>\n",
       "      <td>3.944444</td>\n",
       "      <td>7</td>\n",
       "      <td>0</td>\n",
       "      <td>1</td>\n",
       "      <td>0</td>\n",
       "      <td>1</td>\n",
       "      <td>[]</td>\n",
       "      <td>0</td>\n",
       "      <td>0</td>\n",
       "    </tr>\n",
       "    <tr>\n",
       "      <th>3</th>\n",
       "      <td>my whole body feels itchy and like its on fire</td>\n",
       "      <td>0</td>\n",
       "      <td>10</td>\n",
       "      <td>47</td>\n",
       "      <td>3.700000</td>\n",
       "      <td>5</td>\n",
       "      <td>0</td>\n",
       "      <td>0</td>\n",
       "      <td>0</td>\n",
       "      <td>0</td>\n",
       "      <td>[]</td>\n",
       "      <td>0</td>\n",
       "      <td>0</td>\n",
       "    </tr>\n",
       "    <tr>\n",
       "      <th>4</th>\n",
       "      <td>@nationwideclass no, it's not behaving at all. i'm mad. why am i here? because i can't see you all over there.</td>\n",
       "      <td>0</td>\n",
       "      <td>21</td>\n",
       "      <td>111</td>\n",
       "      <td>4.285714</td>\n",
       "      <td>10</td>\n",
       "      <td>0</td>\n",
       "      <td>1</td>\n",
       "      <td>0</td>\n",
       "      <td>1</td>\n",
       "      <td>[]</td>\n",
       "      <td>0</td>\n",
       "      <td>0</td>\n",
       "    </tr>\n",
       "  </tbody>\n",
       "</table>\n",
       "</div>"
      ],
      "text/plain": [
       "                                                                                                                tweets  \\\n",
       "0  @switchfoot http://twitpic.com/2y1zl - awww, that's a bummer.  you shoulda got david carr of third day to do it. ;d   \n",
       "1      is upset that he can't update his facebook by texting it... and might cry as a result  school today also. blah!   \n",
       "2                            @kenichan i dived many times for the ball. managed to save 50%  the rest go out of bounds   \n",
       "3                                                                      my whole body feels itchy and like its on fire    \n",
       "4      @nationwideclass no, it's not behaving at all. i'm mad. why am i here? because i can't see you all over there.    \n",
       "\n",
       "   sentiment  word_counts  char_counts  avg_word_len  stop_word_len  #_counts  \\\n",
       "0          0           19          115      5.052632              4         0   \n",
       "1          0           21          111      4.285714              9         0   \n",
       "2          0           18           89      3.944444              7         0   \n",
       "3          0           10           47      3.700000              5         0   \n",
       "4          0           21          111      4.285714             10         0   \n",
       "\n",
       "   @_counts  numeric_counts  upper_counts email  email_counts  url_flag  \n",
       "0         1               0             1    []             0         1  \n",
       "1         0               0             0    []             0         0  \n",
       "2         1               0             1    []             0         0  \n",
       "3         0               0             0    []             0         0  \n",
       "4         1               0             1    []             0         0  "
      ]
     },
     "execution_count": 73,
     "metadata": {},
     "output_type": "execute_result"
    }
   ],
   "source": [
    "df.head()"
   ]
  },
  {
   "cell_type": "code",
   "execution_count": null,
   "id": "1a43b25f",
   "metadata": {},
   "outputs": [],
   "source": []
  }
 ],
 "metadata": {
  "kernelspec": {
   "display_name": "Python 3 (ipykernel)",
   "language": "python",
   "name": "python3"
  },
  "language_info": {
   "codemirror_mode": {
    "name": "ipython",
    "version": 3
   },
   "file_extension": ".py",
   "mimetype": "text/x-python",
   "name": "python",
   "nbconvert_exporter": "python",
   "pygments_lexer": "ipython3",
   "version": "3.9.12"
  },
  "varInspector": {
   "cols": {
    "lenName": 16,
    "lenType": 16,
    "lenVar": 40
   },
   "kernels_config": {
    "python": {
     "delete_cmd_postfix": "",
     "delete_cmd_prefix": "del ",
     "library": "var_list.py",
     "varRefreshCmd": "print(var_dic_list())"
    },
    "r": {
     "delete_cmd_postfix": ") ",
     "delete_cmd_prefix": "rm(",
     "library": "var_list.r",
     "varRefreshCmd": "cat(var_dic_list()) "
    }
   },
   "types_to_exclude": [
    "module",
    "function",
    "builtin_function_or_method",
    "instance",
    "_Feature"
   ],
   "window_display": false
  }
 },
 "nbformat": 4,
 "nbformat_minor": 5
}
