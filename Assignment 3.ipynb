{
 "cells": [
  {
   "cell_type": "code",
   "execution_count": 1,
   "id": "9083c57b",
   "metadata": {},
   "outputs": [],
   "source": [
    "import requests\n",
    "import pandas as pd"
   ]
  },
  {
   "cell_type": "code",
   "execution_count": 2,
   "id": "f7bfaea9",
   "metadata": {},
   "outputs": [],
   "source": [
    "pd.set_option('display.max_colwidth', None)"
   ]
  },
  {
   "cell_type": "code",
   "execution_count": 3,
   "id": "dc8c982e",
   "metadata": {},
   "outputs": [],
   "source": [
    "movie_genres = requests.get('https://api.themoviedb.org/3/genre/movie/list?api_key=8265bd1679663a7ea12ac168da84d2e8&language=en-US')\n",
    "movie_review = requests.get('https://api.themoviedb.org/3/movie/top_rated?api_key=8265bd1679663a7ea12ac168da84d2e8&language=en-US&page=471')"
   ]
  },
  {
   "cell_type": "code",
   "execution_count": 4,
   "id": "8d6bf60f",
   "metadata": {
    "scrolled": true
   },
   "outputs": [
    {
     "name": "stdout",
     "output_type": "stream",
     "text": [
      "<Response [200]> <Response [200]>\n"
     ]
    }
   ],
   "source": [
    "print(movie_genres, movie_review)"
   ]
  },
  {
   "cell_type": "code",
   "execution_count": 5,
   "id": "47c25137",
   "metadata": {},
   "outputs": [
    {
     "data": {
      "text/plain": [
       "(<Response [200]>, 200)"
      ]
     },
     "execution_count": 5,
     "metadata": {},
     "output_type": "execute_result"
    }
   ],
   "source": [
    "movie_genres, movie_review.status_code"
   ]
  },
  {
   "cell_type": "code",
   "execution_count": 6,
   "id": "494c34dd",
   "metadata": {},
   "outputs": [
    {
     "data": {
      "text/plain": [
       "requests.models.Response"
      ]
     },
     "execution_count": 6,
     "metadata": {},
     "output_type": "execute_result"
    }
   ],
   "source": [
    "type(movie_genres)"
   ]
  },
  {
   "cell_type": "code",
   "execution_count": 7,
   "id": "b2e7d4f7",
   "metadata": {
    "scrolled": true
   },
   "outputs": [
    {
     "data": {
      "text/plain": [
       "'{\"genres\":[{\"id\":28,\"name\":\"Action\"},{\"id\":12,\"name\":\"Adventure\"},{\"id\":16,\"name\":\"Animation\"},{\"id\":35,\"name\":\"Comedy\"},{\"id\":80,\"name\":\"Crime\"},{\"id\":99,\"name\":\"Documentary\"},{\"id\":18,\"name\":\"Drama\"},{\"id\":10751,\"name\":\"Family\"},{\"id\":14,\"name\":\"Fantasy\"},{\"id\":36,\"name\":\"History\"},{\"id\":27,\"name\":\"Horror\"},{\"id\":10402,\"name\":\"Music\"},{\"id\":9648,\"name\":\"Mystery\"},{\"id\":10749,\"name\":\"Romance\"},{\"id\":878,\"name\":\"Science Fiction\"},{\"id\":10770,\"name\":\"TV Movie\"},{\"id\":53,\"name\":\"Thriller\"},{\"id\":10752,\"name\":\"War\"},{\"id\":37,\"name\":\"Western\"}]}'"
      ]
     },
     "execution_count": 7,
     "metadata": {},
     "output_type": "execute_result"
    }
   ],
   "source": [
    "movie_genres.text"
   ]
  },
  {
   "cell_type": "code",
   "execution_count": 8,
   "id": "b8a65bf5",
   "metadata": {},
   "outputs": [],
   "source": [
    "movie_genres = movie_genres.json()\n",
    "movie_review = movie_review.json()"
   ]
  },
  {
   "cell_type": "code",
   "execution_count": 9,
   "id": "1c79285f",
   "metadata": {},
   "outputs": [
    {
     "name": "stdout",
     "output_type": "stream",
     "text": [
      "{'genres': [{'id': 28, 'name': 'Action'}, {'id': 12, 'name': 'Adventure'}, {'id': 16, 'name': 'Animation'}, {'id': 35, 'name': 'Comedy'}, {'id': 80, 'name': 'Crime'}, {'id': 99, 'name': 'Documentary'}, {'id': 18, 'name': 'Drama'}, {'id': 10751, 'name': 'Family'}, {'id': 14, 'name': 'Fantasy'}, {'id': 36, 'name': 'History'}, {'id': 27, 'name': 'Horror'}, {'id': 10402, 'name': 'Music'}, {'id': 9648, 'name': 'Mystery'}, {'id': 10749, 'name': 'Romance'}, {'id': 878, 'name': 'Science Fiction'}, {'id': 10770, 'name': 'TV Movie'}, {'id': 53, 'name': 'Thriller'}, {'id': 10752, 'name': 'War'}, {'id': 37, 'name': 'Western'}]}\n"
     ]
    }
   ],
   "source": [
    "print(movie_genres)"
   ]
  },
  {
   "cell_type": "code",
   "execution_count": 10,
   "id": "f7d21261",
   "metadata": {},
   "outputs": [
    {
     "data": {
      "text/plain": [
       "dict_keys(['genres'])"
      ]
     },
     "execution_count": 10,
     "metadata": {},
     "output_type": "execute_result"
    }
   ],
   "source": [
    "movie_genres.keys()"
   ]
  },
  {
   "cell_type": "code",
   "execution_count": 11,
   "id": "12731110",
   "metadata": {},
   "outputs": [
    {
     "data": {
      "text/plain": [
       "dict_keys(['page', 'results', 'total_pages', 'total_results'])"
      ]
     },
     "execution_count": 11,
     "metadata": {},
     "output_type": "execute_result"
    }
   ],
   "source": [
    "movie_review.keys()"
   ]
  },
  {
   "cell_type": "code",
   "execution_count": null,
   "id": "2cc24256",
   "metadata": {},
   "outputs": [],
   "source": []
  },
  {
   "cell_type": "code",
   "execution_count": 12,
   "id": "f6e4b611",
   "metadata": {},
   "outputs": [],
   "source": [
    "df_reviews = pd.DataFrame(movie_review['results'])\n",
    "df_geners = pd.DataFrame(movie_genres['genres'])"
   ]
  },
  {
   "cell_type": "code",
   "execution_count": 13,
   "id": "4fa6dac7",
   "metadata": {},
   "outputs": [
    {
     "data": {
      "text/html": [
       "<div>\n",
       "<style scoped>\n",
       "    .dataframe tbody tr th:only-of-type {\n",
       "        vertical-align: middle;\n",
       "    }\n",
       "\n",
       "    .dataframe tbody tr th {\n",
       "        vertical-align: top;\n",
       "    }\n",
       "\n",
       "    .dataframe thead th {\n",
       "        text-align: right;\n",
       "    }\n",
       "</style>\n",
       "<table border=\"1\" class=\"dataframe\">\n",
       "  <thead>\n",
       "    <tr style=\"text-align: right;\">\n",
       "      <th></th>\n",
       "      <th>adult</th>\n",
       "      <th>backdrop_path</th>\n",
       "      <th>genre_ids</th>\n",
       "      <th>id</th>\n",
       "      <th>original_language</th>\n",
       "      <th>original_title</th>\n",
       "      <th>overview</th>\n",
       "      <th>popularity</th>\n",
       "      <th>poster_path</th>\n",
       "      <th>release_date</th>\n",
       "      <th>title</th>\n",
       "      <th>video</th>\n",
       "      <th>vote_average</th>\n",
       "      <th>vote_count</th>\n",
       "    </tr>\n",
       "  </thead>\n",
       "  <tbody>\n",
       "    <tr>\n",
       "      <th>0</th>\n",
       "      <td>False</td>\n",
       "      <td>/of1EpT8iYFfiF1b0Bo3PPHjyAzi.jpg</td>\n",
       "      <td>[35, 10751]</td>\n",
       "      <td>22949</td>\n",
       "      <td>en</td>\n",
       "      <td>Old Dogs</td>\n",
       "      <td>Charlie and Dan have been best friends and business partners for thirty years; their Manhattan public relations firm is on the verge of a huge business deal with a Japanese company. With two weeks to sew up the contract, Dan gets a surprise: a woman he married on a drunken impulse nearly nine years before (annulled the next day) shows up to tell him he's the father of her twins, now seven, and she'll be in jail for 14 days for a political protest. Dan volunteers to keep the tykes, although he's up tight and clueless. With Charlie's help is there any way they can be dad and uncle, meet the kids' expectations, and still land the account?</td>\n",
       "      <td>28.944</td>\n",
       "      <td>/kBGqhumfOuDCpIErICWPHcXNvah.jpg</td>\n",
       "      <td>2009-11-24</td>\n",
       "      <td>Old Dogs</td>\n",
       "      <td>False</td>\n",
       "      <td>5.5</td>\n",
       "      <td>615</td>\n",
       "    </tr>\n",
       "    <tr>\n",
       "      <th>1</th>\n",
       "      <td>False</td>\n",
       "      <td>/qZfbYKc0AlXPD7gEbh9m4r3LBHF.jpg</td>\n",
       "      <td>[53, 878, 9648]</td>\n",
       "      <td>437</td>\n",
       "      <td>en</td>\n",
       "      <td>Cube 2: Hypercube</td>\n",
       "      <td>The sequel to the low budget first film Cube. This time the prisoners find them selves in a more advanced cube environment that they must escape from before they are killed. A science fiction film where space and time have more than one path.</td>\n",
       "      <td>15.957</td>\n",
       "      <td>/bEqqwtwUP7lm56VyeVONhv9JtYu.jpg</td>\n",
       "      <td>2002-04-15</td>\n",
       "      <td>Cube 2: Hypercube</td>\n",
       "      <td>False</td>\n",
       "      <td>5.5</td>\n",
       "      <td>1160</td>\n",
       "    </tr>\n",
       "    <tr>\n",
       "      <th>2</th>\n",
       "      <td>False</td>\n",
       "      <td>/2jB7zzzvBxFCdEPOWKLP4yakPGp.jpg</td>\n",
       "      <td>[10749, 10751, 10770]</td>\n",
       "      <td>488113</td>\n",
       "      <td>en</td>\n",
       "      <td>Christmas Wedding Planner</td>\n",
       "      <td>Wedding Planner, Kelsey Wilson, is about to have her big break: planning her beloved cousin's lavish and exclusive wedding. Everything is going smoothly until Connor McClane, a devilishly handsome private investigator, shows up and turns Kelsey's world upside-down. Hired by a secret source, Connor quickly disrupts the upcoming nuptials but wins Kelsey's heart in the process.</td>\n",
       "      <td>12.713</td>\n",
       "      <td>/eiXeO0UXYLqASWcuJMJNgWqGqmC.jpg</td>\n",
       "      <td>2017-12-14</td>\n",
       "      <td>Christmas Wedding Planner</td>\n",
       "      <td>False</td>\n",
       "      <td>5.5</td>\n",
       "      <td>378</td>\n",
       "    </tr>\n",
       "    <tr>\n",
       "      <th>3</th>\n",
       "      <td>False</td>\n",
       "      <td>/wMUPT99gw6IB9OVvC46rF8wHIRt.jpg</td>\n",
       "      <td>[28, 80, 14]</td>\n",
       "      <td>890656</td>\n",
       "      <td>en</td>\n",
       "      <td>Fistful of Vengeance</td>\n",
       "      <td>A revenge mission becomes a fight to save the world from an ancient threat when superpowered assassin Kai tracks a killer to Bangkok.</td>\n",
       "      <td>172.296</td>\n",
       "      <td>/3cccEF9QZgV9bLWyupJO41HSrOV.jpg</td>\n",
       "      <td>2022-02-17</td>\n",
       "      <td>Fistful of Vengeance</td>\n",
       "      <td>False</td>\n",
       "      <td>5.5</td>\n",
       "      <td>207</td>\n",
       "    </tr>\n",
       "    <tr>\n",
       "      <th>4</th>\n",
       "      <td>False</td>\n",
       "      <td>/txfEqZ0eT5tcPcWnj1XJ6LLKoAZ.jpg</td>\n",
       "      <td>[35]</td>\n",
       "      <td>513083</td>\n",
       "      <td>en</td>\n",
       "      <td>Wine Country</td>\n",
       "      <td>A group of friends head to the land of oaky Chardonnays and big, bold Cabernet Sauvignons for one member of the squad’s 50th birthday party.</td>\n",
       "      <td>13.070</td>\n",
       "      <td>/mi5l29DQFdwrTXxbqM2OLbs830H.jpg</td>\n",
       "      <td>2019-05-08</td>\n",
       "      <td>Wine Country</td>\n",
       "      <td>False</td>\n",
       "      <td>5.5</td>\n",
       "      <td>451</td>\n",
       "    </tr>\n",
       "    <tr>\n",
       "      <th>5</th>\n",
       "      <td>False</td>\n",
       "      <td>/beEjNV725OEZ7JZQxNN1eZ0Wyt3.jpg</td>\n",
       "      <td>[80, 18]</td>\n",
       "      <td>75622</td>\n",
       "      <td>en</td>\n",
       "      <td>Rampart</td>\n",
       "      <td>Follows veteran police officer Dave Brown, the last of the renegade cops, as he struggles to take care of his family, and fights for his own survival.</td>\n",
       "      <td>7.369</td>\n",
       "      <td>/ycpCRO2I5IvXoYETn7QcnY8vg3F.jpg</td>\n",
       "      <td>2011-11-23</td>\n",
       "      <td>Rampart</td>\n",
       "      <td>False</td>\n",
       "      <td>5.5</td>\n",
       "      <td>290</td>\n",
       "    </tr>\n",
       "    <tr>\n",
       "      <th>6</th>\n",
       "      <td>False</td>\n",
       "      <td>/qAsxETj5fhZkW00KOzhHB6XQkaJ.jpg</td>\n",
       "      <td>[35, 10751, 14]</td>\n",
       "      <td>23023</td>\n",
       "      <td>en</td>\n",
       "      <td>Tooth Fairy</td>\n",
       "      <td>When minor-league hockey player Derek Thompson -- who has a penchant for knocking out his opponents' teeth every time he plays -- disillusions a fan, he is sentenced to a stint for one week as a bona fide, tutu-clad, real-life tooth fairy. Soon, Derek is inspired to rekindle his youthful dreams.</td>\n",
       "      <td>47.479</td>\n",
       "      <td>/cRZvw3bPomtucIUtMHZ3qPIYtYs.jpg</td>\n",
       "      <td>2010-01-14</td>\n",
       "      <td>Tooth Fairy</td>\n",
       "      <td>False</td>\n",
       "      <td>5.5</td>\n",
       "      <td>1733</td>\n",
       "    </tr>\n",
       "    <tr>\n",
       "      <th>7</th>\n",
       "      <td>False</td>\n",
       "      <td>/xRWiWV5tiwjgqPipdRTuXt1VNky.jpg</td>\n",
       "      <td>[53, 80, 28]</td>\n",
       "      <td>262338</td>\n",
       "      <td>en</td>\n",
       "      <td>Good People</td>\n",
       "      <td>Tom and Anna Wright, a young American couple, fall into severe debt while renovating Anna's family home in London. As the couple faces the loss of their dream to have a house and start a family, they discover that the tenant in the apartment below them is dead, and he's left behind a stash of cash—$400,000 worth. Though initially hesitant, Tom and Anna decide that the plan is simple: all they have to do is quietly take the money and use only what's necessary to get them out of debt. But when they start spending the money and can't seem to stop, they find themselves the target of a deadly adversary—the thief who stole it—and that's when very bad things start happening to good people.</td>\n",
       "      <td>22.903</td>\n",
       "      <td>/zNhzWvhOJ18Twl5oKanVWT7bcSk.jpg</td>\n",
       "      <td>2014-08-12</td>\n",
       "      <td>Good People</td>\n",
       "      <td>False</td>\n",
       "      <td>5.5</td>\n",
       "      <td>400</td>\n",
       "    </tr>\n",
       "    <tr>\n",
       "      <th>8</th>\n",
       "      <td>False</td>\n",
       "      <td>/ApgpEdgtU9Y55mehnR9TV9wPyHd.jpg</td>\n",
       "      <td>[18, 27, 53]</td>\n",
       "      <td>9592</td>\n",
       "      <td>en</td>\n",
       "      <td>Open Water 2: Adrift</td>\n",
       "      <td>A weekend cruise on a luxurious party yacht goes horribly wrong for a group of old high-school friends when they get stuck in the water many miles from shore and a happy reunion turns into a fight for survival.</td>\n",
       "      <td>20.488</td>\n",
       "      <td>/6bbQxUlPTBGYSWHMshG6K2MxtSl.jpg</td>\n",
       "      <td>2006-07-10</td>\n",
       "      <td>Open Water 2: Adrift</td>\n",
       "      <td>False</td>\n",
       "      <td>5.5</td>\n",
       "      <td>584</td>\n",
       "    </tr>\n",
       "    <tr>\n",
       "      <th>9</th>\n",
       "      <td>False</td>\n",
       "      <td>/g9ekJY8zNxQ9J3cRYQHzRwiObuq.jpg</td>\n",
       "      <td>[10749, 35]</td>\n",
       "      <td>11812</td>\n",
       "      <td>en</td>\n",
       "      <td>The Sweetest Thing</td>\n",
       "      <td>Christina's love life is stuck in neutral. After years of avoiding the hazards of a meaningful relationship, one night while club-hopping with her girlfriends, she meets Peter, her perfect match. Fed up with playing games, she finally gets the courage to let her guard down and follow her heart, only to discover that Peter has suddenly left town. Accompanied by Courtney, she sets out to capture the one that got away.</td>\n",
       "      <td>11.449</td>\n",
       "      <td>/74mjZ4PiWmlSCUWFySUCbNFiWk3.jpg</td>\n",
       "      <td>2002-04-12</td>\n",
       "      <td>The Sweetest Thing</td>\n",
       "      <td>False</td>\n",
       "      <td>5.5</td>\n",
       "      <td>897</td>\n",
       "    </tr>\n",
       "    <tr>\n",
       "      <th>10</th>\n",
       "      <td>False</td>\n",
       "      <td>/9V529yHwmYay2wmYo0YcgUijeJO.jpg</td>\n",
       "      <td>[27, 53]</td>\n",
       "      <td>9793</td>\n",
       "      <td>en</td>\n",
       "      <td>The Hills Have Eyes 2</td>\n",
       "      <td>A group of National Guard trainees find themselves battling against a vicious group of mutants on their last day of training in the desert.</td>\n",
       "      <td>51.028</td>\n",
       "      <td>/kvwuqoHUpPwZv8VWMh38pSCJLct.jpg</td>\n",
       "      <td>2007-03-22</td>\n",
       "      <td>The Hills Have Eyes 2</td>\n",
       "      <td>False</td>\n",
       "      <td>5.5</td>\n",
       "      <td>1165</td>\n",
       "    </tr>\n",
       "    <tr>\n",
       "      <th>11</th>\n",
       "      <td>False</td>\n",
       "      <td>/2995K991Na0ZDVIohnweSBngSkD.jpg</td>\n",
       "      <td>[35, 18, 10749]</td>\n",
       "      <td>529784</td>\n",
       "      <td>fr</td>\n",
       "      <td>L'Homme fidèle</td>\n",
       "      <td>Marianne leaves Abel for Paul, his best friend and the father of her unborn child. Eight years later, Paul dies and Marianne returns to Abel. However, things have changed for the both of them and feelings of jealousy surround their new relationship.</td>\n",
       "      <td>8.206</td>\n",
       "      <td>/l1bHryDSFWgiDbEdTf2H7vQAKCp.jpg</td>\n",
       "      <td>2018-12-26</td>\n",
       "      <td>A Faithful Man</td>\n",
       "      <td>False</td>\n",
       "      <td>5.5</td>\n",
       "      <td>224</td>\n",
       "    </tr>\n",
       "    <tr>\n",
       "      <th>12</th>\n",
       "      <td>False</td>\n",
       "      <td>/luOLydz3H319kUl79MbBcfGsCgz.jpg</td>\n",
       "      <td>[35, 12, 28]</td>\n",
       "      <td>6519</td>\n",
       "      <td>en</td>\n",
       "      <td>The Dukes of Hazzard</td>\n",
       "      <td>Cousins, Bo and Luke Duke, with the help of their eye-catching cousin, Daisy and moonshine-running Uncle Jesse, try and save the family farm from being destroyed by Hazzard County's corrupt commissioner, Boss Hogg. Their efforts constantly find the 'Duke Boys' eluding authorities in 'The General Lee', their 1969 orange Dodge Charger that keeps them one step ahead of the dimwitted antics of the small southern town's Sheriff, Roscoe P. Coltrane.</td>\n",
       "      <td>19.034</td>\n",
       "      <td>/o5pKtw26jEk7zX2446gPVbTNrFb.jpg</td>\n",
       "      <td>2005-08-05</td>\n",
       "      <td>The Dukes of Hazzard</td>\n",
       "      <td>False</td>\n",
       "      <td>5.5</td>\n",
       "      <td>958</td>\n",
       "    </tr>\n",
       "    <tr>\n",
       "      <th>13</th>\n",
       "      <td>False</td>\n",
       "      <td>/2saHJCr144gIf4QVYxmkpLOU4fy.jpg</td>\n",
       "      <td>[35, 28, 12, 10751]</td>\n",
       "      <td>17047</td>\n",
       "      <td>en</td>\n",
       "      <td>Agent Cody Banks 2: Destination London</td>\n",
       "      <td>With all-new gadgets, high-flying action, exciting chases and a wisecracking new handler, Derek (Anthony Anderson), Cody has to retrieve the device before the world's leaders fall under the evil control of a diabolical villain.</td>\n",
       "      <td>16.098</td>\n",
       "      <td>/zlAltvp84rYVTYs3kdemqHBaiat.jpg</td>\n",
       "      <td>2004-03-12</td>\n",
       "      <td>Agent Cody Banks 2: Destination London</td>\n",
       "      <td>False</td>\n",
       "      <td>5.5</td>\n",
       "      <td>531</td>\n",
       "    </tr>\n",
       "    <tr>\n",
       "      <th>14</th>\n",
       "      <td>False</td>\n",
       "      <td>/BPQP8eNCGd2BMTZzlshs2U9SBF.jpg</td>\n",
       "      <td>[35, 10751]</td>\n",
       "      <td>9969</td>\n",
       "      <td>en</td>\n",
       "      <td>Deck the Halls</td>\n",
       "      <td>Determined to unseat Steve Finch's reign as the town's holiday season king, Buddy Hall plasters his house with so many decorative lights that it'll be visible from space! When their wives bond, and their kids follow suit, the two men only escalate their rivalry - and their decorating.</td>\n",
       "      <td>12.862</td>\n",
       "      <td>/smJDzhYGhl6j9OrucsB7IkMNy82.jpg</td>\n",
       "      <td>2006-11-22</td>\n",
       "      <td>Deck the Halls</td>\n",
       "      <td>False</td>\n",
       "      <td>5.5</td>\n",
       "      <td>502</td>\n",
       "    </tr>\n",
       "    <tr>\n",
       "      <th>15</th>\n",
       "      <td>False</td>\n",
       "      <td>/cIiZwq1DxpeLTT0OnM2PYOpoaa3.jpg</td>\n",
       "      <td>[10749, 35, 27]</td>\n",
       "      <td>244566</td>\n",
       "      <td>en</td>\n",
       "      <td>Life After Beth</td>\n",
       "      <td>Zach is devastated by the unexpected death of his girlfriend, Beth. When she mysteriously returns, he gets a second chance at love. Soon his whole world turns upside down...</td>\n",
       "      <td>18.691</td>\n",
       "      <td>/4ZQ8LoU9SwSxSrmc3aOtHmruk26.jpg</td>\n",
       "      <td>2014-08-15</td>\n",
       "      <td>Life After Beth</td>\n",
       "      <td>False</td>\n",
       "      <td>5.5</td>\n",
       "      <td>560</td>\n",
       "    </tr>\n",
       "    <tr>\n",
       "      <th>16</th>\n",
       "      <td>False</td>\n",
       "      <td>/wPZPiHsd7Oz3vg3IuVRtSHBY9iU.jpg</td>\n",
       "      <td>[12, 14]</td>\n",
       "      <td>68737</td>\n",
       "      <td>en</td>\n",
       "      <td>Seventh Son</td>\n",
       "      <td>John Gregory, who is a seventh son of a seventh son and also the local spook, has protected the country from witches, boggarts, ghouls and all manner of things that go bump in the night. However John is not young anymore, and has been seeking an apprentice to carry on his trade. Most have failed to survive. The last hope is a young farmer's son named Thomas Ward. Will he survive the training to become the spook that so many others couldn't?</td>\n",
       "      <td>51.476</td>\n",
       "      <td>/7Q8DfXSjcFSSQDOxz1Sk865wNqI.jpg</td>\n",
       "      <td>2014-12-12</td>\n",
       "      <td>Seventh Son</td>\n",
       "      <td>False</td>\n",
       "      <td>5.5</td>\n",
       "      <td>2227</td>\n",
       "    </tr>\n",
       "    <tr>\n",
       "      <th>17</th>\n",
       "      <td>False</td>\n",
       "      <td>/pJc4tR2aXYBBZDtpowamW0RL1KI.jpg</td>\n",
       "      <td>[878, 28]</td>\n",
       "      <td>313943</td>\n",
       "      <td>en</td>\n",
       "      <td>Revolt</td>\n",
       "      <td>The story of humankind's last stand against a cataclysmic alien invasion. Set in the war-ravaged African countryside, a U.S. soldier and a French foreign aid worker team up to survive the alien onslaught. Their bond will be tested as they search for refuge across a crumbling world.</td>\n",
       "      <td>23.582</td>\n",
       "      <td>/eM2zipCkAXhp0BZF2noDp7bRFgV.jpg</td>\n",
       "      <td>2017-07-01</td>\n",
       "      <td>Revolt</td>\n",
       "      <td>False</td>\n",
       "      <td>5.5</td>\n",
       "      <td>294</td>\n",
       "    </tr>\n",
       "    <tr>\n",
       "      <th>18</th>\n",
       "      <td>False</td>\n",
       "      <td>/lZCDvCaCrnFK8EcX5TTmk72PzCy.jpg</td>\n",
       "      <td>[28, 35, 14]</td>\n",
       "      <td>11817</td>\n",
       "      <td>en</td>\n",
       "      <td>Bulletproof Monk</td>\n",
       "      <td>A mysterious and immortal Tibetan kung fu master, who has spent the last 60 years traveling around the world protecting the ancient Scroll of the Ultimate, mentors a selfish street kid in the ancient intricacies of kung fu.</td>\n",
       "      <td>15.592</td>\n",
       "      <td>/kHWv16c4uDmiEujICSBdQ52TH55.jpg</td>\n",
       "      <td>2003-03-28</td>\n",
       "      <td>Bulletproof Monk</td>\n",
       "      <td>False</td>\n",
       "      <td>5.5</td>\n",
       "      <td>753</td>\n",
       "    </tr>\n",
       "    <tr>\n",
       "      <th>19</th>\n",
       "      <td>False</td>\n",
       "      <td>/ictYT7jrWrJwTs11agZVxX8W1ZB.jpg</td>\n",
       "      <td>[27, 14, 53, 18]</td>\n",
       "      <td>362826</td>\n",
       "      <td>en</td>\n",
       "      <td>Wildling</td>\n",
       "      <td>A young woman held in captivity discovers the realities of truth and lies in the outside world.</td>\n",
       "      <td>13.509</td>\n",
       "      <td>/wZQR6hKRUBqHRL4lfECFES68zGF.jpg</td>\n",
       "      <td>2018-04-13</td>\n",
       "      <td>Wildling</td>\n",
       "      <td>False</td>\n",
       "      <td>5.5</td>\n",
       "      <td>293</td>\n",
       "    </tr>\n",
       "  </tbody>\n",
       "</table>\n",
       "</div>"
      ],
      "text/plain": [
       "    adult                     backdrop_path              genre_ids      id  \\\n",
       "0   False  /of1EpT8iYFfiF1b0Bo3PPHjyAzi.jpg            [35, 10751]   22949   \n",
       "1   False  /qZfbYKc0AlXPD7gEbh9m4r3LBHF.jpg        [53, 878, 9648]     437   \n",
       "2   False  /2jB7zzzvBxFCdEPOWKLP4yakPGp.jpg  [10749, 10751, 10770]  488113   \n",
       "3   False  /wMUPT99gw6IB9OVvC46rF8wHIRt.jpg           [28, 80, 14]  890656   \n",
       "4   False  /txfEqZ0eT5tcPcWnj1XJ6LLKoAZ.jpg                   [35]  513083   \n",
       "5   False  /beEjNV725OEZ7JZQxNN1eZ0Wyt3.jpg               [80, 18]   75622   \n",
       "6   False  /qAsxETj5fhZkW00KOzhHB6XQkaJ.jpg        [35, 10751, 14]   23023   \n",
       "7   False  /xRWiWV5tiwjgqPipdRTuXt1VNky.jpg           [53, 80, 28]  262338   \n",
       "8   False  /ApgpEdgtU9Y55mehnR9TV9wPyHd.jpg           [18, 27, 53]    9592   \n",
       "9   False  /g9ekJY8zNxQ9J3cRYQHzRwiObuq.jpg            [10749, 35]   11812   \n",
       "10  False  /9V529yHwmYay2wmYo0YcgUijeJO.jpg               [27, 53]    9793   \n",
       "11  False  /2995K991Na0ZDVIohnweSBngSkD.jpg        [35, 18, 10749]  529784   \n",
       "12  False  /luOLydz3H319kUl79MbBcfGsCgz.jpg           [35, 12, 28]    6519   \n",
       "13  False  /2saHJCr144gIf4QVYxmkpLOU4fy.jpg    [35, 28, 12, 10751]   17047   \n",
       "14  False   /BPQP8eNCGd2BMTZzlshs2U9SBF.jpg            [35, 10751]    9969   \n",
       "15  False  /cIiZwq1DxpeLTT0OnM2PYOpoaa3.jpg        [10749, 35, 27]  244566   \n",
       "16  False  /wPZPiHsd7Oz3vg3IuVRtSHBY9iU.jpg               [12, 14]   68737   \n",
       "17  False  /pJc4tR2aXYBBZDtpowamW0RL1KI.jpg              [878, 28]  313943   \n",
       "18  False  /lZCDvCaCrnFK8EcX5TTmk72PzCy.jpg           [28, 35, 14]   11817   \n",
       "19  False  /ictYT7jrWrJwTs11agZVxX8W1ZB.jpg       [27, 14, 53, 18]  362826   \n",
       "\n",
       "   original_language                          original_title  \\\n",
       "0                 en                                Old Dogs   \n",
       "1                 en                       Cube 2: Hypercube   \n",
       "2                 en               Christmas Wedding Planner   \n",
       "3                 en                    Fistful of Vengeance   \n",
       "4                 en                            Wine Country   \n",
       "5                 en                                 Rampart   \n",
       "6                 en                             Tooth Fairy   \n",
       "7                 en                             Good People   \n",
       "8                 en                    Open Water 2: Adrift   \n",
       "9                 en                      The Sweetest Thing   \n",
       "10                en                   The Hills Have Eyes 2   \n",
       "11                fr                          L'Homme fidèle   \n",
       "12                en                    The Dukes of Hazzard   \n",
       "13                en  Agent Cody Banks 2: Destination London   \n",
       "14                en                          Deck the Halls   \n",
       "15                en                         Life After Beth   \n",
       "16                en                             Seventh Son   \n",
       "17                en                                  Revolt   \n",
       "18                en                        Bulletproof Monk   \n",
       "19                en                                Wildling   \n",
       "\n",
       "                                                                                                                                                                                                                                                                                                                                                                                                                                                                                                                                                                                                                                                                                                               overview  \\\n",
       "0                                                   Charlie and Dan have been best friends and business partners for thirty years; their Manhattan public relations firm is on the verge of a huge business deal with a Japanese company. With two weeks to sew up the contract, Dan gets a surprise: a woman he married on a drunken impulse nearly nine years before (annulled the next day) shows up to tell him he's the father of her twins, now seven, and she'll be in jail for 14 days for a political protest. Dan volunteers to keep the tykes, although he's up tight and clueless. With Charlie's help is there any way they can be dad and uncle, meet the kids' expectations, and still land the account?   \n",
       "1                                                                                                                                                                                                                                                                                                                                                                                                                                                                    The sequel to the low budget first film Cube. This time the prisoners find them selves in a more advanced cube environment that they must escape from before they are killed. A science fiction film where space and time have more than one path.   \n",
       "2                                                                                                                                                                                                                                                                                                                             Wedding Planner, Kelsey Wilson, is about to have her big break: planning her beloved cousin's lavish and exclusive wedding. Everything is going smoothly until Connor McClane, a devilishly handsome private investigator, shows up and turns Kelsey's world upside-down. Hired by a secret source, Connor quickly disrupts the upcoming nuptials but wins Kelsey's heart in the process.   \n",
       "3                                                                                                                                                                                                                                                                                                                                                                                                                                                                                                                                                                                 A revenge mission becomes a fight to save the world from an ancient threat when superpowered assassin Kai tracks a killer to Bangkok.   \n",
       "4                                                                                                                                                                                                                                                                                                                                                                                                                                                                                                                                                                          A group of friends head to the land of oaky Chardonnays and big, bold Cabernet Sauvignons for one member of the squad’s 50th birthday party.   \n",
       "5                                                                                                                                                                                                                                                                                                                                                                                                                                                                                                                                                                Follows veteran police officer Dave Brown, the last of the renegade cops, as he struggles to take care of his family, and fights for his own survival.   \n",
       "6                                                                                                                                                                                                                                                                                                                                                                                                              When minor-league hockey player Derek Thompson -- who has a penchant for knocking out his opponents' teeth every time he plays -- disillusions a fan, he is sentenced to a stint for one week as a bona fide, tutu-clad, real-life tooth fairy. Soon, Derek is inspired to rekindle his youthful dreams.   \n",
       "7   Tom and Anna Wright, a young American couple, fall into severe debt while renovating Anna's family home in London. As the couple faces the loss of their dream to have a house and start a family, they discover that the tenant in the apartment below them is dead, and he's left behind a stash of cash—$400,000 worth. Though initially hesitant, Tom and Anna decide that the plan is simple: all they have to do is quietly take the money and use only what's necessary to get them out of debt. But when they start spending the money and can't seem to stop, they find themselves the target of a deadly adversary—the thief who stole it—and that's when very bad things start happening to good people.   \n",
       "8                                                                                                                                                                                                                                                                                                                                                                                                                                                                                                    A weekend cruise on a luxurious party yacht goes horribly wrong for a group of old high-school friends when they get stuck in the water many miles from shore and a happy reunion turns into a fight for survival.   \n",
       "9                                                                                                                                                                                                                                                                                   Christina's love life is stuck in neutral. After years of avoiding the hazards of a meaningful relationship, one night while club-hopping with her girlfriends, she meets Peter, her perfect match. Fed up with playing games, she finally gets the courage to let her guard down and follow her heart, only to discover that Peter has suddenly left town. Accompanied by Courtney, she sets out to capture the one that got away.   \n",
       "10                                                                                                                                                                                                                                                                                                                                                                                                                                                                                                                                                                          A group of National Guard trainees find themselves battling against a vicious group of mutants on their last day of training in the desert.   \n",
       "11                                                                                                                                                                                                                                                                                                                                                                                                                                                            Marianne leaves Abel for Paul, his best friend and the father of her unborn child. Eight years later, Paul dies and Marianne returns to Abel. However, things have changed for the both of them and feelings of jealousy surround their new relationship.   \n",
       "12                                                                                                                                                                                                                                                      Cousins, Bo and Luke Duke, with the help of their eye-catching cousin, Daisy and moonshine-running Uncle Jesse, try and save the family farm from being destroyed by Hazzard County's corrupt commissioner, Boss Hogg. Their efforts constantly find the 'Duke Boys' eluding authorities in 'The General Lee', their 1969 orange Dodge Charger that keeps them one step ahead of the dimwitted antics of the small southern town's Sheriff, Roscoe P. Coltrane.   \n",
       "13                                                                                                                                                                                                                                                                                                                                                                                                                                                                                  With all-new gadgets, high-flying action, exciting chases and a wisecracking new handler, Derek (Anthony Anderson), Cody has to retrieve the device before the world's leaders fall under the evil control of a diabolical villain.   \n",
       "14                                                                                                                                                                                                                                                                                                                                                                                                                        Determined to unseat Steve Finch's reign as the town's holiday season king, Buddy Hall plasters his house with so many decorative lights that it'll be visible from space! When their wives bond, and their kids follow suit, the two men only escalate their rivalry - and their decorating.   \n",
       "15                                                                                                                                                                                                                                                                                                                                                                                                                                                                                                                                        Zach is devastated by the unexpected death of his girlfriend, Beth. When she mysteriously returns, he gets a second chance at love. Soon his whole world turns upside down...   \n",
       "16                                                                                                                                                                                                                                                         John Gregory, who is a seventh son of a seventh son and also the local spook, has protected the country from witches, boggarts, ghouls and all manner of things that go bump in the night. However John is not young anymore, and has been seeking an apprentice to carry on his trade. Most have failed to survive. The last hope is a young farmer's son named Thomas Ward. Will he survive the training to become the spook that so many others couldn't?   \n",
       "17                                                                                                                                                                                                                                                                                                                                                                                                                           The story of humankind's last stand against a cataclysmic alien invasion. Set in the war-ravaged African countryside, a U.S. soldier and a French foreign aid worker team up to survive the alien onslaught. Their bond will be tested as they search for refuge across a crumbling world.   \n",
       "18                                                                                                                                                                                                                                                                                                                                                                                                                                                                                      A mysterious and immortal Tibetan kung fu master, who has spent the last 60 years traveling around the world protecting the ancient Scroll of the Ultimate, mentors a selfish street kid in the ancient intricacies of kung fu.   \n",
       "19                                                                                                                                                                                                                                                                                                                                                                                                                                                                                                                                                                                                                      A young woman held in captivity discovers the realities of truth and lies in the outside world.   \n",
       "\n",
       "    popularity                       poster_path release_date  \\\n",
       "0       28.944  /kBGqhumfOuDCpIErICWPHcXNvah.jpg   2009-11-24   \n",
       "1       15.957  /bEqqwtwUP7lm56VyeVONhv9JtYu.jpg   2002-04-15   \n",
       "2       12.713  /eiXeO0UXYLqASWcuJMJNgWqGqmC.jpg   2017-12-14   \n",
       "3      172.296  /3cccEF9QZgV9bLWyupJO41HSrOV.jpg   2022-02-17   \n",
       "4       13.070  /mi5l29DQFdwrTXxbqM2OLbs830H.jpg   2019-05-08   \n",
       "5        7.369  /ycpCRO2I5IvXoYETn7QcnY8vg3F.jpg   2011-11-23   \n",
       "6       47.479  /cRZvw3bPomtucIUtMHZ3qPIYtYs.jpg   2010-01-14   \n",
       "7       22.903  /zNhzWvhOJ18Twl5oKanVWT7bcSk.jpg   2014-08-12   \n",
       "8       20.488  /6bbQxUlPTBGYSWHMshG6K2MxtSl.jpg   2006-07-10   \n",
       "9       11.449  /74mjZ4PiWmlSCUWFySUCbNFiWk3.jpg   2002-04-12   \n",
       "10      51.028  /kvwuqoHUpPwZv8VWMh38pSCJLct.jpg   2007-03-22   \n",
       "11       8.206  /l1bHryDSFWgiDbEdTf2H7vQAKCp.jpg   2018-12-26   \n",
       "12      19.034  /o5pKtw26jEk7zX2446gPVbTNrFb.jpg   2005-08-05   \n",
       "13      16.098  /zlAltvp84rYVTYs3kdemqHBaiat.jpg   2004-03-12   \n",
       "14      12.862  /smJDzhYGhl6j9OrucsB7IkMNy82.jpg   2006-11-22   \n",
       "15      18.691  /4ZQ8LoU9SwSxSrmc3aOtHmruk26.jpg   2014-08-15   \n",
       "16      51.476  /7Q8DfXSjcFSSQDOxz1Sk865wNqI.jpg   2014-12-12   \n",
       "17      23.582  /eM2zipCkAXhp0BZF2noDp7bRFgV.jpg   2017-07-01   \n",
       "18      15.592  /kHWv16c4uDmiEujICSBdQ52TH55.jpg   2003-03-28   \n",
       "19      13.509  /wZQR6hKRUBqHRL4lfECFES68zGF.jpg   2018-04-13   \n",
       "\n",
       "                                     title  video  vote_average  vote_count  \n",
       "0                                 Old Dogs  False           5.5         615  \n",
       "1                        Cube 2: Hypercube  False           5.5        1160  \n",
       "2                Christmas Wedding Planner  False           5.5         378  \n",
       "3                     Fistful of Vengeance  False           5.5         207  \n",
       "4                             Wine Country  False           5.5         451  \n",
       "5                                  Rampart  False           5.5         290  \n",
       "6                              Tooth Fairy  False           5.5        1733  \n",
       "7                              Good People  False           5.5         400  \n",
       "8                     Open Water 2: Adrift  False           5.5         584  \n",
       "9                       The Sweetest Thing  False           5.5         897  \n",
       "10                   The Hills Have Eyes 2  False           5.5        1165  \n",
       "11                          A Faithful Man  False           5.5         224  \n",
       "12                    The Dukes of Hazzard  False           5.5         958  \n",
       "13  Agent Cody Banks 2: Destination London  False           5.5         531  \n",
       "14                          Deck the Halls  False           5.5         502  \n",
       "15                         Life After Beth  False           5.5         560  \n",
       "16                             Seventh Son  False           5.5        2227  \n",
       "17                                  Revolt  False           5.5         294  \n",
       "18                        Bulletproof Monk  False           5.5         753  \n",
       "19                                Wildling  False           5.5         293  "
      ]
     },
     "execution_count": 13,
     "metadata": {},
     "output_type": "execute_result"
    }
   ],
   "source": [
    "df_reviews "
   ]
  },
  {
   "cell_type": "code",
   "execution_count": 14,
   "id": "f0ead44f",
   "metadata": {},
   "outputs": [
    {
     "data": {
      "text/html": [
       "<div>\n",
       "<style scoped>\n",
       "    .dataframe tbody tr th:only-of-type {\n",
       "        vertical-align: middle;\n",
       "    }\n",
       "\n",
       "    .dataframe tbody tr th {\n",
       "        vertical-align: top;\n",
       "    }\n",
       "\n",
       "    .dataframe thead th {\n",
       "        text-align: right;\n",
       "    }\n",
       "</style>\n",
       "<table border=\"1\" class=\"dataframe\">\n",
       "  <thead>\n",
       "    <tr style=\"text-align: right;\">\n",
       "      <th></th>\n",
       "      <th>id</th>\n",
       "      <th>name</th>\n",
       "    </tr>\n",
       "  </thead>\n",
       "  <tbody>\n",
       "    <tr>\n",
       "      <th>0</th>\n",
       "      <td>28</td>\n",
       "      <td>Action</td>\n",
       "    </tr>\n",
       "    <tr>\n",
       "      <th>1</th>\n",
       "      <td>12</td>\n",
       "      <td>Adventure</td>\n",
       "    </tr>\n",
       "    <tr>\n",
       "      <th>2</th>\n",
       "      <td>16</td>\n",
       "      <td>Animation</td>\n",
       "    </tr>\n",
       "    <tr>\n",
       "      <th>3</th>\n",
       "      <td>35</td>\n",
       "      <td>Comedy</td>\n",
       "    </tr>\n",
       "    <tr>\n",
       "      <th>4</th>\n",
       "      <td>80</td>\n",
       "      <td>Crime</td>\n",
       "    </tr>\n",
       "    <tr>\n",
       "      <th>5</th>\n",
       "      <td>99</td>\n",
       "      <td>Documentary</td>\n",
       "    </tr>\n",
       "    <tr>\n",
       "      <th>6</th>\n",
       "      <td>18</td>\n",
       "      <td>Drama</td>\n",
       "    </tr>\n",
       "    <tr>\n",
       "      <th>7</th>\n",
       "      <td>10751</td>\n",
       "      <td>Family</td>\n",
       "    </tr>\n",
       "    <tr>\n",
       "      <th>8</th>\n",
       "      <td>14</td>\n",
       "      <td>Fantasy</td>\n",
       "    </tr>\n",
       "    <tr>\n",
       "      <th>9</th>\n",
       "      <td>36</td>\n",
       "      <td>History</td>\n",
       "    </tr>\n",
       "    <tr>\n",
       "      <th>10</th>\n",
       "      <td>27</td>\n",
       "      <td>Horror</td>\n",
       "    </tr>\n",
       "    <tr>\n",
       "      <th>11</th>\n",
       "      <td>10402</td>\n",
       "      <td>Music</td>\n",
       "    </tr>\n",
       "    <tr>\n",
       "      <th>12</th>\n",
       "      <td>9648</td>\n",
       "      <td>Mystery</td>\n",
       "    </tr>\n",
       "    <tr>\n",
       "      <th>13</th>\n",
       "      <td>10749</td>\n",
       "      <td>Romance</td>\n",
       "    </tr>\n",
       "    <tr>\n",
       "      <th>14</th>\n",
       "      <td>878</td>\n",
       "      <td>Science Fiction</td>\n",
       "    </tr>\n",
       "    <tr>\n",
       "      <th>15</th>\n",
       "      <td>10770</td>\n",
       "      <td>TV Movie</td>\n",
       "    </tr>\n",
       "    <tr>\n",
       "      <th>16</th>\n",
       "      <td>53</td>\n",
       "      <td>Thriller</td>\n",
       "    </tr>\n",
       "    <tr>\n",
       "      <th>17</th>\n",
       "      <td>10752</td>\n",
       "      <td>War</td>\n",
       "    </tr>\n",
       "    <tr>\n",
       "      <th>18</th>\n",
       "      <td>37</td>\n",
       "      <td>Western</td>\n",
       "    </tr>\n",
       "  </tbody>\n",
       "</table>\n",
       "</div>"
      ],
      "text/plain": [
       "       id             name\n",
       "0      28           Action\n",
       "1      12        Adventure\n",
       "2      16        Animation\n",
       "3      35           Comedy\n",
       "4      80            Crime\n",
       "5      99      Documentary\n",
       "6      18            Drama\n",
       "7   10751           Family\n",
       "8      14          Fantasy\n",
       "9      36          History\n",
       "10     27           Horror\n",
       "11  10402            Music\n",
       "12   9648          Mystery\n",
       "13  10749          Romance\n",
       "14    878  Science Fiction\n",
       "15  10770         TV Movie\n",
       "16     53         Thriller\n",
       "17  10752              War\n",
       "18     37          Western"
      ]
     },
     "execution_count": 14,
     "metadata": {},
     "output_type": "execute_result"
    }
   ],
   "source": [
    "df_geners"
   ]
  },
  {
   "cell_type": "code",
   "execution_count": 15,
   "id": "da321b70",
   "metadata": {},
   "outputs": [],
   "source": [
    "df_reviews = df_reviews[['adult', 'genre_ids', 'overview', 'popularity','release_date', 'title','vote_count']]"
   ]
  },
  {
   "cell_type": "code",
   "execution_count": 16,
   "id": "2ab24ca8",
   "metadata": {
    "scrolled": true
   },
   "outputs": [
    {
     "data": {
      "text/html": [
       "<div>\n",
       "<style scoped>\n",
       "    .dataframe tbody tr th:only-of-type {\n",
       "        vertical-align: middle;\n",
       "    }\n",
       "\n",
       "    .dataframe tbody tr th {\n",
       "        vertical-align: top;\n",
       "    }\n",
       "\n",
       "    .dataframe thead th {\n",
       "        text-align: right;\n",
       "    }\n",
       "</style>\n",
       "<table border=\"1\" class=\"dataframe\">\n",
       "  <thead>\n",
       "    <tr style=\"text-align: right;\">\n",
       "      <th></th>\n",
       "      <th>adult</th>\n",
       "      <th>genre_ids</th>\n",
       "      <th>overview</th>\n",
       "      <th>popularity</th>\n",
       "      <th>release_date</th>\n",
       "      <th>title</th>\n",
       "      <th>vote_count</th>\n",
       "    </tr>\n",
       "  </thead>\n",
       "  <tbody>\n",
       "    <tr>\n",
       "      <th>0</th>\n",
       "      <td>False</td>\n",
       "      <td>[35, 10751]</td>\n",
       "      <td>Charlie and Dan have been best friends and business partners for thirty years; their Manhattan public relations firm is on the verge of a huge business deal with a Japanese company. With two weeks to sew up the contract, Dan gets a surprise: a woman he married on a drunken impulse nearly nine years before (annulled the next day) shows up to tell him he's the father of her twins, now seven, and she'll be in jail for 14 days for a political protest. Dan volunteers to keep the tykes, although he's up tight and clueless. With Charlie's help is there any way they can be dad and uncle, meet the kids' expectations, and still land the account?</td>\n",
       "      <td>28.944</td>\n",
       "      <td>2009-11-24</td>\n",
       "      <td>Old Dogs</td>\n",
       "      <td>615</td>\n",
       "    </tr>\n",
       "    <tr>\n",
       "      <th>1</th>\n",
       "      <td>False</td>\n",
       "      <td>[53, 878, 9648]</td>\n",
       "      <td>The sequel to the low budget first film Cube. This time the prisoners find them selves in a more advanced cube environment that they must escape from before they are killed. A science fiction film where space and time have more than one path.</td>\n",
       "      <td>15.957</td>\n",
       "      <td>2002-04-15</td>\n",
       "      <td>Cube 2: Hypercube</td>\n",
       "      <td>1160</td>\n",
       "    </tr>\n",
       "    <tr>\n",
       "      <th>2</th>\n",
       "      <td>False</td>\n",
       "      <td>[10749, 10751, 10770]</td>\n",
       "      <td>Wedding Planner, Kelsey Wilson, is about to have her big break: planning her beloved cousin's lavish and exclusive wedding. Everything is going smoothly until Connor McClane, a devilishly handsome private investigator, shows up and turns Kelsey's world upside-down. Hired by a secret source, Connor quickly disrupts the upcoming nuptials but wins Kelsey's heart in the process.</td>\n",
       "      <td>12.713</td>\n",
       "      <td>2017-12-14</td>\n",
       "      <td>Christmas Wedding Planner</td>\n",
       "      <td>378</td>\n",
       "    </tr>\n",
       "    <tr>\n",
       "      <th>3</th>\n",
       "      <td>False</td>\n",
       "      <td>[28, 80, 14]</td>\n",
       "      <td>A revenge mission becomes a fight to save the world from an ancient threat when superpowered assassin Kai tracks a killer to Bangkok.</td>\n",
       "      <td>172.296</td>\n",
       "      <td>2022-02-17</td>\n",
       "      <td>Fistful of Vengeance</td>\n",
       "      <td>207</td>\n",
       "    </tr>\n",
       "    <tr>\n",
       "      <th>4</th>\n",
       "      <td>False</td>\n",
       "      <td>[35]</td>\n",
       "      <td>A group of friends head to the land of oaky Chardonnays and big, bold Cabernet Sauvignons for one member of the squad’s 50th birthday party.</td>\n",
       "      <td>13.070</td>\n",
       "      <td>2019-05-08</td>\n",
       "      <td>Wine Country</td>\n",
       "      <td>451</td>\n",
       "    </tr>\n",
       "  </tbody>\n",
       "</table>\n",
       "</div>"
      ],
      "text/plain": [
       "   adult              genre_ids  \\\n",
       "0  False            [35, 10751]   \n",
       "1  False        [53, 878, 9648]   \n",
       "2  False  [10749, 10751, 10770]   \n",
       "3  False           [28, 80, 14]   \n",
       "4  False                   [35]   \n",
       "\n",
       "                                                                                                                                                                                                                                                                                                                                                                                                                                                                                                                                                                                                                                                              overview  \\\n",
       "0  Charlie and Dan have been best friends and business partners for thirty years; their Manhattan public relations firm is on the verge of a huge business deal with a Japanese company. With two weeks to sew up the contract, Dan gets a surprise: a woman he married on a drunken impulse nearly nine years before (annulled the next day) shows up to tell him he's the father of her twins, now seven, and she'll be in jail for 14 days for a political protest. Dan volunteers to keep the tykes, although he's up tight and clueless. With Charlie's help is there any way they can be dad and uncle, meet the kids' expectations, and still land the account?   \n",
       "1                                                                                                                                                                                                                                                                                                                                                                                                                   The sequel to the low budget first film Cube. This time the prisoners find them selves in a more advanced cube environment that they must escape from before they are killed. A science fiction film where space and time have more than one path.   \n",
       "2                                                                                                                                                                                                                                                                            Wedding Planner, Kelsey Wilson, is about to have her big break: planning her beloved cousin's lavish and exclusive wedding. Everything is going smoothly until Connor McClane, a devilishly handsome private investigator, shows up and turns Kelsey's world upside-down. Hired by a secret source, Connor quickly disrupts the upcoming nuptials but wins Kelsey's heart in the process.   \n",
       "3                                                                                                                                                                                                                                                                                                                                                                                                                                                                                                                                A revenge mission becomes a fight to save the world from an ancient threat when superpowered assassin Kai tracks a killer to Bangkok.   \n",
       "4                                                                                                                                                                                                                                                                                                                                                                                                                                                                                                                         A group of friends head to the land of oaky Chardonnays and big, bold Cabernet Sauvignons for one member of the squad’s 50th birthday party.   \n",
       "\n",
       "   popularity release_date                      title  vote_count  \n",
       "0      28.944   2009-11-24                   Old Dogs         615  \n",
       "1      15.957   2002-04-15          Cube 2: Hypercube        1160  \n",
       "2      12.713   2017-12-14  Christmas Wedding Planner         378  \n",
       "3     172.296   2022-02-17       Fistful of Vengeance         207  \n",
       "4      13.070   2019-05-08               Wine Country         451  "
      ]
     },
     "execution_count": 16,
     "metadata": {},
     "output_type": "execute_result"
    }
   ],
   "source": [
    "df_reviews.head()"
   ]
  },
  {
   "cell_type": "code",
   "execution_count": 17,
   "id": "e69df99f",
   "metadata": {},
   "outputs": [
    {
     "data": {
      "text/plain": [
       "20"
      ]
     },
     "execution_count": 17,
     "metadata": {},
     "output_type": "execute_result"
    }
   ],
   "source": [
    "len(df_reviews['genre_ids'])"
   ]
  },
  {
   "cell_type": "code",
   "execution_count": 18,
   "id": "f71d0e32",
   "metadata": {},
   "outputs": [
    {
     "data": {
      "text/plain": [
       "0               [35, 10751]\n",
       "1           [53, 878, 9648]\n",
       "2     [10749, 10751, 10770]\n",
       "3              [28, 80, 14]\n",
       "4                      [35]\n",
       "5                  [80, 18]\n",
       "6           [35, 10751, 14]\n",
       "7              [53, 80, 28]\n",
       "8              [18, 27, 53]\n",
       "9               [10749, 35]\n",
       "10                 [27, 53]\n",
       "11          [35, 18, 10749]\n",
       "12             [35, 12, 28]\n",
       "13      [35, 28, 12, 10751]\n",
       "14              [35, 10751]\n",
       "15          [10749, 35, 27]\n",
       "16                 [12, 14]\n",
       "17                [878, 28]\n",
       "18             [28, 35, 14]\n",
       "19         [27, 14, 53, 18]\n",
       "Name: genre_ids, dtype: object"
      ]
     },
     "execution_count": 18,
     "metadata": {},
     "output_type": "execute_result"
    }
   ],
   "source": [
    "df_reviews['genre_ids']"
   ]
  },
  {
   "cell_type": "code",
   "execution_count": 19,
   "id": "410ed90a",
   "metadata": {},
   "outputs": [
    {
     "data": {
      "text/plain": [
       "list"
      ]
     },
     "execution_count": 19,
     "metadata": {},
     "output_type": "execute_result"
    }
   ],
   "source": [
    "type(df_reviews['genre_ids'][1])"
   ]
  },
  {
   "cell_type": "code",
   "execution_count": 20,
   "id": "f4b80022",
   "metadata": {},
   "outputs": [
    {
     "data": {
      "text/plain": [
       "3"
      ]
     },
     "execution_count": 20,
     "metadata": {},
     "output_type": "execute_result"
    }
   ],
   "source": [
    "len(df_reviews['genre_ids'][1])"
   ]
  },
  {
   "cell_type": "code",
   "execution_count": 21,
   "id": "670b1c10",
   "metadata": {},
   "outputs": [
    {
     "data": {
      "text/plain": [
       "[53, 878, 9648]"
      ]
     },
     "execution_count": 21,
     "metadata": {},
     "output_type": "execute_result"
    }
   ],
   "source": [
    "df_reviews['genre_ids'][1]"
   ]
  },
  {
   "cell_type": "code",
   "execution_count": 22,
   "id": "ae83bdc8",
   "metadata": {},
   "outputs": [
    {
     "data": {
      "text/plain": [
       "53"
      ]
     },
     "execution_count": 22,
     "metadata": {},
     "output_type": "execute_result"
    }
   ],
   "source": [
    "df_reviews['genre_ids'][1][0]"
   ]
  },
  {
   "cell_type": "code",
   "execution_count": 23,
   "id": "32d9b48c",
   "metadata": {},
   "outputs": [],
   "source": [
    "#........\n",
    "name = df_geners['name'][df_geners[\"id\"]==35]"
   ]
  },
  {
   "cell_type": "code",
   "execution_count": 24,
   "id": "da4fa0cc",
   "metadata": {},
   "outputs": [
    {
     "name": "stdout",
     "output_type": "stream",
     "text": [
      "3    Comedy\n",
      "Name: name, dtype: object\n"
     ]
    }
   ],
   "source": [
    "print(name)"
   ]
  },
  {
   "cell_type": "code",
   "execution_count": 25,
   "id": "9850117b",
   "metadata": {},
   "outputs": [
    {
     "data": {
      "text/plain": [
       "1"
      ]
     },
     "execution_count": 25,
     "metadata": {},
     "output_type": "execute_result"
    }
   ],
   "source": [
    "len(name)"
   ]
  },
  {
   "cell_type": "code",
   "execution_count": 27,
   "id": "c97e8094",
   "metadata": {},
   "outputs": [],
   "source": [
    "# collecting all gener name from id\n",
    "gener_list  = []\n",
    "def get_geners_name(generes_list):\n",
    "    for gener_ids in generes_list:\n",
    "        for ID in gener_ids:\n",
    "            return df_geners[df_geners[\"id\"] == ID]\n",
    " \n",
    "            \n",
    " "
   ]
  },
  {
   "cell_type": "code",
   "execution_count": 32,
   "id": "0a5b2516",
   "metadata": {},
   "outputs": [],
   "source": [
    "g = get_geners_name(df_reviews['genre_ids'])"
   ]
  },
  {
   "cell_type": "code",
   "execution_count": 33,
   "id": "a42fd1b5",
   "metadata": {
    "scrolled": true
   },
   "outputs": [
    {
     "data": {
      "text/plain": [
       "pandas.core.frame.DataFrame"
      ]
     },
     "execution_count": 33,
     "metadata": {},
     "output_type": "execute_result"
    }
   ],
   "source": [
    "type(g)"
   ]
  },
  {
   "cell_type": "code",
   "execution_count": 34,
   "id": "6edfe079",
   "metadata": {},
   "outputs": [
    {
     "data": {
      "text/html": [
       "<div>\n",
       "<style scoped>\n",
       "    .dataframe tbody tr th:only-of-type {\n",
       "        vertical-align: middle;\n",
       "    }\n",
       "\n",
       "    .dataframe tbody tr th {\n",
       "        vertical-align: top;\n",
       "    }\n",
       "\n",
       "    .dataframe thead th {\n",
       "        text-align: right;\n",
       "    }\n",
       "</style>\n",
       "<table border=\"1\" class=\"dataframe\">\n",
       "  <thead>\n",
       "    <tr style=\"text-align: right;\">\n",
       "      <th></th>\n",
       "      <th>id</th>\n",
       "      <th>name</th>\n",
       "    </tr>\n",
       "  </thead>\n",
       "  <tbody>\n",
       "    <tr>\n",
       "      <th>3</th>\n",
       "      <td>35</td>\n",
       "      <td>Comedy</td>\n",
       "    </tr>\n",
       "  </tbody>\n",
       "</table>\n",
       "</div>"
      ],
      "text/plain": [
       "   id    name\n",
       "3  35  Comedy"
      ]
     },
     "execution_count": 34,
     "metadata": {},
     "output_type": "execute_result"
    }
   ],
   "source": [
    "g"
   ]
  },
  {
   "cell_type": "code",
   "execution_count": null,
   "id": "3d052ab8",
   "metadata": {},
   "outputs": [],
   "source": [
    "a = []\n",
    "b = []\n",
    "a.append(\"a\")\n",
    "a.append(\"bash\")"
   ]
  },
  {
   "cell_type": "code",
   "execution_count": null,
   "id": "066f3b82",
   "metadata": {},
   "outputs": [],
   "source": [
    "b.extend(a)\n"
   ]
  },
  {
   "cell_type": "code",
   "execution_count": null,
   "id": "aafcabd0",
   "metadata": {},
   "outputs": [],
   "source": [
    "b"
   ]
  },
  {
   "cell_type": "code",
   "execution_count": null,
   "id": "ef279ecf",
   "metadata": {},
   "outputs": [],
   "source": [
    "a.clear()"
   ]
  },
  {
   "cell_type": "code",
   "execution_count": null,
   "id": "057269a8",
   "metadata": {},
   "outputs": [],
   "source": [
    "b"
   ]
  },
  {
   "cell_type": "code",
   "execution_count": null,
   "id": "605eb845",
   "metadata": {},
   "outputs": [],
   "source": [
    "a.append('new')\n"
   ]
  },
  {
   "cell_type": "code",
   "execution_count": null,
   "id": "99b53653",
   "metadata": {},
   "outputs": [],
   "source": [
    "b.append(a)"
   ]
  },
  {
   "cell_type": "code",
   "execution_count": null,
   "id": "48ed35c3",
   "metadata": {},
   "outputs": [],
   "source": [
    "b"
   ]
  },
  {
   "cell_type": "code",
   "execution_count": null,
   "id": "e8e7293d",
   "metadata": {},
   "outputs": [],
   "source": []
  }
 ],
 "metadata": {
  "kernelspec": {
   "display_name": "Python 3 (ipykernel)",
   "language": "python",
   "name": "python3"
  },
  "language_info": {
   "codemirror_mode": {
    "name": "ipython",
    "version": 3
   },
   "file_extension": ".py",
   "mimetype": "text/x-python",
   "name": "python",
   "nbconvert_exporter": "python",
   "pygments_lexer": "ipython3",
   "version": "3.9.12"
  },
  "varInspector": {
   "cols": {
    "lenName": 16,
    "lenType": 16,
    "lenVar": 40
   },
   "kernels_config": {
    "python": {
     "delete_cmd_postfix": "",
     "delete_cmd_prefix": "del ",
     "library": "var_list.py",
     "varRefreshCmd": "print(var_dic_list())"
    },
    "r": {
     "delete_cmd_postfix": ") ",
     "delete_cmd_prefix": "rm(",
     "library": "var_list.r",
     "varRefreshCmd": "cat(var_dic_list()) "
    }
   },
   "types_to_exclude": [
    "module",
    "function",
    "builtin_function_or_method",
    "instance",
    "_Feature"
   ],
   "window_display": false
  }
 },
 "nbformat": 4,
 "nbformat_minor": 5
}
