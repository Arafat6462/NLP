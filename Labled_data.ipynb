{
 "cells": [
  {
   "cell_type": "code",
   "execution_count": 27,
   "id": "3d6d2e41",
   "metadata": {
    "ExecuteTime": {
     "end_time": "2022-09-20T06:15:15.740095Z",
     "start_time": "2022-09-20T06:15:15.441501Z"
    }
   },
   "outputs": [
    {
     "name": "stderr",
     "output_type": "stream",
     "text": [
      "[nltk_data] Downloading package stopwords to /home/arafat/nltk_data...\n",
      "[nltk_data]   Package stopwords is already up-to-date!\n"
     ]
    }
   ],
   "source": [
    "import numpy as np # linear algebra\n",
    "import pandas as pd # data processing, csv file I/O\n",
    "import matplotlib.pyplot as plt\n",
    "from wordcloud import WordCloud\n",
    "\n",
    "# for data preprocessing\n",
    "from sklearn.compose import ColumnTransformer\n",
    "from sklearn.preprocessing import OneHotEncoder\n",
    "\n",
    "# NLP tools\n",
    "import re\n",
    "import nltk\n",
    "nltk.download('stopwords')\n",
    "from nltk.corpus import stopwords\n",
    "from nltk.stem.porter import PorterStemmer\n",
    "from sklearn.feature_extraction.text import CountVectorizer\n",
    "\n",
    "# train split and fit models\n",
    "from sklearn.model_selection import train_test_split\n",
    "from sklearn.linear_model import LogisticRegression\n",
    "from sklearn import svm\n",
    "from sklearn.naive_bayes import GaussianNB\n",
    "\n",
    "# model selection\n",
    "from sklearn.metrics import confusion_matrix, accuracy_score\n",
    "\n",
    " "
   ]
  },
  {
   "cell_type": "code",
   "execution_count": 28,
   "id": "f3c844ca",
   "metadata": {
    "ExecuteTime": {
     "end_time": "2022-09-20T06:15:16.420589Z",
     "start_time": "2022-09-20T06:15:16.356336Z"
    }
   },
   "outputs": [
    {
     "data": {
      "text/html": [
       "<div>\n",
       "<style scoped>\n",
       "    .dataframe tbody tr th:only-of-type {\n",
       "        vertical-align: middle;\n",
       "    }\n",
       "\n",
       "    .dataframe tbody tr th {\n",
       "        vertical-align: top;\n",
       "    }\n",
       "\n",
       "    .dataframe thead th {\n",
       "        text-align: right;\n",
       "    }\n",
       "</style>\n",
       "<table border=\"1\" class=\"dataframe\">\n",
       "  <thead>\n",
       "    <tr style=\"text-align: right;\">\n",
       "      <th></th>\n",
       "      <th>Unnamed: 0</th>\n",
       "      <th>count</th>\n",
       "      <th>hate_speech</th>\n",
       "      <th>offensive_language</th>\n",
       "      <th>neither</th>\n",
       "      <th>class</th>\n",
       "      <th>tweet</th>\n",
       "    </tr>\n",
       "  </thead>\n",
       "  <tbody>\n",
       "    <tr>\n",
       "      <th>0</th>\n",
       "      <td>0</td>\n",
       "      <td>3</td>\n",
       "      <td>0</td>\n",
       "      <td>0</td>\n",
       "      <td>3</td>\n",
       "      <td>2</td>\n",
       "      <td>!!! RT @mayasolovely: As a woman you shouldn't complain about cleaning up your house. &amp;amp; as a man you should always take the trash out...</td>\n",
       "    </tr>\n",
       "    <tr>\n",
       "      <th>1</th>\n",
       "      <td>1</td>\n",
       "      <td>3</td>\n",
       "      <td>0</td>\n",
       "      <td>3</td>\n",
       "      <td>0</td>\n",
       "      <td>1</td>\n",
       "      <td>!!!!! RT @mleew17: boy dats cold...tyga dwn bad for cuffin dat hoe in the 1st place!!</td>\n",
       "    </tr>\n",
       "    <tr>\n",
       "      <th>2</th>\n",
       "      <td>2</td>\n",
       "      <td>3</td>\n",
       "      <td>0</td>\n",
       "      <td>3</td>\n",
       "      <td>0</td>\n",
       "      <td>1</td>\n",
       "      <td>!!!!!!! RT @UrKindOfBrand Dawg!!!! RT @80sbaby4life: You ever fuck a bitch and she start to cry? You be confused as shit</td>\n",
       "    </tr>\n",
       "    <tr>\n",
       "      <th>3</th>\n",
       "      <td>3</td>\n",
       "      <td>3</td>\n",
       "      <td>0</td>\n",
       "      <td>2</td>\n",
       "      <td>1</td>\n",
       "      <td>1</td>\n",
       "      <td>!!!!!!!!! RT @C_G_Anderson: @viva_based she look like a tranny</td>\n",
       "    </tr>\n",
       "    <tr>\n",
       "      <th>4</th>\n",
       "      <td>4</td>\n",
       "      <td>6</td>\n",
       "      <td>0</td>\n",
       "      <td>6</td>\n",
       "      <td>0</td>\n",
       "      <td>1</td>\n",
       "      <td>!!!!!!!!!!!!! RT @ShenikaRoberts: The shit you hear about me might be true or it might be faker than the bitch who told it to ya &amp;#57361;</td>\n",
       "    </tr>\n",
       "  </tbody>\n",
       "</table>\n",
       "</div>"
      ],
      "text/plain": [
       "   Unnamed: 0  count  hate_speech  offensive_language  neither  class  \\\n",
       "0           0      3            0                   0        3      2   \n",
       "1           1      3            0                   3        0      1   \n",
       "2           2      3            0                   3        0      1   \n",
       "3           3      3            0                   2        1      1   \n",
       "4           4      6            0                   6        0      1   \n",
       "\n",
       "                                                                                                                                          tweet  \n",
       "0  !!! RT @mayasolovely: As a woman you shouldn't complain about cleaning up your house. &amp; as a man you should always take the trash out...  \n",
       "1                                                         !!!!! RT @mleew17: boy dats cold...tyga dwn bad for cuffin dat hoe in the 1st place!!  \n",
       "2                      !!!!!!! RT @UrKindOfBrand Dawg!!!! RT @80sbaby4life: You ever fuck a bitch and she start to cry? You be confused as shit  \n",
       "3                                                                                !!!!!!!!! RT @C_G_Anderson: @viva_based she look like a tranny  \n",
       "4     !!!!!!!!!!!!! RT @ShenikaRoberts: The shit you hear about me might be true or it might be faker than the bitch who told it to ya &#57361;  "
      ]
     },
     "execution_count": 28,
     "metadata": {},
     "output_type": "execute_result"
    }
   ],
   "source": [
    "dataset = pd.read_csv('labeled_data.csv')\n",
    "pd.set_option(\"display.max_colwidth\", None)\n",
    "dataset.head()"
   ]
  },
  {
   "cell_type": "code",
   "execution_count": 29,
   "id": "02700b15",
   "metadata": {
    "ExecuteTime": {
     "end_time": "2022-09-20T06:15:17.194078Z",
     "start_time": "2022-09-20T06:15:17.152626Z"
    }
   },
   "outputs": [
    {
     "name": "stdout",
     "output_type": "stream",
     "text": [
      "<class 'pandas.core.frame.DataFrame'>\n",
      "RangeIndex: 24783 entries, 0 to 24782\n",
      "Data columns (total 7 columns):\n",
      " #   Column              Non-Null Count  Dtype \n",
      "---  ------              --------------  ----- \n",
      " 0   Unnamed: 0          24783 non-null  int64 \n",
      " 1   count               24783 non-null  int64 \n",
      " 2   hate_speech         24783 non-null  int64 \n",
      " 3   offensive_language  24783 non-null  int64 \n",
      " 4   neither             24783 non-null  int64 \n",
      " 5   class               24783 non-null  int64 \n",
      " 6   tweet               24783 non-null  object\n",
      "dtypes: int64(6), object(1)\n",
      "memory usage: 1.3+ MB\n"
     ]
    }
   ],
   "source": [
    "dataset.info()"
   ]
  },
  {
   "cell_type": "code",
   "execution_count": 30,
   "id": "331108b5",
   "metadata": {
    "ExecuteTime": {
     "end_time": "2022-09-20T06:15:17.923865Z",
     "start_time": "2022-09-20T06:15:17.889477Z"
    }
   },
   "outputs": [
    {
     "data": {
      "text/html": [
       "<div>\n",
       "<style scoped>\n",
       "    .dataframe tbody tr th:only-of-type {\n",
       "        vertical-align: middle;\n",
       "    }\n",
       "\n",
       "    .dataframe tbody tr th {\n",
       "        vertical-align: top;\n",
       "    }\n",
       "\n",
       "    .dataframe thead th {\n",
       "        text-align: right;\n",
       "    }\n",
       "</style>\n",
       "<table border=\"1\" class=\"dataframe\">\n",
       "  <thead>\n",
       "    <tr style=\"text-align: right;\">\n",
       "      <th></th>\n",
       "      <th>count</th>\n",
       "      <th>mean</th>\n",
       "      <th>std</th>\n",
       "      <th>min</th>\n",
       "      <th>25%</th>\n",
       "      <th>50%</th>\n",
       "      <th>75%</th>\n",
       "      <th>max</th>\n",
       "    </tr>\n",
       "  </thead>\n",
       "  <tbody>\n",
       "    <tr>\n",
       "      <th>Unnamed: 0</th>\n",
       "      <td>24783.0</td>\n",
       "      <td>12681.192027</td>\n",
       "      <td>7299.553863</td>\n",
       "      <td>0.0</td>\n",
       "      <td>6372.5</td>\n",
       "      <td>12703.0</td>\n",
       "      <td>18995.5</td>\n",
       "      <td>25296.0</td>\n",
       "    </tr>\n",
       "    <tr>\n",
       "      <th>count</th>\n",
       "      <td>24783.0</td>\n",
       "      <td>3.243473</td>\n",
       "      <td>0.883060</td>\n",
       "      <td>3.0</td>\n",
       "      <td>3.0</td>\n",
       "      <td>3.0</td>\n",
       "      <td>3.0</td>\n",
       "      <td>9.0</td>\n",
       "    </tr>\n",
       "    <tr>\n",
       "      <th>hate_speech</th>\n",
       "      <td>24783.0</td>\n",
       "      <td>0.280515</td>\n",
       "      <td>0.631851</td>\n",
       "      <td>0.0</td>\n",
       "      <td>0.0</td>\n",
       "      <td>0.0</td>\n",
       "      <td>0.0</td>\n",
       "      <td>7.0</td>\n",
       "    </tr>\n",
       "    <tr>\n",
       "      <th>offensive_language</th>\n",
       "      <td>24783.0</td>\n",
       "      <td>2.413711</td>\n",
       "      <td>1.399459</td>\n",
       "      <td>0.0</td>\n",
       "      <td>2.0</td>\n",
       "      <td>3.0</td>\n",
       "      <td>3.0</td>\n",
       "      <td>9.0</td>\n",
       "    </tr>\n",
       "    <tr>\n",
       "      <th>neither</th>\n",
       "      <td>24783.0</td>\n",
       "      <td>0.549247</td>\n",
       "      <td>1.113299</td>\n",
       "      <td>0.0</td>\n",
       "      <td>0.0</td>\n",
       "      <td>0.0</td>\n",
       "      <td>0.0</td>\n",
       "      <td>9.0</td>\n",
       "    </tr>\n",
       "    <tr>\n",
       "      <th>class</th>\n",
       "      <td>24783.0</td>\n",
       "      <td>1.110277</td>\n",
       "      <td>0.462089</td>\n",
       "      <td>0.0</td>\n",
       "      <td>1.0</td>\n",
       "      <td>1.0</td>\n",
       "      <td>1.0</td>\n",
       "      <td>2.0</td>\n",
       "    </tr>\n",
       "  </tbody>\n",
       "</table>\n",
       "</div>"
      ],
      "text/plain": [
       "                      count          mean          std  min     25%      50%  \\\n",
       "Unnamed: 0          24783.0  12681.192027  7299.553863  0.0  6372.5  12703.0   \n",
       "count               24783.0      3.243473     0.883060  3.0     3.0      3.0   \n",
       "hate_speech         24783.0      0.280515     0.631851  0.0     0.0      0.0   \n",
       "offensive_language  24783.0      2.413711     1.399459  0.0     2.0      3.0   \n",
       "neither             24783.0      0.549247     1.113299  0.0     0.0      0.0   \n",
       "class               24783.0      1.110277     0.462089  0.0     1.0      1.0   \n",
       "\n",
       "                        75%      max  \n",
       "Unnamed: 0          18995.5  25296.0  \n",
       "count                   3.0      9.0  \n",
       "hate_speech             0.0      7.0  \n",
       "offensive_language      3.0      9.0  \n",
       "neither                 0.0      9.0  \n",
       "class                   1.0      2.0  "
      ]
     },
     "execution_count": 30,
     "metadata": {},
     "output_type": "execute_result"
    }
   ],
   "source": [
    "dataset.describe().T"
   ]
  },
  {
   "cell_type": "code",
   "execution_count": 31,
   "id": "4c037941",
   "metadata": {
    "ExecuteTime": {
     "end_time": "2022-09-20T06:15:18.384991Z",
     "start_time": "2022-09-20T06:15:18.373549Z"
    }
   },
   "outputs": [],
   "source": [
    "dt_trasformed = dataset[['class', 'tweet']]\n"
   ]
  },
  {
   "cell_type": "code",
   "execution_count": 33,
   "id": "69fd74f9",
   "metadata": {
    "ExecuteTime": {
     "end_time": "2022-09-20T06:19:44.499543Z",
     "start_time": "2022-09-20T06:19:44.485578Z"
    }
   },
   "outputs": [
    {
     "data": {
      "text/html": [
       "<div>\n",
       "<style scoped>\n",
       "    .dataframe tbody tr th:only-of-type {\n",
       "        vertical-align: middle;\n",
       "    }\n",
       "\n",
       "    .dataframe tbody tr th {\n",
       "        vertical-align: top;\n",
       "    }\n",
       "\n",
       "    .dataframe thead th {\n",
       "        text-align: right;\n",
       "    }\n",
       "</style>\n",
       "<table border=\"1\" class=\"dataframe\">\n",
       "  <thead>\n",
       "    <tr style=\"text-align: right;\">\n",
       "      <th></th>\n",
       "      <th>class</th>\n",
       "      <th>tweet</th>\n",
       "    </tr>\n",
       "  </thead>\n",
       "  <tbody>\n",
       "    <tr>\n",
       "      <th>0</th>\n",
       "      <td>2</td>\n",
       "      <td>!!! RT @mayasolovely: As a woman you shouldn't complain about cleaning up your house. &amp;amp; as a man you should always take the trash out...</td>\n",
       "    </tr>\n",
       "    <tr>\n",
       "      <th>1</th>\n",
       "      <td>1</td>\n",
       "      <td>!!!!! RT @mleew17: boy dats cold...tyga dwn bad for cuffin dat hoe in the 1st place!!</td>\n",
       "    </tr>\n",
       "    <tr>\n",
       "      <th>2</th>\n",
       "      <td>1</td>\n",
       "      <td>!!!!!!! RT @UrKindOfBrand Dawg!!!! RT @80sbaby4life: You ever fuck a bitch and she start to cry? You be confused as shit</td>\n",
       "    </tr>\n",
       "    <tr>\n",
       "      <th>3</th>\n",
       "      <td>1</td>\n",
       "      <td>!!!!!!!!! RT @C_G_Anderson: @viva_based she look like a tranny</td>\n",
       "    </tr>\n",
       "    <tr>\n",
       "      <th>4</th>\n",
       "      <td>1</td>\n",
       "      <td>!!!!!!!!!!!!! RT @ShenikaRoberts: The shit you hear about me might be true or it might be faker than the bitch who told it to ya &amp;#57361;</td>\n",
       "    </tr>\n",
       "  </tbody>\n",
       "</table>\n",
       "</div>"
      ],
      "text/plain": [
       "   class  \\\n",
       "0      2   \n",
       "1      1   \n",
       "2      1   \n",
       "3      1   \n",
       "4      1   \n",
       "\n",
       "                                                                                                                                          tweet  \n",
       "0  !!! RT @mayasolovely: As a woman you shouldn't complain about cleaning up your house. &amp; as a man you should always take the trash out...  \n",
       "1                                                         !!!!! RT @mleew17: boy dats cold...tyga dwn bad for cuffin dat hoe in the 1st place!!  \n",
       "2                      !!!!!!! RT @UrKindOfBrand Dawg!!!! RT @80sbaby4life: You ever fuck a bitch and she start to cry? You be confused as shit  \n",
       "3                                                                                !!!!!!!!! RT @C_G_Anderson: @viva_based she look like a tranny  \n",
       "4     !!!!!!!!!!!!! RT @ShenikaRoberts: The shit you hear about me might be true or it might be faker than the bitch who told it to ya &#57361;  "
      ]
     },
     "execution_count": 33,
     "metadata": {},
     "output_type": "execute_result"
    }
   ],
   "source": [
    "dt_trasformed.head()"
   ]
  },
  {
   "cell_type": "code",
   "execution_count": 34,
   "id": "a52fbbf6",
   "metadata": {
    "ExecuteTime": {
     "end_time": "2022-09-20T06:21:58.524806Z",
     "start_time": "2022-09-20T06:21:58.513693Z"
    }
   },
   "outputs": [],
   "source": [
    "y = dt_trasformed.iloc[:,:-1].values"
   ]
  },
  {
   "cell_type": "code",
   "execution_count": 35,
   "id": "4d1445ad",
   "metadata": {
    "ExecuteTime": {
     "end_time": "2022-09-20T06:22:09.942728Z",
     "start_time": "2022-09-20T06:22:09.931142Z"
    }
   },
   "outputs": [
    {
     "data": {
      "text/plain": [
       "array([[2],\n",
       "       [1],\n",
       "       [1],\n",
       "       ...,\n",
       "       [1],\n",
       "       [1],\n",
       "       [2]])"
      ]
     },
     "execution_count": 35,
     "metadata": {},
     "output_type": "execute_result"
    }
   ],
   "source": [
    "y"
   ]
  },
  {
   "cell_type": "code",
   "execution_count": 6,
   "id": "0ea3f048",
   "metadata": {
    "ExecuteTime": {
     "end_time": "2022-09-20T05:58:43.386973Z",
     "start_time": "2022-09-20T05:58:43.383004Z"
    }
   },
   "outputs": [
    {
     "data": {
      "text/plain": [
       "numpy.ndarray"
      ]
     },
     "execution_count": 6,
     "metadata": {},
     "output_type": "execute_result"
    }
   ],
   "source": [
    "type(y)"
   ]
  },
  {
   "cell_type": "code",
   "execution_count": 25,
   "id": "a6a1a3eb",
   "metadata": {
    "ExecuteTime": {
     "end_time": "2022-09-20T06:14:23.070833Z",
     "start_time": "2022-09-20T06:14:23.044642Z"
    }
   },
   "outputs": [
    {
     "data": {
      "text/plain": [
       "(24783, 3)"
      ]
     },
     "execution_count": 25,
     "metadata": {},
     "output_type": "execute_result"
    }
   ],
   "source": [
    "y.shape"
   ]
  },
  {
   "cell_type": "code",
   "execution_count": 26,
   "id": "be6d104a",
   "metadata": {
    "ExecuteTime": {
     "end_time": "2022-09-20T06:14:26.623517Z",
     "start_time": "2022-09-20T06:14:26.605506Z"
    }
   },
   "outputs": [
    {
     "data": {
      "text/plain": [
       "array([[0., 0., 1.],\n",
       "       [0., 1., 0.],\n",
       "       [0., 1., 0.],\n",
       "       ...,\n",
       "       [0., 1., 0.],\n",
       "       [0., 1., 0.],\n",
       "       [0., 0., 1.]])"
      ]
     },
     "execution_count": 26,
     "metadata": {},
     "output_type": "execute_result"
    }
   ],
   "source": [
    "y"
   ]
  },
  {
   "cell_type": "markdown",
   "id": "138af76d",
   "metadata": {},
   "source": [
    "# Encoding the Dependent Variable"
   ]
  },
  {
   "cell_type": "code",
   "execution_count": 9,
   "id": "75e41d00",
   "metadata": {
    "ExecuteTime": {
     "end_time": "2022-09-20T05:58:43.405232Z",
     "start_time": "2022-09-20T05:58:43.400152Z"
    }
   },
   "outputs": [],
   "source": [
    "ct = ColumnTransformer(transformers=[('encoder', OneHotEncoder(), [0])], remainder='passthrough')\n",
    "y = np.array(ct.fit_transform(y))"
   ]
  },
  {
   "cell_type": "code",
   "execution_count": 10,
   "id": "d8222e68",
   "metadata": {
    "ExecuteTime": {
     "end_time": "2022-09-20T05:58:43.410217Z",
     "start_time": "2022-09-20T05:58:43.406956Z"
    }
   },
   "outputs": [
    {
     "data": {
      "text/plain": [
       "numpy.ndarray"
      ]
     },
     "execution_count": 10,
     "metadata": {},
     "output_type": "execute_result"
    }
   ],
   "source": [
    "type(y)"
   ]
  },
  {
   "cell_type": "code",
   "execution_count": 11,
   "id": "95ae61b1",
   "metadata": {
    "ExecuteTime": {
     "end_time": "2022-09-20T05:58:43.414381Z",
     "start_time": "2022-09-20T05:58:43.411426Z"
    }
   },
   "outputs": [
    {
     "name": "stdout",
     "output_type": "stream",
     "text": [
      "[[0. 0. 1.]\n",
      " [0. 1. 0.]\n",
      " [0. 1. 0.]\n",
      " ...\n",
      " [0. 1. 0.]\n",
      " [0. 1. 0.]\n",
      " [0. 0. 1.]]\n"
     ]
    }
   ],
   "source": [
    "print(y)"
   ]
  },
  {
   "cell_type": "markdown",
   "id": "051966ab",
   "metadata": {},
   "source": [
    "This data has been split into two variables that will be used to fit hate speech and offensive speech models."
   ]
  },
  {
   "cell_type": "code",
   "execution_count": 12,
   "id": "2ca080c8",
   "metadata": {
    "ExecuteTime": {
     "end_time": "2022-09-20T05:58:43.418081Z",
     "start_time": "2022-09-20T05:58:43.415463Z"
    }
   },
   "outputs": [],
   "source": [
    "y_df = pd.DataFrame(y)\n",
    "y_hate = np.array(y_df[0])\n",
    "y_offensive = np.array(y_df[1])"
   ]
  },
  {
   "cell_type": "code",
   "execution_count": null,
   "id": "e7567cd1",
   "metadata": {
    "ExecuteTime": {
     "end_time": "2022-09-19T14:45:13.195604Z",
     "start_time": "2022-09-19T14:45:13.185891Z"
    }
   },
   "outputs": [],
   "source": [
    " "
   ]
  },
  {
   "cell_type": "code",
   "execution_count": null,
   "id": "e6acbe77",
   "metadata": {},
   "outputs": [],
   "source": []
  },
  {
   "cell_type": "code",
   "execution_count": 13,
   "id": "96739f23",
   "metadata": {
    "ExecuteTime": {
     "end_time": "2022-09-20T05:58:43.422130Z",
     "start_time": "2022-09-20T05:58:43.419080Z"
    }
   },
   "outputs": [
    {
     "name": "stdout",
     "output_type": "stream",
     "text": [
      "[0. 0. 0. ... 0. 0. 0.]\n",
      "[0. 1. 1. ... 1. 1. 0.]\n"
     ]
    }
   ],
   "source": [
    "print(y_hate)\n",
    "print(y_offensive)"
   ]
  },
  {
   "cell_type": "markdown",
   "id": "582d17e7",
   "metadata": {},
   "source": [
    "# Cleaning the texts"
   ]
  },
  {
   "cell_type": "code",
   "execution_count": 14,
   "id": "50ab4b88",
   "metadata": {
    "ExecuteTime": {
     "end_time": "2022-09-20T05:58:50.320087Z",
     "start_time": "2022-09-20T05:58:43.423285Z"
    }
   },
   "outputs": [],
   "source": [
    "corpus = []\n",
    "for i in range(0, 24783):\n",
    "    review = re.sub('[^a-zA-Z]', ' ', dt_trasformed['tweet'][i])\n",
    "    review = review.lower()\n",
    "    review = review.split()\n",
    "    ps = PorterStemmer()\n",
    "    all_stopwords = stopwords.words('english')\n",
    "    all_stopwords.remove('not')\n",
    "    review = [ps.stem(word) for word in review if not word in set(all_stopwords)]\n",
    "    review = ' '.join(review)\n",
    "    corpus.append(review)"
   ]
  },
  {
   "cell_type": "code",
   "execution_count": 15,
   "id": "d4c634af",
   "metadata": {
    "ExecuteTime": {
     "end_time": "2022-09-20T05:58:50.324627Z",
     "start_time": "2022-09-20T05:58:50.321093Z"
    }
   },
   "outputs": [
    {
     "data": {
      "text/plain": [
       "['rt mayasolov woman complain clean hous amp man alway take trash',\n",
       " 'rt mleew boy dat cold tyga dwn bad cuffin dat hoe st place',\n",
       " 'rt urkindofbrand dawg rt sbabi life ever fuck bitch start cri confus shit',\n",
       " 'rt c g anderson viva base look like tranni',\n",
       " 'rt shenikarobert shit hear might true might faker bitch told ya']"
      ]
     },
     "execution_count": 15,
     "metadata": {},
     "output_type": "execute_result"
    }
   ],
   "source": [
    "corpus[:5]"
   ]
  },
  {
   "cell_type": "code",
   "execution_count": 16,
   "id": "7b147624",
   "metadata": {
    "ExecuteTime": {
     "end_time": "2022-09-20T05:58:50.769624Z",
     "start_time": "2022-09-20T05:58:50.326072Z"
    }
   },
   "outputs": [],
   "source": [
    "cv = CountVectorizer(max_features = 2000)\n",
    "X = cv.fit_transform(corpus).toarray()"
   ]
  },
  {
   "cell_type": "markdown",
   "id": "66d5df7b",
   "metadata": {},
   "source": [
    "#### Splitting the dataset into the Training and Test set"
   ]
  },
  {
   "cell_type": "code",
   "execution_count": 17,
   "id": "c0c6df8c",
   "metadata": {
    "ExecuteTime": {
     "end_time": "2022-09-20T05:58:51.797502Z",
     "start_time": "2022-09-20T05:58:50.770861Z"
    }
   },
   "outputs": [],
   "source": [
    "x_train, x_test, y_train, y_test = train_test_split(X, y_hate, test_size = .3, random_state = 0)"
   ]
  },
  {
   "cell_type": "markdown",
   "id": "1bab7bcf",
   "metadata": {},
   "source": [
    "#### Finding the best model to predict hate speech\n",
    "Naive Bayes"
   ]
  },
  {
   "cell_type": "code",
   "execution_count": 18,
   "id": "a6b00836",
   "metadata": {
    "ExecuteTime": {
     "end_time": "2022-09-20T05:58:54.643490Z",
     "start_time": "2022-09-20T05:58:51.800215Z"
    }
   },
   "outputs": [
    {
     "data": {
      "text/plain": [
       "GaussianNB()"
      ]
     },
     "execution_count": 18,
     "metadata": {},
     "output_type": "execute_result"
    }
   ],
   "source": [
    "classifier_np = GaussianNB()\n",
    "classifier_np.fit(x_train, y_train)"
   ]
  },
  {
   "cell_type": "markdown",
   "id": "bbe221d1",
   "metadata": {},
   "source": [
    "Logistic Regression"
   ]
  },
  {
   "cell_type": "code",
   "execution_count": 19,
   "id": "3226b47e",
   "metadata": {
    "ExecuteTime": {
     "end_time": "2022-09-20T05:58:58.820985Z",
     "start_time": "2022-09-20T05:58:54.646617Z"
    }
   },
   "outputs": [
    {
     "data": {
      "text/plain": [
       "LogisticRegression(random_state=0)"
      ]
     },
     "execution_count": 19,
     "metadata": {},
     "output_type": "execute_result"
    }
   ],
   "source": [
    "classifier_lr = LogisticRegression(random_state=0)\n",
    "classifier_lr.fit(x_train, y_train)"
   ]
  },
  {
   "cell_type": "markdown",
   "id": "1433b089",
   "metadata": {},
   "source": [
    "SVM Classifier"
   ]
  },
  {
   "cell_type": "code",
   "execution_count": 20,
   "id": "54141d42",
   "metadata": {
    "ExecuteTime": {
     "end_time": "2022-09-20T06:01:50.032993Z",
     "start_time": "2022-09-20T05:58:58.830888Z"
    }
   },
   "outputs": [
    {
     "data": {
      "text/plain": [
       "SVC()"
      ]
     },
     "execution_count": 20,
     "metadata": {},
     "output_type": "execute_result"
    }
   ],
   "source": [
    "classifier_svm = svm.SVC()\n",
    "classifier_svm.fit(x_train, y_train)"
   ]
  },
  {
   "cell_type": "markdown",
   "id": "e583d8da",
   "metadata": {},
   "source": [
    "# Making the Confusion Matrix for each model"
   ]
  },
  {
   "cell_type": "code",
   "execution_count": 21,
   "id": "5b369873",
   "metadata": {
    "ExecuteTime": {
     "end_time": "2022-09-20T06:01:50.228631Z",
     "start_time": "2022-09-20T06:01:50.034427Z"
    }
   },
   "outputs": [
    {
     "name": "stdout",
     "output_type": "stream",
     "text": [
      "[[3289 3719]\n",
      " [ 168  259]]\n"
     ]
    }
   ],
   "source": [
    "# naive bayes\n",
    "y_pred_np = classifier_np.predict(x_test)\n",
    "cm = confusion_matrix(y_test, y_pred_np)\n",
    "print(cm)"
   ]
  },
  {
   "cell_type": "code",
   "execution_count": 22,
   "id": "167199b1",
   "metadata": {
    "ExecuteTime": {
     "end_time": "2022-09-20T06:02:45.778833Z",
     "start_time": "2022-09-20T06:01:50.229929Z"
    }
   },
   "outputs": [
    {
     "name": "stdout",
     "output_type": "stream",
     "text": [
      "[[6964   44]\n",
      " [ 372   55]]\n"
     ]
    }
   ],
   "source": [
    "# svm\n",
    "y_pred_svm = classifier_svm.predict(x_test)\n",
    "cm = confusion_matrix(y_test, y_pred_svm)\n",
    "print(cm)"
   ]
  },
  {
   "cell_type": "code",
   "execution_count": 23,
   "id": "866555fe",
   "metadata": {
    "ExecuteTime": {
     "end_time": "2022-09-20T06:02:45.845969Z",
     "start_time": "2022-09-20T06:02:45.780263Z"
    }
   },
   "outputs": [
    {
     "name": "stdout",
     "output_type": "stream",
     "text": [
      "[[6911   97]\n",
      " [ 347   80]]\n"
     ]
    }
   ],
   "source": [
    "# logistic regression\n",
    "y_pred_lr = classifier_lr.predict(x_test)\n",
    "cm = confusion_matrix(y_test, y_pred_lr)\n",
    "print(cm)"
   ]
  },
  {
   "cell_type": "code",
   "execution_count": 24,
   "id": "5f4e4f28",
   "metadata": {
    "ExecuteTime": {
     "end_time": "2022-09-20T06:02:45.860640Z",
     "start_time": "2022-09-20T06:02:45.848950Z"
    }
   },
   "outputs": [
    {
     "name": "stdout",
     "output_type": "stream",
     "text": [
      "SVM Accuracy:  0.9440484196368527\n",
      "LR Accuracy:  0.9402824478816408\n",
      "NB Accuracy:  0.4772024209818426\n"
     ]
    }
   ],
   "source": [
    "svm_score = accuracy_score(y_test, y_pred_svm)\n",
    "lr_score = accuracy_score(y_test, y_pred_lr)\n",
    "np_score = accuracy_score(y_test, y_pred_np)\n",
    "\n",
    "print(\"SVM Accuracy: \", str(svm_score))\n",
    "print(\"LR Accuracy: \", str(lr_score))\n",
    "print(\"NB Accuracy: \", str(np_score))"
   ]
  },
  {
   "cell_type": "code",
   "execution_count": null,
   "id": "f5314290",
   "metadata": {},
   "outputs": [],
   "source": []
  }
 ],
 "metadata": {
  "kernelspec": {
   "display_name": "Python 3 (ipykernel)",
   "language": "python",
   "name": "python3"
  },
  "language_info": {
   "codemirror_mode": {
    "name": "ipython",
    "version": 3
   },
   "file_extension": ".py",
   "mimetype": "text/x-python",
   "name": "python",
   "nbconvert_exporter": "python",
   "pygments_lexer": "ipython3",
   "version": "3.9.12"
  },
  "varInspector": {
   "cols": {
    "lenName": 16,
    "lenType": 16,
    "lenVar": 40
   },
   "kernels_config": {
    "python": {
     "delete_cmd_postfix": "",
     "delete_cmd_prefix": "del ",
     "library": "var_list.py",
     "varRefreshCmd": "print(var_dic_list())"
    },
    "r": {
     "delete_cmd_postfix": ") ",
     "delete_cmd_prefix": "rm(",
     "library": "var_list.r",
     "varRefreshCmd": "cat(var_dic_list()) "
    }
   },
   "types_to_exclude": [
    "module",
    "function",
    "builtin_function_or_method",
    "instance",
    "_Feature"
   ],
   "window_display": false
  }
 },
 "nbformat": 4,
 "nbformat_minor": 5
}
