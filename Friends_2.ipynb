{
 "cells": [
  {
   "cell_type": "code",
   "execution_count": 65,
   "id": "2f246aad",
   "metadata": {
    "ExecuteTime": {
     "end_time": "2022-09-21T08:55:32.468347Z",
     "start_time": "2022-09-21T08:55:32.465304Z"
    }
   },
   "outputs": [],
   "source": [
    "import numpy as np\n",
    "import pandas as pd\n",
    "import gensim\n",
    "from nltk import sent_tokenize, word_tokenize\n",
    "from gensim.utils import simple_preprocess"
   ]
  },
  {
   "cell_type": "code",
   "execution_count": 66,
   "id": "ab312e92",
   "metadata": {
    "ExecuteTime": {
     "end_time": "2022-09-21T08:55:32.745114Z",
     "start_time": "2022-09-21T08:55:32.741418Z"
    }
   },
   "outputs": [],
   "source": [
    "corpus = open('Friends_Transcript.txt').read()"
   ]
  },
  {
   "cell_type": "code",
   "execution_count": 67,
   "id": "cc182c22",
   "metadata": {
    "ExecuteTime": {
     "end_time": "2022-09-21T08:55:32.950480Z",
     "start_time": "2022-09-21T08:55:32.947786Z"
    }
   },
   "outputs": [
    {
     "data": {
      "text/plain": [
       "4899189"
      ]
     },
     "execution_count": 67,
     "metadata": {},
     "output_type": "execute_result"
    }
   ],
   "source": [
    "len(corpus)"
   ]
  },
  {
   "cell_type": "code",
   "execution_count": 68,
   "id": "9b44ae95",
   "metadata": {
    "ExecuteTime": {
     "end_time": "2022-09-21T08:55:33.159271Z",
     "start_time": "2022-09-21T08:55:33.156136Z"
    },
    "scrolled": true
   },
   "outputs": [
    {
     "data": {
      "text/plain": [
       "\"THE ONE WHERE MONICA GETS A NEW ROOMATE (THE PILOT-THE UNCUT VERSION)\\nWritten by: Marta Kauffman & David Crane\\n[Scene: Central Perk, Chandler, Joey, Phoebe, and Monica are there.]\\nMonica: There's nothing to tell! He's just some guy I work with!\\nJoey: C'mon, you're going out with the guy! There's gotta be something wrong with him!\\nChandler: All right Joey, be nice. So does he have a hump? A hump and a hairpiece?\\nPhoebe: Wait, does he eat chalk?\\n(They all stare, bemused.)\\nPhoebe: Just, 'cause, I don't want her to go through what I went through with Carl- oh!\\nMonica: Okay, everybody relax. This is not even a date. It's just two people going out to dinner and- not having sex.\\nChandler: Sounds like a date to me.\\n[Time Lapse]\\nChandler: Alright, so I'm back in high school, I'm standing in the middle of the cafeteria, and I realize I am totally naked.\\nAll: Oh, yeah. Had that dream.\\nChandler: Then I look down, and I realize there's a phone... there.\\nJoey: Instead of...?\\nChandler: That's right.\\nJoey: Never had that dream.\\nPhoebe: No.\\nChandler: All of a sudden, the phone starts to ring. Now I don't know what to do, everybody starts looking at me. \\nMonica: And they weren't looking at you before?!\\nChandler: Finally, I figure I'd better answer it, and it turns out it's my mother, which is very-very weird, because- she never calls me!\\n[Time Lapse, Ross has entered.]\\nRoss: (mortified) Hi.\\nJoey: This guy says hello, I wanna kill myself.\\nMonica: Are you okay, sweetie?\\nRoss: I just feel like someone reached down my throat, grabbed my small intestine, pulled it out of my mouth and tied it around my neck...\\nChandler: Cookie?\\nMonica: (explaining to the others) Carol moved her stuff out today. \\nJoey: Ohh.\\nMonica: (to Ross) Let me get you some coffee.\\nRoss: Thanks.\\nPhoebe: Ooh! Oh! (She starts to pluck at the air just in front of Ross.)\\nRoss: No, no don't! Stop cleansing my aura! No, just leave my aura alone, okay?\\nPhoebe: Fine! Be murky!\\nRoss: I'll be fine, alright? Really, everyone. I ho\""
      ]
     },
     "execution_count": 68,
     "metadata": {},
     "output_type": "execute_result"
    }
   ],
   "source": [
    "corpus[:2000]"
   ]
  },
  {
   "cell_type": "code",
   "execution_count": 69,
   "id": "b979fa43",
   "metadata": {
    "ExecuteTime": {
     "end_time": "2022-09-21T08:55:33.651409Z",
     "start_time": "2022-09-21T08:55:33.480153Z"
    }
   },
   "outputs": [],
   "source": [
    "# removing stopword\n",
    "from nltk.corpus import stopwords\n",
    "stop = set(stopwords.words('english'))\n",
    "corpus = \" \".join([word for word in corpus.split() if word not in stop])"
   ]
  },
  {
   "cell_type": "code",
   "execution_count": null,
   "id": "2269b539",
   "metadata": {},
   "outputs": [],
   "source": []
  },
  {
   "cell_type": "code",
   "execution_count": 70,
   "id": "cc98ddd7",
   "metadata": {
    "ExecuteTime": {
     "end_time": "2022-09-21T08:56:12.910892Z",
     "start_time": "2022-09-21T08:55:40.387153Z"
    }
   },
   "outputs": [
    {
     "data": {
      "text/plain": [
       "['THE ONE WHERE MONICA GETS A NEW ROOMATE (THE PILOT-THE UNCUT VERSION) Written by: Marta Kauffman & David Crane [Scene: Central Perk, Chandler, Joey, Phoebe, Monica there.]',\n",
       " \"Monica: There's nothing tell!\",\n",
       " \"He's guy I work with!\",\n",
       " \"Joey: C'mon, going guy!\",\n",
       " \"There's gotta something wrong him!\",\n",
       " 'Chandler: All right Joey, nice.',\n",
       " 'So hump?',\n",
       " 'A hump hairpiece?',\n",
       " 'Phoebe: Wait, eat chalk?',\n",
       " '(They stare, bemused.)',\n",
       " \"Phoebe: Just, 'cause, I want go I went Carl- oh!\",\n",
       " 'Monica: Okay, everybody relax.',\n",
       " 'This even date.',\n",
       " \"It's two people going dinner and- sex.\",\n",
       " 'Chandler: Sounds like date me.',\n",
       " \"[Time Lapse] Chandler: Alright, I'm back high school, I'm standing middle cafeteria, I realize I totally naked.\",\n",
       " 'All: Oh, yeah.',\n",
       " 'Had dream.',\n",
       " \"Chandler: Then I look down, I realize there's phone... there.\",\n",
       " 'Joey: Instead of...?',\n",
       " \"Chandler: That's right.\",\n",
       " 'Joey: Never dream.',\n",
       " 'Phoebe: No.',\n",
       " 'Chandler: All sudden, phone starts ring.',\n",
       " 'Now I know do, everybody starts looking me.',\n",
       " 'Monica: And looking before?!',\n",
       " \"Chandler: Finally, I figure I'd better answer it, turns mother, very-very weird, because- never calls me!\",\n",
       " '[Time Lapse, Ross entered.]',\n",
       " 'Ross: (mortified) Hi.',\n",
       " 'Joey: This guy says hello, I wanna kill myself.',\n",
       " 'Monica: Are okay, sweetie?',\n",
       " 'Ross: I feel like someone reached throat, grabbed small intestine, pulled mouth tied around neck... Chandler: Cookie?',\n",
       " 'Monica: (explaining others) Carol moved stuff today.',\n",
       " 'Joey: Ohh.',\n",
       " 'Monica: (to Ross) Let get coffee.',\n",
       " 'Ross: Thanks.',\n",
       " 'Phoebe: Ooh!',\n",
       " 'Oh!',\n",
       " '(She starts pluck air front Ross.)',\n",
       " \"Ross: No, don't!\",\n",
       " 'Stop cleansing aura!',\n",
       " 'No, leave aura alone, okay?',\n",
       " 'Phoebe: Fine!',\n",
       " 'Be murky!',\n",
       " \"Ross: I'll fine, alright?\",\n",
       " 'Really, everyone.',\n",
       " \"I hope she'll happy.\",\n",
       " \"Monica: No don't.\",\n",
       " \"Ross: No I don't, hell her, left me!\",\n",
       " 'Joey: And never knew lesbian... Ross: No!!',\n",
       " 'Okay?!',\n",
       " 'Why everyone keep fixating that?',\n",
       " 'She know, I know?',\n",
       " 'Chandler: Sometimes I wish I lesbian... (They stare him.)',\n",
       " 'Did I say loud?',\n",
       " 'Ross: I told mom dad last night, seemed take pretty well.',\n",
       " 'Monica: Oh really, hysterical phone call I got woman sobbing 3:00 A.M., \"I\\'ll never grandchildren, I\\'ll never grandchildren.\"',\n",
       " 'what?',\n",
       " 'A wrong number?',\n",
       " 'Ross: Sorry.',\n",
       " 'Joey: Alright Ross, look.',\n",
       " \"You're feeling lot pain right now.\",\n",
       " \"You're angry.\",\n",
       " \"You're hurting.\",\n",
       " 'Can I tell answer is?',\n",
       " '(Ross gestures consent.)',\n",
       " 'Joey: Strip joint!',\n",
       " \"C'mon, single!\",\n",
       " 'Have hormones!',\n",
       " 'Ross: I want single, okay?',\n",
       " 'I just...',\n",
       " 'I just- I wanna married again!',\n",
       " '(Rachel enters wet wedding dress starts search room.)',\n",
       " 'Chandler: And I want million dollars!',\n",
       " '(He extends hand hopefully.)',\n",
       " 'Monica: Rachel?!',\n",
       " 'Rachel: Oh God Monica hi!',\n",
       " 'Thank God!',\n",
       " 'I went building guy big hammer said might are, are!',\n",
       " 'Waitress: Can I get coffee?',\n",
       " 'Monica: (pointing Rachel) De-caff.',\n",
       " '(to All) Okay, everybody, Rachel, another Lincoln High survivor.',\n",
       " '(to Rachel) This everybody, Chandler, Phoebe, Joey, and- remember brother Ross?',\n",
       " 'Rachel: Hi, sure!',\n",
       " 'Ross: Hi.',\n",
       " \"(They go hug Ross's umbrella opens.\",\n",
       " 'He sits back defeated again.',\n",
       " 'A moment silence follows Rachel sits others expect explain.)',\n",
       " 'Monica: So wanna tell us now, waiting four wet bridesmaids?',\n",
       " 'Rachel: Oh God... well, started half hour wedding.',\n",
       " 'I room keeping presents, I looking gravy boat.',\n",
       " 'This really gorgeous Lamauge gravy boat.',\n",
       " \"When sudden- (to waitress brought coffee)Sweet 'n' Lo?- I realized I turned gravy boat Barry!\",\n",
       " \"And I got really freaked out, that's hit me: much Barry looks like Mr.\",\n",
       " 'Potato Head.',\n",
       " \"Y'know, I mean, I always knew looked familiar, but...\",\n",
       " \"Anyway, I get there, I started wondering 'Why I this, I for?'.\",\n",
       " '(to Monica) So anyway I know go, I know I kinda drifted apart, person I knew lived city.',\n",
       " 'Monica: Who invited wedding.',\n",
       " \"Rachel: Ooh, I kinda hoping issue... [Scene: Monica's Apartment, everyone watching Spanish Soap TV trying figure going on.]\",\n",
       " \"Monica: Now I'm guessing bought big pipe organ, really happy it.\",\n",
       " 'Chandler: (imitating characters) Tuna egg salad?',\n",
       " 'Decide!',\n",
       " \"Ross: (in deep voice) I'll whatever Christine having.\",\n",
       " 'Rachel: (on phone) Daddy, I just...',\n",
       " \"I can't marry him!\",\n",
       " \"I'm sorry.\",\n",
       " 'I love him.',\n",
       " 'Well, matters me!',\n",
       " '(The scene TV changed show two women, one holding hair.)',\n",
       " 'Phoebe: If I let go hair, head fall off.',\n",
       " 'Chandler: (re TV) Ooh, wearing pants.',\n",
       " 'Joey: I say push stairs.',\n",
       " 'Phoebe, Ross, Chandler, Joey: Push stairs!',\n",
       " 'Push stairs!',\n",
       " 'Push stairs!',\n",
       " '(She pushed stairs everyone cheers.)',\n",
       " \"Rachel: C'mon Daddy, listen me!\",\n",
       " \"It's like, like, life, everyone always told me, 'You're shoe!\",\n",
       " \"You're shoe, shoe, shoe!'.\",\n",
       " \"And today I stopped I said, 'What I wanna shoe?\",\n",
       " \"What I wanna a- purse, y'know?\",\n",
       " 'Or a- hat!',\n",
       " \"No, I'm saying I want buy hat, I'm saying I ha- It's metaphor, Daddy!\",\n",
       " \"Ross: You see he'd trouble.\",\n",
       " 'Rachel: Look Daddy, life.',\n",
       " \"Well maybe I'll stay Monica.\",\n",
       " \"Monica: Well, I guess we've established who's staying Monica... Rachel: Well, maybe that's decision.\",\n",
       " 'Well, maybe I need money.',\n",
       " 'Wait!!',\n",
       " 'Wait, I said maybe!!',\n",
       " '[Time Lapse, Rachel breating paper bag.]',\n",
       " \"Monica: Just breathe, breathe.. that's it.\",\n",
       " 'Just try think nice calm things... Phoebe: (sings) Raindrops roses rabbits kittens, (Rachel Monica turn look her.)',\n",
       " 'bluebells sleighbells and- something mittens... La la la la...something noodles string.',\n",
       " \"These few... Rachel: I'm better now.\",\n",
       " 'Phoebe: (grins walks kitchen says Chandler Joey.)',\n",
       " 'I helped!',\n",
       " \"Monica: Okay, look, probably best, y'know?\",\n",
       " 'Independence.',\n",
       " 'Taking control life.',\n",
       " \"The whole, 'hat' thing.\",\n",
       " 'Joey: (comforting her) And hey, need anything, always come Joey.',\n",
       " 'Me Chandler live across hall.',\n",
       " \"And he's away lot.\",\n",
       " 'Monica: Joey, stop hitting her!',\n",
       " \"It's wedding day!\",\n",
       " \"Joey: What, like there's rule something?\",\n",
       " '(The door buzzer sounds Chandler gets it.)',\n",
       " 'Chandler: Please again, horrible sound.',\n",
       " \"Paul: (over intercom) It's, uh, Paul.\",\n",
       " 'Monica: Oh God, 6:30?',\n",
       " 'Buzz in!',\n",
       " \"Joey: Who's Paul?\",\n",
       " 'Ross: Paul Wine Guy, Paul?',\n",
       " 'Monica: Maybe.',\n",
       " 'Joey: Wait.',\n",
       " \"Your 'not real date' tonight Paul Wine Guy?\",\n",
       " 'Ross: He finally asked out?',\n",
       " 'Monica: Yes!',\n",
       " 'Chandler: Ooh, Dear Diary moment.',\n",
       " \"Monica: Rach, wait, I cancel... Rachel: Please, no, go, that'd fine!\",\n",
       " 'Monica: (to Ross) Are, okay?',\n",
       " 'I mean, want stay?',\n",
       " \"Ross: (choked voice) That'd good... Monica: (horrified) Really?\",\n",
       " 'Ross: (normal voice) No, go on!',\n",
       " \"It's Paul Wine Guy!\",\n",
       " 'Phoebe: What mean?',\n",
       " 'Does sell it, drink it, complain lot?',\n",
       " '(Chandler know.)',\n",
       " \"(There's knock door Paul.)\",\n",
       " 'Monica: Hi, come in!',\n",
       " 'Paul, is.. (They lined next door.)...',\n",
       " 'everybody, everybody, Paul.',\n",
       " 'All: Hey!',\n",
       " 'Paul!',\n",
       " 'Hi!',\n",
       " 'The Wine Guy!',\n",
       " 'Hey!',\n",
       " \"Chandler: I'm sorry, I catch name.\",\n",
       " 'Paul, it?',\n",
       " \"Monica: Okay, umm-umm, I'll just--I'll right back, I gotta go ah, go ah... Ross: A wandering?\",\n",
       " 'Monica: Change!',\n",
       " 'Okay, sit down.',\n",
       " '(Shows Paul in) Two seconds.',\n",
       " 'Phoebe: Ooh, I pulled four eyelashes.',\n",
       " \"That can't good.\",\n",
       " '(Monica goes change.)',\n",
       " 'Joey: Hey, Paul!',\n",
       " 'Paul: Yeah?',\n",
       " \"Joey: Here's little tip, really likes rub neck spot starts get little red.\",\n",
       " 'Monica: (yelling bedroom) Shut up, Joey!',\n",
       " \"Ross: So Rachel, what're you, uh... what're tonight?\",\n",
       " 'Rachel: Well, I kinda supposed headed Aruba honeymoon, nothing!',\n",
       " 'Ross: Right, even getting honeymoon, God.. No, no, although, Aruba, time year... talk your- (thinks) -big lizards...',\n",
       " 'Anyway, feel like alone tonight, Joey Chandler coming help put together new furniture.',\n",
       " \"Chandler: (deadpan) Yes, we're excited it.\",\n",
       " \"Rachel: Well actually thanks, I think I'm gonna hang tonight.\",\n",
       " \"It's kinda long day.\",\n",
       " 'Ross: Okay, sure.',\n",
       " 'Joey: Hey Pheebs, wanna help?',\n",
       " 'Phoebe: Oh, I wish I could, I want to.',\n",
       " 'Commercial Break [Scene: The Subway, Phoebe singing change.]',\n",
       " 'Phoebe: (singing) Love sweet summer showers, love wondrous work art, love oh love, love...is like giant pigeon...crapping heart.',\n",
       " 'La-la-la-la-la- (some guy gives change guy) Thank you.',\n",
       " '(sings) La-la-la-la...ohhh!',\n",
       " \"[Scene: Ross's Apartment, guys assembling furniture.]\",\n",
       " \"Ross: (squatting reading instructions) I'm supposed attach brackety thing side things, using bunch little worm guys.\",\n",
       " 'I brackety thing, I see whim guys whatsoever and- I cannot feel legs.',\n",
       " '(Joey Chandler finishing assembling bookcase.)',\n",
       " \"Joey: I'm thinking we've got bookcase here.\",\n",
       " \"Chandler: It's beautiful thing.\",\n",
       " \"Joey: (picking leftover part) What's this?\",\n",
       " \"Chandler: I would say 'L'-shaped bracket.\",\n",
       " 'Joey: Which goes where?',\n",
       " 'Chandler: I idea.',\n",
       " '(Joey checks Ross looking dumps plant.)',\n",
       " 'Joey: Done bookcase!',\n",
       " 'Chandler: All finished!',\n",
       " \"Ross: (clutching beer sniffing) This Carol's favorite beer.\",\n",
       " 'She always drank can, I known.',\n",
       " \"Joey: Hey-hey-hey-hey, gonna start stuff we're outta here.\",\n",
       " 'Chandler: Yes, please spoil fun.',\n",
       " 'Joey: Ross, let ask question.',\n",
       " 'She got furniture, stereo, good TV- get?',\n",
       " 'Ross: You guys.',\n",
       " 'Chandler: Oh, God.',\n",
       " 'Joey: You got screwed.',\n",
       " 'Chandler: Oh God!',\n",
       " '[Scene: A Restaurant, Monica Paul eating.]',\n",
       " 'Monica: Oh God!',\n",
       " \"Paul: I know, I know, I'm idiot.\",\n",
       " 'I guess I caught started going dentist four five times week.',\n",
       " 'I mean, clean teeth get?',\n",
       " \"Monica: My brother's going right now, he's mess.\",\n",
       " 'How get it?',\n",
       " 'Paul: Well, might try accidentally breaking something valuable hers, say her- Monica: -leg?',\n",
       " \"Paul: (laughing) That's one way!\",\n",
       " 'Me, I- I went watch.',\n",
       " 'Monica: You actually broke watch?',\n",
       " 'Wow!',\n",
       " \"The worst thing I ever was, I-I shredded boyfriend's favorite bath towel.\",\n",
       " 'Paul: Ooh, steer clear you.',\n",
       " \"Monica: That's right.\",\n",
       " \"[Scene: Monica's Apartment, Rachel talking phone pacing.]\",\n",
       " \"Rachel: Barry, I'm sorry...\",\n",
       " 'I sorry...',\n",
       " \"I know probably think I said day making love socks on, isn't... isn't, me, I ju- (She stops talking dials phone.)\",\n",
       " 'Hi, machine cut again... anyway...look, look, I know girl going incredibly lucky become Mrs. Barry Finkel, me, me.',\n",
       " 'And I idea right now, give chance too... (The maching cuts redials.)',\n",
       " \"[Scene: Ross's Apartment; Ross pacing Joey Chandler working furniture.]\",\n",
       " \"Ross: I'm divorced!\",\n",
       " \"I'm 26 I'm divorced!\",\n",
       " 'Joey: Shut up!',\n",
       " 'Chandler: You must stop!',\n",
       " '(Chandler hits working hammer collapses.)',\n",
       " 'Ross: That took hour.',\n",
       " 'Chandler: Look, Ross, gotta understand, us relationship lasted longer Mento.',\n",
       " 'You, however love woman four years.',\n",
       " 'Four years closeness sharing end ripped heart out, it!',\n",
       " 'I think point!',\n",
       " 'Ross: You know scariest part is?',\n",
       " \"What there's one woman everybody, y'know?\",\n",
       " \"I mean get one woman- that's it?\",\n",
       " 'Unfortunately case, one woman- her... Joey: What talking about?',\n",
       " \"'One woman'?\",\n",
       " \"That's like saying there's one flavor ice cream you.\",\n",
       " 'Lemme tell something, Ross.',\n",
       " \"There's lots flavors there.\",\n",
       " \"There's Rocky Road, Cookie Dough, Bing!\",\n",
       " 'Cherry Vanilla.',\n",
       " \"You could get 'em Jimmies, nuts, whipped cream!\",\n",
       " 'This best thing ever happened you!',\n",
       " 'You got married, were, like, what, eight?',\n",
       " 'Welcome back world!',\n",
       " 'Grab spoon!',\n",
       " \"Ross: I honestly know I'm hungry horny.\",\n",
       " 'Chandler: Stay freezer!',\n",
       " '[Scene: A Restaurant, Monica Paul still eating.]',\n",
       " 'Paul: Ever since walked me, I, uh... Monica: What?.....',\n",
       " 'What, wanna spell noodles?',\n",
       " \"Paul: No, it's, fifth date kinda revelation.\",\n",
       " 'Monica: Oh, gonna fifth date?',\n",
       " \"Paul: Isn't there?\",\n",
       " 'Monica: Yeah... yeah, I think is.',\n",
       " '-What gonna say?',\n",
       " 'Paul: Well, ever-ev-... ever since left me, um, I able to, uh, perform.',\n",
       " '(Monica takes sip drink.)',\n",
       " '...Sexually.',\n",
       " 'Monica: (spitting drink shock) Oh God, oh God, I sorry...',\n",
       " \"I sorry... Paul: It's okay... Monica: I know spit probably need right now.\",\n",
       " 'Um... long?',\n",
       " 'Paul: Two years.',\n",
       " 'Monica: Wow!',\n",
       " \"I'm-I'm-I'm glad smashed watch!\",\n",
       " 'Paul: So still think you, um... might want fifth date?',\n",
       " 'Monica: (pause)...Yeah.',\n",
       " 'Yeah, I do.',\n",
       " \"[Scene: Monica's Apartment, Rachel watching Joanne Loves Chaci.]\",\n",
       " 'Priest TV: We gathered today join Joanne Louise Cunningham Charles, Chachi-Chachi-Chachi, Arcola bound holy matrimony.',\n",
       " 'Rachel: Oh...see... Joanne loved Chachi!',\n",
       " \"That's difference!\",\n",
       " \"[Scene: Ross's Apartment, they're sitting around talking.]\",\n",
       " 'Ross: (scornful) Grab spoon.',\n",
       " \"Do know long since I've grabbed spoon?\",\n",
       " \"Do words 'Billy, hero' mean anything you?\",\n",
       " 'Joey: Great story!',\n",
       " \"But, I uh, I gotta go, I got date Andrea--Angela--Andrea... Oh man, (looks Chandler) Chandler: Angela's screamer, Andrea cats.\",\n",
       " 'Joey: Right.',\n",
       " 'Thanks.',\n",
       " \"It's June.\",\n",
       " \"I'm outta here.\",\n",
       " '(Exits.)',\n",
       " \"Ross: Y'know, here's thing.\",\n",
       " 'Even I could get together enough to- ask woman out,...',\n",
       " 'I gonna ask?',\n",
       " '(He gazes window.)',\n",
       " '[Cut Rachel staring window.]',\n",
       " \"Commercial Break [Scene: Monica's Apartment, Rachel making coffee Joey Chandler.]\",\n",
       " \"Rachel: Isn't amazing?\",\n",
       " 'I mean, I never made coffee entire life.',\n",
       " 'Chandler: That amazing.',\n",
       " 'Joey: Congratulations.',\n",
       " \"Rachel: Y'know, I figure I make coffee, anything I can't do.\",\n",
       " \"Chandler: If invade Poland, anything I can't do.\",\n",
       " 'Joey: Listen, roll, feel like gotta make like Western omelet something... (Joey Chandler taste coffee, grimace, pour plant pot.)',\n",
       " \"Although actually I'm really hungry... Monica: (entering, herself) Oh good, Lenny Squigy here.\",\n",
       " 'All: Morning.',\n",
       " 'Good morning.',\n",
       " \"Paul: (entering Monica's room) Morning.\",\n",
       " 'Joey: Morning, Paul.',\n",
       " 'Rachel: Hello, Paul.',\n",
       " 'Chandler: Hi, Paul, it?',\n",
       " \"(Monica Paul walk door talk low voice others can't hear.\",\n",
       " \"The others move Monica's table closer door can.)\",\n",
       " 'Paul: Thank you!',\n",
       " 'Thank much!',\n",
       " 'Monica: Stop!',\n",
       " \"Paul: No, I'm telling last night like umm, birthdays, graduations, plus barn raising scene Witness.\",\n",
       " \"Monica: We'll talk later.\",\n",
       " 'Paul: Yeah.',\n",
       " '(They kiss) Thank you.',\n",
       " '(Exits) Joey: That real date?!',\n",
       " 'What hell real date?',\n",
       " 'Monica: Shut up, put table back.',\n",
       " 'All: Okayyy!',\n",
       " '(They so.)',\n",
       " 'Chandler: All right, kids, I gotta get work.',\n",
       " 'If I input numbers,... make much difference... Rachel: So, like, guys jobs?',\n",
       " 'Monica: Yeah, jobs.',\n",
       " \"See, that's buy stuff.\",\n",
       " \"Joey: Yeah, I'm actor.\",\n",
       " 'Rachel: Wow!',\n",
       " 'Would I seen anything?',\n",
       " 'Joey: I doubt it.',\n",
       " 'Mostly regional work.',\n",
       " \"Monica: Oh wait, wait, unless happened catch Reruns' production Pinocchio, little theater park.\",\n",
       " 'Joey: Look, job right?',\n",
       " \"Chandler: 'Look, Gippetto, I'm real live boy.'\",\n",
       " 'Joey: I take abuse.',\n",
       " '(Walks door opens leave.)',\n",
       " \"Chandler: You're right, I'm sorry.\",\n",
       " '(Burst song dances door.)',\n",
       " '\"Once I wooden boy, little wooden boy...\" Joey: You know, he\\'s dead man.',\n",
       " 'Oh, Chandler?',\n",
       " '(Starts Chandler.)',\n",
       " 'Monica: So today?',\n",
       " 'Did sleep okay?',\n",
       " 'Talk Barry?',\n",
       " \"I can't stop smiling.\",\n",
       " 'Rachel: I see that.',\n",
       " 'You look like slept hanger mouth.',\n",
       " \"Monica: I know, he's so, so... Do remember Tony DeMarco?\",\n",
       " 'Rachel: Oh, yeah.',\n",
       " 'Monica: Well, like that.',\n",
       " 'With feelings.',\n",
       " 'Rachel: Oh wow.',\n",
       " 'Are trouble.',\n",
       " 'Monica: Big time!',\n",
       " 'Rachel: Want wedding dress?',\n",
       " 'Hardly used.',\n",
       " 'Monica: I think getting little ahead selves here.',\n",
       " 'Okay.',\n",
       " 'Okay.',\n",
       " 'I going get up, go work think day.',\n",
       " \"Or else I'm gonna get go work.\",\n",
       " 'Rachel: Oh, look, wish luck!',\n",
       " 'Monica: What for?',\n",
       " \"Rachel: I'm gonna go get one (Thinks) job things.\",\n",
       " '(Monica exits.)',\n",
       " '[Scene: Iridium, Monica working Frannie enters.]',\n",
       " 'Frannie: Hey, Monica!',\n",
       " 'Monica: Hey Frannie, welcome back!',\n",
       " 'How Florida?',\n",
       " 'Frannie: You sex, you?',\n",
       " 'Monica: How that?',\n",
       " \"Frannie: Oh, I hate you, I'm pushing Aunt Roz Parrot Jungle sex!\",\n",
       " 'So?',\n",
       " 'Who?',\n",
       " 'Monica: You know Paul?',\n",
       " 'Frannie: Paul Wine Guy?',\n",
       " 'Oh yeah, I know Paul.',\n",
       " 'Monica: You mean know Paul like I know Paul?',\n",
       " 'Frannie: Are kidding?',\n",
       " 'I take credit Paul.',\n",
       " \"Y'know me, snap turtle two years.\",\n",
       " '[Scene: Central Perk, everyone Rachel there.]',\n",
       " 'Joey: (sitting arm couch)Of course line!',\n",
       " 'Monica: Why?!',\n",
       " 'Why?',\n",
       " 'Why, would anybody something like that?',\n",
       " \"Ross: I assume we're looking answer sophisticated 'to get bed'.\",\n",
       " 'Monica: I hate men!',\n",
       " 'I hate men!',\n",
       " 'Phoebe: Oh no, hate, want put universe.',\n",
       " 'Monica: Is me?',\n",
       " 'Is like I sort beacon dogs men severe emotional problems hear?',\n",
       " \"Phoebe: All right, c'mere, gimme feet.\",\n",
       " '(She starts massaging them.)',\n",
       " \"Monica: I thought nice, y'know?\",\n",
       " \"Joey: (bursts laughing again) I can't believe know line!\",\n",
       " '(Monica pushes sofa Rachel enters shopping bag.)',\n",
       " 'Rachel: Guess what?',\n",
       " 'Ross: You got job?',\n",
       " 'Rachel: Are kidding?',\n",
       " \"I'm trained nothing!\",\n",
       " 'I laughed twelve interviews today.',\n",
       " 'Chandler: And yet surprisingly upbeat.',\n",
       " 'Rachel: You would found John David boots sale, fifty percent off!',\n",
       " \"Chandler: Oh, well know me... Rachel: They're new 'I need job, I need parents, I've got great boots' boots!\",\n",
       " \"Monica: How'd pay them?\",\n",
       " 'Rachel: Uh, credit card.',\n",
       " 'Monica: And pays that?',\n",
       " 'Rachel: Um... my... father.',\n",
       " \"[Scene: Monica Rachel's, everyone sitting around kitchen table.\",\n",
       " \"Rachel's credit cards spread table along pair scissors.]\",\n",
       " 'Rachel: Oh God, come guys, really necessary?',\n",
       " 'I mean, I stop charging anytime I want.',\n",
       " \"Monica: C'mon, can't live parents whole life.\",\n",
       " 'Rachel: I know that.',\n",
       " \"That's I getting married.\",\n",
       " 'Phoebe: Give break, hard first time.',\n",
       " 'Rachel: Thank you.',\n",
       " \"Phoebe: You're welcome.\",\n",
       " 'I remember I first came city.',\n",
       " 'I fourteen.',\n",
       " 'My mom killed step-dad back prison, I got here, I know anybody.',\n",
       " 'And I ended living albino guy was, like, cleaning windshields outside port authority, killed himself, I found aromatherapy.',\n",
       " 'So believe me, I know exactly feel.',\n",
       " \"(Pause) Ross: The word looking 'Anyway'... Monica: All right, ready?\",\n",
       " 'Rachel: No.',\n",
       " \"No, no, I'm ready!\",\n",
       " 'How I ready?',\n",
       " '\"Hey, Rach!',\n",
       " 'You ready jump airplane without parachute?\"',\n",
       " \"Come on, I can't this!\",\n",
       " 'Monica: You can, I know can!',\n",
       " 'Rachel: I think so.',\n",
       " 'Ross: Come on, made coffee!',\n",
       " 'You anything!',\n",
       " '(Chandler slowly tries hide dead plant morning Joey poured coffee it.)',\n",
       " \"Ross: C'mon, cut.\",\n",
       " 'Cut, cut, cut,... All: Cut, cut, cut, cut, cut, cut, cut... (She cuts one cheer.)',\n",
       " \"Rachel: Y'know what?\",\n",
       " 'I think leave that.',\n",
       " \"It's kinda like symbolic gesture... Monica: Rachel!\",\n",
       " 'That library card!',\n",
       " \"All: Cut, cut, cut, cut, cut, cut, cut.. Chandler: (as Rachel cutting cards) Y'know, listen closely, hear thousand retailers scream.\",\n",
       " '(She finishes cutting cheer.)',\n",
       " 'Monica: Welcome real world!',\n",
       " 'It sucks.',\n",
       " \"You're gonna love it!\",\n",
       " '[Time Lapse, Rachel Ross watching TV channel finishes broadcast day playing national anthem.]',\n",
       " \"Monica: Well, that's (To Ross) You gonna crash couch?\",\n",
       " 'Ross: No.',\n",
       " 'No, I gotta go home sometime.',\n",
       " 'Monica: You okay?',\n",
       " 'Ross: Yeah.',\n",
       " 'Rachel: Hey Mon, look I found floor.',\n",
       " '(Monica smiles.)',\n",
       " 'What?',\n",
       " \"Monica: That's Paul's watch.\",\n",
       " 'You put back found it.',\n",
       " 'Oh boy.',\n",
       " 'Alright.',\n",
       " 'Goodnight, everybody.',\n",
       " 'Ross Rachel: Goodnight.',\n",
       " \"(Monica stomps Paul's watch goes room.)\",\n",
       " 'Ross: Mmm.',\n",
       " '(They reach last cookie) Oh, no- Rachel: Sorry- Ross: No no, go- Rachel: No, it, really, I want it- Ross: Split it?',\n",
       " 'Rachel: Okay.',\n",
       " 'Ross: Okay.',\n",
       " '(They split it.)',\n",
       " 'You know probably know this, back high school, I a, um, major crush you.',\n",
       " 'Rachel: I knew.',\n",
       " 'Ross: You did!',\n",
       " 'Oh....',\n",
       " \"I always figured thought I Monica's geeky older brother.\",\n",
       " 'Rachel: I did.',\n",
       " 'Ross: Oh.',\n",
       " 'Listen, think- try let intense vulnerability become kind factor here- think would okay I asked out?',\n",
       " 'Sometime?',\n",
       " 'Maybe?',\n",
       " 'Rachel: Yeah, maybe... Ross: Okay... okay, maybe I will... Rachel: Goodnight.',\n",
       " 'Ross: Goodnight.',\n",
       " '(Rachel goes room Monica enters living room Ross leaving.)',\n",
       " \"Monica: See ya.... Waitwait, what's you?\",\n",
       " 'Ross: I grabbed spoon.',\n",
       " '(Ross exits Monica idea means.)',\n",
       " 'Closing Credits [Scene: Central Perk, everyone there.]',\n",
       " \"Joey: I can't believe I'm hearing here.\",\n",
       " \"Phoebe: (sings) I can't believe I'm hearing here... Monica: What?\",\n",
       " 'I-I said a- Phoebe: (sings) What I said had... Monica: (to Phoebe) Would stop?',\n",
       " 'Phoebe: Oh, I again?',\n",
       " 'All: Yes!',\n",
       " 'Monica: I said nice butt, great butt.',\n",
       " 'Joey: Oh, know great butt came bit ya.',\n",
       " \"Ross: There's image.\",\n",
       " 'Rachel: (walks pot coffee) Would anybody like coffee?',\n",
       " 'Chandler: Did make it, serving it?',\n",
       " \"Rachel: I'm serving it.\",\n",
       " 'All: Yeah.',\n",
       " \"Yeah, I'll cup coffee.\",\n",
       " 'Chandler: Kids, new dream...',\n",
       " \"I'm Las Vegas.\",\n",
       " \"(Rachel sits hear Chandler's dream.)\",\n",
       " 'Customer: (To Rachel) Ahh, miss?',\n",
       " 'More coffee?',\n",
       " 'Rachel: Ugh.',\n",
       " \"(To another customer that's leaving.)\",\n",
       " 'Excuse me, could give guy there?',\n",
       " '(Hands coffee pot.)',\n",
       " 'Go ahead.',\n",
       " '(He so.)',\n",
       " 'Thank you.',\n",
       " '(To gang.)',\n",
       " 'Sorry.',\n",
       " 'Okay, Las Vegas.',\n",
       " \"Chandler: Okay, so, I'm Las Vegas...\",\n",
       " \"I'm Liza Minelli- End THE ONE WITH THE SONOGRAM AT THE END Written by: Marta Kauffman & David Crane [Scene Central Perk, everyone's there.]\",\n",
       " 'Monica: What guys understand is, us, kissing important part it.',\n",
       " \"Joey: Yeah, right!.......Y'serious?\",\n",
       " 'Phoebe: Oh, yeah!',\n",
       " 'Rachel: Everything need know first kiss.',\n",
       " 'Monica: Absolutely.',\n",
       " \"Chandler: Yeah, I think us, kissing pretty much like opening act, y'know?\",\n",
       " 'I mean like stand-up comedian sit Pink Floyd comes out.',\n",
       " \"Ross: Yeah, and-and like comedian, that-that... that's bought ticket.\",\n",
       " \"Chandler: The problem is, though, concert's over, matter great show was, girls always looking comedian again, y'know?\",\n",
       " \"I mean, we're car, we're fighting traffic... basically trying stay awake.\",\n",
       " 'Rachel: Yeah, well, word advice: Bring back comedian.',\n",
       " 'Otherwise next time gonna find sitting home, listening album alone.',\n",
       " 'Joey: (pause)....Are still talking sex?',\n",
       " 'Opening Credits [Scene: Museum Prehistoric History, Ross co-worker (Marsha) setting exhibit includes mannequins cave people.]',\n",
       " 'Ross: No, good, good, that- mm- seem little angry?',\n",
       " 'Marsha: Well, issues.',\n",
       " 'Ross: Does she.',\n",
       " \"Marsha: He's banging women head club, sits home trying get mastodon smell carpet!\",\n",
       " 'Ross: Marsha, cave people.',\n",
       " 'Okay?',\n",
       " \"They issues like 'Gee, glacier's getting kinda close.'\",\n",
       " 'See?',\n",
       " 'Marsha: Speaking issues, ex-wife?',\n",
       " \"(Carol, Ross's ex-wife, entered behind standing outstide exhibit.)\",\n",
       " 'Ross: (trying ignore her) No.',\n",
       " 'No.',\n",
       " 'Marsha: Yes, is.',\n",
       " 'Carol!',\n",
       " 'Hi!',\n",
       " 'Ross: Okay, okay, yes, is.',\n",
       " \"(waves) How I'll, uh, catch Ice Age.\",\n",
       " '(Marsha extis Ross waves Carol exhibit.)',\n",
       " 'Ross:Hi.',\n",
       " 'Carol: So.',\n",
       " 'Ross: You look great.',\n",
       " 'I, uh...',\n",
       " 'I hate that.',\n",
       " 'Carol: Sorry.',\n",
       " 'You look good too.',\n",
       " 'Ross: Ah, well, here, anyone who... stands erect...',\n",
       " \"So what's new?\",\n",
       " 'Still, uh... Carol: A lesbian?',\n",
       " 'Ross: Well... never know.',\n",
       " \"How's, um.. how's family?\",\n",
       " \"Carol: Marty's still totally paranoid.\",\n",
       " 'Oh, and, uh- Ross: Why- here, Carol?',\n",
       " \"Carol: I'm pregnant.\",\n",
       " 'Ross: Pregnant?!',\n",
       " \"[Scene: Monica Rachel's, Chandler, Joey, Phoebe, Monica watching Three's Company.]\",\n",
       " \"Chandler: Oh, I think episode Three's Company there's kind misunderstanding.\",\n",
       " \"Phoebe:...Then I've already seen one!\",\n",
       " '(Turns TV.)',\n",
       " 'Monica: (taking drink Joey) Are that?',\n",
       " 'Joey: Yeah, sorry, swallowing slowed down.',\n",
       " 'Monica: Whose little ball paper this?!',\n",
       " 'Chandler: Oh, uh, would mine.',\n",
       " 'See, I wrote note myself, I realised I need it, I balled and... (sees Monica glaring him) ...now I wish I dead.',\n",
       " '(Monica starts fluff pillow.)',\n",
       " \"Phoebe: She's already fluffed pillow... Monica, know, already fluffed that- (Monica glares her.)\",\n",
       " '-but, fine!',\n",
       " \"Monica: Look , I'm sorry, guys, I wanna give ammunition already have.\",\n",
       " \"Chandler: Yes, know cruel parent flatness child's pillow.\",\n",
       " 'Phoebe: Monica- Hi!',\n",
       " 'Um, Monica, scaring me.',\n",
       " 'I mean, like, like chaotic twirly.',\n",
       " 'And not-not good way.',\n",
       " 'Joey: Yeah, calm down.',\n",
       " 'You see Ross getting chaotic twirly every time come.',\n",
       " \"Monica: That's far parents concerned, Ross wrong.\",\n",
       " \"Y'see, he's Prince.\",\n",
       " 'Apparently big ceremony I born.',\n",
       " 'Chandler: (looking window) Ew, ew, ew, ew ew ew ew ew!',\n",
       " 'Monica: What?',\n",
       " 'Chandler: Ugly Naked Guy got Thighmaster!',\n",
       " 'All: Eeaagh!',\n",
       " '(Rachel enters room.)',\n",
       " 'Rachel: Has anybody seen engagement ring?',\n",
       " 'Phoebe: Yeah, beautiful.',\n",
       " 'Rachel: Oh God, oh God, oh God oh God oh God oh God.... (Starts look couch cushions.)',\n",
       " 'Phoebe: No, look, touch that!',\n",
       " \"Rachel: Oh, like I dreading tomorrow enough, give back him... 'Hi Barry!\",\n",
       " 'Remember me?',\n",
       " \"I'm girl veil stomped heart front entire family!'\",\n",
       " \"Oh God I'm gonna return ring, without ring, makes much harder... Monica: Easy Rach, we'll find it.\",\n",
       " \"(To all) Won't we!\",\n",
       " 'Chandler Joey: Oh!',\n",
       " 'Yeah!',\n",
       " \"Joey: Alright, when'd'ya last?\",\n",
       " 'Phoebe: Doy!',\n",
       " 'Probably right lost it!',\n",
       " \"Chandler: You get lot 'doy' days... Rachel: I know I morning, I know I I kitchen with... Chandler: ...Dinah?\",\n",
       " \"Rachel: (looks lasagne realizes something) Ohhhhh, mad... Monica: You didn't.\",\n",
       " 'Rachel: Oh, I sorry... Monica: I gave one job!',\n",
       " '(Starts examin lasagne bottom glass pan.)',\n",
       " 'Rachel: Oh, look straight noodles are!',\n",
       " \"Chandler: Now, Monica, know that's look engagement ring lasagne... Monica: (puts lasagne) I just... can't it.\",\n",
       " 'Chandler: Boys?',\n",
       " \"We're going in.\",\n",
       " \"(Chandler, Joey, Phoebe start pick lasagne there's knock door Monica answers.)\",\n",
       " 'Ross: (standing outside door).....Hi.',\n",
       " 'Monica: Wow.',\n",
       " 'That happy hi.',\n",
       " \"Ross: Carol's pregnant.\",\n",
       " 'Phoebe: (while everyone else stunned) Ooh!',\n",
       " 'I found it!',\n",
       " 'Monica: W-w-wh-... wha-... w-w-w-... Ross: Yeah.',\n",
       " 'Do another two hours, might I right now.',\n",
       " '(He enters.)',\n",
       " 'Chandler: Kinda puts whole pillow thing perspective, huh, Mon?',\n",
       " 'Rachel: Well now, how-how fit whole thing?',\n",
       " \"Ross: Well, Carol says Susan want involved, I'm comfortable it, I involved.. basically entirely me.\",\n",
       " 'Phoebe: She great!',\n",
       " 'I miss her.',\n",
       " \"Monica: What mean 'involved'?\",\n",
       " 'Chandler: I mean presumably, biggest part job done.',\n",
       " 'Ross: Anyway, want go this- sonogram thing tomorrow.',\n",
       " 'Rachel: So gonna do?',\n",
       " 'Ross: I idea.',\n",
       " \"No matter I do, though, I'm still gonna father.\",\n",
       " '(Joey starts eat rest lasagne everyone turns stares him.)',\n",
       " 'Joey: .....Well, still ruined, right?',\n",
       " \"[Scene, Monica Rachel's, Monica Ross pouring wine parents.]\",\n",
       " \"Mrs. Geller: Oh, Martha Ludwin's daughter gonna call you.\",\n",
       " '(Tastes snack) Mmm!',\n",
       " \"What's curry taste?\",\n",
       " 'Monica: Curry.',\n",
       " 'Mrs. Geller: Mmmm!',\n",
       " \"Ross: I- I think they're great!\",\n",
       " 'I, I really do.',\n",
       " 'Mr. Geller: (To Ross) Do remember Ludwins?',\n",
       " 'The big one thing you, she?',\n",
       " 'Mrs. Geller: They thing him.',\n",
       " \"Ross: Aw, Mom... Monica: I'm sorry, girl going call me?\",\n",
       " 'Mrs. Geller: Oh, graduated, wants something cooking, food, or....',\n",
       " 'I know.',\n",
       " 'Anyway, I told restaurant- Monica: No Mom, I restaurant, I work restaurant.',\n",
       " 'Mrs. Geller: Well, know that... (She starts fluff pillow Monica fluffed multiple times earlier.)',\n",
       " 'Monica: Ross, could come help spaghetti, please?',\n",
       " 'Ross: Yeah.',\n",
       " '(They go kitchen.)',\n",
       " \"Mrs. Geller: Oh, we're spaghetti!\",\n",
       " \"That's.... easy.\",\n",
       " 'Monica: I know going sound unbelievably selfish, but, planning bringing whole baby/lesbian thing?',\n",
       " 'Because I think might take heat me.',\n",
       " '[Time Lapse, everyone eating.]',\n",
       " 'Mrs. Geller: What Rachel life.... We ran parents club, playing well.',\n",
       " \"Mr. Geller: I'm gonna tell spent wedding... forty thousand dollars lot money!\",\n",
       " \"Mrs. Geller: Well, least chance leave man altar... Monica: What's supposed mean?\",\n",
       " 'Mrs. Geller: Nothing!',\n",
       " \"It's expression.\",\n",
       " 'Monica: No not.',\n",
       " \"Mr. Geller: Don't listen mother.\",\n",
       " \"You're independent, always been!\",\n",
       " 'Even kid... chubby, friends, fine!',\n",
       " 'And would read alone room, puzzles... [Time Lapse.]',\n",
       " 'Mr. Geller: Look, people like Ross need shoot stars, museum, papers getting published.',\n",
       " \"Other people satisfied staying are- I'm telling you, people never get cancer.\",\n",
       " '[Time Lapse.]',\n",
       " \"Mr. Geller: ...And I read women trying all, I thank God 'Our Little Harmonica' seem problem.\",\n",
       " \"Monica: (trying desperately change subject) So, Ross, what's going you?\",\n",
       " 'Any stories?',\n",
       " '(Digs elbow hand.)',\n",
       " 'No news, little anecdotes share folks?',\n",
       " 'Ross: (pulls hand away) Okay!',\n",
       " 'Okay.',\n",
       " \"(To parents) Look, I, uh- I realise guys wondering exactly happened Carol me, and, so, well, here's deal.\",\n",
       " \"Carol's lesbian.\",\n",
       " \"She's living woman named Susan.\",\n",
       " \"She's pregnant child, Susan going raise baby.\",\n",
       " '(Stunned silence ensues.)',\n",
       " 'Mrs. Geller: (To Monica) And knew this?!',\n",
       " \"Commercial Break [Scene: Central Park, everyone's there.]\",\n",
       " 'Joey: Your folks really bad, huh?',\n",
       " \"Ross: Well, y'know, people pros.\",\n",
       " \"They know they're doing, take time, get job done.\",\n",
       " \"Monica: Boy, I know say can't change parents,... boy, could- (To Ross) -I'd want yours.\",\n",
       " 'Ross: Must pee.',\n",
       " '(Goes pee.)',\n",
       " \"Phoebe: Y'know, even worse twins.\",\n",
       " \"Rachel: You're twins?\",\n",
       " 'Phoebe: Yeah.',\n",
       " 'We speak.',\n",
       " \"She's like high-powered, driven career type.\",\n",
       " 'Chandler: What do?',\n",
       " \"Phoebe: She's waitress.\",\n",
       " 'Rachel: All right, guys, I kinda gotta clean now.',\n",
       " '(They start leave.)',\n",
       " 'Monica: Chandler, child, right?',\n",
       " 'You this.',\n",
       " 'Chandler: Well, no, although I imaginary friend, who... parents actually preferred.',\n",
       " 'Rachel: The lights, please.. (Joey turns lights, leave Rachel starts clean up.',\n",
       " 'Ross enters bathroom.)',\n",
       " 'Ross: ...How long I there?',\n",
       " \"Rachel: I'm cleaning up.\",\n",
       " \"Ross: D'ya.. uh.. d'ya need help?\",\n",
       " 'Rachel: Uh.. okay, sure!',\n",
       " 'Thanks!',\n",
       " '(She hands broom sits down.)',\n",
       " 'Ross: Anyway.. um.. (Starts sweep.)',\n",
       " 'So, you- uh- nervous Barry tomorrow?',\n",
       " 'Rachel: Oh.. little.. Ross: Mm-hmm.. Rachel: A lot.',\n",
       " 'Ross: Mm.',\n",
       " 'Rachel: So, got advice?',\n",
       " \"Y'know, someone who's recently been- dumped?\",\n",
       " \"Ross: Well, may wanna steer clear word 'dumped'.\",\n",
       " \"Chances he's gonna this, broken shell man, y'know, try look terrific, I know it'll hard.\",\n",
       " \"Or, y'know, uh, hey!, I'll go there, I'll give Barry back ring, go Carol Susan OB/GYN... Rachel: Oh, got Carol tomorrow..\",\n",
       " 'When get complicated?',\n",
       " 'Ross: Got me.',\n",
       " 'Rachel: Remember high school together?',\n",
       " 'Ross: Yeah.',\n",
       " \"Rachel: I mean, think gonna meet somone, fall love- that'd it?\",\n",
       " '(Ross gazes her.)',\n",
       " '..Ross?',\n",
       " 'Ross: Yes, yes!',\n",
       " 'Rachel: Oh!',\n",
       " \"Man, I never thought I'd here.. (She leans back onto hand.)\",\n",
       " 'Ross: Me either... (He pulls stool move hand.)',\n",
       " \"[Scene: Carol's OB/GYN, Carol waiting.]\",\n",
       " \"Ross: (entering) Sorry I'm late, I stuck work.\",\n",
       " 'There big dinosaur.. thing.. anyway.',\n",
       " '(Susan enters holding drink.)',\n",
       " 'Susan: Hi.',\n",
       " 'Carol: Ross, remember Susan.',\n",
       " 'Ross: How could I forget?',\n",
       " 'Susan: Ross.',\n",
       " 'Ross: (they shake hands) Hello, Susan.',\n",
       " '(To Carol) Good shake.',\n",
       " 'Good shake.',\n",
       " \"So, uh, we're waiting for...?\",\n",
       " 'Carol: Dr. Oberman.',\n",
       " 'Ross: ..Dr. Oberman.',\n",
       " 'Okay.',\n",
       " 'And he- Susan: She.',\n",
       " 'Ross: -she, course, she- uh- familiar our.. special situation?',\n",
       " 'Carol: Yes, supportive.',\n",
       " \"Ross: Okay, that's great.\",\n",
       " '(Susan gives drink Carol.)',\n",
       " \"No, I'm- Oh.\",\n",
       " 'Carol: Thanks.',\n",
       " 'Ross: (picks surgical instrament mimes duck it) Quack, quack.. Carol: Ross?',\n",
       " 'That opens cervix.',\n",
       " '(He drops horror.)',\n",
       " \"[Scene Barry's office, Barry working patient, Robbie, Rachel enters.]\",\n",
       " 'Rachel: Barry?',\n",
       " \"Barry: C'mon in.\",\n",
       " 'Rachel: (hesitates) Are sure?',\n",
       " 'Barry: Yeah!',\n",
       " \"It's fine, fine.\",\n",
       " \"Robbie's gonna hours.\",\n",
       " 'Robbie: Huh?!',\n",
       " 'Barry: So, ya doin?',\n",
       " \"Rachel: I'm- uh- I'm okay... You look great!\",\n",
       " \"Barry: Yeah, well.. Bernice: (over intercom) Dr. Farber, Jason Greenstein's gagging.\",\n",
       " 'Barry: (answering intercom) Be right there.',\n",
       " '(To Robbie Rachel) Be back sec.',\n",
       " '(As Barry exits Robbie stares Rachel.)',\n",
       " 'Rachel: I dumped him.',\n",
       " 'Robbie: Okay.',\n",
       " \"[Scene: Carol's OB/GYN, they're talking going work.]\",\n",
       " \"Ross: So, um- how's this, uh, how's gonna work?\",\n",
       " \"Y'know, us?\",\n",
       " \"Y'know, when, like, important decisions made?\",\n",
       " \"Carol: Give 'for instance'.\",\n",
       " \"Ross: Well, uh, uh, I know, okay, okay, the, uh, baby's name?\",\n",
       " 'Carol: Marlon- Ross: Marlon?!',\n",
       " 'Carol: -if boy, Minnie girl.',\n",
       " 'Ross: ...As Mouse?',\n",
       " 'Carol: As grandmother.',\n",
       " 'Ross: Still, you- say Minnie, hear Mouse.',\n",
       " 'Um, about, um.. Julia?',\n",
       " 'Carol: Julia.. Susan: We agreed Minnie.',\n",
       " \"Ross: 'S'funny, um, uh, agreed we'd spend rest lives together.\",\n",
       " 'Things change, roll punches.',\n",
       " \"I believe Julia's table..?\",\n",
       " \"[Scene: Barry's office, Rachel makeup mirror Barry's lamp Barry enters.]\",\n",
       " 'Barry: Sorry that.',\n",
       " 'So.',\n",
       " 'What to?',\n",
       " 'Rachel: Oh, much.',\n",
       " 'I-I got job.',\n",
       " \"Barry: Oh, that's great.\",\n",
       " 'Rachel: Why are- tanned?',\n",
       " 'Barry: Oh, I, uh- I went Aruba.',\n",
       " 'Rachel: Oh no.',\n",
       " 'You went honeymoon alone?',\n",
       " 'Barry: No.',\n",
       " 'I went with, uh.. Now, may hurt.',\n",
       " 'Robbie: Me?!',\n",
       " 'Barry: No!',\n",
       " '(To Rachel) I went Mindy.',\n",
       " 'Rachel: Mindy?!',\n",
       " 'My maid honour, Mindy?!',\n",
       " \"Barry: Yeah, well, uh, we're kind thing now.\",\n",
       " 'Rachel: Oh!',\n",
       " \"Well, um.. (Grabs forehand) You've got plugs!\",\n",
       " 'Barry: Careful!',\n",
       " 'They quite taken yet.',\n",
       " 'Rachel: And got lenses!',\n",
       " 'But hate sticking finger eye!',\n",
       " 'Barry: Not her.',\n",
       " 'Listen, I really wanted thank you.',\n",
       " 'Rachel: Okay.. Barry: See, month ago, I wanted hurt you.',\n",
       " \"More I've ever wanted hurt anyone life.\",\n",
       " \"And I'm orthodontist.\",\n",
       " 'Rachel: Wow.',\n",
       " 'Barry: You know, right?',\n",
       " 'I mean, I thought happy.',\n",
       " 'We happy.',\n",
       " \"But Mindy, I'm happy.\",\n",
       " 'Spit.',\n",
       " 'Rachel: What?',\n",
       " 'Robbie: Me.',\n",
       " '(Spits.)',\n",
       " 'Rachel: Anyway, um, (Gets ring purse.)',\n",
       " 'I guess belongs you.',\n",
       " 'And thank giving me.',\n",
       " 'Barry: Well, thank giving back.',\n",
       " '(Barry Rachel look other.)',\n",
       " 'Robbie: Hello?!',\n",
       " \"[Scene: Carol's OB/GYN, they're still arguing name baby.]\",\n",
       " 'Susan: Oh, please!',\n",
       " \"What's wrong Helen?\",\n",
       " 'Ross: Helen Geller?',\n",
       " 'I think so.',\n",
       " 'Carol: Hello?',\n",
       " \"It's gonna Helen Geller.\",\n",
       " 'Ross: Thank you!',\n",
       " 'Carol: No, I mean Geller.',\n",
       " 'Ross: What, gonna Helen Willick?',\n",
       " 'Carol: No, actually, um, talked Helen Willick-Bunch.',\n",
       " 'Ross: Well, wait minute, wha- title?',\n",
       " \"Susan: It's baby too.\",\n",
       " \"Ross: Oh, 's'funny, really?\",\n",
       " 'Um, I remember making sperm.',\n",
       " 'Susan: Yeah, know challenge is!',\n",
       " 'Carol: All right, two, stop it!',\n",
       " \"Ross: No no, gets credit, hey, I'm too.\",\n",
       " 'Carol: Ross.',\n",
       " \"You're actually suggesting Helen Willick-Bunch-Geller?\",\n",
       " \"'Cause I think borders child abuse.\",\n",
       " \"Ross: Of course not, I'm... suggesting Geller-Willick-Bunch.\",\n",
       " \"Susan: Oh, no, nonononono, see he's doing?\",\n",
       " \"He knows no-one's gonna say names, they'll wind calling Geller, gets way!\",\n",
       " 'Ross: My way?!',\n",
       " 'You-you think way?',\n",
       " \"Believe me, ways I ever imagined moment life being, way- y'know what?\",\n",
       " 'Uh, um, hard.',\n",
       " \"I'm not, I can't do- Dr. Oberman: (entering) Knock knock!How today?\",\n",
       " 'Any nausea?',\n",
       " 'All: Yeah.',\n",
       " 'Yeah.',\n",
       " 'A little.',\n",
       " 'Dr. Oberman: Well, I wondering mother-to-be, but.. thanks sharing.',\n",
       " \"(To Carol) Uh, lie back.. Ross: You- uh- y'know what, I'm gonna go.\",\n",
       " \"I don't- I think I involved particular thing right now.\",\n",
       " '(He turns go, sound sonogram catches hes ear.',\n",
       " 'He returns stares it.)',\n",
       " 'Ross: Oh God.',\n",
       " 'Susan: Look that.',\n",
       " 'Carol: I know.',\n",
       " \"Closing Credits [Scene: Monica Rachel's apartment, everyone watching tape sonogram.\",\n",
       " 'Rachel phone.]',\n",
       " 'Ross: Well?',\n",
       " \"Isn't amazing?\",\n",
       " 'Joey: What supposed seeing here?',\n",
       " 'Chandler: I dunno, but..',\n",
       " 'I think attack Enterprise.',\n",
       " 'Phoebe: You know, tilt head left, relax eyes, kinda looks like old potato.',\n",
       " 'Ross: Then that, alright?',\n",
       " 'Phoebe: Okay!',\n",
       " 'Ross: (walks Monica standing)Monica.',\n",
       " 'Whaddya think?',\n",
       " 'Monica: (welling up) Mm-hmm.',\n",
       " 'Ross: Wh- welling up?',\n",
       " 'Monica: No.',\n",
       " 'Ross: You are, welling up.',\n",
       " 'Monica: Am not!',\n",
       " \"Ross: You're gonna aunt.\",\n",
       " 'Monica: (pushes starts cry) Oh shut up!',\n",
       " 'Rachel: (on phone) Hi, Mindy.',\n",
       " \"Hi, it-it's Rachel.\",\n",
       " \"Yeah, I'm fine.\",\n",
       " 'I-I saw Barry today.',\n",
       " 'Oh, yeah, yeah he-he told me.',\n",
       " 'No, no, okay.',\n",
       " 'I hope two happy, I really do.',\n",
       " \"Oh, oh, Mind, y'know, if-if everything works out, guys end getting married kids- everything- I hope old hairline old nose.\",\n",
       " '(Slams phone down.)',\n",
       " '(To everyone) Okay, I know cheap shot, I feel much better now.',\n",
       " 'End THE ONE WITH THE THUMB Written by: Jeffrey Astrof & Mike Sikowitz.',\n",
       " 'Transcribed by: guineapig [Scene: Central Perk, everyone Phoebe there.]',\n",
       " 'Phoebe: (entering) Hi guys!',\n",
       " 'All: Hey, Pheebs!',\n",
       " 'Hi!',\n",
       " 'Ross: Hey.',\n",
       " \"Oh, oh, how'd go?\",\n",
       " 'Phoebe: Um, good.',\n",
       " \"He walked subway said 'We again!'\",\n",
       " 'All: Ohh.',\n",
       " 'Ouch.',\n",
       " 'Rachel: What?',\n",
       " \"He said 'we again', that's good, right?\",\n",
       " 'Monica: Uh, no.',\n",
       " \"Loosely translated 'We again' means 'You never see naked'.\",\n",
       " 'Rachel: Since when?',\n",
       " 'Joey: Since always.',\n",
       " \"It's like dating language.\",\n",
       " \"Y'know, like 'It's you' means 'It you'.\",\n",
       " \"Chandler: Or 'You're nice guy' means 'I'm gonna dating leather-wearing alcoholics complaining you'.\",\n",
       " \"Phoebe: Or, or, y'know, um, 'I think see people' means 'Ha, ha, I already am'.\",\n",
       " 'Rachel: And everybody knows this?',\n",
       " 'Joey: Yeah.',\n",
       " 'Cushions blow.',\n",
       " 'Chandler: Yeah, like kid, parents put dog sleep, tell went live farm.',\n",
       " \"Ross: That's funny, that, no, because, uh, parents actually did, uh, send dog live farm.\",\n",
       " 'Monica: Uh, Ross.',\n",
       " 'Ross: What?',\n",
       " 'Wh- hello?',\n",
       " \"The Millners' farm Connecticut?\",\n",
       " 'The Millners, unbelievable farm, horses, and, rabbits could chase was- w- .....Oh God, Chi Chi!',\n",
       " \"Opening Credits [Scene: Chandler Joey's, Chandler helping Joey rehearse part.]\",\n",
       " 'Chandler: \"So feel knowing die?\"',\n",
       " 'Joey: \"Warden, five minutes pain over.',\n",
       " 'But live knowledge sent honest man die.\"',\n",
       " 'Chandler: Hey, really good!',\n",
       " 'Joey: Thanks!',\n",
       " \"Let's keep going.\",\n",
       " 'Chandler: Okay.',\n",
       " '\"So.',\n",
       " 'Whaddya want me, Damone, huh?\"',\n",
       " 'Joey: \"I wanna go back cell.',\n",
       " '\\'Cause cell, I smoke.\"',\n",
       " 'Chandler: \"Smoke away.\"',\n",
       " '(Joey takes pack cigarettes lighter.',\n",
       " 'He fumbles drops lighter.',\n",
       " 'Then lights cigarett, takes drag, coughs.)',\n",
       " 'Chandler: I think probably Damone smokes cell alone.',\n",
       " 'Joey: What?',\n",
       " 'Chandler: Relax hand!',\n",
       " '(Joey lets wrist go limp.)',\n",
       " 'Chandler: Not much!',\n",
       " 'Joey: Whoah!',\n",
       " 'Chandler: Hey!',\n",
       " 'Joey: Hey!',\n",
       " 'Chandler: Alright, try taking puff.',\n",
       " '(Joey tries visibly winces.)',\n",
       " 'Chandler: Alright.. okay.',\n",
       " 'No.',\n",
       " 'Give me.',\n",
       " 'Joey: No no, I giving cigarette.',\n",
       " \"Chandler: It's fine, fine.\",\n",
       " 'Look, wanna get part, not?',\n",
       " 'Here.',\n",
       " '(Joey reluctantly gives cigarette.)',\n",
       " \"Chandler: Don't think cigarette.\",\n",
       " \"Think thing that's missing hand.\",\n",
       " 'When holding it, feel right.',\n",
       " 'You feel complete.',\n",
       " \"Joey: Y'miss it?\",\n",
       " ...]"
      ]
     },
     "execution_count": 70,
     "metadata": {},
     "output_type": "execute_result"
    }
   ],
   "source": [
    "corpus = sent_tokenize(corpus)\n",
    "corpus[:2000]"
   ]
  },
  {
   "cell_type": "code",
   "execution_count": 71,
   "id": "2058a0eb",
   "metadata": {
    "ExecuteTime": {
     "end_time": "2022-09-21T08:56:17.453789Z",
     "start_time": "2022-09-21T08:56:17.450195Z"
    }
   },
   "outputs": [
    {
     "name": "stdout",
     "output_type": "stream",
     "text": [
      "<class 'list'>\n",
      "117323\n"
     ]
    }
   ],
   "source": [
    "print(type(corpus))\n",
    "print(len(corpus))"
   ]
  },
  {
   "cell_type": "code",
   "execution_count": 72,
   "id": "9ee8f117",
   "metadata": {
    "ExecuteTime": {
     "end_time": "2022-09-21T08:56:22.128867Z",
     "start_time": "2022-09-21T08:56:21.464761Z"
    }
   },
   "outputs": [
    {
     "name": "stdout",
     "output_type": "stream",
     "text": [
      "<class 'list'>\n",
      "117323\n",
      "[['the', 'one', 'where', 'monica', 'gets', 'new', 'roomate', 'the', 'pilot', 'the', 'uncut', 'version', 'written', 'by', 'marta', 'kauffman', 'david', 'crane', 'scene', 'central', 'perk', 'chandler', 'joey', 'phoebe', 'monica', 'there'], ['monica', 'there', 'nothing', 'tell'], ['he', 'guy', 'work', 'with'], ['joey', 'mon', 'going', 'guy'], ['there', 'gotta', 'something', 'wrong', 'him'], ['chandler', 'all', 'right', 'joey', 'nice'], ['so', 'hump'], ['hump', 'hairpiece'], ['phoebe', 'wait', 'eat', 'chalk'], ['they', 'stare', 'bemused']]\n"
     ]
    }
   ],
   "source": [
    "story = []\n",
    "for sent in corpus:\n",
    "    story.append(simple_preprocess(sent, min_len=2))\n",
    "\n",
    "    \n",
    "print(type(story))\n",
    "print(len(story))\n",
    "print(story[:10])"
   ]
  },
  {
   "cell_type": "code",
   "execution_count": 73,
   "id": "2328cd84",
   "metadata": {
    "ExecuteTime": {
     "end_time": "2022-09-21T08:56:26.327188Z",
     "start_time": "2022-09-21T08:56:26.323149Z"
    }
   },
   "outputs": [
    {
     "data": {
      "text/plain": [
       "[['the',\n",
       "  'one',\n",
       "  'where',\n",
       "  'monica',\n",
       "  'gets',\n",
       "  'new',\n",
       "  'roomate',\n",
       "  'the',\n",
       "  'pilot',\n",
       "  'the',\n",
       "  'uncut',\n",
       "  'version',\n",
       "  'written',\n",
       "  'by',\n",
       "  'marta',\n",
       "  'kauffman',\n",
       "  'david',\n",
       "  'crane',\n",
       "  'scene',\n",
       "  'central',\n",
       "  'perk',\n",
       "  'chandler',\n",
       "  'joey',\n",
       "  'phoebe',\n",
       "  'monica',\n",
       "  'there'],\n",
       " ['monica', 'there', 'nothing', 'tell'],\n",
       " ['he', 'guy', 'work', 'with'],\n",
       " ['joey', 'mon', 'going', 'guy'],\n",
       " ['there', 'gotta', 'something', 'wrong', 'him']]"
      ]
     },
     "execution_count": 73,
     "metadata": {},
     "output_type": "execute_result"
    }
   ],
   "source": [
    "story[:5]"
   ]
  },
  {
   "cell_type": "code",
   "execution_count": 74,
   "id": "4bf3627e",
   "metadata": {
    "ExecuteTime": {
     "end_time": "2022-09-21T08:56:28.637074Z",
     "start_time": "2022-09-21T08:56:27.112633Z"
    }
   },
   "outputs": [
    {
     "data": {
      "text/plain": [
       "(2252989, 2941240)"
      ]
     },
     "execution_count": 74,
     "metadata": {},
     "output_type": "execute_result"
    }
   ],
   "source": [
    "# model building\n",
    "model = gensim.models.Word2Vec(window=10)\n",
    "model.build_vocab(story)\n",
    "model.train(story, total_examples=model.corpus_count, epochs=model.epochs)"
   ]
  },
  {
   "cell_type": "code",
   "execution_count": 75,
   "id": "18211aa2",
   "metadata": {
    "ExecuteTime": {
     "end_time": "2022-09-21T08:56:28.844947Z",
     "start_time": "2022-09-21T08:56:28.839351Z"
    }
   },
   "outputs": [
    {
     "data": {
      "text/plain": [
       "[('rachel', 0.8742022514343262),\n",
       " ('phoebe', 0.8444473147392273),\n",
       " ('chandler', 0.8436122536659241),\n",
       " ('ross', 0.8435720205307007),\n",
       " ('joey', 0.8013168573379517),\n",
       " ('emma', 0.7515767216682434),\n",
       " ('mike', 0.7184553146362305),\n",
       " ('richard', 0.7110846638679504),\n",
       " ('janine', 0.7083463072776794),\n",
       " ('directions', 0.7081335783004761)]"
      ]
     },
     "execution_count": 75,
     "metadata": {},
     "output_type": "execute_result"
    }
   ],
   "source": [
    "model.wv.most_similar('monica')"
   ]
  },
  {
   "cell_type": "code",
   "execution_count": 76,
   "id": "715303f7",
   "metadata": {
    "ExecuteTime": {
     "end_time": "2022-09-21T08:56:29.767811Z",
     "start_time": "2022-09-21T08:56:29.762561Z"
    }
   },
   "outputs": [
    {
     "data": {
      "text/plain": [
       "'joey'"
      ]
     },
     "execution_count": 76,
     "metadata": {},
     "output_type": "execute_result"
    }
   ],
   "source": [
    "model.wv.doesnt_match(['monica','chandler','phoeve','joey','chandler','rachel','ross'])"
   ]
  },
  {
   "cell_type": "code",
   "execution_count": 77,
   "id": "22072a97",
   "metadata": {
    "ExecuteTime": {
     "end_time": "2022-09-21T08:56:31.111705Z",
     "start_time": "2022-09-21T08:56:31.106138Z"
    },
    "scrolled": true
   },
   "outputs": [
    {
     "data": {
      "text/plain": [
       "(100,)"
      ]
     },
     "execution_count": 77,
     "metadata": {},
     "output_type": "execute_result"
    }
   ],
   "source": [
    "model.wv['monica'].shape"
   ]
  },
  {
   "cell_type": "code",
   "execution_count": 78,
   "id": "ccb35ca4",
   "metadata": {
    "ExecuteTime": {
     "end_time": "2022-09-21T08:56:33.662770Z",
     "start_time": "2022-09-21T08:56:33.649848Z"
    }
   },
   "outputs": [
    {
     "data": {
      "text/plain": [
       "array([[-0.05474686,  0.10613878,  0.14946425, ..., -0.24690197,\n",
       "        -0.00723608, -0.14554074],\n",
       "       [ 0.00998978,  0.02960225,  0.07546777, ..., -0.1948081 ,\n",
       "        -0.02609395, -0.16989009],\n",
       "       [-0.08028749,  0.04046581,  0.07366319, ..., -0.28754386,\n",
       "         0.06004727, -0.19418496],\n",
       "       ...,\n",
       "       [-0.06884257,  0.07141895,  0.02469751, ..., -0.20954618,\n",
       "         0.06327756, -0.0467608 ],\n",
       "       [-0.0156019 ,  0.05422647, -0.01231915, ..., -0.11449788,\n",
       "        -0.00152965, -0.0584078 ],\n",
       "       [-0.08329803,  0.07482319,  0.06105828, ..., -0.18597427,\n",
       "         0.06525274, -0.02597616]], dtype=float32)"
      ]
     },
     "execution_count": 78,
     "metadata": {},
     "output_type": "execute_result"
    }
   ],
   "source": [
    " \n",
    "model.wv.get_normed_vectors()"
   ]
  },
  {
   "cell_type": "code",
   "execution_count": 79,
   "id": "6fa1e963",
   "metadata": {
    "ExecuteTime": {
     "end_time": "2022-09-21T08:56:34.123807Z",
     "start_time": "2022-09-21T08:56:34.112747Z"
    }
   },
   "outputs": [
    {
     "data": {
      "text/plain": [
       "(5884, 100)"
      ]
     },
     "execution_count": 79,
     "metadata": {},
     "output_type": "execute_result"
    }
   ],
   "source": [
    "model.wv.get_normed_vectors().shape"
   ]
  },
  {
   "cell_type": "code",
   "execution_count": 80,
   "id": "721d76aa",
   "metadata": {
    "ExecuteTime": {
     "end_time": "2022-09-21T08:56:35.440801Z",
     "start_time": "2022-09-21T08:56:35.429016Z"
    }
   },
   "outputs": [
    {
     "data": {
      "text/plain": [
       "['ross',\n",
       " 'rachel',\n",
       " 'chandler',\n",
       " 'joey',\n",
       " 'monica',\n",
       " 'phoebe',\n",
       " 'oh',\n",
       " 'you',\n",
       " 'know',\n",
       " 'no',\n",
       " 'it',\n",
       " 'yeah',\n",
       " 'okay',\n",
       " 'what',\n",
       " 'well',\n",
       " 'hey',\n",
       " 'that',\n",
       " 'right',\n",
       " 'like',\n",
       " 'scene',\n",
       " 'get',\n",
       " 'im',\n",
       " 'the',\n",
       " 'gonna',\n",
       " 'and',\n",
       " 'he',\n",
       " 'go',\n",
       " 'one',\n",
       " 'me',\n",
       " 'really',\n",
       " 'uh',\n",
       " 'so',\n",
       " 'look',\n",
       " 'think',\n",
       " 'she',\n",
       " 'dont',\n",
       " 'to',\n",
       " 'this',\n",
       " 'we',\n",
       " 'see',\n",
       " 'mean',\n",
       " 'all',\n",
       " 'back',\n",
       " 'they',\n",
       " 'got',\n",
       " 'there',\n",
       " 'good',\n",
       " 'want',\n",
       " 'come',\n",
       " 'here',\n",
       " 'god',\n",
       " 'guys',\n",
       " 'him',\n",
       " 'going',\n",
       " 'would',\n",
       " 're',\n",
       " 'on',\n",
       " 'youre',\n",
       " 'sorry',\n",
       " 'her',\n",
       " 'but',\n",
       " 'now',\n",
       " 'hi',\n",
       " 'thats',\n",
       " 'time',\n",
       " 'do',\n",
       " 'up',\n",
       " 'little',\n",
       " 'ok',\n",
       " 'great',\n",
       " 'can',\n",
       " 'say',\n",
       " 'guy',\n",
       " 'tell',\n",
       " 'yes',\n",
       " 'door',\n",
       " 'yknow',\n",
       " 'something',\n",
       " 'out',\n",
       " 'could',\n",
       " 'room',\n",
       " 'is',\n",
       " 'why',\n",
       " 'in',\n",
       " 'love',\n",
       " 'wait',\n",
       " 'thing',\n",
       " 'starts',\n",
       " 'its',\n",
       " 'looks',\n",
       " 'let',\n",
       " 'll',\n",
       " 'take',\n",
       " 'still',\n",
       " 'how',\n",
       " 'apartment',\n",
       " 'make',\n",
       " 'way',\n",
       " 'maybe',\n",
       " 'again',\n",
       " 'said',\n",
       " 'umm',\n",
       " 'phone',\n",
       " 'man',\n",
       " 'mr',\n",
       " 'two',\n",
       " 'us',\n",
       " 'enters',\n",
       " 'huh',\n",
       " 'just',\n",
       " 'not',\n",
       " 'around',\n",
       " 'never',\n",
       " 'much',\n",
       " 'entering',\n",
       " 'cant',\n",
       " 'sure',\n",
       " 'are',\n",
       " 'big',\n",
       " 'wanna',\n",
       " 'thank',\n",
       " 'goes',\n",
       " 'wow',\n",
       " 'away',\n",
       " 'first',\n",
       " 'people',\n",
       " 'believe',\n",
       " 'looking',\n",
       " 'need',\n",
       " 'please',\n",
       " 've',\n",
       " 'mike',\n",
       " 'too',\n",
       " 'baby',\n",
       " 'thought',\n",
       " 'talk',\n",
       " 'woman',\n",
       " 'did',\n",
       " 'give',\n",
       " 'walks',\n",
       " 'even',\n",
       " 'fine',\n",
       " 'work',\n",
       " 'ah',\n",
       " 'gets',\n",
       " 'actually',\n",
       " 'didnt',\n",
       " 'new',\n",
       " 'ill',\n",
       " 'geller',\n",
       " 'central',\n",
       " 'by',\n",
       " 'hes',\n",
       " 'um',\n",
       " 'cut',\n",
       " 'perk',\n",
       " 'getting',\n",
       " 'talking',\n",
       " 'night',\n",
       " 'head',\n",
       " 'listen',\n",
       " 'anything',\n",
       " 'hands',\n",
       " 'nice',\n",
       " 'my',\n",
       " 'call',\n",
       " 'mrs',\n",
       " 'stuff',\n",
       " 'last',\n",
       " 'pause',\n",
       " 'thanks',\n",
       " 'rach',\n",
       " 'who',\n",
       " 'table',\n",
       " 'ya',\n",
       " 'turns',\n",
       " 'feel',\n",
       " 'day',\n",
       " 'ever',\n",
       " 'with',\n",
       " 'them',\n",
       " 'hand',\n",
       " 'stop',\n",
       " 'put',\n",
       " 'shes',\n",
       " 'then',\n",
       " 'next',\n",
       " 'down',\n",
       " 'dr',\n",
       " 'gotta',\n",
       " 'if',\n",
       " 'leave',\n",
       " 'alright',\n",
       " 'emily',\n",
       " 'start',\n",
       " 'another',\n",
       " 'together',\n",
       " 'everyone',\n",
       " 'ooh',\n",
       " 'place',\n",
       " 'girl',\n",
       " 'nothing',\n",
       " 'sitting',\n",
       " 'ohh',\n",
       " 'cause',\n",
       " 'guess',\n",
       " 'honey',\n",
       " 'someone',\n",
       " 'trying',\n",
       " 'break',\n",
       " 'bye',\n",
       " 'better',\n",
       " 'told',\n",
       " 'whats',\n",
       " 'hello',\n",
       " 'richard',\n",
       " 'takes',\n",
       " 'couch',\n",
       " 'long',\n",
       " 'lot',\n",
       " 'kiss',\n",
       " 'face',\n",
       " 'married',\n",
       " 'things',\n",
       " 'friend',\n",
       " 'bad',\n",
       " 'made',\n",
       " 'help',\n",
       " 'end',\n",
       " 'whoa',\n",
       " 'find',\n",
       " 'happy',\n",
       " 'coming',\n",
       " 'off',\n",
       " 'janice',\n",
       " 'name',\n",
       " 'theres',\n",
       " 'wedding',\n",
       " 'ive',\n",
       " 'because',\n",
       " 'fun',\n",
       " 'credits',\n",
       " 'date',\n",
       " 'hear',\n",
       " 'remember',\n",
       " 'play',\n",
       " 'pretty',\n",
       " 'carol',\n",
       " 'left',\n",
       " 'kinda',\n",
       " 'pheebs',\n",
       " 'points',\n",
       " 'comes',\n",
       " 'wanted',\n",
       " 'where',\n",
       " 'ready',\n",
       " 'bathroom',\n",
       " 'laughs',\n",
       " 'ben',\n",
       " 'lets',\n",
       " 'thinking',\n",
       " 'friends',\n",
       " 'party',\n",
       " 'everything',\n",
       " 'best',\n",
       " 'three',\n",
       " 'about',\n",
       " 'always',\n",
       " 'coffee',\n",
       " 'opens',\n",
       " 'happened',\n",
       " 'tonight',\n",
       " 'went',\n",
       " 'sees',\n",
       " 'bedroom',\n",
       " 'minute',\n",
       " 'else',\n",
       " 'leaves',\n",
       " 'old',\n",
       " 'ask',\n",
       " 'doesnt',\n",
       " 'runs',\n",
       " 'keep',\n",
       " 'wrong',\n",
       " 'home',\n",
       " 'kind',\n",
       " 'job',\n",
       " 'try',\n",
       " 'funny',\n",
       " 'makes',\n",
       " 'dad',\n",
       " 'mom',\n",
       " 'money',\n",
       " 'charlie',\n",
       " 'whole',\n",
       " 'hard',\n",
       " 'emma',\n",
       " 'don',\n",
       " 'grabs',\n",
       " 'life',\n",
       " 'show',\n",
       " 'when',\n",
       " 'sex',\n",
       " 'years',\n",
       " 'doing',\n",
       " 'theyre',\n",
       " 'office',\n",
       " 'does',\n",
       " 'today',\n",
       " 'move',\n",
       " 'was',\n",
       " 'opening',\n",
       " 'totally',\n",
       " 'care',\n",
       " 'were',\n",
       " 'behind',\n",
       " 'puts',\n",
       " 'frank',\n",
       " 'watch',\n",
       " 'living',\n",
       " 'dinner',\n",
       " 'weird',\n",
       " 'game',\n",
       " 'hug',\n",
       " 'mon',\n",
       " 'or',\n",
       " 'walk',\n",
       " 'second',\n",
       " 'part',\n",
       " 'saying',\n",
       " 'tv',\n",
       " 'gunther',\n",
       " 'sits',\n",
       " 'green',\n",
       " 'check',\n",
       " 'over',\n",
       " 'of',\n",
       " 'later',\n",
       " 'idea',\n",
       " 'course',\n",
       " 'already',\n",
       " 'kitchen',\n",
       " 'stupid',\n",
       " 'done',\n",
       " 'everybody',\n",
       " 'bed',\n",
       " 'yet',\n",
       " 'probably',\n",
       " 'crazy',\n",
       " 'making',\n",
       " 'year',\n",
       " 'wearing',\n",
       " 'open',\n",
       " 'cool',\n",
       " 'meet',\n",
       " 'pick',\n",
       " 'watching',\n",
       " 'wants',\n",
       " 'might',\n",
       " 'david',\n",
       " 'reading',\n",
       " 'for',\n",
       " 'playing',\n",
       " 'picture',\n",
       " 'stay',\n",
       " 'picks',\n",
       " 'happen',\n",
       " 'stops',\n",
       " 'commercial',\n",
       " 'hell',\n",
       " 'window',\n",
       " 'front',\n",
       " 'will',\n",
       " 'says',\n",
       " 'used',\n",
       " 'couple',\n",
       " 'anyway',\n",
       " 'be',\n",
       " 'eric',\n",
       " 'enough',\n",
       " 'tomorrow',\n",
       " 'telling',\n",
       " 'have',\n",
       " 'listens',\n",
       " 'excuse',\n",
       " 'supposed',\n",
       " 'called',\n",
       " 'taking',\n",
       " 'sit',\n",
       " 'ring',\n",
       " 'problem',\n",
       " 'your',\n",
       " 'house',\n",
       " 'also',\n",
       " 'eyes',\n",
       " 'came',\n",
       " 'gives',\n",
       " 'susan',\n",
       " 'tag',\n",
       " 'doctor',\n",
       " 'outside',\n",
       " 'every',\n",
       " 'voice',\n",
       " 'deal',\n",
       " 'am',\n",
       " 'paul',\n",
       " 'box',\n",
       " 'saw',\n",
       " 'kisses',\n",
       " 'rachels',\n",
       " 'since',\n",
       " 'hair',\n",
       " 'holds',\n",
       " 'live',\n",
       " 'parents',\n",
       " 'may',\n",
       " 'holding',\n",
       " 'five',\n",
       " 'high',\n",
       " 'transcribed',\n",
       " 'tries',\n",
       " 'turn',\n",
       " 'eat',\n",
       " 'morning',\n",
       " 'beautiful',\n",
       " 'chair',\n",
       " 'enter',\n",
       " 'as',\n",
       " 'food',\n",
       " 'use',\n",
       " 'real',\n",
       " 'hold',\n",
       " 'written',\n",
       " 'joeys',\n",
       " 'director',\n",
       " 'standing',\n",
       " 'miss',\n",
       " 'before',\n",
       " 'hot',\n",
       " 'pants',\n",
       " 'chandlers',\n",
       " 'anymore',\n",
       " 'girls',\n",
       " 'kids',\n",
       " 'book',\n",
       " 'matter',\n",
       " 'amy',\n",
       " 'took',\n",
       " 'run',\n",
       " 'rest',\n",
       " 'seen',\n",
       " 'throws',\n",
       " 'person',\n",
       " 'ha',\n",
       " 'boy',\n",
       " 'waiting',\n",
       " 'sister',\n",
       " 'women',\n",
       " 'cute',\n",
       " 'found',\n",
       " 'somebody',\n",
       " 'understand',\n",
       " 'id',\n",
       " 'seeing',\n",
       " 'bing',\n",
       " 'singing',\n",
       " 'forget',\n",
       " 'shocked',\n",
       " 'gang',\n",
       " 'thinks',\n",
       " 'heard',\n",
       " 'other',\n",
       " 'moving',\n",
       " 'knew',\n",
       " 'hate',\n",
       " 'mine',\n",
       " 'birthday',\n",
       " 'story',\n",
       " 'sleep',\n",
       " 'laughing',\n",
       " 'dog',\n",
       " 'gave',\n",
       " 'without',\n",
       " 'bag',\n",
       " 'car',\n",
       " 'movie',\n",
       " 'sweet',\n",
       " 'exits',\n",
       " 'mona',\n",
       " 'half',\n",
       " 'must',\n",
       " 'father',\n",
       " 'walking',\n",
       " 'laugh',\n",
       " 'side',\n",
       " 'bit',\n",
       " 'number',\n",
       " 'isnt',\n",
       " 'different',\n",
       " 'cat',\n",
       " 'late',\n",
       " 'finally',\n",
       " 'uhh',\n",
       " 'pete',\n",
       " 'working',\n",
       " 'mind',\n",
       " 'alone',\n",
       " 'four',\n",
       " 'kathy',\n",
       " 'gone',\n",
       " 'ow',\n",
       " 'though',\n",
       " 'monicas',\n",
       " 'cry',\n",
       " 'sounds',\n",
       " 'question',\n",
       " 'bring',\n",
       " 'uhm',\n",
       " 'sound',\n",
       " 'amazing',\n",
       " 'julie',\n",
       " 'means',\n",
       " 'days',\n",
       " 'street',\n",
       " 'joshua',\n",
       " 'ahh',\n",
       " 'hmm',\n",
       " 'hall',\n",
       " 'quickly',\n",
       " 'kidding',\n",
       " 'restaurant',\n",
       " 'naked',\n",
       " 'close',\n",
       " 'serious',\n",
       " 'youve',\n",
       " 'elizabeth',\n",
       " 'at',\n",
       " 'ball',\n",
       " 'knock',\n",
       " 'huge',\n",
       " 'wife',\n",
       " 'true',\n",
       " 'inside',\n",
       " 'which',\n",
       " 'dress',\n",
       " 'closes',\n",
       " 'set',\n",
       " 'running',\n",
       " 'almost',\n",
       " 'anyone',\n",
       " 'read',\n",
       " 'eating',\n",
       " 'wont',\n",
       " 'fact',\n",
       " 'tape',\n",
       " 'closing',\n",
       " 'minutes',\n",
       " 'mark',\n",
       " 'counter',\n",
       " 'point',\n",
       " 'from',\n",
       " 'ago',\n",
       " 'erica',\n",
       " 'card',\n",
       " 'excited',\n",
       " 'rings',\n",
       " 'leaving',\n",
       " 'floor',\n",
       " 'dude',\n",
       " 'line',\n",
       " 'babies',\n",
       " 'la',\n",
       " 'world',\n",
       " 'hugs',\n",
       " 'either',\n",
       " 'drink',\n",
       " 'gary',\n",
       " 'aasen',\n",
       " 'nods',\n",
       " 'hang',\n",
       " 'throw',\n",
       " 'heads',\n",
       " 'more',\n",
       " 'hope',\n",
       " 'waiter',\n",
       " 'mouth',\n",
       " 'worry',\n",
       " 'dance',\n",
       " 'kid',\n",
       " 'school',\n",
       " 'hallway',\n",
       " 'carrying',\n",
       " 'change',\n",
       " 'moment',\n",
       " 'crying',\n",
       " 'marcel',\n",
       " 'started',\n",
       " 'hangs',\n",
       " 'mother',\n",
       " 'moves',\n",
       " 'machine',\n",
       " 'important',\n",
       " 'giving',\n",
       " 'towards',\n",
       " 'knows',\n",
       " 'times',\n",
       " 'lost',\n",
       " 'wasnt',\n",
       " 'jill',\n",
       " 'wouldnt',\n",
       " 'ursula',\n",
       " 'chance',\n",
       " 'hours',\n",
       " 'joe',\n",
       " 'six',\n",
       " 'janine',\n",
       " 'ass',\n",
       " 'coat',\n",
       " 'except',\n",
       " 'whos',\n",
       " 'mad',\n",
       " 'paper',\n",
       " 'pulls',\n",
       " 'answer',\n",
       " 'rosss',\n",
       " 'boyfriend',\n",
       " 'em',\n",
       " 'wish',\n",
       " 'met',\n",
       " 'suddenly',\n",
       " 'waltham',\n",
       " 'london',\n",
       " 'perfect',\n",
       " 'pregnant',\n",
       " 'duck',\n",
       " 'easy',\n",
       " 'reason',\n",
       " 'fire',\n",
       " 'wear',\n",
       " 'seriously',\n",
       " 'christmas',\n",
       " 'word',\n",
       " 'tribbiani',\n",
       " 'kissing',\n",
       " 'notices',\n",
       " 'anybody',\n",
       " 'absolutely',\n",
       " 'clothes',\n",
       " 'arm',\n",
       " 'yelling',\n",
       " 'least',\n",
       " 'hit',\n",
       " 'hat',\n",
       " 'broke',\n",
       " 'luck',\n",
       " 'whatever',\n",
       " 'many',\n",
       " 'joke',\n",
       " 'glad',\n",
       " 'exactly',\n",
       " 'buy',\n",
       " 'lady',\n",
       " 'asked',\n",
       " 'barry',\n",
       " 'very',\n",
       " 'win',\n",
       " 'youll',\n",
       " 'song',\n",
       " 'relationship',\n",
       " 'gasps',\n",
       " 'camera',\n",
       " 'ugh',\n",
       " 'sweetie',\n",
       " 'class',\n",
       " 'thanksgiving',\n",
       " 'family',\n",
       " 'nurse',\n",
       " 'top',\n",
       " 'butt',\n",
       " 'bet',\n",
       " 'answers',\n",
       " 'along',\n",
       " 'stands',\n",
       " 'wh',\n",
       " 'water',\n",
       " 'week',\n",
       " 'ho',\n",
       " 'havent',\n",
       " 'marry',\n",
       " 'pay',\n",
       " 'while',\n",
       " 'lives',\n",
       " 'shirt',\n",
       " 'hurt',\n",
       " 'jack',\n",
       " 'boss',\n",
       " 'glares',\n",
       " 'dead',\n",
       " 'audition',\n",
       " 'earlier',\n",
       " 'eddie',\n",
       " 'piece',\n",
       " 'fake',\n",
       " 'shows',\n",
       " 'dollars',\n",
       " 'hour',\n",
       " 'pizza',\n",
       " 'after',\n",
       " 'fat',\n",
       " 'myself',\n",
       " 'cup',\n",
       " 'some',\n",
       " 'cannot',\n",
       " 'knocks',\n",
       " 'staring',\n",
       " 'girlfriend',\n",
       " 'kill',\n",
       " 'sick',\n",
       " 'upset',\n",
       " 'mnca',\n",
       " 'tickets',\n",
       " 'realizes',\n",
       " 'asleep',\n",
       " 'lunch',\n",
       " 'hospital',\n",
       " 'across',\n",
       " 'city',\n",
       " 'feeling',\n",
       " 'free',\n",
       " 'shut',\n",
       " 'news',\n",
       " 'welcome',\n",
       " 'soon',\n",
       " 'seat',\n",
       " 'ice',\n",
       " 'kate',\n",
       " 'seems',\n",
       " 'eye',\n",
       " 'meant',\n",
       " 'message',\n",
       " 'stand',\n",
       " 'figure',\n",
       " 'ten',\n",
       " 'these',\n",
       " 'phoebes',\n",
       " 'couldnt',\n",
       " 'promise',\n",
       " 'building',\n",
       " 'putting',\n",
       " 'gavin',\n",
       " 'bob',\n",
       " 'shot',\n",
       " 'past',\n",
       " 'wine',\n",
       " 'shower',\n",
       " 'ticket',\n",
       " 'terrible',\n",
       " 'falls',\n",
       " 'store',\n",
       " 'smell',\n",
       " 'cab',\n",
       " 'men',\n",
       " 'fight',\n",
       " 'stares',\n",
       " 'joanna',\n",
       " 'brought',\n",
       " 'young',\n",
       " 'lapse',\n",
       " 'definitely',\n",
       " 'talked',\n",
       " 'our',\n",
       " 'smiles',\n",
       " 'present',\n",
       " 'die',\n",
       " 'plate',\n",
       " 'both',\n",
       " 'returning',\n",
       " 'pain',\n",
       " 'obviously',\n",
       " 'son',\n",
       " 'chan',\n",
       " 'surprise',\n",
       " 'lose',\n",
       " 'monkey',\n",
       " 'york',\n",
       " 'yep',\n",
       " 'able',\n",
       " 'marriage',\n",
       " 'nobody',\n",
       " 'relax',\n",
       " 'sometimes',\n",
       " 'lauren',\n",
       " 'chicken',\n",
       " 'interrupting',\n",
       " 'teacher',\n",
       " 'drunk',\n",
       " 'doin',\n",
       " 'slowly',\n",
       " 'starting',\n",
       " 'small',\n",
       " 'his',\n",
       " 'hits',\n",
       " 'yourself',\n",
       " 'sexy',\n",
       " 'smiling',\n",
       " 'plane',\n",
       " 'danny',\n",
       " 'steve',\n",
       " 'roommate',\n",
       " 'full',\n",
       " 'actor',\n",
       " 'unless',\n",
       " 'note',\n",
       " 'special',\n",
       " 'chick',\n",
       " 'seem',\n",
       " 'sign',\n",
       " 'answering',\n",
       " 'brother',\n",
       " 'sandwich',\n",
       " 'forgot',\n",
       " 'eh',\n",
       " 'gift',\n",
       " 'himself',\n",
       " 'shoulder',\n",
       " 'onto',\n",
       " 'calling',\n",
       " 'drake',\n",
       " 'finger',\n",
       " 'continued',\n",
       " 'hotel',\n",
       " 'air',\n",
       " 'husband',\n",
       " 'afraid',\n",
       " 'phoe',\n",
       " 'pass',\n",
       " 'jumps',\n",
       " 'cake',\n",
       " 'paolo',\n",
       " 'heart',\n",
       " 'treeger',\n",
       " 'heres',\n",
       " 'sr',\n",
       " 'weeks',\n",
       " 'aunt',\n",
       " 'likes',\n",
       " 'dancing',\n",
       " 'touch',\n",
       " 'candy',\n",
       " 'those',\n",
       " 'plan',\n",
       " 'fast',\n",
       " 'fault',\n",
       " 'bar',\n",
       " 'lights',\n",
       " 'middle',\n",
       " 'motions',\n",
       " 'purse',\n",
       " 'confused',\n",
       " 'assistant',\n",
       " 'massage',\n",
       " 'liked',\n",
       " 'college',\n",
       " 'wall',\n",
       " 'lying',\n",
       " 'finds',\n",
       " 'worried',\n",
       " 'mindy',\n",
       " 'sir',\n",
       " 'desk',\n",
       " 'ones',\n",
       " 'agent',\n",
       " 'figured',\n",
       " 'gay',\n",
       " 'youd',\n",
       " 'seven',\n",
       " 'scared',\n",
       " 'sad',\n",
       " 'music',\n",
       " 'grandmother',\n",
       " 'finish',\n",
       " 'ohhh',\n",
       " 'pointing',\n",
       " 'light',\n",
       " 'angrily',\n",
       " 'returns',\n",
       " 'worse',\n",
       " 'pushes',\n",
       " 'fridge',\n",
       " 'milk',\n",
       " 'writing',\n",
       " 'feet',\n",
       " 'list',\n",
       " 'asking',\n",
       " 'dating',\n",
       " 'smile',\n",
       " 'order',\n",
       " 'ending',\n",
       " 'keys',\n",
       " 'bunch',\n",
       " 'shakes',\n",
       " 'sleeping',\n",
       " 'eight',\n",
       " 'bill',\n",
       " 'turning',\n",
       " 'bought',\n",
       " 'entire',\n",
       " 'ralph',\n",
       " 'straight',\n",
       " 'glass',\n",
       " 'apparently',\n",
       " 'stuck',\n",
       " 'tried',\n",
       " 'fingers',\n",
       " 'months',\n",
       " 'hundred',\n",
       " 'sweater',\n",
       " 'words',\n",
       " 'screaming',\n",
       " 'quit',\n",
       " 'looked',\n",
       " 'bucks',\n",
       " 'hanging',\n",
       " 'star',\n",
       " 'buddy',\n",
       " 'porn',\n",
       " 'feelings',\n",
       " 'moved',\n",
       " 'turkey',\n",
       " 'third',\n",
       " 'alice',\n",
       " 'far',\n",
       " 'interesting',\n",
       " 'shoes',\n",
       " 'grab',\n",
       " 'smoke',\n",
       " 'video',\n",
       " 'weve',\n",
       " 'horrible',\n",
       " 'missed',\n",
       " 'damn',\n",
       " 'feels',\n",
       " 'nose',\n",
       " 'lie',\n",
       " 'bottle',\n",
       " 'closer',\n",
       " 'flight',\n",
       " 'once',\n",
       " 'arent',\n",
       " 'body',\n",
       " 'worked',\n",
       " 'picked',\n",
       " 'stunned',\n",
       " 'smart',\n",
       " 'wondering',\n",
       " 'spend',\n",
       " 'less',\n",
       " 'ear',\n",
       " 'yours',\n",
       " 'seconds',\n",
       " 'surprised',\n",
       " 'kim',\n",
       " 'red',\n",
       " 'showing',\n",
       " 'doug',\n",
       " 'bobby',\n",
       " 'completely',\n",
       " 'cookies',\n",
       " 'cold',\n",
       " 'estelle',\n",
       " 'cards',\n",
       " 'dream',\n",
       " 'beer',\n",
       " 'pull',\n",
       " 'bitch',\n",
       " 'yay',\n",
       " 'daddy',\n",
       " 'drops',\n",
       " 'fall',\n",
       " 'dressed',\n",
       " 'guest',\n",
       " 'lucky',\n",
       " 'leg',\n",
       " 'catch',\n",
       " 'child',\n",
       " 'meeting',\n",
       " 'balcony',\n",
       " 'magazine',\n",
       " 'needs',\n",
       " 'fair',\n",
       " 'boxes',\n",
       " 'using',\n",
       " 'bra',\n",
       " 'cooking',\n",
       " 'checking',\n",
       " 'ex',\n",
       " 'felt',\n",
       " 'died',\n",
       " 'extra',\n",
       " 'step',\n",
       " ...]"
      ]
     },
     "execution_count": 80,
     "metadata": {},
     "output_type": "execute_result"
    }
   ],
   "source": [
    "# word of this vector\n",
    "y = model.wv.index_to_key\n",
    "y"
   ]
  },
  {
   "cell_type": "code",
   "execution_count": 81,
   "id": "6d592234",
   "metadata": {
    "ExecuteTime": {
     "end_time": "2022-09-21T08:56:43.242543Z",
     "start_time": "2022-09-21T08:56:43.235556Z"
    }
   },
   "outputs": [],
   "source": [
    "#100 dimension to 3 dimension\n",
    "from sklearn.decomposition import PCA\n",
    "pca = PCA(n_components=3)"
   ]
  },
  {
   "cell_type": "code",
   "execution_count": 82,
   "id": "88dacc00",
   "metadata": {
    "ExecuteTime": {
     "end_time": "2022-09-21T08:56:44.364086Z",
     "start_time": "2022-09-21T08:56:44.263456Z"
    }
   },
   "outputs": [
    {
     "data": {
      "text/plain": [
       "array([[-0.06970385,  0.08180894,  0.34287283],\n",
       "       [-0.12544584, -0.01402013,  0.31992644],\n",
       "       [-0.14570947,  0.09549664,  0.22410469],\n",
       "       [-0.19413415,  0.09131297,  0.2740277 ],\n",
       "       [-0.13758339,  0.09353763,  0.274386  ]], dtype=float32)"
      ]
     },
     "execution_count": 82,
     "metadata": {},
     "output_type": "execute_result"
    }
   ],
   "source": [
    "X = pca.fit_transform(model.wv.get_normed_vectors())\n",
    "X[:5]"
   ]
  },
  {
   "cell_type": "code",
   "execution_count": 83,
   "id": "e0f9945c",
   "metadata": {
    "ExecuteTime": {
     "end_time": "2022-09-21T08:56:45.220526Z",
     "start_time": "2022-09-21T08:56:45.216884Z"
    }
   },
   "outputs": [
    {
     "data": {
      "text/plain": [
       "(5884, 3)"
      ]
     },
     "execution_count": 83,
     "metadata": {},
     "output_type": "execute_result"
    }
   ],
   "source": [
    "X.shape"
   ]
  },
  {
   "cell_type": "code",
   "execution_count": 84,
   "id": "983dc3a0",
   "metadata": {
    "ExecuteTime": {
     "end_time": "2022-09-21T08:57:02.871914Z",
     "start_time": "2022-09-21T08:57:02.765334Z"
    }
   },
   "outputs": [
    {
     "data": {
      "application/vnd.plotly.v1+json": {
       "config": {
        "plotlyServerURL": "https://plot.ly"
       },
       "data": [
        {
         "hovertemplate": "color=ross<br>0=%{x}<br>1=%{y}<br>2=%{z}<extra></extra>",
         "legendgroup": "ross",
         "marker": {
          "color": "#636efa",
          "symbol": "circle"
         },
         "mode": "markers",
         "name": "ross",
         "scene": "scene",
         "showlegend": true,
         "type": "scatter3d",
         "x": [
          -0.0697038546204567
         ],
         "y": [
          0.08180893957614899
         ],
         "z": [
          0.34287282824516296
         ]
        },
        {
         "hovertemplate": "color=rachel<br>0=%{x}<br>1=%{y}<br>2=%{z}<extra></extra>",
         "legendgroup": "rachel",
         "marker": {
          "color": "#EF553B",
          "symbol": "circle"
         },
         "mode": "markers",
         "name": "rachel",
         "scene": "scene",
         "showlegend": true,
         "type": "scatter3d",
         "x": [
          -0.12544584274291992
         ],
         "y": [
          -0.01402012538164854
         ],
         "z": [
          0.3199264407157898
         ]
        },
        {
         "hovertemplate": "color=chandler<br>0=%{x}<br>1=%{y}<br>2=%{z}<extra></extra>",
         "legendgroup": "chandler",
         "marker": {
          "color": "#00cc96",
          "symbol": "circle"
         },
         "mode": "markers",
         "name": "chandler",
         "scene": "scene",
         "showlegend": true,
         "type": "scatter3d",
         "x": [
          -0.14570946991443634
         ],
         "y": [
          0.09549663960933685
         ],
         "z": [
          0.22410468757152557
         ]
        },
        {
         "hovertemplate": "color=joey<br>0=%{x}<br>1=%{y}<br>2=%{z}<extra></extra>",
         "legendgroup": "joey",
         "marker": {
          "color": "#ab63fa",
          "symbol": "circle"
         },
         "mode": "markers",
         "name": "joey",
         "scene": "scene",
         "showlegend": true,
         "type": "scatter3d",
         "x": [
          -0.19413414597511292
         ],
         "y": [
          0.09131297469139099
         ],
         "z": [
          0.2740277051925659
         ]
        },
        {
         "hovertemplate": "color=monica<br>0=%{x}<br>1=%{y}<br>2=%{z}<extra></extra>",
         "legendgroup": "monica",
         "marker": {
          "color": "#FFA15A",
          "symbol": "circle"
         },
         "mode": "markers",
         "name": "monica",
         "scene": "scene",
         "showlegend": true,
         "type": "scatter3d",
         "x": [
          -0.137583389878273
         ],
         "y": [
          0.09353762865066528
         ],
         "z": [
          0.2743859887123108
         ]
        },
        {
         "hovertemplate": "color=phoebe<br>0=%{x}<br>1=%{y}<br>2=%{z}<extra></extra>",
         "legendgroup": "phoebe",
         "marker": {
          "color": "#19d3f3",
          "symbol": "circle"
         },
         "mode": "markers",
         "name": "phoebe",
         "scene": "scene",
         "showlegend": true,
         "type": "scatter3d",
         "x": [
          -0.05767050385475159
         ],
         "y": [
          -0.028840206563472748
         ],
         "z": [
          0.25926291942596436
         ]
        },
        {
         "hovertemplate": "color=oh<br>0=%{x}<br>1=%{y}<br>2=%{z}<extra></extra>",
         "legendgroup": "oh",
         "marker": {
          "color": "#FF6692",
          "symbol": "circle"
         },
         "mode": "markers",
         "name": "oh",
         "scene": "scene",
         "showlegend": true,
         "type": "scatter3d",
         "x": [
          0.2582923471927643
         ],
         "y": [
          -0.10790566354990005
         ],
         "z": [
          0.3763348460197449
         ]
        },
        {
         "hovertemplate": "color=you<br>0=%{x}<br>1=%{y}<br>2=%{z}<extra></extra>",
         "legendgroup": "you",
         "marker": {
          "color": "#B6E880",
          "symbol": "circle"
         },
         "mode": "markers",
         "name": "you",
         "scene": "scene",
         "showlegend": true,
         "type": "scatter3d",
         "x": [
          0.5177351236343384
         ],
         "y": [
          0.3093087673187256
         ],
         "z": [
          0.22369854152202606
         ]
        },
        {
         "hovertemplate": "color=know<br>0=%{x}<br>1=%{y}<br>2=%{z}<extra></extra>",
         "legendgroup": "know",
         "marker": {
          "color": "#FF97FF",
          "symbol": "circle"
         },
         "mode": "markers",
         "name": "know",
         "scene": "scene",
         "showlegend": true,
         "type": "scatter3d",
         "x": [
          0.768707275390625
         ],
         "y": [
          0.3657246232032776
         ],
         "z": [
          0.15936754643917084
         ]
        },
        {
         "hovertemplate": "color=no<br>0=%{x}<br>1=%{y}<br>2=%{z}<extra></extra>",
         "legendgroup": "no",
         "marker": {
          "color": "#FECB52",
          "symbol": "circle"
         },
         "mode": "markers",
         "name": "no",
         "scene": "scene",
         "showlegend": true,
         "type": "scatter3d",
         "x": [
          0.3014453053474426
         ],
         "y": [
          0.02120056189596653
         ],
         "z": [
          0.25273770093917847
         ]
        },
        {
         "hovertemplate": "color=it<br>0=%{x}<br>1=%{y}<br>2=%{z}<extra></extra>",
         "legendgroup": "it",
         "marker": {
          "color": "#636efa",
          "symbol": "circle"
         },
         "mode": "markers",
         "name": "it",
         "scene": "scene",
         "showlegend": true,
         "type": "scatter3d",
         "x": [
          0.328407347202301
         ],
         "y": [
          0.43949273228645325
         ],
         "z": [
          0.2687666118144989
         ]
        },
        {
         "hovertemplate": "color=yeah<br>0=%{x}<br>1=%{y}<br>2=%{z}<extra></extra>",
         "legendgroup": "yeah",
         "marker": {
          "color": "#EF553B",
          "symbol": "circle"
         },
         "mode": "markers",
         "name": "yeah",
         "scene": "scene",
         "showlegend": true,
         "type": "scatter3d",
         "x": [
          0.5819517970085144
         ],
         "y": [
          0.0036444631405174732
         ],
         "z": [
          0.20798856019973755
         ]
        },
        {
         "hovertemplate": "color=okay<br>0=%{x}<br>1=%{y}<br>2=%{z}<extra></extra>",
         "legendgroup": "okay",
         "marker": {
          "color": "#00cc96",
          "symbol": "circle"
         },
         "mode": "markers",
         "name": "okay",
         "scene": "scene",
         "showlegend": true,
         "type": "scatter3d",
         "x": [
          0.4833366572856903
         ],
         "y": [
          0.15980736911296844
         ],
         "z": [
          0.5219942927360535
         ]
        },
        {
         "hovertemplate": "color=what<br>0=%{x}<br>1=%{y}<br>2=%{z}<extra></extra>",
         "legendgroup": "what",
         "marker": {
          "color": "#ab63fa",
          "symbol": "circle"
         },
         "mode": "markers",
         "name": "what",
         "scene": "scene",
         "showlegend": true,
         "type": "scatter3d",
         "x": [
          0.30264756083488464
         ],
         "y": [
          -0.007928850129246712
         ],
         "z": [
          0.3038795590400696
         ]
        },
        {
         "hovertemplate": "color=well<br>0=%{x}<br>1=%{y}<br>2=%{z}<extra></extra>",
         "legendgroup": "well",
         "marker": {
          "color": "#FFA15A",
          "symbol": "circle"
         },
         "mode": "markers",
         "name": "well",
         "scene": "scene",
         "showlegend": true,
         "type": "scatter3d",
         "x": [
          0.6924937963485718
         ],
         "y": [
          0.295576810836792
         ],
         "z": [
          0.11692899465560913
         ]
        },
        {
         "hovertemplate": "color=hey<br>0=%{x}<br>1=%{y}<br>2=%{z}<extra></extra>",
         "legendgroup": "hey",
         "marker": {
          "color": "#19d3f3",
          "symbol": "circle"
         },
         "mode": "markers",
         "name": "hey",
         "scene": "scene",
         "showlegend": true,
         "type": "scatter3d",
         "x": [
          0.06997906416654587
         ],
         "y": [
          -0.0285502877086401
         ],
         "z": [
          0.38221150636672974
         ]
        },
        {
         "hovertemplate": "color=that<br>0=%{x}<br>1=%{y}<br>2=%{z}<extra></extra>",
         "legendgroup": "that",
         "marker": {
          "color": "#FF6692",
          "symbol": "circle"
         },
         "mode": "markers",
         "name": "that",
         "scene": "scene",
         "showlegend": true,
         "type": "scatter3d",
         "x": [
          0.6366904973983765
         ],
         "y": [
          0.098055399954319
         ],
         "z": [
          0.12047010660171509
         ]
        },
        {
         "hovertemplate": "color=right<br>0=%{x}<br>1=%{y}<br>2=%{z}<extra></extra>",
         "legendgroup": "right",
         "marker": {
          "color": "#B6E880",
          "symbol": "circle"
         },
         "mode": "markers",
         "name": "right",
         "scene": "scene",
         "showlegend": true,
         "type": "scatter3d",
         "x": [
          0.2656129002571106
         ],
         "y": [
          0.24168433248996735
         ],
         "z": [
          0.34625792503356934
         ]
        },
        {
         "hovertemplate": "color=like<br>0=%{x}<br>1=%{y}<br>2=%{z}<extra></extra>",
         "legendgroup": "like",
         "marker": {
          "color": "#FF97FF",
          "symbol": "circle"
         },
         "mode": "markers",
         "name": "like",
         "scene": "scene",
         "showlegend": true,
         "type": "scatter3d",
         "x": [
          0.4502379298210144
         ],
         "y": [
          0.48467907309532166
         ],
         "z": [
          -0.08915580809116364
         ]
        },
        {
         "hovertemplate": "color=scene<br>0=%{x}<br>1=%{y}<br>2=%{z}<extra></extra>",
         "legendgroup": "scene",
         "marker": {
          "color": "#FECB52",
          "symbol": "circle"
         },
         "mode": "markers",
         "name": "scene",
         "scene": "scene",
         "showlegend": true,
         "type": "scatter3d",
         "x": [
          -0.41706815361976624
         ],
         "y": [
          -0.0015345985302701592
         ],
         "z": [
          -0.13485315442085266
         ]
        }
       ],
       "layout": {
        "legend": {
         "title": {
          "text": "color"
         },
         "tracegroupgap": 0
        },
        "margin": {
         "t": 60
        },
        "scene": {
         "domain": {
          "x": [
           0,
           1
          ],
          "y": [
           0,
           1
          ]
         },
         "xaxis": {
          "title": {
           "text": "0"
          }
         },
         "yaxis": {
          "title": {
           "text": "1"
          }
         },
         "zaxis": {
          "title": {
           "text": "2"
          }
         }
        },
        "template": {
         "data": {
          "bar": [
           {
            "error_x": {
             "color": "#2a3f5f"
            },
            "error_y": {
             "color": "#2a3f5f"
            },
            "marker": {
             "line": {
              "color": "#E5ECF6",
              "width": 0.5
             },
             "pattern": {
              "fillmode": "overlay",
              "size": 10,
              "solidity": 0.2
             }
            },
            "type": "bar"
           }
          ],
          "barpolar": [
           {
            "marker": {
             "line": {
              "color": "#E5ECF6",
              "width": 0.5
             },
             "pattern": {
              "fillmode": "overlay",
              "size": 10,
              "solidity": 0.2
             }
            },
            "type": "barpolar"
           }
          ],
          "carpet": [
           {
            "aaxis": {
             "endlinecolor": "#2a3f5f",
             "gridcolor": "white",
             "linecolor": "white",
             "minorgridcolor": "white",
             "startlinecolor": "#2a3f5f"
            },
            "baxis": {
             "endlinecolor": "#2a3f5f",
             "gridcolor": "white",
             "linecolor": "white",
             "minorgridcolor": "white",
             "startlinecolor": "#2a3f5f"
            },
            "type": "carpet"
           }
          ],
          "choropleth": [
           {
            "colorbar": {
             "outlinewidth": 0,
             "ticks": ""
            },
            "type": "choropleth"
           }
          ],
          "contour": [
           {
            "colorbar": {
             "outlinewidth": 0,
             "ticks": ""
            },
            "colorscale": [
             [
              0,
              "#0d0887"
             ],
             [
              0.1111111111111111,
              "#46039f"
             ],
             [
              0.2222222222222222,
              "#7201a8"
             ],
             [
              0.3333333333333333,
              "#9c179e"
             ],
             [
              0.4444444444444444,
              "#bd3786"
             ],
             [
              0.5555555555555556,
              "#d8576b"
             ],
             [
              0.6666666666666666,
              "#ed7953"
             ],
             [
              0.7777777777777778,
              "#fb9f3a"
             ],
             [
              0.8888888888888888,
              "#fdca26"
             ],
             [
              1,
              "#f0f921"
             ]
            ],
            "type": "contour"
           }
          ],
          "contourcarpet": [
           {
            "colorbar": {
             "outlinewidth": 0,
             "ticks": ""
            },
            "type": "contourcarpet"
           }
          ],
          "heatmap": [
           {
            "colorbar": {
             "outlinewidth": 0,
             "ticks": ""
            },
            "colorscale": [
             [
              0,
              "#0d0887"
             ],
             [
              0.1111111111111111,
              "#46039f"
             ],
             [
              0.2222222222222222,
              "#7201a8"
             ],
             [
              0.3333333333333333,
              "#9c179e"
             ],
             [
              0.4444444444444444,
              "#bd3786"
             ],
             [
              0.5555555555555556,
              "#d8576b"
             ],
             [
              0.6666666666666666,
              "#ed7953"
             ],
             [
              0.7777777777777778,
              "#fb9f3a"
             ],
             [
              0.8888888888888888,
              "#fdca26"
             ],
             [
              1,
              "#f0f921"
             ]
            ],
            "type": "heatmap"
           }
          ],
          "heatmapgl": [
           {
            "colorbar": {
             "outlinewidth": 0,
             "ticks": ""
            },
            "colorscale": [
             [
              0,
              "#0d0887"
             ],
             [
              0.1111111111111111,
              "#46039f"
             ],
             [
              0.2222222222222222,
              "#7201a8"
             ],
             [
              0.3333333333333333,
              "#9c179e"
             ],
             [
              0.4444444444444444,
              "#bd3786"
             ],
             [
              0.5555555555555556,
              "#d8576b"
             ],
             [
              0.6666666666666666,
              "#ed7953"
             ],
             [
              0.7777777777777778,
              "#fb9f3a"
             ],
             [
              0.8888888888888888,
              "#fdca26"
             ],
             [
              1,
              "#f0f921"
             ]
            ],
            "type": "heatmapgl"
           }
          ],
          "histogram": [
           {
            "marker": {
             "pattern": {
              "fillmode": "overlay",
              "size": 10,
              "solidity": 0.2
             }
            },
            "type": "histogram"
           }
          ],
          "histogram2d": [
           {
            "colorbar": {
             "outlinewidth": 0,
             "ticks": ""
            },
            "colorscale": [
             [
              0,
              "#0d0887"
             ],
             [
              0.1111111111111111,
              "#46039f"
             ],
             [
              0.2222222222222222,
              "#7201a8"
             ],
             [
              0.3333333333333333,
              "#9c179e"
             ],
             [
              0.4444444444444444,
              "#bd3786"
             ],
             [
              0.5555555555555556,
              "#d8576b"
             ],
             [
              0.6666666666666666,
              "#ed7953"
             ],
             [
              0.7777777777777778,
              "#fb9f3a"
             ],
             [
              0.8888888888888888,
              "#fdca26"
             ],
             [
              1,
              "#f0f921"
             ]
            ],
            "type": "histogram2d"
           }
          ],
          "histogram2dcontour": [
           {
            "colorbar": {
             "outlinewidth": 0,
             "ticks": ""
            },
            "colorscale": [
             [
              0,
              "#0d0887"
             ],
             [
              0.1111111111111111,
              "#46039f"
             ],
             [
              0.2222222222222222,
              "#7201a8"
             ],
             [
              0.3333333333333333,
              "#9c179e"
             ],
             [
              0.4444444444444444,
              "#bd3786"
             ],
             [
              0.5555555555555556,
              "#d8576b"
             ],
             [
              0.6666666666666666,
              "#ed7953"
             ],
             [
              0.7777777777777778,
              "#fb9f3a"
             ],
             [
              0.8888888888888888,
              "#fdca26"
             ],
             [
              1,
              "#f0f921"
             ]
            ],
            "type": "histogram2dcontour"
           }
          ],
          "mesh3d": [
           {
            "colorbar": {
             "outlinewidth": 0,
             "ticks": ""
            },
            "type": "mesh3d"
           }
          ],
          "parcoords": [
           {
            "line": {
             "colorbar": {
              "outlinewidth": 0,
              "ticks": ""
             }
            },
            "type": "parcoords"
           }
          ],
          "pie": [
           {
            "automargin": true,
            "type": "pie"
           }
          ],
          "scatter": [
           {
            "fillpattern": {
             "fillmode": "overlay",
             "size": 10,
             "solidity": 0.2
            },
            "type": "scatter"
           }
          ],
          "scatter3d": [
           {
            "line": {
             "colorbar": {
              "outlinewidth": 0,
              "ticks": ""
             }
            },
            "marker": {
             "colorbar": {
              "outlinewidth": 0,
              "ticks": ""
             }
            },
            "type": "scatter3d"
           }
          ],
          "scattercarpet": [
           {
            "marker": {
             "colorbar": {
              "outlinewidth": 0,
              "ticks": ""
             }
            },
            "type": "scattercarpet"
           }
          ],
          "scattergeo": [
           {
            "marker": {
             "colorbar": {
              "outlinewidth": 0,
              "ticks": ""
             }
            },
            "type": "scattergeo"
           }
          ],
          "scattergl": [
           {
            "marker": {
             "colorbar": {
              "outlinewidth": 0,
              "ticks": ""
             }
            },
            "type": "scattergl"
           }
          ],
          "scattermapbox": [
           {
            "marker": {
             "colorbar": {
              "outlinewidth": 0,
              "ticks": ""
             }
            },
            "type": "scattermapbox"
           }
          ],
          "scatterpolar": [
           {
            "marker": {
             "colorbar": {
              "outlinewidth": 0,
              "ticks": ""
             }
            },
            "type": "scatterpolar"
           }
          ],
          "scatterpolargl": [
           {
            "marker": {
             "colorbar": {
              "outlinewidth": 0,
              "ticks": ""
             }
            },
            "type": "scatterpolargl"
           }
          ],
          "scatterternary": [
           {
            "marker": {
             "colorbar": {
              "outlinewidth": 0,
              "ticks": ""
             }
            },
            "type": "scatterternary"
           }
          ],
          "surface": [
           {
            "colorbar": {
             "outlinewidth": 0,
             "ticks": ""
            },
            "colorscale": [
             [
              0,
              "#0d0887"
             ],
             [
              0.1111111111111111,
              "#46039f"
             ],
             [
              0.2222222222222222,
              "#7201a8"
             ],
             [
              0.3333333333333333,
              "#9c179e"
             ],
             [
              0.4444444444444444,
              "#bd3786"
             ],
             [
              0.5555555555555556,
              "#d8576b"
             ],
             [
              0.6666666666666666,
              "#ed7953"
             ],
             [
              0.7777777777777778,
              "#fb9f3a"
             ],
             [
              0.8888888888888888,
              "#fdca26"
             ],
             [
              1,
              "#f0f921"
             ]
            ],
            "type": "surface"
           }
          ],
          "table": [
           {
            "cells": {
             "fill": {
              "color": "#EBF0F8"
             },
             "line": {
              "color": "white"
             }
            },
            "header": {
             "fill": {
              "color": "#C8D4E3"
             },
             "line": {
              "color": "white"
             }
            },
            "type": "table"
           }
          ]
         },
         "layout": {
          "annotationdefaults": {
           "arrowcolor": "#2a3f5f",
           "arrowhead": 0,
           "arrowwidth": 1
          },
          "autotypenumbers": "strict",
          "coloraxis": {
           "colorbar": {
            "outlinewidth": 0,
            "ticks": ""
           }
          },
          "colorscale": {
           "diverging": [
            [
             0,
             "#8e0152"
            ],
            [
             0.1,
             "#c51b7d"
            ],
            [
             0.2,
             "#de77ae"
            ],
            [
             0.3,
             "#f1b6da"
            ],
            [
             0.4,
             "#fde0ef"
            ],
            [
             0.5,
             "#f7f7f7"
            ],
            [
             0.6,
             "#e6f5d0"
            ],
            [
             0.7,
             "#b8e186"
            ],
            [
             0.8,
             "#7fbc41"
            ],
            [
             0.9,
             "#4d9221"
            ],
            [
             1,
             "#276419"
            ]
           ],
           "sequential": [
            [
             0,
             "#0d0887"
            ],
            [
             0.1111111111111111,
             "#46039f"
            ],
            [
             0.2222222222222222,
             "#7201a8"
            ],
            [
             0.3333333333333333,
             "#9c179e"
            ],
            [
             0.4444444444444444,
             "#bd3786"
            ],
            [
             0.5555555555555556,
             "#d8576b"
            ],
            [
             0.6666666666666666,
             "#ed7953"
            ],
            [
             0.7777777777777778,
             "#fb9f3a"
            ],
            [
             0.8888888888888888,
             "#fdca26"
            ],
            [
             1,
             "#f0f921"
            ]
           ],
           "sequentialminus": [
            [
             0,
             "#0d0887"
            ],
            [
             0.1111111111111111,
             "#46039f"
            ],
            [
             0.2222222222222222,
             "#7201a8"
            ],
            [
             0.3333333333333333,
             "#9c179e"
            ],
            [
             0.4444444444444444,
             "#bd3786"
            ],
            [
             0.5555555555555556,
             "#d8576b"
            ],
            [
             0.6666666666666666,
             "#ed7953"
            ],
            [
             0.7777777777777778,
             "#fb9f3a"
            ],
            [
             0.8888888888888888,
             "#fdca26"
            ],
            [
             1,
             "#f0f921"
            ]
           ]
          },
          "colorway": [
           "#636efa",
           "#EF553B",
           "#00cc96",
           "#ab63fa",
           "#FFA15A",
           "#19d3f3",
           "#FF6692",
           "#B6E880",
           "#FF97FF",
           "#FECB52"
          ],
          "font": {
           "color": "#2a3f5f"
          },
          "geo": {
           "bgcolor": "white",
           "lakecolor": "white",
           "landcolor": "#E5ECF6",
           "showlakes": true,
           "showland": true,
           "subunitcolor": "white"
          },
          "hoverlabel": {
           "align": "left"
          },
          "hovermode": "closest",
          "mapbox": {
           "style": "light"
          },
          "paper_bgcolor": "white",
          "plot_bgcolor": "#E5ECF6",
          "polar": {
           "angularaxis": {
            "gridcolor": "white",
            "linecolor": "white",
            "ticks": ""
           },
           "bgcolor": "#E5ECF6",
           "radialaxis": {
            "gridcolor": "white",
            "linecolor": "white",
            "ticks": ""
           }
          },
          "scene": {
           "xaxis": {
            "backgroundcolor": "#E5ECF6",
            "gridcolor": "white",
            "gridwidth": 2,
            "linecolor": "white",
            "showbackground": true,
            "ticks": "",
            "zerolinecolor": "white"
           },
           "yaxis": {
            "backgroundcolor": "#E5ECF6",
            "gridcolor": "white",
            "gridwidth": 2,
            "linecolor": "white",
            "showbackground": true,
            "ticks": "",
            "zerolinecolor": "white"
           },
           "zaxis": {
            "backgroundcolor": "#E5ECF6",
            "gridcolor": "white",
            "gridwidth": 2,
            "linecolor": "white",
            "showbackground": true,
            "ticks": "",
            "zerolinecolor": "white"
           }
          },
          "shapedefaults": {
           "line": {
            "color": "#2a3f5f"
           }
          },
          "ternary": {
           "aaxis": {
            "gridcolor": "white",
            "linecolor": "white",
            "ticks": ""
           },
           "baxis": {
            "gridcolor": "white",
            "linecolor": "white",
            "ticks": ""
           },
           "bgcolor": "#E5ECF6",
           "caxis": {
            "gridcolor": "white",
            "linecolor": "white",
            "ticks": ""
           }
          },
          "title": {
           "x": 0.05
          },
          "xaxis": {
           "automargin": true,
           "gridcolor": "white",
           "linecolor": "white",
           "ticks": "",
           "title": {
            "standoff": 15
           },
           "zerolinecolor": "white",
           "zerolinewidth": 2
          },
          "yaxis": {
           "automargin": true,
           "gridcolor": "white",
           "linecolor": "white",
           "ticks": "",
           "title": {
            "standoff": 15
           },
           "zerolinecolor": "white",
           "zerolinewidth": 2
          }
         }
        }
       }
      },
      "text/html": [
       "<div>                            <div id=\"0da924f9-3d75-4e38-bccf-d52b94cd3786\" class=\"plotly-graph-div\" style=\"height:525px; width:100%;\"></div>            <script type=\"text/javascript\">                require([\"plotly\"], function(Plotly) {                    window.PLOTLYENV=window.PLOTLYENV || {};                                    if (document.getElementById(\"0da924f9-3d75-4e38-bccf-d52b94cd3786\")) {                    Plotly.newPlot(                        \"0da924f9-3d75-4e38-bccf-d52b94cd3786\",                        [{\"hovertemplate\":\"color=ross<br>0=%{x}<br>1=%{y}<br>2=%{z}<extra></extra>\",\"legendgroup\":\"ross\",\"marker\":{\"color\":\"#636efa\",\"symbol\":\"circle\"},\"mode\":\"markers\",\"name\":\"ross\",\"scene\":\"scene\",\"showlegend\":true,\"x\":[-0.0697038546204567],\"y\":[0.08180893957614899],\"z\":[0.34287282824516296],\"type\":\"scatter3d\"},{\"hovertemplate\":\"color=rachel<br>0=%{x}<br>1=%{y}<br>2=%{z}<extra></extra>\",\"legendgroup\":\"rachel\",\"marker\":{\"color\":\"#EF553B\",\"symbol\":\"circle\"},\"mode\":\"markers\",\"name\":\"rachel\",\"scene\":\"scene\",\"showlegend\":true,\"x\":[-0.12544584274291992],\"y\":[-0.01402012538164854],\"z\":[0.3199264407157898],\"type\":\"scatter3d\"},{\"hovertemplate\":\"color=chandler<br>0=%{x}<br>1=%{y}<br>2=%{z}<extra></extra>\",\"legendgroup\":\"chandler\",\"marker\":{\"color\":\"#00cc96\",\"symbol\":\"circle\"},\"mode\":\"markers\",\"name\":\"chandler\",\"scene\":\"scene\",\"showlegend\":true,\"x\":[-0.14570946991443634],\"y\":[0.09549663960933685],\"z\":[0.22410468757152557],\"type\":\"scatter3d\"},{\"hovertemplate\":\"color=joey<br>0=%{x}<br>1=%{y}<br>2=%{z}<extra></extra>\",\"legendgroup\":\"joey\",\"marker\":{\"color\":\"#ab63fa\",\"symbol\":\"circle\"},\"mode\":\"markers\",\"name\":\"joey\",\"scene\":\"scene\",\"showlegend\":true,\"x\":[-0.19413414597511292],\"y\":[0.09131297469139099],\"z\":[0.2740277051925659],\"type\":\"scatter3d\"},{\"hovertemplate\":\"color=monica<br>0=%{x}<br>1=%{y}<br>2=%{z}<extra></extra>\",\"legendgroup\":\"monica\",\"marker\":{\"color\":\"#FFA15A\",\"symbol\":\"circle\"},\"mode\":\"markers\",\"name\":\"monica\",\"scene\":\"scene\",\"showlegend\":true,\"x\":[-0.137583389878273],\"y\":[0.09353762865066528],\"z\":[0.2743859887123108],\"type\":\"scatter3d\"},{\"hovertemplate\":\"color=phoebe<br>0=%{x}<br>1=%{y}<br>2=%{z}<extra></extra>\",\"legendgroup\":\"phoebe\",\"marker\":{\"color\":\"#19d3f3\",\"symbol\":\"circle\"},\"mode\":\"markers\",\"name\":\"phoebe\",\"scene\":\"scene\",\"showlegend\":true,\"x\":[-0.05767050385475159],\"y\":[-0.028840206563472748],\"z\":[0.25926291942596436],\"type\":\"scatter3d\"},{\"hovertemplate\":\"color=oh<br>0=%{x}<br>1=%{y}<br>2=%{z}<extra></extra>\",\"legendgroup\":\"oh\",\"marker\":{\"color\":\"#FF6692\",\"symbol\":\"circle\"},\"mode\":\"markers\",\"name\":\"oh\",\"scene\":\"scene\",\"showlegend\":true,\"x\":[0.2582923471927643],\"y\":[-0.10790566354990005],\"z\":[0.3763348460197449],\"type\":\"scatter3d\"},{\"hovertemplate\":\"color=you<br>0=%{x}<br>1=%{y}<br>2=%{z}<extra></extra>\",\"legendgroup\":\"you\",\"marker\":{\"color\":\"#B6E880\",\"symbol\":\"circle\"},\"mode\":\"markers\",\"name\":\"you\",\"scene\":\"scene\",\"showlegend\":true,\"x\":[0.5177351236343384],\"y\":[0.3093087673187256],\"z\":[0.22369854152202606],\"type\":\"scatter3d\"},{\"hovertemplate\":\"color=know<br>0=%{x}<br>1=%{y}<br>2=%{z}<extra></extra>\",\"legendgroup\":\"know\",\"marker\":{\"color\":\"#FF97FF\",\"symbol\":\"circle\"},\"mode\":\"markers\",\"name\":\"know\",\"scene\":\"scene\",\"showlegend\":true,\"x\":[0.768707275390625],\"y\":[0.3657246232032776],\"z\":[0.15936754643917084],\"type\":\"scatter3d\"},{\"hovertemplate\":\"color=no<br>0=%{x}<br>1=%{y}<br>2=%{z}<extra></extra>\",\"legendgroup\":\"no\",\"marker\":{\"color\":\"#FECB52\",\"symbol\":\"circle\"},\"mode\":\"markers\",\"name\":\"no\",\"scene\":\"scene\",\"showlegend\":true,\"x\":[0.3014453053474426],\"y\":[0.02120056189596653],\"z\":[0.25273770093917847],\"type\":\"scatter3d\"},{\"hovertemplate\":\"color=it<br>0=%{x}<br>1=%{y}<br>2=%{z}<extra></extra>\",\"legendgroup\":\"it\",\"marker\":{\"color\":\"#636efa\",\"symbol\":\"circle\"},\"mode\":\"markers\",\"name\":\"it\",\"scene\":\"scene\",\"showlegend\":true,\"x\":[0.328407347202301],\"y\":[0.43949273228645325],\"z\":[0.2687666118144989],\"type\":\"scatter3d\"},{\"hovertemplate\":\"color=yeah<br>0=%{x}<br>1=%{y}<br>2=%{z}<extra></extra>\",\"legendgroup\":\"yeah\",\"marker\":{\"color\":\"#EF553B\",\"symbol\":\"circle\"},\"mode\":\"markers\",\"name\":\"yeah\",\"scene\":\"scene\",\"showlegend\":true,\"x\":[0.5819517970085144],\"y\":[0.0036444631405174732],\"z\":[0.20798856019973755],\"type\":\"scatter3d\"},{\"hovertemplate\":\"color=okay<br>0=%{x}<br>1=%{y}<br>2=%{z}<extra></extra>\",\"legendgroup\":\"okay\",\"marker\":{\"color\":\"#00cc96\",\"symbol\":\"circle\"},\"mode\":\"markers\",\"name\":\"okay\",\"scene\":\"scene\",\"showlegend\":true,\"x\":[0.4833366572856903],\"y\":[0.15980736911296844],\"z\":[0.5219942927360535],\"type\":\"scatter3d\"},{\"hovertemplate\":\"color=what<br>0=%{x}<br>1=%{y}<br>2=%{z}<extra></extra>\",\"legendgroup\":\"what\",\"marker\":{\"color\":\"#ab63fa\",\"symbol\":\"circle\"},\"mode\":\"markers\",\"name\":\"what\",\"scene\":\"scene\",\"showlegend\":true,\"x\":[0.30264756083488464],\"y\":[-0.007928850129246712],\"z\":[0.3038795590400696],\"type\":\"scatter3d\"},{\"hovertemplate\":\"color=well<br>0=%{x}<br>1=%{y}<br>2=%{z}<extra></extra>\",\"legendgroup\":\"well\",\"marker\":{\"color\":\"#FFA15A\",\"symbol\":\"circle\"},\"mode\":\"markers\",\"name\":\"well\",\"scene\":\"scene\",\"showlegend\":true,\"x\":[0.6924937963485718],\"y\":[0.295576810836792],\"z\":[0.11692899465560913],\"type\":\"scatter3d\"},{\"hovertemplate\":\"color=hey<br>0=%{x}<br>1=%{y}<br>2=%{z}<extra></extra>\",\"legendgroup\":\"hey\",\"marker\":{\"color\":\"#19d3f3\",\"symbol\":\"circle\"},\"mode\":\"markers\",\"name\":\"hey\",\"scene\":\"scene\",\"showlegend\":true,\"x\":[0.06997906416654587],\"y\":[-0.0285502877086401],\"z\":[0.38221150636672974],\"type\":\"scatter3d\"},{\"hovertemplate\":\"color=that<br>0=%{x}<br>1=%{y}<br>2=%{z}<extra></extra>\",\"legendgroup\":\"that\",\"marker\":{\"color\":\"#FF6692\",\"symbol\":\"circle\"},\"mode\":\"markers\",\"name\":\"that\",\"scene\":\"scene\",\"showlegend\":true,\"x\":[0.6366904973983765],\"y\":[0.098055399954319],\"z\":[0.12047010660171509],\"type\":\"scatter3d\"},{\"hovertemplate\":\"color=right<br>0=%{x}<br>1=%{y}<br>2=%{z}<extra></extra>\",\"legendgroup\":\"right\",\"marker\":{\"color\":\"#B6E880\",\"symbol\":\"circle\"},\"mode\":\"markers\",\"name\":\"right\",\"scene\":\"scene\",\"showlegend\":true,\"x\":[0.2656129002571106],\"y\":[0.24168433248996735],\"z\":[0.34625792503356934],\"type\":\"scatter3d\"},{\"hovertemplate\":\"color=like<br>0=%{x}<br>1=%{y}<br>2=%{z}<extra></extra>\",\"legendgroup\":\"like\",\"marker\":{\"color\":\"#FF97FF\",\"symbol\":\"circle\"},\"mode\":\"markers\",\"name\":\"like\",\"scene\":\"scene\",\"showlegend\":true,\"x\":[0.4502379298210144],\"y\":[0.48467907309532166],\"z\":[-0.08915580809116364],\"type\":\"scatter3d\"},{\"hovertemplate\":\"color=scene<br>0=%{x}<br>1=%{y}<br>2=%{z}<extra></extra>\",\"legendgroup\":\"scene\",\"marker\":{\"color\":\"#FECB52\",\"symbol\":\"circle\"},\"mode\":\"markers\",\"name\":\"scene\",\"scene\":\"scene\",\"showlegend\":true,\"x\":[-0.41706815361976624],\"y\":[-0.0015345985302701592],\"z\":[-0.13485315442085266],\"type\":\"scatter3d\"}],                        {\"template\":{\"data\":{\"histogram2dcontour\":[{\"type\":\"histogram2dcontour\",\"colorbar\":{\"outlinewidth\":0,\"ticks\":\"\"},\"colorscale\":[[0.0,\"#0d0887\"],[0.1111111111111111,\"#46039f\"],[0.2222222222222222,\"#7201a8\"],[0.3333333333333333,\"#9c179e\"],[0.4444444444444444,\"#bd3786\"],[0.5555555555555556,\"#d8576b\"],[0.6666666666666666,\"#ed7953\"],[0.7777777777777778,\"#fb9f3a\"],[0.8888888888888888,\"#fdca26\"],[1.0,\"#f0f921\"]]}],\"choropleth\":[{\"type\":\"choropleth\",\"colorbar\":{\"outlinewidth\":0,\"ticks\":\"\"}}],\"histogram2d\":[{\"type\":\"histogram2d\",\"colorbar\":{\"outlinewidth\":0,\"ticks\":\"\"},\"colorscale\":[[0.0,\"#0d0887\"],[0.1111111111111111,\"#46039f\"],[0.2222222222222222,\"#7201a8\"],[0.3333333333333333,\"#9c179e\"],[0.4444444444444444,\"#bd3786\"],[0.5555555555555556,\"#d8576b\"],[0.6666666666666666,\"#ed7953\"],[0.7777777777777778,\"#fb9f3a\"],[0.8888888888888888,\"#fdca26\"],[1.0,\"#f0f921\"]]}],\"heatmap\":[{\"type\":\"heatmap\",\"colorbar\":{\"outlinewidth\":0,\"ticks\":\"\"},\"colorscale\":[[0.0,\"#0d0887\"],[0.1111111111111111,\"#46039f\"],[0.2222222222222222,\"#7201a8\"],[0.3333333333333333,\"#9c179e\"],[0.4444444444444444,\"#bd3786\"],[0.5555555555555556,\"#d8576b\"],[0.6666666666666666,\"#ed7953\"],[0.7777777777777778,\"#fb9f3a\"],[0.8888888888888888,\"#fdca26\"],[1.0,\"#f0f921\"]]}],\"heatmapgl\":[{\"type\":\"heatmapgl\",\"colorbar\":{\"outlinewidth\":0,\"ticks\":\"\"},\"colorscale\":[[0.0,\"#0d0887\"],[0.1111111111111111,\"#46039f\"],[0.2222222222222222,\"#7201a8\"],[0.3333333333333333,\"#9c179e\"],[0.4444444444444444,\"#bd3786\"],[0.5555555555555556,\"#d8576b\"],[0.6666666666666666,\"#ed7953\"],[0.7777777777777778,\"#fb9f3a\"],[0.8888888888888888,\"#fdca26\"],[1.0,\"#f0f921\"]]}],\"contourcarpet\":[{\"type\":\"contourcarpet\",\"colorbar\":{\"outlinewidth\":0,\"ticks\":\"\"}}],\"contour\":[{\"type\":\"contour\",\"colorbar\":{\"outlinewidth\":0,\"ticks\":\"\"},\"colorscale\":[[0.0,\"#0d0887\"],[0.1111111111111111,\"#46039f\"],[0.2222222222222222,\"#7201a8\"],[0.3333333333333333,\"#9c179e\"],[0.4444444444444444,\"#bd3786\"],[0.5555555555555556,\"#d8576b\"],[0.6666666666666666,\"#ed7953\"],[0.7777777777777778,\"#fb9f3a\"],[0.8888888888888888,\"#fdca26\"],[1.0,\"#f0f921\"]]}],\"surface\":[{\"type\":\"surface\",\"colorbar\":{\"outlinewidth\":0,\"ticks\":\"\"},\"colorscale\":[[0.0,\"#0d0887\"],[0.1111111111111111,\"#46039f\"],[0.2222222222222222,\"#7201a8\"],[0.3333333333333333,\"#9c179e\"],[0.4444444444444444,\"#bd3786\"],[0.5555555555555556,\"#d8576b\"],[0.6666666666666666,\"#ed7953\"],[0.7777777777777778,\"#fb9f3a\"],[0.8888888888888888,\"#fdca26\"],[1.0,\"#f0f921\"]]}],\"mesh3d\":[{\"type\":\"mesh3d\",\"colorbar\":{\"outlinewidth\":0,\"ticks\":\"\"}}],\"scatter\":[{\"fillpattern\":{\"fillmode\":\"overlay\",\"size\":10,\"solidity\":0.2},\"type\":\"scatter\"}],\"parcoords\":[{\"type\":\"parcoords\",\"line\":{\"colorbar\":{\"outlinewidth\":0,\"ticks\":\"\"}}}],\"scatterpolargl\":[{\"type\":\"scatterpolargl\",\"marker\":{\"colorbar\":{\"outlinewidth\":0,\"ticks\":\"\"}}}],\"bar\":[{\"error_x\":{\"color\":\"#2a3f5f\"},\"error_y\":{\"color\":\"#2a3f5f\"},\"marker\":{\"line\":{\"color\":\"#E5ECF6\",\"width\":0.5},\"pattern\":{\"fillmode\":\"overlay\",\"size\":10,\"solidity\":0.2}},\"type\":\"bar\"}],\"scattergeo\":[{\"type\":\"scattergeo\",\"marker\":{\"colorbar\":{\"outlinewidth\":0,\"ticks\":\"\"}}}],\"scatterpolar\":[{\"type\":\"scatterpolar\",\"marker\":{\"colorbar\":{\"outlinewidth\":0,\"ticks\":\"\"}}}],\"histogram\":[{\"marker\":{\"pattern\":{\"fillmode\":\"overlay\",\"size\":10,\"solidity\":0.2}},\"type\":\"histogram\"}],\"scattergl\":[{\"type\":\"scattergl\",\"marker\":{\"colorbar\":{\"outlinewidth\":0,\"ticks\":\"\"}}}],\"scatter3d\":[{\"type\":\"scatter3d\",\"line\":{\"colorbar\":{\"outlinewidth\":0,\"ticks\":\"\"}},\"marker\":{\"colorbar\":{\"outlinewidth\":0,\"ticks\":\"\"}}}],\"scattermapbox\":[{\"type\":\"scattermapbox\",\"marker\":{\"colorbar\":{\"outlinewidth\":0,\"ticks\":\"\"}}}],\"scatterternary\":[{\"type\":\"scatterternary\",\"marker\":{\"colorbar\":{\"outlinewidth\":0,\"ticks\":\"\"}}}],\"scattercarpet\":[{\"type\":\"scattercarpet\",\"marker\":{\"colorbar\":{\"outlinewidth\":0,\"ticks\":\"\"}}}],\"carpet\":[{\"aaxis\":{\"endlinecolor\":\"#2a3f5f\",\"gridcolor\":\"white\",\"linecolor\":\"white\",\"minorgridcolor\":\"white\",\"startlinecolor\":\"#2a3f5f\"},\"baxis\":{\"endlinecolor\":\"#2a3f5f\",\"gridcolor\":\"white\",\"linecolor\":\"white\",\"minorgridcolor\":\"white\",\"startlinecolor\":\"#2a3f5f\"},\"type\":\"carpet\"}],\"table\":[{\"cells\":{\"fill\":{\"color\":\"#EBF0F8\"},\"line\":{\"color\":\"white\"}},\"header\":{\"fill\":{\"color\":\"#C8D4E3\"},\"line\":{\"color\":\"white\"}},\"type\":\"table\"}],\"barpolar\":[{\"marker\":{\"line\":{\"color\":\"#E5ECF6\",\"width\":0.5},\"pattern\":{\"fillmode\":\"overlay\",\"size\":10,\"solidity\":0.2}},\"type\":\"barpolar\"}],\"pie\":[{\"automargin\":true,\"type\":\"pie\"}]},\"layout\":{\"autotypenumbers\":\"strict\",\"colorway\":[\"#636efa\",\"#EF553B\",\"#00cc96\",\"#ab63fa\",\"#FFA15A\",\"#19d3f3\",\"#FF6692\",\"#B6E880\",\"#FF97FF\",\"#FECB52\"],\"font\":{\"color\":\"#2a3f5f\"},\"hovermode\":\"closest\",\"hoverlabel\":{\"align\":\"left\"},\"paper_bgcolor\":\"white\",\"plot_bgcolor\":\"#E5ECF6\",\"polar\":{\"bgcolor\":\"#E5ECF6\",\"angularaxis\":{\"gridcolor\":\"white\",\"linecolor\":\"white\",\"ticks\":\"\"},\"radialaxis\":{\"gridcolor\":\"white\",\"linecolor\":\"white\",\"ticks\":\"\"}},\"ternary\":{\"bgcolor\":\"#E5ECF6\",\"aaxis\":{\"gridcolor\":\"white\",\"linecolor\":\"white\",\"ticks\":\"\"},\"baxis\":{\"gridcolor\":\"white\",\"linecolor\":\"white\",\"ticks\":\"\"},\"caxis\":{\"gridcolor\":\"white\",\"linecolor\":\"white\",\"ticks\":\"\"}},\"coloraxis\":{\"colorbar\":{\"outlinewidth\":0,\"ticks\":\"\"}},\"colorscale\":{\"sequential\":[[0.0,\"#0d0887\"],[0.1111111111111111,\"#46039f\"],[0.2222222222222222,\"#7201a8\"],[0.3333333333333333,\"#9c179e\"],[0.4444444444444444,\"#bd3786\"],[0.5555555555555556,\"#d8576b\"],[0.6666666666666666,\"#ed7953\"],[0.7777777777777778,\"#fb9f3a\"],[0.8888888888888888,\"#fdca26\"],[1.0,\"#f0f921\"]],\"sequentialminus\":[[0.0,\"#0d0887\"],[0.1111111111111111,\"#46039f\"],[0.2222222222222222,\"#7201a8\"],[0.3333333333333333,\"#9c179e\"],[0.4444444444444444,\"#bd3786\"],[0.5555555555555556,\"#d8576b\"],[0.6666666666666666,\"#ed7953\"],[0.7777777777777778,\"#fb9f3a\"],[0.8888888888888888,\"#fdca26\"],[1.0,\"#f0f921\"]],\"diverging\":[[0,\"#8e0152\"],[0.1,\"#c51b7d\"],[0.2,\"#de77ae\"],[0.3,\"#f1b6da\"],[0.4,\"#fde0ef\"],[0.5,\"#f7f7f7\"],[0.6,\"#e6f5d0\"],[0.7,\"#b8e186\"],[0.8,\"#7fbc41\"],[0.9,\"#4d9221\"],[1,\"#276419\"]]},\"xaxis\":{\"gridcolor\":\"white\",\"linecolor\":\"white\",\"ticks\":\"\",\"title\":{\"standoff\":15},\"zerolinecolor\":\"white\",\"automargin\":true,\"zerolinewidth\":2},\"yaxis\":{\"gridcolor\":\"white\",\"linecolor\":\"white\",\"ticks\":\"\",\"title\":{\"standoff\":15},\"zerolinecolor\":\"white\",\"automargin\":true,\"zerolinewidth\":2},\"scene\":{\"xaxis\":{\"backgroundcolor\":\"#E5ECF6\",\"gridcolor\":\"white\",\"linecolor\":\"white\",\"showbackground\":true,\"ticks\":\"\",\"zerolinecolor\":\"white\",\"gridwidth\":2},\"yaxis\":{\"backgroundcolor\":\"#E5ECF6\",\"gridcolor\":\"white\",\"linecolor\":\"white\",\"showbackground\":true,\"ticks\":\"\",\"zerolinecolor\":\"white\",\"gridwidth\":2},\"zaxis\":{\"backgroundcolor\":\"#E5ECF6\",\"gridcolor\":\"white\",\"linecolor\":\"white\",\"showbackground\":true,\"ticks\":\"\",\"zerolinecolor\":\"white\",\"gridwidth\":2}},\"shapedefaults\":{\"line\":{\"color\":\"#2a3f5f\"}},\"annotationdefaults\":{\"arrowcolor\":\"#2a3f5f\",\"arrowhead\":0,\"arrowwidth\":1},\"geo\":{\"bgcolor\":\"white\",\"landcolor\":\"#E5ECF6\",\"subunitcolor\":\"white\",\"showland\":true,\"showlakes\":true,\"lakecolor\":\"white\"},\"title\":{\"x\":0.05},\"mapbox\":{\"style\":\"light\"}}},\"scene\":{\"domain\":{\"x\":[0.0,1.0],\"y\":[0.0,1.0]},\"xaxis\":{\"title\":{\"text\":\"0\"}},\"yaxis\":{\"title\":{\"text\":\"1\"}},\"zaxis\":{\"title\":{\"text\":\"2\"}}},\"legend\":{\"title\":{\"text\":\"color\"},\"tracegroupgap\":0},\"margin\":{\"t\":60}},                        {\"responsive\": true}                    ).then(function(){\n",
       "                            \n",
       "var gd = document.getElementById('0da924f9-3d75-4e38-bccf-d52b94cd3786');\n",
       "var x = new MutationObserver(function (mutations, observer) {{\n",
       "        var display = window.getComputedStyle(gd).display;\n",
       "        if (!display || display === 'none') {{\n",
       "            console.log([gd, 'removed!']);\n",
       "            Plotly.purge(gd);\n",
       "            observer.disconnect();\n",
       "        }}\n",
       "}});\n",
       "\n",
       "// Listen for the removal of the full notebook cells\n",
       "var notebookContainer = gd.closest('#notebook-container');\n",
       "if (notebookContainer) {{\n",
       "    x.observe(notebookContainer, {childList: true});\n",
       "}}\n",
       "\n",
       "// Listen for the clearing of the current output cell\n",
       "var outputEl = gd.closest('.output');\n",
       "if (outputEl) {{\n",
       "    x.observe(outputEl, {childList: true});\n",
       "}}\n",
       "\n",
       "                        })                };                });            </script>        </div>"
      ]
     },
     "metadata": {},
     "output_type": "display_data"
    }
   ],
   "source": [
    "import plotly.express as px\n",
    "fig = px.scatter_3d(X[:20], x=0,y=1,z=2, color=y[:20])\n",
    "fig.show()"
   ]
  },
  {
   "cell_type": "code",
   "execution_count": null,
   "id": "92a36071",
   "metadata": {},
   "outputs": [],
   "source": []
  }
 ],
 "metadata": {
  "kernelspec": {
   "display_name": "Python 3 (ipykernel)",
   "language": "python",
   "name": "python3"
  },
  "language_info": {
   "codemirror_mode": {
    "name": "ipython",
    "version": 3
   },
   "file_extension": ".py",
   "mimetype": "text/x-python",
   "name": "python",
   "nbconvert_exporter": "python",
   "pygments_lexer": "ipython3",
   "version": "3.9.12"
  },
  "varInspector": {
   "cols": {
    "lenName": 16,
    "lenType": 16,
    "lenVar": 40
   },
   "kernels_config": {
    "python": {
     "delete_cmd_postfix": "",
     "delete_cmd_prefix": "del ",
     "library": "var_list.py",
     "varRefreshCmd": "print(var_dic_list())"
    },
    "r": {
     "delete_cmd_postfix": ") ",
     "delete_cmd_prefix": "rm(",
     "library": "var_list.r",
     "varRefreshCmd": "cat(var_dic_list()) "
    }
   },
   "types_to_exclude": [
    "module",
    "function",
    "builtin_function_or_method",
    "instance",
    "_Feature"
   ],
   "window_display": false
  }
 },
 "nbformat": 4,
 "nbformat_minor": 5
}
