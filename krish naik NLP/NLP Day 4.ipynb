{
 "cells": [
  {
   "cell_type": "markdown",
   "id": "2625bf72",
   "metadata": {},
   "source": [
    "#### 1.Word Embeddings\n",
    "    It is a technique which converts words into vectors\n",
    "    \n",
    "    Word Embedding = 1. counts or Frequency\n",
    "                     2. Deep learning model\n",
    "                     \n",
    "    1. Count/Frequency = BOW, TF-IDF, OHE\n",
    "    2. Deep learning model = Word2Vec(CBOW, SKIP GRAMS)\n",
    "#### 2. Word2Vec (CBOW= continuous BOW, Skipgram)"
   ]
  },
  {
   "cell_type": "code",
   "execution_count": 1,
   "id": "537353c1",
   "metadata": {
    "ExecuteTime": {
     "end_time": "2022-10-15T13:04:38.129946Z",
     "start_time": "2022-10-15T13:04:36.098669Z"
    }
   },
   "outputs": [
    {
     "name": "stdout",
     "output_type": "stream",
     "text": [
      "Requirement already satisfied: gensim in /home/arafat/anaconda3/lib/python3.9/site-packages (4.2.0)\n",
      "Requirement already satisfied: numpy>=1.17.0 in /home/arafat/anaconda3/lib/python3.9/site-packages (from gensim) (1.19.5)\n",
      "Requirement already satisfied: scipy>=0.18.1 in /home/arafat/anaconda3/lib/python3.9/site-packages (from gensim) (1.7.3)\n",
      "Requirement already satisfied: smart-open>=1.8.1 in /home/arafat/anaconda3/lib/python3.9/site-packages (from gensim) (5.2.1)\n"
     ]
    }
   ],
   "source": [
    "!pip install gensim"
   ]
  },
  {
   "cell_type": "code",
   "execution_count": 2,
   "id": "a929d62c",
   "metadata": {
    "ExecuteTime": {
     "end_time": "2022-10-15T13:04:38.715630Z",
     "start_time": "2022-10-15T13:04:38.135645Z"
    }
   },
   "outputs": [],
   "source": [
    "import gensim"
   ]
  },
  {
   "cell_type": "code",
   "execution_count": 3,
   "id": "9036704f",
   "metadata": {
    "ExecuteTime": {
     "end_time": "2022-10-15T13:04:38.719767Z",
     "start_time": "2022-10-15T13:04:38.717406Z"
    }
   },
   "outputs": [],
   "source": [
    "from gensim.models import Word2Vec, KeyedVectors"
   ]
  },
  {
   "cell_type": "code",
   "execution_count": 4,
   "id": "5087dacb",
   "metadata": {
    "ExecuteTime": {
     "end_time": "2022-10-15T13:05:17.282393Z",
     "start_time": "2022-10-15T13:04:38.721430Z"
    },
    "scrolled": true
   },
   "outputs": [],
   "source": [
    "wv = KeyedVectors.load_word2vec_format('./GoogleNews-vectors-negative300.bin.gz', binary=True)"
   ]
  },
  {
   "cell_type": "code",
   "execution_count": 5,
   "id": "68ec8a12",
   "metadata": {
    "ExecuteTime": {
     "end_time": "2022-10-15T13:05:17.293330Z",
     "start_time": "2022-10-15T13:05:17.283487Z"
    }
   },
   "outputs": [
    {
     "data": {
      "text/plain": [
       "0.25811526"
      ]
     },
     "execution_count": 5,
     "metadata": {},
     "output_type": "execute_result"
    }
   ],
   "source": [
    "wv.similarity('html', 'programmer')"
   ]
  },
  {
   "cell_type": "code",
   "execution_count": 6,
   "id": "13c55584",
   "metadata": {
    "ExecuteTime": {
     "end_time": "2022-10-15T13:05:17.542741Z",
     "start_time": "2022-10-15T13:05:17.294839Z"
    }
   },
   "outputs": [],
   "source": [
    "# wordcloud\n",
    "import os\n",
    "\n",
    "from os import path\n",
    "from wordcloud import WordCloud"
   ]
  },
  {
   "cell_type": "code",
   "execution_count": 7,
   "id": "85dc1618",
   "metadata": {
    "ExecuteTime": {
     "end_time": "2022-10-15T13:05:17.546825Z",
     "start_time": "2022-10-15T13:05:17.544257Z"
    }
   },
   "outputs": [],
   "source": [
    "text = \"hello, how are you? i am arafat hossain. i am a student and learning NLP\""
   ]
  },
  {
   "cell_type": "code",
   "execution_count": 8,
   "id": "80204869",
   "metadata": {
    "ExecuteTime": {
     "end_time": "2022-10-15T13:05:17.986109Z",
     "start_time": "2022-10-15T13:05:17.548358Z"
    }
   },
   "outputs": [],
   "source": [
    "wordCloud = WordCloud().generate(text)"
   ]
  },
  {
   "cell_type": "code",
   "execution_count": 9,
   "id": "707849f6",
   "metadata": {
    "ExecuteTime": {
     "end_time": "2022-10-15T13:05:17.991026Z",
     "start_time": "2022-10-15T13:05:17.988015Z"
    }
   },
   "outputs": [
    {
     "data": {
      "text/plain": [
       "<wordcloud.wordcloud.WordCloud at 0x7f7c826c99a0>"
      ]
     },
     "execution_count": 9,
     "metadata": {},
     "output_type": "execute_result"
    }
   ],
   "source": [
    "wordCloud"
   ]
  },
  {
   "cell_type": "code",
   "execution_count": 10,
   "id": "ff80a818",
   "metadata": {
    "ExecuteTime": {
     "end_time": "2022-10-15T13:05:18.069065Z",
     "start_time": "2022-10-15T13:05:17.992703Z"
    }
   },
   "outputs": [
    {
     "data": {
      "text/plain": [
       "(-0.5, 399.5, 199.5, -0.5)"
      ]
     },
     "execution_count": 10,
     "metadata": {},
     "output_type": "execute_result"
    },
    {
     "data": {
      "image/png": "[encoded data removed]",
      "text/plain": [
       "<Figure size 432x288 with 1 Axes>"
      ]
     },
     "metadata": {
      "needs_background": "light"
     },
     "output_type": "display_data"
    }
   ],
   "source": [
    "import matplotlib.pyplot as plt\n",
    "plt.imshow(wordCloud, interpolation='bilinear')\n",
    "plt.axis(\"off\")"
   ]
  },
  {
   "cell_type": "code",
   "execution_count": null,
   "id": "03300dc9",
   "metadata": {
    "ExecuteTime": {
     "start_time": "2022-10-15T13:01:57.635Z"
    }
   },
   "outputs": [],
   "source": [
    " "
   ]
  },
  {
   "cell_type": "code",
   "execution_count": 11,
   "id": "fca840d0",
   "metadata": {
    "ExecuteTime": {
     "end_time": "2022-10-15T13:05:18.072940Z",
     "start_time": "2022-10-15T13:05:18.070566Z"
    }
   },
   "outputs": [],
   "source": [
    "res = wv['king'] - wv['man']+wv['queen']"
   ]
  },
  {
   "cell_type": "code",
   "execution_count": 12,
   "id": "65ff3a3e",
   "metadata": {
    "ExecuteTime": {
     "end_time": "2022-10-15T13:05:18.086463Z",
     "start_time": "2022-10-15T13:05:18.074225Z"
    }
   },
   "outputs": [
    {
     "data": {
      "text/plain": [
       "array([-0.19494629, -0.2446289 , -0.09539795,  0.3461914 ,  0.01635742,\n",
       "       -0.08374023,  0.23876953, -0.42193604, -0.28955078,  0.41699982,\n",
       "       -0.3466797 , -0.43359375,  0.01025391,  0.1256485 ,  0.06689453,\n",
       "       -0.09790039,  0.20507812, -0.10098267,  0.08251953,  0.32373047,\n",
       "        0.4580078 ,  0.24821472, -0.20288086,  0.28955078,  0.10253906,\n",
       "       -0.03857422, -0.48242188, -0.1081543 ,  0.15527344, -0.15270996,\n",
       "       -0.21386719, -0.20581055,  0.10595703,  0.63391113, -0.5810547 ,\n",
       "       -0.3017578 , -0.11279297,  0.39648438, -0.09619141,  0.03613281,\n",
       "        0.21411133, -0.6088867 ,  0.3408203 ,  0.12298584,  0.29492188,\n",
       "       -0.00195312, -0.03781128,  0.16821289,  0.15332031,  0.24481201,\n",
       "       -0.04626465,  0.13183594, -0.2626953 ,  0.17150879, -0.40771484,\n",
       "        0.02772522, -0.41064453, -0.1862793 ,  0.07617188, -0.10406494,\n",
       "        0.14550781,  0.41992188,  0.00299072,  0.2758789 ,  0.18359375,\n",
       "       -0.39794922, -0.07757568,  0.12207031, -0.43115234,  0.42651367,\n",
       "        0.19873047,  0.12451172, -0.11230469,  0.17626953, -0.01159668,\n",
       "        0.02636719,  0.0045166 ,  0.12103271,  0.25024414, -0.10375977,\n",
       "       -0.22241211,  0.20141602,  0.07495117,  0.09777832,  0.33374023,\n",
       "        0.09814453, -0.25585938,  0.1706543 ,  0.2763672 ,  0.19750977,\n",
       "        0.71972656, -0.33666992, -0.31237793, -0.19604492,  0.10693359,\n",
       "        0.13174438,  0.18054199, -0.11962891,  0.18017578, -0.07363892,\n",
       "        0.15930176,  0.06005859,  0.09033203, -0.4345703 , -0.8984375 ,\n",
       "        0.38330078, -1.2109375 , -0.08891869,  0.09545898, -0.06201172,\n",
       "        0.49536133,  0.37646484,  0.13684273,  0.02380371,  0.5290375 ,\n",
       "       -0.2911377 ,  0.24842834, -0.46166992,  0.28970337,  0.25976562,\n",
       "        0.2421875 , -0.01977539,  0.05554199, -0.30078125,  0.32739258,\n",
       "       -0.03179932,  0.00317383,  0.13049316, -0.18139648, -0.01977539,\n",
       "        0.1665039 ,  0.6689453 ,  0.2849121 ,  0.7918091 ,  0.17456055,\n",
       "        0.3703003 , -0.296875  ,  0.14477539,  0.4326172 , -0.11181641,\n",
       "        0.        , -0.55566406,  0.0949707 , -0.18017578,  0.45263672,\n",
       "       -0.35424805,  0.18621063,  0.078125  , -0.08984375,  0.1776123 ,\n",
       "       -0.20727539,  0.4658203 , -0.03369141, -0.35888672, -0.61499023,\n",
       "       -0.50146484, -0.14404297,  0.06420898,  0.203125  ,  0.07177734,\n",
       "       -0.04443359,  0.17779541,  0.671875  , -0.20980835, -0.10693359,\n",
       "       -0.11376953,  0.04785156, -0.36035156, -0.12527466,  0.45581055,\n",
       "       -0.3852539 ,  0.2265625 ,  0.75097656,  0.33666992,  0.04101562,\n",
       "       -0.24145508,  0.05441284,  0.01965332,  0.15539551,  0.20672607,\n",
       "       -0.5917969 ,  0.26782227, -0.3260498 , -0.09130859,  0.36813354,\n",
       "       -0.03271484,  0.46044922, -0.15942383, -0.05175781,  0.5161133 ,\n",
       "        0.03143311, -0.14526367, -0.22912598, -0.1359253 ,  0.04772949,\n",
       "        0.23498535,  0.253479  ,  0.09130859, -0.00244141, -0.6455078 ,\n",
       "       -0.01029968,  0.04199219,  0.1784668 , -0.16748047,  0.14709473,\n",
       "       -0.08544922,  0.09863281,  0.3203125 ,  0.16235352,  0.69433594,\n",
       "        0.16601562,  0.4189453 , -0.20898438, -0.60961914,  0.29589844,\n",
       "        0.18893433, -0.06026459, -0.5415039 ,  0.3154297 , -0.0524292 ,\n",
       "       -0.02124023,  0.08911133,  0.27929688, -0.08407593, -0.03991699,\n",
       "        0.14732361, -0.13769531, -0.27539062,  0.34960938,  0.5390625 ,\n",
       "       -0.53222656, -0.38671875, -0.7158203 , -0.07012939,  0.58154297,\n",
       "        0.0534668 ,  0.18041992, -0.05344391, -0.07360077, -0.27856445,\n",
       "        0.2705078 , -0.45715332,  0.33312225,  0.18591309,  0.2952881 ,\n",
       "       -0.11993408, -0.33935547,  0.18798828,  0.4724121 , -0.38793945,\n",
       "       -0.05688477,  0.05825806,  0.37597656,  0.2446289 ,  0.22070312,\n",
       "        0.07128906, -0.76660156, -0.17041016, -0.3251953 , -0.10241699,\n",
       "        0.09667969,  0.69140625, -0.4482422 ,  0.09375   , -0.30639648,\n",
       "       -0.21826172,  0.09838867,  0.3125    ,  0.7363281 ,  0.6699219 ,\n",
       "       -0.19726562,  0.45031738,  0.17822266,  0.23828125,  0.05743408,\n",
       "       -0.7109375 , -0.22753906,  0.07177734, -0.2919922 ,  0.46923828,\n",
       "        0.23339844, -0.17578125,  0.5415039 , -0.30444336,  0.5500488 ,\n",
       "       -0.26391602, -0.06567383, -0.0135498 , -0.04788208, -0.0534668 ,\n",
       "       -0.16455078, -0.43847656, -0.38671875, -0.5341797 , -0.02734375,\n",
       "       -0.1550293 , -0.02783203,  0.16992188,  0.33447266,  0.3852539 ],\n",
       "      dtype=float32)"
      ]
     },
     "execution_count": 12,
     "metadata": {},
     "output_type": "execute_result"
    }
   ],
   "source": [
    "res"
   ]
  },
  {
   "cell_type": "code",
   "execution_count": null,
   "id": "61466cbe",
   "metadata": {
    "ExecuteTime": {
     "start_time": "2022-10-15T13:05:26.950Z"
    }
   },
   "outputs": [],
   "source": [
    "# wv.most_similar([res])"
   ]
  },
  {
   "cell_type": "code",
   "execution_count": null,
   "id": "91bf55c6",
   "metadata": {},
   "outputs": [],
   "source": []
  }
 ],
 "metadata": {
  "kernelspec": {
   "display_name": "Python 3 (ipykernel)",
   "language": "python",
   "name": "python3"
  },
  "language_info": {
   "codemirror_mode": {
    "name": "ipython",
    "version": 3
   },
   "file_extension": ".py",
   "mimetype": "text/x-python",
   "name": "python",
   "nbconvert_exporter": "python",
   "pygments_lexer": "ipython3",
   "version": "3.9.12"
  },
  "varInspector": {
   "cols": {
    "lenName": 16,
    "lenType": 16,
    "lenVar": 40
   },
   "kernels_config": {
    "python": {
     "delete_cmd_postfix": "",
     "delete_cmd_prefix": "del ",
     "library": "var_list.py",
     "varRefreshCmd": "print(var_dic_list())"
    },
    "r": {
     "delete_cmd_postfix": ") ",
     "delete_cmd_prefix": "rm(",
     "library": "var_list.r",
     "varRefreshCmd": "cat(var_dic_list()) "
    }
   },
   "types_to_exclude": [
    "module",
    "function",
    "builtin_function_or_method",
    "instance",
    "_Feature"
   ],
   "window_display": false
  }
 },
 "nbformat": 4,
 "nbformat_minor": 5
}
